{
 "cells": [
  {
   "cell_type": "markdown",
   "metadata": {
    "toc": true
   },
   "source": [
    "<h1>Содержание<span class=\"tocSkip\"></span></h1>\n",
    "<div class=\"toc\"><ul class=\"toc-item\"><li><span><a href=\"#Введение\" data-toc-modified-id=\"Введение-1\"><span class=\"toc-item-num\">1&nbsp;&nbsp;</span>Введение</a></span><ul class=\"toc-item\"><li><span><a href=\"#Вывод\" data-toc-modified-id=\"Вывод-1.1\"><span class=\"toc-item-num\">1.1&nbsp;&nbsp;</span>Вывод</a></span></li></ul></li><li><span><a href=\"#Предобработка-данных\" data-toc-modified-id=\"Предобработка-данных-2\"><span class=\"toc-item-num\">2&nbsp;&nbsp;</span>Предобработка данных</a></span><ul class=\"toc-item\"><li><span><a href=\"#-Предобработка-calls-\" data-toc-modified-id=\"-Предобработка-calls--2.1\"><span class=\"toc-item-num\">2.1&nbsp;&nbsp;</span> Предобработка calls </a></span></li><li><span><a href=\"#-Предобработка-internet-\" data-toc-modified-id=\"-Предобработка-internet--2.2\"><span class=\"toc-item-num\">2.2&nbsp;&nbsp;</span> Предобработка internet </a></span></li><li><span><a href=\"#-Предобработка-messages-\" data-toc-modified-id=\"-Предобработка-messages--2.3\"><span class=\"toc-item-num\">2.3&nbsp;&nbsp;</span> Предобработка messages </a></span></li><li><span><a href=\"#-Объеденение-в-один-Dataframe-\" data-toc-modified-id=\"-Объеденение-в-один-Dataframe--2.4\"><span class=\"toc-item-num\">2.4&nbsp;&nbsp;</span> Объеденение в один Dataframe </a></span></li><li><span><a href=\"#-Обработка-пропусков-\" data-toc-modified-id=\"-Обработка-пропусков--2.5\"><span class=\"toc-item-num\">2.5&nbsp;&nbsp;</span> Обработка пропусков </a></span></li><li><span><a href=\"#-Высчитаем-оплату-за-месяц-\" data-toc-modified-id=\"-Высчитаем-оплату-за-месяц--2.6\"><span class=\"toc-item-num\">2.6&nbsp;&nbsp;</span> Высчитаем оплату за месяц </a></span></li><li><span><a href=\"#-Изменение-типа-данных-\" data-toc-modified-id=\"-Изменение-типа-данных--2.7\"><span class=\"toc-item-num\">2.7&nbsp;&nbsp;</span> Изменение типа данных </a></span></li><li><span><a href=\"#-Вывод-\" data-toc-modified-id=\"-Вывод--2.8\"><span class=\"toc-item-num\">2.8&nbsp;&nbsp;</span> Вывод </a></span></li></ul></li><li><span><a href=\"#Анализ-данных\" data-toc-modified-id=\"Анализ-данных-3\"><span class=\"toc-item-num\">3&nbsp;&nbsp;</span>Анализ данных</a></span><ul class=\"toc-item\"><li><span><a href=\"#-Разделение-на-тарифы-\" data-toc-modified-id=\"-Разделение-на-тарифы--3.1\"><span class=\"toc-item-num\">3.1&nbsp;&nbsp;</span> Разделение на тарифы </a></span></li><li><span><a href=\"#-Определение-среднего-количества,-дисперсии-и-стандартного-отклонения-\" data-toc-modified-id=\"-Определение-среднего-количества,-дисперсии-и-стандартного-отклонения--3.2\"><span class=\"toc-item-num\">3.2&nbsp;&nbsp;</span> Определение среднего количества, дисперсии и стандартного отклонения </a></span></li><li><span><a href=\"#-Гистограмма-по-кол-ву-минут\" data-toc-modified-id=\"-Гистограмма-по-кол-ву-минут-3.3\"><span class=\"toc-item-num\">3.3&nbsp;&nbsp;</span> Гистограмма по кол-ву минут</a></span></li><li><span><a href=\"#-Гистограмма-по-кол-ву-сообщений\" data-toc-modified-id=\"-Гистограмма-по-кол-ву-сообщений-3.4\"><span class=\"toc-item-num\">3.4&nbsp;&nbsp;</span> Гистограмма по кол-ву сообщений</a></span></li><li><span><a href=\"#-Гистограмма-по-кол-ву-Гб\" data-toc-modified-id=\"-Гистограмма-по-кол-ву-Гб-3.5\"><span class=\"toc-item-num\">3.5&nbsp;&nbsp;</span> Гистограмма по кол-ву Гб</a></span></li><li><span><a href=\"#-Графики-по-месяцам\" data-toc-modified-id=\"-Графики-по-месяцам-3.6\"><span class=\"toc-item-num\">3.6&nbsp;&nbsp;</span> Графики по месяцам</a></span></li></ul></li><li><span><a href=\"#Проверка-гипотез\" data-toc-modified-id=\"Проверка-гипотез-4\"><span class=\"toc-item-num\">4&nbsp;&nbsp;</span>Проверка гипотез</a></span><ul class=\"toc-item\"><li><span><a href=\"#Провер-rf-гипотезы:-средняя-выручка-пользователей-тарифов-«Ультра»-и-«Смарт»-различаются\" data-toc-modified-id=\"Провер-rf-гипотезы:-средняя-выручка-пользователей-тарифов-«Ультра»-и-«Смарт»-различаются-4.1\"><span class=\"toc-item-num\">4.1&nbsp;&nbsp;</span>Провер rf гипотезы: средняя выручка пользователей тарифов «Ультра» и «Смарт» различаются</a></span></li><li><span><a href=\"#Проверка-Гипотезы-средняя-выручка-пользователей-из-Москвы-отличается-от-выручки-пользователей-из-других-регионов\" data-toc-modified-id=\"Проверка-Гипотезы-средняя-выручка-пользователей-из-Москвы-отличается-от-выручки-пользователей-из-других-регионов-4.2\"><span class=\"toc-item-num\">4.2&nbsp;&nbsp;</span>Проверка Гипотезы средняя выручка пользователей из Москвы отличается от выручки пользователей из других регионов</a></span></li></ul></li><li><span><a href=\"#Вывод\" data-toc-modified-id=\"Вывод-5\"><span class=\"toc-item-num\">5&nbsp;&nbsp;</span>Вывод</a></span></li></ul></div>"
   ]
  },
  {
   "cell_type": "markdown",
   "metadata": {},
   "source": [
    "## Введение\n",
    "Нам предоставлены данные 500 пользователей «Мегалайна»: кто они, откуда, каким тарифом пользуются, сколько звонков и сообщений каждый отправил за 2018 год. Нужно проанализировать поведение клиентов и сделать вывод — какой тариф лучше.\n",
    "\n",
    "Клиентам предлагают два тарифных плана: «Смарт» и «Ультра». Чтобы скорректировать рекламный бюджет, коммерческий департамент хочет понять, какой тариф приносит больше денег.\n",
    "\n",
    "Нам предстоит сделать предварительный анализ тарифов на небольшой выборке клиентов. "
   ]
  },
  {
   "cell_type": "code",
   "execution_count": 1,
   "metadata": {},
   "outputs": [],
   "source": [
    "import pandas as pd \n",
    "from pymystem3 import Mystem\n",
    "m = Mystem() \n",
    "from datetime import datetime\n",
    "import numpy as np\n",
    "import seaborn as sb\n",
    "pd.set_option('display.max_columns', None)\n",
    "from scipy import stats as st\n",
    "import numpy as np\n",
    "import matplotlib.pyplot as plt"
   ]
  },
  {
   "cell_type": "code",
   "execution_count": 2,
   "metadata": {},
   "outputs": [],
   "source": [
    "calls = pd.read_csv('/datasets/calls.csv', parse_dates=['call_date'])\n",
    "internet = pd.read_csv('/datasets/internet.csv', parse_dates=['session_date'])\n",
    "messages = pd.read_csv('/datasets/messages.csv',parse_dates=['message_date'])\n",
    "tarrifs = pd.read_csv('/datasets/tariffs.csv')\n",
    "users = pd.read_csv('/datasets/users.csv', parse_dates=['churn_date','reg_date'])"
   ]
  },
  {
   "cell_type": "code",
   "execution_count": 3,
   "metadata": {
    "scrolled": true
   },
   "outputs": [
    {
     "data": {
      "text/html": [
       "<div>\n",
       "<style scoped>\n",
       "    .dataframe tbody tr th:only-of-type {\n",
       "        vertical-align: middle;\n",
       "    }\n",
       "\n",
       "    .dataframe tbody tr th {\n",
       "        vertical-align: top;\n",
       "    }\n",
       "\n",
       "    .dataframe thead th {\n",
       "        text-align: right;\n",
       "    }\n",
       "</style>\n",
       "<table border=\"1\" class=\"dataframe\">\n",
       "  <thead>\n",
       "    <tr style=\"text-align: right;\">\n",
       "      <th></th>\n",
       "      <th>id</th>\n",
       "      <th>call_date</th>\n",
       "      <th>duration</th>\n",
       "      <th>user_id</th>\n",
       "    </tr>\n",
       "  </thead>\n",
       "  <tbody>\n",
       "    <tr>\n",
       "      <td>158741</td>\n",
       "      <td>1392_406</td>\n",
       "      <td>2018-07-09</td>\n",
       "      <td>4.94</td>\n",
       "      <td>1392</td>\n",
       "    </tr>\n",
       "    <tr>\n",
       "      <td>95947</td>\n",
       "      <td>1244_202</td>\n",
       "      <td>2018-11-09</td>\n",
       "      <td>0.00</td>\n",
       "      <td>1244</td>\n",
       "    </tr>\n",
       "    <tr>\n",
       "      <td>10624</td>\n",
       "      <td>1027_494</td>\n",
       "      <td>2018-10-07</td>\n",
       "      <td>3.10</td>\n",
       "      <td>1027</td>\n",
       "    </tr>\n",
       "  </tbody>\n",
       "</table>\n",
       "</div>"
      ],
      "text/plain": [
       "              id  call_date  duration  user_id\n",
       "158741  1392_406 2018-07-09      4.94     1392\n",
       "95947   1244_202 2018-11-09      0.00     1244\n",
       "10624   1027_494 2018-10-07      3.10     1027"
      ]
     },
     "execution_count": 3,
     "metadata": {},
     "output_type": "execute_result"
    }
   ],
   "source": [
    "calls.sample(n = 3, random_state = 42)"
   ]
  },
  {
   "cell_type": "code",
   "execution_count": 4,
   "metadata": {},
   "outputs": [
    {
     "name": "stdout",
     "output_type": "stream",
     "text": [
      "<class 'pandas.core.frame.DataFrame'>\n",
      "RangeIndex: 202607 entries, 0 to 202606\n",
      "Data columns (total 4 columns):\n",
      "id           202607 non-null object\n",
      "call_date    202607 non-null datetime64[ns]\n",
      "duration     202607 non-null float64\n",
      "user_id      202607 non-null int64\n",
      "dtypes: datetime64[ns](1), float64(1), int64(1), object(1)\n",
      "memory usage: 6.2+ MB\n"
     ]
    }
   ],
   "source": [
    "calls.info()"
   ]
  },
  {
   "cell_type": "code",
   "execution_count": 5,
   "metadata": {},
   "outputs": [
    {
     "data": {
      "text/html": [
       "<div>\n",
       "<style scoped>\n",
       "    .dataframe tbody tr th:only-of-type {\n",
       "        vertical-align: middle;\n",
       "    }\n",
       "\n",
       "    .dataframe tbody tr th {\n",
       "        vertical-align: top;\n",
       "    }\n",
       "\n",
       "    .dataframe thead th {\n",
       "        text-align: right;\n",
       "    }\n",
       "</style>\n",
       "<table border=\"1\" class=\"dataframe\">\n",
       "  <thead>\n",
       "    <tr style=\"text-align: right;\">\n",
       "      <th></th>\n",
       "      <th>Unnamed: 0</th>\n",
       "      <th>id</th>\n",
       "      <th>mb_used</th>\n",
       "      <th>session_date</th>\n",
       "      <th>user_id</th>\n",
       "    </tr>\n",
       "  </thead>\n",
       "  <tbody>\n",
       "    <tr>\n",
       "      <td>31737</td>\n",
       "      <td>31737</td>\n",
       "      <td>1110_331</td>\n",
       "      <td>351.71</td>\n",
       "      <td>2018-09-04</td>\n",
       "      <td>1110</td>\n",
       "    </tr>\n",
       "    <tr>\n",
       "      <td>31333</td>\n",
       "      <td>31333</td>\n",
       "      <td>1109_399</td>\n",
       "      <td>257.69</td>\n",
       "      <td>2018-06-09</td>\n",
       "      <td>1109</td>\n",
       "    </tr>\n",
       "    <tr>\n",
       "      <td>61121</td>\n",
       "      <td>61121</td>\n",
       "      <td>1207_191</td>\n",
       "      <td>128.18</td>\n",
       "      <td>2018-11-05</td>\n",
       "      <td>1207</td>\n",
       "    </tr>\n",
       "  </tbody>\n",
       "</table>\n",
       "</div>"
      ],
      "text/plain": [
       "       Unnamed: 0        id  mb_used session_date  user_id\n",
       "31737       31737  1110_331   351.71   2018-09-04     1110\n",
       "31333       31333  1109_399   257.69   2018-06-09     1109\n",
       "61121       61121  1207_191   128.18   2018-11-05     1207"
      ]
     },
     "execution_count": 5,
     "metadata": {},
     "output_type": "execute_result"
    }
   ],
   "source": [
    "internet.sample(n = 3, random_state = 42)"
   ]
  },
  {
   "cell_type": "code",
   "execution_count": 6,
   "metadata": {
    "scrolled": true
   },
   "outputs": [
    {
     "name": "stdout",
     "output_type": "stream",
     "text": [
      "<class 'pandas.core.frame.DataFrame'>\n",
      "RangeIndex: 149396 entries, 0 to 149395\n",
      "Data columns (total 5 columns):\n",
      "Unnamed: 0      149396 non-null int64\n",
      "id              149396 non-null object\n",
      "mb_used         149396 non-null float64\n",
      "session_date    149396 non-null datetime64[ns]\n",
      "user_id         149396 non-null int64\n",
      "dtypes: datetime64[ns](1), float64(1), int64(2), object(1)\n",
      "memory usage: 5.7+ MB\n"
     ]
    }
   ],
   "source": [
    "internet.info()"
   ]
  },
  {
   "cell_type": "code",
   "execution_count": 7,
   "metadata": {
    "scrolled": false
   },
   "outputs": [
    {
     "data": {
      "text/html": [
       "<div>\n",
       "<style scoped>\n",
       "    .dataframe tbody tr th:only-of-type {\n",
       "        vertical-align: middle;\n",
       "    }\n",
       "\n",
       "    .dataframe tbody tr th {\n",
       "        vertical-align: top;\n",
       "    }\n",
       "\n",
       "    .dataframe thead th {\n",
       "        text-align: right;\n",
       "    }\n",
       "</style>\n",
       "<table border=\"1\" class=\"dataframe\">\n",
       "  <thead>\n",
       "    <tr style=\"text-align: right;\">\n",
       "      <th></th>\n",
       "      <th>id</th>\n",
       "      <th>message_date</th>\n",
       "      <th>user_id</th>\n",
       "    </tr>\n",
       "  </thead>\n",
       "  <tbody>\n",
       "    <tr>\n",
       "      <td>8581</td>\n",
       "      <td>1033_332</td>\n",
       "      <td>2018-11-08</td>\n",
       "      <td>1033</td>\n",
       "    </tr>\n",
       "    <tr>\n",
       "      <td>12476</td>\n",
       "      <td>1054_32</td>\n",
       "      <td>2018-08-10</td>\n",
       "      <td>1054</td>\n",
       "    </tr>\n",
       "    <tr>\n",
       "      <td>14805</td>\n",
       "      <td>1065_141</td>\n",
       "      <td>2018-05-29</td>\n",
       "      <td>1065</td>\n",
       "    </tr>\n",
       "  </tbody>\n",
       "</table>\n",
       "</div>"
      ],
      "text/plain": [
       "             id message_date  user_id\n",
       "8581   1033_332   2018-11-08     1033\n",
       "12476   1054_32   2018-08-10     1054\n",
       "14805  1065_141   2018-05-29     1065"
      ]
     },
     "execution_count": 7,
     "metadata": {},
     "output_type": "execute_result"
    }
   ],
   "source": [
    "messages.sample(n = 3, random_state = 42)"
   ]
  },
  {
   "cell_type": "code",
   "execution_count": 8,
   "metadata": {},
   "outputs": [
    {
     "name": "stdout",
     "output_type": "stream",
     "text": [
      "<class 'pandas.core.frame.DataFrame'>\n",
      "RangeIndex: 123036 entries, 0 to 123035\n",
      "Data columns (total 3 columns):\n",
      "id              123036 non-null object\n",
      "message_date    123036 non-null datetime64[ns]\n",
      "user_id         123036 non-null int64\n",
      "dtypes: datetime64[ns](1), int64(1), object(1)\n",
      "memory usage: 2.8+ MB\n"
     ]
    }
   ],
   "source": [
    "messages.info()"
   ]
  },
  {
   "cell_type": "code",
   "execution_count": 9,
   "metadata": {},
   "outputs": [
    {
     "data": {
      "text/html": [
       "<div>\n",
       "<style scoped>\n",
       "    .dataframe tbody tr th:only-of-type {\n",
       "        vertical-align: middle;\n",
       "    }\n",
       "\n",
       "    .dataframe tbody tr th {\n",
       "        vertical-align: top;\n",
       "    }\n",
       "\n",
       "    .dataframe thead th {\n",
       "        text-align: right;\n",
       "    }\n",
       "</style>\n",
       "<table border=\"1\" class=\"dataframe\">\n",
       "  <thead>\n",
       "    <tr style=\"text-align: right;\">\n",
       "      <th></th>\n",
       "      <th>messages_included</th>\n",
       "      <th>mb_per_month_included</th>\n",
       "      <th>minutes_included</th>\n",
       "      <th>rub_monthly_fee</th>\n",
       "      <th>rub_per_gb</th>\n",
       "      <th>rub_per_message</th>\n",
       "      <th>rub_per_minute</th>\n",
       "      <th>tariff_name</th>\n",
       "    </tr>\n",
       "  </thead>\n",
       "  <tbody>\n",
       "    <tr>\n",
       "      <td>0</td>\n",
       "      <td>50</td>\n",
       "      <td>15360</td>\n",
       "      <td>500</td>\n",
       "      <td>550</td>\n",
       "      <td>200</td>\n",
       "      <td>3</td>\n",
       "      <td>3</td>\n",
       "      <td>smart</td>\n",
       "    </tr>\n",
       "    <tr>\n",
       "      <td>1</td>\n",
       "      <td>1000</td>\n",
       "      <td>30720</td>\n",
       "      <td>3000</td>\n",
       "      <td>1950</td>\n",
       "      <td>150</td>\n",
       "      <td>1</td>\n",
       "      <td>1</td>\n",
       "      <td>ultra</td>\n",
       "    </tr>\n",
       "  </tbody>\n",
       "</table>\n",
       "</div>"
      ],
      "text/plain": [
       "   messages_included  mb_per_month_included  minutes_included  \\\n",
       "0                 50                  15360               500   \n",
       "1               1000                  30720              3000   \n",
       "\n",
       "   rub_monthly_fee  rub_per_gb  rub_per_message  rub_per_minute tariff_name  \n",
       "0              550         200                3               3       smart  \n",
       "1             1950         150                1               1       ultra  "
      ]
     },
     "execution_count": 9,
     "metadata": {},
     "output_type": "execute_result"
    }
   ],
   "source": [
    "tarrifs"
   ]
  },
  {
   "cell_type": "code",
   "execution_count": 10,
   "metadata": {
    "scrolled": true
   },
   "outputs": [
    {
     "data": {
      "text/plain": [
       "0"
      ]
     },
     "execution_count": 10,
     "metadata": {},
     "output_type": "execute_result"
    }
   ],
   "source": [
    "users.duplicated().sum()"
   ]
  },
  {
   "cell_type": "code",
   "execution_count": 11,
   "metadata": {},
   "outputs": [
    {
     "name": "stdout",
     "output_type": "stream",
     "text": [
      "<class 'pandas.core.frame.DataFrame'>\n",
      "RangeIndex: 500 entries, 0 to 499\n",
      "Data columns (total 8 columns):\n",
      "user_id       500 non-null int64\n",
      "age           500 non-null int64\n",
      "churn_date    38 non-null datetime64[ns]\n",
      "city          500 non-null object\n",
      "first_name    500 non-null object\n",
      "last_name     500 non-null object\n",
      "reg_date      500 non-null datetime64[ns]\n",
      "tariff        500 non-null object\n",
      "dtypes: datetime64[ns](2), int64(2), object(4)\n",
      "memory usage: 31.4+ KB\n"
     ]
    }
   ],
   "source": [
    "users.info()"
   ]
  },
  {
   "cell_type": "markdown",
   "metadata": {},
   "source": [
    "### Вывод\n",
    "\n",
    "Нам представлены 5 датасетов, в которых представлены действия пользователей тариф и информация пользователей. На первый взгляд все нормально: змеиный регистр, отстутствие лишних пробелов, отсутвтсие дубликатов и так далее"
   ]
  },
  {
   "cell_type": "markdown",
   "metadata": {},
   "source": [
    "## Предобработка данных"
   ]
  },
  {
   "cell_type": "markdown",
   "metadata": {},
   "source": [
    "Перед объеденением всех таблиц в одну, приведем все в порядок и с соответствием с заданием"
   ]
  },
  {
   "cell_type": "markdown",
   "metadata": {},
   "source": [
    "<h3> Предобработка calls </h3>"
   ]
  },
  {
   "cell_type": "markdown",
   "metadata": {},
   "source": [
    "Округлим звонки в большую сторону до минуты и сгрупируем все по месяцам. "
   ]
  },
  {
   "cell_type": "code",
   "execution_count": 12,
   "metadata": {
    "scrolled": true
   },
   "outputs": [
    {
     "data": {
      "text/html": [
       "<div>\n",
       "<style scoped>\n",
       "    .dataframe tbody tr th:only-of-type {\n",
       "        vertical-align: middle;\n",
       "    }\n",
       "\n",
       "    .dataframe tbody tr th {\n",
       "        vertical-align: top;\n",
       "    }\n",
       "\n",
       "    .dataframe thead th {\n",
       "        text-align: right;\n",
       "    }\n",
       "</style>\n",
       "<table border=\"1\" class=\"dataframe\">\n",
       "  <thead>\n",
       "    <tr style=\"text-align: right;\">\n",
       "      <th></th>\n",
       "      <th>id</th>\n",
       "      <th>call_date</th>\n",
       "      <th>duration</th>\n",
       "      <th>user_id</th>\n",
       "    </tr>\n",
       "  </thead>\n",
       "  <tbody>\n",
       "    <tr>\n",
       "      <td>0</td>\n",
       "      <td>1000_0</td>\n",
       "      <td>2018-07-25</td>\n",
       "      <td>0.00</td>\n",
       "      <td>1000</td>\n",
       "    </tr>\n",
       "    <tr>\n",
       "      <td>1</td>\n",
       "      <td>1000_1</td>\n",
       "      <td>2018-08-17</td>\n",
       "      <td>0.00</td>\n",
       "      <td>1000</td>\n",
       "    </tr>\n",
       "    <tr>\n",
       "      <td>2</td>\n",
       "      <td>1000_2</td>\n",
       "      <td>2018-06-11</td>\n",
       "      <td>2.85</td>\n",
       "      <td>1000</td>\n",
       "    </tr>\n",
       "    <tr>\n",
       "      <td>3</td>\n",
       "      <td>1000_3</td>\n",
       "      <td>2018-09-21</td>\n",
       "      <td>13.80</td>\n",
       "      <td>1000</td>\n",
       "    </tr>\n",
       "    <tr>\n",
       "      <td>4</td>\n",
       "      <td>1000_4</td>\n",
       "      <td>2018-12-15</td>\n",
       "      <td>5.18</td>\n",
       "      <td>1000</td>\n",
       "    </tr>\n",
       "  </tbody>\n",
       "</table>\n",
       "</div>"
      ],
      "text/plain": [
       "       id  call_date  duration  user_id\n",
       "0  1000_0 2018-07-25      0.00     1000\n",
       "1  1000_1 2018-08-17      0.00     1000\n",
       "2  1000_2 2018-06-11      2.85     1000\n",
       "3  1000_3 2018-09-21     13.80     1000\n",
       "4  1000_4 2018-12-15      5.18     1000"
      ]
     },
     "execution_count": 12,
     "metadata": {},
     "output_type": "execute_result"
    }
   ],
   "source": [
    "calls.head()"
   ]
  },
  {
   "cell_type": "code",
   "execution_count": 13,
   "metadata": {},
   "outputs": [],
   "source": [
    "calls['duration'] = np.ceil(calls['duration']).astype('uint16')# округляем в большую сторону и заменяем тип данных"
   ]
  },
  {
   "cell_type": "code",
   "execution_count": 14,
   "metadata": {
    "scrolled": true
   },
   "outputs": [
    {
     "data": {
      "text/html": [
       "<div>\n",
       "<style scoped>\n",
       "    .dataframe tbody tr th:only-of-type {\n",
       "        vertical-align: middle;\n",
       "    }\n",
       "\n",
       "    .dataframe tbody tr th {\n",
       "        vertical-align: top;\n",
       "    }\n",
       "\n",
       "    .dataframe thead th {\n",
       "        text-align: right;\n",
       "    }\n",
       "</style>\n",
       "<table border=\"1\" class=\"dataframe\">\n",
       "  <thead>\n",
       "    <tr style=\"text-align: right;\">\n",
       "      <th></th>\n",
       "      <th>id</th>\n",
       "      <th>call_date</th>\n",
       "      <th>duration</th>\n",
       "      <th>user_id</th>\n",
       "    </tr>\n",
       "  </thead>\n",
       "  <tbody>\n",
       "    <tr>\n",
       "      <td>0</td>\n",
       "      <td>1000_0</td>\n",
       "      <td>2018-07-25</td>\n",
       "      <td>0</td>\n",
       "      <td>1000</td>\n",
       "    </tr>\n",
       "    <tr>\n",
       "      <td>1</td>\n",
       "      <td>1000_1</td>\n",
       "      <td>2018-08-17</td>\n",
       "      <td>0</td>\n",
       "      <td>1000</td>\n",
       "    </tr>\n",
       "    <tr>\n",
       "      <td>2</td>\n",
       "      <td>1000_2</td>\n",
       "      <td>2018-06-11</td>\n",
       "      <td>3</td>\n",
       "      <td>1000</td>\n",
       "    </tr>\n",
       "    <tr>\n",
       "      <td>3</td>\n",
       "      <td>1000_3</td>\n",
       "      <td>2018-09-21</td>\n",
       "      <td>14</td>\n",
       "      <td>1000</td>\n",
       "    </tr>\n",
       "    <tr>\n",
       "      <td>4</td>\n",
       "      <td>1000_4</td>\n",
       "      <td>2018-12-15</td>\n",
       "      <td>6</td>\n",
       "      <td>1000</td>\n",
       "    </tr>\n",
       "  </tbody>\n",
       "</table>\n",
       "</div>"
      ],
      "text/plain": [
       "       id  call_date  duration  user_id\n",
       "0  1000_0 2018-07-25         0     1000\n",
       "1  1000_1 2018-08-17         0     1000\n",
       "2  1000_2 2018-06-11         3     1000\n",
       "3  1000_3 2018-09-21        14     1000\n",
       "4  1000_4 2018-12-15         6     1000"
      ]
     },
     "execution_count": 14,
     "metadata": {},
     "output_type": "execute_result"
    }
   ],
   "source": [
    "calls.head() # проверяем"
   ]
  },
  {
   "cell_type": "code",
   "execution_count": 15,
   "metadata": {},
   "outputs": [],
   "source": [
    "calls['month'] = calls['call_date'].dt.month #Добавляем столбец с месяцами"
   ]
  },
  {
   "cell_type": "code",
   "execution_count": 16,
   "metadata": {},
   "outputs": [
    {
     "data": {
      "text/html": [
       "<div>\n",
       "<style scoped>\n",
       "    .dataframe tbody tr th:only-of-type {\n",
       "        vertical-align: middle;\n",
       "    }\n",
       "\n",
       "    .dataframe tbody tr th {\n",
       "        vertical-align: top;\n",
       "    }\n",
       "\n",
       "    .dataframe thead th {\n",
       "        text-align: right;\n",
       "    }\n",
       "</style>\n",
       "<table border=\"1\" class=\"dataframe\">\n",
       "  <thead>\n",
       "    <tr style=\"text-align: right;\">\n",
       "      <th></th>\n",
       "      <th>id</th>\n",
       "      <th>call_date</th>\n",
       "      <th>duration</th>\n",
       "      <th>user_id</th>\n",
       "      <th>month</th>\n",
       "    </tr>\n",
       "  </thead>\n",
       "  <tbody>\n",
       "    <tr>\n",
       "      <td>0</td>\n",
       "      <td>1000_0</td>\n",
       "      <td>2018-07-25</td>\n",
       "      <td>0</td>\n",
       "      <td>1000</td>\n",
       "      <td>7</td>\n",
       "    </tr>\n",
       "    <tr>\n",
       "      <td>1</td>\n",
       "      <td>1000_1</td>\n",
       "      <td>2018-08-17</td>\n",
       "      <td>0</td>\n",
       "      <td>1000</td>\n",
       "      <td>8</td>\n",
       "    </tr>\n",
       "    <tr>\n",
       "      <td>2</td>\n",
       "      <td>1000_2</td>\n",
       "      <td>2018-06-11</td>\n",
       "      <td>3</td>\n",
       "      <td>1000</td>\n",
       "      <td>6</td>\n",
       "    </tr>\n",
       "    <tr>\n",
       "      <td>3</td>\n",
       "      <td>1000_3</td>\n",
       "      <td>2018-09-21</td>\n",
       "      <td>14</td>\n",
       "      <td>1000</td>\n",
       "      <td>9</td>\n",
       "    </tr>\n",
       "    <tr>\n",
       "      <td>4</td>\n",
       "      <td>1000_4</td>\n",
       "      <td>2018-12-15</td>\n",
       "      <td>6</td>\n",
       "      <td>1000</td>\n",
       "      <td>12</td>\n",
       "    </tr>\n",
       "  </tbody>\n",
       "</table>\n",
       "</div>"
      ],
      "text/plain": [
       "       id  call_date  duration  user_id  month\n",
       "0  1000_0 2018-07-25         0     1000      7\n",
       "1  1000_1 2018-08-17         0     1000      8\n",
       "2  1000_2 2018-06-11         3     1000      6\n",
       "3  1000_3 2018-09-21        14     1000      9\n",
       "4  1000_4 2018-12-15         6     1000     12"
      ]
     },
     "execution_count": 16,
     "metadata": {},
     "output_type": "execute_result"
    }
   ],
   "source": [
    "calls.head() # проверяем"
   ]
  },
  {
   "cell_type": "code",
   "execution_count": 17,
   "metadata": {},
   "outputs": [],
   "source": [
    "g_calls = calls.groupby(['user_id' ,'month'])['duration'].agg(['sum', 'count']).reset_index() #Суммируем по месяцам и групируем по польз. и месяцам\n",
    "g_calls.rename(columns={'sum': 'amount_min', 'count': 'amount_calls'}, inplace=True)\n"
   ]
  },
  {
   "cell_type": "code",
   "execution_count": 18,
   "metadata": {},
   "outputs": [
    {
     "data": {
      "text/html": [
       "<div>\n",
       "<style scoped>\n",
       "    .dataframe tbody tr th:only-of-type {\n",
       "        vertical-align: middle;\n",
       "    }\n",
       "\n",
       "    .dataframe tbody tr th {\n",
       "        vertical-align: top;\n",
       "    }\n",
       "\n",
       "    .dataframe thead th {\n",
       "        text-align: right;\n",
       "    }\n",
       "</style>\n",
       "<table border=\"1\" class=\"dataframe\">\n",
       "  <thead>\n",
       "    <tr style=\"text-align: right;\">\n",
       "      <th></th>\n",
       "      <th>user_id</th>\n",
       "      <th>month</th>\n",
       "      <th>amount_min</th>\n",
       "      <th>amount_calls</th>\n",
       "    </tr>\n",
       "  </thead>\n",
       "  <tbody>\n",
       "    <tr>\n",
       "      <td>0</td>\n",
       "      <td>1000</td>\n",
       "      <td>5</td>\n",
       "      <td>159</td>\n",
       "      <td>22</td>\n",
       "    </tr>\n",
       "    <tr>\n",
       "      <td>1</td>\n",
       "      <td>1000</td>\n",
       "      <td>6</td>\n",
       "      <td>172</td>\n",
       "      <td>43</td>\n",
       "    </tr>\n",
       "    <tr>\n",
       "      <td>2</td>\n",
       "      <td>1000</td>\n",
       "      <td>7</td>\n",
       "      <td>340</td>\n",
       "      <td>47</td>\n",
       "    </tr>\n",
       "    <tr>\n",
       "      <td>3</td>\n",
       "      <td>1000</td>\n",
       "      <td>8</td>\n",
       "      <td>408</td>\n",
       "      <td>52</td>\n",
       "    </tr>\n",
       "    <tr>\n",
       "      <td>4</td>\n",
       "      <td>1000</td>\n",
       "      <td>9</td>\n",
       "      <td>466</td>\n",
       "      <td>58</td>\n",
       "    </tr>\n",
       "  </tbody>\n",
       "</table>\n",
       "</div>"
      ],
      "text/plain": [
       "   user_id  month  amount_min  amount_calls\n",
       "0     1000      5         159            22\n",
       "1     1000      6         172            43\n",
       "2     1000      7         340            47\n",
       "3     1000      8         408            52\n",
       "4     1000      9         466            58"
      ]
     },
     "execution_count": 18,
     "metadata": {},
     "output_type": "execute_result"
    }
   ],
   "source": [
    "g_calls.head()"
   ]
  },
  {
   "cell_type": "markdown",
   "metadata": {},
   "source": [
    "Со звонками закончили переходим к интернету"
   ]
  },
  {
   "cell_type": "markdown",
   "metadata": {},
   "source": [
    "<h3> Предобработка internet </h3>"
   ]
  },
  {
   "cell_type": "code",
   "execution_count": 19,
   "metadata": {
    "scrolled": true
   },
   "outputs": [
    {
     "data": {
      "text/html": [
       "<div>\n",
       "<style scoped>\n",
       "    .dataframe tbody tr th:only-of-type {\n",
       "        vertical-align: middle;\n",
       "    }\n",
       "\n",
       "    .dataframe tbody tr th {\n",
       "        vertical-align: top;\n",
       "    }\n",
       "\n",
       "    .dataframe thead th {\n",
       "        text-align: right;\n",
       "    }\n",
       "</style>\n",
       "<table border=\"1\" class=\"dataframe\">\n",
       "  <thead>\n",
       "    <tr style=\"text-align: right;\">\n",
       "      <th></th>\n",
       "      <th>Unnamed: 0</th>\n",
       "      <th>id</th>\n",
       "      <th>mb_used</th>\n",
       "      <th>session_date</th>\n",
       "      <th>user_id</th>\n",
       "    </tr>\n",
       "  </thead>\n",
       "  <tbody>\n",
       "    <tr>\n",
       "      <td>0</td>\n",
       "      <td>0</td>\n",
       "      <td>1000_0</td>\n",
       "      <td>112.95</td>\n",
       "      <td>2018-11-25</td>\n",
       "      <td>1000</td>\n",
       "    </tr>\n",
       "    <tr>\n",
       "      <td>1</td>\n",
       "      <td>1</td>\n",
       "      <td>1000_1</td>\n",
       "      <td>1052.81</td>\n",
       "      <td>2018-09-07</td>\n",
       "      <td>1000</td>\n",
       "    </tr>\n",
       "    <tr>\n",
       "      <td>2</td>\n",
       "      <td>2</td>\n",
       "      <td>1000_2</td>\n",
       "      <td>1197.26</td>\n",
       "      <td>2018-06-25</td>\n",
       "      <td>1000</td>\n",
       "    </tr>\n",
       "    <tr>\n",
       "      <td>3</td>\n",
       "      <td>3</td>\n",
       "      <td>1000_3</td>\n",
       "      <td>550.27</td>\n",
       "      <td>2018-08-22</td>\n",
       "      <td>1000</td>\n",
       "    </tr>\n",
       "    <tr>\n",
       "      <td>4</td>\n",
       "      <td>4</td>\n",
       "      <td>1000_4</td>\n",
       "      <td>302.56</td>\n",
       "      <td>2018-09-24</td>\n",
       "      <td>1000</td>\n",
       "    </tr>\n",
       "    <tr>\n",
       "      <td>...</td>\n",
       "      <td>...</td>\n",
       "      <td>...</td>\n",
       "      <td>...</td>\n",
       "      <td>...</td>\n",
       "      <td>...</td>\n",
       "    </tr>\n",
       "    <tr>\n",
       "      <td>149391</td>\n",
       "      <td>149391</td>\n",
       "      <td>1499_152</td>\n",
       "      <td>318.90</td>\n",
       "      <td>2018-10-03</td>\n",
       "      <td>1499</td>\n",
       "    </tr>\n",
       "    <tr>\n",
       "      <td>149392</td>\n",
       "      <td>149392</td>\n",
       "      <td>1499_153</td>\n",
       "      <td>490.13</td>\n",
       "      <td>2018-12-14</td>\n",
       "      <td>1499</td>\n",
       "    </tr>\n",
       "    <tr>\n",
       "      <td>149393</td>\n",
       "      <td>149393</td>\n",
       "      <td>1499_154</td>\n",
       "      <td>0.00</td>\n",
       "      <td>2018-10-27</td>\n",
       "      <td>1499</td>\n",
       "    </tr>\n",
       "    <tr>\n",
       "      <td>149394</td>\n",
       "      <td>149394</td>\n",
       "      <td>1499_155</td>\n",
       "      <td>1246.32</td>\n",
       "      <td>2018-11-26</td>\n",
       "      <td>1499</td>\n",
       "    </tr>\n",
       "    <tr>\n",
       "      <td>149395</td>\n",
       "      <td>149395</td>\n",
       "      <td>1499_156</td>\n",
       "      <td>544.37</td>\n",
       "      <td>2018-10-26</td>\n",
       "      <td>1499</td>\n",
       "    </tr>\n",
       "  </tbody>\n",
       "</table>\n",
       "<p>149396 rows × 5 columns</p>\n",
       "</div>"
      ],
      "text/plain": [
       "        Unnamed: 0        id  mb_used session_date  user_id\n",
       "0                0    1000_0   112.95   2018-11-25     1000\n",
       "1                1    1000_1  1052.81   2018-09-07     1000\n",
       "2                2    1000_2  1197.26   2018-06-25     1000\n",
       "3                3    1000_3   550.27   2018-08-22     1000\n",
       "4                4    1000_4   302.56   2018-09-24     1000\n",
       "...            ...       ...      ...          ...      ...\n",
       "149391      149391  1499_152   318.90   2018-10-03     1499\n",
       "149392      149392  1499_153   490.13   2018-12-14     1499\n",
       "149393      149393  1499_154     0.00   2018-10-27     1499\n",
       "149394      149394  1499_155  1246.32   2018-11-26     1499\n",
       "149395      149395  1499_156   544.37   2018-10-26     1499\n",
       "\n",
       "[149396 rows x 5 columns]"
      ]
     },
     "execution_count": 19,
     "metadata": {},
     "output_type": "execute_result"
    }
   ],
   "source": [
    "internet"
   ]
  },
  {
   "cell_type": "code",
   "execution_count": 20,
   "metadata": {},
   "outputs": [],
   "source": [
    "internet['month'] = internet['session_date'].dt.month"
   ]
  },
  {
   "cell_type": "code",
   "execution_count": 21,
   "metadata": {
    "scrolled": true
   },
   "outputs": [
    {
     "data": {
      "text/html": [
       "<div>\n",
       "<style scoped>\n",
       "    .dataframe tbody tr th:only-of-type {\n",
       "        vertical-align: middle;\n",
       "    }\n",
       "\n",
       "    .dataframe tbody tr th {\n",
       "        vertical-align: top;\n",
       "    }\n",
       "\n",
       "    .dataframe thead th {\n",
       "        text-align: right;\n",
       "    }\n",
       "</style>\n",
       "<table border=\"1\" class=\"dataframe\">\n",
       "  <thead>\n",
       "    <tr style=\"text-align: right;\">\n",
       "      <th></th>\n",
       "      <th>Unnamed: 0</th>\n",
       "      <th>id</th>\n",
       "      <th>mb_used</th>\n",
       "      <th>session_date</th>\n",
       "      <th>user_id</th>\n",
       "      <th>month</th>\n",
       "    </tr>\n",
       "  </thead>\n",
       "  <tbody>\n",
       "    <tr>\n",
       "      <td>0</td>\n",
       "      <td>0</td>\n",
       "      <td>1000_0</td>\n",
       "      <td>112.95</td>\n",
       "      <td>2018-11-25</td>\n",
       "      <td>1000</td>\n",
       "      <td>11</td>\n",
       "    </tr>\n",
       "    <tr>\n",
       "      <td>1</td>\n",
       "      <td>1</td>\n",
       "      <td>1000_1</td>\n",
       "      <td>1052.81</td>\n",
       "      <td>2018-09-07</td>\n",
       "      <td>1000</td>\n",
       "      <td>9</td>\n",
       "    </tr>\n",
       "    <tr>\n",
       "      <td>2</td>\n",
       "      <td>2</td>\n",
       "      <td>1000_2</td>\n",
       "      <td>1197.26</td>\n",
       "      <td>2018-06-25</td>\n",
       "      <td>1000</td>\n",
       "      <td>6</td>\n",
       "    </tr>\n",
       "    <tr>\n",
       "      <td>3</td>\n",
       "      <td>3</td>\n",
       "      <td>1000_3</td>\n",
       "      <td>550.27</td>\n",
       "      <td>2018-08-22</td>\n",
       "      <td>1000</td>\n",
       "      <td>8</td>\n",
       "    </tr>\n",
       "    <tr>\n",
       "      <td>4</td>\n",
       "      <td>4</td>\n",
       "      <td>1000_4</td>\n",
       "      <td>302.56</td>\n",
       "      <td>2018-09-24</td>\n",
       "      <td>1000</td>\n",
       "      <td>9</td>\n",
       "    </tr>\n",
       "  </tbody>\n",
       "</table>\n",
       "</div>"
      ],
      "text/plain": [
       "   Unnamed: 0      id  mb_used session_date  user_id  month\n",
       "0           0  1000_0   112.95   2018-11-25     1000     11\n",
       "1           1  1000_1  1052.81   2018-09-07     1000      9\n",
       "2           2  1000_2  1197.26   2018-06-25     1000      6\n",
       "3           3  1000_3   550.27   2018-08-22     1000      8\n",
       "4           4  1000_4   302.56   2018-09-24     1000      9"
      ]
     },
     "execution_count": 21,
     "metadata": {},
     "output_type": "execute_result"
    }
   ],
   "source": [
    "internet.head()# Проверяем"
   ]
  },
  {
   "cell_type": "code",
   "execution_count": 22,
   "metadata": {
    "scrolled": true
   },
   "outputs": [
    {
     "data": {
      "text/html": [
       "<div>\n",
       "<style scoped>\n",
       "    .dataframe tbody tr th:only-of-type {\n",
       "        vertical-align: middle;\n",
       "    }\n",
       "\n",
       "    .dataframe tbody tr th {\n",
       "        vertical-align: top;\n",
       "    }\n",
       "\n",
       "    .dataframe thead th {\n",
       "        text-align: right;\n",
       "    }\n",
       "</style>\n",
       "<table border=\"1\" class=\"dataframe\">\n",
       "  <thead>\n",
       "    <tr style=\"text-align: right;\">\n",
       "      <th></th>\n",
       "      <th>Unnamed: 0</th>\n",
       "      <th>id</th>\n",
       "      <th>mb_used</th>\n",
       "      <th>session_date</th>\n",
       "      <th>user_id</th>\n",
       "      <th>month</th>\n",
       "    </tr>\n",
       "  </thead>\n",
       "  <tbody>\n",
       "    <tr>\n",
       "      <td>11</td>\n",
       "      <td>11</td>\n",
       "      <td>1000_11</td>\n",
       "      <td>0.0</td>\n",
       "      <td>2018-08-28</td>\n",
       "      <td>1000</td>\n",
       "      <td>8</td>\n",
       "    </tr>\n",
       "    <tr>\n",
       "      <td>38</td>\n",
       "      <td>38</td>\n",
       "      <td>1000_38</td>\n",
       "      <td>0.0</td>\n",
       "      <td>2018-11-27</td>\n",
       "      <td>1000</td>\n",
       "      <td>11</td>\n",
       "    </tr>\n",
       "    <tr>\n",
       "      <td>46</td>\n",
       "      <td>46</td>\n",
       "      <td>1000_46</td>\n",
       "      <td>0.0</td>\n",
       "      <td>2018-06-30</td>\n",
       "      <td>1000</td>\n",
       "      <td>6</td>\n",
       "    </tr>\n",
       "    <tr>\n",
       "      <td>67</td>\n",
       "      <td>67</td>\n",
       "      <td>1000_67</td>\n",
       "      <td>0.0</td>\n",
       "      <td>2018-06-16</td>\n",
       "      <td>1000</td>\n",
       "      <td>6</td>\n",
       "    </tr>\n",
       "    <tr>\n",
       "      <td>72</td>\n",
       "      <td>72</td>\n",
       "      <td>1000_72</td>\n",
       "      <td>0.0</td>\n",
       "      <td>2018-06-15</td>\n",
       "      <td>1000</td>\n",
       "      <td>6</td>\n",
       "    </tr>\n",
       "    <tr>\n",
       "      <td>...</td>\n",
       "      <td>...</td>\n",
       "      <td>...</td>\n",
       "      <td>...</td>\n",
       "      <td>...</td>\n",
       "      <td>...</td>\n",
       "      <td>...</td>\n",
       "    </tr>\n",
       "    <tr>\n",
       "      <td>149380</td>\n",
       "      <td>149380</td>\n",
       "      <td>1499_141</td>\n",
       "      <td>0.0</td>\n",
       "      <td>2018-12-11</td>\n",
       "      <td>1499</td>\n",
       "      <td>12</td>\n",
       "    </tr>\n",
       "    <tr>\n",
       "      <td>149381</td>\n",
       "      <td>149381</td>\n",
       "      <td>1499_142</td>\n",
       "      <td>0.0</td>\n",
       "      <td>2018-11-01</td>\n",
       "      <td>1499</td>\n",
       "      <td>11</td>\n",
       "    </tr>\n",
       "    <tr>\n",
       "      <td>149383</td>\n",
       "      <td>149383</td>\n",
       "      <td>1499_144</td>\n",
       "      <td>0.0</td>\n",
       "      <td>2018-11-27</td>\n",
       "      <td>1499</td>\n",
       "      <td>11</td>\n",
       "    </tr>\n",
       "    <tr>\n",
       "      <td>149386</td>\n",
       "      <td>149386</td>\n",
       "      <td>1499_147</td>\n",
       "      <td>0.0</td>\n",
       "      <td>2018-10-21</td>\n",
       "      <td>1499</td>\n",
       "      <td>10</td>\n",
       "    </tr>\n",
       "    <tr>\n",
       "      <td>149393</td>\n",
       "      <td>149393</td>\n",
       "      <td>1499_154</td>\n",
       "      <td>0.0</td>\n",
       "      <td>2018-10-27</td>\n",
       "      <td>1499</td>\n",
       "      <td>10</td>\n",
       "    </tr>\n",
       "  </tbody>\n",
       "</table>\n",
       "<p>19598 rows × 6 columns</p>\n",
       "</div>"
      ],
      "text/plain": [
       "        Unnamed: 0        id  mb_used session_date  user_id  month\n",
       "11              11   1000_11      0.0   2018-08-28     1000      8\n",
       "38              38   1000_38      0.0   2018-11-27     1000     11\n",
       "46              46   1000_46      0.0   2018-06-30     1000      6\n",
       "67              67   1000_67      0.0   2018-06-16     1000      6\n",
       "72              72   1000_72      0.0   2018-06-15     1000      6\n",
       "...            ...       ...      ...          ...      ...    ...\n",
       "149380      149380  1499_141      0.0   2018-12-11     1499     12\n",
       "149381      149381  1499_142      0.0   2018-11-01     1499     11\n",
       "149383      149383  1499_144      0.0   2018-11-27     1499     11\n",
       "149386      149386  1499_147      0.0   2018-10-21     1499     10\n",
       "149393      149393  1499_154      0.0   2018-10-27     1499     10\n",
       "\n",
       "[19598 rows x 6 columns]"
      ]
     },
     "execution_count": 22,
     "metadata": {},
     "output_type": "execute_result"
    }
   ],
   "source": [
    "internet[internet['mb_used'] == 0] # Ищем нулевые значения"
   ]
  },
  {
   "cell_type": "code",
   "execution_count": 23,
   "metadata": {},
   "outputs": [],
   "source": [
    "internet = internet.loc[(internet['mb_used']!=0)]"
   ]
  },
  {
   "cell_type": "code",
   "execution_count": 24,
   "metadata": {},
   "outputs": [
    {
     "data": {
      "text/html": [
       "<div>\n",
       "<style scoped>\n",
       "    .dataframe tbody tr th:only-of-type {\n",
       "        vertical-align: middle;\n",
       "    }\n",
       "\n",
       "    .dataframe tbody tr th {\n",
       "        vertical-align: top;\n",
       "    }\n",
       "\n",
       "    .dataframe thead th {\n",
       "        text-align: right;\n",
       "    }\n",
       "</style>\n",
       "<table border=\"1\" class=\"dataframe\">\n",
       "  <thead>\n",
       "    <tr style=\"text-align: right;\">\n",
       "      <th></th>\n",
       "      <th>Unnamed: 0</th>\n",
       "      <th>id</th>\n",
       "      <th>mb_used</th>\n",
       "      <th>session_date</th>\n",
       "      <th>user_id</th>\n",
       "      <th>month</th>\n",
       "    </tr>\n",
       "  </thead>\n",
       "  <tbody>\n",
       "    <tr>\n",
       "      <td>0</td>\n",
       "      <td>0</td>\n",
       "      <td>1000_0</td>\n",
       "      <td>112.95</td>\n",
       "      <td>2018-11-25</td>\n",
       "      <td>1000</td>\n",
       "      <td>11</td>\n",
       "    </tr>\n",
       "    <tr>\n",
       "      <td>1</td>\n",
       "      <td>1</td>\n",
       "      <td>1000_1</td>\n",
       "      <td>1052.81</td>\n",
       "      <td>2018-09-07</td>\n",
       "      <td>1000</td>\n",
       "      <td>9</td>\n",
       "    </tr>\n",
       "    <tr>\n",
       "      <td>2</td>\n",
       "      <td>2</td>\n",
       "      <td>1000_2</td>\n",
       "      <td>1197.26</td>\n",
       "      <td>2018-06-25</td>\n",
       "      <td>1000</td>\n",
       "      <td>6</td>\n",
       "    </tr>\n",
       "    <tr>\n",
       "      <td>3</td>\n",
       "      <td>3</td>\n",
       "      <td>1000_3</td>\n",
       "      <td>550.27</td>\n",
       "      <td>2018-08-22</td>\n",
       "      <td>1000</td>\n",
       "      <td>8</td>\n",
       "    </tr>\n",
       "    <tr>\n",
       "      <td>4</td>\n",
       "      <td>4</td>\n",
       "      <td>1000_4</td>\n",
       "      <td>302.56</td>\n",
       "      <td>2018-09-24</td>\n",
       "      <td>1000</td>\n",
       "      <td>9</td>\n",
       "    </tr>\n",
       "    <tr>\n",
       "      <td>...</td>\n",
       "      <td>...</td>\n",
       "      <td>...</td>\n",
       "      <td>...</td>\n",
       "      <td>...</td>\n",
       "      <td>...</td>\n",
       "      <td>...</td>\n",
       "    </tr>\n",
       "    <tr>\n",
       "      <td>149390</td>\n",
       "      <td>149390</td>\n",
       "      <td>1499_151</td>\n",
       "      <td>752.72</td>\n",
       "      <td>2018-10-11</td>\n",
       "      <td>1499</td>\n",
       "      <td>10</td>\n",
       "    </tr>\n",
       "    <tr>\n",
       "      <td>149391</td>\n",
       "      <td>149391</td>\n",
       "      <td>1499_152</td>\n",
       "      <td>318.90</td>\n",
       "      <td>2018-10-03</td>\n",
       "      <td>1499</td>\n",
       "      <td>10</td>\n",
       "    </tr>\n",
       "    <tr>\n",
       "      <td>149392</td>\n",
       "      <td>149392</td>\n",
       "      <td>1499_153</td>\n",
       "      <td>490.13</td>\n",
       "      <td>2018-12-14</td>\n",
       "      <td>1499</td>\n",
       "      <td>12</td>\n",
       "    </tr>\n",
       "    <tr>\n",
       "      <td>149394</td>\n",
       "      <td>149394</td>\n",
       "      <td>1499_155</td>\n",
       "      <td>1246.32</td>\n",
       "      <td>2018-11-26</td>\n",
       "      <td>1499</td>\n",
       "      <td>11</td>\n",
       "    </tr>\n",
       "    <tr>\n",
       "      <td>149395</td>\n",
       "      <td>149395</td>\n",
       "      <td>1499_156</td>\n",
       "      <td>544.37</td>\n",
       "      <td>2018-10-26</td>\n",
       "      <td>1499</td>\n",
       "      <td>10</td>\n",
       "    </tr>\n",
       "  </tbody>\n",
       "</table>\n",
       "<p>129798 rows × 6 columns</p>\n",
       "</div>"
      ],
      "text/plain": [
       "        Unnamed: 0        id  mb_used session_date  user_id  month\n",
       "0                0    1000_0   112.95   2018-11-25     1000     11\n",
       "1                1    1000_1  1052.81   2018-09-07     1000      9\n",
       "2                2    1000_2  1197.26   2018-06-25     1000      6\n",
       "3                3    1000_3   550.27   2018-08-22     1000      8\n",
       "4                4    1000_4   302.56   2018-09-24     1000      9\n",
       "...            ...       ...      ...          ...      ...    ...\n",
       "149390      149390  1499_151   752.72   2018-10-11     1499     10\n",
       "149391      149391  1499_152   318.90   2018-10-03     1499     10\n",
       "149392      149392  1499_153   490.13   2018-12-14     1499     12\n",
       "149394      149394  1499_155  1246.32   2018-11-26     1499     11\n",
       "149395      149395  1499_156   544.37   2018-10-26     1499     10\n",
       "\n",
       "[129798 rows x 6 columns]"
      ]
     },
     "execution_count": 24,
     "metadata": {},
     "output_type": "execute_result"
    }
   ],
   "source": [
    "internet"
   ]
  },
  {
   "cell_type": "markdown",
   "metadata": {},
   "source": [
    "Мини вывод по пропущенным значениям в интернет сессиях\n",
    "1. Израсходовано меньше одного Мб и округляется автоматически до 0 или сессия была очень быстрой 1 сек или меньше\n",
    "2. Клиент мог запустить приложение телефонкампании на устрйостве, а работа в них как правило не считается за использование интернет трафика."
   ]
  },
  {
   "cell_type": "code",
   "execution_count": 25,
   "metadata": {
    "scrolled": true
   },
   "outputs": [],
   "source": [
    "g_int = internet.groupby(['user_id' ,'month'])['mb_used'].sum().reset_index()\n",
    "g_int.rename(columns={'mb_used': 'total_gb_used'}, inplace=True)"
   ]
  },
  {
   "cell_type": "code",
   "execution_count": 26,
   "metadata": {
    "scrolled": false
   },
   "outputs": [
    {
     "data": {
      "text/html": [
       "<div>\n",
       "<style scoped>\n",
       "    .dataframe tbody tr th:only-of-type {\n",
       "        vertical-align: middle;\n",
       "    }\n",
       "\n",
       "    .dataframe tbody tr th {\n",
       "        vertical-align: top;\n",
       "    }\n",
       "\n",
       "    .dataframe thead th {\n",
       "        text-align: right;\n",
       "    }\n",
       "</style>\n",
       "<table border=\"1\" class=\"dataframe\">\n",
       "  <thead>\n",
       "    <tr style=\"text-align: right;\">\n",
       "      <th></th>\n",
       "      <th>user_id</th>\n",
       "      <th>month</th>\n",
       "      <th>total_gb_used</th>\n",
       "    </tr>\n",
       "  </thead>\n",
       "  <tbody>\n",
       "    <tr>\n",
       "      <td>0</td>\n",
       "      <td>1000</td>\n",
       "      <td>5</td>\n",
       "      <td>2253.49</td>\n",
       "    </tr>\n",
       "    <tr>\n",
       "      <td>1</td>\n",
       "      <td>1000</td>\n",
       "      <td>6</td>\n",
       "      <td>23233.77</td>\n",
       "    </tr>\n",
       "    <tr>\n",
       "      <td>2</td>\n",
       "      <td>1000</td>\n",
       "      <td>7</td>\n",
       "      <td>14003.64</td>\n",
       "    </tr>\n",
       "    <tr>\n",
       "      <td>3</td>\n",
       "      <td>1000</td>\n",
       "      <td>8</td>\n",
       "      <td>14055.93</td>\n",
       "    </tr>\n",
       "    <tr>\n",
       "      <td>4</td>\n",
       "      <td>1000</td>\n",
       "      <td>9</td>\n",
       "      <td>14568.91</td>\n",
       "    </tr>\n",
       "  </tbody>\n",
       "</table>\n",
       "</div>"
      ],
      "text/plain": [
       "   user_id  month  total_gb_used\n",
       "0     1000      5        2253.49\n",
       "1     1000      6       23233.77\n",
       "2     1000      7       14003.64\n",
       "3     1000      8       14055.93\n",
       "4     1000      9       14568.91"
      ]
     },
     "execution_count": 26,
     "metadata": {},
     "output_type": "execute_result"
    }
   ],
   "source": [
    "g_int.head()# Проверяем"
   ]
  },
  {
   "cell_type": "markdown",
   "metadata": {},
   "source": [
    "Разделим Мб на 1024 чтобы плучить Гб и потом округлить в большую сторону. (Хорошо что в задании обговорено, что нужно делить на 1024, а то иногда делят и на просто 1000)"
   ]
  },
  {
   "cell_type": "code",
   "execution_count": 27,
   "metadata": {
    "scrolled": true
   },
   "outputs": [],
   "source": [
    "g_int['total_gb_used'] = g_int['total_gb_used'] / 1024"
   ]
  },
  {
   "cell_type": "code",
   "execution_count": 28,
   "metadata": {},
   "outputs": [],
   "source": [
    "g_int['total_gb_used'] = np.ceil(g_int['total_gb_used']).astype('int16')"
   ]
  },
  {
   "cell_type": "code",
   "execution_count": 29,
   "metadata": {},
   "outputs": [
    {
     "data": {
      "text/html": [
       "<div>\n",
       "<style scoped>\n",
       "    .dataframe tbody tr th:only-of-type {\n",
       "        vertical-align: middle;\n",
       "    }\n",
       "\n",
       "    .dataframe tbody tr th {\n",
       "        vertical-align: top;\n",
       "    }\n",
       "\n",
       "    .dataframe thead th {\n",
       "        text-align: right;\n",
       "    }\n",
       "</style>\n",
       "<table border=\"1\" class=\"dataframe\">\n",
       "  <thead>\n",
       "    <tr style=\"text-align: right;\">\n",
       "      <th></th>\n",
       "      <th>user_id</th>\n",
       "      <th>month</th>\n",
       "      <th>total_gb_used</th>\n",
       "    </tr>\n",
       "  </thead>\n",
       "  <tbody>\n",
       "    <tr>\n",
       "      <td>0</td>\n",
       "      <td>1000</td>\n",
       "      <td>5</td>\n",
       "      <td>3</td>\n",
       "    </tr>\n",
       "    <tr>\n",
       "      <td>1</td>\n",
       "      <td>1000</td>\n",
       "      <td>6</td>\n",
       "      <td>23</td>\n",
       "    </tr>\n",
       "    <tr>\n",
       "      <td>2</td>\n",
       "      <td>1000</td>\n",
       "      <td>7</td>\n",
       "      <td>14</td>\n",
       "    </tr>\n",
       "    <tr>\n",
       "      <td>3</td>\n",
       "      <td>1000</td>\n",
       "      <td>8</td>\n",
       "      <td>14</td>\n",
       "    </tr>\n",
       "    <tr>\n",
       "      <td>4</td>\n",
       "      <td>1000</td>\n",
       "      <td>9</td>\n",
       "      <td>15</td>\n",
       "    </tr>\n",
       "    <tr>\n",
       "      <td>...</td>\n",
       "      <td>...</td>\n",
       "      <td>...</td>\n",
       "      <td>...</td>\n",
       "    </tr>\n",
       "    <tr>\n",
       "      <td>3196</td>\n",
       "      <td>1498</td>\n",
       "      <td>10</td>\n",
       "      <td>21</td>\n",
       "    </tr>\n",
       "    <tr>\n",
       "      <td>3197</td>\n",
       "      <td>1499</td>\n",
       "      <td>9</td>\n",
       "      <td>2</td>\n",
       "    </tr>\n",
       "    <tr>\n",
       "      <td>3198</td>\n",
       "      <td>1499</td>\n",
       "      <td>10</td>\n",
       "      <td>18</td>\n",
       "    </tr>\n",
       "    <tr>\n",
       "      <td>3199</td>\n",
       "      <td>1499</td>\n",
       "      <td>11</td>\n",
       "      <td>18</td>\n",
       "    </tr>\n",
       "    <tr>\n",
       "      <td>3200</td>\n",
       "      <td>1499</td>\n",
       "      <td>12</td>\n",
       "      <td>13</td>\n",
       "    </tr>\n",
       "  </tbody>\n",
       "</table>\n",
       "<p>3201 rows × 3 columns</p>\n",
       "</div>"
      ],
      "text/plain": [
       "      user_id  month  total_gb_used\n",
       "0        1000      5              3\n",
       "1        1000      6             23\n",
       "2        1000      7             14\n",
       "3        1000      8             14\n",
       "4        1000      9             15\n",
       "...       ...    ...            ...\n",
       "3196     1498     10             21\n",
       "3197     1499      9              2\n",
       "3198     1499     10             18\n",
       "3199     1499     11             18\n",
       "3200     1499     12             13\n",
       "\n",
       "[3201 rows x 3 columns]"
      ]
     },
     "execution_count": 29,
     "metadata": {},
     "output_type": "execute_result"
    }
   ],
   "source": [
    "g_int# Проверяем"
   ]
  },
  {
   "cell_type": "markdown",
   "metadata": {},
   "source": [
    "<h3> Предобработка messages </h3>"
   ]
  },
  {
   "cell_type": "code",
   "execution_count": 30,
   "metadata": {
    "scrolled": false
   },
   "outputs": [
    {
     "data": {
      "text/html": [
       "<div>\n",
       "<style scoped>\n",
       "    .dataframe tbody tr th:only-of-type {\n",
       "        vertical-align: middle;\n",
       "    }\n",
       "\n",
       "    .dataframe tbody tr th {\n",
       "        vertical-align: top;\n",
       "    }\n",
       "\n",
       "    .dataframe thead th {\n",
       "        text-align: right;\n",
       "    }\n",
       "</style>\n",
       "<table border=\"1\" class=\"dataframe\">\n",
       "  <thead>\n",
       "    <tr style=\"text-align: right;\">\n",
       "      <th></th>\n",
       "      <th>id</th>\n",
       "      <th>message_date</th>\n",
       "      <th>user_id</th>\n",
       "    </tr>\n",
       "  </thead>\n",
       "  <tbody>\n",
       "    <tr>\n",
       "      <td>0</td>\n",
       "      <td>1000_0</td>\n",
       "      <td>2018-06-27</td>\n",
       "      <td>1000</td>\n",
       "    </tr>\n",
       "    <tr>\n",
       "      <td>1</td>\n",
       "      <td>1000_1</td>\n",
       "      <td>2018-10-08</td>\n",
       "      <td>1000</td>\n",
       "    </tr>\n",
       "    <tr>\n",
       "      <td>2</td>\n",
       "      <td>1000_2</td>\n",
       "      <td>2018-08-04</td>\n",
       "      <td>1000</td>\n",
       "    </tr>\n",
       "    <tr>\n",
       "      <td>3</td>\n",
       "      <td>1000_3</td>\n",
       "      <td>2018-06-16</td>\n",
       "      <td>1000</td>\n",
       "    </tr>\n",
       "    <tr>\n",
       "      <td>4</td>\n",
       "      <td>1000_4</td>\n",
       "      <td>2018-12-05</td>\n",
       "      <td>1000</td>\n",
       "    </tr>\n",
       "  </tbody>\n",
       "</table>\n",
       "</div>"
      ],
      "text/plain": [
       "       id message_date  user_id\n",
       "0  1000_0   2018-06-27     1000\n",
       "1  1000_1   2018-10-08     1000\n",
       "2  1000_2   2018-08-04     1000\n",
       "3  1000_3   2018-06-16     1000\n",
       "4  1000_4   2018-12-05     1000"
      ]
     },
     "execution_count": 30,
     "metadata": {},
     "output_type": "execute_result"
    }
   ],
   "source": [
    "messages.head()"
   ]
  },
  {
   "cell_type": "code",
   "execution_count": 31,
   "metadata": {},
   "outputs": [],
   "source": [
    "messages['month'] = messages['message_date'].dt.month"
   ]
  },
  {
   "cell_type": "code",
   "execution_count": 32,
   "metadata": {},
   "outputs": [
    {
     "data": {
      "text/html": [
       "<div>\n",
       "<style scoped>\n",
       "    .dataframe tbody tr th:only-of-type {\n",
       "        vertical-align: middle;\n",
       "    }\n",
       "\n",
       "    .dataframe tbody tr th {\n",
       "        vertical-align: top;\n",
       "    }\n",
       "\n",
       "    .dataframe thead th {\n",
       "        text-align: right;\n",
       "    }\n",
       "</style>\n",
       "<table border=\"1\" class=\"dataframe\">\n",
       "  <thead>\n",
       "    <tr style=\"text-align: right;\">\n",
       "      <th></th>\n",
       "      <th>id</th>\n",
       "      <th>message_date</th>\n",
       "      <th>user_id</th>\n",
       "      <th>month</th>\n",
       "    </tr>\n",
       "  </thead>\n",
       "  <tbody>\n",
       "    <tr>\n",
       "      <td>0</td>\n",
       "      <td>1000_0</td>\n",
       "      <td>2018-06-27</td>\n",
       "      <td>1000</td>\n",
       "      <td>6</td>\n",
       "    </tr>\n",
       "    <tr>\n",
       "      <td>1</td>\n",
       "      <td>1000_1</td>\n",
       "      <td>2018-10-08</td>\n",
       "      <td>1000</td>\n",
       "      <td>10</td>\n",
       "    </tr>\n",
       "    <tr>\n",
       "      <td>2</td>\n",
       "      <td>1000_2</td>\n",
       "      <td>2018-08-04</td>\n",
       "      <td>1000</td>\n",
       "      <td>8</td>\n",
       "    </tr>\n",
       "    <tr>\n",
       "      <td>3</td>\n",
       "      <td>1000_3</td>\n",
       "      <td>2018-06-16</td>\n",
       "      <td>1000</td>\n",
       "      <td>6</td>\n",
       "    </tr>\n",
       "    <tr>\n",
       "      <td>4</td>\n",
       "      <td>1000_4</td>\n",
       "      <td>2018-12-05</td>\n",
       "      <td>1000</td>\n",
       "      <td>12</td>\n",
       "    </tr>\n",
       "    <tr>\n",
       "      <td>...</td>\n",
       "      <td>...</td>\n",
       "      <td>...</td>\n",
       "      <td>...</td>\n",
       "      <td>...</td>\n",
       "    </tr>\n",
       "    <tr>\n",
       "      <td>123031</td>\n",
       "      <td>1499_179</td>\n",
       "      <td>2018-12-12</td>\n",
       "      <td>1499</td>\n",
       "      <td>12</td>\n",
       "    </tr>\n",
       "    <tr>\n",
       "      <td>123032</td>\n",
       "      <td>1499_180</td>\n",
       "      <td>2018-09-28</td>\n",
       "      <td>1499</td>\n",
       "      <td>9</td>\n",
       "    </tr>\n",
       "    <tr>\n",
       "      <td>123033</td>\n",
       "      <td>1499_181</td>\n",
       "      <td>2018-09-27</td>\n",
       "      <td>1499</td>\n",
       "      <td>9</td>\n",
       "    </tr>\n",
       "    <tr>\n",
       "      <td>123034</td>\n",
       "      <td>1499_182</td>\n",
       "      <td>2018-11-15</td>\n",
       "      <td>1499</td>\n",
       "      <td>11</td>\n",
       "    </tr>\n",
       "    <tr>\n",
       "      <td>123035</td>\n",
       "      <td>1499_183</td>\n",
       "      <td>2018-11-16</td>\n",
       "      <td>1499</td>\n",
       "      <td>11</td>\n",
       "    </tr>\n",
       "  </tbody>\n",
       "</table>\n",
       "<p>123036 rows × 4 columns</p>\n",
       "</div>"
      ],
      "text/plain": [
       "              id message_date  user_id  month\n",
       "0         1000_0   2018-06-27     1000      6\n",
       "1         1000_1   2018-10-08     1000     10\n",
       "2         1000_2   2018-08-04     1000      8\n",
       "3         1000_3   2018-06-16     1000      6\n",
       "4         1000_4   2018-12-05     1000     12\n",
       "...          ...          ...      ...    ...\n",
       "123031  1499_179   2018-12-12     1499     12\n",
       "123032  1499_180   2018-09-28     1499      9\n",
       "123033  1499_181   2018-09-27     1499      9\n",
       "123034  1499_182   2018-11-15     1499     11\n",
       "123035  1499_183   2018-11-16     1499     11\n",
       "\n",
       "[123036 rows x 4 columns]"
      ]
     },
     "execution_count": 32,
     "metadata": {},
     "output_type": "execute_result"
    }
   ],
   "source": [
    "messages # Проверяем"
   ]
  },
  {
   "cell_type": "code",
   "execution_count": 33,
   "metadata": {},
   "outputs": [],
   "source": [
    "g_mes = messages.groupby(['user_id','month'])['id'].count().reset_index()\n",
    "g_mes.rename(columns={'id': 'amount_mes'}, inplace=True)"
   ]
  },
  {
   "cell_type": "code",
   "execution_count": 34,
   "metadata": {
    "scrolled": true
   },
   "outputs": [
    {
     "data": {
      "text/html": [
       "<div>\n",
       "<style scoped>\n",
       "    .dataframe tbody tr th:only-of-type {\n",
       "        vertical-align: middle;\n",
       "    }\n",
       "\n",
       "    .dataframe tbody tr th {\n",
       "        vertical-align: top;\n",
       "    }\n",
       "\n",
       "    .dataframe thead th {\n",
       "        text-align: right;\n",
       "    }\n",
       "</style>\n",
       "<table border=\"1\" class=\"dataframe\">\n",
       "  <thead>\n",
       "    <tr style=\"text-align: right;\">\n",
       "      <th></th>\n",
       "      <th>user_id</th>\n",
       "      <th>month</th>\n",
       "      <th>amount_mes</th>\n",
       "    </tr>\n",
       "  </thead>\n",
       "  <tbody>\n",
       "    <tr>\n",
       "      <td>0</td>\n",
       "      <td>1000</td>\n",
       "      <td>5</td>\n",
       "      <td>22</td>\n",
       "    </tr>\n",
       "    <tr>\n",
       "      <td>1</td>\n",
       "      <td>1000</td>\n",
       "      <td>6</td>\n",
       "      <td>60</td>\n",
       "    </tr>\n",
       "    <tr>\n",
       "      <td>2</td>\n",
       "      <td>1000</td>\n",
       "      <td>7</td>\n",
       "      <td>75</td>\n",
       "    </tr>\n",
       "    <tr>\n",
       "      <td>3</td>\n",
       "      <td>1000</td>\n",
       "      <td>8</td>\n",
       "      <td>81</td>\n",
       "    </tr>\n",
       "    <tr>\n",
       "      <td>4</td>\n",
       "      <td>1000</td>\n",
       "      <td>9</td>\n",
       "      <td>57</td>\n",
       "    </tr>\n",
       "    <tr>\n",
       "      <td>...</td>\n",
       "      <td>...</td>\n",
       "      <td>...</td>\n",
       "      <td>...</td>\n",
       "    </tr>\n",
       "    <tr>\n",
       "      <td>2712</td>\n",
       "      <td>1498</td>\n",
       "      <td>10</td>\n",
       "      <td>42</td>\n",
       "    </tr>\n",
       "    <tr>\n",
       "      <td>2713</td>\n",
       "      <td>1499</td>\n",
       "      <td>9</td>\n",
       "      <td>11</td>\n",
       "    </tr>\n",
       "    <tr>\n",
       "      <td>2714</td>\n",
       "      <td>1499</td>\n",
       "      <td>10</td>\n",
       "      <td>48</td>\n",
       "    </tr>\n",
       "    <tr>\n",
       "      <td>2715</td>\n",
       "      <td>1499</td>\n",
       "      <td>11</td>\n",
       "      <td>59</td>\n",
       "    </tr>\n",
       "    <tr>\n",
       "      <td>2716</td>\n",
       "      <td>1499</td>\n",
       "      <td>12</td>\n",
       "      <td>66</td>\n",
       "    </tr>\n",
       "  </tbody>\n",
       "</table>\n",
       "<p>2717 rows × 3 columns</p>\n",
       "</div>"
      ],
      "text/plain": [
       "      user_id  month  amount_mes\n",
       "0        1000      5          22\n",
       "1        1000      6          60\n",
       "2        1000      7          75\n",
       "3        1000      8          81\n",
       "4        1000      9          57\n",
       "...       ...    ...         ...\n",
       "2712     1498     10          42\n",
       "2713     1499      9          11\n",
       "2714     1499     10          48\n",
       "2715     1499     11          59\n",
       "2716     1499     12          66\n",
       "\n",
       "[2717 rows x 3 columns]"
      ]
     },
     "execution_count": 34,
     "metadata": {},
     "output_type": "execute_result"
    }
   ],
   "source": [
    "g_mes # Проверяем"
   ]
  },
  {
   "cell_type": "markdown",
   "metadata": {},
   "source": [
    "<h3> Объеденение в один Dataframe </h3>"
   ]
  },
  {
   "cell_type": "code",
   "execution_count": 35,
   "metadata": {
    "scrolled": true
   },
   "outputs": [
    {
     "name": "stdout",
     "output_type": "stream",
     "text": [
      "<class 'pandas.core.frame.DataFrame'>\n",
      "RangeIndex: 500 entries, 0 to 499\n",
      "Data columns (total 8 columns):\n",
      "user_id       500 non-null int64\n",
      "age           500 non-null int64\n",
      "churn_date    38 non-null datetime64[ns]\n",
      "city          500 non-null object\n",
      "first_name    500 non-null object\n",
      "last_name     500 non-null object\n",
      "reg_date      500 non-null datetime64[ns]\n",
      "tariff        500 non-null object\n",
      "dtypes: datetime64[ns](2), int64(2), object(4)\n",
      "memory usage: 31.4+ KB\n"
     ]
    }
   ],
   "source": [
    "users.info()"
   ]
  },
  {
   "cell_type": "code",
   "execution_count": 36,
   "metadata": {
    "scrolled": true
   },
   "outputs": [
    {
     "data": {
      "text/html": [
       "<div>\n",
       "<style scoped>\n",
       "    .dataframe tbody tr th:only-of-type {\n",
       "        vertical-align: middle;\n",
       "    }\n",
       "\n",
       "    .dataframe tbody tr th {\n",
       "        vertical-align: top;\n",
       "    }\n",
       "\n",
       "    .dataframe thead th {\n",
       "        text-align: right;\n",
       "    }\n",
       "</style>\n",
       "<table border=\"1\" class=\"dataframe\">\n",
       "  <thead>\n",
       "    <tr style=\"text-align: right;\">\n",
       "      <th></th>\n",
       "      <th>user_id</th>\n",
       "      <th>month</th>\n",
       "      <th>amount_mes</th>\n",
       "      <th>amount_min</th>\n",
       "      <th>amount_calls</th>\n",
       "      <th>total_gb_used</th>\n",
       "    </tr>\n",
       "  </thead>\n",
       "  <tbody>\n",
       "    <tr>\n",
       "      <td>0</td>\n",
       "      <td>1000</td>\n",
       "      <td>5</td>\n",
       "      <td>22.0</td>\n",
       "      <td>159.0</td>\n",
       "      <td>22.0</td>\n",
       "      <td>3.0</td>\n",
       "    </tr>\n",
       "    <tr>\n",
       "      <td>1</td>\n",
       "      <td>1000</td>\n",
       "      <td>6</td>\n",
       "      <td>60.0</td>\n",
       "      <td>172.0</td>\n",
       "      <td>43.0</td>\n",
       "      <td>23.0</td>\n",
       "    </tr>\n",
       "    <tr>\n",
       "      <td>2</td>\n",
       "      <td>1000</td>\n",
       "      <td>7</td>\n",
       "      <td>75.0</td>\n",
       "      <td>340.0</td>\n",
       "      <td>47.0</td>\n",
       "      <td>14.0</td>\n",
       "    </tr>\n",
       "    <tr>\n",
       "      <td>3</td>\n",
       "      <td>1000</td>\n",
       "      <td>8</td>\n",
       "      <td>81.0</td>\n",
       "      <td>408.0</td>\n",
       "      <td>52.0</td>\n",
       "      <td>14.0</td>\n",
       "    </tr>\n",
       "    <tr>\n",
       "      <td>4</td>\n",
       "      <td>1000</td>\n",
       "      <td>9</td>\n",
       "      <td>57.0</td>\n",
       "      <td>466.0</td>\n",
       "      <td>58.0</td>\n",
       "      <td>15.0</td>\n",
       "    </tr>\n",
       "    <tr>\n",
       "      <td>...</td>\n",
       "      <td>...</td>\n",
       "      <td>...</td>\n",
       "      <td>...</td>\n",
       "      <td>...</td>\n",
       "      <td>...</td>\n",
       "      <td>...</td>\n",
       "    </tr>\n",
       "    <tr>\n",
       "      <td>3209</td>\n",
       "      <td>1494</td>\n",
       "      <td>9</td>\n",
       "      <td>NaN</td>\n",
       "      <td>501.0</td>\n",
       "      <td>66.0</td>\n",
       "      <td>17.0</td>\n",
       "    </tr>\n",
       "    <tr>\n",
       "      <td>3210</td>\n",
       "      <td>1494</td>\n",
       "      <td>10</td>\n",
       "      <td>NaN</td>\n",
       "      <td>354.0</td>\n",
       "      <td>52.0</td>\n",
       "      <td>18.0</td>\n",
       "    </tr>\n",
       "    <tr>\n",
       "      <td>3211</td>\n",
       "      <td>1494</td>\n",
       "      <td>11</td>\n",
       "      <td>NaN</td>\n",
       "      <td>411.0</td>\n",
       "      <td>63.0</td>\n",
       "      <td>18.0</td>\n",
       "    </tr>\n",
       "    <tr>\n",
       "      <td>3212</td>\n",
       "      <td>1494</td>\n",
       "      <td>12</td>\n",
       "      <td>NaN</td>\n",
       "      <td>418.0</td>\n",
       "      <td>62.0</td>\n",
       "      <td>18.0</td>\n",
       "    </tr>\n",
       "    <tr>\n",
       "      <td>3213</td>\n",
       "      <td>1476</td>\n",
       "      <td>4</td>\n",
       "      <td>NaN</td>\n",
       "      <td>NaN</td>\n",
       "      <td>NaN</td>\n",
       "      <td>1.0</td>\n",
       "    </tr>\n",
       "  </tbody>\n",
       "</table>\n",
       "<p>3214 rows × 6 columns</p>\n",
       "</div>"
      ],
      "text/plain": [
       "      user_id  month  amount_mes  amount_min  amount_calls  total_gb_used\n",
       "0        1000      5        22.0       159.0          22.0            3.0\n",
       "1        1000      6        60.0       172.0          43.0           23.0\n",
       "2        1000      7        75.0       340.0          47.0           14.0\n",
       "3        1000      8        81.0       408.0          52.0           14.0\n",
       "4        1000      9        57.0       466.0          58.0           15.0\n",
       "...       ...    ...         ...         ...           ...            ...\n",
       "3209     1494      9         NaN       501.0          66.0           17.0\n",
       "3210     1494     10         NaN       354.0          52.0           18.0\n",
       "3211     1494     11         NaN       411.0          63.0           18.0\n",
       "3212     1494     12         NaN       418.0          62.0           18.0\n",
       "3213     1476      4         NaN         NaN           NaN            1.0\n",
       "\n",
       "[3214 rows x 6 columns]"
      ]
     },
     "execution_count": 36,
     "metadata": {},
     "output_type": "execute_result"
    }
   ],
   "source": [
    "mes_calls = g_mes.merge(g_calls, how='outer')\n",
    "mes_calls_int = mes_calls.merge(g_int, how='outer')\n",
    "mes_calls_int"
   ]
  },
  {
   "cell_type": "code",
   "execution_count": 37,
   "metadata": {
    "scrolled": true
   },
   "outputs": [
    {
     "data": {
      "text/html": [
       "<div>\n",
       "<style scoped>\n",
       "    .dataframe tbody tr th:only-of-type {\n",
       "        vertical-align: middle;\n",
       "    }\n",
       "\n",
       "    .dataframe tbody tr th {\n",
       "        vertical-align: top;\n",
       "    }\n",
       "\n",
       "    .dataframe thead th {\n",
       "        text-align: right;\n",
       "    }\n",
       "</style>\n",
       "<table border=\"1\" class=\"dataframe\">\n",
       "  <thead>\n",
       "    <tr style=\"text-align: right;\">\n",
       "      <th></th>\n",
       "      <th>user_id</th>\n",
       "      <th>age</th>\n",
       "      <th>churn_date</th>\n",
       "      <th>city</th>\n",
       "      <th>first_name</th>\n",
       "      <th>last_name</th>\n",
       "      <th>reg_date</th>\n",
       "      <th>tariff</th>\n",
       "      <th>month</th>\n",
       "      <th>amount_mes</th>\n",
       "      <th>amount_min</th>\n",
       "      <th>amount_calls</th>\n",
       "      <th>total_gb_used</th>\n",
       "    </tr>\n",
       "  </thead>\n",
       "  <tbody>\n",
       "    <tr>\n",
       "      <td>0</td>\n",
       "      <td>1000</td>\n",
       "      <td>52</td>\n",
       "      <td>NaT</td>\n",
       "      <td>Краснодар</td>\n",
       "      <td>Рафаил</td>\n",
       "      <td>Верещагин</td>\n",
       "      <td>2018-05-25</td>\n",
       "      <td>ultra</td>\n",
       "      <td>5</td>\n",
       "      <td>22.0</td>\n",
       "      <td>159.0</td>\n",
       "      <td>22.0</td>\n",
       "      <td>3.0</td>\n",
       "    </tr>\n",
       "    <tr>\n",
       "      <td>1</td>\n",
       "      <td>1000</td>\n",
       "      <td>52</td>\n",
       "      <td>NaT</td>\n",
       "      <td>Краснодар</td>\n",
       "      <td>Рафаил</td>\n",
       "      <td>Верещагин</td>\n",
       "      <td>2018-05-25</td>\n",
       "      <td>ultra</td>\n",
       "      <td>6</td>\n",
       "      <td>60.0</td>\n",
       "      <td>172.0</td>\n",
       "      <td>43.0</td>\n",
       "      <td>23.0</td>\n",
       "    </tr>\n",
       "    <tr>\n",
       "      <td>2</td>\n",
       "      <td>1000</td>\n",
       "      <td>52</td>\n",
       "      <td>NaT</td>\n",
       "      <td>Краснодар</td>\n",
       "      <td>Рафаил</td>\n",
       "      <td>Верещагин</td>\n",
       "      <td>2018-05-25</td>\n",
       "      <td>ultra</td>\n",
       "      <td>7</td>\n",
       "      <td>75.0</td>\n",
       "      <td>340.0</td>\n",
       "      <td>47.0</td>\n",
       "      <td>14.0</td>\n",
       "    </tr>\n",
       "    <tr>\n",
       "      <td>3</td>\n",
       "      <td>1000</td>\n",
       "      <td>52</td>\n",
       "      <td>NaT</td>\n",
       "      <td>Краснодар</td>\n",
       "      <td>Рафаил</td>\n",
       "      <td>Верещагин</td>\n",
       "      <td>2018-05-25</td>\n",
       "      <td>ultra</td>\n",
       "      <td>8</td>\n",
       "      <td>81.0</td>\n",
       "      <td>408.0</td>\n",
       "      <td>52.0</td>\n",
       "      <td>14.0</td>\n",
       "    </tr>\n",
       "    <tr>\n",
       "      <td>4</td>\n",
       "      <td>1000</td>\n",
       "      <td>52</td>\n",
       "      <td>NaT</td>\n",
       "      <td>Краснодар</td>\n",
       "      <td>Рафаил</td>\n",
       "      <td>Верещагин</td>\n",
       "      <td>2018-05-25</td>\n",
       "      <td>ultra</td>\n",
       "      <td>9</td>\n",
       "      <td>57.0</td>\n",
       "      <td>466.0</td>\n",
       "      <td>58.0</td>\n",
       "      <td>15.0</td>\n",
       "    </tr>\n",
       "    <tr>\n",
       "      <td>5</td>\n",
       "      <td>1000</td>\n",
       "      <td>52</td>\n",
       "      <td>NaT</td>\n",
       "      <td>Краснодар</td>\n",
       "      <td>Рафаил</td>\n",
       "      <td>Верещагин</td>\n",
       "      <td>2018-05-25</td>\n",
       "      <td>ultra</td>\n",
       "      <td>10</td>\n",
       "      <td>73.0</td>\n",
       "      <td>350.0</td>\n",
       "      <td>57.0</td>\n",
       "      <td>15.0</td>\n",
       "    </tr>\n",
       "    <tr>\n",
       "      <td>6</td>\n",
       "      <td>1000</td>\n",
       "      <td>52</td>\n",
       "      <td>NaT</td>\n",
       "      <td>Краснодар</td>\n",
       "      <td>Рафаил</td>\n",
       "      <td>Верещагин</td>\n",
       "      <td>2018-05-25</td>\n",
       "      <td>ultra</td>\n",
       "      <td>11</td>\n",
       "      <td>58.0</td>\n",
       "      <td>338.0</td>\n",
       "      <td>43.0</td>\n",
       "      <td>15.0</td>\n",
       "    </tr>\n",
       "    <tr>\n",
       "      <td>7</td>\n",
       "      <td>1000</td>\n",
       "      <td>52</td>\n",
       "      <td>NaT</td>\n",
       "      <td>Краснодар</td>\n",
       "      <td>Рафаил</td>\n",
       "      <td>Верещагин</td>\n",
       "      <td>2018-05-25</td>\n",
       "      <td>ultra</td>\n",
       "      <td>12</td>\n",
       "      <td>70.0</td>\n",
       "      <td>333.0</td>\n",
       "      <td>46.0</td>\n",
       "      <td>10.0</td>\n",
       "    </tr>\n",
       "    <tr>\n",
       "      <td>8</td>\n",
       "      <td>1001</td>\n",
       "      <td>41</td>\n",
       "      <td>NaT</td>\n",
       "      <td>Москва</td>\n",
       "      <td>Иван</td>\n",
       "      <td>Ежов</td>\n",
       "      <td>2018-11-01</td>\n",
       "      <td>smart</td>\n",
       "      <td>11</td>\n",
       "      <td>NaN</td>\n",
       "      <td>430.0</td>\n",
       "      <td>59.0</td>\n",
       "      <td>18.0</td>\n",
       "    </tr>\n",
       "    <tr>\n",
       "      <td>9</td>\n",
       "      <td>1001</td>\n",
       "      <td>41</td>\n",
       "      <td>NaT</td>\n",
       "      <td>Москва</td>\n",
       "      <td>Иван</td>\n",
       "      <td>Ежов</td>\n",
       "      <td>2018-11-01</td>\n",
       "      <td>smart</td>\n",
       "      <td>12</td>\n",
       "      <td>NaN</td>\n",
       "      <td>414.0</td>\n",
       "      <td>63.0</td>\n",
       "      <td>14.0</td>\n",
       "    </tr>\n",
       "    <tr>\n",
       "      <td>10</td>\n",
       "      <td>1002</td>\n",
       "      <td>59</td>\n",
       "      <td>NaT</td>\n",
       "      <td>Стерлитамак</td>\n",
       "      <td>Евгений</td>\n",
       "      <td>Абрамович</td>\n",
       "      <td>2018-06-17</td>\n",
       "      <td>smart</td>\n",
       "      <td>6</td>\n",
       "      <td>4.0</td>\n",
       "      <td>117.0</td>\n",
       "      <td>15.0</td>\n",
       "      <td>11.0</td>\n",
       "    </tr>\n",
       "    <tr>\n",
       "      <td>11</td>\n",
       "      <td>1002</td>\n",
       "      <td>59</td>\n",
       "      <td>NaT</td>\n",
       "      <td>Стерлитамак</td>\n",
       "      <td>Евгений</td>\n",
       "      <td>Абрамович</td>\n",
       "      <td>2018-06-17</td>\n",
       "      <td>smart</td>\n",
       "      <td>7</td>\n",
       "      <td>11.0</td>\n",
       "      <td>214.0</td>\n",
       "      <td>26.0</td>\n",
       "      <td>18.0</td>\n",
       "    </tr>\n",
       "    <tr>\n",
       "      <td>12</td>\n",
       "      <td>1002</td>\n",
       "      <td>59</td>\n",
       "      <td>NaT</td>\n",
       "      <td>Стерлитамак</td>\n",
       "      <td>Евгений</td>\n",
       "      <td>Абрамович</td>\n",
       "      <td>2018-06-17</td>\n",
       "      <td>smart</td>\n",
       "      <td>8</td>\n",
       "      <td>13.0</td>\n",
       "      <td>289.0</td>\n",
       "      <td>42.0</td>\n",
       "      <td>20.0</td>\n",
       "    </tr>\n",
       "    <tr>\n",
       "      <td>13</td>\n",
       "      <td>1002</td>\n",
       "      <td>59</td>\n",
       "      <td>NaT</td>\n",
       "      <td>Стерлитамак</td>\n",
       "      <td>Евгений</td>\n",
       "      <td>Абрамович</td>\n",
       "      <td>2018-06-17</td>\n",
       "      <td>smart</td>\n",
       "      <td>9</td>\n",
       "      <td>4.0</td>\n",
       "      <td>206.0</td>\n",
       "      <td>36.0</td>\n",
       "      <td>17.0</td>\n",
       "    </tr>\n",
       "    <tr>\n",
       "      <td>14</td>\n",
       "      <td>1002</td>\n",
       "      <td>59</td>\n",
       "      <td>NaT</td>\n",
       "      <td>Стерлитамак</td>\n",
       "      <td>Евгений</td>\n",
       "      <td>Абрамович</td>\n",
       "      <td>2018-06-17</td>\n",
       "      <td>smart</td>\n",
       "      <td>10</td>\n",
       "      <td>10.0</td>\n",
       "      <td>212.0</td>\n",
       "      <td>33.0</td>\n",
       "      <td>14.0</td>\n",
       "    </tr>\n",
       "  </tbody>\n",
       "</table>\n",
       "</div>"
      ],
      "text/plain": [
       "    user_id  age churn_date         city first_name  last_name   reg_date  \\\n",
       "0      1000   52        NaT    Краснодар     Рафаил  Верещагин 2018-05-25   \n",
       "1      1000   52        NaT    Краснодар     Рафаил  Верещагин 2018-05-25   \n",
       "2      1000   52        NaT    Краснодар     Рафаил  Верещагин 2018-05-25   \n",
       "3      1000   52        NaT    Краснодар     Рафаил  Верещагин 2018-05-25   \n",
       "4      1000   52        NaT    Краснодар     Рафаил  Верещагин 2018-05-25   \n",
       "5      1000   52        NaT    Краснодар     Рафаил  Верещагин 2018-05-25   \n",
       "6      1000   52        NaT    Краснодар     Рафаил  Верещагин 2018-05-25   \n",
       "7      1000   52        NaT    Краснодар     Рафаил  Верещагин 2018-05-25   \n",
       "8      1001   41        NaT       Москва       Иван       Ежов 2018-11-01   \n",
       "9      1001   41        NaT       Москва       Иван       Ежов 2018-11-01   \n",
       "10     1002   59        NaT  Стерлитамак    Евгений  Абрамович 2018-06-17   \n",
       "11     1002   59        NaT  Стерлитамак    Евгений  Абрамович 2018-06-17   \n",
       "12     1002   59        NaT  Стерлитамак    Евгений  Абрамович 2018-06-17   \n",
       "13     1002   59        NaT  Стерлитамак    Евгений  Абрамович 2018-06-17   \n",
       "14     1002   59        NaT  Стерлитамак    Евгений  Абрамович 2018-06-17   \n",
       "\n",
       "   tariff  month  amount_mes  amount_min  amount_calls  total_gb_used  \n",
       "0   ultra      5        22.0       159.0          22.0            3.0  \n",
       "1   ultra      6        60.0       172.0          43.0           23.0  \n",
       "2   ultra      7        75.0       340.0          47.0           14.0  \n",
       "3   ultra      8        81.0       408.0          52.0           14.0  \n",
       "4   ultra      9        57.0       466.0          58.0           15.0  \n",
       "5   ultra     10        73.0       350.0          57.0           15.0  \n",
       "6   ultra     11        58.0       338.0          43.0           15.0  \n",
       "7   ultra     12        70.0       333.0          46.0           10.0  \n",
       "8   smart     11         NaN       430.0          59.0           18.0  \n",
       "9   smart     12         NaN       414.0          63.0           14.0  \n",
       "10  smart      6         4.0       117.0          15.0           11.0  \n",
       "11  smart      7        11.0       214.0          26.0           18.0  \n",
       "12  smart      8        13.0       289.0          42.0           20.0  \n",
       "13  smart      9         4.0       206.0          36.0           17.0  \n",
       "14  smart     10        10.0       212.0          33.0           14.0  "
      ]
     },
     "execution_count": 37,
     "metadata": {},
     "output_type": "execute_result"
    }
   ],
   "source": [
    "final_df = users.merge(mes_calls_int)\n",
    "final_df.head(15)"
   ]
  },
  {
   "cell_type": "code",
   "execution_count": 38,
   "metadata": {},
   "outputs": [],
   "source": [
    "#final_df = final_df.merge(tarrifs, left_on = 'tariff',right_on = 'tariff_name', how = 'left')\n",
    "#final_df.drop(['tariff_name'], axis = 1)"
   ]
  },
  {
   "cell_type": "code",
   "execution_count": 39,
   "metadata": {
    "scrolled": true
   },
   "outputs": [
    {
     "data": {
      "text/html": [
       "<div>\n",
       "<style scoped>\n",
       "    .dataframe tbody tr th:only-of-type {\n",
       "        vertical-align: middle;\n",
       "    }\n",
       "\n",
       "    .dataframe tbody tr th {\n",
       "        vertical-align: top;\n",
       "    }\n",
       "\n",
       "    .dataframe thead th {\n",
       "        text-align: right;\n",
       "    }\n",
       "</style>\n",
       "<table border=\"1\" class=\"dataframe\">\n",
       "  <thead>\n",
       "    <tr style=\"text-align: right;\">\n",
       "      <th></th>\n",
       "      <th>messages_included</th>\n",
       "      <th>mb_per_month_included</th>\n",
       "      <th>minutes_included</th>\n",
       "      <th>rub_monthly_fee</th>\n",
       "      <th>rub_per_gb</th>\n",
       "      <th>rub_per_message</th>\n",
       "      <th>rub_per_minute</th>\n",
       "      <th>tariff_name</th>\n",
       "    </tr>\n",
       "  </thead>\n",
       "  <tbody>\n",
       "    <tr>\n",
       "      <td>0</td>\n",
       "      <td>50</td>\n",
       "      <td>15360</td>\n",
       "      <td>500</td>\n",
       "      <td>550</td>\n",
       "      <td>200</td>\n",
       "      <td>3</td>\n",
       "      <td>3</td>\n",
       "      <td>smart</td>\n",
       "    </tr>\n",
       "    <tr>\n",
       "      <td>1</td>\n",
       "      <td>1000</td>\n",
       "      <td>30720</td>\n",
       "      <td>3000</td>\n",
       "      <td>1950</td>\n",
       "      <td>150</td>\n",
       "      <td>1</td>\n",
       "      <td>1</td>\n",
       "      <td>ultra</td>\n",
       "    </tr>\n",
       "  </tbody>\n",
       "</table>\n",
       "</div>"
      ],
      "text/plain": [
       "   messages_included  mb_per_month_included  minutes_included  \\\n",
       "0                 50                  15360               500   \n",
       "1               1000                  30720              3000   \n",
       "\n",
       "   rub_monthly_fee  rub_per_gb  rub_per_message  rub_per_minute tariff_name  \n",
       "0              550         200                3               3       smart  \n",
       "1             1950         150                1               1       ultra  "
      ]
     },
     "execution_count": 39,
     "metadata": {},
     "output_type": "execute_result"
    }
   ],
   "source": [
    "tarrifs"
   ]
  },
  {
   "cell_type": "markdown",
   "metadata": {},
   "source": [
    "<h3> Обработка пропусков </h3>"
   ]
  },
  {
   "cell_type": "code",
   "execution_count": 40,
   "metadata": {},
   "outputs": [
    {
     "data": {
      "text/html": [
       "<div>\n",
       "<style scoped>\n",
       "    .dataframe tbody tr th:only-of-type {\n",
       "        vertical-align: middle;\n",
       "    }\n",
       "\n",
       "    .dataframe tbody tr th {\n",
       "        vertical-align: top;\n",
       "    }\n",
       "\n",
       "    .dataframe thead th {\n",
       "        text-align: right;\n",
       "    }\n",
       "</style>\n",
       "<table border=\"1\" class=\"dataframe\">\n",
       "  <thead>\n",
       "    <tr style=\"text-align: right;\">\n",
       "      <th></th>\n",
       "      <th>user_id</th>\n",
       "      <th>age</th>\n",
       "      <th>churn_date</th>\n",
       "      <th>city</th>\n",
       "      <th>first_name</th>\n",
       "      <th>last_name</th>\n",
       "      <th>reg_date</th>\n",
       "      <th>tariff</th>\n",
       "      <th>month</th>\n",
       "      <th>amount_mes</th>\n",
       "      <th>amount_min</th>\n",
       "      <th>amount_calls</th>\n",
       "      <th>total_gb_used</th>\n",
       "    </tr>\n",
       "  </thead>\n",
       "  <tbody>\n",
       "    <tr>\n",
       "      <td>592</td>\n",
       "      <td>1094</td>\n",
       "      <td>37</td>\n",
       "      <td>NaT</td>\n",
       "      <td>Новосибирск</td>\n",
       "      <td>Даниэла</td>\n",
       "      <td>Пугачева</td>\n",
       "      <td>2018-05-28</td>\n",
       "      <td>ultra</td>\n",
       "      <td>5</td>\n",
       "      <td>3.0</td>\n",
       "      <td>107.0</td>\n",
       "      <td>16.0</td>\n",
       "      <td>NaN</td>\n",
       "    </tr>\n",
       "    <tr>\n",
       "      <td>1722</td>\n",
       "      <td>1273</td>\n",
       "      <td>46</td>\n",
       "      <td>NaT</td>\n",
       "      <td>Курган</td>\n",
       "      <td>Рэм</td>\n",
       "      <td>Корнилов</td>\n",
       "      <td>2018-05-15</td>\n",
       "      <td>ultra</td>\n",
       "      <td>5</td>\n",
       "      <td>21.0</td>\n",
       "      <td>220.0</td>\n",
       "      <td>24.0</td>\n",
       "      <td>NaN</td>\n",
       "    </tr>\n",
       "    <tr>\n",
       "      <td>1723</td>\n",
       "      <td>1273</td>\n",
       "      <td>46</td>\n",
       "      <td>NaT</td>\n",
       "      <td>Курган</td>\n",
       "      <td>Рэм</td>\n",
       "      <td>Корнилов</td>\n",
       "      <td>2018-05-15</td>\n",
       "      <td>ultra</td>\n",
       "      <td>6</td>\n",
       "      <td>38.0</td>\n",
       "      <td>230.0</td>\n",
       "      <td>40.0</td>\n",
       "      <td>NaN</td>\n",
       "    </tr>\n",
       "    <tr>\n",
       "      <td>1724</td>\n",
       "      <td>1273</td>\n",
       "      <td>46</td>\n",
       "      <td>NaT</td>\n",
       "      <td>Курган</td>\n",
       "      <td>Рэм</td>\n",
       "      <td>Корнилов</td>\n",
       "      <td>2018-05-15</td>\n",
       "      <td>ultra</td>\n",
       "      <td>7</td>\n",
       "      <td>37.0</td>\n",
       "      <td>253.0</td>\n",
       "      <td>44.0</td>\n",
       "      <td>NaN</td>\n",
       "    </tr>\n",
       "    <tr>\n",
       "      <td>1725</td>\n",
       "      <td>1273</td>\n",
       "      <td>46</td>\n",
       "      <td>NaT</td>\n",
       "      <td>Курган</td>\n",
       "      <td>Рэм</td>\n",
       "      <td>Корнилов</td>\n",
       "      <td>2018-05-15</td>\n",
       "      <td>ultra</td>\n",
       "      <td>8</td>\n",
       "      <td>41.0</td>\n",
       "      <td>253.0</td>\n",
       "      <td>53.0</td>\n",
       "      <td>NaN</td>\n",
       "    </tr>\n",
       "    <tr>\n",
       "      <td>1726</td>\n",
       "      <td>1273</td>\n",
       "      <td>46</td>\n",
       "      <td>NaT</td>\n",
       "      <td>Курган</td>\n",
       "      <td>Рэм</td>\n",
       "      <td>Корнилов</td>\n",
       "      <td>2018-05-15</td>\n",
       "      <td>ultra</td>\n",
       "      <td>9</td>\n",
       "      <td>32.0</td>\n",
       "      <td>223.0</td>\n",
       "      <td>33.0</td>\n",
       "      <td>NaN</td>\n",
       "    </tr>\n",
       "    <tr>\n",
       "      <td>1727</td>\n",
       "      <td>1273</td>\n",
       "      <td>46</td>\n",
       "      <td>NaT</td>\n",
       "      <td>Курган</td>\n",
       "      <td>Рэм</td>\n",
       "      <td>Корнилов</td>\n",
       "      <td>2018-05-15</td>\n",
       "      <td>ultra</td>\n",
       "      <td>10</td>\n",
       "      <td>35.0</td>\n",
       "      <td>315.0</td>\n",
       "      <td>40.0</td>\n",
       "      <td>NaN</td>\n",
       "    </tr>\n",
       "    <tr>\n",
       "      <td>1728</td>\n",
       "      <td>1273</td>\n",
       "      <td>46</td>\n",
       "      <td>NaT</td>\n",
       "      <td>Курган</td>\n",
       "      <td>Рэм</td>\n",
       "      <td>Корнилов</td>\n",
       "      <td>2018-05-15</td>\n",
       "      <td>ultra</td>\n",
       "      <td>11</td>\n",
       "      <td>29.0</td>\n",
       "      <td>272.0</td>\n",
       "      <td>45.0</td>\n",
       "      <td>NaN</td>\n",
       "    </tr>\n",
       "    <tr>\n",
       "      <td>1729</td>\n",
       "      <td>1273</td>\n",
       "      <td>46</td>\n",
       "      <td>NaT</td>\n",
       "      <td>Курган</td>\n",
       "      <td>Рэм</td>\n",
       "      <td>Корнилов</td>\n",
       "      <td>2018-05-15</td>\n",
       "      <td>ultra</td>\n",
       "      <td>12</td>\n",
       "      <td>39.0</td>\n",
       "      <td>260.0</td>\n",
       "      <td>41.0</td>\n",
       "      <td>NaN</td>\n",
       "    </tr>\n",
       "    <tr>\n",
       "      <td>2306</td>\n",
       "      <td>1365</td>\n",
       "      <td>38</td>\n",
       "      <td>NaT</td>\n",
       "      <td>Ростов-на-Дону</td>\n",
       "      <td>Георгий</td>\n",
       "      <td>Вишняков</td>\n",
       "      <td>2018-10-31</td>\n",
       "      <td>smart</td>\n",
       "      <td>10</td>\n",
       "      <td>1.0</td>\n",
       "      <td>43.0</td>\n",
       "      <td>5.0</td>\n",
       "      <td>NaN</td>\n",
       "    </tr>\n",
       "    <tr>\n",
       "      <td>2387</td>\n",
       "      <td>1377</td>\n",
       "      <td>59</td>\n",
       "      <td>NaT</td>\n",
       "      <td>Брянск</td>\n",
       "      <td>Альфред</td>\n",
       "      <td>Семин</td>\n",
       "      <td>2018-02-25</td>\n",
       "      <td>ultra</td>\n",
       "      <td>2</td>\n",
       "      <td>2.0</td>\n",
       "      <td>179.0</td>\n",
       "      <td>23.0</td>\n",
       "      <td>NaN</td>\n",
       "    </tr>\n",
       "    <tr>\n",
       "      <td>2500</td>\n",
       "      <td>1392</td>\n",
       "      <td>54</td>\n",
       "      <td>2018-09-27</td>\n",
       "      <td>Челябинск</td>\n",
       "      <td>Алла</td>\n",
       "      <td>Беликова</td>\n",
       "      <td>2018-02-27</td>\n",
       "      <td>ultra</td>\n",
       "      <td>2</td>\n",
       "      <td>3.0</td>\n",
       "      <td>13.0</td>\n",
       "      <td>2.0</td>\n",
       "      <td>NaN</td>\n",
       "    </tr>\n",
       "    <tr>\n",
       "      <td>2858</td>\n",
       "      <td>1446</td>\n",
       "      <td>64</td>\n",
       "      <td>NaT</td>\n",
       "      <td>Липецк</td>\n",
       "      <td>Антонина</td>\n",
       "      <td>Артемчук</td>\n",
       "      <td>2018-08-31</td>\n",
       "      <td>smart</td>\n",
       "      <td>8</td>\n",
       "      <td>1.0</td>\n",
       "      <td>50.0</td>\n",
       "      <td>4.0</td>\n",
       "      <td>NaN</td>\n",
       "    </tr>\n",
       "  </tbody>\n",
       "</table>\n",
       "</div>"
      ],
      "text/plain": [
       "      user_id  age churn_date            city first_name last_name   reg_date  \\\n",
       "592      1094   37        NaT     Новосибирск    Даниэла  Пугачева 2018-05-28   \n",
       "1722     1273   46        NaT          Курган        Рэм  Корнилов 2018-05-15   \n",
       "1723     1273   46        NaT          Курган        Рэм  Корнилов 2018-05-15   \n",
       "1724     1273   46        NaT          Курган        Рэм  Корнилов 2018-05-15   \n",
       "1725     1273   46        NaT          Курган        Рэм  Корнилов 2018-05-15   \n",
       "1726     1273   46        NaT          Курган        Рэм  Корнилов 2018-05-15   \n",
       "1727     1273   46        NaT          Курган        Рэм  Корнилов 2018-05-15   \n",
       "1728     1273   46        NaT          Курган        Рэм  Корнилов 2018-05-15   \n",
       "1729     1273   46        NaT          Курган        Рэм  Корнилов 2018-05-15   \n",
       "2306     1365   38        NaT  Ростов-на-Дону    Георгий  Вишняков 2018-10-31   \n",
       "2387     1377   59        NaT          Брянск    Альфред     Семин 2018-02-25   \n",
       "2500     1392   54 2018-09-27       Челябинск       Алла  Беликова 2018-02-27   \n",
       "2858     1446   64        NaT          Липецк   Антонина  Артемчук 2018-08-31   \n",
       "\n",
       "     tariff  month  amount_mes  amount_min  amount_calls  total_gb_used  \n",
       "592   ultra      5         3.0       107.0          16.0            NaN  \n",
       "1722  ultra      5        21.0       220.0          24.0            NaN  \n",
       "1723  ultra      6        38.0       230.0          40.0            NaN  \n",
       "1724  ultra      7        37.0       253.0          44.0            NaN  \n",
       "1725  ultra      8        41.0       253.0          53.0            NaN  \n",
       "1726  ultra      9        32.0       223.0          33.0            NaN  \n",
       "1727  ultra     10        35.0       315.0          40.0            NaN  \n",
       "1728  ultra     11        29.0       272.0          45.0            NaN  \n",
       "1729  ultra     12        39.0       260.0          41.0            NaN  \n",
       "2306  smart     10         1.0        43.0           5.0            NaN  \n",
       "2387  ultra      2         2.0       179.0          23.0            NaN  \n",
       "2500  ultra      2         3.0        13.0           2.0            NaN  \n",
       "2858  smart      8         1.0        50.0           4.0            NaN  "
      ]
     },
     "execution_count": 40,
     "metadata": {},
     "output_type": "execute_result"
    }
   ],
   "source": [
    "final_df[final_df['total_gb_used'].isna()]"
   ]
  },
  {
   "cell_type": "code",
   "execution_count": 41,
   "metadata": {},
   "outputs": [
    {
     "data": {
      "text/html": [
       "<div>\n",
       "<style scoped>\n",
       "    .dataframe tbody tr th:only-of-type {\n",
       "        vertical-align: middle;\n",
       "    }\n",
       "\n",
       "    .dataframe tbody tr th {\n",
       "        vertical-align: top;\n",
       "    }\n",
       "\n",
       "    .dataframe thead th {\n",
       "        text-align: right;\n",
       "    }\n",
       "</style>\n",
       "<table border=\"1\" class=\"dataframe\">\n",
       "  <thead>\n",
       "    <tr style=\"text-align: right;\">\n",
       "      <th></th>\n",
       "      <th>user_id</th>\n",
       "      <th>age</th>\n",
       "      <th>churn_date</th>\n",
       "      <th>city</th>\n",
       "      <th>first_name</th>\n",
       "      <th>last_name</th>\n",
       "      <th>reg_date</th>\n",
       "      <th>tariff</th>\n",
       "      <th>month</th>\n",
       "      <th>amount_mes</th>\n",
       "      <th>amount_min</th>\n",
       "      <th>amount_calls</th>\n",
       "      <th>total_gb_used</th>\n",
       "    </tr>\n",
       "  </thead>\n",
       "  <tbody>\n",
       "    <tr>\n",
       "      <td>8</td>\n",
       "      <td>1001</td>\n",
       "      <td>41</td>\n",
       "      <td>NaT</td>\n",
       "      <td>Москва</td>\n",
       "      <td>Иван</td>\n",
       "      <td>Ежов</td>\n",
       "      <td>2018-11-01</td>\n",
       "      <td>smart</td>\n",
       "      <td>11</td>\n",
       "      <td>NaN</td>\n",
       "      <td>430.0</td>\n",
       "      <td>59.0</td>\n",
       "      <td>18.0</td>\n",
       "    </tr>\n",
       "    <tr>\n",
       "      <td>9</td>\n",
       "      <td>1001</td>\n",
       "      <td>41</td>\n",
       "      <td>NaT</td>\n",
       "      <td>Москва</td>\n",
       "      <td>Иван</td>\n",
       "      <td>Ежов</td>\n",
       "      <td>2018-11-01</td>\n",
       "      <td>smart</td>\n",
       "      <td>12</td>\n",
       "      <td>NaN</td>\n",
       "      <td>414.0</td>\n",
       "      <td>63.0</td>\n",
       "      <td>14.0</td>\n",
       "    </tr>\n",
       "    <tr>\n",
       "      <td>42</td>\n",
       "      <td>1006</td>\n",
       "      <td>21</td>\n",
       "      <td>NaT</td>\n",
       "      <td>Ульяновск</td>\n",
       "      <td>Леонид</td>\n",
       "      <td>Ермолаев</td>\n",
       "      <td>2018-02-26</td>\n",
       "      <td>smart</td>\n",
       "      <td>2</td>\n",
       "      <td>NaN</td>\n",
       "      <td>42.0</td>\n",
       "      <td>3.0</td>\n",
       "      <td>2.0</td>\n",
       "    </tr>\n",
       "    <tr>\n",
       "      <td>43</td>\n",
       "      <td>1006</td>\n",
       "      <td>21</td>\n",
       "      <td>NaT</td>\n",
       "      <td>Ульяновск</td>\n",
       "      <td>Леонид</td>\n",
       "      <td>Ермолаев</td>\n",
       "      <td>2018-02-26</td>\n",
       "      <td>smart</td>\n",
       "      <td>3</td>\n",
       "      <td>NaN</td>\n",
       "      <td>286.0</td>\n",
       "      <td>46.0</td>\n",
       "      <td>17.0</td>\n",
       "    </tr>\n",
       "    <tr>\n",
       "      <td>44</td>\n",
       "      <td>1006</td>\n",
       "      <td>21</td>\n",
       "      <td>NaT</td>\n",
       "      <td>Ульяновск</td>\n",
       "      <td>Леонид</td>\n",
       "      <td>Ермолаев</td>\n",
       "      <td>2018-02-26</td>\n",
       "      <td>smart</td>\n",
       "      <td>4</td>\n",
       "      <td>NaN</td>\n",
       "      <td>356.0</td>\n",
       "      <td>47.0</td>\n",
       "      <td>14.0</td>\n",
       "    </tr>\n",
       "    <tr>\n",
       "      <td>...</td>\n",
       "      <td>...</td>\n",
       "      <td>...</td>\n",
       "      <td>...</td>\n",
       "      <td>...</td>\n",
       "      <td>...</td>\n",
       "      <td>...</td>\n",
       "      <td>...</td>\n",
       "      <td>...</td>\n",
       "      <td>...</td>\n",
       "      <td>...</td>\n",
       "      <td>...</td>\n",
       "      <td>...</td>\n",
       "      <td>...</td>\n",
       "    </tr>\n",
       "    <tr>\n",
       "      <td>3181</td>\n",
       "      <td>1494</td>\n",
       "      <td>62</td>\n",
       "      <td>NaT</td>\n",
       "      <td>Омск</td>\n",
       "      <td>Ренат</td>\n",
       "      <td>Андропов</td>\n",
       "      <td>2018-08-17</td>\n",
       "      <td>smart</td>\n",
       "      <td>8</td>\n",
       "      <td>NaN</td>\n",
       "      <td>262.0</td>\n",
       "      <td>32.0</td>\n",
       "      <td>7.0</td>\n",
       "    </tr>\n",
       "    <tr>\n",
       "      <td>3182</td>\n",
       "      <td>1494</td>\n",
       "      <td>62</td>\n",
       "      <td>NaT</td>\n",
       "      <td>Омск</td>\n",
       "      <td>Ренат</td>\n",
       "      <td>Андропов</td>\n",
       "      <td>2018-08-17</td>\n",
       "      <td>smart</td>\n",
       "      <td>9</td>\n",
       "      <td>NaN</td>\n",
       "      <td>501.0</td>\n",
       "      <td>66.0</td>\n",
       "      <td>17.0</td>\n",
       "    </tr>\n",
       "    <tr>\n",
       "      <td>3183</td>\n",
       "      <td>1494</td>\n",
       "      <td>62</td>\n",
       "      <td>NaT</td>\n",
       "      <td>Омск</td>\n",
       "      <td>Ренат</td>\n",
       "      <td>Андропов</td>\n",
       "      <td>2018-08-17</td>\n",
       "      <td>smart</td>\n",
       "      <td>10</td>\n",
       "      <td>NaN</td>\n",
       "      <td>354.0</td>\n",
       "      <td>52.0</td>\n",
       "      <td>18.0</td>\n",
       "    </tr>\n",
       "    <tr>\n",
       "      <td>3184</td>\n",
       "      <td>1494</td>\n",
       "      <td>62</td>\n",
       "      <td>NaT</td>\n",
       "      <td>Омск</td>\n",
       "      <td>Ренат</td>\n",
       "      <td>Андропов</td>\n",
       "      <td>2018-08-17</td>\n",
       "      <td>smart</td>\n",
       "      <td>11</td>\n",
       "      <td>NaN</td>\n",
       "      <td>411.0</td>\n",
       "      <td>63.0</td>\n",
       "      <td>18.0</td>\n",
       "    </tr>\n",
       "    <tr>\n",
       "      <td>3185</td>\n",
       "      <td>1494</td>\n",
       "      <td>62</td>\n",
       "      <td>NaT</td>\n",
       "      <td>Омск</td>\n",
       "      <td>Ренат</td>\n",
       "      <td>Андропов</td>\n",
       "      <td>2018-08-17</td>\n",
       "      <td>smart</td>\n",
       "      <td>12</td>\n",
       "      <td>NaN</td>\n",
       "      <td>418.0</td>\n",
       "      <td>62.0</td>\n",
       "      <td>18.0</td>\n",
       "    </tr>\n",
       "  </tbody>\n",
       "</table>\n",
       "<p>497 rows × 13 columns</p>\n",
       "</div>"
      ],
      "text/plain": [
       "      user_id  age churn_date       city first_name last_name   reg_date  \\\n",
       "8        1001   41        NaT     Москва       Иван      Ежов 2018-11-01   \n",
       "9        1001   41        NaT     Москва       Иван      Ежов 2018-11-01   \n",
       "42       1006   21        NaT  Ульяновск     Леонид  Ермолаев 2018-02-26   \n",
       "43       1006   21        NaT  Ульяновск     Леонид  Ермолаев 2018-02-26   \n",
       "44       1006   21        NaT  Ульяновск     Леонид  Ермолаев 2018-02-26   \n",
       "...       ...  ...        ...        ...        ...       ...        ...   \n",
       "3181     1494   62        NaT       Омск      Ренат  Андропов 2018-08-17   \n",
       "3182     1494   62        NaT       Омск      Ренат  Андропов 2018-08-17   \n",
       "3183     1494   62        NaT       Омск      Ренат  Андропов 2018-08-17   \n",
       "3184     1494   62        NaT       Омск      Ренат  Андропов 2018-08-17   \n",
       "3185     1494   62        NaT       Омск      Ренат  Андропов 2018-08-17   \n",
       "\n",
       "     tariff  month  amount_mes  amount_min  amount_calls  total_gb_used  \n",
       "8     smart     11         NaN       430.0          59.0           18.0  \n",
       "9     smart     12         NaN       414.0          63.0           14.0  \n",
       "42    smart      2         NaN        42.0           3.0            2.0  \n",
       "43    smart      3         NaN       286.0          46.0           17.0  \n",
       "44    smart      4         NaN       356.0          47.0           14.0  \n",
       "...     ...    ...         ...         ...           ...            ...  \n",
       "3181  smart      8         NaN       262.0          32.0            7.0  \n",
       "3182  smart      9         NaN       501.0          66.0           17.0  \n",
       "3183  smart     10         NaN       354.0          52.0           18.0  \n",
       "3184  smart     11         NaN       411.0          63.0           18.0  \n",
       "3185  smart     12         NaN       418.0          62.0           18.0  \n",
       "\n",
       "[497 rows x 13 columns]"
      ]
     },
     "execution_count": 41,
     "metadata": {},
     "output_type": "execute_result"
    }
   ],
   "source": [
    "final_df[final_df['amount_mes'].isna()]"
   ]
  },
  {
   "cell_type": "code",
   "execution_count": 42,
   "metadata": {
    "scrolled": true
   },
   "outputs": [
    {
     "data": {
      "text/html": [
       "<div>\n",
       "<style scoped>\n",
       "    .dataframe tbody tr th:only-of-type {\n",
       "        vertical-align: middle;\n",
       "    }\n",
       "\n",
       "    .dataframe tbody tr th {\n",
       "        vertical-align: top;\n",
       "    }\n",
       "\n",
       "    .dataframe thead th {\n",
       "        text-align: right;\n",
       "    }\n",
       "</style>\n",
       "<table border=\"1\" class=\"dataframe\">\n",
       "  <thead>\n",
       "    <tr style=\"text-align: right;\">\n",
       "      <th></th>\n",
       "      <th>user_id</th>\n",
       "      <th>age</th>\n",
       "      <th>churn_date</th>\n",
       "      <th>city</th>\n",
       "      <th>first_name</th>\n",
       "      <th>last_name</th>\n",
       "      <th>reg_date</th>\n",
       "      <th>tariff</th>\n",
       "      <th>month</th>\n",
       "      <th>amount_mes</th>\n",
       "      <th>amount_min</th>\n",
       "      <th>amount_calls</th>\n",
       "      <th>total_gb_used</th>\n",
       "    </tr>\n",
       "  </thead>\n",
       "  <tbody>\n",
       "    <tr>\n",
       "      <td>570</td>\n",
       "      <td>1091</td>\n",
       "      <td>36</td>\n",
       "      <td>NaT</td>\n",
       "      <td>Набережные Челны</td>\n",
       "      <td>Вера</td>\n",
       "      <td>Суслова</td>\n",
       "      <td>2018-05-08</td>\n",
       "      <td>ultra</td>\n",
       "      <td>5</td>\n",
       "      <td>30.0</td>\n",
       "      <td>NaN</td>\n",
       "      <td>NaN</td>\n",
       "      <td>11.0</td>\n",
       "    </tr>\n",
       "    <tr>\n",
       "      <td>571</td>\n",
       "      <td>1091</td>\n",
       "      <td>36</td>\n",
       "      <td>NaT</td>\n",
       "      <td>Набережные Челны</td>\n",
       "      <td>Вера</td>\n",
       "      <td>Суслова</td>\n",
       "      <td>2018-05-08</td>\n",
       "      <td>ultra</td>\n",
       "      <td>6</td>\n",
       "      <td>30.0</td>\n",
       "      <td>NaN</td>\n",
       "      <td>NaN</td>\n",
       "      <td>10.0</td>\n",
       "    </tr>\n",
       "    <tr>\n",
       "      <td>572</td>\n",
       "      <td>1091</td>\n",
       "      <td>36</td>\n",
       "      <td>NaT</td>\n",
       "      <td>Набережные Челны</td>\n",
       "      <td>Вера</td>\n",
       "      <td>Суслова</td>\n",
       "      <td>2018-05-08</td>\n",
       "      <td>ultra</td>\n",
       "      <td>7</td>\n",
       "      <td>35.0</td>\n",
       "      <td>NaN</td>\n",
       "      <td>NaN</td>\n",
       "      <td>17.0</td>\n",
       "    </tr>\n",
       "    <tr>\n",
       "      <td>573</td>\n",
       "      <td>1091</td>\n",
       "      <td>36</td>\n",
       "      <td>NaT</td>\n",
       "      <td>Набережные Челны</td>\n",
       "      <td>Вера</td>\n",
       "      <td>Суслова</td>\n",
       "      <td>2018-05-08</td>\n",
       "      <td>ultra</td>\n",
       "      <td>8</td>\n",
       "      <td>31.0</td>\n",
       "      <td>NaN</td>\n",
       "      <td>NaN</td>\n",
       "      <td>13.0</td>\n",
       "    </tr>\n",
       "    <tr>\n",
       "      <td>574</td>\n",
       "      <td>1091</td>\n",
       "      <td>36</td>\n",
       "      <td>NaT</td>\n",
       "      <td>Набережные Челны</td>\n",
       "      <td>Вера</td>\n",
       "      <td>Суслова</td>\n",
       "      <td>2018-05-08</td>\n",
       "      <td>ultra</td>\n",
       "      <td>9</td>\n",
       "      <td>32.0</td>\n",
       "      <td>NaN</td>\n",
       "      <td>NaN</td>\n",
       "      <td>17.0</td>\n",
       "    </tr>\n",
       "    <tr>\n",
       "      <td>575</td>\n",
       "      <td>1091</td>\n",
       "      <td>36</td>\n",
       "      <td>NaT</td>\n",
       "      <td>Набережные Челны</td>\n",
       "      <td>Вера</td>\n",
       "      <td>Суслова</td>\n",
       "      <td>2018-05-08</td>\n",
       "      <td>ultra</td>\n",
       "      <td>10</td>\n",
       "      <td>44.0</td>\n",
       "      <td>NaN</td>\n",
       "      <td>NaN</td>\n",
       "      <td>16.0</td>\n",
       "    </tr>\n",
       "    <tr>\n",
       "      <td>576</td>\n",
       "      <td>1091</td>\n",
       "      <td>36</td>\n",
       "      <td>NaT</td>\n",
       "      <td>Набережные Челны</td>\n",
       "      <td>Вера</td>\n",
       "      <td>Суслова</td>\n",
       "      <td>2018-05-08</td>\n",
       "      <td>ultra</td>\n",
       "      <td>11</td>\n",
       "      <td>28.0</td>\n",
       "      <td>NaN</td>\n",
       "      <td>NaN</td>\n",
       "      <td>12.0</td>\n",
       "    </tr>\n",
       "    <tr>\n",
       "      <td>577</td>\n",
       "      <td>1091</td>\n",
       "      <td>36</td>\n",
       "      <td>NaT</td>\n",
       "      <td>Набережные Челны</td>\n",
       "      <td>Вера</td>\n",
       "      <td>Суслова</td>\n",
       "      <td>2018-05-08</td>\n",
       "      <td>ultra</td>\n",
       "      <td>12</td>\n",
       "      <td>42.0</td>\n",
       "      <td>NaN</td>\n",
       "      <td>NaN</td>\n",
       "      <td>13.0</td>\n",
       "    </tr>\n",
       "    <tr>\n",
       "      <td>671</td>\n",
       "      <td>1106</td>\n",
       "      <td>67</td>\n",
       "      <td>NaT</td>\n",
       "      <td>Калуга</td>\n",
       "      <td>Исаак</td>\n",
       "      <td>Костин</td>\n",
       "      <td>2018-04-26</td>\n",
       "      <td>ultra</td>\n",
       "      <td>4</td>\n",
       "      <td>9.0</td>\n",
       "      <td>NaN</td>\n",
       "      <td>NaN</td>\n",
       "      <td>3.0</td>\n",
       "    </tr>\n",
       "    <tr>\n",
       "      <td>672</td>\n",
       "      <td>1106</td>\n",
       "      <td>67</td>\n",
       "      <td>NaT</td>\n",
       "      <td>Калуга</td>\n",
       "      <td>Исаак</td>\n",
       "      <td>Костин</td>\n",
       "      <td>2018-04-26</td>\n",
       "      <td>ultra</td>\n",
       "      <td>5</td>\n",
       "      <td>28.0</td>\n",
       "      <td>NaN</td>\n",
       "      <td>NaN</td>\n",
       "      <td>17.0</td>\n",
       "    </tr>\n",
       "    <tr>\n",
       "      <td>673</td>\n",
       "      <td>1106</td>\n",
       "      <td>67</td>\n",
       "      <td>NaT</td>\n",
       "      <td>Калуга</td>\n",
       "      <td>Исаак</td>\n",
       "      <td>Костин</td>\n",
       "      <td>2018-04-26</td>\n",
       "      <td>ultra</td>\n",
       "      <td>6</td>\n",
       "      <td>30.0</td>\n",
       "      <td>NaN</td>\n",
       "      <td>NaN</td>\n",
       "      <td>20.0</td>\n",
       "    </tr>\n",
       "    <tr>\n",
       "      <td>674</td>\n",
       "      <td>1106</td>\n",
       "      <td>67</td>\n",
       "      <td>NaT</td>\n",
       "      <td>Калуга</td>\n",
       "      <td>Исаак</td>\n",
       "      <td>Костин</td>\n",
       "      <td>2018-04-26</td>\n",
       "      <td>ultra</td>\n",
       "      <td>7</td>\n",
       "      <td>24.0</td>\n",
       "      <td>NaN</td>\n",
       "      <td>NaN</td>\n",
       "      <td>22.0</td>\n",
       "    </tr>\n",
       "    <tr>\n",
       "      <td>675</td>\n",
       "      <td>1106</td>\n",
       "      <td>67</td>\n",
       "      <td>NaT</td>\n",
       "      <td>Калуга</td>\n",
       "      <td>Исаак</td>\n",
       "      <td>Костин</td>\n",
       "      <td>2018-04-26</td>\n",
       "      <td>ultra</td>\n",
       "      <td>8</td>\n",
       "      <td>25.0</td>\n",
       "      <td>NaN</td>\n",
       "      <td>NaN</td>\n",
       "      <td>19.0</td>\n",
       "    </tr>\n",
       "    <tr>\n",
       "      <td>676</td>\n",
       "      <td>1106</td>\n",
       "      <td>67</td>\n",
       "      <td>NaT</td>\n",
       "      <td>Калуга</td>\n",
       "      <td>Исаак</td>\n",
       "      <td>Костин</td>\n",
       "      <td>2018-04-26</td>\n",
       "      <td>ultra</td>\n",
       "      <td>9</td>\n",
       "      <td>23.0</td>\n",
       "      <td>NaN</td>\n",
       "      <td>NaN</td>\n",
       "      <td>22.0</td>\n",
       "    </tr>\n",
       "    <tr>\n",
       "      <td>677</td>\n",
       "      <td>1106</td>\n",
       "      <td>67</td>\n",
       "      <td>NaT</td>\n",
       "      <td>Калуга</td>\n",
       "      <td>Исаак</td>\n",
       "      <td>Костин</td>\n",
       "      <td>2018-04-26</td>\n",
       "      <td>ultra</td>\n",
       "      <td>10</td>\n",
       "      <td>33.0</td>\n",
       "      <td>NaN</td>\n",
       "      <td>NaN</td>\n",
       "      <td>14.0</td>\n",
       "    </tr>\n",
       "    <tr>\n",
       "      <td>678</td>\n",
       "      <td>1106</td>\n",
       "      <td>67</td>\n",
       "      <td>NaT</td>\n",
       "      <td>Калуга</td>\n",
       "      <td>Исаак</td>\n",
       "      <td>Костин</td>\n",
       "      <td>2018-04-26</td>\n",
       "      <td>ultra</td>\n",
       "      <td>11</td>\n",
       "      <td>29.0</td>\n",
       "      <td>NaN</td>\n",
       "      <td>NaN</td>\n",
       "      <td>21.0</td>\n",
       "    </tr>\n",
       "    <tr>\n",
       "      <td>679</td>\n",
       "      <td>1106</td>\n",
       "      <td>67</td>\n",
       "      <td>NaT</td>\n",
       "      <td>Калуга</td>\n",
       "      <td>Исаак</td>\n",
       "      <td>Костин</td>\n",
       "      <td>2018-04-26</td>\n",
       "      <td>ultra</td>\n",
       "      <td>12</td>\n",
       "      <td>24.0</td>\n",
       "      <td>NaN</td>\n",
       "      <td>NaN</td>\n",
       "      <td>19.0</td>\n",
       "    </tr>\n",
       "    <tr>\n",
       "      <td>1474</td>\n",
       "      <td>1231</td>\n",
       "      <td>63</td>\n",
       "      <td>NaT</td>\n",
       "      <td>Чебоксары</td>\n",
       "      <td>Касьян</td>\n",
       "      <td>Авдюков</td>\n",
       "      <td>2018-05-23</td>\n",
       "      <td>ultra</td>\n",
       "      <td>5</td>\n",
       "      <td>55.0</td>\n",
       "      <td>NaN</td>\n",
       "      <td>NaN</td>\n",
       "      <td>11.0</td>\n",
       "    </tr>\n",
       "    <tr>\n",
       "      <td>1475</td>\n",
       "      <td>1231</td>\n",
       "      <td>63</td>\n",
       "      <td>NaT</td>\n",
       "      <td>Чебоксары</td>\n",
       "      <td>Касьян</td>\n",
       "      <td>Авдюков</td>\n",
       "      <td>2018-05-23</td>\n",
       "      <td>ultra</td>\n",
       "      <td>6</td>\n",
       "      <td>201.0</td>\n",
       "      <td>NaN</td>\n",
       "      <td>NaN</td>\n",
       "      <td>28.0</td>\n",
       "    </tr>\n",
       "    <tr>\n",
       "      <td>1476</td>\n",
       "      <td>1231</td>\n",
       "      <td>63</td>\n",
       "      <td>NaT</td>\n",
       "      <td>Чебоксары</td>\n",
       "      <td>Касьян</td>\n",
       "      <td>Авдюков</td>\n",
       "      <td>2018-05-23</td>\n",
       "      <td>ultra</td>\n",
       "      <td>7</td>\n",
       "      <td>211.0</td>\n",
       "      <td>NaN</td>\n",
       "      <td>NaN</td>\n",
       "      <td>28.0</td>\n",
       "    </tr>\n",
       "    <tr>\n",
       "      <td>1477</td>\n",
       "      <td>1231</td>\n",
       "      <td>63</td>\n",
       "      <td>NaT</td>\n",
       "      <td>Чебоксары</td>\n",
       "      <td>Касьян</td>\n",
       "      <td>Авдюков</td>\n",
       "      <td>2018-05-23</td>\n",
       "      <td>ultra</td>\n",
       "      <td>8</td>\n",
       "      <td>180.0</td>\n",
       "      <td>NaN</td>\n",
       "      <td>NaN</td>\n",
       "      <td>32.0</td>\n",
       "    </tr>\n",
       "    <tr>\n",
       "      <td>1478</td>\n",
       "      <td>1231</td>\n",
       "      <td>63</td>\n",
       "      <td>NaT</td>\n",
       "      <td>Чебоксары</td>\n",
       "      <td>Касьян</td>\n",
       "      <td>Авдюков</td>\n",
       "      <td>2018-05-23</td>\n",
       "      <td>ultra</td>\n",
       "      <td>9</td>\n",
       "      <td>188.0</td>\n",
       "      <td>NaN</td>\n",
       "      <td>NaN</td>\n",
       "      <td>33.0</td>\n",
       "    </tr>\n",
       "    <tr>\n",
       "      <td>1479</td>\n",
       "      <td>1231</td>\n",
       "      <td>63</td>\n",
       "      <td>NaT</td>\n",
       "      <td>Чебоксары</td>\n",
       "      <td>Касьян</td>\n",
       "      <td>Авдюков</td>\n",
       "      <td>2018-05-23</td>\n",
       "      <td>ultra</td>\n",
       "      <td>10</td>\n",
       "      <td>185.0</td>\n",
       "      <td>NaN</td>\n",
       "      <td>NaN</td>\n",
       "      <td>31.0</td>\n",
       "    </tr>\n",
       "    <tr>\n",
       "      <td>1480</td>\n",
       "      <td>1231</td>\n",
       "      <td>63</td>\n",
       "      <td>NaT</td>\n",
       "      <td>Чебоксары</td>\n",
       "      <td>Касьян</td>\n",
       "      <td>Авдюков</td>\n",
       "      <td>2018-05-23</td>\n",
       "      <td>ultra</td>\n",
       "      <td>11</td>\n",
       "      <td>173.0</td>\n",
       "      <td>NaN</td>\n",
       "      <td>NaN</td>\n",
       "      <td>27.0</td>\n",
       "    </tr>\n",
       "    <tr>\n",
       "      <td>1481</td>\n",
       "      <td>1231</td>\n",
       "      <td>63</td>\n",
       "      <td>NaT</td>\n",
       "      <td>Чебоксары</td>\n",
       "      <td>Касьян</td>\n",
       "      <td>Авдюков</td>\n",
       "      <td>2018-05-23</td>\n",
       "      <td>ultra</td>\n",
       "      <td>12</td>\n",
       "      <td>191.0</td>\n",
       "      <td>NaN</td>\n",
       "      <td>NaN</td>\n",
       "      <td>32.0</td>\n",
       "    </tr>\n",
       "    <tr>\n",
       "      <td>2082</td>\n",
       "      <td>1328</td>\n",
       "      <td>44</td>\n",
       "      <td>NaT</td>\n",
       "      <td>Мурманск</td>\n",
       "      <td>Рауль</td>\n",
       "      <td>Аркадьев</td>\n",
       "      <td>2018-10-16</td>\n",
       "      <td>ultra</td>\n",
       "      <td>10</td>\n",
       "      <td>6.0</td>\n",
       "      <td>NaN</td>\n",
       "      <td>NaN</td>\n",
       "      <td>22.0</td>\n",
       "    </tr>\n",
       "    <tr>\n",
       "      <td>2083</td>\n",
       "      <td>1328</td>\n",
       "      <td>44</td>\n",
       "      <td>NaT</td>\n",
       "      <td>Мурманск</td>\n",
       "      <td>Рауль</td>\n",
       "      <td>Аркадьев</td>\n",
       "      <td>2018-10-16</td>\n",
       "      <td>ultra</td>\n",
       "      <td>11</td>\n",
       "      <td>8.0</td>\n",
       "      <td>NaN</td>\n",
       "      <td>NaN</td>\n",
       "      <td>35.0</td>\n",
       "    </tr>\n",
       "    <tr>\n",
       "      <td>2084</td>\n",
       "      <td>1328</td>\n",
       "      <td>44</td>\n",
       "      <td>NaT</td>\n",
       "      <td>Мурманск</td>\n",
       "      <td>Рауль</td>\n",
       "      <td>Аркадьев</td>\n",
       "      <td>2018-10-16</td>\n",
       "      <td>ultra</td>\n",
       "      <td>12</td>\n",
       "      <td>7.0</td>\n",
       "      <td>NaN</td>\n",
       "      <td>NaN</td>\n",
       "      <td>39.0</td>\n",
       "    </tr>\n",
       "    <tr>\n",
       "      <td>2351</td>\n",
       "      <td>1373</td>\n",
       "      <td>34</td>\n",
       "      <td>NaT</td>\n",
       "      <td>Улан-Удэ</td>\n",
       "      <td>Нелли</td>\n",
       "      <td>Афанасенко</td>\n",
       "      <td>2018-01-17</td>\n",
       "      <td>smart</td>\n",
       "      <td>6</td>\n",
       "      <td>48.0</td>\n",
       "      <td>NaN</td>\n",
       "      <td>NaN</td>\n",
       "      <td>13.0</td>\n",
       "    </tr>\n",
       "    <tr>\n",
       "      <td>3045</td>\n",
       "      <td>1473</td>\n",
       "      <td>18</td>\n",
       "      <td>NaT</td>\n",
       "      <td>Красноярск</td>\n",
       "      <td>Николай</td>\n",
       "      <td>Лебедев</td>\n",
       "      <td>2018-08-05</td>\n",
       "      <td>ultra</td>\n",
       "      <td>8</td>\n",
       "      <td>17.0</td>\n",
       "      <td>NaN</td>\n",
       "      <td>NaN</td>\n",
       "      <td>13.0</td>\n",
       "    </tr>\n",
       "    <tr>\n",
       "      <td>3046</td>\n",
       "      <td>1473</td>\n",
       "      <td>18</td>\n",
       "      <td>NaT</td>\n",
       "      <td>Красноярск</td>\n",
       "      <td>Николай</td>\n",
       "      <td>Лебедев</td>\n",
       "      <td>2018-08-05</td>\n",
       "      <td>ultra</td>\n",
       "      <td>9</td>\n",
       "      <td>19.0</td>\n",
       "      <td>NaN</td>\n",
       "      <td>NaN</td>\n",
       "      <td>17.0</td>\n",
       "    </tr>\n",
       "    <tr>\n",
       "      <td>3047</td>\n",
       "      <td>1473</td>\n",
       "      <td>18</td>\n",
       "      <td>NaT</td>\n",
       "      <td>Красноярск</td>\n",
       "      <td>Николай</td>\n",
       "      <td>Лебедев</td>\n",
       "      <td>2018-08-05</td>\n",
       "      <td>ultra</td>\n",
       "      <td>10</td>\n",
       "      <td>20.0</td>\n",
       "      <td>NaN</td>\n",
       "      <td>NaN</td>\n",
       "      <td>14.0</td>\n",
       "    </tr>\n",
       "    <tr>\n",
       "      <td>3048</td>\n",
       "      <td>1473</td>\n",
       "      <td>18</td>\n",
       "      <td>NaT</td>\n",
       "      <td>Красноярск</td>\n",
       "      <td>Николай</td>\n",
       "      <td>Лебедев</td>\n",
       "      <td>2018-08-05</td>\n",
       "      <td>ultra</td>\n",
       "      <td>11</td>\n",
       "      <td>14.0</td>\n",
       "      <td>NaN</td>\n",
       "      <td>NaN</td>\n",
       "      <td>22.0</td>\n",
       "    </tr>\n",
       "    <tr>\n",
       "      <td>3049</td>\n",
       "      <td>1473</td>\n",
       "      <td>18</td>\n",
       "      <td>NaT</td>\n",
       "      <td>Красноярск</td>\n",
       "      <td>Николай</td>\n",
       "      <td>Лебедев</td>\n",
       "      <td>2018-08-05</td>\n",
       "      <td>ultra</td>\n",
       "      <td>12</td>\n",
       "      <td>20.0</td>\n",
       "      <td>NaN</td>\n",
       "      <td>NaN</td>\n",
       "      <td>18.0</td>\n",
       "    </tr>\n",
       "    <tr>\n",
       "      <td>3072</td>\n",
       "      <td>1476</td>\n",
       "      <td>50</td>\n",
       "      <td>NaT</td>\n",
       "      <td>Москва</td>\n",
       "      <td>Валентина</td>\n",
       "      <td>Семенова</td>\n",
       "      <td>2018-04-30</td>\n",
       "      <td>ultra</td>\n",
       "      <td>4</td>\n",
       "      <td>NaN</td>\n",
       "      <td>NaN</td>\n",
       "      <td>NaN</td>\n",
       "      <td>1.0</td>\n",
       "    </tr>\n",
       "    <tr>\n",
       "      <td>3149</td>\n",
       "      <td>1489</td>\n",
       "      <td>35</td>\n",
       "      <td>NaT</td>\n",
       "      <td>Санкт-Петербург</td>\n",
       "      <td>Павел</td>\n",
       "      <td>Гончаров</td>\n",
       "      <td>2018-08-15</td>\n",
       "      <td>smart</td>\n",
       "      <td>8</td>\n",
       "      <td>17.0</td>\n",
       "      <td>NaN</td>\n",
       "      <td>NaN</td>\n",
       "      <td>11.0</td>\n",
       "    </tr>\n",
       "    <tr>\n",
       "      <td>3150</td>\n",
       "      <td>1489</td>\n",
       "      <td>35</td>\n",
       "      <td>NaT</td>\n",
       "      <td>Санкт-Петербург</td>\n",
       "      <td>Павел</td>\n",
       "      <td>Гончаров</td>\n",
       "      <td>2018-08-15</td>\n",
       "      <td>smart</td>\n",
       "      <td>9</td>\n",
       "      <td>32.0</td>\n",
       "      <td>NaN</td>\n",
       "      <td>NaN</td>\n",
       "      <td>17.0</td>\n",
       "    </tr>\n",
       "    <tr>\n",
       "      <td>3151</td>\n",
       "      <td>1489</td>\n",
       "      <td>35</td>\n",
       "      <td>NaT</td>\n",
       "      <td>Санкт-Петербург</td>\n",
       "      <td>Павел</td>\n",
       "      <td>Гончаров</td>\n",
       "      <td>2018-08-15</td>\n",
       "      <td>smart</td>\n",
       "      <td>10</td>\n",
       "      <td>21.0</td>\n",
       "      <td>NaN</td>\n",
       "      <td>NaN</td>\n",
       "      <td>20.0</td>\n",
       "    </tr>\n",
       "    <tr>\n",
       "      <td>3152</td>\n",
       "      <td>1489</td>\n",
       "      <td>35</td>\n",
       "      <td>NaT</td>\n",
       "      <td>Санкт-Петербург</td>\n",
       "      <td>Павел</td>\n",
       "      <td>Гончаров</td>\n",
       "      <td>2018-08-15</td>\n",
       "      <td>smart</td>\n",
       "      <td>11</td>\n",
       "      <td>20.0</td>\n",
       "      <td>NaN</td>\n",
       "      <td>NaN</td>\n",
       "      <td>18.0</td>\n",
       "    </tr>\n",
       "    <tr>\n",
       "      <td>3153</td>\n",
       "      <td>1489</td>\n",
       "      <td>35</td>\n",
       "      <td>NaT</td>\n",
       "      <td>Санкт-Петербург</td>\n",
       "      <td>Павел</td>\n",
       "      <td>Гончаров</td>\n",
       "      <td>2018-08-15</td>\n",
       "      <td>smart</td>\n",
       "      <td>12</td>\n",
       "      <td>35.0</td>\n",
       "      <td>NaN</td>\n",
       "      <td>NaN</td>\n",
       "      <td>17.0</td>\n",
       "    </tr>\n",
       "  </tbody>\n",
       "</table>\n",
       "</div>"
      ],
      "text/plain": [
       "      user_id  age churn_date              city first_name   last_name  \\\n",
       "570      1091   36        NaT  Набережные Челны       Вера     Суслова   \n",
       "571      1091   36        NaT  Набережные Челны       Вера     Суслова   \n",
       "572      1091   36        NaT  Набережные Челны       Вера     Суслова   \n",
       "573      1091   36        NaT  Набережные Челны       Вера     Суслова   \n",
       "574      1091   36        NaT  Набережные Челны       Вера     Суслова   \n",
       "575      1091   36        NaT  Набережные Челны       Вера     Суслова   \n",
       "576      1091   36        NaT  Набережные Челны       Вера     Суслова   \n",
       "577      1091   36        NaT  Набережные Челны       Вера     Суслова   \n",
       "671      1106   67        NaT            Калуга      Исаак      Костин   \n",
       "672      1106   67        NaT            Калуга      Исаак      Костин   \n",
       "673      1106   67        NaT            Калуга      Исаак      Костин   \n",
       "674      1106   67        NaT            Калуга      Исаак      Костин   \n",
       "675      1106   67        NaT            Калуга      Исаак      Костин   \n",
       "676      1106   67        NaT            Калуга      Исаак      Костин   \n",
       "677      1106   67        NaT            Калуга      Исаак      Костин   \n",
       "678      1106   67        NaT            Калуга      Исаак      Костин   \n",
       "679      1106   67        NaT            Калуга      Исаак      Костин   \n",
       "1474     1231   63        NaT         Чебоксары     Касьян     Авдюков   \n",
       "1475     1231   63        NaT         Чебоксары     Касьян     Авдюков   \n",
       "1476     1231   63        NaT         Чебоксары     Касьян     Авдюков   \n",
       "1477     1231   63        NaT         Чебоксары     Касьян     Авдюков   \n",
       "1478     1231   63        NaT         Чебоксары     Касьян     Авдюков   \n",
       "1479     1231   63        NaT         Чебоксары     Касьян     Авдюков   \n",
       "1480     1231   63        NaT         Чебоксары     Касьян     Авдюков   \n",
       "1481     1231   63        NaT         Чебоксары     Касьян     Авдюков   \n",
       "2082     1328   44        NaT          Мурманск      Рауль    Аркадьев   \n",
       "2083     1328   44        NaT          Мурманск      Рауль    Аркадьев   \n",
       "2084     1328   44        NaT          Мурманск      Рауль    Аркадьев   \n",
       "2351     1373   34        NaT          Улан-Удэ      Нелли  Афанасенко   \n",
       "3045     1473   18        NaT        Красноярск    Николай     Лебедев   \n",
       "3046     1473   18        NaT        Красноярск    Николай     Лебедев   \n",
       "3047     1473   18        NaT        Красноярск    Николай     Лебедев   \n",
       "3048     1473   18        NaT        Красноярск    Николай     Лебедев   \n",
       "3049     1473   18        NaT        Красноярск    Николай     Лебедев   \n",
       "3072     1476   50        NaT            Москва  Валентина    Семенова   \n",
       "3149     1489   35        NaT   Санкт-Петербург      Павел    Гончаров   \n",
       "3150     1489   35        NaT   Санкт-Петербург      Павел    Гончаров   \n",
       "3151     1489   35        NaT   Санкт-Петербург      Павел    Гончаров   \n",
       "3152     1489   35        NaT   Санкт-Петербург      Павел    Гончаров   \n",
       "3153     1489   35        NaT   Санкт-Петербург      Павел    Гончаров   \n",
       "\n",
       "       reg_date tariff  month  amount_mes  amount_min  amount_calls  \\\n",
       "570  2018-05-08  ultra      5        30.0         NaN           NaN   \n",
       "571  2018-05-08  ultra      6        30.0         NaN           NaN   \n",
       "572  2018-05-08  ultra      7        35.0         NaN           NaN   \n",
       "573  2018-05-08  ultra      8        31.0         NaN           NaN   \n",
       "574  2018-05-08  ultra      9        32.0         NaN           NaN   \n",
       "575  2018-05-08  ultra     10        44.0         NaN           NaN   \n",
       "576  2018-05-08  ultra     11        28.0         NaN           NaN   \n",
       "577  2018-05-08  ultra     12        42.0         NaN           NaN   \n",
       "671  2018-04-26  ultra      4         9.0         NaN           NaN   \n",
       "672  2018-04-26  ultra      5        28.0         NaN           NaN   \n",
       "673  2018-04-26  ultra      6        30.0         NaN           NaN   \n",
       "674  2018-04-26  ultra      7        24.0         NaN           NaN   \n",
       "675  2018-04-26  ultra      8        25.0         NaN           NaN   \n",
       "676  2018-04-26  ultra      9        23.0         NaN           NaN   \n",
       "677  2018-04-26  ultra     10        33.0         NaN           NaN   \n",
       "678  2018-04-26  ultra     11        29.0         NaN           NaN   \n",
       "679  2018-04-26  ultra     12        24.0         NaN           NaN   \n",
       "1474 2018-05-23  ultra      5        55.0         NaN           NaN   \n",
       "1475 2018-05-23  ultra      6       201.0         NaN           NaN   \n",
       "1476 2018-05-23  ultra      7       211.0         NaN           NaN   \n",
       "1477 2018-05-23  ultra      8       180.0         NaN           NaN   \n",
       "1478 2018-05-23  ultra      9       188.0         NaN           NaN   \n",
       "1479 2018-05-23  ultra     10       185.0         NaN           NaN   \n",
       "1480 2018-05-23  ultra     11       173.0         NaN           NaN   \n",
       "1481 2018-05-23  ultra     12       191.0         NaN           NaN   \n",
       "2082 2018-10-16  ultra     10         6.0         NaN           NaN   \n",
       "2083 2018-10-16  ultra     11         8.0         NaN           NaN   \n",
       "2084 2018-10-16  ultra     12         7.0         NaN           NaN   \n",
       "2351 2018-01-17  smart      6        48.0         NaN           NaN   \n",
       "3045 2018-08-05  ultra      8        17.0         NaN           NaN   \n",
       "3046 2018-08-05  ultra      9        19.0         NaN           NaN   \n",
       "3047 2018-08-05  ultra     10        20.0         NaN           NaN   \n",
       "3048 2018-08-05  ultra     11        14.0         NaN           NaN   \n",
       "3049 2018-08-05  ultra     12        20.0         NaN           NaN   \n",
       "3072 2018-04-30  ultra      4         NaN         NaN           NaN   \n",
       "3149 2018-08-15  smart      8        17.0         NaN           NaN   \n",
       "3150 2018-08-15  smart      9        32.0         NaN           NaN   \n",
       "3151 2018-08-15  smart     10        21.0         NaN           NaN   \n",
       "3152 2018-08-15  smart     11        20.0         NaN           NaN   \n",
       "3153 2018-08-15  smart     12        35.0         NaN           NaN   \n",
       "\n",
       "      total_gb_used  \n",
       "570            11.0  \n",
       "571            10.0  \n",
       "572            17.0  \n",
       "573            13.0  \n",
       "574            17.0  \n",
       "575            16.0  \n",
       "576            12.0  \n",
       "577            13.0  \n",
       "671             3.0  \n",
       "672            17.0  \n",
       "673            20.0  \n",
       "674            22.0  \n",
       "675            19.0  \n",
       "676            22.0  \n",
       "677            14.0  \n",
       "678            21.0  \n",
       "679            19.0  \n",
       "1474           11.0  \n",
       "1475           28.0  \n",
       "1476           28.0  \n",
       "1477           32.0  \n",
       "1478           33.0  \n",
       "1479           31.0  \n",
       "1480           27.0  \n",
       "1481           32.0  \n",
       "2082           22.0  \n",
       "2083           35.0  \n",
       "2084           39.0  \n",
       "2351           13.0  \n",
       "3045           13.0  \n",
       "3046           17.0  \n",
       "3047           14.0  \n",
       "3048           22.0  \n",
       "3049           18.0  \n",
       "3072            1.0  \n",
       "3149           11.0  \n",
       "3150           17.0  \n",
       "3151           20.0  \n",
       "3152           18.0  \n",
       "3153           17.0  "
      ]
     },
     "execution_count": 42,
     "metadata": {},
     "output_type": "execute_result"
    }
   ],
   "source": [
    "final_df[final_df['amount_min'].isna()]"
   ]
  },
  {
   "cell_type": "code",
   "execution_count": 43,
   "metadata": {
    "scrolled": true
   },
   "outputs": [
    {
     "data": {
      "text/html": [
       "<div>\n",
       "<style scoped>\n",
       "    .dataframe tbody tr th:only-of-type {\n",
       "        vertical-align: middle;\n",
       "    }\n",
       "\n",
       "    .dataframe tbody tr th {\n",
       "        vertical-align: top;\n",
       "    }\n",
       "\n",
       "    .dataframe thead th {\n",
       "        text-align: right;\n",
       "    }\n",
       "</style>\n",
       "<table border=\"1\" class=\"dataframe\">\n",
       "  <thead>\n",
       "    <tr style=\"text-align: right;\">\n",
       "      <th></th>\n",
       "      <th>user_id</th>\n",
       "      <th>age</th>\n",
       "      <th>churn_date</th>\n",
       "      <th>city</th>\n",
       "      <th>first_name</th>\n",
       "      <th>last_name</th>\n",
       "      <th>reg_date</th>\n",
       "      <th>tariff</th>\n",
       "      <th>month</th>\n",
       "      <th>amount_mes</th>\n",
       "      <th>amount_min</th>\n",
       "      <th>amount_calls</th>\n",
       "      <th>total_gb_used</th>\n",
       "    </tr>\n",
       "  </thead>\n",
       "  <tbody>\n",
       "    <tr>\n",
       "      <td>570</td>\n",
       "      <td>1091</td>\n",
       "      <td>36</td>\n",
       "      <td>NaT</td>\n",
       "      <td>Набережные Челны</td>\n",
       "      <td>Вера</td>\n",
       "      <td>Суслова</td>\n",
       "      <td>2018-05-08</td>\n",
       "      <td>ultra</td>\n",
       "      <td>5</td>\n",
       "      <td>30.0</td>\n",
       "      <td>NaN</td>\n",
       "      <td>NaN</td>\n",
       "      <td>11.0</td>\n",
       "    </tr>\n",
       "    <tr>\n",
       "      <td>571</td>\n",
       "      <td>1091</td>\n",
       "      <td>36</td>\n",
       "      <td>NaT</td>\n",
       "      <td>Набережные Челны</td>\n",
       "      <td>Вера</td>\n",
       "      <td>Суслова</td>\n",
       "      <td>2018-05-08</td>\n",
       "      <td>ultra</td>\n",
       "      <td>6</td>\n",
       "      <td>30.0</td>\n",
       "      <td>NaN</td>\n",
       "      <td>NaN</td>\n",
       "      <td>10.0</td>\n",
       "    </tr>\n",
       "    <tr>\n",
       "      <td>572</td>\n",
       "      <td>1091</td>\n",
       "      <td>36</td>\n",
       "      <td>NaT</td>\n",
       "      <td>Набережные Челны</td>\n",
       "      <td>Вера</td>\n",
       "      <td>Суслова</td>\n",
       "      <td>2018-05-08</td>\n",
       "      <td>ultra</td>\n",
       "      <td>7</td>\n",
       "      <td>35.0</td>\n",
       "      <td>NaN</td>\n",
       "      <td>NaN</td>\n",
       "      <td>17.0</td>\n",
       "    </tr>\n",
       "    <tr>\n",
       "      <td>573</td>\n",
       "      <td>1091</td>\n",
       "      <td>36</td>\n",
       "      <td>NaT</td>\n",
       "      <td>Набережные Челны</td>\n",
       "      <td>Вера</td>\n",
       "      <td>Суслова</td>\n",
       "      <td>2018-05-08</td>\n",
       "      <td>ultra</td>\n",
       "      <td>8</td>\n",
       "      <td>31.0</td>\n",
       "      <td>NaN</td>\n",
       "      <td>NaN</td>\n",
       "      <td>13.0</td>\n",
       "    </tr>\n",
       "    <tr>\n",
       "      <td>574</td>\n",
       "      <td>1091</td>\n",
       "      <td>36</td>\n",
       "      <td>NaT</td>\n",
       "      <td>Набережные Челны</td>\n",
       "      <td>Вера</td>\n",
       "      <td>Суслова</td>\n",
       "      <td>2018-05-08</td>\n",
       "      <td>ultra</td>\n",
       "      <td>9</td>\n",
       "      <td>32.0</td>\n",
       "      <td>NaN</td>\n",
       "      <td>NaN</td>\n",
       "      <td>17.0</td>\n",
       "    </tr>\n",
       "    <tr>\n",
       "      <td>575</td>\n",
       "      <td>1091</td>\n",
       "      <td>36</td>\n",
       "      <td>NaT</td>\n",
       "      <td>Набережные Челны</td>\n",
       "      <td>Вера</td>\n",
       "      <td>Суслова</td>\n",
       "      <td>2018-05-08</td>\n",
       "      <td>ultra</td>\n",
       "      <td>10</td>\n",
       "      <td>44.0</td>\n",
       "      <td>NaN</td>\n",
       "      <td>NaN</td>\n",
       "      <td>16.0</td>\n",
       "    </tr>\n",
       "    <tr>\n",
       "      <td>576</td>\n",
       "      <td>1091</td>\n",
       "      <td>36</td>\n",
       "      <td>NaT</td>\n",
       "      <td>Набережные Челны</td>\n",
       "      <td>Вера</td>\n",
       "      <td>Суслова</td>\n",
       "      <td>2018-05-08</td>\n",
       "      <td>ultra</td>\n",
       "      <td>11</td>\n",
       "      <td>28.0</td>\n",
       "      <td>NaN</td>\n",
       "      <td>NaN</td>\n",
       "      <td>12.0</td>\n",
       "    </tr>\n",
       "    <tr>\n",
       "      <td>577</td>\n",
       "      <td>1091</td>\n",
       "      <td>36</td>\n",
       "      <td>NaT</td>\n",
       "      <td>Набережные Челны</td>\n",
       "      <td>Вера</td>\n",
       "      <td>Суслова</td>\n",
       "      <td>2018-05-08</td>\n",
       "      <td>ultra</td>\n",
       "      <td>12</td>\n",
       "      <td>42.0</td>\n",
       "      <td>NaN</td>\n",
       "      <td>NaN</td>\n",
       "      <td>13.0</td>\n",
       "    </tr>\n",
       "    <tr>\n",
       "      <td>671</td>\n",
       "      <td>1106</td>\n",
       "      <td>67</td>\n",
       "      <td>NaT</td>\n",
       "      <td>Калуга</td>\n",
       "      <td>Исаак</td>\n",
       "      <td>Костин</td>\n",
       "      <td>2018-04-26</td>\n",
       "      <td>ultra</td>\n",
       "      <td>4</td>\n",
       "      <td>9.0</td>\n",
       "      <td>NaN</td>\n",
       "      <td>NaN</td>\n",
       "      <td>3.0</td>\n",
       "    </tr>\n",
       "    <tr>\n",
       "      <td>672</td>\n",
       "      <td>1106</td>\n",
       "      <td>67</td>\n",
       "      <td>NaT</td>\n",
       "      <td>Калуга</td>\n",
       "      <td>Исаак</td>\n",
       "      <td>Костин</td>\n",
       "      <td>2018-04-26</td>\n",
       "      <td>ultra</td>\n",
       "      <td>5</td>\n",
       "      <td>28.0</td>\n",
       "      <td>NaN</td>\n",
       "      <td>NaN</td>\n",
       "      <td>17.0</td>\n",
       "    </tr>\n",
       "    <tr>\n",
       "      <td>673</td>\n",
       "      <td>1106</td>\n",
       "      <td>67</td>\n",
       "      <td>NaT</td>\n",
       "      <td>Калуга</td>\n",
       "      <td>Исаак</td>\n",
       "      <td>Костин</td>\n",
       "      <td>2018-04-26</td>\n",
       "      <td>ultra</td>\n",
       "      <td>6</td>\n",
       "      <td>30.0</td>\n",
       "      <td>NaN</td>\n",
       "      <td>NaN</td>\n",
       "      <td>20.0</td>\n",
       "    </tr>\n",
       "    <tr>\n",
       "      <td>674</td>\n",
       "      <td>1106</td>\n",
       "      <td>67</td>\n",
       "      <td>NaT</td>\n",
       "      <td>Калуга</td>\n",
       "      <td>Исаак</td>\n",
       "      <td>Костин</td>\n",
       "      <td>2018-04-26</td>\n",
       "      <td>ultra</td>\n",
       "      <td>7</td>\n",
       "      <td>24.0</td>\n",
       "      <td>NaN</td>\n",
       "      <td>NaN</td>\n",
       "      <td>22.0</td>\n",
       "    </tr>\n",
       "    <tr>\n",
       "      <td>675</td>\n",
       "      <td>1106</td>\n",
       "      <td>67</td>\n",
       "      <td>NaT</td>\n",
       "      <td>Калуга</td>\n",
       "      <td>Исаак</td>\n",
       "      <td>Костин</td>\n",
       "      <td>2018-04-26</td>\n",
       "      <td>ultra</td>\n",
       "      <td>8</td>\n",
       "      <td>25.0</td>\n",
       "      <td>NaN</td>\n",
       "      <td>NaN</td>\n",
       "      <td>19.0</td>\n",
       "    </tr>\n",
       "    <tr>\n",
       "      <td>676</td>\n",
       "      <td>1106</td>\n",
       "      <td>67</td>\n",
       "      <td>NaT</td>\n",
       "      <td>Калуга</td>\n",
       "      <td>Исаак</td>\n",
       "      <td>Костин</td>\n",
       "      <td>2018-04-26</td>\n",
       "      <td>ultra</td>\n",
       "      <td>9</td>\n",
       "      <td>23.0</td>\n",
       "      <td>NaN</td>\n",
       "      <td>NaN</td>\n",
       "      <td>22.0</td>\n",
       "    </tr>\n",
       "    <tr>\n",
       "      <td>677</td>\n",
       "      <td>1106</td>\n",
       "      <td>67</td>\n",
       "      <td>NaT</td>\n",
       "      <td>Калуга</td>\n",
       "      <td>Исаак</td>\n",
       "      <td>Костин</td>\n",
       "      <td>2018-04-26</td>\n",
       "      <td>ultra</td>\n",
       "      <td>10</td>\n",
       "      <td>33.0</td>\n",
       "      <td>NaN</td>\n",
       "      <td>NaN</td>\n",
       "      <td>14.0</td>\n",
       "    </tr>\n",
       "    <tr>\n",
       "      <td>678</td>\n",
       "      <td>1106</td>\n",
       "      <td>67</td>\n",
       "      <td>NaT</td>\n",
       "      <td>Калуга</td>\n",
       "      <td>Исаак</td>\n",
       "      <td>Костин</td>\n",
       "      <td>2018-04-26</td>\n",
       "      <td>ultra</td>\n",
       "      <td>11</td>\n",
       "      <td>29.0</td>\n",
       "      <td>NaN</td>\n",
       "      <td>NaN</td>\n",
       "      <td>21.0</td>\n",
       "    </tr>\n",
       "    <tr>\n",
       "      <td>679</td>\n",
       "      <td>1106</td>\n",
       "      <td>67</td>\n",
       "      <td>NaT</td>\n",
       "      <td>Калуга</td>\n",
       "      <td>Исаак</td>\n",
       "      <td>Костин</td>\n",
       "      <td>2018-04-26</td>\n",
       "      <td>ultra</td>\n",
       "      <td>12</td>\n",
       "      <td>24.0</td>\n",
       "      <td>NaN</td>\n",
       "      <td>NaN</td>\n",
       "      <td>19.0</td>\n",
       "    </tr>\n",
       "    <tr>\n",
       "      <td>1474</td>\n",
       "      <td>1231</td>\n",
       "      <td>63</td>\n",
       "      <td>NaT</td>\n",
       "      <td>Чебоксары</td>\n",
       "      <td>Касьян</td>\n",
       "      <td>Авдюков</td>\n",
       "      <td>2018-05-23</td>\n",
       "      <td>ultra</td>\n",
       "      <td>5</td>\n",
       "      <td>55.0</td>\n",
       "      <td>NaN</td>\n",
       "      <td>NaN</td>\n",
       "      <td>11.0</td>\n",
       "    </tr>\n",
       "    <tr>\n",
       "      <td>1475</td>\n",
       "      <td>1231</td>\n",
       "      <td>63</td>\n",
       "      <td>NaT</td>\n",
       "      <td>Чебоксары</td>\n",
       "      <td>Касьян</td>\n",
       "      <td>Авдюков</td>\n",
       "      <td>2018-05-23</td>\n",
       "      <td>ultra</td>\n",
       "      <td>6</td>\n",
       "      <td>201.0</td>\n",
       "      <td>NaN</td>\n",
       "      <td>NaN</td>\n",
       "      <td>28.0</td>\n",
       "    </tr>\n",
       "    <tr>\n",
       "      <td>1476</td>\n",
       "      <td>1231</td>\n",
       "      <td>63</td>\n",
       "      <td>NaT</td>\n",
       "      <td>Чебоксары</td>\n",
       "      <td>Касьян</td>\n",
       "      <td>Авдюков</td>\n",
       "      <td>2018-05-23</td>\n",
       "      <td>ultra</td>\n",
       "      <td>7</td>\n",
       "      <td>211.0</td>\n",
       "      <td>NaN</td>\n",
       "      <td>NaN</td>\n",
       "      <td>28.0</td>\n",
       "    </tr>\n",
       "    <tr>\n",
       "      <td>1477</td>\n",
       "      <td>1231</td>\n",
       "      <td>63</td>\n",
       "      <td>NaT</td>\n",
       "      <td>Чебоксары</td>\n",
       "      <td>Касьян</td>\n",
       "      <td>Авдюков</td>\n",
       "      <td>2018-05-23</td>\n",
       "      <td>ultra</td>\n",
       "      <td>8</td>\n",
       "      <td>180.0</td>\n",
       "      <td>NaN</td>\n",
       "      <td>NaN</td>\n",
       "      <td>32.0</td>\n",
       "    </tr>\n",
       "    <tr>\n",
       "      <td>1478</td>\n",
       "      <td>1231</td>\n",
       "      <td>63</td>\n",
       "      <td>NaT</td>\n",
       "      <td>Чебоксары</td>\n",
       "      <td>Касьян</td>\n",
       "      <td>Авдюков</td>\n",
       "      <td>2018-05-23</td>\n",
       "      <td>ultra</td>\n",
       "      <td>9</td>\n",
       "      <td>188.0</td>\n",
       "      <td>NaN</td>\n",
       "      <td>NaN</td>\n",
       "      <td>33.0</td>\n",
       "    </tr>\n",
       "    <tr>\n",
       "      <td>1479</td>\n",
       "      <td>1231</td>\n",
       "      <td>63</td>\n",
       "      <td>NaT</td>\n",
       "      <td>Чебоксары</td>\n",
       "      <td>Касьян</td>\n",
       "      <td>Авдюков</td>\n",
       "      <td>2018-05-23</td>\n",
       "      <td>ultra</td>\n",
       "      <td>10</td>\n",
       "      <td>185.0</td>\n",
       "      <td>NaN</td>\n",
       "      <td>NaN</td>\n",
       "      <td>31.0</td>\n",
       "    </tr>\n",
       "    <tr>\n",
       "      <td>1480</td>\n",
       "      <td>1231</td>\n",
       "      <td>63</td>\n",
       "      <td>NaT</td>\n",
       "      <td>Чебоксары</td>\n",
       "      <td>Касьян</td>\n",
       "      <td>Авдюков</td>\n",
       "      <td>2018-05-23</td>\n",
       "      <td>ultra</td>\n",
       "      <td>11</td>\n",
       "      <td>173.0</td>\n",
       "      <td>NaN</td>\n",
       "      <td>NaN</td>\n",
       "      <td>27.0</td>\n",
       "    </tr>\n",
       "    <tr>\n",
       "      <td>1481</td>\n",
       "      <td>1231</td>\n",
       "      <td>63</td>\n",
       "      <td>NaT</td>\n",
       "      <td>Чебоксары</td>\n",
       "      <td>Касьян</td>\n",
       "      <td>Авдюков</td>\n",
       "      <td>2018-05-23</td>\n",
       "      <td>ultra</td>\n",
       "      <td>12</td>\n",
       "      <td>191.0</td>\n",
       "      <td>NaN</td>\n",
       "      <td>NaN</td>\n",
       "      <td>32.0</td>\n",
       "    </tr>\n",
       "    <tr>\n",
       "      <td>2082</td>\n",
       "      <td>1328</td>\n",
       "      <td>44</td>\n",
       "      <td>NaT</td>\n",
       "      <td>Мурманск</td>\n",
       "      <td>Рауль</td>\n",
       "      <td>Аркадьев</td>\n",
       "      <td>2018-10-16</td>\n",
       "      <td>ultra</td>\n",
       "      <td>10</td>\n",
       "      <td>6.0</td>\n",
       "      <td>NaN</td>\n",
       "      <td>NaN</td>\n",
       "      <td>22.0</td>\n",
       "    </tr>\n",
       "    <tr>\n",
       "      <td>2083</td>\n",
       "      <td>1328</td>\n",
       "      <td>44</td>\n",
       "      <td>NaT</td>\n",
       "      <td>Мурманск</td>\n",
       "      <td>Рауль</td>\n",
       "      <td>Аркадьев</td>\n",
       "      <td>2018-10-16</td>\n",
       "      <td>ultra</td>\n",
       "      <td>11</td>\n",
       "      <td>8.0</td>\n",
       "      <td>NaN</td>\n",
       "      <td>NaN</td>\n",
       "      <td>35.0</td>\n",
       "    </tr>\n",
       "    <tr>\n",
       "      <td>2084</td>\n",
       "      <td>1328</td>\n",
       "      <td>44</td>\n",
       "      <td>NaT</td>\n",
       "      <td>Мурманск</td>\n",
       "      <td>Рауль</td>\n",
       "      <td>Аркадьев</td>\n",
       "      <td>2018-10-16</td>\n",
       "      <td>ultra</td>\n",
       "      <td>12</td>\n",
       "      <td>7.0</td>\n",
       "      <td>NaN</td>\n",
       "      <td>NaN</td>\n",
       "      <td>39.0</td>\n",
       "    </tr>\n",
       "    <tr>\n",
       "      <td>2351</td>\n",
       "      <td>1373</td>\n",
       "      <td>34</td>\n",
       "      <td>NaT</td>\n",
       "      <td>Улан-Удэ</td>\n",
       "      <td>Нелли</td>\n",
       "      <td>Афанасенко</td>\n",
       "      <td>2018-01-17</td>\n",
       "      <td>smart</td>\n",
       "      <td>6</td>\n",
       "      <td>48.0</td>\n",
       "      <td>NaN</td>\n",
       "      <td>NaN</td>\n",
       "      <td>13.0</td>\n",
       "    </tr>\n",
       "    <tr>\n",
       "      <td>3045</td>\n",
       "      <td>1473</td>\n",
       "      <td>18</td>\n",
       "      <td>NaT</td>\n",
       "      <td>Красноярск</td>\n",
       "      <td>Николай</td>\n",
       "      <td>Лебедев</td>\n",
       "      <td>2018-08-05</td>\n",
       "      <td>ultra</td>\n",
       "      <td>8</td>\n",
       "      <td>17.0</td>\n",
       "      <td>NaN</td>\n",
       "      <td>NaN</td>\n",
       "      <td>13.0</td>\n",
       "    </tr>\n",
       "    <tr>\n",
       "      <td>3046</td>\n",
       "      <td>1473</td>\n",
       "      <td>18</td>\n",
       "      <td>NaT</td>\n",
       "      <td>Красноярск</td>\n",
       "      <td>Николай</td>\n",
       "      <td>Лебедев</td>\n",
       "      <td>2018-08-05</td>\n",
       "      <td>ultra</td>\n",
       "      <td>9</td>\n",
       "      <td>19.0</td>\n",
       "      <td>NaN</td>\n",
       "      <td>NaN</td>\n",
       "      <td>17.0</td>\n",
       "    </tr>\n",
       "    <tr>\n",
       "      <td>3047</td>\n",
       "      <td>1473</td>\n",
       "      <td>18</td>\n",
       "      <td>NaT</td>\n",
       "      <td>Красноярск</td>\n",
       "      <td>Николай</td>\n",
       "      <td>Лебедев</td>\n",
       "      <td>2018-08-05</td>\n",
       "      <td>ultra</td>\n",
       "      <td>10</td>\n",
       "      <td>20.0</td>\n",
       "      <td>NaN</td>\n",
       "      <td>NaN</td>\n",
       "      <td>14.0</td>\n",
       "    </tr>\n",
       "    <tr>\n",
       "      <td>3048</td>\n",
       "      <td>1473</td>\n",
       "      <td>18</td>\n",
       "      <td>NaT</td>\n",
       "      <td>Красноярск</td>\n",
       "      <td>Николай</td>\n",
       "      <td>Лебедев</td>\n",
       "      <td>2018-08-05</td>\n",
       "      <td>ultra</td>\n",
       "      <td>11</td>\n",
       "      <td>14.0</td>\n",
       "      <td>NaN</td>\n",
       "      <td>NaN</td>\n",
       "      <td>22.0</td>\n",
       "    </tr>\n",
       "    <tr>\n",
       "      <td>3049</td>\n",
       "      <td>1473</td>\n",
       "      <td>18</td>\n",
       "      <td>NaT</td>\n",
       "      <td>Красноярск</td>\n",
       "      <td>Николай</td>\n",
       "      <td>Лебедев</td>\n",
       "      <td>2018-08-05</td>\n",
       "      <td>ultra</td>\n",
       "      <td>12</td>\n",
       "      <td>20.0</td>\n",
       "      <td>NaN</td>\n",
       "      <td>NaN</td>\n",
       "      <td>18.0</td>\n",
       "    </tr>\n",
       "    <tr>\n",
       "      <td>3072</td>\n",
       "      <td>1476</td>\n",
       "      <td>50</td>\n",
       "      <td>NaT</td>\n",
       "      <td>Москва</td>\n",
       "      <td>Валентина</td>\n",
       "      <td>Семенова</td>\n",
       "      <td>2018-04-30</td>\n",
       "      <td>ultra</td>\n",
       "      <td>4</td>\n",
       "      <td>NaN</td>\n",
       "      <td>NaN</td>\n",
       "      <td>NaN</td>\n",
       "      <td>1.0</td>\n",
       "    </tr>\n",
       "    <tr>\n",
       "      <td>3149</td>\n",
       "      <td>1489</td>\n",
       "      <td>35</td>\n",
       "      <td>NaT</td>\n",
       "      <td>Санкт-Петербург</td>\n",
       "      <td>Павел</td>\n",
       "      <td>Гончаров</td>\n",
       "      <td>2018-08-15</td>\n",
       "      <td>smart</td>\n",
       "      <td>8</td>\n",
       "      <td>17.0</td>\n",
       "      <td>NaN</td>\n",
       "      <td>NaN</td>\n",
       "      <td>11.0</td>\n",
       "    </tr>\n",
       "    <tr>\n",
       "      <td>3150</td>\n",
       "      <td>1489</td>\n",
       "      <td>35</td>\n",
       "      <td>NaT</td>\n",
       "      <td>Санкт-Петербург</td>\n",
       "      <td>Павел</td>\n",
       "      <td>Гончаров</td>\n",
       "      <td>2018-08-15</td>\n",
       "      <td>smart</td>\n",
       "      <td>9</td>\n",
       "      <td>32.0</td>\n",
       "      <td>NaN</td>\n",
       "      <td>NaN</td>\n",
       "      <td>17.0</td>\n",
       "    </tr>\n",
       "    <tr>\n",
       "      <td>3151</td>\n",
       "      <td>1489</td>\n",
       "      <td>35</td>\n",
       "      <td>NaT</td>\n",
       "      <td>Санкт-Петербург</td>\n",
       "      <td>Павел</td>\n",
       "      <td>Гончаров</td>\n",
       "      <td>2018-08-15</td>\n",
       "      <td>smart</td>\n",
       "      <td>10</td>\n",
       "      <td>21.0</td>\n",
       "      <td>NaN</td>\n",
       "      <td>NaN</td>\n",
       "      <td>20.0</td>\n",
       "    </tr>\n",
       "    <tr>\n",
       "      <td>3152</td>\n",
       "      <td>1489</td>\n",
       "      <td>35</td>\n",
       "      <td>NaT</td>\n",
       "      <td>Санкт-Петербург</td>\n",
       "      <td>Павел</td>\n",
       "      <td>Гончаров</td>\n",
       "      <td>2018-08-15</td>\n",
       "      <td>smart</td>\n",
       "      <td>11</td>\n",
       "      <td>20.0</td>\n",
       "      <td>NaN</td>\n",
       "      <td>NaN</td>\n",
       "      <td>18.0</td>\n",
       "    </tr>\n",
       "    <tr>\n",
       "      <td>3153</td>\n",
       "      <td>1489</td>\n",
       "      <td>35</td>\n",
       "      <td>NaT</td>\n",
       "      <td>Санкт-Петербург</td>\n",
       "      <td>Павел</td>\n",
       "      <td>Гончаров</td>\n",
       "      <td>2018-08-15</td>\n",
       "      <td>smart</td>\n",
       "      <td>12</td>\n",
       "      <td>35.0</td>\n",
       "      <td>NaN</td>\n",
       "      <td>NaN</td>\n",
       "      <td>17.0</td>\n",
       "    </tr>\n",
       "  </tbody>\n",
       "</table>\n",
       "</div>"
      ],
      "text/plain": [
       "      user_id  age churn_date              city first_name   last_name  \\\n",
       "570      1091   36        NaT  Набережные Челны       Вера     Суслова   \n",
       "571      1091   36        NaT  Набережные Челны       Вера     Суслова   \n",
       "572      1091   36        NaT  Набережные Челны       Вера     Суслова   \n",
       "573      1091   36        NaT  Набережные Челны       Вера     Суслова   \n",
       "574      1091   36        NaT  Набережные Челны       Вера     Суслова   \n",
       "575      1091   36        NaT  Набережные Челны       Вера     Суслова   \n",
       "576      1091   36        NaT  Набережные Челны       Вера     Суслова   \n",
       "577      1091   36        NaT  Набережные Челны       Вера     Суслова   \n",
       "671      1106   67        NaT            Калуга      Исаак      Костин   \n",
       "672      1106   67        NaT            Калуга      Исаак      Костин   \n",
       "673      1106   67        NaT            Калуга      Исаак      Костин   \n",
       "674      1106   67        NaT            Калуга      Исаак      Костин   \n",
       "675      1106   67        NaT            Калуга      Исаак      Костин   \n",
       "676      1106   67        NaT            Калуга      Исаак      Костин   \n",
       "677      1106   67        NaT            Калуга      Исаак      Костин   \n",
       "678      1106   67        NaT            Калуга      Исаак      Костин   \n",
       "679      1106   67        NaT            Калуга      Исаак      Костин   \n",
       "1474     1231   63        NaT         Чебоксары     Касьян     Авдюков   \n",
       "1475     1231   63        NaT         Чебоксары     Касьян     Авдюков   \n",
       "1476     1231   63        NaT         Чебоксары     Касьян     Авдюков   \n",
       "1477     1231   63        NaT         Чебоксары     Касьян     Авдюков   \n",
       "1478     1231   63        NaT         Чебоксары     Касьян     Авдюков   \n",
       "1479     1231   63        NaT         Чебоксары     Касьян     Авдюков   \n",
       "1480     1231   63        NaT         Чебоксары     Касьян     Авдюков   \n",
       "1481     1231   63        NaT         Чебоксары     Касьян     Авдюков   \n",
       "2082     1328   44        NaT          Мурманск      Рауль    Аркадьев   \n",
       "2083     1328   44        NaT          Мурманск      Рауль    Аркадьев   \n",
       "2084     1328   44        NaT          Мурманск      Рауль    Аркадьев   \n",
       "2351     1373   34        NaT          Улан-Удэ      Нелли  Афанасенко   \n",
       "3045     1473   18        NaT        Красноярск    Николай     Лебедев   \n",
       "3046     1473   18        NaT        Красноярск    Николай     Лебедев   \n",
       "3047     1473   18        NaT        Красноярск    Николай     Лебедев   \n",
       "3048     1473   18        NaT        Красноярск    Николай     Лебедев   \n",
       "3049     1473   18        NaT        Красноярск    Николай     Лебедев   \n",
       "3072     1476   50        NaT            Москва  Валентина    Семенова   \n",
       "3149     1489   35        NaT   Санкт-Петербург      Павел    Гончаров   \n",
       "3150     1489   35        NaT   Санкт-Петербург      Павел    Гончаров   \n",
       "3151     1489   35        NaT   Санкт-Петербург      Павел    Гончаров   \n",
       "3152     1489   35        NaT   Санкт-Петербург      Павел    Гончаров   \n",
       "3153     1489   35        NaT   Санкт-Петербург      Павел    Гончаров   \n",
       "\n",
       "       reg_date tariff  month  amount_mes  amount_min  amount_calls  \\\n",
       "570  2018-05-08  ultra      5        30.0         NaN           NaN   \n",
       "571  2018-05-08  ultra      6        30.0         NaN           NaN   \n",
       "572  2018-05-08  ultra      7        35.0         NaN           NaN   \n",
       "573  2018-05-08  ultra      8        31.0         NaN           NaN   \n",
       "574  2018-05-08  ultra      9        32.0         NaN           NaN   \n",
       "575  2018-05-08  ultra     10        44.0         NaN           NaN   \n",
       "576  2018-05-08  ultra     11        28.0         NaN           NaN   \n",
       "577  2018-05-08  ultra     12        42.0         NaN           NaN   \n",
       "671  2018-04-26  ultra      4         9.0         NaN           NaN   \n",
       "672  2018-04-26  ultra      5        28.0         NaN           NaN   \n",
       "673  2018-04-26  ultra      6        30.0         NaN           NaN   \n",
       "674  2018-04-26  ultra      7        24.0         NaN           NaN   \n",
       "675  2018-04-26  ultra      8        25.0         NaN           NaN   \n",
       "676  2018-04-26  ultra      9        23.0         NaN           NaN   \n",
       "677  2018-04-26  ultra     10        33.0         NaN           NaN   \n",
       "678  2018-04-26  ultra     11        29.0         NaN           NaN   \n",
       "679  2018-04-26  ultra     12        24.0         NaN           NaN   \n",
       "1474 2018-05-23  ultra      5        55.0         NaN           NaN   \n",
       "1475 2018-05-23  ultra      6       201.0         NaN           NaN   \n",
       "1476 2018-05-23  ultra      7       211.0         NaN           NaN   \n",
       "1477 2018-05-23  ultra      8       180.0         NaN           NaN   \n",
       "1478 2018-05-23  ultra      9       188.0         NaN           NaN   \n",
       "1479 2018-05-23  ultra     10       185.0         NaN           NaN   \n",
       "1480 2018-05-23  ultra     11       173.0         NaN           NaN   \n",
       "1481 2018-05-23  ultra     12       191.0         NaN           NaN   \n",
       "2082 2018-10-16  ultra     10         6.0         NaN           NaN   \n",
       "2083 2018-10-16  ultra     11         8.0         NaN           NaN   \n",
       "2084 2018-10-16  ultra     12         7.0         NaN           NaN   \n",
       "2351 2018-01-17  smart      6        48.0         NaN           NaN   \n",
       "3045 2018-08-05  ultra      8        17.0         NaN           NaN   \n",
       "3046 2018-08-05  ultra      9        19.0         NaN           NaN   \n",
       "3047 2018-08-05  ultra     10        20.0         NaN           NaN   \n",
       "3048 2018-08-05  ultra     11        14.0         NaN           NaN   \n",
       "3049 2018-08-05  ultra     12        20.0         NaN           NaN   \n",
       "3072 2018-04-30  ultra      4         NaN         NaN           NaN   \n",
       "3149 2018-08-15  smart      8        17.0         NaN           NaN   \n",
       "3150 2018-08-15  smart      9        32.0         NaN           NaN   \n",
       "3151 2018-08-15  smart     10        21.0         NaN           NaN   \n",
       "3152 2018-08-15  smart     11        20.0         NaN           NaN   \n",
       "3153 2018-08-15  smart     12        35.0         NaN           NaN   \n",
       "\n",
       "      total_gb_used  \n",
       "570            11.0  \n",
       "571            10.0  \n",
       "572            17.0  \n",
       "573            13.0  \n",
       "574            17.0  \n",
       "575            16.0  \n",
       "576            12.0  \n",
       "577            13.0  \n",
       "671             3.0  \n",
       "672            17.0  \n",
       "673            20.0  \n",
       "674            22.0  \n",
       "675            19.0  \n",
       "676            22.0  \n",
       "677            14.0  \n",
       "678            21.0  \n",
       "679            19.0  \n",
       "1474           11.0  \n",
       "1475           28.0  \n",
       "1476           28.0  \n",
       "1477           32.0  \n",
       "1478           33.0  \n",
       "1479           31.0  \n",
       "1480           27.0  \n",
       "1481           32.0  \n",
       "2082           22.0  \n",
       "2083           35.0  \n",
       "2084           39.0  \n",
       "2351           13.0  \n",
       "3045           13.0  \n",
       "3046           17.0  \n",
       "3047           14.0  \n",
       "3048           22.0  \n",
       "3049           18.0  \n",
       "3072            1.0  \n",
       "3149           11.0  \n",
       "3150           17.0  \n",
       "3151           20.0  \n",
       "3152           18.0  \n",
       "3153           17.0  "
      ]
     },
     "execution_count": 43,
     "metadata": {},
     "output_type": "execute_result"
    }
   ],
   "source": [
    "final_df[final_df['amount_calls'].isna()]"
   ]
  },
  {
   "cell_type": "markdown",
   "metadata": {},
   "source": [
    "Заменим пропуски на 0."
   ]
  },
  {
   "cell_type": "code",
   "execution_count": 44,
   "metadata": {},
   "outputs": [],
   "source": [
    "final_df['total_gb_used'] = final_df['total_gb_used'].fillna(0)\n",
    "final_df['amount_mes'] = final_df['amount_mes'].fillna(0)\n",
    "final_df['amount_min'] = final_df['amount_min'].fillna(0)\n",
    "final_df['amount_calls'] = final_df['amount_calls'].fillna(0)"
   ]
  },
  {
   "cell_type": "code",
   "execution_count": 45,
   "metadata": {},
   "outputs": [
    {
     "data": {
      "text/html": [
       "<div>\n",
       "<style scoped>\n",
       "    .dataframe tbody tr th:only-of-type {\n",
       "        vertical-align: middle;\n",
       "    }\n",
       "\n",
       "    .dataframe tbody tr th {\n",
       "        vertical-align: top;\n",
       "    }\n",
       "\n",
       "    .dataframe thead th {\n",
       "        text-align: right;\n",
       "    }\n",
       "</style>\n",
       "<table border=\"1\" class=\"dataframe\">\n",
       "  <thead>\n",
       "    <tr style=\"text-align: right;\">\n",
       "      <th></th>\n",
       "      <th>user_id</th>\n",
       "      <th>age</th>\n",
       "      <th>churn_date</th>\n",
       "      <th>city</th>\n",
       "      <th>first_name</th>\n",
       "      <th>last_name</th>\n",
       "      <th>reg_date</th>\n",
       "      <th>tariff</th>\n",
       "      <th>month</th>\n",
       "      <th>amount_mes</th>\n",
       "      <th>amount_min</th>\n",
       "      <th>amount_calls</th>\n",
       "      <th>total_gb_used</th>\n",
       "    </tr>\n",
       "  </thead>\n",
       "  <tbody>\n",
       "  </tbody>\n",
       "</table>\n",
       "</div>"
      ],
      "text/plain": [
       "Empty DataFrame\n",
       "Columns: [user_id, age, churn_date, city, first_name, last_name, reg_date, tariff, month, amount_mes, amount_min, amount_calls, total_gb_used]\n",
       "Index: []"
      ]
     },
     "execution_count": 45,
     "metadata": {},
     "output_type": "execute_result"
    }
   ],
   "source": [
    "final_df[final_df['amount_min'].isna()] # проверяем"
   ]
  },
  {
   "cell_type": "markdown",
   "metadata": {},
   "source": [
    "<h3> Высчитаем оплату за месяц </h3>"
   ]
  },
  {
   "cell_type": "markdown",
   "metadata": {},
   "source": [
    "Добавлять в таблицу стоимости за минуты и ГБ не будем, просто будем держать перед глазами. Напишем функцию для вычисления суммы оплаченной за месяц."
   ]
  },
  {
   "cell_type": "code",
   "execution_count": 46,
   "metadata": {},
   "outputs": [],
   "source": [
    "def payment(row):\n",
    "    name_tariff = row['tariff']\n",
    "    messages = row['amount_mes']\n",
    "    minutes = row['amount_min']\n",
    "    internet = row['total_gb_used']\n",
    "    minutes = row['amount_min']\n",
    "    minutes_included_smart = 500\n",
    "    minutes_included_ultra = 3500\n",
    "    messages_included_smart = 50\n",
    "    messages_included_ultra = 1000\n",
    "    gb_per_month_included_smart = 15360 / 1024\n",
    "    gb_per_month_included_ultra = 30720 / 1024\n",
    "    rub_per_minute_smart = 3\n",
    "    rub_per_minute_ultra = 1\n",
    "    rub_per_message_smart = 3\n",
    "    rub_per_message_ultra = 1\n",
    "    rub_per_gb_smart = 200\n",
    "    rub_per_gb_ultra = 150 \n",
    "    rub_monthly_fee_smart = 550\n",
    "    rub_monthly_fee_ultra = 1950\n",
    "    if name_tariff == 'smart':\n",
    "        add_minutes = minutes - minutes_included_smart\n",
    "        add_messages = messages - messages_included_smart\n",
    "        add_gb = internet - gb_per_month_included_smart\n",
    "        # ((x*x)**(1/2)+x)/2 - это формула вернет 0 если будет отрицательное значение и\n",
    "        # нормальное число если положительное (это чтобы не писать еще раз if)\n",
    "        pay = (rub_monthly_fee_smart + (((add_minutes * add_minutes) ** (1 / 2) + add_minutes) / 2)\n",
    "        * rub_per_minute_smart + (((add_messages * add_messages) ** (1 / 2) + add_messages) / 2)\n",
    "        * rub_per_message_smart + (((add_gb * add_gb) ** (1 / 2)+add_gb) / 2) * rub_per_gb_smart)\n",
    "    elif name_tariff == 'ultra':\n",
    "        add_minutes = minutes - minutes_included_ultra\n",
    "        add_messages = messages - messages_included_ultra\n",
    "        add_gb = internet - gb_per_month_included_ultra\n",
    "        # ((x*x)**(1/2)+x)/2 - это формула вернет 0 если будет отрицательное значение и\n",
    "        # нормальное число если положительное (это чтобы не писать еще раз if)\n",
    "        pay = (rub_monthly_fee_ultra + (((add_minutes * add_minutes) ** (1 / 2) + add_minutes) / 2)\n",
    "        * rub_per_minute_ultra + (((add_messages * add_messages) ** (1 / 2) + add_messages) / 2)\n",
    "        * rub_per_message_ultra + (((add_gb * add_gb) ** (1 / 2)+add_gb) / 2) * rub_per_gb_ultra)\n",
    "    return pay"
   ]
  },
  {
   "cell_type": "code",
   "execution_count": 47,
   "metadata": {},
   "outputs": [],
   "source": [
    "final_df['payment'] = final_df.apply(payment, axis = 1)"
   ]
  },
  {
   "cell_type": "code",
   "execution_count": 48,
   "metadata": {},
   "outputs": [
    {
     "data": {
      "text/html": [
       "<div>\n",
       "<style scoped>\n",
       "    .dataframe tbody tr th:only-of-type {\n",
       "        vertical-align: middle;\n",
       "    }\n",
       "\n",
       "    .dataframe tbody tr th {\n",
       "        vertical-align: top;\n",
       "    }\n",
       "\n",
       "    .dataframe thead th {\n",
       "        text-align: right;\n",
       "    }\n",
       "</style>\n",
       "<table border=\"1\" class=\"dataframe\">\n",
       "  <thead>\n",
       "    <tr style=\"text-align: right;\">\n",
       "      <th></th>\n",
       "      <th>user_id</th>\n",
       "      <th>age</th>\n",
       "      <th>churn_date</th>\n",
       "      <th>city</th>\n",
       "      <th>first_name</th>\n",
       "      <th>last_name</th>\n",
       "      <th>reg_date</th>\n",
       "      <th>tariff</th>\n",
       "      <th>month</th>\n",
       "      <th>amount_mes</th>\n",
       "      <th>amount_min</th>\n",
       "      <th>amount_calls</th>\n",
       "      <th>total_gb_used</th>\n",
       "      <th>payment</th>\n",
       "    </tr>\n",
       "  </thead>\n",
       "  <tbody>\n",
       "  </tbody>\n",
       "</table>\n",
       "</div>"
      ],
      "text/plain": [
       "Empty DataFrame\n",
       "Columns: [user_id, age, churn_date, city, first_name, last_name, reg_date, tariff, month, amount_mes, amount_min, amount_calls, total_gb_used, payment]\n",
       "Index: []"
      ]
     },
     "execution_count": 48,
     "metadata": {},
     "output_type": "execute_result"
    }
   ],
   "source": [
    "final_df[final_df['payment'] < 0] # Проверяем"
   ]
  },
  {
   "cell_type": "code",
   "execution_count": 49,
   "metadata": {
    "scrolled": true
   },
   "outputs": [
    {
     "data": {
      "text/html": [
       "<div>\n",
       "<style scoped>\n",
       "    .dataframe tbody tr th:only-of-type {\n",
       "        vertical-align: middle;\n",
       "    }\n",
       "\n",
       "    .dataframe tbody tr th {\n",
       "        vertical-align: top;\n",
       "    }\n",
       "\n",
       "    .dataframe thead th {\n",
       "        text-align: right;\n",
       "    }\n",
       "</style>\n",
       "<table border=\"1\" class=\"dataframe\">\n",
       "  <thead>\n",
       "    <tr style=\"text-align: right;\">\n",
       "      <th></th>\n",
       "      <th>user_id</th>\n",
       "      <th>age</th>\n",
       "      <th>churn_date</th>\n",
       "      <th>city</th>\n",
       "      <th>first_name</th>\n",
       "      <th>last_name</th>\n",
       "      <th>reg_date</th>\n",
       "      <th>tariff</th>\n",
       "      <th>month</th>\n",
       "      <th>amount_mes</th>\n",
       "      <th>amount_min</th>\n",
       "      <th>amount_calls</th>\n",
       "      <th>total_gb_used</th>\n",
       "      <th>payment</th>\n",
       "    </tr>\n",
       "  </thead>\n",
       "  <tbody>\n",
       "    <tr>\n",
       "      <td>0</td>\n",
       "      <td>1000</td>\n",
       "      <td>52</td>\n",
       "      <td>NaT</td>\n",
       "      <td>Краснодар</td>\n",
       "      <td>Рафаил</td>\n",
       "      <td>Верещагин</td>\n",
       "      <td>2018-05-25</td>\n",
       "      <td>ultra</td>\n",
       "      <td>5</td>\n",
       "      <td>22.0</td>\n",
       "      <td>159.0</td>\n",
       "      <td>22.0</td>\n",
       "      <td>3.0</td>\n",
       "      <td>1950.0</td>\n",
       "    </tr>\n",
       "    <tr>\n",
       "      <td>1</td>\n",
       "      <td>1000</td>\n",
       "      <td>52</td>\n",
       "      <td>NaT</td>\n",
       "      <td>Краснодар</td>\n",
       "      <td>Рафаил</td>\n",
       "      <td>Верещагин</td>\n",
       "      <td>2018-05-25</td>\n",
       "      <td>ultra</td>\n",
       "      <td>6</td>\n",
       "      <td>60.0</td>\n",
       "      <td>172.0</td>\n",
       "      <td>43.0</td>\n",
       "      <td>23.0</td>\n",
       "      <td>1950.0</td>\n",
       "    </tr>\n",
       "    <tr>\n",
       "      <td>2</td>\n",
       "      <td>1000</td>\n",
       "      <td>52</td>\n",
       "      <td>NaT</td>\n",
       "      <td>Краснодар</td>\n",
       "      <td>Рафаил</td>\n",
       "      <td>Верещагин</td>\n",
       "      <td>2018-05-25</td>\n",
       "      <td>ultra</td>\n",
       "      <td>7</td>\n",
       "      <td>75.0</td>\n",
       "      <td>340.0</td>\n",
       "      <td>47.0</td>\n",
       "      <td>14.0</td>\n",
       "      <td>1950.0</td>\n",
       "    </tr>\n",
       "    <tr>\n",
       "      <td>3</td>\n",
       "      <td>1000</td>\n",
       "      <td>52</td>\n",
       "      <td>NaT</td>\n",
       "      <td>Краснодар</td>\n",
       "      <td>Рафаил</td>\n",
       "      <td>Верещагин</td>\n",
       "      <td>2018-05-25</td>\n",
       "      <td>ultra</td>\n",
       "      <td>8</td>\n",
       "      <td>81.0</td>\n",
       "      <td>408.0</td>\n",
       "      <td>52.0</td>\n",
       "      <td>14.0</td>\n",
       "      <td>1950.0</td>\n",
       "    </tr>\n",
       "    <tr>\n",
       "      <td>4</td>\n",
       "      <td>1000</td>\n",
       "      <td>52</td>\n",
       "      <td>NaT</td>\n",
       "      <td>Краснодар</td>\n",
       "      <td>Рафаил</td>\n",
       "      <td>Верещагин</td>\n",
       "      <td>2018-05-25</td>\n",
       "      <td>ultra</td>\n",
       "      <td>9</td>\n",
       "      <td>57.0</td>\n",
       "      <td>466.0</td>\n",
       "      <td>58.0</td>\n",
       "      <td>15.0</td>\n",
       "      <td>1950.0</td>\n",
       "    </tr>\n",
       "  </tbody>\n",
       "</table>\n",
       "</div>"
      ],
      "text/plain": [
       "   user_id  age churn_date       city first_name  last_name   reg_date tariff  \\\n",
       "0     1000   52        NaT  Краснодар     Рафаил  Верещагин 2018-05-25  ultra   \n",
       "1     1000   52        NaT  Краснодар     Рафаил  Верещагин 2018-05-25  ultra   \n",
       "2     1000   52        NaT  Краснодар     Рафаил  Верещагин 2018-05-25  ultra   \n",
       "3     1000   52        NaT  Краснодар     Рафаил  Верещагин 2018-05-25  ultra   \n",
       "4     1000   52        NaT  Краснодар     Рафаил  Верещагин 2018-05-25  ultra   \n",
       "\n",
       "   month  amount_mes  amount_min  amount_calls  total_gb_used  payment  \n",
       "0      5        22.0       159.0          22.0            3.0   1950.0  \n",
       "1      6        60.0       172.0          43.0           23.0   1950.0  \n",
       "2      7        75.0       340.0          47.0           14.0   1950.0  \n",
       "3      8        81.0       408.0          52.0           14.0   1950.0  \n",
       "4      9        57.0       466.0          58.0           15.0   1950.0  "
      ]
     },
     "execution_count": 49,
     "metadata": {},
     "output_type": "execute_result"
    }
   ],
   "source": [
    "final_df.head() # Проверяем"
   ]
  },
  {
   "cell_type": "code",
   "execution_count": 50,
   "metadata": {
    "scrolled": true
   },
   "outputs": [
    {
     "data": {
      "text/html": [
       "<div>\n",
       "<style scoped>\n",
       "    .dataframe tbody tr th:only-of-type {\n",
       "        vertical-align: middle;\n",
       "    }\n",
       "\n",
       "    .dataframe tbody tr th {\n",
       "        vertical-align: top;\n",
       "    }\n",
       "\n",
       "    .dataframe thead th {\n",
       "        text-align: right;\n",
       "    }\n",
       "</style>\n",
       "<table border=\"1\" class=\"dataframe\">\n",
       "  <thead>\n",
       "    <tr style=\"text-align: right;\">\n",
       "      <th></th>\n",
       "      <th>user_id</th>\n",
       "      <th>age</th>\n",
       "      <th>churn_date</th>\n",
       "      <th>city</th>\n",
       "      <th>first_name</th>\n",
       "      <th>last_name</th>\n",
       "      <th>reg_date</th>\n",
       "      <th>tariff</th>\n",
       "      <th>month</th>\n",
       "      <th>amount_mes</th>\n",
       "      <th>amount_min</th>\n",
       "      <th>amount_calls</th>\n",
       "      <th>total_gb_used</th>\n",
       "      <th>payment</th>\n",
       "    </tr>\n",
       "  </thead>\n",
       "  <tbody>\n",
       "  </tbody>\n",
       "</table>\n",
       "</div>"
      ],
      "text/plain": [
       "Empty DataFrame\n",
       "Columns: [user_id, age, churn_date, city, first_name, last_name, reg_date, tariff, month, amount_mes, amount_min, amount_calls, total_gb_used, payment]\n",
       "Index: []"
      ]
     },
     "execution_count": 50,
     "metadata": {},
     "output_type": "execute_result"
    }
   ],
   "source": [
    "final_df[final_df['total_gb_used'].isna()]"
   ]
  },
  {
   "cell_type": "code",
   "execution_count": 51,
   "metadata": {},
   "outputs": [],
   "source": [
    "final_df.drop(['first_name', 'last_name'], axis=1, inplace=True)"
   ]
  },
  {
   "cell_type": "markdown",
   "metadata": {},
   "source": [
    "<h3> Изменение типа данных </h3>"
   ]
  },
  {
   "cell_type": "code",
   "execution_count": 52,
   "metadata": {
    "scrolled": true
   },
   "outputs": [
    {
     "name": "stdout",
     "output_type": "stream",
     "text": [
      "<class 'pandas.core.frame.DataFrame'>\n",
      "Int64Index: 3214 entries, 0 to 3213\n",
      "Data columns (total 12 columns):\n",
      "user_id          3214 non-null int64\n",
      "age              3214 non-null int64\n",
      "churn_date       187 non-null datetime64[ns]\n",
      "city             3214 non-null object\n",
      "reg_date         3214 non-null datetime64[ns]\n",
      "tariff           3214 non-null object\n",
      "month            3214 non-null int64\n",
      "amount_mes       3214 non-null float64\n",
      "amount_min       3214 non-null float64\n",
      "amount_calls     3214 non-null float64\n",
      "total_gb_used    3214 non-null float64\n",
      "payment          3214 non-null float64\n",
      "dtypes: datetime64[ns](2), float64(5), int64(3), object(2)\n",
      "memory usage: 326.4+ KB\n"
     ]
    }
   ],
   "source": [
    "final_df.info()"
   ]
  },
  {
   "cell_type": "code",
   "execution_count": 53,
   "metadata": {},
   "outputs": [],
   "source": [
    "final_df['city'] = final_df['city'].astype('category')\n",
    "#final_df['first_name'] = final_df['first_name'].astype('category')\n",
    "final_df['tariff'] = final_df['tariff'].astype('category') # Имен не так уж мнго\n",
    "final_df['amount_mes'] = final_df['amount_mes'].astype('uint16') # Нам нужны только пол. цел числ.\n",
    "final_df['amount_min'] = final_df['amount_min'].astype('uint16')\n",
    "final_df['total_gb_used'] = final_df['total_gb_used'].astype('uint16')\n",
    "final_df['amount_calls'] = final_df['amount_calls'].astype('uint16')\n",
    "final_df['payment'] = final_df['payment'].astype('uint16')"
   ]
  },
  {
   "cell_type": "code",
   "execution_count": 54,
   "metadata": {
    "scrolled": true
   },
   "outputs": [
    {
     "name": "stdout",
     "output_type": "stream",
     "text": [
      "<class 'pandas.core.frame.DataFrame'>\n",
      "Int64Index: 3214 entries, 0 to 3213\n",
      "Data columns (total 12 columns):\n",
      "user_id          3214 non-null int64\n",
      "age              3214 non-null int64\n",
      "churn_date       187 non-null datetime64[ns]\n",
      "city             3214 non-null category\n",
      "reg_date         3214 non-null datetime64[ns]\n",
      "tariff           3214 non-null category\n",
      "month            3214 non-null int64\n",
      "amount_mes       3214 non-null uint16\n",
      "amount_min       3214 non-null uint16\n",
      "amount_calls     3214 non-null uint16\n",
      "total_gb_used    3214 non-null uint16\n",
      "payment          3214 non-null uint16\n",
      "dtypes: category(2), datetime64[ns](2), int64(3), uint16(5)\n",
      "memory usage: 191.5 KB\n"
     ]
    }
   ],
   "source": [
    "final_df.info()"
   ]
  },
  {
   "cell_type": "code",
   "execution_count": 55,
   "metadata": {
    "scrolled": true
   },
   "outputs": [
    {
     "data": {
      "text/html": [
       "<div>\n",
       "<style scoped>\n",
       "    .dataframe tbody tr th:only-of-type {\n",
       "        vertical-align: middle;\n",
       "    }\n",
       "\n",
       "    .dataframe tbody tr th {\n",
       "        vertical-align: top;\n",
       "    }\n",
       "\n",
       "    .dataframe thead th {\n",
       "        text-align: right;\n",
       "    }\n",
       "</style>\n",
       "<table border=\"1\" class=\"dataframe\">\n",
       "  <thead>\n",
       "    <tr style=\"text-align: right;\">\n",
       "      <th></th>\n",
       "      <th>user_id</th>\n",
       "      <th>age</th>\n",
       "      <th>churn_date</th>\n",
       "      <th>city</th>\n",
       "      <th>reg_date</th>\n",
       "      <th>tariff</th>\n",
       "      <th>month</th>\n",
       "      <th>amount_mes</th>\n",
       "      <th>amount_min</th>\n",
       "      <th>amount_calls</th>\n",
       "      <th>total_gb_used</th>\n",
       "      <th>payment</th>\n",
       "    </tr>\n",
       "  </thead>\n",
       "  <tbody>\n",
       "    <tr>\n",
       "      <td>0</td>\n",
       "      <td>1000</td>\n",
       "      <td>52</td>\n",
       "      <td>NaT</td>\n",
       "      <td>Краснодар</td>\n",
       "      <td>2018-05-25</td>\n",
       "      <td>ultra</td>\n",
       "      <td>5</td>\n",
       "      <td>22</td>\n",
       "      <td>159</td>\n",
       "      <td>22</td>\n",
       "      <td>3</td>\n",
       "      <td>1950</td>\n",
       "    </tr>\n",
       "    <tr>\n",
       "      <td>1</td>\n",
       "      <td>1000</td>\n",
       "      <td>52</td>\n",
       "      <td>NaT</td>\n",
       "      <td>Краснодар</td>\n",
       "      <td>2018-05-25</td>\n",
       "      <td>ultra</td>\n",
       "      <td>6</td>\n",
       "      <td>60</td>\n",
       "      <td>172</td>\n",
       "      <td>43</td>\n",
       "      <td>23</td>\n",
       "      <td>1950</td>\n",
       "    </tr>\n",
       "    <tr>\n",
       "      <td>2</td>\n",
       "      <td>1000</td>\n",
       "      <td>52</td>\n",
       "      <td>NaT</td>\n",
       "      <td>Краснодар</td>\n",
       "      <td>2018-05-25</td>\n",
       "      <td>ultra</td>\n",
       "      <td>7</td>\n",
       "      <td>75</td>\n",
       "      <td>340</td>\n",
       "      <td>47</td>\n",
       "      <td>14</td>\n",
       "      <td>1950</td>\n",
       "    </tr>\n",
       "    <tr>\n",
       "      <td>3</td>\n",
       "      <td>1000</td>\n",
       "      <td>52</td>\n",
       "      <td>NaT</td>\n",
       "      <td>Краснодар</td>\n",
       "      <td>2018-05-25</td>\n",
       "      <td>ultra</td>\n",
       "      <td>8</td>\n",
       "      <td>81</td>\n",
       "      <td>408</td>\n",
       "      <td>52</td>\n",
       "      <td>14</td>\n",
       "      <td>1950</td>\n",
       "    </tr>\n",
       "    <tr>\n",
       "      <td>4</td>\n",
       "      <td>1000</td>\n",
       "      <td>52</td>\n",
       "      <td>NaT</td>\n",
       "      <td>Краснодар</td>\n",
       "      <td>2018-05-25</td>\n",
       "      <td>ultra</td>\n",
       "      <td>9</td>\n",
       "      <td>57</td>\n",
       "      <td>466</td>\n",
       "      <td>58</td>\n",
       "      <td>15</td>\n",
       "      <td>1950</td>\n",
       "    </tr>\n",
       "  </tbody>\n",
       "</table>\n",
       "</div>"
      ],
      "text/plain": [
       "   user_id  age churn_date       city   reg_date tariff  month  amount_mes  \\\n",
       "0     1000   52        NaT  Краснодар 2018-05-25  ultra      5          22   \n",
       "1     1000   52        NaT  Краснодар 2018-05-25  ultra      6          60   \n",
       "2     1000   52        NaT  Краснодар 2018-05-25  ultra      7          75   \n",
       "3     1000   52        NaT  Краснодар 2018-05-25  ultra      8          81   \n",
       "4     1000   52        NaT  Краснодар 2018-05-25  ultra      9          57   \n",
       "\n",
       "   amount_min  amount_calls  total_gb_used  payment  \n",
       "0         159            22              3     1950  \n",
       "1         172            43             23     1950  \n",
       "2         340            47             14     1950  \n",
       "3         408            52             14     1950  \n",
       "4         466            58             15     1950  "
      ]
     },
     "execution_count": 55,
     "metadata": {},
     "output_type": "execute_result"
    }
   ],
   "source": [
    "final_df.head()"
   ]
  },
  {
   "cell_type": "markdown",
   "metadata": {},
   "source": [
    "<h3> Вывод </h3>\n",
    "Из получанных нами 5 датасетов мы получили один со всеми необходимыми нам данными, а именно кол-во звонков, смс, интернета и плату по месяцам от каждого пользователя. Были обнаружены пропущенные значения, которые мы заменили на 0. \n"
   ]
  },
  {
   "cell_type": "markdown",
   "metadata": {},
   "source": [
    "## Анализ данных"
   ]
  },
  {
   "cell_type": "markdown",
   "metadata": {},
   "source": [
    "<h3> Разделение на тарифы </h3>"
   ]
  },
  {
   "cell_type": "code",
   "execution_count": 56,
   "metadata": {},
   "outputs": [],
   "source": [
    "smart_tar = final_df.query('tariff == \"smart\"')\n",
    "ultra_tar = final_df.query('tariff == \"ultra\"')"
   ]
  },
  {
   "cell_type": "markdown",
   "metadata": {},
   "source": [
    "<h3> Определение среднего количества, дисперсии и стандартного отклонения </h3>"
   ]
  },
  {
   "cell_type": "code",
   "execution_count": 57,
   "metadata": {},
   "outputs": [
    {
     "name": "stdout",
     "output_type": "stream",
     "text": [
      "Среднее кол-во минут тарифа смарт: 417.9349484073576\n",
      "Дисперсия кол-во минут тарифа смарт: 36203.06665209469\n",
      "Стандартное отклонения кол-во минут тарифа смарт: 190.27103471651876\n",
      "\n",
      "Среднее кол-во сообщений тарифа смарт: 33.384028712427096\n",
      "Дисперсия кол-во сообщений тарифа смарт: 796.455482917076\n",
      "Стандартное отклонения кол-во сообщений тарифа смарт: 28.221542886898938\n",
      "\n",
      "Среднее кол-во Гб тарифа смарт: 16.328847016599372\n",
      "Дисперсия кол-во Гб тарифа смарт: 33.013887454837445\n",
      "Стандартное отклонения кол-во Гб тарифа смарт: 5.745771267187499\n"
     ]
    }
   ],
   "source": [
    "print('Среднее кол-во минут тарифа смарт:',smart_tar['amount_min'].mean())\n",
    "print('Дисперсия кол-во минут тарифа смарт:',np.var(smart_tar['amount_min']))\n",
    "print('Стандартное отклонения кол-во минут тарифа смарт:',np.std(smart_tar['amount_min']))\n",
    "print('')\n",
    "print('Среднее кол-во сообщений тарифа смарт:',smart_tar['amount_mes'].mean())\n",
    "print('Дисперсия кол-во сообщений тарифа смарт:',np.var(smart_tar['amount_mes']))\n",
    "print('Стандартное отклонения кол-во сообщений тарифа смарт:',np.std(smart_tar['amount_mes']))\n",
    "print('')\n",
    "print('Среднее кол-во Гб тарифа смарт:',smart_tar['total_gb_used'].mean())\n",
    "print('Дисперсия кол-во Гб тарифа смарт:',np.var(smart_tar['total_gb_used']))\n",
    "print('Стандартное отклонения кол-во Гб тарифа смарт:',np.std(smart_tar['total_gb_used']))\n"
   ]
  },
  {
   "cell_type": "code",
   "execution_count": 58,
   "metadata": {},
   "outputs": [
    {
     "name": "stdout",
     "output_type": "stream",
     "text": [
      "Среднее кол-во минут тарифа ультра: 526.6233502538071\n",
      "Дисперсия кол-во минут тарифа ультра: 100771.2236172022\n",
      "Стандартное отклонения кол-во минут тарифа ультра: 317.44483554974113\n",
      "\n",
      "Среднее кол-во сообщений тарифа ультра: 49.36345177664975\n",
      "Дисперсия кол-во сообщений тарифа ультра: 2282.9460753948824\n",
      "Стандартное отклонения кол-во сообщений тарифа ультра: 47.78018496610161\n",
      "\n",
      "Среднее кол-во Гб тарифа ультра: 19.494416243654822\n",
      "Дисперсия кол-во Гб тарифа ультра: 96.99311602978692\n",
      "Стандартное отклонения кол-во Гб тарифа ультра: 9.848508314957495\n"
     ]
    }
   ],
   "source": [
    "print('Среднее кол-во минут тарифа ультра:',ultra_tar['amount_min'].mean())\n",
    "print('Дисперсия кол-во минут тарифа ультра:',np.var(ultra_tar['amount_min']))\n",
    "print('Стандартное отклонения кол-во минут тарифа ультра:',np.std(ultra_tar['amount_min']))\n",
    "print('')\n",
    "print('Среднее кол-во сообщений тарифа ультра:',ultra_tar['amount_mes'].mean())\n",
    "print('Дисперсия кол-во сообщений тарифа ультра:',np.var(ultra_tar['amount_mes']))\n",
    "print('Стандартное отклонения кол-во сообщений тарифа ультра:',np.std(ultra_tar['amount_mes']))\n",
    "print('')\n",
    "print('Среднее кол-во Гб тарифа ультра:',ultra_tar['total_gb_used'].mean())\n",
    "print('Дисперсия кол-во Гб тарифа ультра:',np.var(ultra_tar['total_gb_used']))\n",
    "print('Стандартное отклонения кол-во Гб тарифа ультра:',np.std(ultra_tar['total_gb_used']))"
   ]
  },
  {
   "cell_type": "markdown",
   "metadata": {},
   "source": [
    "<h3> Гистограмма по кол-ву минут</h3>"
   ]
  },
  {
   "cell_type": "code",
   "execution_count": 59,
   "metadata": {},
   "outputs": [
    {
     "data": {
      "text/plain": [
       "Text(0.5, 0, 'кол-во минут')"
      ]
     },
     "execution_count": 59,
     "metadata": {},
     "output_type": "execute_result"
    },
    {
     "data": {
      "image/png": "[encoded data removed]",
      "text/plain": [
       "<Figure size 432x288 with 1 Axes>"
      ]
     },
     "metadata": {
      "needs_background": "light"
     },
     "output_type": "display_data"
    }
   ],
   "source": [
    "fig1 = ultra_tar['amount_min'].hist(alpha = 0.5, color = 'red')\n",
    "fig1 = smart_tar['amount_min'].hist(alpha = 0.5, color = 'green')\n",
    "fig1.set_title('Распределение кол-ва минут')\n",
    "fig1.set_ylabel('Колличество клиентов')\n",
    "fig1.set_xlabel('кол-во минут')"
   ]
  },
  {
   "cell_type": "markdown",
   "metadata": {},
   "source": [
    "По тарифу смарт нормальное распределение, а по ультре похоже на распределение Пуасона. Это можно объяснить тем, что в среднем клиенты тарифа ультра говорят больше и дольше чем клиенты смарт, но ненамного"
   ]
  },
  {
   "cell_type": "markdown",
   "metadata": {},
   "source": [
    "<h3> Гистограмма по кол-ву сообщений</h3>"
   ]
  },
  {
   "cell_type": "code",
   "execution_count": 60,
   "metadata": {},
   "outputs": [
    {
     "data": {
      "text/plain": [
       "Text(0.5, 0, 'кол-во сообщений')"
      ]
     },
     "execution_count": 60,
     "metadata": {},
     "output_type": "execute_result"
    },
    {
     "data": {
      "image/png": "[encoded data removed]",
      "text/plain": [
       "<Figure size 432x288 with 1 Axes>"
      ]
     },
     "metadata": {
      "needs_background": "light"
     },
     "output_type": "display_data"
    }
   ],
   "source": [
    "fig2 = ultra_tar['amount_mes'].hist(alpha = 0.5, color = 'red')\n",
    "fig2 = smart_tar['amount_mes'].hist(alpha = 0.5, color = 'green')\n",
    "fig2.set_title('Распределение кол-ва сообщений')\n",
    "fig2.set_ylabel('Колличество клиентов')\n",
    "fig2.set_xlabel('кол-во сообщений')"
   ]
  },
  {
   "cell_type": "markdown",
   "metadata": {},
   "source": [
    "Распределения Пуасонна. Опять же клиенты тарифа ультра используют больше сообщений, так как у них больше бесплатных, в то время как у клиентов арифа смарт бесплтаных не так уж и много."
   ]
  },
  {
   "cell_type": "markdown",
   "metadata": {},
   "source": [
    "<h3> Гистограмма по кол-ву Гб</h3>"
   ]
  },
  {
   "cell_type": "code",
   "execution_count": 61,
   "metadata": {
    "scrolled": true
   },
   "outputs": [
    {
     "data": {
      "text/plain": [
       "Text(0.5, 0, 'кол-во Гб')"
      ]
     },
     "execution_count": 61,
     "metadata": {},
     "output_type": "execute_result"
    },
    {
     "data": {
      "image/png": "[encoded data removed]",
      "text/plain": [
       "<Figure size 432x288 with 1 Axes>"
      ]
     },
     "metadata": {
      "needs_background": "light"
     },
     "output_type": "display_data"
    }
   ],
   "source": [
    "fig3 = ultra_tar['total_gb_used'].hist(alpha = 0.5, color = 'red')\n",
    "fig3 = smart_tar['total_gb_used'].hist(alpha = 0.5, color = 'green')\n",
    "fig3.set_title('Распределение кол-ва Гб')\n",
    "fig3.set_ylabel('Колличество клиентов')\n",
    "fig3.set_xlabel('кол-во Гб')"
   ]
  },
  {
   "cell_type": "code",
   "execution_count": 62,
   "metadata": {},
   "outputs": [
    {
     "data": {
      "image/png": "[encoded data removed]",
      "text/plain": [
       "<Figure size 1008x288 with 3 Axes>"
      ]
     },
     "metadata": {
      "needs_background": "light"
     },
     "output_type": "display_data"
    }
   ],
   "source": [
    "fig, ax = plt.subplots(1, 3)\n",
    "ax[0].hist(smart_tar['amount_min'],alpha = 0.5, color = 'green',label = 'Смарт')\n",
    "ax[0].hist(ultra_tar['amount_min'],alpha = 0.5, color = 'red',label = 'Ультра')\n",
    "ax[0].set_title('Распределение кол-ва минут')\n",
    "ax[0].grid(axis = 'both')\n",
    "ax[0].set_xlabel('Кол-во минут')\n",
    "ax[0].set_ylabel('Кол-во клиентов')\n",
    "ax[0].legend()\n",
    "\n",
    "\n",
    "ax[1].hist(smart_tar['amount_mes'],alpha = 0.5, color = 'green',label = 'Смарт')\n",
    "ax[1].hist(ultra_tar['amount_mes'],alpha = 0.5, color = 'red',label = 'Ультра')\n",
    "ax[1].set_title('Распределение кол-ва сообщений')\n",
    "ax[1].grid(axis = 'both')\n",
    "ax[1].set_xlabel('Кол-во сообщений')\n",
    "ax[1].legend()\n",
    "\n",
    "ax[2].hist(smart_tar['total_gb_used'],alpha = 0.5, color = 'green',label = 'Смарт')\n",
    "ax[2].hist(ultra_tar['total_gb_used'],alpha = 0.5, color = 'red',label = 'Ультра')\n",
    "ax[2].set_title('Распределение кол-ва ГБ')\n",
    "ax[2].grid(axis = 'both')\n",
    "ax[2].set_xlabel('Кол-во ГБ')\n",
    "ax[2].legend()\n",
    "\n",
    "fig.set_figwidth(14)"
   ]
  },
  {
   "cell_type": "markdown",
   "metadata": {},
   "source": [
    "Нормальные распределения. Клиенты тарифа ультра используют больше ГБ. Интересно отметить, что как видно из графиков клиентам чаще всего не хватает своих 15 Гб интернета."
   ]
  },
  {
   "cell_type": "markdown",
   "metadata": {},
   "source": [
    "<h3> Графики по месяцам</h3>"
   ]
  },
  {
   "cell_type": "code",
   "execution_count": 63,
   "metadata": {},
   "outputs": [],
   "source": [
    "info_smart =   smart_tar.pivot_table (\n",
    "    index='month', values=['amount_min','amount_mes','total_gb_used','amount_calls'], aggfunc='mean'\n",
    ").reset_index()"
   ]
  },
  {
   "cell_type": "code",
   "execution_count": 64,
   "metadata": {},
   "outputs": [],
   "source": [
    "info_ultra =   ultra_tar.pivot_table (\n",
    "    index='month', values=['amount_min','amount_mes','total_gb_used','amount_calls'], aggfunc='mean'\n",
    ").reset_index()"
   ]
  },
  {
   "cell_type": "code",
   "execution_count": 65,
   "metadata": {
    "scrolled": false
   },
   "outputs": [
    {
     "data": {
      "text/plain": [
       "<matplotlib.axes._subplots.AxesSubplot at 0x7fc98435c150>"
      ]
     },
     "execution_count": 65,
     "metadata": {},
     "output_type": "execute_result"
    },
    {
     "data": {
      "image/png": "[encoded data removed]",
      "text/plain": [
       "<Figure size 432x288 with 1 Axes>"
      ]
     },
     "metadata": {
      "needs_background": "light"
     },
     "output_type": "display_data"
    },
    {
     "data": {
      "image/png": "[encoded data removed]",
      "text/plain": [
       "<Figure size 432x288 with 1 Axes>"
      ]
     },
     "metadata": {
      "needs_background": "light"
     },
     "output_type": "display_data"
    }
   ],
   "source": [
    "info_smart.plot(\n",
    "    x='month',\n",
    "    y='amount_mes',\n",
    "    kind='bar',\n",
    "    grid=True,\n",
    "    title='Кол-во сообщений в месяц. Тариф \"СМАРТ\"',\n",
    "    legend=False,\n",
    ")\n",
    "info_ultra.plot(\n",
    "    x='month',\n",
    "    y='amount_mes',\n",
    "    kind='bar',\n",
    "    grid=True,\n",
    "    title='Кол-во сообщений в месяц. Тариф \"УЛЬТРА\"',\n",
    "    legend=False\n",
    ")\n",
    "\n",
    "\n"
   ]
  },
  {
   "cell_type": "code",
   "execution_count": 66,
   "metadata": {},
   "outputs": [
    {
     "data": {
      "text/plain": [
       "<matplotlib.axes._subplots.AxesSubplot at 0x7fc98428e050>"
      ]
     },
     "execution_count": 66,
     "metadata": {},
     "output_type": "execute_result"
    },
    {
     "data": {
      "image/png": "[encoded data removed]",
      "text/plain": [
       "<Figure size 432x288 with 1 Axes>"
      ]
     },
     "metadata": {
      "needs_background": "light"
     },
     "output_type": "display_data"
    },
    {
     "data": {
      "image/png": "[encoded data removed]",
      "text/plain": [
       "<Figure size 432x288 with 1 Axes>"
      ]
     },
     "metadata": {
      "needs_background": "light"
     },
     "output_type": "display_data"
    }
   ],
   "source": [
    "info_smart.plot(\n",
    "    x='month',\n",
    "    y='amount_min',\n",
    "    kind='bar',\n",
    "    grid=True,\n",
    "    title='Кол-во минут в месяц. Тариф \"СМАРТ\"',\n",
    "    legend=False\n",
    ")\n",
    "info_ultra.plot(\n",
    "    x='month',\n",
    "    y='amount_min',\n",
    "    kind='bar',\n",
    "    grid=True,\n",
    "    title='Кол-во минут в месяц. Тариф \"УЛЬТРА\"',\n",
    "    legend=False\n",
    ")\n",
    "\n"
   ]
  },
  {
   "cell_type": "code",
   "execution_count": 67,
   "metadata": {},
   "outputs": [
    {
     "data": {
      "text/plain": [
       "<matplotlib.axes._subplots.AxesSubplot at 0x7fc97bdb42d0>"
      ]
     },
     "execution_count": 67,
     "metadata": {},
     "output_type": "execute_result"
    },
    {
     "data": {
      "image/png": "[encoded data removed]",
      "text/plain": [
       "<Figure size 432x288 with 1 Axes>"
      ]
     },
     "metadata": {
      "needs_background": "light"
     },
     "output_type": "display_data"
    },
    {
     "data": {
      "image/png": "[encoded data removed]",
      "text/plain": [
       "<Figure size 432x288 with 1 Axes>"
      ]
     },
     "metadata": {
      "needs_background": "light"
     },
     "output_type": "display_data"
    }
   ],
   "source": [
    "info_smart.plot(\n",
    "    x='month',\n",
    "    y='amount_calls',\n",
    "    kind='bar',\n",
    "    grid=True,\n",
    "    title='Кол-во звонков в месяц. Тариф \"СМАРТ\"',\n",
    "    legend=False\n",
    ")\n",
    "info_ultra.plot(\n",
    "    x='month',\n",
    "    y='amount_calls',\n",
    "    kind='bar',\n",
    "    grid=True,\n",
    "    title='Кол-во звонков в месяц. Тариф \"УЛЬТРА\"',\n",
    "    legend=False\n",
    ")"
   ]
  },
  {
   "cell_type": "code",
   "execution_count": 68,
   "metadata": {
    "scrolled": false
   },
   "outputs": [
    {
     "data": {
      "text/plain": [
       "<matplotlib.axes._subplots.AxesSubplot at 0x7fc97bc5fed0>"
      ]
     },
     "execution_count": 68,
     "metadata": {},
     "output_type": "execute_result"
    },
    {
     "data": {
      "image/png": "[encoded data removed]",
      "text/plain": [
       "<Figure size 432x288 with 1 Axes>"
      ]
     },
     "metadata": {
      "needs_background": "light"
     },
     "output_type": "display_data"
    },
    {
     "data": {
      "image/png": "[encoded data removed]",
      "text/plain": [
       "<Figure size 432x288 with 1 Axes>"
      ]
     },
     "metadata": {
      "needs_background": "light"
     },
     "output_type": "display_data"
    }
   ],
   "source": [
    "info_smart.plot(\n",
    "    x='month',\n",
    "    y='total_gb_used',\n",
    "    kind='bar',\n",
    "    grid=True,\n",
    "    title='Кол-во Гб в месяц. Тариф \"СМАРТ\"',\n",
    "    legend=False\n",
    ")\n",
    "info_ultra.plot(\n",
    "    x='month',\n",
    "    y='total_gb_used',\n",
    "    kind='bar',\n",
    "    grid=True,\n",
    "    title='Кол-во Гб в месяц. Тариф \"УЛЬТРА\"',\n",
    "    legend=False\n",
    ")"
   ]
  },
  {
   "cell_type": "code",
   "execution_count": 69,
   "metadata": {},
   "outputs": [
    {
     "data": {
      "image/png": "[encoded data removed]",
      "text/plain": [
       "<Figure size 1440x2520 with 4 Axes>"
      ]
     },
     "metadata": {
      "needs_background": "light"
     },
     "output_type": "display_data"
    }
   ],
   "source": [
    "fig, ax = plt.subplots(4, 1)\n",
    "ax[0].bar(info_smart['month'],info_smart['total_gb_used'], color = 'black', alpha = 0.8,label = 'Смарт')\n",
    "ax[0].bar(info_ultra['month'],info_ultra['total_gb_used'], color = 'red', alpha = 0.5,label = 'Ультра')\n",
    "ax[0].set_xlim([0, 13])\n",
    "ax[0].grid(axis = 'both')\n",
    "ax[0].set(xticks=[i for i in range(1,13)])\n",
    "ax[0].set_title('Кол-во Гб в месяц',fontsize = 25)\n",
    "ax[0].grid(linewidth = 0.3, color = 'black')    #  толщина)\n",
    "ax[0].set_xlabel('Кол-во Гб',fontsize = 15)\n",
    "ax[0].set_ylabel('Кол-во клиентов',fontsize = 15)\n",
    "ax[0].legend()\n",
    "\n",
    "ax[1].bar(info_smart['month'],info_smart['amount_min'], color = 'black', alpha = 0.8,label = 'Смарт')\n",
    "ax[1].bar(info_ultra['month'],info_ultra['amount_min'], color = 'red', alpha = 0.5,label = 'Ультра')\n",
    "ax[1].set_xlim([0, 13])\n",
    "ax[1].grid(axis = 'both')\n",
    "ax[1].set(xticks=[i for i in range(1,13)])\n",
    "ax[1].set_title('Кол-во минут в месяц',fontsize = 25)\n",
    "ax[1].grid(linewidth = 0.3, color = 'black')    #  толщина)\n",
    "ax[1].set_xlabel('Кол-во минут',fontsize = 15)\n",
    "ax[1].set_ylabel('Кол-во клиентов',fontsize = 15)\n",
    "ax[1].legend()\n",
    "\n",
    "ax[2].bar(info_smart['month'],info_smart['amount_mes'], color = 'black', alpha = 0.8,label = 'Смарт')\n",
    "ax[2].bar(info_ultra['month'],info_ultra['amount_mes'], color = 'red', alpha = 0.5,label = 'Ультра')\n",
    "ax[2].set_xlim([0, 13])\n",
    "ax[2].grid(axis = 'both')\n",
    "ax[2].set(xticks=[i for i in range(1,13)])\n",
    "ax[2].set_title('Кол-во сообщений в месяц',fontsize = 25)\n",
    "ax[2].grid(linewidth = 0.3, color = 'black')    #  толщина)\n",
    "ax[2].set_xlabel('Кол-во сообщений',fontsize = 15)\n",
    "ax[2].set_ylabel('Кол-во клиентов',fontsize = 15)\n",
    "ax[2].legend()\n",
    "\n",
    "ax[3].bar(info_smart['month'],info_smart['amount_calls'], color = 'black', alpha = 0.8,label = 'Смарт')\n",
    "ax[3].bar(info_ultra['month'],info_ultra['amount_calls'], color = 'red', alpha = 0.5,label = 'Ультра')\n",
    "ax[3].set_xlim([0, 13])\n",
    "ax[3].grid(axis = 'both')\n",
    "ax[3].set(xticks=[i for i in range(1,13)])\n",
    "ax[3].set_title('Кол-во звонков в месяц',fontsize = 25)\n",
    "ax[3].grid(linewidth = 0.3, color = 'black')    #  толщина)\n",
    "ax[3].set_xlabel('Кол-во звонков',fontsize = 15)\n",
    "ax[3].set_ylabel('Кол-во звонков',fontsize = 15)\n",
    "ax[3].legend()\n",
    "fig.set_figwidth(20)\n",
    "fig.set_figheight(35)"
   ]
  },
  {
   "cell_type": "markdown",
   "metadata": {},
   "source": [
    "Из графиков видно, что активность клиентов обоих тарифов возрастает ближе к концу года. Это сввязано скорее всего с началом учебного года, окончанием многих отпусков, подведением итогов рабочего года ну и подготовка к новому году. А начало года это затишье."
   ]
  },
  {
   "cell_type": "markdown",
   "metadata": {},
   "source": [
    "## Проверка гипотез"
   ]
  },
  {
   "cell_type": "code",
   "execution_count": 70,
   "metadata": {},
   "outputs": [],
   "source": [
    "alpha = 0.05 # как общепринято =)"
   ]
  },
  {
   "cell_type": "markdown",
   "metadata": {},
   "source": [
    "### Провер rf гипотезы: средняя выручка пользователей тарифов «Ультра» и «Смарт» различаются"
   ]
  },
  {
   "cell_type": "markdown",
   "metadata": {},
   "source": [
    "Будем использовать Гипотезу о равенстве средних двух генеральных совокупностей, в нашем случае плату клиентов"
   ]
  },
  {
   "cell_type": "code",
   "execution_count": 71,
   "metadata": {},
   "outputs": [],
   "source": [
    "results = st.ttest_ind(ultra_tar['payment'], smart_tar['payment'])"
   ]
  },
  {
   "cell_type": "code",
   "execution_count": 72,
   "metadata": {},
   "outputs": [
    {
     "name": "stdout",
     "output_type": "stream",
     "text": [
      "p-значение: 1.4229814360764067e-160\n",
      "Отвергаем нулевую гипотезу\n"
     ]
    }
   ],
   "source": [
    "print('p-значение:', results.pvalue)\n",
    "\n",
    "if results.pvalue < alpha:\n",
    "    print('Отвергаем нулевую гипотезу')\n",
    "else:\n",
    "    print('Не получилось отвергнуть нулевую гипотезу') "
   ]
  },
  {
   "cell_type": "markdown",
   "metadata": {},
   "source": [
    "Отвергаем нулевую гипотезу, процент что большее различие можно получить случайно слишком мал. Выручки различаются!!!!"
   ]
  },
  {
   "cell_type": "markdown",
   "metadata": {},
   "source": [
    "### Проверка Гипотезы средняя выручка пользователей из Москвы отличается от выручки пользователей из других регионов"
   ]
  },
  {
   "cell_type": "markdown",
   "metadata": {},
   "source": [
    "Сначала сделаем выборки: Москва и другие регионы"
   ]
  },
  {
   "cell_type": "code",
   "execution_count": 73,
   "metadata": {},
   "outputs": [],
   "source": [
    "moscow_clients = final_df.query('city == \"Москва\"')\n",
    "not_moscow_clients = final_df.query('city != \"Москва\"')"
   ]
  },
  {
   "cell_type": "markdown",
   "metadata": {},
   "source": [
    "Здесь также будем использовать Гипотезу о равенстве средних двух генеральных совокупностей"
   ]
  },
  {
   "cell_type": "code",
   "execution_count": 74,
   "metadata": {},
   "outputs": [],
   "source": [
    "results = st.ttest_ind(moscow_clients['payment'], not_moscow_clients['payment'])"
   ]
  },
  {
   "cell_type": "code",
   "execution_count": 75,
   "metadata": {},
   "outputs": [
    {
     "name": "stdout",
     "output_type": "stream",
     "text": [
      "p-значение: 0.5440152911670224\n",
      "Не получилось отвергнуть нулевую гипотезу\n"
     ]
    }
   ],
   "source": [
    "print('p-значение:', results.pvalue)\n",
    "\n",
    "if results.pvalue < alpha:\n",
    "    print('Отвергаем нулевую гипотезу')\n",
    "else:\n",
    "    print('Не получилось отвергнуть нулевую гипотезу') "
   ]
  },
  {
   "cell_type": "markdown",
   "metadata": {},
   "source": [
    "Здесь не получилось отвергнуть гипотезу, значит средняя плата не зависит от города клиентов"
   ]
  },
  {
   "cell_type": "markdown",
   "metadata": {},
   "source": [
    "## Вывод\n",
    "\n",
    "Вначале нам были предоставлены различные датассеты, содержащие информацию о сообщениях, звонках, сессиях в интернете. Мы смогли объеденить все в один датасет и, проанализировав его, сделаем следующие выводы:\n",
    "1. Общая активность пользователей возрастает под конец года. \n",
    "2. Клиенты тарифа ультра в среденем приносят больше прибыли, чем клиенты тарифа смарт и  вырцчка не зависит от местоположения.\n",
    "3. Клиентам тарифа смарт в половине случаев не хватает включенного в пакет интернета\n",
    "4. Исходя из вышесказанного и для увелечения выручки кампании, надо стараться перевести больше клиентов на тариф ультра, мотивируя что вы чаще всего докупаете интернет, а с тарифом ультра вам не нужно больше делать этого и вы сможете общаться сколько хотите как по телефону так и в интернете."
   ]
  }
 ],
 "metadata": {
  "ExecuteTimeLog": [
   {
    "duration": 1078,
    "start_time": "2021-11-23T06:08:12.094Z"
   },
   {
    "duration": 423,
    "start_time": "2021-11-23T06:08:13.174Z"
   },
   {
    "duration": 2198,
    "start_time": "2021-11-23T06:15:11.734Z"
   },
   {
    "duration": 400,
    "start_time": "2021-11-23T06:15:32.464Z"
   },
   {
    "duration": 12,
    "start_time": "2021-11-23T06:23:41.666Z"
   },
   {
    "duration": 8,
    "start_time": "2021-11-23T06:23:52.170Z"
   },
   {
    "duration": 10,
    "start_time": "2021-11-23T06:24:17.489Z"
   },
   {
    "duration": 7,
    "start_time": "2021-11-23T06:24:28.730Z"
   },
   {
    "duration": 7,
    "start_time": "2021-11-23T06:24:42.497Z"
   },
   {
    "duration": 18,
    "start_time": "2021-11-23T06:25:53.728Z"
   },
   {
    "duration": 18,
    "start_time": "2021-11-23T06:26:01.216Z"
   },
   {
    "duration": 20,
    "start_time": "2021-11-23T06:26:05.816Z"
   },
   {
    "duration": 9,
    "start_time": "2021-11-23T06:34:53.440Z"
   },
   {
    "duration": 15,
    "start_time": "2021-11-23T06:35:18.416Z"
   },
   {
    "duration": 13,
    "start_time": "2021-11-23T06:50:30.604Z"
   },
   {
    "duration": 4,
    "start_time": "2021-11-23T06:51:26.533Z"
   },
   {
    "duration": 413,
    "start_time": "2021-11-23T06:51:26.539Z"
   },
   {
    "duration": 12,
    "start_time": "2021-11-23T06:51:26.954Z"
   },
   {
    "duration": 22,
    "start_time": "2021-11-23T06:51:26.968Z"
   },
   {
    "duration": 22,
    "start_time": "2021-11-23T06:51:26.992Z"
   },
   {
    "duration": 22,
    "start_time": "2021-11-23T06:51:27.016Z"
   },
   {
    "duration": 10,
    "start_time": "2021-11-23T07:33:30.397Z"
   },
   {
    "duration": 29,
    "start_time": "2021-11-23T07:34:57.242Z"
   },
   {
    "duration": 19,
    "start_time": "2021-11-23T07:38:02.963Z"
   },
   {
    "duration": 459,
    "start_time": "2021-11-23T07:39:18.305Z"
   },
   {
    "duration": 13,
    "start_time": "2021-11-23T07:39:21.687Z"
   },
   {
    "duration": 14,
    "start_time": "2021-11-23T07:39:24.720Z"
   },
   {
    "duration": 13,
    "start_time": "2021-11-23T07:39:30.514Z"
   },
   {
    "duration": 19,
    "start_time": "2021-11-23T07:39:31.864Z"
   },
   {
    "duration": 498,
    "start_time": "2021-11-23T07:39:49.408Z"
   },
   {
    "duration": 15,
    "start_time": "2021-11-23T07:40:03.808Z"
   },
   {
    "duration": 474,
    "start_time": "2021-11-23T07:41:10.487Z"
   },
   {
    "duration": 13,
    "start_time": "2021-11-23T07:41:13.687Z"
   },
   {
    "duration": 15,
    "start_time": "2021-11-23T07:41:15.023Z"
   },
   {
    "duration": 19,
    "start_time": "2021-11-23T07:41:17.639Z"
   },
   {
    "duration": 12,
    "start_time": "2021-11-23T07:41:19.495Z"
   },
   {
    "duration": 12,
    "start_time": "2021-11-23T07:41:21.470Z"
   },
   {
    "duration": 10,
    "start_time": "2021-11-23T07:41:23.215Z"
   },
   {
    "duration": 13,
    "start_time": "2021-11-23T07:41:43.575Z"
   },
   {
    "duration": 728,
    "start_time": "2021-11-23T07:42:51.094Z"
   },
   {
    "duration": 6,
    "start_time": "2021-11-23T07:43:18.686Z"
   },
   {
    "duration": 712,
    "start_time": "2021-11-23T07:43:33.829Z"
   },
   {
    "duration": 711,
    "start_time": "2021-11-23T07:44:07.269Z"
   },
   {
    "duration": 457,
    "start_time": "2021-11-23T07:45:40.532Z"
   },
   {
    "duration": 13,
    "start_time": "2021-11-23T07:45:47.603Z"
   },
   {
    "duration": 8,
    "start_time": "2021-11-23T07:45:49.699Z"
   },
   {
    "duration": 393,
    "start_time": "2021-11-23T09:12:05.371Z"
   },
   {
    "duration": 331,
    "start_time": "2021-11-23T09:12:18.558Z"
   },
   {
    "duration": 1238,
    "start_time": "2021-11-23T09:12:29.215Z"
   },
   {
    "duration": 468,
    "start_time": "2021-11-23T09:12:30.455Z"
   },
   {
    "duration": 16,
    "start_time": "2021-11-23T09:12:34.858Z"
   },
   {
    "duration": 10,
    "start_time": "2021-11-23T09:12:57.730Z"
   },
   {
    "duration": 15,
    "start_time": "2021-11-23T12:54:52.370Z"
   },
   {
    "duration": 6,
    "start_time": "2021-11-23T12:56:27.919Z"
   },
   {
    "duration": 8,
    "start_time": "2021-11-23T12:56:37.728Z"
   },
   {
    "duration": 1090,
    "start_time": "2021-11-23T17:23:54.986Z"
   },
   {
    "duration": 407,
    "start_time": "2021-11-23T17:23:56.077Z"
   },
   {
    "duration": 14,
    "start_time": "2021-11-23T17:23:56.486Z"
   },
   {
    "duration": 12,
    "start_time": "2021-11-23T17:23:56.501Z"
   },
   {
    "duration": 10,
    "start_time": "2021-11-23T17:23:56.514Z"
   },
   {
    "duration": 12,
    "start_time": "2021-11-23T17:23:56.526Z"
   },
   {
    "duration": 8,
    "start_time": "2021-11-23T17:23:56.540Z"
   },
   {
    "duration": 11,
    "start_time": "2021-11-23T17:23:56.550Z"
   },
   {
    "duration": 26,
    "start_time": "2021-11-23T17:23:56.563Z"
   },
   {
    "duration": 12,
    "start_time": "2021-11-23T17:23:56.591Z"
   },
   {
    "duration": 8,
    "start_time": "2021-11-23T17:23:56.605Z"
   },
   {
    "duration": 10,
    "start_time": "2021-11-23T17:23:56.614Z"
   },
   {
    "duration": 7,
    "start_time": "2021-11-23T17:23:56.625Z"
   },
   {
    "duration": 8,
    "start_time": "2021-11-23T17:23:56.634Z"
   },
   {
    "duration": 13,
    "start_time": "2021-11-23T17:23:56.643Z"
   },
   {
    "duration": 36,
    "start_time": "2021-11-23T17:23:56.657Z"
   },
   {
    "duration": 22,
    "start_time": "2021-11-23T17:26:52.913Z"
   },
   {
    "duration": 19,
    "start_time": "2021-11-23T17:26:59.401Z"
   },
   {
    "duration": 5,
    "start_time": "2021-11-23T18:26:24.110Z"
   },
   {
    "duration": 11,
    "start_time": "2021-11-23T18:26:33.368Z"
   },
   {
    "duration": 13,
    "start_time": "2021-11-23T18:27:01.559Z"
   },
   {
    "duration": 7,
    "start_time": "2021-11-23T18:27:35.764Z"
   },
   {
    "duration": 19,
    "start_time": "2021-11-23T18:28:55.379Z"
   },
   {
    "duration": 24,
    "start_time": "2021-11-23T18:29:13.833Z"
   },
   {
    "duration": 320,
    "start_time": "2021-11-23T18:32:53.333Z"
   },
   {
    "duration": 4,
    "start_time": "2021-11-23T18:33:01.184Z"
   },
   {
    "duration": 8,
    "start_time": "2021-11-23T18:33:02.564Z"
   },
   {
    "duration": 8,
    "start_time": "2021-11-23T18:38:33.158Z"
   },
   {
    "duration": 6223,
    "start_time": "2021-11-23T18:39:38.139Z"
   },
   {
    "duration": -769,
    "start_time": "2021-11-23T18:39:45.133Z"
   },
   {
    "duration": 17,
    "start_time": "2021-11-23T18:39:48.041Z"
   },
   {
    "duration": 8,
    "start_time": "2021-11-23T18:39:48.758Z"
   },
   {
    "duration": 605,
    "start_time": "2021-11-23T18:40:16.909Z"
   },
   {
    "duration": 25,
    "start_time": "2021-11-23T18:40:29.790Z"
   },
   {
    "duration": 22,
    "start_time": "2021-11-23T18:41:27.287Z"
   },
   {
    "duration": 9,
    "start_time": "2021-11-23T18:41:39.421Z"
   },
   {
    "duration": 1094,
    "start_time": "2021-11-23T18:42:02.782Z"
   },
   {
    "duration": 425,
    "start_time": "2021-11-23T18:42:03.877Z"
   },
   {
    "duration": 14,
    "start_time": "2021-11-23T18:42:04.304Z"
   },
   {
    "duration": 15,
    "start_time": "2021-11-23T18:42:04.320Z"
   },
   {
    "duration": 10,
    "start_time": "2021-11-23T18:42:04.337Z"
   },
   {
    "duration": 10,
    "start_time": "2021-11-23T18:42:04.348Z"
   },
   {
    "duration": 8,
    "start_time": "2021-11-23T18:42:04.360Z"
   },
   {
    "duration": 22,
    "start_time": "2021-11-23T18:42:04.370Z"
   },
   {
    "duration": 9,
    "start_time": "2021-11-23T18:42:04.394Z"
   },
   {
    "duration": 14,
    "start_time": "2021-11-23T18:42:04.404Z"
   },
   {
    "duration": 7,
    "start_time": "2021-11-23T18:42:04.420Z"
   },
   {
    "duration": 10,
    "start_time": "2021-11-23T18:42:04.429Z"
   },
   {
    "duration": 5,
    "start_time": "2021-11-23T18:42:04.441Z"
   },
   {
    "duration": 10,
    "start_time": "2021-11-23T18:42:04.447Z"
   },
   {
    "duration": 49,
    "start_time": "2021-11-23T18:42:04.458Z"
   },
   {
    "duration": 8,
    "start_time": "2021-11-23T18:42:04.508Z"
   },
   {
    "duration": 30,
    "start_time": "2021-11-23T18:42:04.518Z"
   },
   {
    "duration": 7,
    "start_time": "2021-11-23T18:42:04.550Z"
   },
   {
    "duration": 36,
    "start_time": "2021-11-23T18:42:04.559Z"
   },
   {
    "duration": 9,
    "start_time": "2021-11-23T18:42:04.596Z"
   },
   {
    "duration": 29,
    "start_time": "2021-11-23T18:42:04.607Z"
   },
   {
    "duration": 7,
    "start_time": "2021-11-23T18:42:04.638Z"
   },
   {
    "duration": 9,
    "start_time": "2021-11-23T18:47:39.039Z"
   },
   {
    "duration": 8,
    "start_time": "2021-11-23T18:47:48.519Z"
   },
   {
    "duration": 4,
    "start_time": "2021-11-23T18:48:29.484Z"
   },
   {
    "duration": 8,
    "start_time": "2021-11-23T18:48:41.206Z"
   },
   {
    "duration": 8,
    "start_time": "2021-11-23T19:33:31.109Z"
   },
   {
    "duration": 6729,
    "start_time": "2021-11-23T19:34:51.653Z"
   },
   {
    "duration": 14,
    "start_time": "2021-11-23T19:35:53.490Z"
   },
   {
    "duration": 255,
    "start_time": "2021-11-23T19:36:09.298Z"
   },
   {
    "duration": 7,
    "start_time": "2021-11-23T19:36:22.255Z"
   },
   {
    "duration": 8,
    "start_time": "2021-11-23T19:36:23.883Z"
   },
   {
    "duration": 7,
    "start_time": "2021-11-23T19:36:42.665Z"
   },
   {
    "duration": 6,
    "start_time": "2021-11-23T19:36:52.689Z"
   },
   {
    "duration": 9,
    "start_time": "2021-11-23T19:36:53.600Z"
   },
   {
    "duration": 263,
    "start_time": "2021-11-23T19:37:21.736Z"
   },
   {
    "duration": 8,
    "start_time": "2021-11-23T19:37:34.378Z"
   },
   {
    "duration": 9,
    "start_time": "2021-11-23T19:37:47.340Z"
   },
   {
    "duration": 9,
    "start_time": "2021-11-23T19:37:57.931Z"
   },
   {
    "duration": 9,
    "start_time": "2021-11-23T19:38:19.053Z"
   },
   {
    "duration": 14,
    "start_time": "2021-11-23T19:38:34.731Z"
   },
   {
    "duration": 9,
    "start_time": "2021-11-23T19:38:39.367Z"
   },
   {
    "duration": 11,
    "start_time": "2021-11-23T19:38:49.654Z"
   },
   {
    "duration": 10,
    "start_time": "2021-11-23T19:46:08.369Z"
   },
   {
    "duration": 10,
    "start_time": "2021-11-23T19:46:16.272Z"
   },
   {
    "duration": 16,
    "start_time": "2021-11-23T19:46:44.576Z"
   },
   {
    "duration": 7,
    "start_time": "2021-11-23T19:48:05.740Z"
   },
   {
    "duration": 39,
    "start_time": "2021-11-23T19:48:21.944Z"
   },
   {
    "duration": 9,
    "start_time": "2021-11-23T19:48:28.241Z"
   },
   {
    "duration": 5,
    "start_time": "2021-11-23T19:48:45.547Z"
   },
   {
    "duration": 989,
    "start_time": "2021-11-23T19:49:28.971Z"
   },
   {
    "duration": -723,
    "start_time": "2021-11-23T19:49:30.685Z"
   },
   {
    "duration": 8140,
    "start_time": "2021-11-23T19:49:46.105Z"
   },
   {
    "duration": -726,
    "start_time": "2021-11-23T19:50:25.768Z"
   },
   {
    "duration": 28,
    "start_time": "2021-11-23T19:50:29.191Z"
   },
   {
    "duration": 6,
    "start_time": "2021-11-23T19:50:30.112Z"
   },
   {
    "duration": 29,
    "start_time": "2021-11-23T19:51:13.381Z"
   },
   {
    "duration": 15,
    "start_time": "2021-11-23T19:51:18.019Z"
   },
   {
    "duration": 5,
    "start_time": "2021-11-23T19:51:19.127Z"
   },
   {
    "duration": 19,
    "start_time": "2021-11-23T19:51:27.903Z"
   },
   {
    "duration": 7,
    "start_time": "2021-11-23T19:51:29.332Z"
   },
   {
    "duration": 24,
    "start_time": "2021-11-23T19:51:52.724Z"
   },
   {
    "duration": 9,
    "start_time": "2021-11-23T19:51:54.190Z"
   },
   {
    "duration": 19,
    "start_time": "2021-11-23T19:52:03.368Z"
   },
   {
    "duration": 7,
    "start_time": "2021-11-23T19:52:04.960Z"
   },
   {
    "duration": 28,
    "start_time": "2021-11-23T19:55:19.597Z"
   },
   {
    "duration": 7,
    "start_time": "2021-11-23T19:55:20.485Z"
   },
   {
    "duration": 365,
    "start_time": "2021-11-24T06:47:41.307Z"
   },
   {
    "duration": 1256,
    "start_time": "2021-11-24T06:47:55.174Z"
   },
   {
    "duration": 464,
    "start_time": "2021-11-24T06:47:56.432Z"
   },
   {
    "duration": 16,
    "start_time": "2021-11-24T06:47:56.898Z"
   },
   {
    "duration": 14,
    "start_time": "2021-11-24T06:47:56.916Z"
   },
   {
    "duration": 13,
    "start_time": "2021-11-24T06:47:56.932Z"
   },
   {
    "duration": 12,
    "start_time": "2021-11-24T06:47:56.947Z"
   },
   {
    "duration": 10,
    "start_time": "2021-11-24T06:47:56.961Z"
   },
   {
    "duration": 37,
    "start_time": "2021-11-24T06:47:56.974Z"
   },
   {
    "duration": 9,
    "start_time": "2021-11-24T06:47:57.013Z"
   },
   {
    "duration": 14,
    "start_time": "2021-11-24T06:47:57.024Z"
   },
   {
    "duration": 7,
    "start_time": "2021-11-24T06:47:57.039Z"
   },
   {
    "duration": 13,
    "start_time": "2021-11-24T06:47:57.047Z"
   },
   {
    "duration": 9,
    "start_time": "2021-11-24T06:47:57.062Z"
   },
   {
    "duration": 39,
    "start_time": "2021-11-24T06:47:57.073Z"
   },
   {
    "duration": 29,
    "start_time": "2021-11-24T06:47:57.114Z"
   },
   {
    "duration": 8,
    "start_time": "2021-11-24T06:47:57.145Z"
   },
   {
    "duration": 461,
    "start_time": "2021-11-24T06:47:57.155Z"
   },
   {
    "duration": -26,
    "start_time": "2021-11-24T06:47:57.644Z"
   },
   {
    "duration": -27,
    "start_time": "2021-11-24T06:47:57.646Z"
   },
   {
    "duration": -28,
    "start_time": "2021-11-24T06:47:57.648Z"
   },
   {
    "duration": -28,
    "start_time": "2021-11-24T06:47:57.649Z"
   },
   {
    "duration": -29,
    "start_time": "2021-11-24T06:47:57.651Z"
   },
   {
    "duration": -29,
    "start_time": "2021-11-24T06:47:57.652Z"
   },
   {
    "duration": -32,
    "start_time": "2021-11-24T06:47:57.656Z"
   },
   {
    "duration": -33,
    "start_time": "2021-11-24T06:47:57.658Z"
   },
   {
    "duration": -34,
    "start_time": "2021-11-24T06:47:57.660Z"
   },
   {
    "duration": -34,
    "start_time": "2021-11-24T06:47:57.661Z"
   },
   {
    "duration": -35,
    "start_time": "2021-11-24T06:47:57.663Z"
   },
   {
    "duration": -35,
    "start_time": "2021-11-24T06:47:57.664Z"
   },
   {
    "duration": -35,
    "start_time": "2021-11-24T06:47:57.665Z"
   },
   {
    "duration": -36,
    "start_time": "2021-11-24T06:47:57.667Z"
   },
   {
    "duration": 26,
    "start_time": "2021-11-24T06:49:10.435Z"
   },
   {
    "duration": 7,
    "start_time": "2021-11-24T06:49:11.746Z"
   },
   {
    "duration": 24,
    "start_time": "2021-11-24T06:49:35.530Z"
   },
   {
    "duration": 7,
    "start_time": "2021-11-24T06:49:35.914Z"
   },
   {
    "duration": 9,
    "start_time": "2021-11-24T06:50:04.313Z"
   },
   {
    "duration": 20,
    "start_time": "2021-11-24T06:50:04.465Z"
   },
   {
    "duration": 10,
    "start_time": "2021-11-24T06:50:04.626Z"
   },
   {
    "duration": 30,
    "start_time": "2021-11-24T06:50:04.769Z"
   },
   {
    "duration": 9,
    "start_time": "2021-11-24T06:50:04.922Z"
   },
   {
    "duration": 9,
    "start_time": "2021-11-24T06:50:05.201Z"
   },
   {
    "duration": 4,
    "start_time": "2021-11-24T06:50:05.570Z"
   },
   {
    "duration": 9,
    "start_time": "2021-11-24T06:50:05.713Z"
   },
   {
    "duration": 8,
    "start_time": "2021-11-24T06:50:05.865Z"
   },
   {
    "duration": 18,
    "start_time": "2021-11-24T06:50:06.025Z"
   },
   {
    "duration": 15,
    "start_time": "2021-11-24T06:50:06.226Z"
   },
   {
    "duration": 21,
    "start_time": "2021-11-24T06:50:26.345Z"
   },
   {
    "duration": 9,
    "start_time": "2021-11-24T06:50:26.577Z"
   },
   {
    "duration": 10,
    "start_time": "2021-11-24T06:50:34.682Z"
   },
   {
    "duration": 15,
    "start_time": "2021-11-24T06:51:21.456Z"
   },
   {
    "duration": 8,
    "start_time": "2021-11-24T06:51:22.185Z"
   },
   {
    "duration": 14,
    "start_time": "2021-11-24T06:52:57.024Z"
   },
   {
    "duration": 8,
    "start_time": "2021-11-24T06:53:06.200Z"
   },
   {
    "duration": 8960,
    "start_time": "2021-11-24T06:53:22.744Z"
   },
   {
    "duration": 14,
    "start_time": "2021-11-24T06:54:00.598Z"
   },
   {
    "duration": 7,
    "start_time": "2021-11-24T06:54:01.526Z"
   },
   {
    "duration": 5,
    "start_time": "2021-11-24T06:54:22.094Z"
   },
   {
    "duration": 4,
    "start_time": "2021-11-24T06:54:23.615Z"
   },
   {
    "duration": 7,
    "start_time": "2021-11-24T06:54:24.494Z"
   },
   {
    "duration": 1137,
    "start_time": "2021-11-24T06:54:46.300Z"
   },
   {
    "duration": 445,
    "start_time": "2021-11-24T06:54:47.439Z"
   },
   {
    "duration": 18,
    "start_time": "2021-11-24T06:54:47.886Z"
   },
   {
    "duration": 15,
    "start_time": "2021-11-24T06:54:47.906Z"
   },
   {
    "duration": 14,
    "start_time": "2021-11-24T06:54:47.923Z"
   },
   {
    "duration": 13,
    "start_time": "2021-11-24T06:54:47.939Z"
   },
   {
    "duration": 12,
    "start_time": "2021-11-24T06:54:47.953Z"
   },
   {
    "duration": 39,
    "start_time": "2021-11-24T06:54:47.967Z"
   },
   {
    "duration": 7,
    "start_time": "2021-11-24T06:54:48.009Z"
   },
   {
    "duration": 15,
    "start_time": "2021-11-24T06:54:48.018Z"
   },
   {
    "duration": 8,
    "start_time": "2021-11-24T06:54:48.035Z"
   },
   {
    "duration": 13,
    "start_time": "2021-11-24T06:54:48.044Z"
   },
   {
    "duration": 8,
    "start_time": "2021-11-24T06:54:48.058Z"
   },
   {
    "duration": 14,
    "start_time": "2021-11-24T06:54:48.067Z"
   },
   {
    "duration": 44,
    "start_time": "2021-11-24T06:54:48.083Z"
   },
   {
    "duration": 8,
    "start_time": "2021-11-24T06:54:48.129Z"
   },
   {
    "duration": 29,
    "start_time": "2021-11-24T06:54:48.139Z"
   },
   {
    "duration": 6,
    "start_time": "2021-11-24T06:54:48.170Z"
   },
   {
    "duration": 30,
    "start_time": "2021-11-24T06:54:48.178Z"
   },
   {
    "duration": 20,
    "start_time": "2021-11-24T06:54:48.209Z"
   },
   {
    "duration": 9,
    "start_time": "2021-11-24T06:54:48.230Z"
   },
   {
    "duration": 23,
    "start_time": "2021-11-24T06:54:48.241Z"
   },
   {
    "duration": 7,
    "start_time": "2021-11-24T06:54:48.267Z"
   },
   {
    "duration": 31,
    "start_time": "2021-11-24T06:54:48.276Z"
   },
   {
    "duration": 9,
    "start_time": "2021-11-24T06:54:48.309Z"
   },
   {
    "duration": 12,
    "start_time": "2021-11-24T06:54:48.319Z"
   },
   {
    "duration": 10,
    "start_time": "2021-11-24T06:54:48.333Z"
   },
   {
    "duration": 21,
    "start_time": "2021-11-24T06:54:48.345Z"
   },
   {
    "duration": 14,
    "start_time": "2021-11-24T06:54:48.368Z"
   },
   {
    "duration": 35,
    "start_time": "2021-11-24T06:54:48.383Z"
   },
   {
    "duration": 9,
    "start_time": "2021-11-24T06:54:48.419Z"
   },
   {
    "duration": 10,
    "start_time": "2021-11-24T08:22:13.937Z"
   },
   {
    "duration": 6,
    "start_time": "2021-11-24T08:22:23.513Z"
   },
   {
    "duration": 5,
    "start_time": "2021-11-24T08:22:34.650Z"
   },
   {
    "duration": 163,
    "start_time": "2021-11-24T08:22:45.840Z"
   },
   {
    "duration": 12,
    "start_time": "2021-11-24T08:22:49.712Z"
   },
   {
    "duration": 11,
    "start_time": "2021-11-24T08:22:55.416Z"
   },
   {
    "duration": 13,
    "start_time": "2021-11-24T08:23:05.091Z"
   },
   {
    "duration": 10,
    "start_time": "2021-11-24T08:23:09.623Z"
   },
   {
    "duration": 8,
    "start_time": "2021-11-24T08:23:25.167Z"
   },
   {
    "duration": 6,
    "start_time": "2021-11-24T08:26:38.694Z"
   },
   {
    "duration": 8,
    "start_time": "2021-11-24T08:26:46.750Z"
   },
   {
    "duration": 4,
    "start_time": "2021-11-24T08:27:19.628Z"
   },
   {
    "duration": 6,
    "start_time": "2021-11-24T08:27:20.685Z"
   },
   {
    "duration": 6,
    "start_time": "2021-11-24T08:36:29.830Z"
   },
   {
    "duration": 9,
    "start_time": "2021-11-24T08:43:43.992Z"
   },
   {
    "duration": 17,
    "start_time": "2021-11-24T08:43:48.344Z"
   },
   {
    "duration": 22,
    "start_time": "2021-11-24T08:44:41.240Z"
   },
   {
    "duration": 16,
    "start_time": "2021-11-24T08:45:14.839Z"
   },
   {
    "duration": 23,
    "start_time": "2021-11-24T08:46:33.998Z"
   },
   {
    "duration": 118,
    "start_time": "2021-11-24T08:47:13.318Z"
   },
   {
    "duration": 8,
    "start_time": "2021-11-24T08:47:17.245Z"
   },
   {
    "duration": 9,
    "start_time": "2021-11-24T08:48:20.061Z"
   },
   {
    "duration": 456,
    "start_time": "2021-11-24T10:02:20.787Z"
   },
   {
    "duration": 17,
    "start_time": "2021-11-24T10:02:30.804Z"
   },
   {
    "duration": 24,
    "start_time": "2021-11-24T10:05:57.805Z"
   },
   {
    "duration": 9,
    "start_time": "2021-11-24T10:06:31.068Z"
   },
   {
    "duration": 19,
    "start_time": "2021-11-24T10:06:45.988Z"
   },
   {
    "duration": 19,
    "start_time": "2021-11-24T10:07:19.444Z"
   },
   {
    "duration": 21,
    "start_time": "2021-11-24T10:07:35.588Z"
   },
   {
    "duration": 61,
    "start_time": "2021-11-24T10:20:26.491Z"
   },
   {
    "duration": 55,
    "start_time": "2021-11-24T10:20:32.705Z"
   },
   {
    "duration": 56,
    "start_time": "2021-11-24T10:20:37.578Z"
   },
   {
    "duration": 45,
    "start_time": "2021-11-24T10:20:46.043Z"
   },
   {
    "duration": 9,
    "start_time": "2021-11-24T10:21:05.297Z"
   },
   {
    "duration": 98,
    "start_time": "2021-11-24T10:21:23.730Z"
   },
   {
    "duration": 15,
    "start_time": "2021-11-24T12:46:55.628Z"
   },
   {
    "duration": 12,
    "start_time": "2021-11-24T12:46:58.691Z"
   },
   {
    "duration": 570,
    "start_time": "2021-11-24T12:58:21.123Z"
   },
   {
    "duration": 16,
    "start_time": "2021-11-24T12:58:44.122Z"
   },
   {
    "duration": 11,
    "start_time": "2021-11-24T13:00:27.545Z"
   },
   {
    "duration": 8,
    "start_time": "2021-11-24T13:01:36.832Z"
   },
   {
    "duration": 7,
    "start_time": "2021-11-24T13:01:43.376Z"
   },
   {
    "duration": 10,
    "start_time": "2021-11-24T13:02:30.375Z"
   },
   {
    "duration": 21,
    "start_time": "2021-11-24T13:03:31.559Z"
   },
   {
    "duration": 22,
    "start_time": "2021-11-24T13:03:38.870Z"
   },
   {
    "duration": 21,
    "start_time": "2021-11-24T13:03:49.720Z"
   },
   {
    "duration": 26,
    "start_time": "2021-11-24T13:04:00.815Z"
   },
   {
    "duration": 371,
    "start_time": "2021-11-24T13:05:14.253Z"
   },
   {
    "duration": 8,
    "start_time": "2021-11-24T13:05:26.101Z"
   },
   {
    "duration": 117,
    "start_time": "2021-11-24T13:06:45.612Z"
   },
   {
    "duration": 391,
    "start_time": "2021-11-24T13:06:52.612Z"
   },
   {
    "duration": 7,
    "start_time": "2021-11-24T13:07:35.683Z"
   },
   {
    "duration": 30,
    "start_time": "2021-11-24T13:07:42.562Z"
   },
   {
    "duration": 124,
    "start_time": "2021-11-24T13:10:11.825Z"
   },
   {
    "duration": 27,
    "start_time": "2021-11-24T13:10:12.767Z"
   },
   {
    "duration": 413,
    "start_time": "2021-11-24T13:10:24.465Z"
   },
   {
    "duration": 41,
    "start_time": "2021-11-24T13:10:49.144Z"
   },
   {
    "duration": 33,
    "start_time": "2021-11-24T13:10:57.868Z"
   },
   {
    "duration": 1226,
    "start_time": "2021-11-24T13:11:10.408Z"
   },
   {
    "duration": 488,
    "start_time": "2021-11-24T13:11:11.636Z"
   },
   {
    "duration": 17,
    "start_time": "2021-11-24T13:11:12.126Z"
   },
   {
    "duration": 14,
    "start_time": "2021-11-24T13:11:12.145Z"
   },
   {
    "duration": 24,
    "start_time": "2021-11-24T13:11:12.161Z"
   },
   {
    "duration": 20,
    "start_time": "2021-11-24T13:11:12.187Z"
   },
   {
    "duration": 10,
    "start_time": "2021-11-24T13:11:12.209Z"
   },
   {
    "duration": 10,
    "start_time": "2021-11-24T13:11:12.222Z"
   },
   {
    "duration": 8,
    "start_time": "2021-11-24T13:11:12.234Z"
   },
   {
    "duration": 10,
    "start_time": "2021-11-24T13:11:12.244Z"
   },
   {
    "duration": 6,
    "start_time": "2021-11-24T13:11:12.255Z"
   },
   {
    "duration": 44,
    "start_time": "2021-11-24T13:11:12.263Z"
   },
   {
    "duration": 5,
    "start_time": "2021-11-24T13:11:12.309Z"
   },
   {
    "duration": 8,
    "start_time": "2021-11-24T13:11:12.316Z"
   },
   {
    "duration": 25,
    "start_time": "2021-11-24T13:11:12.325Z"
   },
   {
    "duration": 8,
    "start_time": "2021-11-24T13:11:12.352Z"
   },
   {
    "duration": 52,
    "start_time": "2021-11-24T13:11:12.362Z"
   },
   {
    "duration": 7,
    "start_time": "2021-11-24T13:11:12.416Z"
   },
   {
    "duration": 21,
    "start_time": "2021-11-24T13:11:12.424Z"
   },
   {
    "duration": 24,
    "start_time": "2021-11-24T13:11:12.447Z"
   },
   {
    "duration": 12,
    "start_time": "2021-11-24T13:11:12.473Z"
   },
   {
    "duration": 39,
    "start_time": "2021-11-24T13:11:12.487Z"
   },
   {
    "duration": 7,
    "start_time": "2021-11-24T13:11:12.530Z"
   },
   {
    "duration": 24,
    "start_time": "2021-11-24T13:11:12.539Z"
   },
   {
    "duration": 7,
    "start_time": "2021-11-24T13:11:12.565Z"
   },
   {
    "duration": 13,
    "start_time": "2021-11-24T13:11:12.573Z"
   },
   {
    "duration": 13,
    "start_time": "2021-11-24T13:11:12.587Z"
   },
   {
    "duration": 22,
    "start_time": "2021-11-24T13:11:12.602Z"
   },
   {
    "duration": 12,
    "start_time": "2021-11-24T13:11:12.625Z"
   },
   {
    "duration": 26,
    "start_time": "2021-11-24T13:11:12.639Z"
   },
   {
    "duration": 8,
    "start_time": "2021-11-24T13:11:12.667Z"
   },
   {
    "duration": 30,
    "start_time": "2021-11-24T13:11:12.677Z"
   },
   {
    "duration": 29,
    "start_time": "2021-11-24T13:11:12.709Z"
   },
   {
    "duration": 21,
    "start_time": "2021-11-24T13:11:12.739Z"
   },
   {
    "duration": 7,
    "start_time": "2021-11-24T13:11:12.762Z"
   },
   {
    "duration": 44,
    "start_time": "2021-11-24T13:11:12.770Z"
   },
   {
    "duration": 24,
    "start_time": "2021-11-24T13:11:12.815Z"
   },
   {
    "duration": 473,
    "start_time": "2021-11-24T13:11:38.874Z"
   },
   {
    "duration": 31,
    "start_time": "2021-11-24T13:11:57.322Z"
   },
   {
    "duration": 1117,
    "start_time": "2021-11-24T13:12:16.525Z"
   },
   {
    "duration": 473,
    "start_time": "2021-11-24T13:12:17.644Z"
   },
   {
    "duration": 18,
    "start_time": "2021-11-24T13:12:18.119Z"
   },
   {
    "duration": 22,
    "start_time": "2021-11-24T13:12:18.139Z"
   },
   {
    "duration": 13,
    "start_time": "2021-11-24T13:12:18.163Z"
   },
   {
    "duration": 24,
    "start_time": "2021-11-24T13:12:18.177Z"
   },
   {
    "duration": 12,
    "start_time": "2021-11-24T13:12:18.202Z"
   },
   {
    "duration": 10,
    "start_time": "2021-11-24T13:12:18.216Z"
   },
   {
    "duration": 7,
    "start_time": "2021-11-24T13:12:18.229Z"
   },
   {
    "duration": 8,
    "start_time": "2021-11-24T13:12:18.238Z"
   },
   {
    "duration": 6,
    "start_time": "2021-11-24T13:12:18.247Z"
   },
   {
    "duration": 10,
    "start_time": "2021-11-24T13:12:18.254Z"
   },
   {
    "duration": 46,
    "start_time": "2021-11-24T13:12:18.265Z"
   },
   {
    "duration": 14,
    "start_time": "2021-11-24T13:12:18.312Z"
   },
   {
    "duration": 25,
    "start_time": "2021-11-24T13:12:18.328Z"
   },
   {
    "duration": 9,
    "start_time": "2021-11-24T13:12:18.355Z"
   },
   {
    "duration": 43,
    "start_time": "2021-11-24T13:12:18.365Z"
   },
   {
    "duration": 7,
    "start_time": "2021-11-24T13:12:18.410Z"
   },
   {
    "duration": 12,
    "start_time": "2021-11-24T13:12:18.418Z"
   },
   {
    "duration": 25,
    "start_time": "2021-11-24T13:12:18.432Z"
   },
   {
    "duration": 9,
    "start_time": "2021-11-24T13:12:18.459Z"
   },
   {
    "duration": 49,
    "start_time": "2021-11-24T13:12:18.470Z"
   },
   {
    "duration": 6,
    "start_time": "2021-11-24T13:12:18.521Z"
   },
   {
    "duration": 12,
    "start_time": "2021-11-24T13:12:18.529Z"
   },
   {
    "duration": 11,
    "start_time": "2021-11-24T13:12:18.543Z"
   },
   {
    "duration": 21,
    "start_time": "2021-11-24T13:12:18.555Z"
   },
   {
    "duration": 12,
    "start_time": "2021-11-24T13:12:18.579Z"
   },
   {
    "duration": 20,
    "start_time": "2021-11-24T13:12:18.592Z"
   },
   {
    "duration": 11,
    "start_time": "2021-11-24T13:12:18.613Z"
   },
   {
    "duration": 21,
    "start_time": "2021-11-24T13:12:18.626Z"
   },
   {
    "duration": 7,
    "start_time": "2021-11-24T13:12:18.649Z"
   },
   {
    "duration": 15,
    "start_time": "2021-11-24T13:12:18.658Z"
   },
   {
    "duration": 41,
    "start_time": "2021-11-24T13:12:18.675Z"
   },
   {
    "duration": 21,
    "start_time": "2021-11-24T13:12:18.717Z"
   },
   {
    "duration": 7,
    "start_time": "2021-11-24T13:12:18.740Z"
   },
   {
    "duration": 31,
    "start_time": "2021-11-24T13:12:18.749Z"
   },
   {
    "duration": 46,
    "start_time": "2021-11-24T13:12:18.782Z"
   },
   {
    "duration": 19,
    "start_time": "2021-11-24T13:12:40.833Z"
   },
   {
    "duration": 4,
    "start_time": "2021-11-24T13:12:57.834Z"
   },
   {
    "duration": 25,
    "start_time": "2021-11-24T13:13:05.184Z"
   },
   {
    "duration": 4,
    "start_time": "2021-11-25T06:14:05.226Z"
   },
   {
    "duration": 1543,
    "start_time": "2021-11-25T06:14:29.432Z"
   },
   {
    "duration": 650,
    "start_time": "2021-11-25T06:14:30.978Z"
   },
   {
    "duration": 24,
    "start_time": "2021-11-25T06:14:31.631Z"
   },
   {
    "duration": 20,
    "start_time": "2021-11-25T06:14:31.658Z"
   },
   {
    "duration": 25,
    "start_time": "2021-11-25T06:14:31.681Z"
   },
   {
    "duration": 17,
    "start_time": "2021-11-25T06:14:31.709Z"
   },
   {
    "duration": 16,
    "start_time": "2021-11-25T06:14:31.729Z"
   },
   {
    "duration": 59,
    "start_time": "2021-11-25T06:14:31.747Z"
   },
   {
    "duration": 12,
    "start_time": "2021-11-25T06:14:31.810Z"
   },
   {
    "duration": 13,
    "start_time": "2021-11-25T06:14:31.826Z"
   },
   {
    "duration": 11,
    "start_time": "2021-11-25T06:14:31.841Z"
   },
   {
    "duration": 50,
    "start_time": "2021-11-25T06:14:31.855Z"
   },
   {
    "duration": 11,
    "start_time": "2021-11-25T06:14:31.908Z"
   },
   {
    "duration": 14,
    "start_time": "2021-11-25T06:14:31.923Z"
   },
   {
    "duration": 69,
    "start_time": "2021-11-25T06:14:31.941Z"
   },
   {
    "duration": 18,
    "start_time": "2021-11-25T06:14:32.013Z"
   },
   {
    "duration": 72,
    "start_time": "2021-11-25T06:14:32.035Z"
   },
   {
    "duration": 13,
    "start_time": "2021-11-25T06:14:32.110Z"
   },
   {
    "duration": 35,
    "start_time": "2021-11-25T06:14:32.126Z"
   },
   {
    "duration": 40,
    "start_time": "2021-11-25T06:14:32.164Z"
   },
   {
    "duration": 15,
    "start_time": "2021-11-25T06:14:32.206Z"
   },
   {
    "duration": 42,
    "start_time": "2021-11-25T06:14:32.223Z"
   },
   {
    "duration": 10,
    "start_time": "2021-11-25T06:14:32.267Z"
   },
   {
    "duration": 29,
    "start_time": "2021-11-25T06:14:32.280Z"
   },
   {
    "duration": 9,
    "start_time": "2021-11-25T06:14:32.312Z"
   },
   {
    "duration": 27,
    "start_time": "2021-11-25T06:14:32.323Z"
   },
   {
    "duration": 10,
    "start_time": "2021-11-25T06:14:32.355Z"
   },
   {
    "duration": 45,
    "start_time": "2021-11-25T06:14:32.368Z"
   },
   {
    "duration": 16,
    "start_time": "2021-11-25T06:14:32.415Z"
   },
   {
    "duration": 34,
    "start_time": "2021-11-25T06:14:32.434Z"
   },
   {
    "duration": 30,
    "start_time": "2021-11-25T06:14:32.471Z"
   },
   {
    "duration": 20,
    "start_time": "2021-11-25T06:14:32.504Z"
   },
   {
    "duration": 39,
    "start_time": "2021-11-25T06:14:32.527Z"
   },
   {
    "duration": 60,
    "start_time": "2021-11-25T06:14:32.569Z"
   },
   {
    "duration": 4,
    "start_time": "2021-11-25T06:14:32.632Z"
   },
   {
    "duration": 15,
    "start_time": "2021-11-25T06:14:32.639Z"
   },
   {
    "duration": 10,
    "start_time": "2021-11-25T06:50:03.252Z"
   },
   {
    "duration": 228,
    "start_time": "2021-11-25T06:51:00.427Z"
   },
   {
    "duration": 36,
    "start_time": "2021-11-25T06:51:08.762Z"
   },
   {
    "duration": 22,
    "start_time": "2021-11-25T07:09:52.868Z"
   },
   {
    "duration": 24,
    "start_time": "2021-11-25T07:10:08.204Z"
   },
   {
    "duration": 300,
    "start_time": "2021-11-25T10:36:16.385Z"
   },
   {
    "duration": 1112,
    "start_time": "2021-11-25T10:36:22.862Z"
   },
   {
    "duration": 439,
    "start_time": "2021-11-25T10:36:23.976Z"
   },
   {
    "duration": 16,
    "start_time": "2021-11-25T10:36:24.419Z"
   },
   {
    "duration": 14,
    "start_time": "2021-11-25T10:36:24.437Z"
   },
   {
    "duration": 11,
    "start_time": "2021-11-25T10:36:24.453Z"
   },
   {
    "duration": 13,
    "start_time": "2021-11-25T10:36:24.466Z"
   },
   {
    "duration": 11,
    "start_time": "2021-11-25T10:36:24.482Z"
   },
   {
    "duration": 10,
    "start_time": "2021-11-25T10:36:24.495Z"
   },
   {
    "duration": 40,
    "start_time": "2021-11-25T10:36:24.506Z"
   },
   {
    "duration": 10,
    "start_time": "2021-11-25T10:36:24.548Z"
   },
   {
    "duration": 8,
    "start_time": "2021-11-25T10:36:24.560Z"
   },
   {
    "duration": 10,
    "start_time": "2021-11-25T10:36:24.570Z"
   },
   {
    "duration": 6,
    "start_time": "2021-11-25T10:36:24.582Z"
   },
   {
    "duration": 8,
    "start_time": "2021-11-25T10:36:24.590Z"
   },
   {
    "duration": 62,
    "start_time": "2021-11-25T10:36:24.599Z"
   },
   {
    "duration": 8,
    "start_time": "2021-11-25T10:36:24.663Z"
   },
   {
    "duration": 29,
    "start_time": "2021-11-25T10:36:24.673Z"
   },
   {
    "duration": 9,
    "start_time": "2021-11-25T10:36:24.703Z"
   },
   {
    "duration": 31,
    "start_time": "2021-11-25T10:36:24.714Z"
   },
   {
    "duration": 20,
    "start_time": "2021-11-25T10:36:24.748Z"
   },
   {
    "duration": 12,
    "start_time": "2021-11-25T10:36:24.770Z"
   },
   {
    "duration": 28,
    "start_time": "2021-11-25T10:36:24.786Z"
   },
   {
    "duration": 7,
    "start_time": "2021-11-25T10:36:24.816Z"
   },
   {
    "duration": 8,
    "start_time": "2021-11-25T10:36:24.845Z"
   },
   {
    "duration": 4,
    "start_time": "2021-11-25T10:36:24.855Z"
   },
   {
    "duration": 11,
    "start_time": "2021-11-25T10:36:24.860Z"
   },
   {
    "duration": 7,
    "start_time": "2021-11-25T10:36:24.873Z"
   },
   {
    "duration": 19,
    "start_time": "2021-11-25T10:36:24.882Z"
   },
   {
    "duration": 10,
    "start_time": "2021-11-25T10:36:24.903Z"
   },
   {
    "duration": 44,
    "start_time": "2021-11-25T10:36:24.915Z"
   },
   {
    "duration": 7,
    "start_time": "2021-11-25T10:36:24.961Z"
   },
   {
    "duration": 7,
    "start_time": "2021-11-25T10:36:24.970Z"
   },
   {
    "duration": 27,
    "start_time": "2021-11-25T10:36:24.979Z"
   },
   {
    "duration": 42,
    "start_time": "2021-11-25T10:36:25.008Z"
   },
   {
    "duration": 3,
    "start_time": "2021-11-25T10:36:25.051Z"
   },
   {
    "duration": 10,
    "start_time": "2021-11-25T10:36:25.056Z"
   },
   {
    "duration": 7,
    "start_time": "2021-11-25T10:36:25.068Z"
   },
   {
    "duration": 146,
    "start_time": "2021-11-25T10:36:25.077Z"
   },
   {
    "duration": 9,
    "start_time": "2021-11-25T10:36:25.225Z"
   },
   {
    "duration": 14,
    "start_time": "2021-11-25T10:36:25.235Z"
   },
   {
    "duration": 22,
    "start_time": "2021-11-25T10:36:36.125Z"
   },
   {
    "duration": 17,
    "start_time": "2021-11-25T10:36:58.661Z"
   },
   {
    "duration": 9,
    "start_time": "2021-11-25T10:38:35.172Z"
   },
   {
    "duration": 646,
    "start_time": "2021-11-25T10:44:11.600Z"
   },
   {
    "duration": 672,
    "start_time": "2021-11-25T10:46:32.436Z"
   },
   {
    "duration": 1013,
    "start_time": "2021-11-25T10:46:41.959Z"
   },
   {
    "duration": 11,
    "start_time": "2021-11-25T10:47:57.945Z"
   },
   {
    "duration": 12,
    "start_time": "2021-11-25T10:48:05.765Z"
   },
   {
    "duration": 574,
    "start_time": "2021-11-25T10:48:12.308Z"
   },
   {
    "duration": 580,
    "start_time": "2021-11-25T10:48:16.941Z"
   },
   {
    "duration": 12,
    "start_time": "2021-11-25T10:48:24.229Z"
   },
   {
    "duration": 27,
    "start_time": "2021-11-25T10:49:05.036Z"
   },
   {
    "duration": 25,
    "start_time": "2021-11-25T10:49:21.004Z"
   },
   {
    "duration": 18,
    "start_time": "2021-11-25T10:49:55.473Z"
   },
   {
    "duration": 19,
    "start_time": "2021-11-25T10:53:06.361Z"
   },
   {
    "duration": 25,
    "start_time": "2021-11-25T10:54:38.768Z"
   },
   {
    "duration": 33,
    "start_time": "2021-11-25T10:54:43.928Z"
   },
   {
    "duration": 25,
    "start_time": "2021-11-25T10:55:03.583Z"
   },
   {
    "duration": 5,
    "start_time": "2021-11-25T10:57:37.356Z"
   },
   {
    "duration": 10,
    "start_time": "2021-11-25T10:57:43.213Z"
   },
   {
    "duration": 15,
    "start_time": "2021-11-25T10:57:54.834Z"
   },
   {
    "duration": 1221,
    "start_time": "2021-11-25T10:58:15.148Z"
   },
   {
    "duration": 442,
    "start_time": "2021-11-25T10:58:16.371Z"
   },
   {
    "duration": 18,
    "start_time": "2021-11-25T10:58:16.815Z"
   },
   {
    "duration": 30,
    "start_time": "2021-11-25T10:58:16.835Z"
   },
   {
    "duration": 17,
    "start_time": "2021-11-25T10:58:16.867Z"
   },
   {
    "duration": 12,
    "start_time": "2021-11-25T10:58:16.886Z"
   },
   {
    "duration": 17,
    "start_time": "2021-11-25T10:58:16.900Z"
   },
   {
    "duration": 26,
    "start_time": "2021-11-25T10:58:16.918Z"
   },
   {
    "duration": 8,
    "start_time": "2021-11-25T10:58:16.947Z"
   },
   {
    "duration": 12,
    "start_time": "2021-11-25T10:58:16.958Z"
   },
   {
    "duration": 8,
    "start_time": "2021-11-25T10:58:16.972Z"
   },
   {
    "duration": 25,
    "start_time": "2021-11-25T10:58:16.982Z"
   },
   {
    "duration": 20,
    "start_time": "2021-11-25T10:58:17.009Z"
   },
   {
    "duration": 32,
    "start_time": "2021-11-25T10:58:17.031Z"
   },
   {
    "duration": 34,
    "start_time": "2021-11-25T10:58:17.065Z"
   },
   {
    "duration": 8,
    "start_time": "2021-11-25T10:58:17.101Z"
   },
   {
    "duration": 51,
    "start_time": "2021-11-25T10:58:17.111Z"
   },
   {
    "duration": 19,
    "start_time": "2021-11-25T10:58:17.164Z"
   },
   {
    "duration": 23,
    "start_time": "2021-11-25T10:58:17.185Z"
   },
   {
    "duration": 25,
    "start_time": "2021-11-25T10:58:17.210Z"
   },
   {
    "duration": 12,
    "start_time": "2021-11-25T10:58:17.237Z"
   },
   {
    "duration": 34,
    "start_time": "2021-11-25T10:58:17.251Z"
   },
   {
    "duration": 9,
    "start_time": "2021-11-25T10:58:17.287Z"
   },
   {
    "duration": 9,
    "start_time": "2021-11-25T10:58:17.298Z"
   },
   {
    "duration": 4,
    "start_time": "2021-11-25T10:58:17.309Z"
   },
   {
    "duration": 26,
    "start_time": "2021-11-25T10:58:17.321Z"
   },
   {
    "duration": 10,
    "start_time": "2021-11-25T10:58:17.352Z"
   },
   {
    "duration": 17,
    "start_time": "2021-11-25T10:58:17.364Z"
   },
   {
    "duration": 12,
    "start_time": "2021-11-25T10:58:17.383Z"
   },
   {
    "duration": 51,
    "start_time": "2021-11-25T10:58:17.397Z"
   },
   {
    "duration": 8,
    "start_time": "2021-11-25T10:58:17.450Z"
   },
   {
    "duration": 6,
    "start_time": "2021-11-25T10:58:17.460Z"
   },
   {
    "duration": 23,
    "start_time": "2021-11-25T10:58:17.468Z"
   },
   {
    "duration": 54,
    "start_time": "2021-11-25T10:58:17.492Z"
   },
   {
    "duration": 2,
    "start_time": "2021-11-25T10:58:17.548Z"
   },
   {
    "duration": 14,
    "start_time": "2021-11-25T10:58:17.551Z"
   },
   {
    "duration": 15,
    "start_time": "2021-11-25T10:58:17.567Z"
   },
   {
    "duration": 21,
    "start_time": "2021-11-25T10:58:17.584Z"
   },
   {
    "duration": 51,
    "start_time": "2021-11-25T10:58:17.607Z"
   },
   {
    "duration": 21,
    "start_time": "2021-11-25T10:58:17.659Z"
   },
   {
    "duration": 6,
    "start_time": "2021-11-25T10:58:17.682Z"
   },
   {
    "duration": 10,
    "start_time": "2021-11-25T10:58:17.690Z"
   },
   {
    "duration": 7,
    "start_time": "2021-11-25T10:58:17.702Z"
   },
   {
    "duration": 159,
    "start_time": "2021-11-25T10:58:17.710Z"
   },
   {
    "duration": 10,
    "start_time": "2021-11-25T10:58:17.871Z"
   },
   {
    "duration": 14,
    "start_time": "2021-11-25T10:58:17.883Z"
   },
   {
    "duration": 9,
    "start_time": "2021-11-25T10:58:17.899Z"
   },
   {
    "duration": 39,
    "start_time": "2021-11-25T10:58:17.910Z"
   },
   {
    "duration": 11,
    "start_time": "2021-11-25T10:58:17.951Z"
   },
   {
    "duration": 9,
    "start_time": "2021-11-25T10:58:28.261Z"
   },
   {
    "duration": 15,
    "start_time": "2021-11-25T10:58:39.456Z"
   },
   {
    "duration": 9,
    "start_time": "2021-11-25T10:58:39.997Z"
   },
   {
    "duration": 19,
    "start_time": "2021-11-25T10:58:53.493Z"
   },
   {
    "duration": 1142,
    "start_time": "2021-11-26T05:32:56.418Z"
   },
   {
    "duration": 479,
    "start_time": "2021-11-26T05:32:57.562Z"
   },
   {
    "duration": 25,
    "start_time": "2021-11-26T05:32:58.044Z"
   },
   {
    "duration": 15,
    "start_time": "2021-11-26T05:32:58.071Z"
   },
   {
    "duration": 27,
    "start_time": "2021-11-26T05:32:58.090Z"
   },
   {
    "duration": 18,
    "start_time": "2021-11-26T05:32:58.119Z"
   },
   {
    "duration": 31,
    "start_time": "2021-11-26T05:32:58.139Z"
   },
   {
    "duration": 41,
    "start_time": "2021-11-26T05:32:58.174Z"
   },
   {
    "duration": 24,
    "start_time": "2021-11-26T05:32:58.218Z"
   },
   {
    "duration": 45,
    "start_time": "2021-11-26T05:32:58.243Z"
   },
   {
    "duration": 28,
    "start_time": "2021-11-26T05:32:58.290Z"
   },
   {
    "duration": 27,
    "start_time": "2021-11-26T05:32:58.320Z"
   },
   {
    "duration": 11,
    "start_time": "2021-11-26T05:32:58.349Z"
   },
   {
    "duration": 36,
    "start_time": "2021-11-26T05:32:58.362Z"
   },
   {
    "duration": 60,
    "start_time": "2021-11-26T05:32:58.400Z"
   },
   {
    "duration": 9,
    "start_time": "2021-11-26T05:32:58.462Z"
   },
   {
    "duration": 43,
    "start_time": "2021-11-26T05:32:58.474Z"
   },
   {
    "duration": 10,
    "start_time": "2021-11-26T05:32:58.519Z"
   },
   {
    "duration": 34,
    "start_time": "2021-11-26T05:32:58.531Z"
   },
   {
    "duration": 36,
    "start_time": "2021-11-26T05:32:58.567Z"
   },
   {
    "duration": 19,
    "start_time": "2021-11-26T05:32:58.605Z"
   },
   {
    "duration": 34,
    "start_time": "2021-11-26T05:32:58.626Z"
   },
   {
    "duration": 7,
    "start_time": "2021-11-26T05:32:58.664Z"
   },
   {
    "duration": 37,
    "start_time": "2021-11-26T05:32:58.673Z"
   },
   {
    "duration": 7,
    "start_time": "2021-11-26T05:32:58.712Z"
   },
   {
    "duration": 37,
    "start_time": "2021-11-26T05:32:58.721Z"
   },
   {
    "duration": 20,
    "start_time": "2021-11-26T05:32:58.760Z"
   },
   {
    "duration": 34,
    "start_time": "2021-11-26T05:32:58.782Z"
   },
   {
    "duration": 25,
    "start_time": "2021-11-26T05:32:58.818Z"
   },
   {
    "duration": 34,
    "start_time": "2021-11-26T05:32:58.845Z"
   },
   {
    "duration": 18,
    "start_time": "2021-11-26T05:32:58.881Z"
   },
   {
    "duration": 22,
    "start_time": "2021-11-26T05:32:58.901Z"
   },
   {
    "duration": 47,
    "start_time": "2021-11-26T05:32:58.925Z"
   },
   {
    "duration": 21,
    "start_time": "2021-11-26T05:32:58.974Z"
   },
   {
    "duration": 2,
    "start_time": "2021-11-26T05:32:58.996Z"
   },
   {
    "duration": 17,
    "start_time": "2021-11-26T05:32:58.999Z"
   },
   {
    "duration": 18,
    "start_time": "2021-11-26T05:32:59.018Z"
   },
   {
    "duration": 42,
    "start_time": "2021-11-26T05:32:59.038Z"
   },
   {
    "duration": 22,
    "start_time": "2021-11-26T05:32:59.082Z"
   },
   {
    "duration": 22,
    "start_time": "2021-11-26T05:32:59.106Z"
   },
   {
    "duration": 33,
    "start_time": "2021-11-26T05:32:59.130Z"
   },
   {
    "duration": 9,
    "start_time": "2021-11-26T05:32:59.165Z"
   },
   {
    "duration": 7,
    "start_time": "2021-11-26T05:32:59.176Z"
   },
   {
    "duration": 144,
    "start_time": "2021-11-26T05:32:59.185Z"
   },
   {
    "duration": 11,
    "start_time": "2021-11-26T05:32:59.330Z"
   },
   {
    "duration": 21,
    "start_time": "2021-11-26T05:32:59.343Z"
   },
   {
    "duration": 12,
    "start_time": "2021-11-26T05:32:59.366Z"
   },
   {
    "duration": 11,
    "start_time": "2021-11-26T05:32:59.379Z"
   },
   {
    "duration": 14,
    "start_time": "2021-11-26T05:32:59.391Z"
   },
   {
    "duration": 18,
    "start_time": "2021-11-26T05:32:59.406Z"
   },
   {
    "duration": 28,
    "start_time": "2021-11-26T05:32:59.425Z"
   },
   {
    "duration": 8,
    "start_time": "2021-11-26T05:36:44.121Z"
   },
   {
    "duration": 10,
    "start_time": "2021-11-26T05:37:00.538Z"
   },
   {
    "duration": 26,
    "start_time": "2021-11-26T05:37:07.931Z"
   },
   {
    "duration": 27,
    "start_time": "2021-11-26T05:39:30.241Z"
   },
   {
    "duration": 238,
    "start_time": "2021-11-26T05:41:21.184Z"
   },
   {
    "duration": 283,
    "start_time": "2021-11-26T05:41:36.927Z"
   },
   {
    "duration": 599,
    "start_time": "2021-11-26T05:42:13.982Z"
   },
   {
    "duration": 17,
    "start_time": "2021-11-26T05:42:22.838Z"
   },
   {
    "duration": 28,
    "start_time": "2021-11-26T05:46:08.187Z"
   },
   {
    "duration": 18,
    "start_time": "2021-11-26T05:46:25.347Z"
   },
   {
    "duration": 25,
    "start_time": "2021-11-26T05:50:22.488Z"
   },
   {
    "duration": 1060,
    "start_time": "2021-11-26T10:26:04.264Z"
   },
   {
    "duration": 277,
    "start_time": "2021-11-26T10:39:16.944Z"
   },
   {
    "duration": 92,
    "start_time": "2021-11-26T10:39:32.661Z"
   },
   {
    "duration": 214,
    "start_time": "2021-11-26T10:39:36.716Z"
   },
   {
    "duration": 304,
    "start_time": "2021-11-26T10:40:02.901Z"
   },
   {
    "duration": 277,
    "start_time": "2021-11-26T10:40:24.764Z"
   },
   {
    "duration": 1206,
    "start_time": "2021-11-26T10:44:16.484Z"
   },
   {
    "duration": 604,
    "start_time": "2021-11-26T10:44:17.692Z"
   },
   {
    "duration": 19,
    "start_time": "2021-11-26T10:44:18.298Z"
   },
   {
    "duration": 17,
    "start_time": "2021-11-26T10:44:18.319Z"
   },
   {
    "duration": 14,
    "start_time": "2021-11-26T10:44:18.338Z"
   },
   {
    "duration": 27,
    "start_time": "2021-11-26T10:44:18.355Z"
   },
   {
    "duration": 16,
    "start_time": "2021-11-26T10:44:18.384Z"
   },
   {
    "duration": 18,
    "start_time": "2021-11-26T10:44:18.402Z"
   },
   {
    "duration": 11,
    "start_time": "2021-11-26T10:44:18.423Z"
   },
   {
    "duration": 16,
    "start_time": "2021-11-26T10:44:18.479Z"
   },
   {
    "duration": 16,
    "start_time": "2021-11-26T10:44:18.497Z"
   },
   {
    "duration": 15,
    "start_time": "2021-11-26T10:44:18.515Z"
   },
   {
    "duration": 20,
    "start_time": "2021-11-26T10:44:18.532Z"
   },
   {
    "duration": 22,
    "start_time": "2021-11-26T10:44:18.554Z"
   },
   {
    "duration": 36,
    "start_time": "2021-11-26T10:44:18.578Z"
   },
   {
    "duration": 9,
    "start_time": "2021-11-26T10:44:18.616Z"
   },
   {
    "duration": 42,
    "start_time": "2021-11-26T10:44:18.627Z"
   },
   {
    "duration": 10,
    "start_time": "2021-11-26T10:44:18.674Z"
   },
   {
    "duration": 20,
    "start_time": "2021-11-26T10:44:18.687Z"
   },
   {
    "duration": 35,
    "start_time": "2021-11-26T10:44:18.709Z"
   },
   {
    "duration": 10,
    "start_time": "2021-11-26T10:44:18.745Z"
   },
   {
    "duration": 38,
    "start_time": "2021-11-26T10:44:18.756Z"
   },
   {
    "duration": 8,
    "start_time": "2021-11-26T10:44:18.795Z"
   },
   {
    "duration": 10,
    "start_time": "2021-11-26T10:44:18.805Z"
   },
   {
    "duration": 4,
    "start_time": "2021-11-26T10:44:18.818Z"
   },
   {
    "duration": 16,
    "start_time": "2021-11-26T10:44:18.824Z"
   },
   {
    "duration": 31,
    "start_time": "2021-11-26T10:44:18.842Z"
   },
   {
    "duration": 23,
    "start_time": "2021-11-26T10:44:18.876Z"
   },
   {
    "duration": 13,
    "start_time": "2021-11-26T10:44:18.901Z"
   },
   {
    "duration": 49,
    "start_time": "2021-11-26T10:44:18.917Z"
   },
   {
    "duration": 19,
    "start_time": "2021-11-26T10:44:18.968Z"
   },
   {
    "duration": 9,
    "start_time": "2021-11-26T10:44:18.989Z"
   },
   {
    "duration": 35,
    "start_time": "2021-11-26T10:44:19.000Z"
   },
   {
    "duration": 50,
    "start_time": "2021-11-26T10:44:19.038Z"
   },
   {
    "duration": 3,
    "start_time": "2021-11-26T10:44:19.091Z"
   },
   {
    "duration": 9,
    "start_time": "2021-11-26T10:44:19.096Z"
   },
   {
    "duration": 17,
    "start_time": "2021-11-26T10:44:19.107Z"
   },
   {
    "duration": 57,
    "start_time": "2021-11-26T10:44:19.126Z"
   },
   {
    "duration": 22,
    "start_time": "2021-11-26T10:44:19.187Z"
   },
   {
    "duration": 25,
    "start_time": "2021-11-26T10:44:19.211Z"
   },
   {
    "duration": 9,
    "start_time": "2021-11-26T10:44:19.237Z"
   },
   {
    "duration": 9,
    "start_time": "2021-11-26T10:44:19.265Z"
   },
   {
    "duration": 17,
    "start_time": "2021-11-26T10:44:19.276Z"
   },
   {
    "duration": 215,
    "start_time": "2021-11-26T10:44:19.295Z"
   },
   {
    "duration": 12,
    "start_time": "2021-11-26T10:44:19.512Z"
   },
   {
    "duration": 16,
    "start_time": "2021-11-26T10:44:19.527Z"
   },
   {
    "duration": 30,
    "start_time": "2021-11-26T10:44:19.545Z"
   },
   {
    "duration": 9,
    "start_time": "2021-11-26T10:44:19.580Z"
   },
   {
    "duration": 15,
    "start_time": "2021-11-26T10:44:19.591Z"
   },
   {
    "duration": 10,
    "start_time": "2021-11-26T10:44:19.608Z"
   },
   {
    "duration": 52,
    "start_time": "2021-11-26T10:44:19.620Z"
   },
   {
    "duration": 12,
    "start_time": "2021-11-26T10:44:19.675Z"
   },
   {
    "duration": 244,
    "start_time": "2021-11-26T10:44:19.689Z"
   },
   {
    "duration": 30,
    "start_time": "2021-11-26T10:44:19.938Z"
   },
   {
    "duration": 34,
    "start_time": "2021-11-26T10:44:19.971Z"
   },
   {
    "duration": 210,
    "start_time": "2021-11-26T10:44:20.007Z"
   },
   {
    "duration": 33599,
    "start_time": "2021-11-26T10:44:20.220Z"
   },
   {
    "duration": 28209,
    "start_time": "2021-11-26T10:45:17.413Z"
   },
   {
    "duration": 13,
    "start_time": "2021-11-26T10:47:52.577Z"
   },
   {
    "duration": 332,
    "start_time": "2021-11-26T10:48:09.160Z"
   },
   {
    "duration": 202,
    "start_time": "2021-11-26T10:49:05.498Z"
   },
   {
    "duration": 221,
    "start_time": "2021-11-26T10:49:20.200Z"
   },
   {
    "duration": 12,
    "start_time": "2021-11-26T10:49:44.520Z"
   },
   {
    "duration": 209,
    "start_time": "2021-11-26T10:49:46.711Z"
   },
   {
    "duration": 13,
    "start_time": "2021-11-26T10:50:47.318Z"
   },
   {
    "duration": 209,
    "start_time": "2021-11-26T10:50:48.782Z"
   },
   {
    "duration": 209,
    "start_time": "2021-11-26T10:50:55.902Z"
   },
   {
    "duration": 86,
    "start_time": "2021-11-26T10:51:16.046Z"
   },
   {
    "duration": 433,
    "start_time": "2021-11-26T10:51:22.126Z"
   },
   {
    "duration": 13,
    "start_time": "2021-11-26T10:55:13.619Z"
   },
   {
    "duration": 967,
    "start_time": "2021-11-26T10:57:12.602Z"
   },
   {
    "duration": 104,
    "start_time": "2021-11-26T10:58:51.313Z"
   },
   {
    "duration": 1450,
    "start_time": "2021-11-26T10:59:19.024Z"
   },
   {
    "duration": 15,
    "start_time": "2021-11-26T11:02:10.318Z"
   },
   {
    "duration": 772,
    "start_time": "2021-11-26T11:02:34.038Z"
   },
   {
    "duration": 13,
    "start_time": "2021-11-26T11:03:35.697Z"
   },
   {
    "duration": 740,
    "start_time": "2021-11-26T11:03:35.713Z"
   },
   {
    "duration": 1140,
    "start_time": "2021-11-26T12:06:19.199Z"
   },
   {
    "duration": 468,
    "start_time": "2021-11-26T12:06:20.341Z"
   },
   {
    "duration": 16,
    "start_time": "2021-11-26T12:06:20.813Z"
   },
   {
    "duration": 15,
    "start_time": "2021-11-26T12:06:20.831Z"
   },
   {
    "duration": 28,
    "start_time": "2021-11-26T12:06:20.848Z"
   },
   {
    "duration": 18,
    "start_time": "2021-11-26T12:06:20.878Z"
   },
   {
    "duration": 11,
    "start_time": "2021-11-26T12:06:20.899Z"
   },
   {
    "duration": 31,
    "start_time": "2021-11-26T12:06:20.912Z"
   },
   {
    "duration": 22,
    "start_time": "2021-11-26T12:06:20.945Z"
   },
   {
    "duration": 32,
    "start_time": "2021-11-26T12:06:20.969Z"
   },
   {
    "duration": 28,
    "start_time": "2021-11-26T12:06:21.002Z"
   },
   {
    "duration": 26,
    "start_time": "2021-11-26T12:06:21.031Z"
   },
   {
    "duration": 32,
    "start_time": "2021-11-26T12:06:21.058Z"
   },
   {
    "duration": 20,
    "start_time": "2021-11-26T12:06:21.092Z"
   },
   {
    "duration": 67,
    "start_time": "2021-11-26T12:06:21.114Z"
   },
   {
    "duration": 8,
    "start_time": "2021-11-26T12:06:21.183Z"
   },
   {
    "duration": 54,
    "start_time": "2021-11-26T12:06:21.192Z"
   },
   {
    "duration": 7,
    "start_time": "2021-11-26T12:06:21.247Z"
   },
   {
    "duration": 21,
    "start_time": "2021-11-26T12:06:21.256Z"
   },
   {
    "duration": 47,
    "start_time": "2021-11-26T12:06:21.279Z"
   },
   {
    "duration": 10,
    "start_time": "2021-11-26T12:06:21.327Z"
   },
   {
    "duration": 24,
    "start_time": "2021-11-26T12:06:21.340Z"
   },
   {
    "duration": 7,
    "start_time": "2021-11-26T12:06:21.366Z"
   },
   {
    "duration": 12,
    "start_time": "2021-11-26T12:06:21.375Z"
   },
   {
    "duration": 3,
    "start_time": "2021-11-26T12:06:21.389Z"
   },
   {
    "duration": 13,
    "start_time": "2021-11-26T12:06:21.394Z"
   },
   {
    "duration": 9,
    "start_time": "2021-11-26T12:06:21.409Z"
   },
   {
    "duration": 20,
    "start_time": "2021-11-26T12:06:21.419Z"
   },
   {
    "duration": 32,
    "start_time": "2021-11-26T12:06:21.441Z"
   },
   {
    "duration": 26,
    "start_time": "2021-11-26T12:06:21.474Z"
   },
   {
    "duration": 7,
    "start_time": "2021-11-26T12:06:21.502Z"
   },
   {
    "duration": 13,
    "start_time": "2021-11-26T12:06:21.511Z"
   },
   {
    "duration": 43,
    "start_time": "2021-11-26T12:06:21.526Z"
   },
   {
    "duration": 19,
    "start_time": "2021-11-26T12:06:21.570Z"
   },
   {
    "duration": 2,
    "start_time": "2021-11-26T12:06:21.591Z"
   },
   {
    "duration": 11,
    "start_time": "2021-11-26T12:06:21.594Z"
   },
   {
    "duration": 20,
    "start_time": "2021-11-26T12:06:21.606Z"
   },
   {
    "duration": 40,
    "start_time": "2021-11-26T12:06:21.627Z"
   },
   {
    "duration": 23,
    "start_time": "2021-11-26T12:06:21.668Z"
   },
   {
    "duration": 27,
    "start_time": "2021-11-26T12:06:21.692Z"
   },
   {
    "duration": 7,
    "start_time": "2021-11-26T12:06:21.721Z"
   },
   {
    "duration": 33,
    "start_time": "2021-11-26T12:06:21.730Z"
   },
   {
    "duration": 7,
    "start_time": "2021-11-26T12:06:21.765Z"
   },
   {
    "duration": 135,
    "start_time": "2021-11-26T12:06:21.773Z"
   },
   {
    "duration": 9,
    "start_time": "2021-11-26T12:06:21.910Z"
   },
   {
    "duration": 16,
    "start_time": "2021-11-26T12:06:21.920Z"
   },
   {
    "duration": 29,
    "start_time": "2021-11-26T12:06:21.938Z"
   },
   {
    "duration": 34,
    "start_time": "2021-11-26T12:06:21.968Z"
   },
   {
    "duration": 32,
    "start_time": "2021-11-26T12:06:22.004Z"
   },
   {
    "duration": 13,
    "start_time": "2021-11-26T12:06:22.037Z"
   },
   {
    "duration": 45,
    "start_time": "2021-11-26T12:06:22.051Z"
   },
   {
    "duration": 32,
    "start_time": "2021-11-26T12:06:22.098Z"
   },
   {
    "duration": 6927,
    "start_time": "2021-11-26T12:06:22.132Z"
   },
   {
    "duration": -63,
    "start_time": "2021-11-26T12:06:29.124Z"
   },
   {
    "duration": -64,
    "start_time": "2021-11-26T12:06:29.127Z"
   },
   {
    "duration": -66,
    "start_time": "2021-11-26T12:06:29.129Z"
   },
   {
    "duration": -67,
    "start_time": "2021-11-26T12:06:29.131Z"
   },
   {
    "duration": 182,
    "start_time": "2021-11-26T12:10:45.206Z"
   },
   {
    "duration": 217,
    "start_time": "2021-11-26T12:12:17.307Z"
   },
   {
    "duration": 350,
    "start_time": "2021-11-26T12:12:37.003Z"
   },
   {
    "duration": 22,
    "start_time": "2021-11-26T12:12:42.237Z"
   },
   {
    "duration": 185,
    "start_time": "2021-11-26T12:13:00.994Z"
   },
   {
    "duration": 190,
    "start_time": "2021-11-26T12:15:00.714Z"
   },
   {
    "duration": 240,
    "start_time": "2021-11-26T12:15:10.880Z"
   },
   {
    "duration": 209,
    "start_time": "2021-11-26T12:15:48.729Z"
   },
   {
    "duration": 192,
    "start_time": "2021-11-26T12:16:08.320Z"
   },
   {
    "duration": 201,
    "start_time": "2021-11-26T12:16:12.384Z"
   },
   {
    "duration": 209,
    "start_time": "2021-11-26T12:24:07.522Z"
   },
   {
    "duration": 321,
    "start_time": "2021-11-26T12:25:49.769Z"
   },
   {
    "duration": 210,
    "start_time": "2021-11-26T12:26:04.785Z"
   },
   {
    "duration": 200,
    "start_time": "2021-11-26T12:27:13.481Z"
   },
   {
    "duration": 210,
    "start_time": "2021-11-26T12:27:27.207Z"
   },
   {
    "duration": 194,
    "start_time": "2021-11-26T12:27:44.488Z"
   },
   {
    "duration": 857,
    "start_time": "2021-11-26T12:29:42.781Z"
   },
   {
    "duration": 454,
    "start_time": "2021-11-26T12:30:06.239Z"
   },
   {
    "duration": 14,
    "start_time": "2021-11-26T12:30:22.924Z"
   },
   {
    "duration": 903,
    "start_time": "2021-11-26T12:30:28.311Z"
   },
   {
    "duration": 958,
    "start_time": "2021-11-26T12:30:45.621Z"
   },
   {
    "duration": 1087,
    "start_time": "2021-11-26T12:31:11.052Z"
   },
   {
    "duration": 923,
    "start_time": "2021-11-26T12:31:24.206Z"
   },
   {
    "duration": 928,
    "start_time": "2021-11-26T12:31:36.948Z"
   },
   {
    "duration": 998,
    "start_time": "2021-11-26T12:31:53.316Z"
   },
   {
    "duration": 331,
    "start_time": "2021-11-26T19:20:50.575Z"
   },
   {
    "duration": 1515,
    "start_time": "2021-11-26T19:20:57.046Z"
   },
   {
    "duration": 609,
    "start_time": "2021-11-26T19:20:58.563Z"
   },
   {
    "duration": 23,
    "start_time": "2021-11-26T19:20:59.175Z"
   },
   {
    "duration": 21,
    "start_time": "2021-11-26T19:20:59.201Z"
   },
   {
    "duration": 48,
    "start_time": "2021-11-26T19:20:59.224Z"
   },
   {
    "duration": 18,
    "start_time": "2021-11-26T19:20:59.274Z"
   },
   {
    "duration": 16,
    "start_time": "2021-11-26T19:20:59.294Z"
   },
   {
    "duration": 15,
    "start_time": "2021-11-26T19:20:59.314Z"
   },
   {
    "duration": 11,
    "start_time": "2021-11-26T19:20:59.369Z"
   },
   {
    "duration": 19,
    "start_time": "2021-11-26T19:20:59.383Z"
   },
   {
    "duration": 10,
    "start_time": "2021-11-26T19:20:59.404Z"
   },
   {
    "duration": 14,
    "start_time": "2021-11-26T19:20:59.416Z"
   },
   {
    "duration": 35,
    "start_time": "2021-11-26T19:20:59.432Z"
   },
   {
    "duration": 12,
    "start_time": "2021-11-26T19:20:59.469Z"
   },
   {
    "duration": 36,
    "start_time": "2021-11-26T19:20:59.483Z"
   },
   {
    "duration": 11,
    "start_time": "2021-11-26T19:20:59.521Z"
   },
   {
    "duration": 66,
    "start_time": "2021-11-26T19:20:59.535Z"
   },
   {
    "duration": 9,
    "start_time": "2021-11-26T19:20:59.604Z"
   },
   {
    "duration": 14,
    "start_time": "2021-11-26T19:20:59.616Z"
   },
   {
    "duration": 58,
    "start_time": "2021-11-26T19:20:59.632Z"
   },
   {
    "duration": 13,
    "start_time": "2021-11-26T19:20:59.692Z"
   },
   {
    "duration": 30,
    "start_time": "2021-11-26T19:20:59.708Z"
   },
   {
    "duration": 10,
    "start_time": "2021-11-26T19:20:59.770Z"
   },
   {
    "duration": 10,
    "start_time": "2021-11-26T19:20:59.784Z"
   },
   {
    "duration": 4,
    "start_time": "2021-11-26T19:20:59.797Z"
   },
   {
    "duration": 13,
    "start_time": "2021-11-26T19:20:59.804Z"
   },
   {
    "duration": 50,
    "start_time": "2021-11-26T19:20:59.819Z"
   },
   {
    "duration": 23,
    "start_time": "2021-11-26T19:20:59.871Z"
   },
   {
    "duration": 16,
    "start_time": "2021-11-26T19:20:59.897Z"
   },
   {
    "duration": 57,
    "start_time": "2021-11-26T19:20:59.915Z"
   },
   {
    "duration": 12,
    "start_time": "2021-11-26T19:20:59.974Z"
   },
   {
    "duration": 16,
    "start_time": "2021-11-26T19:20:59.988Z"
   },
   {
    "duration": 48,
    "start_time": "2021-11-26T19:21:00.006Z"
   },
   {
    "duration": 39,
    "start_time": "2021-11-26T19:21:00.068Z"
   },
   {
    "duration": 4,
    "start_time": "2021-11-26T19:21:00.110Z"
   },
   {
    "duration": 14,
    "start_time": "2021-11-26T19:21:00.116Z"
   },
   {
    "duration": 58,
    "start_time": "2021-11-26T19:21:00.132Z"
   },
   {
    "duration": 34,
    "start_time": "2021-11-26T19:21:00.192Z"
   },
   {
    "duration": 61,
    "start_time": "2021-11-26T19:21:00.228Z"
   },
   {
    "duration": 37,
    "start_time": "2021-11-26T19:21:00.292Z"
   },
   {
    "duration": 14,
    "start_time": "2021-11-26T19:21:00.331Z"
   },
   {
    "duration": 13,
    "start_time": "2021-11-26T19:21:00.368Z"
   },
   {
    "duration": 19,
    "start_time": "2021-11-26T19:21:00.384Z"
   },
   {
    "duration": 243,
    "start_time": "2021-11-26T19:21:00.406Z"
   },
   {
    "duration": 20,
    "start_time": "2021-11-26T19:21:00.651Z"
   },
   {
    "duration": 27,
    "start_time": "2021-11-26T19:21:00.673Z"
   },
   {
    "duration": 19,
    "start_time": "2021-11-26T19:21:00.702Z"
   },
   {
    "duration": 16,
    "start_time": "2021-11-26T19:21:00.723Z"
   },
   {
    "duration": 16,
    "start_time": "2021-11-26T19:21:00.766Z"
   },
   {
    "duration": 16,
    "start_time": "2021-11-26T19:21:00.785Z"
   },
   {
    "duration": 25,
    "start_time": "2021-11-26T19:21:00.804Z"
   },
   {
    "duration": 41,
    "start_time": "2021-11-26T19:21:00.832Z"
   },
   {
    "duration": 369,
    "start_time": "2021-11-26T19:21:00.876Z"
   },
   {
    "duration": 363,
    "start_time": "2021-11-26T19:21:01.247Z"
   },
   {
    "duration": 357,
    "start_time": "2021-11-26T19:21:01.613Z"
   },
   {
    "duration": 24,
    "start_time": "2021-11-26T19:21:01.972Z"
   },
   {
    "duration": 25,
    "start_time": "2021-11-26T19:21:01.999Z"
   },
   {
    "duration": 1681,
    "start_time": "2021-11-26T19:21:02.027Z"
   },
   {
    "duration": 1292,
    "start_time": "2021-11-26T19:21:03.711Z"
   },
   {
    "duration": 109,
    "start_time": "2021-11-26T19:25:42.766Z"
   },
   {
    "duration": 389,
    "start_time": "2021-11-26T19:25:57.187Z"
   },
   {
    "duration": 5,
    "start_time": "2021-11-26T19:26:39.115Z"
   },
   {
    "duration": 841,
    "start_time": "2021-11-26T19:26:56.164Z"
   },
   {
    "duration": 837,
    "start_time": "2021-11-26T19:27:27.792Z"
   },
   {
    "duration": 818,
    "start_time": "2021-11-26T19:27:53.851Z"
   },
   {
    "duration": 1016,
    "start_time": "2021-11-26T19:29:20.373Z"
   },
   {
    "duration": 819,
    "start_time": "2021-11-26T19:29:41.819Z"
   },
   {
    "duration": 914,
    "start_time": "2021-11-26T19:29:50.978Z"
   },
   {
    "duration": 837,
    "start_time": "2021-11-26T19:33:57.352Z"
   },
   {
    "duration": 615,
    "start_time": "2021-11-26T19:37:39.205Z"
   },
   {
    "duration": 19,
    "start_time": "2021-11-26T19:38:07.232Z"
   },
   {
    "duration": 18,
    "start_time": "2021-11-26T19:38:07.770Z"
   },
   {
    "duration": 625,
    "start_time": "2021-11-26T19:38:08.704Z"
   },
   {
    "duration": 732,
    "start_time": "2021-11-26T19:38:13.055Z"
   },
   {
    "duration": 635,
    "start_time": "2021-11-26T19:38:20.235Z"
   },
   {
    "duration": 610,
    "start_time": "2021-11-26T19:38:27.191Z"
   },
   {
    "duration": 88,
    "start_time": "2021-11-26T19:47:45.137Z"
   },
   {
    "duration": 343,
    "start_time": "2021-11-26T19:49:29.513Z"
   },
   {
    "duration": 95,
    "start_time": "2021-11-26T19:55:58.396Z"
   },
   {
    "duration": 1265,
    "start_time": "2021-11-26T19:56:11.433Z"
   },
   {
    "duration": 95,
    "start_time": "2021-11-26T20:03:17.848Z"
   },
   {
    "duration": 7,
    "start_time": "2021-11-26T20:06:54.430Z"
   },
   {
    "duration": 6,
    "start_time": "2021-11-26T20:07:32.237Z"
   },
   {
    "duration": 6,
    "start_time": "2021-11-26T20:08:00.864Z"
   },
   {
    "duration": 6,
    "start_time": "2021-11-26T20:08:46.434Z"
   },
   {
    "duration": 7,
    "start_time": "2021-11-26T20:09:53.147Z"
   },
   {
    "duration": 6,
    "start_time": "2021-11-26T20:10:18.934Z"
   },
   {
    "duration": 6,
    "start_time": "2021-11-26T20:11:20.213Z"
   },
   {
    "duration": 7,
    "start_time": "2021-11-26T20:11:48.280Z"
   },
   {
    "duration": 8,
    "start_time": "2021-11-26T20:12:36.874Z"
   },
   {
    "duration": 8,
    "start_time": "2021-11-26T20:13:26.367Z"
   },
   {
    "duration": 99,
    "start_time": "2021-11-26T20:14:06.291Z"
   },
   {
    "duration": 84,
    "start_time": "2021-11-26T20:14:15.601Z"
   },
   {
    "duration": 109,
    "start_time": "2021-11-26T20:14:22.799Z"
   },
   {
    "duration": 92,
    "start_time": "2021-11-26T20:14:29.048Z"
   },
   {
    "duration": 125,
    "start_time": "2021-11-26T20:14:38.669Z"
   },
   {
    "duration": 8,
    "start_time": "2021-11-26T20:14:48.280Z"
   },
   {
    "duration": 11,
    "start_time": "2021-11-26T20:14:55.244Z"
   },
   {
    "duration": 14,
    "start_time": "2021-11-26T20:15:54.861Z"
   },
   {
    "duration": 15,
    "start_time": "2021-11-26T20:16:57.940Z"
   },
   {
    "duration": 3,
    "start_time": "2021-11-26T20:23:50.088Z"
   },
   {
    "duration": 6,
    "start_time": "2021-11-26T20:25:40.245Z"
   },
   {
    "duration": 6,
    "start_time": "2021-11-26T20:25:41.695Z"
   },
   {
    "duration": 14,
    "start_time": "2021-11-26T20:33:47.744Z"
   },
   {
    "duration": 6,
    "start_time": "2021-11-26T20:34:42.595Z"
   },
   {
    "duration": 5,
    "start_time": "2021-11-26T20:34:50.312Z"
   },
   {
    "duration": 1531,
    "start_time": "2021-11-26T20:44:39.825Z"
   },
   {
    "duration": 608,
    "start_time": "2021-11-26T20:44:41.359Z"
   },
   {
    "duration": 25,
    "start_time": "2021-11-26T20:44:41.970Z"
   },
   {
    "duration": 21,
    "start_time": "2021-11-26T20:44:41.997Z"
   },
   {
    "duration": 48,
    "start_time": "2021-11-26T20:44:42.021Z"
   },
   {
    "duration": 18,
    "start_time": "2021-11-26T20:44:42.071Z"
   },
   {
    "duration": 21,
    "start_time": "2021-11-26T20:44:42.092Z"
   },
   {
    "duration": 15,
    "start_time": "2021-11-26T20:44:42.116Z"
   },
   {
    "duration": 42,
    "start_time": "2021-11-26T20:44:42.135Z"
   },
   {
    "duration": 10,
    "start_time": "2021-11-26T20:44:42.180Z"
   },
   {
    "duration": 9,
    "start_time": "2021-11-26T20:44:42.193Z"
   },
   {
    "duration": 16,
    "start_time": "2021-11-26T20:44:42.204Z"
   },
   {
    "duration": 48,
    "start_time": "2021-11-26T20:44:42.222Z"
   },
   {
    "duration": 12,
    "start_time": "2021-11-26T20:44:42.272Z"
   },
   {
    "duration": 36,
    "start_time": "2021-11-26T20:44:42.287Z"
   },
   {
    "duration": 41,
    "start_time": "2021-11-26T20:44:42.326Z"
   },
   {
    "duration": 39,
    "start_time": "2021-11-26T20:44:42.370Z"
   },
   {
    "duration": 10,
    "start_time": "2021-11-26T20:44:42.412Z"
   },
   {
    "duration": 14,
    "start_time": "2021-11-26T20:44:42.424Z"
   },
   {
    "duration": 25,
    "start_time": "2021-11-26T20:44:42.468Z"
   },
   {
    "duration": 13,
    "start_time": "2021-11-26T20:44:42.496Z"
   },
   {
    "duration": 58,
    "start_time": "2021-11-26T20:44:42.512Z"
   },
   {
    "duration": 10,
    "start_time": "2021-11-26T20:44:42.576Z"
   },
   {
    "duration": 11,
    "start_time": "2021-11-26T20:44:42.590Z"
   },
   {
    "duration": 7,
    "start_time": "2021-11-26T20:44:42.604Z"
   },
   {
    "duration": 17,
    "start_time": "2021-11-26T20:44:42.613Z"
   },
   {
    "duration": 40,
    "start_time": "2021-11-26T20:44:42.632Z"
   },
   {
    "duration": 24,
    "start_time": "2021-11-26T20:44:42.674Z"
   },
   {
    "duration": 17,
    "start_time": "2021-11-26T20:44:42.701Z"
   },
   {
    "duration": 65,
    "start_time": "2021-11-26T20:44:42.720Z"
   },
   {
    "duration": 11,
    "start_time": "2021-11-26T20:44:42.787Z"
   },
   {
    "duration": 10,
    "start_time": "2021-11-26T20:44:42.801Z"
   },
   {
    "duration": 62,
    "start_time": "2021-11-26T20:44:42.814Z"
   },
   {
    "duration": 35,
    "start_time": "2021-11-26T20:44:42.878Z"
   },
   {
    "duration": 3,
    "start_time": "2021-11-26T20:44:42.915Z"
   },
   {
    "duration": 15,
    "start_time": "2021-11-26T20:44:42.920Z"
   },
   {
    "duration": 29,
    "start_time": "2021-11-26T20:44:42.967Z"
   },
   {
    "duration": 34,
    "start_time": "2021-11-26T20:44:42.998Z"
   },
   {
    "duration": 61,
    "start_time": "2021-11-26T20:44:43.034Z"
   },
   {
    "duration": 36,
    "start_time": "2021-11-26T20:44:43.098Z"
   },
   {
    "duration": 30,
    "start_time": "2021-11-26T20:44:43.137Z"
   },
   {
    "duration": 13,
    "start_time": "2021-11-26T20:44:43.169Z"
   },
   {
    "duration": 11,
    "start_time": "2021-11-26T20:44:43.184Z"
   },
   {
    "duration": 247,
    "start_time": "2021-11-26T20:44:43.197Z"
   },
   {
    "duration": 23,
    "start_time": "2021-11-26T20:44:43.447Z"
   },
   {
    "duration": 23,
    "start_time": "2021-11-26T20:44:43.472Z"
   },
   {
    "duration": 16,
    "start_time": "2021-11-26T20:44:43.497Z"
   },
   {
    "duration": 16,
    "start_time": "2021-11-26T20:44:43.516Z"
   },
   {
    "duration": 44,
    "start_time": "2021-11-26T20:44:43.534Z"
   },
   {
    "duration": 17,
    "start_time": "2021-11-26T20:44:43.581Z"
   },
   {
    "duration": 21,
    "start_time": "2021-11-26T20:44:43.600Z"
   },
   {
    "duration": 44,
    "start_time": "2021-11-26T20:44:43.624Z"
   },
   {
    "duration": 14,
    "start_time": "2021-11-26T20:44:43.670Z"
   },
   {
    "duration": 17,
    "start_time": "2021-11-26T20:44:43.687Z"
   },
   {
    "duration": 399,
    "start_time": "2021-11-26T20:44:43.707Z"
   },
   {
    "duration": 336,
    "start_time": "2021-11-26T20:44:44.108Z"
   },
   {
    "duration": 343,
    "start_time": "2021-11-26T20:44:44.447Z"
   },
   {
    "duration": 20,
    "start_time": "2021-11-26T20:44:44.792Z"
   },
   {
    "duration": 18,
    "start_time": "2021-11-26T20:44:44.815Z"
   },
   {
    "duration": 691,
    "start_time": "2021-11-26T20:44:44.835Z"
   },
   {
    "duration": 717,
    "start_time": "2021-11-26T20:44:45.528Z"
   },
   {
    "duration": 663,
    "start_time": "2021-11-26T20:44:46.247Z"
   },
   {
    "duration": 739,
    "start_time": "2021-11-26T20:44:46.913Z"
   },
   {
    "duration": 12,
    "start_time": "2021-11-26T20:44:47.655Z"
   },
   {
    "duration": 6,
    "start_time": "2021-11-26T20:44:47.670Z"
   },
   {
    "duration": 8,
    "start_time": "2021-11-26T20:44:47.678Z"
   },
   {
    "duration": 15,
    "start_time": "2021-11-26T20:44:47.689Z"
   },
   {
    "duration": 5,
    "start_time": "2021-11-26T20:44:47.712Z"
   },
   {
    "duration": 48,
    "start_time": "2021-11-26T20:44:47.720Z"
   },
   {
    "duration": 1073,
    "start_time": "2021-11-27T08:52:52.351Z"
   },
   {
    "duration": 453,
    "start_time": "2021-11-27T08:52:53.426Z"
   },
   {
    "duration": 16,
    "start_time": "2021-11-27T08:52:53.880Z"
   },
   {
    "duration": 14,
    "start_time": "2021-11-27T08:52:53.898Z"
   },
   {
    "duration": 11,
    "start_time": "2021-11-27T08:52:53.914Z"
   },
   {
    "duration": 14,
    "start_time": "2021-11-27T08:52:53.927Z"
   },
   {
    "duration": 10,
    "start_time": "2021-11-27T08:52:53.942Z"
   },
   {
    "duration": 10,
    "start_time": "2021-11-27T08:52:53.955Z"
   },
   {
    "duration": 7,
    "start_time": "2021-11-27T08:52:53.967Z"
   },
   {
    "duration": 7,
    "start_time": "2021-11-27T08:52:54.007Z"
   },
   {
    "duration": 5,
    "start_time": "2021-11-27T08:52:54.016Z"
   },
   {
    "duration": 12,
    "start_time": "2021-11-27T08:52:54.023Z"
   },
   {
    "duration": 6,
    "start_time": "2021-11-27T08:52:54.037Z"
   },
   {
    "duration": 7,
    "start_time": "2021-11-27T08:52:54.045Z"
   },
   {
    "duration": 23,
    "start_time": "2021-11-27T08:52:54.053Z"
   },
   {
    "duration": 35,
    "start_time": "2021-11-27T08:52:54.077Z"
   },
   {
    "duration": 28,
    "start_time": "2021-11-27T08:52:54.114Z"
   },
   {
    "duration": 6,
    "start_time": "2021-11-27T08:52:54.144Z"
   },
   {
    "duration": 38,
    "start_time": "2021-11-27T08:52:54.152Z"
   },
   {
    "duration": 28,
    "start_time": "2021-11-27T08:52:54.191Z"
   },
   {
    "duration": 26,
    "start_time": "2021-11-27T08:52:54.220Z"
   },
   {
    "duration": 24,
    "start_time": "2021-11-27T08:52:54.248Z"
   },
   {
    "duration": 8,
    "start_time": "2021-11-27T08:52:54.276Z"
   },
   {
    "duration": 12,
    "start_time": "2021-11-27T08:52:54.287Z"
   },
   {
    "duration": 4,
    "start_time": "2021-11-27T08:52:54.306Z"
   },
   {
    "duration": 12,
    "start_time": "2021-11-27T08:52:54.312Z"
   },
   {
    "duration": 15,
    "start_time": "2021-11-27T08:52:54.325Z"
   },
   {
    "duration": 17,
    "start_time": "2021-11-27T08:52:54.342Z"
   },
   {
    "duration": 12,
    "start_time": "2021-11-27T08:52:54.361Z"
   },
   {
    "duration": 45,
    "start_time": "2021-11-27T08:52:54.375Z"
   },
   {
    "duration": 8,
    "start_time": "2021-11-27T08:52:54.422Z"
   },
   {
    "duration": 7,
    "start_time": "2021-11-27T08:52:54.432Z"
   },
   {
    "duration": 28,
    "start_time": "2021-11-27T08:52:54.441Z"
   },
   {
    "duration": 38,
    "start_time": "2021-11-27T08:52:54.470Z"
   },
   {
    "duration": 2,
    "start_time": "2021-11-27T08:52:54.510Z"
   },
   {
    "duration": 11,
    "start_time": "2021-11-27T08:52:54.514Z"
   },
   {
    "duration": 17,
    "start_time": "2021-11-27T08:52:54.527Z"
   },
   {
    "duration": 22,
    "start_time": "2021-11-27T08:52:54.546Z"
   },
   {
    "duration": 51,
    "start_time": "2021-11-27T08:52:54.570Z"
   },
   {
    "duration": 25,
    "start_time": "2021-11-27T08:52:54.623Z"
   },
   {
    "duration": 7,
    "start_time": "2021-11-27T08:52:54.649Z"
   },
   {
    "duration": 16,
    "start_time": "2021-11-27T08:52:54.658Z"
   },
   {
    "duration": 7,
    "start_time": "2021-11-27T08:52:54.675Z"
   },
   {
    "duration": 147,
    "start_time": "2021-11-27T08:52:54.684Z"
   },
   {
    "duration": 10,
    "start_time": "2021-11-27T08:52:54.833Z"
   },
   {
    "duration": 12,
    "start_time": "2021-11-27T08:52:54.845Z"
   },
   {
    "duration": 11,
    "start_time": "2021-11-27T08:52:54.859Z"
   },
   {
    "duration": 9,
    "start_time": "2021-11-27T08:52:54.871Z"
   },
   {
    "duration": 31,
    "start_time": "2021-11-27T08:52:54.882Z"
   },
   {
    "duration": 9,
    "start_time": "2021-11-27T08:52:54.915Z"
   },
   {
    "duration": 14,
    "start_time": "2021-11-27T08:52:54.926Z"
   },
   {
    "duration": 12,
    "start_time": "2021-11-27T08:52:54.941Z"
   },
   {
    "duration": 9,
    "start_time": "2021-11-27T08:52:54.955Z"
   },
   {
    "duration": 43,
    "start_time": "2021-11-27T08:52:54.966Z"
   },
   {
    "duration": 203,
    "start_time": "2021-11-27T08:52:55.011Z"
   },
   {
    "duration": 198,
    "start_time": "2021-11-27T08:52:55.216Z"
   },
   {
    "duration": 188,
    "start_time": "2021-11-27T08:52:55.416Z"
   },
   {
    "duration": 11,
    "start_time": "2021-11-27T08:52:55.607Z"
   },
   {
    "duration": 11,
    "start_time": "2021-11-27T08:52:55.620Z"
   },
   {
    "duration": 366,
    "start_time": "2021-11-27T08:52:55.633Z"
   },
   {
    "duration": 425,
    "start_time": "2021-11-27T08:52:56.001Z"
   },
   {
    "duration": 371,
    "start_time": "2021-11-27T08:52:56.427Z"
   },
   {
    "duration": 363,
    "start_time": "2021-11-27T08:52:56.799Z"
   },
   {
    "duration": 3,
    "start_time": "2021-11-27T08:52:57.164Z"
   },
   {
    "duration": 29,
    "start_time": "2021-11-27T08:52:57.169Z"
   },
   {
    "duration": 28,
    "start_time": "2021-11-27T08:52:57.200Z"
   },
   {
    "duration": 27,
    "start_time": "2021-11-27T08:52:57.230Z"
   },
   {
    "duration": 7,
    "start_time": "2021-11-27T08:52:57.261Z"
   },
   {
    "duration": 31,
    "start_time": "2021-11-27T08:52:57.270Z"
   },
   {
    "duration": 26,
    "start_time": "2021-11-27T08:59:18.131Z"
   },
   {
    "duration": 24,
    "start_time": "2021-11-27T08:59:23.212Z"
   },
   {
    "duration": 1199,
    "start_time": "2021-11-27T21:09:40.184Z"
   },
   {
    "duration": 468,
    "start_time": "2021-11-27T21:09:41.385Z"
   },
   {
    "duration": 16,
    "start_time": "2021-11-27T21:09:41.855Z"
   },
   {
    "duration": 20,
    "start_time": "2021-11-27T21:09:41.873Z"
   },
   {
    "duration": 13,
    "start_time": "2021-11-27T21:09:41.895Z"
   },
   {
    "duration": 17,
    "start_time": "2021-11-27T21:09:41.910Z"
   },
   {
    "duration": 11,
    "start_time": "2021-11-27T21:09:41.929Z"
   },
   {
    "duration": 15,
    "start_time": "2021-11-27T21:09:41.943Z"
   },
   {
    "duration": 13,
    "start_time": "2021-11-27T21:09:41.960Z"
   },
   {
    "duration": 36,
    "start_time": "2021-11-27T21:09:41.975Z"
   },
   {
    "duration": 8,
    "start_time": "2021-11-27T21:09:42.013Z"
   },
   {
    "duration": 19,
    "start_time": "2021-11-27T21:09:42.023Z"
   },
   {
    "duration": 16,
    "start_time": "2021-11-27T21:09:42.044Z"
   },
   {
    "duration": 14,
    "start_time": "2021-11-27T21:09:42.062Z"
   },
   {
    "duration": 25,
    "start_time": "2021-11-27T21:09:42.078Z"
   },
   {
    "duration": 15,
    "start_time": "2021-11-27T21:09:42.106Z"
   },
   {
    "duration": 33,
    "start_time": "2021-11-27T21:09:42.123Z"
   },
   {
    "duration": 6,
    "start_time": "2021-11-27T21:09:42.158Z"
   },
   {
    "duration": 17,
    "start_time": "2021-11-27T21:09:42.166Z"
   },
   {
    "duration": 35,
    "start_time": "2021-11-27T21:09:42.185Z"
   },
   {
    "duration": 10,
    "start_time": "2021-11-27T21:09:42.222Z"
   },
   {
    "duration": 27,
    "start_time": "2021-11-27T21:09:42.234Z"
   },
   {
    "duration": 8,
    "start_time": "2021-11-27T21:09:42.266Z"
   },
   {
    "duration": 8,
    "start_time": "2021-11-27T21:09:42.277Z"
   },
   {
    "duration": 5,
    "start_time": "2021-11-27T21:09:42.306Z"
   },
   {
    "duration": 20,
    "start_time": "2021-11-27T21:09:42.314Z"
   },
   {
    "duration": 11,
    "start_time": "2021-11-27T21:09:42.336Z"
   },
   {
    "duration": 19,
    "start_time": "2021-11-27T21:09:42.349Z"
   },
   {
    "duration": 10,
    "start_time": "2021-11-27T21:09:42.370Z"
   },
   {
    "duration": 42,
    "start_time": "2021-11-27T21:09:42.382Z"
   },
   {
    "duration": 10,
    "start_time": "2021-11-27T21:09:42.426Z"
   },
   {
    "duration": 13,
    "start_time": "2021-11-27T21:09:42.437Z"
   },
   {
    "duration": 38,
    "start_time": "2021-11-27T21:09:42.452Z"
   },
   {
    "duration": 26,
    "start_time": "2021-11-27T21:09:42.492Z"
   },
   {
    "duration": 3,
    "start_time": "2021-11-27T21:09:42.520Z"
   },
   {
    "duration": 11,
    "start_time": "2021-11-27T21:09:42.532Z"
   },
   {
    "duration": 18,
    "start_time": "2021-11-27T21:09:42.546Z"
   },
   {
    "duration": 56,
    "start_time": "2021-11-27T21:09:42.566Z"
   },
   {
    "duration": 29,
    "start_time": "2021-11-27T21:09:42.624Z"
   },
   {
    "duration": 53,
    "start_time": "2021-11-27T21:09:42.655Z"
   },
   {
    "duration": 7,
    "start_time": "2021-11-27T21:09:42.710Z"
   },
   {
    "duration": 21,
    "start_time": "2021-11-27T21:09:42.719Z"
   },
   {
    "duration": 9,
    "start_time": "2021-11-27T21:09:42.742Z"
   },
   {
    "duration": 154,
    "start_time": "2021-11-27T21:09:42.752Z"
   },
   {
    "duration": 13,
    "start_time": "2021-11-27T21:09:42.909Z"
   },
   {
    "duration": 19,
    "start_time": "2021-11-27T21:09:42.925Z"
   },
   {
    "duration": 13,
    "start_time": "2021-11-27T21:09:42.945Z"
   },
   {
    "duration": 18,
    "start_time": "2021-11-27T21:09:42.959Z"
   },
   {
    "duration": 14,
    "start_time": "2021-11-27T21:09:42.979Z"
   },
   {
    "duration": 11,
    "start_time": "2021-11-27T21:09:43.006Z"
   },
   {
    "duration": 26,
    "start_time": "2021-11-27T21:09:43.019Z"
   },
   {
    "duration": 12,
    "start_time": "2021-11-27T21:09:43.047Z"
   },
   {
    "duration": 17,
    "start_time": "2021-11-27T21:09:43.061Z"
   },
   {
    "duration": 9,
    "start_time": "2021-11-27T21:09:43.080Z"
   },
   {
    "duration": 227,
    "start_time": "2021-11-27T21:09:43.091Z"
   },
   {
    "duration": 227,
    "start_time": "2021-11-27T21:09:43.320Z"
   },
   {
    "duration": 206,
    "start_time": "2021-11-27T21:09:43.549Z"
   },
   {
    "duration": 11,
    "start_time": "2021-11-27T21:09:43.756Z"
   },
   {
    "duration": 17,
    "start_time": "2021-11-27T21:09:43.769Z"
   },
   {
    "duration": 405,
    "start_time": "2021-11-27T21:09:43.788Z"
   },
   {
    "duration": 455,
    "start_time": "2021-11-27T21:09:44.195Z"
   },
   {
    "duration": 409,
    "start_time": "2021-11-27T21:09:44.652Z"
   },
   {
    "duration": 385,
    "start_time": "2021-11-27T21:09:45.063Z"
   },
   {
    "duration": 2,
    "start_time": "2021-11-27T21:09:45.450Z"
   },
   {
    "duration": 20,
    "start_time": "2021-11-27T21:09:45.454Z"
   },
   {
    "duration": 14,
    "start_time": "2021-11-27T21:09:45.476Z"
   },
   {
    "duration": 29,
    "start_time": "2021-11-27T21:09:45.492Z"
   },
   {
    "duration": 7,
    "start_time": "2021-11-27T21:09:45.527Z"
   },
   {
    "duration": 25,
    "start_time": "2021-11-27T21:09:45.536Z"
   },
   {
    "duration": 19,
    "start_time": "2021-11-27T21:10:11.979Z"
   },
   {
    "duration": 14,
    "start_time": "2021-11-27T21:10:19.922Z"
   },
   {
    "duration": 13,
    "start_time": "2021-11-27T21:10:26.061Z"
   },
   {
    "duration": 21,
    "start_time": "2021-11-27T21:11:04.200Z"
   },
   {
    "duration": 14,
    "start_time": "2021-11-27T21:14:04.528Z"
   },
   {
    "duration": 13,
    "start_time": "2021-11-27T21:14:31.562Z"
   },
   {
    "duration": 10,
    "start_time": "2021-11-27T21:14:49.958Z"
   },
   {
    "duration": 17,
    "start_time": "2021-11-27T21:16:49.605Z"
   },
   {
    "duration": 13,
    "start_time": "2021-11-27T21:16:54.874Z"
   },
   {
    "duration": 13,
    "start_time": "2021-11-27T21:33:19.477Z"
   },
   {
    "duration": 14,
    "start_time": "2021-11-27T21:33:32.723Z"
   },
   {
    "duration": 13,
    "start_time": "2021-11-27T21:33:44.469Z"
   },
   {
    "duration": 8,
    "start_time": "2021-11-27T21:34:39.372Z"
   },
   {
    "duration": 22,
    "start_time": "2021-11-27T21:35:05.241Z"
   },
   {
    "duration": 12,
    "start_time": "2021-11-27T21:35:06.443Z"
   },
   {
    "duration": 13,
    "start_time": "2021-11-27T21:35:10.498Z"
   },
   {
    "duration": 1371,
    "start_time": "2021-11-27T21:35:32.808Z"
   },
   {
    "duration": 480,
    "start_time": "2021-11-27T21:35:34.181Z"
   },
   {
    "duration": 16,
    "start_time": "2021-11-27T21:35:34.663Z"
   },
   {
    "duration": 15,
    "start_time": "2021-11-27T21:35:34.681Z"
   },
   {
    "duration": 12,
    "start_time": "2021-11-27T21:35:34.698Z"
   },
   {
    "duration": 11,
    "start_time": "2021-11-27T21:35:34.712Z"
   },
   {
    "duration": 10,
    "start_time": "2021-11-27T21:35:34.725Z"
   },
   {
    "duration": 15,
    "start_time": "2021-11-27T21:35:34.737Z"
   },
   {
    "duration": 8,
    "start_time": "2021-11-27T21:35:34.755Z"
   },
   {
    "duration": 11,
    "start_time": "2021-11-27T21:35:34.765Z"
   },
   {
    "duration": 29,
    "start_time": "2021-11-27T21:35:34.778Z"
   },
   {
    "duration": 12,
    "start_time": "2021-11-27T21:35:34.809Z"
   },
   {
    "duration": 9,
    "start_time": "2021-11-27T21:35:34.823Z"
   },
   {
    "duration": 8,
    "start_time": "2021-11-27T21:35:34.834Z"
   },
   {
    "duration": 34,
    "start_time": "2021-11-27T21:35:34.844Z"
   },
   {
    "duration": 26,
    "start_time": "2021-11-27T21:35:34.880Z"
   },
   {
    "duration": 31,
    "start_time": "2021-11-27T21:35:34.908Z"
   },
   {
    "duration": 7,
    "start_time": "2021-11-27T21:35:34.941Z"
   },
   {
    "duration": 20,
    "start_time": "2021-11-27T21:35:34.949Z"
   },
   {
    "duration": 40,
    "start_time": "2021-11-27T21:35:34.971Z"
   },
   {
    "duration": 10,
    "start_time": "2021-11-27T21:35:35.012Z"
   },
   {
    "duration": 33,
    "start_time": "2021-11-27T21:35:35.023Z"
   },
   {
    "duration": 20,
    "start_time": "2021-11-27T21:35:35.058Z"
   },
   {
    "duration": 27,
    "start_time": "2021-11-27T21:35:35.080Z"
   },
   {
    "duration": 16,
    "start_time": "2021-11-27T21:35:35.109Z"
   },
   {
    "duration": 16,
    "start_time": "2021-11-27T21:35:35.127Z"
   },
   {
    "duration": 26,
    "start_time": "2021-11-27T21:35:35.148Z"
   },
   {
    "duration": 13,
    "start_time": "2021-11-27T21:35:35.176Z"
   },
   {
    "duration": 25,
    "start_time": "2021-11-27T21:35:35.191Z"
   },
   {
    "duration": 17,
    "start_time": "2021-11-27T21:35:35.217Z"
   },
   {
    "duration": 24,
    "start_time": "2021-11-27T21:35:35.236Z"
   },
   {
    "duration": 11,
    "start_time": "2021-11-27T21:35:35.262Z"
   },
   {
    "duration": 30,
    "start_time": "2021-11-27T21:35:35.275Z"
   },
   {
    "duration": 14,
    "start_time": "2021-11-27T21:35:35.307Z"
   },
   {
    "duration": 10,
    "start_time": "2021-11-27T21:35:35.323Z"
   },
   {
    "duration": 28,
    "start_time": "2021-11-27T21:35:35.334Z"
   },
   {
    "duration": 20,
    "start_time": "2021-11-27T21:35:35.364Z"
   },
   {
    "duration": 3,
    "start_time": "2021-11-27T21:35:35.385Z"
   },
   {
    "duration": 23,
    "start_time": "2021-11-27T21:35:35.389Z"
   },
   {
    "duration": 20,
    "start_time": "2021-11-27T21:35:35.414Z"
   },
   {
    "duration": 22,
    "start_time": "2021-11-27T21:35:35.435Z"
   },
   {
    "duration": 25,
    "start_time": "2021-11-27T21:35:35.459Z"
   },
   {
    "duration": 41,
    "start_time": "2021-11-27T21:35:35.486Z"
   },
   {
    "duration": 8,
    "start_time": "2021-11-27T21:35:35.529Z"
   },
   {
    "duration": 11,
    "start_time": "2021-11-27T21:35:35.539Z"
   },
   {
    "duration": 10,
    "start_time": "2021-11-27T21:35:35.552Z"
   },
   {
    "duration": 149,
    "start_time": "2021-11-27T21:35:35.564Z"
   },
   {
    "duration": 10,
    "start_time": "2021-11-27T21:35:35.715Z"
   },
   {
    "duration": 13,
    "start_time": "2021-11-27T21:35:35.727Z"
   },
   {
    "duration": 12,
    "start_time": "2021-11-27T21:35:35.742Z"
   },
   {
    "duration": 11,
    "start_time": "2021-11-27T21:35:35.755Z"
   },
   {
    "duration": 38,
    "start_time": "2021-11-27T21:35:35.768Z"
   },
   {
    "duration": 7,
    "start_time": "2021-11-27T21:35:35.808Z"
   },
   {
    "duration": 12,
    "start_time": "2021-11-27T21:35:35.817Z"
   },
   {
    "duration": 10,
    "start_time": "2021-11-27T21:35:35.831Z"
   },
   {
    "duration": 9,
    "start_time": "2021-11-27T21:35:35.843Z"
   },
   {
    "duration": 14,
    "start_time": "2021-11-27T21:35:35.854Z"
   },
   {
    "duration": 242,
    "start_time": "2021-11-27T21:35:35.869Z"
   },
   {
    "duration": 204,
    "start_time": "2021-11-27T21:35:36.113Z"
   },
   {
    "duration": 202,
    "start_time": "2021-11-27T21:35:36.320Z"
   },
   {
    "duration": 13,
    "start_time": "2021-11-27T21:35:36.524Z"
   },
   {
    "duration": 12,
    "start_time": "2021-11-27T21:35:36.539Z"
   },
   {
    "duration": 405,
    "start_time": "2021-11-27T21:35:36.552Z"
   },
   {
    "duration": 424,
    "start_time": "2021-11-27T21:35:36.959Z"
   },
   {
    "duration": 469,
    "start_time": "2021-11-27T21:35:37.384Z"
   },
   {
    "duration": 454,
    "start_time": "2021-11-27T21:35:37.906Z"
   },
   {
    "duration": 3,
    "start_time": "2021-11-27T21:35:38.361Z"
   },
   {
    "duration": 18,
    "start_time": "2021-11-27T21:35:38.365Z"
   },
   {
    "duration": 12,
    "start_time": "2021-11-27T21:35:38.384Z"
   },
   {
    "duration": 20,
    "start_time": "2021-11-27T21:35:38.398Z"
   },
   {
    "duration": 6,
    "start_time": "2021-11-27T21:35:38.420Z"
   },
   {
    "duration": 16,
    "start_time": "2021-11-27T21:35:38.428Z"
   },
   {
    "duration": 1263,
    "start_time": "2021-11-27T21:36:11.171Z"
   },
   {
    "duration": 477,
    "start_time": "2021-11-27T21:36:12.436Z"
   },
   {
    "duration": 16,
    "start_time": "2021-11-27T21:36:12.915Z"
   },
   {
    "duration": 14,
    "start_time": "2021-11-27T21:36:12.933Z"
   },
   {
    "duration": 21,
    "start_time": "2021-11-27T21:36:12.948Z"
   },
   {
    "duration": 11,
    "start_time": "2021-11-27T21:36:12.972Z"
   },
   {
    "duration": 27,
    "start_time": "2021-11-27T21:36:12.985Z"
   },
   {
    "duration": 20,
    "start_time": "2021-11-27T21:36:13.016Z"
   },
   {
    "duration": 10,
    "start_time": "2021-11-27T21:36:13.039Z"
   },
   {
    "duration": 12,
    "start_time": "2021-11-27T21:36:13.051Z"
   },
   {
    "duration": 11,
    "start_time": "2021-11-27T21:36:13.064Z"
   },
   {
    "duration": 32,
    "start_time": "2021-11-27T21:36:13.077Z"
   },
   {
    "duration": 9,
    "start_time": "2021-11-27T21:36:13.111Z"
   },
   {
    "duration": 8,
    "start_time": "2021-11-27T21:36:13.122Z"
   },
   {
    "duration": 24,
    "start_time": "2021-11-27T21:36:13.132Z"
   },
   {
    "duration": 9,
    "start_time": "2021-11-27T21:36:13.158Z"
   },
   {
    "duration": 57,
    "start_time": "2021-11-27T21:36:13.169Z"
   },
   {
    "duration": 9,
    "start_time": "2021-11-27T21:36:13.228Z"
   },
   {
    "duration": 18,
    "start_time": "2021-11-27T21:36:13.239Z"
   },
   {
    "duration": 20,
    "start_time": "2021-11-27T21:36:13.260Z"
   },
   {
    "duration": 31,
    "start_time": "2021-11-27T21:36:13.282Z"
   },
   {
    "duration": 29,
    "start_time": "2021-11-27T21:36:13.314Z"
   },
   {
    "duration": 12,
    "start_time": "2021-11-27T21:36:13.347Z"
   },
   {
    "duration": 20,
    "start_time": "2021-11-27T21:36:13.362Z"
   },
   {
    "duration": 29,
    "start_time": "2021-11-27T21:36:13.384Z"
   },
   {
    "duration": 7,
    "start_time": "2021-11-27T21:36:13.415Z"
   },
   {
    "duration": 11,
    "start_time": "2021-11-27T21:36:13.423Z"
   },
   {
    "duration": 11,
    "start_time": "2021-11-27T21:36:13.436Z"
   },
   {
    "duration": 12,
    "start_time": "2021-11-27T21:36:13.449Z"
   },
   {
    "duration": 15,
    "start_time": "2021-11-27T21:36:13.463Z"
   },
   {
    "duration": 26,
    "start_time": "2021-11-27T21:36:13.480Z"
   },
   {
    "duration": 11,
    "start_time": "2021-11-27T21:36:13.508Z"
   },
   {
    "duration": 31,
    "start_time": "2021-11-27T21:36:13.521Z"
   },
   {
    "duration": 8,
    "start_time": "2021-11-27T21:36:13.554Z"
   },
   {
    "duration": 18,
    "start_time": "2021-11-27T21:36:13.563Z"
   },
   {
    "duration": 30,
    "start_time": "2021-11-27T21:36:13.583Z"
   },
   {
    "duration": 21,
    "start_time": "2021-11-27T21:36:13.615Z"
   },
   {
    "duration": 2,
    "start_time": "2021-11-27T21:36:13.638Z"
   },
   {
    "duration": 17,
    "start_time": "2021-11-27T21:36:13.642Z"
   },
   {
    "duration": 24,
    "start_time": "2021-11-27T21:36:13.661Z"
   },
   {
    "duration": 36,
    "start_time": "2021-11-27T21:36:13.686Z"
   },
   {
    "duration": 24,
    "start_time": "2021-11-27T21:36:13.724Z"
   },
   {
    "duration": 50,
    "start_time": "2021-11-27T21:36:13.750Z"
   },
   {
    "duration": 43,
    "start_time": "2021-11-27T21:36:13.802Z"
   },
   {
    "duration": 34,
    "start_time": "2021-11-27T21:36:13.846Z"
   },
   {
    "duration": 17,
    "start_time": "2021-11-27T21:36:13.882Z"
   },
   {
    "duration": 154,
    "start_time": "2021-11-27T21:36:13.901Z"
   },
   {
    "duration": 11,
    "start_time": "2021-11-27T21:36:14.057Z"
   },
   {
    "duration": 23,
    "start_time": "2021-11-27T21:36:14.070Z"
   },
   {
    "duration": 23,
    "start_time": "2021-11-27T21:36:14.095Z"
   },
   {
    "duration": 20,
    "start_time": "2021-11-27T21:36:14.120Z"
   },
   {
    "duration": 16,
    "start_time": "2021-11-27T21:36:14.142Z"
   },
   {
    "duration": 13,
    "start_time": "2021-11-27T21:36:14.159Z"
   },
   {
    "duration": 15,
    "start_time": "2021-11-27T21:36:14.174Z"
   },
   {
    "duration": 9,
    "start_time": "2021-11-27T21:36:14.191Z"
   },
   {
    "duration": 11,
    "start_time": "2021-11-27T21:36:14.202Z"
   },
   {
    "duration": 14,
    "start_time": "2021-11-27T21:36:14.214Z"
   },
   {
    "duration": 222,
    "start_time": "2021-11-27T21:36:14.230Z"
   },
   {
    "duration": 205,
    "start_time": "2021-11-27T21:36:14.454Z"
   },
   {
    "duration": 190,
    "start_time": "2021-11-27T21:36:14.661Z"
   },
   {
    "duration": 12,
    "start_time": "2021-11-27T21:36:14.852Z"
   },
   {
    "duration": 11,
    "start_time": "2021-11-27T21:36:14.866Z"
   },
   {
    "duration": 386,
    "start_time": "2021-11-27T21:36:14.879Z"
   },
   {
    "duration": 933,
    "start_time": "2021-11-27T21:36:15.267Z"
   },
   {
    "duration": 401,
    "start_time": "2021-11-27T21:36:16.201Z"
   },
   {
    "duration": 390,
    "start_time": "2021-11-27T21:36:16.606Z"
   },
   {
    "duration": 8,
    "start_time": "2021-11-27T21:36:16.998Z"
   },
   {
    "duration": 14,
    "start_time": "2021-11-27T21:36:17.011Z"
   },
   {
    "duration": 7,
    "start_time": "2021-11-27T21:36:17.027Z"
   },
   {
    "duration": 19,
    "start_time": "2021-11-27T21:36:17.036Z"
   },
   {
    "duration": 16,
    "start_time": "2021-11-27T21:36:17.057Z"
   },
   {
    "duration": 12,
    "start_time": "2021-11-27T21:36:17.075Z"
   },
   {
    "duration": 4,
    "start_time": "2021-11-27T21:50:25.457Z"
   },
   {
    "duration": 7,
    "start_time": "2021-11-27T21:50:32.967Z"
   },
   {
    "duration": 128,
    "start_time": "2021-11-27T21:50:51.939Z"
   },
   {
    "duration": 9,
    "start_time": "2021-11-27T21:55:12.552Z"
   },
   {
    "duration": 278,
    "start_time": "2021-11-27T21:55:30.005Z"
   },
   {
    "duration": 6,
    "start_time": "2021-11-27T21:55:39.381Z"
   },
   {
    "duration": 206,
    "start_time": "2021-11-27T21:56:53.637Z"
   },
   {
    "duration": 268,
    "start_time": "2021-11-27T21:57:24.421Z"
   },
   {
    "duration": 560,
    "start_time": "2021-11-27T21:58:01.757Z"
   },
   {
    "duration": 206,
    "start_time": "2021-11-27T21:58:07.143Z"
   },
   {
    "duration": 237,
    "start_time": "2021-11-27T21:59:52.393Z"
   },
   {
    "duration": 291,
    "start_time": "2021-11-27T22:00:16.240Z"
   },
   {
    "duration": 207,
    "start_time": "2021-11-27T22:00:42.999Z"
   },
   {
    "duration": 210,
    "start_time": "2021-11-27T22:00:55.175Z"
   },
   {
    "duration": 596,
    "start_time": "2021-11-27T22:05:19.414Z"
   },
   {
    "duration": 109,
    "start_time": "2021-11-27T22:07:25.109Z"
   },
   {
    "duration": 595,
    "start_time": "2021-11-27T22:07:34.489Z"
   },
   {
    "duration": 600,
    "start_time": "2021-11-27T22:08:14.124Z"
   },
   {
    "duration": 269,
    "start_time": "2021-11-27T22:10:14.132Z"
   },
   {
    "duration": 286,
    "start_time": "2021-11-27T22:10:49.721Z"
   },
   {
    "duration": 287,
    "start_time": "2021-11-27T22:11:56.988Z"
   },
   {
    "duration": 389,
    "start_time": "2021-11-27T22:12:00.540Z"
   },
   {
    "duration": 288,
    "start_time": "2021-11-27T22:13:01.090Z"
   },
   {
    "duration": 777,
    "start_time": "2021-11-27T22:13:12.060Z"
   },
   {
    "duration": 291,
    "start_time": "2021-11-27T22:13:26.105Z"
   },
   {
    "duration": 300,
    "start_time": "2021-11-27T22:13:28.630Z"
   },
   {
    "duration": 518,
    "start_time": "2021-11-27T22:13:35.251Z"
   },
   {
    "duration": 294,
    "start_time": "2021-11-27T22:13:53.894Z"
   },
   {
    "duration": 609,
    "start_time": "2021-11-27T22:14:09.941Z"
   },
   {
    "duration": 959,
    "start_time": "2021-11-27T22:14:47.967Z"
   },
   {
    "duration": 276,
    "start_time": "2021-11-27T22:14:59.014Z"
   },
   {
    "duration": 633,
    "start_time": "2021-11-27T22:15:04.032Z"
   },
   {
    "duration": 287,
    "start_time": "2021-11-27T22:15:12.964Z"
   },
   {
    "duration": 628,
    "start_time": "2021-11-27T22:17:29.349Z"
   },
   {
    "duration": 644,
    "start_time": "2021-11-27T22:18:02.034Z"
   },
   {
    "duration": 291,
    "start_time": "2021-11-27T22:18:07.132Z"
   },
   {
    "duration": 545,
    "start_time": "2021-11-27T22:19:10.309Z"
   },
   {
    "duration": 577,
    "start_time": "2021-11-27T22:19:16.967Z"
   },
   {
    "duration": 630,
    "start_time": "2021-11-27T22:19:28.463Z"
   },
   {
    "duration": 516,
    "start_time": "2021-11-27T22:21:10.493Z"
   },
   {
    "duration": 269,
    "start_time": "2021-11-27T22:21:23.490Z"
   },
   {
    "duration": 316,
    "start_time": "2021-11-27T22:21:46.696Z"
   },
   {
    "duration": 289,
    "start_time": "2021-11-27T22:21:54.643Z"
   },
   {
    "duration": 286,
    "start_time": "2021-11-27T22:22:05.649Z"
   },
   {
    "duration": 425,
    "start_time": "2021-11-27T22:23:37.268Z"
   },
   {
    "duration": 568,
    "start_time": "2021-11-27T22:24:20.065Z"
   },
   {
    "duration": 903,
    "start_time": "2021-11-27T22:25:27.726Z"
   },
   {
    "duration": 534,
    "start_time": "2021-11-27T22:25:35.752Z"
   },
   {
    "duration": 507,
    "start_time": "2021-11-27T22:25:51.299Z"
   },
   {
    "duration": 501,
    "start_time": "2021-11-27T22:26:07.435Z"
   },
   {
    "duration": 534,
    "start_time": "2021-11-27T22:27:27.572Z"
   },
   {
    "duration": 655,
    "start_time": "2021-11-27T22:27:37.878Z"
   },
   {
    "duration": 513,
    "start_time": "2021-11-27T22:28:27.658Z"
   },
   {
    "duration": 513,
    "start_time": "2021-11-27T22:28:39.345Z"
   },
   {
    "duration": 591,
    "start_time": "2021-11-27T22:29:23.164Z"
   },
   {
    "duration": 117,
    "start_time": "2021-11-27T22:30:30.343Z"
   },
   {
    "duration": 545,
    "start_time": "2021-11-27T22:30:38.049Z"
   },
   {
    "duration": 681,
    "start_time": "2021-11-27T22:31:09.437Z"
   },
   {
    "duration": 582,
    "start_time": "2021-11-27T22:31:38.775Z"
   },
   {
    "duration": 756,
    "start_time": "2021-11-27T22:36:30.478Z"
   },
   {
    "duration": 430,
    "start_time": "2021-11-27T22:37:42.042Z"
   },
   {
    "duration": 780,
    "start_time": "2021-11-27T22:37:57.378Z"
   },
   {
    "duration": 818,
    "start_time": "2021-11-27T22:38:05.360Z"
   },
   {
    "duration": 893,
    "start_time": "2021-11-27T22:38:09.242Z"
   },
   {
    "duration": 783,
    "start_time": "2021-11-27T22:38:23.578Z"
   },
   {
    "duration": 488,
    "start_time": "2021-11-27T22:38:37.804Z"
   },
   {
    "duration": 480,
    "start_time": "2021-11-27T22:39:03.355Z"
   },
   {
    "duration": 293,
    "start_time": "2021-11-27T22:39:15.416Z"
   },
   {
    "duration": 300,
    "start_time": "2021-11-27T22:39:30.941Z"
   },
   {
    "duration": 595,
    "start_time": "2021-11-27T22:40:51.197Z"
   },
   {
    "duration": 597,
    "start_time": "2021-11-27T22:40:56.609Z"
   },
   {
    "duration": 681,
    "start_time": "2021-11-27T22:41:09.321Z"
   },
   {
    "duration": 580,
    "start_time": "2021-11-27T22:41:13.887Z"
   },
   {
    "duration": 609,
    "start_time": "2021-11-27T22:41:23.414Z"
   },
   {
    "duration": 612,
    "start_time": "2021-11-27T22:41:30.649Z"
   },
   {
    "duration": 210,
    "start_time": "2021-11-27T22:43:16.437Z"
   },
   {
    "duration": 721,
    "start_time": "2021-11-27T22:43:23.875Z"
   },
   {
    "duration": 604,
    "start_time": "2021-11-27T22:43:36.555Z"
   },
   {
    "duration": 598,
    "start_time": "2021-11-27T22:43:55.808Z"
   },
   {
    "duration": 594,
    "start_time": "2021-11-27T22:44:01.578Z"
   },
   {
    "duration": 594,
    "start_time": "2021-11-27T22:46:52.741Z"
   },
   {
    "duration": 325,
    "start_time": "2021-11-27T22:46:58.894Z"
   },
   {
    "duration": 329,
    "start_time": "2021-11-27T22:49:51.293Z"
   },
   {
    "duration": 324,
    "start_time": "2021-11-27T22:50:01.467Z"
   },
   {
    "duration": 334,
    "start_time": "2021-11-27T22:50:08.793Z"
   },
   {
    "duration": 371,
    "start_time": "2021-11-27T22:50:13.319Z"
   },
   {
    "duration": 114,
    "start_time": "2021-11-27T22:50:21.856Z"
   },
   {
    "duration": 347,
    "start_time": "2021-11-27T22:50:27.400Z"
   },
   {
    "duration": 333,
    "start_time": "2021-11-27T22:51:23.388Z"
   },
   {
    "duration": 784,
    "start_time": "2021-11-27T22:53:54.329Z"
   },
   {
    "duration": 311,
    "start_time": "2021-11-27T22:54:31.548Z"
   },
   {
    "duration": 416,
    "start_time": "2021-11-27T22:54:37.214Z"
   },
   {
    "duration": 315,
    "start_time": "2021-11-27T22:54:40.326Z"
   },
   {
    "duration": 280,
    "start_time": "2021-11-27T22:57:38.153Z"
   },
   {
    "duration": 292,
    "start_time": "2021-11-27T22:57:43.647Z"
   },
   {
    "duration": 284,
    "start_time": "2021-11-27T22:57:49.506Z"
   },
   {
    "duration": 283,
    "start_time": "2021-11-27T22:57:55.047Z"
   },
   {
    "duration": 338,
    "start_time": "2021-11-27T22:58:04.684Z"
   },
   {
    "duration": 121,
    "start_time": "2021-11-27T22:58:20.880Z"
   },
   {
    "duration": 285,
    "start_time": "2021-11-27T22:58:25.950Z"
   },
   {
    "duration": 282,
    "start_time": "2021-11-27T22:58:34.724Z"
   },
   {
    "duration": 593,
    "start_time": "2021-11-27T22:59:45.975Z"
   },
   {
    "duration": 743,
    "start_time": "2021-11-27T22:59:52.491Z"
   },
   {
    "duration": 288,
    "start_time": "2021-11-27T23:01:32.807Z"
   },
   {
    "duration": 300,
    "start_time": "2021-11-27T23:01:39.932Z"
   },
   {
    "duration": 505,
    "start_time": "2021-11-27T23:02:11.764Z"
   },
   {
    "duration": 304,
    "start_time": "2021-11-27T23:02:30.898Z"
   },
   {
    "duration": 315,
    "start_time": "2021-11-27T23:03:54.857Z"
   },
   {
    "duration": 324,
    "start_time": "2021-11-27T23:04:04.390Z"
   },
   {
    "duration": 323,
    "start_time": "2021-11-27T23:04:13.198Z"
   },
   {
    "duration": 313,
    "start_time": "2021-11-27T23:04:21.393Z"
   },
   {
    "duration": 307,
    "start_time": "2021-11-27T23:04:24.385Z"
   },
   {
    "duration": 776,
    "start_time": "2021-11-27T23:04:45.501Z"
   },
   {
    "duration": 329,
    "start_time": "2021-11-27T23:04:49.611Z"
   },
   {
    "duration": 329,
    "start_time": "2021-11-27T23:05:17.628Z"
   },
   {
    "duration": 312,
    "start_time": "2021-11-27T23:05:28.740Z"
   },
   {
    "duration": 344,
    "start_time": "2021-11-27T23:06:03.179Z"
   },
   {
    "duration": 367,
    "start_time": "2021-11-27T23:07:25.156Z"
   },
   {
    "duration": 361,
    "start_time": "2021-11-27T23:07:48.519Z"
   },
   {
    "duration": 359,
    "start_time": "2021-11-27T23:08:07.361Z"
   },
   {
    "duration": 606,
    "start_time": "2021-11-27T23:08:20.146Z"
   },
   {
    "duration": 761,
    "start_time": "2021-11-27T23:08:38.294Z"
   },
   {
    "duration": 774,
    "start_time": "2021-11-27T23:09:07.300Z"
   },
   {
    "duration": 140,
    "start_time": "2021-11-27T23:10:21.953Z"
   },
   {
    "duration": 758,
    "start_time": "2021-11-27T23:10:35.520Z"
   },
   {
    "duration": 779,
    "start_time": "2021-11-27T23:10:40.078Z"
   },
   {
    "duration": 784,
    "start_time": "2021-11-27T23:10:50.617Z"
   },
   {
    "duration": 760,
    "start_time": "2021-11-27T23:10:58.266Z"
   },
   {
    "duration": 917,
    "start_time": "2021-11-27T23:11:08.821Z"
   },
   {
    "duration": 778,
    "start_time": "2021-11-27T23:11:29.785Z"
   },
   {
    "duration": 759,
    "start_time": "2021-11-27T23:11:37.085Z"
   },
   {
    "duration": 769,
    "start_time": "2021-11-27T23:11:45.940Z"
   },
   {
    "duration": 772,
    "start_time": "2021-11-27T23:12:23.016Z"
   },
   {
    "duration": 786,
    "start_time": "2021-11-27T23:12:41.515Z"
   },
   {
    "duration": 1099,
    "start_time": "2021-11-27T23:14:29.919Z"
   },
   {
    "duration": 937,
    "start_time": "2021-11-27T23:16:18.894Z"
   },
   {
    "duration": 1183,
    "start_time": "2021-11-27T23:16:26.542Z"
   },
   {
    "duration": 1375,
    "start_time": "2021-11-27T23:16:39.699Z"
   },
   {
    "duration": 1688,
    "start_time": "2021-11-27T23:16:47.069Z"
   },
   {
    "duration": 1454,
    "start_time": "2021-11-27T23:17:03.890Z"
   },
   {
    "duration": 1217,
    "start_time": "2021-11-27T23:17:39.018Z"
   },
   {
    "duration": 460,
    "start_time": "2021-11-27T23:17:40.237Z"
   },
   {
    "duration": 16,
    "start_time": "2021-11-27T23:17:40.699Z"
   },
   {
    "duration": 23,
    "start_time": "2021-11-27T23:17:40.716Z"
   },
   {
    "duration": 18,
    "start_time": "2021-11-27T23:17:40.741Z"
   },
   {
    "duration": 25,
    "start_time": "2021-11-27T23:17:40.760Z"
   },
   {
    "duration": 25,
    "start_time": "2021-11-27T23:17:40.787Z"
   },
   {
    "duration": 38,
    "start_time": "2021-11-27T23:17:40.814Z"
   },
   {
    "duration": 28,
    "start_time": "2021-11-27T23:17:40.855Z"
   },
   {
    "duration": 32,
    "start_time": "2021-11-27T23:17:40.885Z"
   },
   {
    "duration": 19,
    "start_time": "2021-11-27T23:17:40.919Z"
   },
   {
    "duration": 17,
    "start_time": "2021-11-27T23:17:40.940Z"
   },
   {
    "duration": 17,
    "start_time": "2021-11-27T23:17:40.959Z"
   },
   {
    "duration": 42,
    "start_time": "2021-11-27T23:17:40.978Z"
   },
   {
    "duration": 46,
    "start_time": "2021-11-27T23:17:41.022Z"
   },
   {
    "duration": 8,
    "start_time": "2021-11-27T23:17:41.070Z"
   },
   {
    "duration": 37,
    "start_time": "2021-11-27T23:17:41.080Z"
   },
   {
    "duration": 8,
    "start_time": "2021-11-27T23:17:41.119Z"
   },
   {
    "duration": 39,
    "start_time": "2021-11-27T23:17:41.128Z"
   },
   {
    "duration": 46,
    "start_time": "2021-11-27T23:17:41.169Z"
   },
   {
    "duration": 15,
    "start_time": "2021-11-27T23:17:41.216Z"
   },
   {
    "duration": 39,
    "start_time": "2021-11-27T23:17:41.232Z"
   },
   {
    "duration": 13,
    "start_time": "2021-11-27T23:17:41.275Z"
   },
   {
    "duration": 19,
    "start_time": "2021-11-27T23:17:41.290Z"
   },
   {
    "duration": 26,
    "start_time": "2021-11-27T23:17:41.310Z"
   },
   {
    "duration": 6,
    "start_time": "2021-11-27T23:17:41.338Z"
   },
   {
    "duration": 23,
    "start_time": "2021-11-27T23:17:41.345Z"
   },
   {
    "duration": 19,
    "start_time": "2021-11-27T23:17:41.369Z"
   },
   {
    "duration": 26,
    "start_time": "2021-11-27T23:17:41.390Z"
   },
   {
    "duration": 25,
    "start_time": "2021-11-27T23:17:41.418Z"
   },
   {
    "duration": 30,
    "start_time": "2021-11-27T23:17:41.444Z"
   },
   {
    "duration": 23,
    "start_time": "2021-11-27T23:17:41.476Z"
   },
   {
    "duration": 30,
    "start_time": "2021-11-27T23:17:41.501Z"
   },
   {
    "duration": 15,
    "start_time": "2021-11-27T23:17:41.533Z"
   },
   {
    "duration": 25,
    "start_time": "2021-11-27T23:17:41.550Z"
   },
   {
    "duration": 24,
    "start_time": "2021-11-27T23:17:41.577Z"
   },
   {
    "duration": 19,
    "start_time": "2021-11-27T23:17:41.602Z"
   },
   {
    "duration": 2,
    "start_time": "2021-11-27T23:17:41.623Z"
   },
   {
    "duration": 24,
    "start_time": "2021-11-27T23:17:41.626Z"
   },
   {
    "duration": 35,
    "start_time": "2021-11-27T23:17:41.652Z"
   },
   {
    "duration": 27,
    "start_time": "2021-11-27T23:17:41.688Z"
   },
   {
    "duration": 20,
    "start_time": "2021-11-27T23:17:41.717Z"
   },
   {
    "duration": 35,
    "start_time": "2021-11-27T23:17:41.739Z"
   },
   {
    "duration": 16,
    "start_time": "2021-11-27T23:17:41.776Z"
   },
   {
    "duration": 35,
    "start_time": "2021-11-27T23:17:41.793Z"
   },
   {
    "duration": 10,
    "start_time": "2021-11-27T23:17:41.829Z"
   },
   {
    "duration": 151,
    "start_time": "2021-11-27T23:17:41.841Z"
   },
   {
    "duration": 9,
    "start_time": "2021-11-27T23:17:41.994Z"
   },
   {
    "duration": 37,
    "start_time": "2021-11-27T23:17:42.005Z"
   },
   {
    "duration": 9,
    "start_time": "2021-11-27T23:17:42.044Z"
   },
   {
    "duration": 15,
    "start_time": "2021-11-27T23:17:42.054Z"
   },
   {
    "duration": 18,
    "start_time": "2021-11-27T23:17:42.070Z"
   },
   {
    "duration": 22,
    "start_time": "2021-11-27T23:17:42.090Z"
   },
   {
    "duration": 24,
    "start_time": "2021-11-27T23:17:42.114Z"
   },
   {
    "duration": 20,
    "start_time": "2021-11-27T23:17:42.140Z"
   },
   {
    "duration": 30,
    "start_time": "2021-11-27T23:17:42.162Z"
   },
   {
    "duration": 15,
    "start_time": "2021-11-27T23:17:42.194Z"
   },
   {
    "duration": 17,
    "start_time": "2021-11-27T23:17:42.211Z"
   },
   {
    "duration": 237,
    "start_time": "2021-11-27T23:17:42.229Z"
   },
   {
    "duration": 231,
    "start_time": "2021-11-27T23:17:42.468Z"
   },
   {
    "duration": 207,
    "start_time": "2021-11-27T23:17:42.702Z"
   },
   {
    "duration": 597,
    "start_time": "2021-11-27T23:17:42.911Z"
   },
   {
    "duration": 14,
    "start_time": "2021-11-27T23:17:43.510Z"
   },
   {
    "duration": 11,
    "start_time": "2021-11-27T23:17:43.526Z"
   },
   {
    "duration": 455,
    "start_time": "2021-11-27T23:17:43.539Z"
   },
   {
    "duration": 374,
    "start_time": "2021-11-27T23:17:43.996Z"
   },
   {
    "duration": 378,
    "start_time": "2021-11-27T23:17:44.372Z"
   },
   {
    "duration": 369,
    "start_time": "2021-11-27T23:17:44.755Z"
   },
   {
    "duration": 1471,
    "start_time": "2021-11-27T23:17:45.126Z"
   },
   {
    "duration": 6,
    "start_time": "2021-11-27T23:17:46.600Z"
   },
   {
    "duration": 7,
    "start_time": "2021-11-27T23:17:46.609Z"
   },
   {
    "duration": 5,
    "start_time": "2021-11-27T23:17:46.618Z"
   },
   {
    "duration": 13,
    "start_time": "2021-11-27T23:17:46.625Z"
   },
   {
    "duration": 7,
    "start_time": "2021-11-27T23:17:46.640Z"
   },
   {
    "duration": 12,
    "start_time": "2021-11-27T23:17:46.649Z"
   }
  ],
  "kernelspec": {
   "display_name": "Python 3 (ipykernel)",
   "language": "python",
   "name": "python3"
  },
  "language_info": {
   "codemirror_mode": {
    "name": "ipython",
    "version": 3
   },
   "file_extension": ".py",
   "mimetype": "text/x-python",
   "name": "python",
   "nbconvert_exporter": "python",
   "pygments_lexer": "ipython3",
   "version": "3.9.5"
  },
  "toc": {
   "base_numbering": 1,
   "nav_menu": {},
   "number_sections": true,
   "sideBar": true,
   "skip_h1_title": true,
   "title_cell": "Содержание",
   "title_sidebar": "Contents",
   "toc_cell": true,
   "toc_position": {
    "height": "calc(100% - 180px)",
    "left": "10px",
    "top": "150px",
    "width": "289.6px"
   },
   "toc_section_display": true,
   "toc_window_display": true
  }
 },
 "nbformat": 4,
 "nbformat_minor": 2
}
