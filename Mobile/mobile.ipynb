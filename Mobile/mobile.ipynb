{
 "cells": [
  {
   "cell_type": "markdown",
   "metadata": {
    "toc": true
   },
   "source": [
    "<h1>Содержание<span class=\"tocSkip\"></span></h1>\n",
    "<div class=\"toc\"><ul class=\"toc-item\"><li><span><a href=\"#Введение\" data-toc-modified-id=\"Введение-1\"><span class=\"toc-item-num\">1&nbsp;&nbsp;</span>Введение</a></span></li><li><span><a href=\"#Загрузка-данных-и-подготовка-к-их-анализу\" data-toc-modified-id=\"Загрузка-данных-и-подготовка-к-их-анализу-2\"><span class=\"toc-item-num\">2&nbsp;&nbsp;</span>Загрузка данных и подготовка к их анализу</a></span><ul class=\"toc-item\"><li><span><a href=\"#Вывод\" data-toc-modified-id=\"Вывод-2.1\"><span class=\"toc-item-num\">2.1&nbsp;&nbsp;</span>Вывод</a></span></li></ul></li><li><span><a href=\"#Изучение-и-проверка-данных\" data-toc-modified-id=\"Изучение-и-проверка-данных-3\"><span class=\"toc-item-num\">3&nbsp;&nbsp;</span>Изучение и проверка данных</a></span><ul class=\"toc-item\"><li><span><a href=\"#Вывод\" data-toc-modified-id=\"Вывод-3.1\"><span class=\"toc-item-num\">3.1&nbsp;&nbsp;</span>Вывод</a></span></li></ul></li><li><span><a href=\"#Изучение-воронку-событий\" data-toc-modified-id=\"Изучение-воронку-событий-4\"><span class=\"toc-item-num\">4&nbsp;&nbsp;</span>Изучение воронку событий</a></span><ul class=\"toc-item\"><li><span><a href=\"#Расчет-воронки\" data-toc-modified-id=\"Расчет-воронки-4.1\"><span class=\"toc-item-num\">4.1&nbsp;&nbsp;</span>Расчет воронки</a></span></li><li><span><a href=\"#Вывод\" data-toc-modified-id=\"Вывод-4.2\"><span class=\"toc-item-num\">4.2&nbsp;&nbsp;</span>Вывод</a></span></li></ul></li><li><span><a href=\"#Изучение-результатов-эксперимента\" data-toc-modified-id=\"Изучение-результатов-эксперимента-5\"><span class=\"toc-item-num\">5&nbsp;&nbsp;</span>Изучение результатов эксперимента</a></span><ul class=\"toc-item\"><li><span><a href=\"#Вывод-по-результатам-теста\" data-toc-modified-id=\"Вывод-по-результатам-теста-5.1\"><span class=\"toc-item-num\">5.1&nbsp;&nbsp;</span>Вывод по результатам теста</a></span></li><li><span><a href=\"#группа-с-изменённым-шрифтом\" data-toc-modified-id=\"группа-с-изменённым-шрифтом-5.2\"><span class=\"toc-item-num\">5.2&nbsp;&nbsp;</span>группа с изменённым шрифтом</a></span></li></ul></li><li><span><a href=\"#Общий-вывод\" data-toc-modified-id=\"Общий-вывод-6\"><span class=\"toc-item-num\">6&nbsp;&nbsp;</span>Общий вывод</a></span></li></ul></div>"
   ]
  },
  {
   "cell_type": "markdown",
   "metadata": {},
   "source": [
    "## Введение"
   ]
  },
  {
   "cell_type": "markdown",
   "metadata": {},
   "source": [
    "Мы работаем в стартапе, который продаёт продукты питания. Нужно разобраться, как ведут себя пользователи нашего мобильного приложения."
   ]
  },
  {
   "cell_type": "markdown",
   "metadata": {},
   "source": [
    "## Загрузка данных и подготовка к их анализу"
   ]
  },
  {
   "cell_type": "code",
   "execution_count": 1,
   "metadata": {},
   "outputs": [],
   "source": [
    "#Загружаем полезные стандартные библиотеки\n",
    "import pandas as pd \n",
    "from pymystem3 import Mystem as m \n",
    "from datetime import datetime, timedelta\n",
    "import numpy as np\n",
    "import seaborn as sns\n",
    "import math as mth\n",
    "pd.set_option('display.max_columns', None)\n",
    "from scipy import stats as st\n",
    "import numpy as np\n",
    "import matplotlib.pyplot as plt\n",
    "import scipy.stats as stats\n",
    "import os # для проверки правильности загрузки данных\n",
    "import matplotlib.ticker as ticker # библ. для тиков на осях\n",
    "pd.set_option('display.float_format', '{:,.2f}'.format)"
   ]
  },
  {
   "cell_type": "code",
   "execution_count": 2,
   "metadata": {},
   "outputs": [],
   "source": [
    "## Функция для предварительного анализа\n",
    "def preanalis(dataset):\n",
    "    dataset.info()\n",
    "    print()\n",
    "    print('кол-во дубликатов', dataset.duplicated().sum())\n",
    "    print()\n",
    "    print('Пропуски')\n",
    "    print(dataset.isnull().sum())\n",
    "    print()\n",
    "    print('Характерисики значений')\n",
    "    print(dataset.describe())"
   ]
  },
  {
   "cell_type": "code",
   "execution_count": 3,
   "metadata": {},
   "outputs": [],
   "source": [
    "pth1 = '/datasets/logs_exp.csv'\n",
    "\n",
    "if os.path.exists(pth1) :\n",
    "    data = pd.read_csv(pth1,sep= '\\t')\n",
    "else:\n",
    "    print('Ничего не получилось =(')"
   ]
  },
  {
   "cell_type": "code",
   "execution_count": 4,
   "metadata": {},
   "outputs": [],
   "source": [
    "try:\n",
    "    data = pd.read_csv(\"/datasets/logs_exp.csv\",sep= '\\t')\n",
    "except:\n",
    "    print('Ничего не получилось =(')"
   ]
  },
  {
   "cell_type": "code",
   "execution_count": 5,
   "metadata": {
    "scrolled": true
   },
   "outputs": [
    {
     "data": {
      "text/html": [
       "<div>\n",
       "<style scoped>\n",
       "    .dataframe tbody tr th:only-of-type {\n",
       "        vertical-align: middle;\n",
       "    }\n",
       "\n",
       "    .dataframe tbody tr th {\n",
       "        vertical-align: top;\n",
       "    }\n",
       "\n",
       "    .dataframe thead th {\n",
       "        text-align: right;\n",
       "    }\n",
       "</style>\n",
       "<table border=\"1\" class=\"dataframe\">\n",
       "  <thead>\n",
       "    <tr style=\"text-align: right;\">\n",
       "      <th></th>\n",
       "      <th>EventName</th>\n",
       "      <th>DeviceIDHash</th>\n",
       "      <th>EventTimestamp</th>\n",
       "      <th>ExpId</th>\n",
       "    </tr>\n",
       "  </thead>\n",
       "  <tbody>\n",
       "    <tr>\n",
       "      <th>0</th>\n",
       "      <td>MainScreenAppear</td>\n",
       "      <td>4575588528974610257</td>\n",
       "      <td>1564029816</td>\n",
       "      <td>246</td>\n",
       "    </tr>\n",
       "  </tbody>\n",
       "</table>\n",
       "</div>"
      ],
      "text/plain": [
       "          EventName         DeviceIDHash  EventTimestamp  ExpId\n",
       "0  MainScreenAppear  4575588528974610257      1564029816    246"
      ]
     },
     "execution_count": 5,
     "metadata": {},
     "output_type": "execute_result"
    }
   ],
   "source": [
    "data.head(1)"
   ]
  },
  {
   "cell_type": "markdown",
   "metadata": {},
   "source": [
    "**Описание данных:**  \n",
    "Каждая запись в логе — это действие пользователя, или событие.  \n",
    "- EventName — название события;  \n",
    "- DeviceIDHash — уникальный идентификатор пользователя;  \n",
    "- EventTimestamp — время события;  \n",
    "- ExpId — номер эксперимента: 246 и 247 — контрольные группы, а 248 — экспериментальная.  "
   ]
  },
  {
   "cell_type": "code",
   "execution_count": 6,
   "metadata": {},
   "outputs": [],
   "source": [
    "# Приведем столбцы к змеиному регистру\n",
    "data.rename(columns={'EventName': 'event','DeviceIDHash': 'id','EventTimestamp': 'event_date','ExpId': 'group'}, inplace=True)"
   ]
  },
  {
   "cell_type": "code",
   "execution_count": 7,
   "metadata": {},
   "outputs": [
    {
     "data": {
      "text/html": [
       "<div>\n",
       "<style scoped>\n",
       "    .dataframe tbody tr th:only-of-type {\n",
       "        vertical-align: middle;\n",
       "    }\n",
       "\n",
       "    .dataframe tbody tr th {\n",
       "        vertical-align: top;\n",
       "    }\n",
       "\n",
       "    .dataframe thead th {\n",
       "        text-align: right;\n",
       "    }\n",
       "</style>\n",
       "<table border=\"1\" class=\"dataframe\">\n",
       "  <thead>\n",
       "    <tr style=\"text-align: right;\">\n",
       "      <th></th>\n",
       "      <th>event</th>\n",
       "      <th>id</th>\n",
       "      <th>event_date</th>\n",
       "      <th>group</th>\n",
       "    </tr>\n",
       "  </thead>\n",
       "  <tbody>\n",
       "    <tr>\n",
       "      <th>0</th>\n",
       "      <td>MainScreenAppear</td>\n",
       "      <td>4575588528974610257</td>\n",
       "      <td>1564029816</td>\n",
       "      <td>246</td>\n",
       "    </tr>\n",
       "  </tbody>\n",
       "</table>\n",
       "</div>"
      ],
      "text/plain": [
       "              event                   id  event_date  group\n",
       "0  MainScreenAppear  4575588528974610257  1564029816    246"
      ]
     },
     "execution_count": 7,
     "metadata": {},
     "output_type": "execute_result"
    }
   ],
   "source": [
    "data.head(1)"
   ]
  },
  {
   "cell_type": "code",
   "execution_count": 8,
   "metadata": {},
   "outputs": [],
   "source": [
    "data['event_date'] = pd.to_datetime(data['event_date'], unit='s')"
   ]
  },
  {
   "cell_type": "code",
   "execution_count": 9,
   "metadata": {},
   "outputs": [],
   "source": [
    "#Выделяем столбцы с временем и датой\n",
    "data['time'] =data['event_date'].dt.time\n",
    "data['date'] =data['event_date'].dt.date.astype('datetime64')"
   ]
  },
  {
   "cell_type": "code",
   "execution_count": 10,
   "metadata": {},
   "outputs": [
    {
     "data": {
      "text/html": [
       "<div>\n",
       "<style scoped>\n",
       "    .dataframe tbody tr th:only-of-type {\n",
       "        vertical-align: middle;\n",
       "    }\n",
       "\n",
       "    .dataframe tbody tr th {\n",
       "        vertical-align: top;\n",
       "    }\n",
       "\n",
       "    .dataframe thead th {\n",
       "        text-align: right;\n",
       "    }\n",
       "</style>\n",
       "<table border=\"1\" class=\"dataframe\">\n",
       "  <thead>\n",
       "    <tr style=\"text-align: right;\">\n",
       "      <th></th>\n",
       "      <th>event</th>\n",
       "      <th>id</th>\n",
       "      <th>event_date</th>\n",
       "      <th>group</th>\n",
       "      <th>time</th>\n",
       "      <th>date</th>\n",
       "    </tr>\n",
       "  </thead>\n",
       "  <tbody>\n",
       "    <tr>\n",
       "      <th>0</th>\n",
       "      <td>MainScreenAppear</td>\n",
       "      <td>4575588528974610257</td>\n",
       "      <td>2019-07-25 04:43:36</td>\n",
       "      <td>246</td>\n",
       "      <td>04:43:36</td>\n",
       "      <td>2019-07-25</td>\n",
       "    </tr>\n",
       "  </tbody>\n",
       "</table>\n",
       "</div>"
      ],
      "text/plain": [
       "              event                   id          event_date  group      time  \\\n",
       "0  MainScreenAppear  4575588528974610257 2019-07-25 04:43:36    246  04:43:36   \n",
       "\n",
       "        date  \n",
       "0 2019-07-25  "
      ]
     },
     "execution_count": 10,
     "metadata": {},
     "output_type": "execute_result"
    }
   ],
   "source": [
    "data.head(1) # Проверяем"
   ]
  },
  {
   "cell_type": "code",
   "execution_count": 11,
   "metadata": {},
   "outputs": [
    {
     "name": "stdout",
     "output_type": "stream",
     "text": [
      "<class 'pandas.core.frame.DataFrame'>\n",
      "RangeIndex: 244126 entries, 0 to 244125\n",
      "Data columns (total 6 columns):\n",
      " #   Column      Non-Null Count   Dtype         \n",
      "---  ------      --------------   -----         \n",
      " 0   event       244126 non-null  object        \n",
      " 1   id          244126 non-null  int64         \n",
      " 2   event_date  244126 non-null  datetime64[ns]\n",
      " 3   group       244126 non-null  int64         \n",
      " 4   time        244126 non-null  object        \n",
      " 5   date        244126 non-null  datetime64[ns]\n",
      "dtypes: datetime64[ns](2), int64(2), object(2)\n",
      "memory usage: 11.2+ MB\n",
      "\n",
      "кол-во дубликатов 413\n",
      "\n",
      "Пропуски\n",
      "event         0\n",
      "id            0\n",
      "event_date    0\n",
      "group         0\n",
      "time          0\n",
      "date          0\n",
      "dtype: int64\n",
      "\n",
      "Характерисики значений\n",
      "                                id      group\n",
      "count                   244,126.00 244,126.00\n",
      "mean  4,627,568,124,591,259,648.00     247.02\n",
      "std   2,642,424,998,963,961,856.00       0.82\n",
      "min       6,888,746,892,508,752.00     246.00\n",
      "25%   2,372,212,476,992,240,640.00     246.00\n",
      "50%   4,623,191,541,214,045,184.00     247.00\n",
      "75%   6,932,517,045,703,054,336.00     248.00\n",
      "max   9,222,603,179,720,523,776.00     248.00\n"
     ]
    }
   ],
   "source": [
    "preanalis(data)"
   ]
  },
  {
   "cell_type": "code",
   "execution_count": 12,
   "metadata": {},
   "outputs": [
    {
     "data": {
      "text/html": [
       "<div>\n",
       "<style scoped>\n",
       "    .dataframe tbody tr th:only-of-type {\n",
       "        vertical-align: middle;\n",
       "    }\n",
       "\n",
       "    .dataframe tbody tr th {\n",
       "        vertical-align: top;\n",
       "    }\n",
       "\n",
       "    .dataframe thead th {\n",
       "        text-align: right;\n",
       "    }\n",
       "</style>\n",
       "<table border=\"1\" class=\"dataframe\">\n",
       "  <thead>\n",
       "    <tr style=\"text-align: right;\">\n",
       "      <th></th>\n",
       "      <th>event</th>\n",
       "      <th>id</th>\n",
       "      <th>event_date</th>\n",
       "      <th>group</th>\n",
       "      <th>time</th>\n",
       "      <th>date</th>\n",
       "    </tr>\n",
       "  </thead>\n",
       "  <tbody>\n",
       "    <tr>\n",
       "      <th>452</th>\n",
       "      <td>MainScreenAppear</td>\n",
       "      <td>5613408041324010552</td>\n",
       "      <td>2019-07-30 08:19:44</td>\n",
       "      <td>248</td>\n",
       "      <td>08:19:44</td>\n",
       "      <td>2019-07-30</td>\n",
       "    </tr>\n",
       "    <tr>\n",
       "      <th>453</th>\n",
       "      <td>MainScreenAppear</td>\n",
       "      <td>5613408041324010552</td>\n",
       "      <td>2019-07-30 08:19:44</td>\n",
       "      <td>248</td>\n",
       "      <td>08:19:44</td>\n",
       "      <td>2019-07-30</td>\n",
       "    </tr>\n",
       "    <tr>\n",
       "      <th>2348</th>\n",
       "      <td>CartScreenAppear</td>\n",
       "      <td>1694940645335807244</td>\n",
       "      <td>2019-07-31 21:51:39</td>\n",
       "      <td>248</td>\n",
       "      <td>21:51:39</td>\n",
       "      <td>2019-07-31</td>\n",
       "    </tr>\n",
       "    <tr>\n",
       "      <th>2350</th>\n",
       "      <td>CartScreenAppear</td>\n",
       "      <td>1694940645335807244</td>\n",
       "      <td>2019-07-31 21:51:39</td>\n",
       "      <td>248</td>\n",
       "      <td>21:51:39</td>\n",
       "      <td>2019-07-31</td>\n",
       "    </tr>\n",
       "    <tr>\n",
       "      <th>3572</th>\n",
       "      <td>MainScreenAppear</td>\n",
       "      <td>434103746454591587</td>\n",
       "      <td>2019-08-01 02:59:37</td>\n",
       "      <td>248</td>\n",
       "      <td>02:59:37</td>\n",
       "      <td>2019-08-01</td>\n",
       "    </tr>\n",
       "    <tr>\n",
       "      <th>3573</th>\n",
       "      <td>MainScreenAppear</td>\n",
       "      <td>434103746454591587</td>\n",
       "      <td>2019-08-01 02:59:37</td>\n",
       "      <td>248</td>\n",
       "      <td>02:59:37</td>\n",
       "      <td>2019-08-01</td>\n",
       "    </tr>\n",
       "    <tr>\n",
       "      <th>4075</th>\n",
       "      <td>MainScreenAppear</td>\n",
       "      <td>3761373764179762633</td>\n",
       "      <td>2019-08-01 03:47:46</td>\n",
       "      <td>247</td>\n",
       "      <td>03:47:46</td>\n",
       "      <td>2019-08-01</td>\n",
       "    </tr>\n",
       "    <tr>\n",
       "      <th>4076</th>\n",
       "      <td>MainScreenAppear</td>\n",
       "      <td>3761373764179762633</td>\n",
       "      <td>2019-08-01 03:47:46</td>\n",
       "      <td>247</td>\n",
       "      <td>03:47:46</td>\n",
       "      <td>2019-08-01</td>\n",
       "    </tr>\n",
       "    <tr>\n",
       "      <th>4801</th>\n",
       "      <td>MainScreenAppear</td>\n",
       "      <td>2835328739789306622</td>\n",
       "      <td>2019-08-01 04:44:01</td>\n",
       "      <td>248</td>\n",
       "      <td>04:44:01</td>\n",
       "      <td>2019-08-01</td>\n",
       "    </tr>\n",
       "    <tr>\n",
       "      <th>4803</th>\n",
       "      <td>MainScreenAppear</td>\n",
       "      <td>2835328739789306622</td>\n",
       "      <td>2019-08-01 04:44:01</td>\n",
       "      <td>248</td>\n",
       "      <td>04:44:01</td>\n",
       "      <td>2019-08-01</td>\n",
       "    </tr>\n",
       "    <tr>\n",
       "      <th>5639</th>\n",
       "      <td>CartScreenAppear</td>\n",
       "      <td>4248762472840564256</td>\n",
       "      <td>2019-08-01 05:36:04</td>\n",
       "      <td>248</td>\n",
       "      <td>05:36:04</td>\n",
       "      <td>2019-08-01</td>\n",
       "    </tr>\n",
       "    <tr>\n",
       "      <th>5641</th>\n",
       "      <td>CartScreenAppear</td>\n",
       "      <td>4248762472840564256</td>\n",
       "      <td>2019-08-01 05:36:04</td>\n",
       "      <td>248</td>\n",
       "      <td>05:36:04</td>\n",
       "      <td>2019-08-01</td>\n",
       "    </tr>\n",
       "    <tr>\n",
       "      <th>5874</th>\n",
       "      <td>PaymentScreenSuccessful</td>\n",
       "      <td>6427012997733591237</td>\n",
       "      <td>2019-08-01 05:47:32</td>\n",
       "      <td>248</td>\n",
       "      <td>05:47:32</td>\n",
       "      <td>2019-08-01</td>\n",
       "    </tr>\n",
       "    <tr>\n",
       "      <th>5875</th>\n",
       "      <td>PaymentScreenSuccessful</td>\n",
       "      <td>6427012997733591237</td>\n",
       "      <td>2019-08-01 05:47:32</td>\n",
       "      <td>248</td>\n",
       "      <td>05:47:32</td>\n",
       "      <td>2019-08-01</td>\n",
       "    </tr>\n",
       "    <tr>\n",
       "      <th>7248</th>\n",
       "      <td>OffersScreenAppear</td>\n",
       "      <td>7224691986599895551</td>\n",
       "      <td>2019-08-01 06:44:06</td>\n",
       "      <td>246</td>\n",
       "      <td>06:44:06</td>\n",
       "      <td>2019-08-01</td>\n",
       "    </tr>\n",
       "    <tr>\n",
       "      <th>7249</th>\n",
       "      <td>OffersScreenAppear</td>\n",
       "      <td>7224691986599895551</td>\n",
       "      <td>2019-08-01 06:44:06</td>\n",
       "      <td>246</td>\n",
       "      <td>06:44:06</td>\n",
       "      <td>2019-08-01</td>\n",
       "    </tr>\n",
       "    <tr>\n",
       "      <th>8064</th>\n",
       "      <td>CartScreenAppear</td>\n",
       "      <td>8189122927585332969</td>\n",
       "      <td>2019-08-01 07:18:49</td>\n",
       "      <td>248</td>\n",
       "      <td>07:18:49</td>\n",
       "      <td>2019-08-01</td>\n",
       "    </tr>\n",
       "    <tr>\n",
       "      <th>8065</th>\n",
       "      <td>CartScreenAppear</td>\n",
       "      <td>8189122927585332969</td>\n",
       "      <td>2019-08-01 07:18:49</td>\n",
       "      <td>248</td>\n",
       "      <td>07:18:49</td>\n",
       "      <td>2019-08-01</td>\n",
       "    </tr>\n",
       "    <tr>\n",
       "      <th>9178</th>\n",
       "      <td>MainScreenAppear</td>\n",
       "      <td>2230705996155527339</td>\n",
       "      <td>2019-08-01 07:54:47</td>\n",
       "      <td>246</td>\n",
       "      <td>07:54:47</td>\n",
       "      <td>2019-08-01</td>\n",
       "    </tr>\n",
       "    <tr>\n",
       "      <th>9179</th>\n",
       "      <td>MainScreenAppear</td>\n",
       "      <td>2230705996155527339</td>\n",
       "      <td>2019-08-01 07:54:47</td>\n",
       "      <td>246</td>\n",
       "      <td>07:54:47</td>\n",
       "      <td>2019-08-01</td>\n",
       "    </tr>\n",
       "  </tbody>\n",
       "</table>\n",
       "</div>"
      ],
      "text/plain": [
       "                        event                   id          event_date  group  \\\n",
       "452          MainScreenAppear  5613408041324010552 2019-07-30 08:19:44    248   \n",
       "453          MainScreenAppear  5613408041324010552 2019-07-30 08:19:44    248   \n",
       "2348         CartScreenAppear  1694940645335807244 2019-07-31 21:51:39    248   \n",
       "2350         CartScreenAppear  1694940645335807244 2019-07-31 21:51:39    248   \n",
       "3572         MainScreenAppear   434103746454591587 2019-08-01 02:59:37    248   \n",
       "3573         MainScreenAppear   434103746454591587 2019-08-01 02:59:37    248   \n",
       "4075         MainScreenAppear  3761373764179762633 2019-08-01 03:47:46    247   \n",
       "4076         MainScreenAppear  3761373764179762633 2019-08-01 03:47:46    247   \n",
       "4801         MainScreenAppear  2835328739789306622 2019-08-01 04:44:01    248   \n",
       "4803         MainScreenAppear  2835328739789306622 2019-08-01 04:44:01    248   \n",
       "5639         CartScreenAppear  4248762472840564256 2019-08-01 05:36:04    248   \n",
       "5641         CartScreenAppear  4248762472840564256 2019-08-01 05:36:04    248   \n",
       "5874  PaymentScreenSuccessful  6427012997733591237 2019-08-01 05:47:32    248   \n",
       "5875  PaymentScreenSuccessful  6427012997733591237 2019-08-01 05:47:32    248   \n",
       "7248       OffersScreenAppear  7224691986599895551 2019-08-01 06:44:06    246   \n",
       "7249       OffersScreenAppear  7224691986599895551 2019-08-01 06:44:06    246   \n",
       "8064         CartScreenAppear  8189122927585332969 2019-08-01 07:18:49    248   \n",
       "8065         CartScreenAppear  8189122927585332969 2019-08-01 07:18:49    248   \n",
       "9178         MainScreenAppear  2230705996155527339 2019-08-01 07:54:47    246   \n",
       "9179         MainScreenAppear  2230705996155527339 2019-08-01 07:54:47    246   \n",
       "\n",
       "          time       date  \n",
       "452   08:19:44 2019-07-30  \n",
       "453   08:19:44 2019-07-30  \n",
       "2348  21:51:39 2019-07-31  \n",
       "2350  21:51:39 2019-07-31  \n",
       "3572  02:59:37 2019-08-01  \n",
       "3573  02:59:37 2019-08-01  \n",
       "4075  03:47:46 2019-08-01  \n",
       "4076  03:47:46 2019-08-01  \n",
       "4801  04:44:01 2019-08-01  \n",
       "4803  04:44:01 2019-08-01  \n",
       "5639  05:36:04 2019-08-01  \n",
       "5641  05:36:04 2019-08-01  \n",
       "5874  05:47:32 2019-08-01  \n",
       "5875  05:47:32 2019-08-01  \n",
       "7248  06:44:06 2019-08-01  \n",
       "7249  06:44:06 2019-08-01  \n",
       "8064  07:18:49 2019-08-01  \n",
       "8065  07:18:49 2019-08-01  \n",
       "9178  07:54:47 2019-08-01  \n",
       "9179  07:54:47 2019-08-01  "
      ]
     },
     "execution_count": 12,
     "metadata": {},
     "output_type": "execute_result"
    }
   ],
   "source": [
    "#Посмотрим на повторы поближе\n",
    "data[data.duplicated(keep=False)].head(20)"
   ]
  },
  {
   "cell_type": "code",
   "execution_count": 13,
   "metadata": {
    "scrolled": true
   },
   "outputs": [
    {
     "name": "stdout",
     "output_type": "stream",
     "text": [
      "<class 'pandas.core.frame.DataFrame'>\n",
      "Int64Index: 243713 entries, 0 to 244125\n",
      "Data columns (total 6 columns):\n",
      " #   Column      Non-Null Count   Dtype         \n",
      "---  ------      --------------   -----         \n",
      " 0   event       243713 non-null  object        \n",
      " 1   id          243713 non-null  int64         \n",
      " 2   event_date  243713 non-null  datetime64[ns]\n",
      " 3   group       243713 non-null  int64         \n",
      " 4   time        243713 non-null  object        \n",
      " 5   date        243713 non-null  datetime64[ns]\n",
      "dtypes: datetime64[ns](2), int64(2), object(2)\n",
      "memory usage: 13.0+ MB\n",
      "\n",
      "кол-во дубликатов 0\n",
      "\n",
      "Пропуски\n",
      "event         0\n",
      "id            0\n",
      "event_date    0\n",
      "group         0\n",
      "time          0\n",
      "date          0\n",
      "dtype: int64\n",
      "\n",
      "Характерисики значений\n",
      "                                id      group\n",
      "count                   243,713.00 243,713.00\n",
      "mean  4,627,962,820,816,199,680.00     247.02\n",
      "std   2,642,723,221,505,612,288.00       0.82\n",
      "min       6,888,746,892,508,752.00     246.00\n",
      "25%   2,372,212,476,992,240,640.00     246.00\n",
      "50%   4,623,191,541,214,045,184.00     247.00\n",
      "75%   6,932,517,045,703,054,336.00     248.00\n",
      "max   9,222,603,179,720,523,776.00     248.00\n"
     ]
    }
   ],
   "source": [
    "## Похоже, что идет простое дублирование информации. Удаление дубликатов не повлияет на результат анализа\n",
    "data = data.drop_duplicates(keep='last')\n",
    "preanalis(data)"
   ]
  },
  {
   "cell_type": "code",
   "execution_count": 14,
   "metadata": {
    "scrolled": true
   },
   "outputs": [
    {
     "name": "stdout",
     "output_type": "stream",
     "text": [
      "<class 'pandas.core.frame.DataFrame'>\n",
      "Int64Index: 243713 entries, 0 to 244125\n",
      "Data columns (total 6 columns):\n",
      " #   Column      Non-Null Count   Dtype         \n",
      "---  ------      --------------   -----         \n",
      " 0   event       243713 non-null  category      \n",
      " 1   id          243713 non-null  int64         \n",
      " 2   event_date  243713 non-null  datetime64[ns]\n",
      " 3   group       243713 non-null  category      \n",
      " 4   time        243713 non-null  object        \n",
      " 5   date        243713 non-null  datetime64[ns]\n",
      "dtypes: category(2), datetime64[ns](2), int64(1), object(1)\n",
      "memory usage: 9.8+ MB\n"
     ]
    }
   ],
   "source": [
    "# Также стоит изменить тип данных для экономии места\n",
    "data['event'] = data['event'].astype('category')\n",
    "data['group'] = data['group'].astype('category')\n",
    "data.info()"
   ]
  },
  {
   "cell_type": "markdown",
   "metadata": {},
   "source": [
    "Экономия составила примерно 3.2 МБ."
   ]
  },
  {
   "cell_type": "markdown",
   "metadata": {},
   "source": [
    "### Вывод\n",
    "Данные действий пользователей загружены. Было сделано следующее: \n",
    "1. Были дубликаты, а именно : задублировались события, их удаление не повлияет на результат анализа. \n",
    "2. Регистр переведен в змеиный.\n",
    "3. Изменен тип данных в нескольких столбцах для экономии места.\n",
    "4. Пропусков значений в стобцах не обнаружено.\n",
    "5. Добавлены столбцы со временем и датой.\n",
    "В ходе этих действий мы подготовили данные к анализу."
   ]
  },
  {
   "cell_type": "markdown",
   "metadata": {},
   "source": [
    "## Изучение и проверка данных"
   ]
  },
  {
   "cell_type": "code",
   "execution_count": 15,
   "metadata": {},
   "outputs": [
    {
     "name": "stdout",
     "output_type": "stream",
     "text": [
      "В логе всего событий: 243713 и они распределены следующим образом:\n",
      " MainScreenAppear           119101\n",
      "OffersScreenAppear          46808\n",
      "CartScreenAppear            42668\n",
      "PaymentScreenSuccessful     34118\n",
      "Tutorial                     1018\n",
      "Name: event, dtype: int64\n"
     ]
    }
   ],
   "source": [
    "print('В логе всего событий:',data['event'].count()\n",
    "     , 'и они распределены следующим образом:\\n',\n",
    "      data['event'].value_counts() )"
   ]
  },
  {
   "cell_type": "code",
   "execution_count": 16,
   "metadata": {},
   "outputs": [
    {
     "name": "stdout",
     "output_type": "stream",
     "text": [
      "В логе всего уникальных пользователей: 7551\n"
     ]
    }
   ],
   "source": [
    "print('В логе всего уникальных пользователей:',data['id'].nunique())"
   ]
  },
  {
   "cell_type": "code",
   "execution_count": 17,
   "metadata": {},
   "outputs": [
    {
     "name": "stdout",
     "output_type": "stream",
     "text": [
      "В среднем: 32.28 событий приходится на пользователя:\n"
     ]
    }
   ],
   "source": [
    "print('В среднем:',round(data['event'].count()/data['id'].nunique(),2),'событий приходится на пользователя:')"
   ]
  },
  {
   "cell_type": "code",
   "execution_count": 18,
   "metadata": {
    "scrolled": true
   },
   "outputs": [
    {
     "name": "stdout",
     "output_type": "stream",
     "text": [
      "Самая ранняя дата: 2019-07-25 00:00:00 Самая поздняя дата: 2019-08-07 00:00:00\n"
     ]
    }
   ],
   "source": [
    "print('Самая ранняя дата:', data.date.min(),\n",
    "      'Самая поздняя дата:', data.date.max())"
   ]
  },
  {
   "cell_type": "code",
   "execution_count": 19,
   "metadata": {},
   "outputs": [
    {
     "data": {
      "text/plain": [
       "<AxesSubplot:title={'center':'Распределение по дате'}, xlabel='date'>"
      ]
     },
     "execution_count": 19,
     "metadata": {},
     "output_type": "execute_result"
    },
    {
     "data": {
      "image/png": "[encoded data removed]",
      "text/plain": [
       "<Figure size 864x864 with 1 Axes>"
      ]
     },
     "metadata": {
      "needs_background": "light"
     },
     "output_type": "display_data"
    }
   ],
   "source": [
    "data_date = data.groupby('date')['id'].count().reset_index()\n",
    "data_date.plot(\n",
    "    x='date',\n",
    "    y='id',\n",
    "    kind='bar',\n",
    "    grid=True,\n",
    "    title='Распределение по дате',\n",
    "    legend=False,\n",
    "    figsize = (12,12)\n",
    ")"
   ]
  },
  {
   "cell_type": "markdown",
   "metadata": {},
   "source": [
    "Итак, судя по всему нам стоит оставить данные только начиная с 2019-08-01. До что до этой даты похоже на доехавшие события. Их намного меньше!"
   ]
  },
  {
   "cell_type": "code",
   "execution_count": 20,
   "metadata": {},
   "outputs": [
    {
     "name": "stdout",
     "output_type": "stream",
     "text": [
      "Мы потеряли: 1.16 % событий, отбросив доехавшие данные\n"
     ]
    }
   ],
   "source": [
    "filt_data = data[data['date']>='2019-08-01']\n",
    "print('Мы потеряли:',round(((data['event'].count() - filt_data['event'].count()) / data['event'].count())*100,2) ,'% событий, отбросив доехавшие данные')"
   ]
  },
  {
   "cell_type": "code",
   "execution_count": 21,
   "metadata": {},
   "outputs": [
    {
     "data": {
      "text/plain": [
       "248    84563\n",
       "246    79302\n",
       "247    77022\n",
       "Name: group, dtype: int64"
      ]
     },
     "execution_count": 21,
     "metadata": {},
     "output_type": "execute_result"
    }
   ],
   "source": [
    "filt_data['group'].value_counts()"
   ]
  },
  {
   "cell_type": "code",
   "execution_count": 22,
   "metadata": {},
   "outputs": [
    {
     "name": "stdout",
     "output_type": "stream",
     "text": [
      "Мы потеряли: 0.23 % уникальных пользоватлей, отбросив доехавшие данные\n"
     ]
    }
   ],
   "source": [
    "print('Мы потеряли:',round(((data['id'].nunique() - filt_data['id'].nunique()) / data['id'].nunique())*100,2) ,'% уникальных пользоватлей, отбросив доехавшие данные')"
   ]
  },
  {
   "cell_type": "markdown",
   "metadata": {},
   "source": [
    "### Вывод\n",
    "Мы проверели данные. Было обнаружено странное распределния по датам. Мы отсекли даты, где было мало событий, и убираем 1.16 % событий. Таким образом мы будем опперировать данными, начиная с 2019-08-01. "
   ]
  },
  {
   "cell_type": "markdown",
   "metadata": {},
   "source": [
    "## Изучение воронку событий"
   ]
  },
  {
   "cell_type": "code",
   "execution_count": 23,
   "metadata": {},
   "outputs": [
    {
     "data": {
      "text/plain": [
       "MainScreenAppear           117328\n",
       "OffersScreenAppear          46333\n",
       "CartScreenAppear            42303\n",
       "PaymentScreenSuccessful     33918\n",
       "Tutorial                     1005\n",
       "Name: event, dtype: int64"
      ]
     },
     "execution_count": 23,
     "metadata": {},
     "output_type": "execute_result"
    }
   ],
   "source": [
    "filt_data['event'].value_counts()"
   ]
  },
  {
   "cell_type": "code",
   "execution_count": 24,
   "metadata": {},
   "outputs": [
    {
     "data": {
      "text/html": [
       "<div>\n",
       "<style scoped>\n",
       "    .dataframe tbody tr th:only-of-type {\n",
       "        vertical-align: middle;\n",
       "    }\n",
       "\n",
       "    .dataframe tbody tr th {\n",
       "        vertical-align: top;\n",
       "    }\n",
       "\n",
       "    .dataframe thead th {\n",
       "        text-align: right;\n",
       "    }\n",
       "</style>\n",
       "<table border=\"1\" class=\"dataframe\">\n",
       "  <thead>\n",
       "    <tr style=\"text-align: right;\">\n",
       "      <th></th>\n",
       "      <th>id</th>\n",
       "    </tr>\n",
       "    <tr>\n",
       "      <th>event</th>\n",
       "      <th></th>\n",
       "    </tr>\n",
       "  </thead>\n",
       "  <tbody>\n",
       "    <tr>\n",
       "      <th>MainScreenAppear</th>\n",
       "      <td>7419</td>\n",
       "    </tr>\n",
       "    <tr>\n",
       "      <th>OffersScreenAppear</th>\n",
       "      <td>4593</td>\n",
       "    </tr>\n",
       "    <tr>\n",
       "      <th>CartScreenAppear</th>\n",
       "      <td>3734</td>\n",
       "    </tr>\n",
       "    <tr>\n",
       "      <th>PaymentScreenSuccessful</th>\n",
       "      <td>3539</td>\n",
       "    </tr>\n",
       "    <tr>\n",
       "      <th>Tutorial</th>\n",
       "      <td>840</td>\n",
       "    </tr>\n",
       "  </tbody>\n",
       "</table>\n",
       "</div>"
      ],
      "text/plain": [
       "                           id\n",
       "event                        \n",
       "MainScreenAppear         7419\n",
       "OffersScreenAppear       4593\n",
       "CartScreenAppear         3734\n",
       "PaymentScreenSuccessful  3539\n",
       "Tutorial                  840"
      ]
     },
     "execution_count": 24,
     "metadata": {},
     "output_type": "execute_result"
    }
   ],
   "source": [
    "filt_data.groupby('event').agg({'id': 'nunique'}).sort_values(by='id', ascending=False)"
   ]
  },
  {
   "cell_type": "markdown",
   "metadata": {},
   "source": [
    "Предполагаемый порядок событий:  \n",
    "1. Главный экран\n",
    "2. Экран предложения(покупки)\n",
    "3. Оформление заказа\n",
    "4. Успешная оплата"
   ]
  },
  {
   "cell_type": "markdown",
   "metadata": {},
   "source": [
    "Посмотрим на событие предшествующее оплате."
   ]
  },
  {
   "cell_type": "code",
   "execution_count": 25,
   "metadata": {},
   "outputs": [],
   "source": [
    "test = filt_data.copy(deep=True)"
   ]
  },
  {
   "cell_type": "code",
   "execution_count": 26,
   "metadata": {},
   "outputs": [],
   "source": [
    "test = test.sort_values(['id','event_date'])"
   ]
  },
  {
   "cell_type": "code",
   "execution_count": 27,
   "metadata": {},
   "outputs": [],
   "source": [
    "test['diff'] = test.groupby('id')['event_date'].diff(1)"
   ]
  },
  {
   "cell_type": "code",
   "execution_count": 28,
   "metadata": {},
   "outputs": [],
   "source": [
    "test['pr'] = test.groupby('id')['event'].shift(1)"
   ]
  },
  {
   "cell_type": "code",
   "execution_count": 29,
   "metadata": {},
   "outputs": [
    {
     "data": {
      "text/plain": [
       "CartScreenAppear           19819\n",
       "MainScreenAppear            5695\n",
       "OffersScreenAppear          5357\n",
       "PaymentScreenSuccessful     2950\n",
       "Tutorial                       1\n",
       "Name: pr, dtype: int64"
      ]
     },
     "execution_count": 29,
     "metadata": {},
     "output_type": "execute_result"
    }
   ],
   "source": [
    "test[test['event']=='PaymentScreenSuccessful']['pr'].value_counts()"
   ]
  },
  {
   "cell_type": "markdown",
   "metadata": {},
   "source": [
    "Видно, что на сайте также рабоатет покупка в один клик, но все равно большинство покупок идет из корзины."
   ]
  },
  {
   "cell_type": "markdown",
   "metadata": {},
   "source": [
    "### Расчет воронки"
   ]
  },
  {
   "cell_type": "code",
   "execution_count": 30,
   "metadata": {},
   "outputs": [
    {
     "data": {
      "text/html": [
       "<div>\n",
       "<style scoped>\n",
       "    .dataframe tbody tr th:only-of-type {\n",
       "        vertical-align: middle;\n",
       "    }\n",
       "\n",
       "    .dataframe tbody tr th {\n",
       "        vertical-align: top;\n",
       "    }\n",
       "\n",
       "    .dataframe thead th {\n",
       "        text-align: right;\n",
       "    }\n",
       "</style>\n",
       "<table border=\"1\" class=\"dataframe\">\n",
       "  <thead>\n",
       "    <tr style=\"text-align: right;\">\n",
       "      <th></th>\n",
       "      <th>event</th>\n",
       "      <th>id</th>\n",
       "      <th>конверсия, %</th>\n",
       "      <th>конверсия в шаг, %</th>\n",
       "    </tr>\n",
       "  </thead>\n",
       "  <tbody>\n",
       "    <tr>\n",
       "      <th>0</th>\n",
       "      <td>MainScreenAppear</td>\n",
       "      <td>7419</td>\n",
       "      <td>100.00</td>\n",
       "      <td>NaN</td>\n",
       "    </tr>\n",
       "    <tr>\n",
       "      <th>1</th>\n",
       "      <td>OffersScreenAppear</td>\n",
       "      <td>4593</td>\n",
       "      <td>61.91</td>\n",
       "      <td>61.91</td>\n",
       "    </tr>\n",
       "    <tr>\n",
       "      <th>2</th>\n",
       "      <td>CartScreenAppear</td>\n",
       "      <td>3734</td>\n",
       "      <td>50.33</td>\n",
       "      <td>81.30</td>\n",
       "    </tr>\n",
       "    <tr>\n",
       "      <th>3</th>\n",
       "      <td>PaymentScreenSuccessful</td>\n",
       "      <td>3539</td>\n",
       "      <td>47.70</td>\n",
       "      <td>94.78</td>\n",
       "    </tr>\n",
       "  </tbody>\n",
       "</table>\n",
       "</div>"
      ],
      "text/plain": [
       "                     event    id  конверсия, %  конверсия в шаг, %\n",
       "0         MainScreenAppear  7419        100.00                 NaN\n",
       "1       OffersScreenAppear  4593         61.91               61.91\n",
       "2         CartScreenAppear  3734         50.33               81.30\n",
       "3  PaymentScreenSuccessful  3539         47.70               94.78"
      ]
     },
     "execution_count": 30,
     "metadata": {},
     "output_type": "execute_result"
    }
   ],
   "source": [
    "fun = filt_data.groupby('event').agg({'id': 'nunique'}).sort_values(by='id', ascending=False).reset_index()\n",
    "fun = fun[fun['event'] != 'Tutorial']\n",
    "fun['конверсия, %'] = round(fun['id'] / 7419 *100,2)\n",
    "fun['конверсия в шаг, %'] = round(fun['id'] / fun['id'].shift(1) *100,2)\n",
    "fun"
   ]
  },
  {
   "cell_type": "markdown",
   "metadata": {},
   "source": [
    "### Вывод\n",
    "При изучении воронки мы выявили следующее:\n",
    "1. В общем цепочка событий обычная, но встречаются переходы сразу на платежку, это может быть связано с окноами покупки в один клик\n",
    "2. Больше всего клиентов теряется на окне предложения.\n",
    "3. Почти половина пользователей доходит до покупок.\n"
   ]
  },
  {
   "cell_type": "markdown",
   "metadata": {},
   "source": [
    "##  Изучение результатов эксперимента"
   ]
  },
  {
   "cell_type": "code",
   "execution_count": 31,
   "metadata": {},
   "outputs": [
    {
     "data": {
      "text/html": [
       "<div>\n",
       "<style scoped>\n",
       "    .dataframe tbody tr th:only-of-type {\n",
       "        vertical-align: middle;\n",
       "    }\n",
       "\n",
       "    .dataframe tbody tr th {\n",
       "        vertical-align: top;\n",
       "    }\n",
       "\n",
       "    .dataframe thead th {\n",
       "        text-align: right;\n",
       "    }\n",
       "</style>\n",
       "<table border=\"1\" class=\"dataframe\">\n",
       "  <thead>\n",
       "    <tr style=\"text-align: right;\">\n",
       "      <th></th>\n",
       "      <th>group</th>\n",
       "    </tr>\n",
       "    <tr>\n",
       "      <th>id</th>\n",
       "      <th></th>\n",
       "    </tr>\n",
       "  </thead>\n",
       "  <tbody>\n",
       "  </tbody>\n",
       "</table>\n",
       "</div>"
      ],
      "text/plain": [
       "Empty DataFrame\n",
       "Columns: [group]\n",
       "Index: []"
      ]
     },
     "execution_count": 31,
     "metadata": {},
     "output_type": "execute_result"
    }
   ],
   "source": [
    "#КОД РЕВЬЮЕРА\n",
    "filt_data.groupby('id').agg({'group': 'nunique'}).query('group>1')"
   ]
  },
  {
   "cell_type": "code",
   "execution_count": 32,
   "metadata": {},
   "outputs": [
    {
     "data": {
      "text/plain": [
       "0"
      ]
     },
     "execution_count": 32,
     "metadata": {},
     "output_type": "execute_result"
    }
   ],
   "source": [
    "flickers = filt_data.loc[filt_data[\"group\"]==246,'id']\\\n",
    ".isin(filt_data.loc[filt_data[\"group\"]==247, 'id']) ## получаем индексы, где есть фликеры\n",
    "flickers.sum()\n",
    "#orders = orders.drop(flickers[flickers].index) ## удаляем их\n",
    "#orders.info()"
   ]
  },
  {
   "cell_type": "code",
   "execution_count": 33,
   "metadata": {},
   "outputs": [
    {
     "data": {
      "text/plain": [
       "0"
      ]
     },
     "execution_count": 33,
     "metadata": {},
     "output_type": "execute_result"
    }
   ],
   "source": [
    "flickers = filt_data.loc[filt_data[\"group\"]==247,'id']\\\n",
    ".isin(filt_data.loc[filt_data[\"group\"]==248, 'id']) ## получаем индексы, где есть фликеры\n",
    "flickers.sum()"
   ]
  },
  {
   "cell_type": "code",
   "execution_count": 34,
   "metadata": {},
   "outputs": [
    {
     "data": {
      "text/plain": [
       "0"
      ]
     },
     "execution_count": 34,
     "metadata": {},
     "output_type": "execute_result"
    }
   ],
   "source": [
    "flickers = filt_data.loc[filt_data[\"group\"]==246,'id']\\\n",
    ".isin(filt_data.loc[filt_data[\"group\"]==248, 'id']) ## получаем индексы, где есть фликеры\n",
    "flickers.sum()"
   ]
  },
  {
   "cell_type": "markdown",
   "metadata": {},
   "source": [
    "<div class=\"alert alert-info\">\n",
    "<b>Комментарий студента:</b> Ну,кажется, их нет =)\n",
    " \n",
    "</div>"
   ]
  },
  {
   "cell_type": "code",
   "execution_count": 35,
   "metadata": {},
   "outputs": [
    {
     "data": {
      "text/html": [
       "<div>\n",
       "<style scoped>\n",
       "    .dataframe tbody tr th:only-of-type {\n",
       "        vertical-align: middle;\n",
       "    }\n",
       "\n",
       "    .dataframe tbody tr th {\n",
       "        vertical-align: top;\n",
       "    }\n",
       "\n",
       "    .dataframe thead th {\n",
       "        text-align: right;\n",
       "    }\n",
       "</style>\n",
       "<table border=\"1\" class=\"dataframe\">\n",
       "  <thead>\n",
       "    <tr style=\"text-align: right;\">\n",
       "      <th></th>\n",
       "      <th>id</th>\n",
       "    </tr>\n",
       "    <tr>\n",
       "      <th>group</th>\n",
       "      <th></th>\n",
       "    </tr>\n",
       "  </thead>\n",
       "  <tbody>\n",
       "    <tr>\n",
       "      <th>246</th>\n",
       "      <td>2484</td>\n",
       "    </tr>\n",
       "    <tr>\n",
       "      <th>247</th>\n",
       "      <td>2513</td>\n",
       "    </tr>\n",
       "    <tr>\n",
       "      <th>248</th>\n",
       "      <td>2537</td>\n",
       "    </tr>\n",
       "  </tbody>\n",
       "</table>\n",
       "</div>"
      ],
      "text/plain": [
       "         id\n",
       "group      \n",
       "246    2484\n",
       "247    2513\n",
       "248    2537"
      ]
     },
     "execution_count": 35,
     "metadata": {},
     "output_type": "execute_result"
    }
   ],
   "source": [
    "filt_data.groupby('group').agg({'id': 'nunique'})"
   ]
  },
  {
   "cell_type": "code",
   "execution_count": 36,
   "metadata": {},
   "outputs": [],
   "source": [
    "#group_a = filt_data[filt_data['group'] == 246].groupby('date').agg({'id': 'nunique'})\n",
    "#group_aа = filt_data[filt_data['group'] == 247].groupby('date').agg({'id': 'nunique'})"
   ]
  },
  {
   "cell_type": "code",
   "execution_count": 37,
   "metadata": {},
   "outputs": [],
   "source": [
    "#alpha =  0.05 # как общепринято =)\n",
    "#results = st.ttest_ind(group_a,group_aа)\n",
    "#print('p-значение:', results.pvalue)\n",
    "\n",
    "#if results.pvalue < alpha:\n",
    "#    print('Отвергаем нулевую гипотезу')\n",
    "#else:\n",
    "#    print('Не получилось отвергнуть нулевую гипотезу') "
   ]
  },
  {
   "cell_type": "code",
   "execution_count": 38,
   "metadata": {},
   "outputs": [],
   "source": [
    "def sts (data_1, data_2, event):\n",
    "\n",
    "    alpha=0.05\n",
    "    clients_1 = data_1['id'].nunique()\n",
    "    clients_2 = data_2['id'].nunique()\n",
    "\n",
    "    bueyrs_1 = data_1.query('event == @event')['id'].nunique()\n",
    "    bueyrs_2 = data_2.query('event == @event')['id'].nunique()\n",
    "# пропорция успехов в группах\n",
    "    p1 = bueyrs_1/clients_1\n",
    "    p2 = bueyrs_2/clients_2\n",
    "\n",
    "# пропорция успехов в комбинированном датасете:\n",
    "    p_combined = (bueyrs_1 + bueyrs_2) / (clients_1 + clients_2)\n",
    "\n",
    "# разница пропорций в датасетах\n",
    "    difference = p1 - p2 \n",
    "\n",
    "# считаем статистику в ст.отклонениях стандартного нормального распределения\n",
    "    z_value = difference / mth.sqrt(p_combined * (1 - p_combined) * (1/clients_1 + 1/clients_2))\n",
    "\n",
    "# задаем стандартное нормальное распределение (среднее 0, ст.отклонение 1)\n",
    "    distr = st.norm(0, 1)\n",
    "\n",
    "    p_value = (1 - distr.cdf(abs(z_value))) * 2\n",
    "    print('p-значение: ', p_value)\n",
    "\n",
    "    if p_value < alpha:\n",
    "        print('Отвергаем нулевую гипотезу: между долями есть значимая разница')\n",
    "    else:\n",
    "        print(\n",
    "        'Не получилось отвергнуть нулевую гипотезу, нет оснований считать доли разными'\n",
    "    ) "
   ]
  },
  {
   "cell_type": "code",
   "execution_count": 39,
   "metadata": {},
   "outputs": [],
   "source": [
    "group_a = filt_data[filt_data['group'] == 246]\n",
    "group_aа = filt_data[filt_data['group'] == 247]"
   ]
  },
  {
   "cell_type": "markdown",
   "metadata": {},
   "source": [
    "**Нулевая гипотеза: Доли одинаковые!!**  \n",
    "**Альтернативная гипотеза: Доли разные**"
   ]
  },
  {
   "cell_type": "code",
   "execution_count": 40,
   "metadata": {},
   "outputs": [
    {
     "name": "stdout",
     "output_type": "stream",
     "text": [
      "p-значение:  0.7570597232046099\n",
      "Не получилось отвергнуть нулевую гипотезу, нет оснований считать доли разными\n"
     ]
    }
   ],
   "source": [
    "sts(group_a,group_aа,\"MainScreenAppear\")"
   ]
  },
  {
   "cell_type": "code",
   "execution_count": 41,
   "metadata": {},
   "outputs": [
    {
     "name": "stdout",
     "output_type": "stream",
     "text": [
      "p-значение:  0.2480954578522181\n",
      "Не получилось отвергнуть нулевую гипотезу, нет оснований считать доли разными\n"
     ]
    }
   ],
   "source": [
    "sts(group_a,group_aа,\"OffersScreenAppear\")"
   ]
  },
  {
   "cell_type": "code",
   "execution_count": 42,
   "metadata": {},
   "outputs": [
    {
     "name": "stdout",
     "output_type": "stream",
     "text": [
      "p-значение:  0.22883372237997213\n",
      "Не получилось отвергнуть нулевую гипотезу, нет оснований считать доли разными\n"
     ]
    }
   ],
   "source": [
    "sts(group_a,group_aа,\"CartScreenAppear\")"
   ]
  },
  {
   "cell_type": "code",
   "execution_count": 43,
   "metadata": {},
   "outputs": [
    {
     "name": "stdout",
     "output_type": "stream",
     "text": [
      "p-значение:  0.11456679313141849\n",
      "Не получилось отвергнуть нулевую гипотезу, нет оснований считать доли разными\n"
     ]
    }
   ],
   "source": [
    "sts(group_a,group_aа,\"PaymentScreenSuccessful\")"
   ]
  },
  {
   "cell_type": "markdown",
   "metadata": {},
   "source": [
    "<div class=\"alert alert-danger\">\n",
    "\n",
    "<b>❌ Комментарий ревьюера </b> И какой вывод по результатам сравнения контрольных групп?\n",
    "\n",
    "</div>"
   ]
  },
  {
   "cell_type": "markdown",
   "metadata": {},
   "source": [
    "<div class=\"alert alert-info\">\n",
    "<b>Комментарий студента:</b> Сформулировал вывод.\n",
    " \n",
    "</div>"
   ]
  },
  {
   "cell_type": "markdown",
   "metadata": {},
   "source": [
    "### Вывод по результатам теста\n",
    "Контрольные группы не имеют статистически важных различий в долях."
   ]
  },
  {
   "cell_type": "markdown",
   "metadata": {},
   "source": [
    "<div class=\"alert alert-success\">\n",
    "\n",
    "<b>✔️ Комментарий ревьюера v2:</b> Т.е. разбиение на группы было корректным\n",
    "\n",
    "</div>"
   ]
  },
  {
   "cell_type": "markdown",
   "metadata": {},
   "source": [
    "### группа с изменённым шрифтом"
   ]
  },
  {
   "cell_type": "code",
   "execution_count": 44,
   "metadata": {},
   "outputs": [],
   "source": [
    "group_b = filt_data[filt_data['group'] == 248] # Измененный \n",
    "group_a = filt_data[filt_data['group'] == 246]\n",
    "group_aа = filt_data[filt_data['group'] == 247]"
   ]
  },
  {
   "cell_type": "code",
   "execution_count": 45,
   "metadata": {},
   "outputs": [
    {
     "name": "stdout",
     "output_type": "stream",
     "text": [
      "p-значение:  0.2949721933554552\n",
      "Не получилось отвергнуть нулевую гипотезу, нет оснований считать доли разными\n",
      "p-значение:  0.4587053616621515\n",
      "Не получилось отвергнуть нулевую гипотезу, нет оснований считать доли разными\n"
     ]
    }
   ],
   "source": [
    "sts(group_a,group_b,\"MainScreenAppear\")\n",
    "sts(group_aа,group_b,\"MainScreenAppear\")"
   ]
  },
  {
   "cell_type": "code",
   "execution_count": 46,
   "metadata": {},
   "outputs": [
    {
     "name": "stdout",
     "output_type": "stream",
     "text": [
      "p-значение:  0.20836205402738917\n",
      "Не получилось отвергнуть нулевую гипотезу, нет оснований считать доли разными\n",
      "p-значение:  0.9197817830592261\n",
      "Не получилось отвергнуть нулевую гипотезу, нет оснований считать доли разными\n"
     ]
    }
   ],
   "source": [
    "sts(group_a,group_b,\"OffersScreenAppear\")\n",
    "sts(group_aа,group_b,\"OffersScreenAppear\")"
   ]
  },
  {
   "cell_type": "code",
   "execution_count": 47,
   "metadata": {},
   "outputs": [
    {
     "name": "stdout",
     "output_type": "stream",
     "text": [
      "p-значение:  0.07842923237520116\n",
      "Не получилось отвергнуть нулевую гипотезу, нет оснований считать доли разными\n",
      "p-значение:  0.5786197879539783\n",
      "Не получилось отвергнуть нулевую гипотезу, нет оснований считать доли разными\n"
     ]
    }
   ],
   "source": [
    "sts(group_a,group_b,\"CartScreenAppear\")\n",
    "sts(group_aа,group_b,\"CartScreenAppear\")"
   ]
  },
  {
   "cell_type": "code",
   "execution_count": 48,
   "metadata": {},
   "outputs": [
    {
     "name": "stdout",
     "output_type": "stream",
     "text": [
      "p-значение:  0.2122553275697796\n",
      "Не получилось отвергнуть нулевую гипотезу, нет оснований считать доли разными\n",
      "p-значение:  0.7373415053803964\n",
      "Не получилось отвергнуть нулевую гипотезу, нет оснований считать доли разными\n"
     ]
    }
   ],
   "source": [
    "sts(group_a,group_b,\"PaymentScreenSuccessful\")\n",
    "sts(group_aа,group_b,\"PaymentScreenSuccessful\")"
   ]
  },
  {
   "cell_type": "markdown",
   "metadata": {},
   "source": [
    "Мы выбрали 0.05 уровень значимости. Получается что каждая 20-ая проверка может дать ложный результат. Мы сделали 13 проверок."
   ]
  },
  {
   "cell_type": "markdown",
   "metadata": {},
   "source": [
    "<div class=\"alert alert-success\">\n",
    "\n",
    "<b>✔️ Комментарий ревьюера:</b> Немного не так. Если мы выбираем альфа=0.05, то вероятность сделать ошибку при одной проверке действительно 5%. Но в АВ тесте у нас 12 проверок (по 4 на каждое из сравнений 246/248, 247/248, 247+246/248), а значит вероятность 1-(1-0.05)^12=46%! Тут нам повезло, p-value во всех случаях довольно большие, и выбранное значение не сыграло роли: даже при alpha=0.07 не можем отвергнуть ни одну гипотезу. Но в общем случае результаты могут существенно различаться, если не учесть поправку и не уменьшить уровень стат значимости одним из методов \n",
    "  https://practicum.yandex.ru/learn/data-analyst/courses/d2d41c93-abde-4766-9b33-e01f0dd7cbc4/sprints/20362/topics/6b35beee-ce49-446e-b945-bc791438362b/lessons/ff6f7726-1c4c-49df-b066-55ba721fda44/\n",
    "</div>"
   ]
  },
  {
   "cell_type": "markdown",
   "metadata": {},
   "source": [
    "<div class=\"alert alert-info\">\n",
    "<b>Комментарий студента:</b> Вот мне сейчас обидно было, ведь я читал это все и думал про метод Шидака, но решил что тут не нужно почему-то. Но здесь и впрямь мне повезло, что p-value во всех случаях довольно большие. В следующий раз я буду обязательно это учитывать. Спсибо, мастер =)\n",
    "</div>\n",
    "<br><img width=\"100\" src=\"https://i.gifer.com/origin/57/57096011a5c6d471c097e03a52aa4470_w200.gif\">"
   ]
  },
  {
   "cell_type": "markdown",
   "metadata": {},
   "source": [
    "<div class=\"alert alert-success\">\n",
    "\n",
    "<b>✔️ Комментарий ревьюера v2:</b> Бывает) Мне главное знать, что ты об этом помнишь\n",
    "\n",
    "</div>"
   ]
  },
  {
   "cell_type": "markdown",
   "metadata": {},
   "source": [
    "<div class=\"alert alert-danger\">\n",
    "\n",
    "<b>❌ Комментарий ревьюера </b> Требовалось также сравнить экспериментальную группу с объединенной контрольной\n",
    "\n",
    "</div>"
   ]
  },
  {
   "cell_type": "markdown",
   "metadata": {},
   "source": [
    "<div class=\"alert alert-info\">\n",
    "<b>Комментарий студента:</b> Сделано!\n",
    "</div>"
   ]
  },
  {
   "cell_type": "markdown",
   "metadata": {},
   "source": [
    "<div class=\"alert alert-success\">\n",
    "\n",
    "<b>✔️ Комментарий ревьюера v2:</b> 👍\n",
    "\n",
    "</div>"
   ]
  },
  {
   "cell_type": "code",
   "execution_count": 49,
   "metadata": {},
   "outputs": [],
   "source": [
    "# Просто тренировка\n",
    "#group_comb1 = pd.concat([group_aа,group_a], ignore_index=True)\n",
    "#group_comb1.id.nunique()"
   ]
  },
  {
   "cell_type": "code",
   "execution_count": 50,
   "metadata": {},
   "outputs": [
    {
     "data": {
      "text/plain": [
       "4997"
      ]
     },
     "execution_count": 50,
     "metadata": {},
     "output_type": "execute_result"
    }
   ],
   "source": [
    "# Объединение Групп\n",
    "group_comb = filt_data[filt_data['group'].isin([246,247])]\n",
    "group_comb.id.nunique()"
   ]
  },
  {
   "cell_type": "code",
   "execution_count": 51,
   "metadata": {},
   "outputs": [],
   "source": [
    "# Видоизменю функцию,чтобы она выдавала только значение p_value для удобства запуска цикла\n",
    "def sts_2 (data_1, data_2, event):\n",
    "\n",
    "    clients_1 = data_1['id'].nunique()\n",
    "    clients_2 = data_2['id'].nunique()\n",
    "\n",
    "    bueyrs_1 = data_1.query('event == @event')['id'].nunique()\n",
    "    bueyrs_2 = data_2.query('event == @event')['id'].nunique()\n",
    "# пропорция успехов в группах\n",
    "    p1 = bueyrs_1/clients_1\n",
    "    p2 = bueyrs_2/clients_2\n",
    "\n",
    "# пропорция успехов в комбинированном датасете:\n",
    "    p_combined = (bueyrs_1 + bueyrs_2) / (clients_1 + clients_2)\n",
    "\n",
    "# разница пропорций в датасетах\n",
    "    difference = p1 - p2 \n",
    "\n",
    "# считаем статистику в ст.отклонениях стандартного нормального распределения\n",
    "    z_value = difference / mth.sqrt(p_combined * (1 - p_combined) * (1/clients_1 + 1/clients_2))\n",
    "\n",
    "# задаем стандартное нормальное распределение (среднее 0, ст.отклонение 1)\n",
    "    distr = st.norm(0, 1)\n",
    "\n",
    "    p_value = (1 - distr.cdf(abs(z_value))) * 2\n",
    "    return p_value"
   ]
  },
  {
   "cell_type": "code",
   "execution_count": 52,
   "metadata": {},
   "outputs": [
    {
     "name": "stdout",
     "output_type": "stream",
     "text": [
      "MainScreenAppear 0.29424526837179577\n",
      "Не получилось отвергнуть нулевую гипотезу, нет оснований считать MainScreenAppear события доли разными\n",
      "16\n",
      "OffersScreenAppear 0.43425549655188256\n",
      "Не получилось отвергнуть нулевую гипотезу, нет оснований считать OffersScreenAppear события доли разными\n",
      "18\n",
      "CartScreenAppear 0.18175875284404386\n",
      "Не получилось отвергнуть нулевую гипотезу, нет оснований считать CartScreenAppear события доли разными\n",
      "16\n",
      "PaymentScreenSuccessful 0.6004294282308704\n",
      "Не получилось отвергнуть нулевую гипотезу, нет оснований считать PaymentScreenSuccessful события доли разными\n",
      "23\n"
     ]
    }
   ],
   "source": [
    "for events in [\"MainScreenAppear\",\"OffersScreenAppear\",\"CartScreenAppear\",\"PaymentScreenSuccessful\"]:\n",
    "    alpha = 0.05\n",
    "    k = sts_2(group_comb,group_b,events)\n",
    "    print(events,k)\n",
    "    if k < alpha:\n",
    "        print('Отвергаем нулевую гипотезу: между долями события',events,'есть значимая разница')\n",
    "    else:\n",
    "        print(\n",
    "        'Не получилось отвергнуть нулевую гипотезу, нет оснований считать',events, 'события доли разными'\n",
    "        )\n",
    "    print(len(events))"
   ]
  },
  {
   "cell_type": "markdown",
   "metadata": {},
   "source": [
    "## Общий вывод\n",
    "1. Мы обработали данными и отсекли дубликаты и доезжающие данные.\n",
    "2. Построили воронку. Конверсия очень хорошая\n",
    "3. Статистический анализ показал:\n",
    "- Среднее кол-во пользователей в группах равно\n",
    "- Изменение шрифта не привело к изменению в конверсиях\n",
    "Рекомендация: Для более тщательного анализа неободимо получить данные о кликах в виджетах, позволяющие куить товар в один клик."
   ]
  }
 ],
 "metadata": {
  "ExecuteTimeLog": [
   {
    "duration": 225,
    "start_time": "2022-02-14T19:19:19.135Z"
   },
   {
    "duration": 1097,
    "start_time": "2022-02-14T19:19:27.627Z"
   },
   {
    "duration": 257,
    "start_time": "2022-02-14T19:21:01.870Z"
   },
   {
    "duration": 253,
    "start_time": "2022-02-14T19:21:03.654Z"
   },
   {
    "duration": 4,
    "start_time": "2022-02-14T19:21:20.917Z"
   },
   {
    "duration": 541,
    "start_time": "2022-02-14T19:21:28.843Z"
   },
   {
    "duration": 4,
    "start_time": "2022-02-14T19:21:53.229Z"
   },
   {
    "duration": 451,
    "start_time": "2022-02-14T19:21:54.316Z"
   },
   {
    "duration": 4,
    "start_time": "2022-02-14T19:22:07.388Z"
   },
   {
    "duration": 458,
    "start_time": "2022-02-14T19:22:08.702Z"
   },
   {
    "duration": 10,
    "start_time": "2022-02-14T19:22:20.258Z"
   },
   {
    "duration": 61,
    "start_time": "2022-02-14T19:22:56.751Z"
   },
   {
    "duration": 61,
    "start_time": "2022-02-14T19:23:57.866Z"
   },
   {
    "duration": 255,
    "start_time": "2022-02-14T19:24:02.670Z"
   },
   {
    "duration": 3,
    "start_time": "2022-02-14T19:24:04.802Z"
   },
   {
    "duration": 8,
    "start_time": "2022-02-14T19:24:07.736Z"
   },
   {
    "duration": 70,
    "start_time": "2022-02-14T19:24:14.302Z"
   },
   {
    "duration": 71,
    "start_time": "2022-02-14T19:25:22.479Z"
   },
   {
    "duration": 619,
    "start_time": "2022-02-14T19:26:16.540Z"
   },
   {
    "duration": 3,
    "start_time": "2022-02-14T19:26:18.249Z"
   },
   {
    "duration": 8,
    "start_time": "2022-02-14T19:26:19.727Z"
   },
   {
    "duration": 219,
    "start_time": "2022-02-14T19:26:25.214Z"
   },
   {
    "duration": 8,
    "start_time": "2022-02-14T19:26:28.171Z"
   },
   {
    "duration": 107,
    "start_time": "2022-02-14T19:27:48.136Z"
   },
   {
    "duration": 9,
    "start_time": "2022-02-14T19:27:50.378Z"
   },
   {
    "duration": 98,
    "start_time": "2022-02-14T19:28:05.760Z"
   },
   {
    "duration": 3,
    "start_time": "2022-02-14T19:28:23.490Z"
   },
   {
    "duration": 9,
    "start_time": "2022-02-14T19:28:24.095Z"
   },
   {
    "duration": 88,
    "start_time": "2022-02-14T19:28:24.613Z"
   },
   {
    "duration": 1133,
    "start_time": "2022-02-16T17:30:51.037Z"
   },
   {
    "duration": 126,
    "start_time": "2022-02-16T17:30:52.300Z"
   },
   {
    "duration": 116,
    "start_time": "2022-02-16T17:30:53.134Z"
   },
   {
    "duration": 3,
    "start_time": "2022-02-16T17:30:54.106Z"
   },
   {
    "duration": 24,
    "start_time": "2022-02-16T17:30:55.234Z"
   },
   {
    "duration": 8,
    "start_time": "2022-02-16T17:31:11.124Z"
   },
   {
    "duration": 4,
    "start_time": "2022-02-16T17:32:48.250Z"
   },
   {
    "duration": 110,
    "start_time": "2022-02-16T17:32:48.888Z"
   },
   {
    "duration": 108,
    "start_time": "2022-02-16T17:32:50.142Z"
   },
   {
    "duration": 4,
    "start_time": "2022-02-16T17:32:51.212Z"
   },
   {
    "duration": 7,
    "start_time": "2022-02-16T17:32:52.255Z"
   },
   {
    "duration": 10,
    "start_time": "2022-02-16T17:32:53.234Z"
   },
   {
    "duration": 8,
    "start_time": "2022-02-16T17:32:58.287Z"
   },
   {
    "duration": 16,
    "start_time": "2022-02-16T18:08:37.026Z"
   },
   {
    "duration": 266,
    "start_time": "2022-02-16T18:10:18.890Z"
   },
   {
    "duration": 178,
    "start_time": "2022-02-16T18:11:23.548Z"
   },
   {
    "duration": 180,
    "start_time": "2022-02-16T18:11:29.573Z"
   },
   {
    "duration": 84,
    "start_time": "2022-02-16T18:14:27.850Z"
   },
   {
    "duration": 76,
    "start_time": "2022-02-16T18:14:41.514Z"
   },
   {
    "duration": 8,
    "start_time": "2022-02-16T18:14:46.700Z"
   },
   {
    "duration": 264,
    "start_time": "2022-02-16T18:14:58.854Z"
   },
   {
    "duration": 86,
    "start_time": "2022-02-16T18:15:05.810Z"
   },
   {
    "duration": 10,
    "start_time": "2022-02-16T18:15:06.788Z"
   },
   {
    "duration": 85,
    "start_time": "2022-02-16T18:15:38.251Z"
   },
   {
    "duration": 9,
    "start_time": "2022-02-16T18:15:41.513Z"
   },
   {
    "duration": 16,
    "start_time": "2022-02-16T18:16:11.440Z"
   },
   {
    "duration": 164,
    "start_time": "2022-02-16T18:16:22.588Z"
   },
   {
    "duration": 24,
    "start_time": "2022-02-16T18:17:30.207Z"
   },
   {
    "duration": 6,
    "start_time": "2022-02-16T18:18:41.716Z"
   },
   {
    "duration": 67,
    "start_time": "2022-02-16T18:20:33.876Z"
   },
   {
    "duration": 27,
    "start_time": "2022-02-16T18:20:44.804Z"
   },
   {
    "duration": 24,
    "start_time": "2022-02-16T18:20:57.645Z"
   },
   {
    "duration": 21,
    "start_time": "2022-02-16T18:21:16.320Z"
   },
   {
    "duration": 27,
    "start_time": "2022-02-16T18:21:38.448Z"
   },
   {
    "duration": 19,
    "start_time": "2022-02-16T18:21:45.146Z"
   },
   {
    "duration": 4,
    "start_time": "2022-02-16T18:21:59.880Z"
   },
   {
    "duration": 1199,
    "start_time": "2022-02-17T09:54:23.828Z"
   },
   {
    "duration": 4,
    "start_time": "2022-02-17T09:54:25.733Z"
   },
   {
    "duration": 393,
    "start_time": "2022-02-17T09:54:26.934Z"
   },
   {
    "duration": 174,
    "start_time": "2022-02-17T09:55:46.408Z"
   },
   {
    "duration": 150,
    "start_time": "2022-02-17T09:55:48.665Z"
   },
   {
    "duration": 11,
    "start_time": "2022-02-17T09:55:49.529Z"
   },
   {
    "duration": 9,
    "start_time": "2022-02-17T09:56:56.560Z"
   },
   {
    "duration": 16,
    "start_time": "2022-02-17T09:57:20.760Z"
   },
   {
    "duration": 13,
    "start_time": "2022-02-17T09:57:36.064Z"
   },
   {
    "duration": 9,
    "start_time": "2022-02-17T09:57:53.095Z"
   },
   {
    "duration": 9,
    "start_time": "2022-02-17T09:57:54.007Z"
   },
   {
    "duration": 8,
    "start_time": "2022-02-17T09:57:55.277Z"
   },
   {
    "duration": 249,
    "start_time": "2022-02-17T09:59:07.007Z"
   },
   {
    "duration": 260,
    "start_time": "2022-02-17T09:59:54.078Z"
   },
   {
    "duration": 17,
    "start_time": "2022-02-17T10:00:09.285Z"
   },
   {
    "duration": 1250,
    "start_time": "2022-02-17T10:00:27.753Z"
   },
   {
    "duration": 3,
    "start_time": "2022-02-17T10:00:29.581Z"
   },
   {
    "duration": 126,
    "start_time": "2022-02-17T10:00:31.517Z"
   },
   {
    "duration": 157,
    "start_time": "2022-02-17T10:00:32.460Z"
   },
   {
    "duration": 11,
    "start_time": "2022-02-17T10:00:33.929Z"
   },
   {
    "duration": 9,
    "start_time": "2022-02-17T10:00:36.724Z"
   },
   {
    "duration": 12,
    "start_time": "2022-02-17T10:00:40.797Z"
   },
   {
    "duration": 9,
    "start_time": "2022-02-17T10:01:36.452Z"
   },
   {
    "duration": 7378,
    "start_time": "2022-02-17T10:01:37.420Z"
   },
   {
    "duration": 6688,
    "start_time": "2022-02-17T10:01:56.596Z"
   },
   {
    "duration": 7,
    "start_time": "2022-02-17T10:02:16.603Z"
   },
   {
    "duration": 1235,
    "start_time": "2022-02-17T10:02:26.255Z"
   },
   {
    "duration": 4,
    "start_time": "2022-02-17T10:02:27.493Z"
   },
   {
    "duration": 136,
    "start_time": "2022-02-17T10:02:27.500Z"
   },
   {
    "duration": 131,
    "start_time": "2022-02-17T10:02:27.638Z"
   },
   {
    "duration": 13,
    "start_time": "2022-02-17T10:02:27.771Z"
   },
   {
    "duration": 9,
    "start_time": "2022-02-17T10:02:27.786Z"
   },
   {
    "duration": 9,
    "start_time": "2022-02-17T10:02:27.797Z"
   },
   {
    "duration": 13,
    "start_time": "2022-02-17T10:02:27.809Z"
   },
   {
    "duration": 45,
    "start_time": "2022-02-17T10:02:27.825Z"
   },
   {
    "duration": 19,
    "start_time": "2022-02-17T10:02:27.873Z"
   },
   {
    "duration": 6690,
    "start_time": "2022-02-17T10:02:27.895Z"
   },
   {
    "duration": -43,
    "start_time": "2022-02-17T10:02:34.630Z"
   },
   {
    "duration": -44,
    "start_time": "2022-02-17T10:02:34.632Z"
   },
   {
    "duration": -44,
    "start_time": "2022-02-17T10:02:34.633Z"
   },
   {
    "duration": -44,
    "start_time": "2022-02-17T10:02:34.634Z"
   },
   {
    "duration": -44,
    "start_time": "2022-02-17T10:02:34.635Z"
   },
   {
    "duration": -44,
    "start_time": "2022-02-17T10:02:34.636Z"
   },
   {
    "duration": 80,
    "start_time": "2022-02-17T10:02:50.880Z"
   },
   {
    "duration": 174,
    "start_time": "2022-02-17T10:03:07.263Z"
   },
   {
    "duration": 10,
    "start_time": "2022-02-17T10:03:10.759Z"
   },
   {
    "duration": 36,
    "start_time": "2022-02-17T10:20:56.258Z"
   },
   {
    "duration": 223,
    "start_time": "2022-02-17T10:22:08.336Z"
   },
   {
    "duration": 112,
    "start_time": "2022-02-17T10:23:54.143Z"
   },
   {
    "duration": 116,
    "start_time": "2022-02-17T10:24:07.927Z"
   },
   {
    "duration": 122,
    "start_time": "2022-02-17T10:24:28.245Z"
   },
   {
    "duration": 119,
    "start_time": "2022-02-17T10:25:40.774Z"
   },
   {
    "duration": 119,
    "start_time": "2022-02-17T10:26:03.797Z"
   },
   {
    "duration": 119,
    "start_time": "2022-02-17T10:26:21.646Z"
   },
   {
    "duration": 113,
    "start_time": "2022-02-17T10:35:58.987Z"
   },
   {
    "duration": 122,
    "start_time": "2022-02-17T10:36:29.604Z"
   },
   {
    "duration": 46,
    "start_time": "2022-02-17T10:44:58.935Z"
   },
   {
    "duration": 9,
    "start_time": "2022-02-17T10:45:02.823Z"
   },
   {
    "duration": 6464,
    "start_time": "2022-02-17T10:46:38.446Z"
   },
   {
    "duration": 324,
    "start_time": "2022-02-17T10:47:00.238Z"
   },
   {
    "duration": 50,
    "start_time": "2022-02-17T10:47:14.023Z"
   },
   {
    "duration": 278,
    "start_time": "2022-02-17T10:47:23.885Z"
   },
   {
    "duration": 264,
    "start_time": "2022-02-17T10:47:47.181Z"
   },
   {
    "duration": 33,
    "start_time": "2022-02-17T10:48:33.853Z"
   },
   {
    "duration": 44,
    "start_time": "2022-02-17T10:48:37.823Z"
   },
   {
    "duration": 14,
    "start_time": "2022-02-17T10:48:43.838Z"
   },
   {
    "duration": 50,
    "start_time": "2022-02-17T10:49:08.733Z"
   },
   {
    "duration": 9,
    "start_time": "2022-02-17T10:50:04.206Z"
   },
   {
    "duration": 16,
    "start_time": "2022-02-17T10:51:13.787Z"
   },
   {
    "duration": 9,
    "start_time": "2022-02-17T10:51:54.834Z"
   },
   {
    "duration": 14,
    "start_time": "2022-02-17T11:38:04.600Z"
   },
   {
    "duration": 10,
    "start_time": "2022-02-17T11:38:30.920Z"
   },
   {
    "duration": 14,
    "start_time": "2022-02-17T11:38:38.176Z"
   },
   {
    "duration": 309,
    "start_time": "2022-02-18T06:41:34.175Z"
   },
   {
    "duration": 1226,
    "start_time": "2022-02-18T06:41:39.498Z"
   },
   {
    "duration": 4,
    "start_time": "2022-02-18T06:41:40.730Z"
   },
   {
    "duration": 159,
    "start_time": "2022-02-18T06:41:40.736Z"
   },
   {
    "duration": 125,
    "start_time": "2022-02-18T06:41:40.897Z"
   },
   {
    "duration": 11,
    "start_time": "2022-02-18T06:41:41.024Z"
   },
   {
    "duration": 22,
    "start_time": "2022-02-18T06:41:41.036Z"
   },
   {
    "duration": 13,
    "start_time": "2022-02-18T06:41:41.060Z"
   },
   {
    "duration": 20,
    "start_time": "2022-02-18T06:41:41.076Z"
   },
   {
    "duration": 157,
    "start_time": "2022-02-18T06:41:41.098Z"
   },
   {
    "duration": 16,
    "start_time": "2022-02-18T06:41:41.257Z"
   },
   {
    "duration": 234,
    "start_time": "2022-02-18T06:41:41.276Z"
   },
   {
    "duration": 121,
    "start_time": "2022-02-18T06:41:41.512Z"
   },
   {
    "duration": 43,
    "start_time": "2022-02-18T06:41:41.635Z"
   },
   {
    "duration": 125,
    "start_time": "2022-02-18T06:46:34.114Z"
   },
   {
    "duration": 296,
    "start_time": "2022-02-18T06:46:48.218Z"
   },
   {
    "duration": 24,
    "start_time": "2022-02-18T06:49:42.650Z"
   },
   {
    "duration": 9,
    "start_time": "2022-02-18T06:50:18.616Z"
   },
   {
    "duration": 29,
    "start_time": "2022-02-18T06:50:31.601Z"
   },
   {
    "duration": 365,
    "start_time": "2022-02-18T06:57:38.012Z"
   },
   {
    "duration": 9,
    "start_time": "2022-02-18T06:58:10.190Z"
   },
   {
    "duration": 5,
    "start_time": "2022-02-18T06:58:47.348Z"
   },
   {
    "duration": 4,
    "start_time": "2022-02-18T06:59:27.155Z"
   },
   {
    "duration": 4,
    "start_time": "2022-02-18T06:59:37.762Z"
   },
   {
    "duration": 7,
    "start_time": "2022-02-18T07:00:19.102Z"
   },
   {
    "duration": 7,
    "start_time": "2022-02-18T07:00:27.050Z"
   },
   {
    "duration": 86,
    "start_time": "2022-02-18T07:00:59.042Z"
   },
   {
    "duration": 7,
    "start_time": "2022-02-18T07:01:06.610Z"
   },
   {
    "duration": 8,
    "start_time": "2022-02-18T07:01:29.137Z"
   },
   {
    "duration": 102,
    "start_time": "2022-02-18T07:01:37.537Z"
   },
   {
    "duration": 8,
    "start_time": "2022-02-18T07:01:42.297Z"
   },
   {
    "duration": 8,
    "start_time": "2022-02-18T07:02:15.936Z"
   },
   {
    "duration": 6,
    "start_time": "2022-02-18T07:03:25.392Z"
   },
   {
    "duration": 7,
    "start_time": "2022-02-18T07:05:10.639Z"
   },
   {
    "duration": 7,
    "start_time": "2022-02-18T07:05:22.438Z"
   },
   {
    "duration": 6,
    "start_time": "2022-02-18T07:06:00.222Z"
   },
   {
    "duration": 22,
    "start_time": "2022-02-18T07:08:19.958Z"
   },
   {
    "duration": 38,
    "start_time": "2022-02-18T07:08:58.985Z"
   },
   {
    "duration": 88,
    "start_time": "2022-02-18T07:09:05.493Z"
   },
   {
    "duration": 94,
    "start_time": "2022-02-18T07:09:12.869Z"
   },
   {
    "duration": 280,
    "start_time": "2022-02-18T07:10:37.804Z"
   },
   {
    "duration": 277,
    "start_time": "2022-02-18T07:10:43.491Z"
   },
   {
    "duration": 95,
    "start_time": "2022-02-18T07:10:47.851Z"
   },
   {
    "duration": 96,
    "start_time": "2022-02-18T07:10:57.908Z"
   },
   {
    "duration": 86,
    "start_time": "2022-02-18T07:11:04.939Z"
   },
   {
    "duration": 99,
    "start_time": "2022-02-18T07:11:10.267Z"
   },
   {
    "duration": 32,
    "start_time": "2022-02-18T07:11:18.355Z"
   },
   {
    "duration": 92,
    "start_time": "2022-02-18T07:11:21.667Z"
   },
   {
    "duration": 91,
    "start_time": "2022-02-18T07:11:38.780Z"
   },
   {
    "duration": 33,
    "start_time": "2022-02-18T07:15:07.848Z"
   },
   {
    "duration": 34,
    "start_time": "2022-02-18T07:15:24.240Z"
   },
   {
    "duration": 272,
    "start_time": "2022-02-18T07:16:17.104Z"
   },
   {
    "duration": 219,
    "start_time": "2022-02-18T07:19:05.211Z"
   },
   {
    "duration": 218,
    "start_time": "2022-02-18T07:19:05.213Z"
   },
   {
    "duration": 842,
    "start_time": "2022-02-18T07:20:06.357Z"
   },
   {
    "duration": 512,
    "start_time": "2022-02-18T07:23:17.747Z"
   },
   {
    "duration": 21,
    "start_time": "2022-02-18T07:23:31.627Z"
   },
   {
    "duration": 212,
    "start_time": "2022-02-18T07:23:48.714Z"
   },
   {
    "duration": 293,
    "start_time": "2022-02-18T07:24:17.633Z"
   },
   {
    "duration": 239,
    "start_time": "2022-02-18T07:25:24.074Z"
   },
   {
    "duration": 6192,
    "start_time": "2022-02-18T07:26:24.824Z"
   },
   {
    "duration": 419,
    "start_time": "2022-02-18T07:26:45.920Z"
   },
   {
    "duration": 87,
    "start_time": "2022-02-18T07:29:45.503Z"
   },
   {
    "duration": 498,
    "start_time": "2022-02-18T07:29:48.566Z"
   },
   {
    "duration": 8144,
    "start_time": "2022-02-18T07:30:20.070Z"
   },
   {
    "duration": 475,
    "start_time": "2022-02-18T07:30:34.533Z"
   },
   {
    "duration": 1136,
    "start_time": "2022-02-18T07:30:53.253Z"
   },
   {
    "duration": 3745,
    "start_time": "2022-02-18T07:31:41.316Z"
   },
   {
    "duration": 421,
    "start_time": "2022-02-18T07:33:25.323Z"
   },
   {
    "duration": 79,
    "start_time": "2022-02-18T07:34:21.369Z"
   },
   {
    "duration": 568,
    "start_time": "2022-02-18T07:34:28.321Z"
   },
   {
    "duration": 402,
    "start_time": "2022-02-18T07:34:42.465Z"
   },
   {
    "duration": 313,
    "start_time": "2022-02-18T07:42:55.978Z"
   },
   {
    "duration": 90,
    "start_time": "2022-02-18T07:43:33.738Z"
   },
   {
    "duration": 1002,
    "start_time": "2022-02-18T07:43:49.498Z"
   },
   {
    "duration": 1028,
    "start_time": "2022-02-18T07:44:12.057Z"
   },
   {
    "duration": 83,
    "start_time": "2022-02-18T07:44:21.889Z"
   },
   {
    "duration": 204,
    "start_time": "2022-02-18T07:46:41.503Z"
   },
   {
    "duration": 126,
    "start_time": "2022-02-18T07:46:45.239Z"
   },
   {
    "duration": 11,
    "start_time": "2022-02-18T07:46:48.791Z"
   },
   {
    "duration": 3219,
    "start_time": "2022-02-18T07:46:56.279Z"
   },
   {
    "duration": 190,
    "start_time": "2022-02-18T07:46:59.311Z"
   },
   {
    "duration": 188,
    "start_time": "2022-02-18T07:46:59.314Z"
   },
   {
    "duration": 194,
    "start_time": "2022-02-18T07:47:26.127Z"
   },
   {
    "duration": 11,
    "start_time": "2022-02-18T07:47:27.367Z"
   },
   {
    "duration": 124,
    "start_time": "2022-02-18T07:47:28.142Z"
   },
   {
    "duration": 83,
    "start_time": "2022-02-18T07:47:39.254Z"
   },
   {
    "duration": 87,
    "start_time": "2022-02-18T07:49:00.173Z"
   },
   {
    "duration": 15,
    "start_time": "2022-02-18T07:49:29.540Z"
   },
   {
    "duration": 28,
    "start_time": "2022-02-18T07:49:35.189Z"
   },
   {
    "duration": 15,
    "start_time": "2022-02-18T07:51:46.851Z"
   },
   {
    "duration": 17,
    "start_time": "2022-02-18T07:51:55.466Z"
   },
   {
    "duration": 250,
    "start_time": "2022-02-18T07:53:00.761Z"
   },
   {
    "duration": 7,
    "start_time": "2022-02-18T07:53:16.993Z"
   },
   {
    "duration": 87,
    "start_time": "2022-02-18T10:23:38.445Z"
   },
   {
    "duration": 89,
    "start_time": "2022-02-18T10:23:58.916Z"
   },
   {
    "duration": 75,
    "start_time": "2022-02-18T10:24:23.466Z"
   },
   {
    "duration": 287,
    "start_time": "2022-02-18T10:24:28.442Z"
   },
   {
    "duration": 1241,
    "start_time": "2022-02-18T10:24:44.380Z"
   },
   {
    "duration": 4,
    "start_time": "2022-02-18T10:24:45.623Z"
   },
   {
    "duration": 139,
    "start_time": "2022-02-18T10:24:45.629Z"
   },
   {
    "duration": 132,
    "start_time": "2022-02-18T10:24:45.771Z"
   },
   {
    "duration": 11,
    "start_time": "2022-02-18T10:24:45.905Z"
   },
   {
    "duration": 8,
    "start_time": "2022-02-18T10:24:45.918Z"
   },
   {
    "duration": 7,
    "start_time": "2022-02-18T10:24:45.928Z"
   },
   {
    "duration": 36,
    "start_time": "2022-02-18T10:24:45.936Z"
   },
   {
    "duration": 217,
    "start_time": "2022-02-18T10:24:45.975Z"
   },
   {
    "duration": 10,
    "start_time": "2022-02-18T10:24:46.194Z"
   },
   {
    "duration": 202,
    "start_time": "2022-02-18T10:24:46.206Z"
   },
   {
    "duration": 103,
    "start_time": "2022-02-18T10:24:46.409Z"
   },
   {
    "duration": 243,
    "start_time": "2022-02-18T10:24:46.514Z"
   },
   {
    "duration": 44,
    "start_time": "2022-02-18T10:24:46.759Z"
   },
   {
    "duration": 6,
    "start_time": "2022-02-18T10:24:46.805Z"
   },
   {
    "duration": 10,
    "start_time": "2022-02-18T10:24:46.812Z"
   },
   {
    "duration": 6,
    "start_time": "2022-02-18T10:24:46.824Z"
   },
   {
    "duration": 6,
    "start_time": "2022-02-18T10:24:46.831Z"
   },
   {
    "duration": 445,
    "start_time": "2022-02-18T10:24:46.839Z"
   },
   {
    "duration": 90,
    "start_time": "2022-02-18T10:24:47.286Z"
   },
   {
    "duration": -23,
    "start_time": "2022-02-18T10:24:47.400Z"
   },
   {
    "duration": -24,
    "start_time": "2022-02-18T10:24:47.402Z"
   },
   {
    "duration": 17,
    "start_time": "2022-02-18T10:24:53.434Z"
   },
   {
    "duration": 22,
    "start_time": "2022-02-18T10:25:05.266Z"
   },
   {
    "duration": 17,
    "start_time": "2022-02-18T10:25:55.401Z"
   },
   {
    "duration": 18,
    "start_time": "2022-02-18T10:26:32.440Z"
   },
   {
    "duration": 18,
    "start_time": "2022-02-18T10:26:57.328Z"
   },
   {
    "duration": 17,
    "start_time": "2022-02-18T10:27:05.528Z"
   },
   {
    "duration": 20,
    "start_time": "2022-02-18T10:27:11.248Z"
   },
   {
    "duration": 18,
    "start_time": "2022-02-18T10:28:11.727Z"
   },
   {
    "duration": 19,
    "start_time": "2022-02-18T10:28:33.694Z"
   },
   {
    "duration": 18,
    "start_time": "2022-02-18T10:28:39.462Z"
   },
   {
    "duration": 6,
    "start_time": "2022-02-18T11:05:08.213Z"
   },
   {
    "duration": 8,
    "start_time": "2022-02-18T11:19:05.530Z"
   },
   {
    "duration": 43,
    "start_time": "2022-02-18T11:32:55.616Z"
   },
   {
    "duration": 366,
    "start_time": "2022-02-18T11:39:08.315Z"
   },
   {
    "duration": 8,
    "start_time": "2022-02-18T11:39:14.179Z"
   },
   {
    "duration": 54,
    "start_time": "2022-02-18T11:40:55.282Z"
   },
   {
    "duration": 47,
    "start_time": "2022-02-18T11:41:02.330Z"
   },
   {
    "duration": 1639,
    "start_time": "2022-02-18T11:41:36.410Z"
   },
   {
    "duration": 21,
    "start_time": "2022-02-18T11:41:42.074Z"
   },
   {
    "duration": 13,
    "start_time": "2022-02-18T11:44:04.472Z"
   },
   {
    "duration": 13,
    "start_time": "2022-02-18T11:44:31.880Z"
   },
   {
    "duration": 119,
    "start_time": "2022-02-18T11:47:21.736Z"
   },
   {
    "duration": 14,
    "start_time": "2022-02-18T11:47:25.470Z"
   },
   {
    "duration": 1655,
    "start_time": "2022-02-18T11:47:35.629Z"
   },
   {
    "duration": 14,
    "start_time": "2022-02-18T11:47:38.093Z"
   },
   {
    "duration": 9,
    "start_time": "2022-02-18T12:02:27.986Z"
   },
   {
    "duration": 20,
    "start_time": "2022-02-18T12:02:33.482Z"
   },
   {
    "duration": 9,
    "start_time": "2022-02-18T12:04:40.968Z"
   },
   {
    "duration": 5,
    "start_time": "2022-02-18T12:04:47.358Z"
   },
   {
    "duration": 90,
    "start_time": "2022-02-18T12:05:26.792Z"
   },
   {
    "duration": 125,
    "start_time": "2022-02-18T12:05:31.968Z"
   },
   {
    "duration": 81,
    "start_time": "2022-02-18T12:06:28.039Z"
   },
   {
    "duration": 6,
    "start_time": "2022-02-18T12:07:24.910Z"
   },
   {
    "duration": 6,
    "start_time": "2022-02-18T12:07:30.694Z"
   },
   {
    "duration": 661,
    "start_time": "2022-02-18T16:25:29.753Z"
   },
   {
    "duration": 1456,
    "start_time": "2022-02-18T16:25:38.273Z"
   },
   {
    "duration": 5,
    "start_time": "2022-02-18T16:25:39.732Z"
   },
   {
    "duration": 178,
    "start_time": "2022-02-18T16:25:39.740Z"
   },
   {
    "duration": 174,
    "start_time": "2022-02-18T16:25:39.921Z"
   },
   {
    "duration": 16,
    "start_time": "2022-02-18T16:25:40.097Z"
   },
   {
    "duration": 9,
    "start_time": "2022-02-18T16:25:40.115Z"
   },
   {
    "duration": 12,
    "start_time": "2022-02-18T16:25:40.126Z"
   },
   {
    "duration": 16,
    "start_time": "2022-02-18T16:25:40.140Z"
   },
   {
    "duration": 267,
    "start_time": "2022-02-18T16:25:40.159Z"
   },
   {
    "duration": 11,
    "start_time": "2022-02-18T16:25:40.429Z"
   },
   {
    "duration": 260,
    "start_time": "2022-02-18T16:25:40.443Z"
   },
   {
    "duration": 134,
    "start_time": "2022-02-18T16:25:40.705Z"
   },
   {
    "duration": 319,
    "start_time": "2022-02-18T16:25:40.841Z"
   },
   {
    "duration": 56,
    "start_time": "2022-02-18T16:25:41.162Z"
   },
   {
    "duration": 7,
    "start_time": "2022-02-18T16:25:41.220Z"
   },
   {
    "duration": 6,
    "start_time": "2022-02-18T16:25:41.229Z"
   },
   {
    "duration": 7,
    "start_time": "2022-02-18T16:25:41.238Z"
   },
   {
    "duration": 9,
    "start_time": "2022-02-18T16:25:41.247Z"
   },
   {
    "duration": 471,
    "start_time": "2022-02-18T16:25:41.258Z"
   },
   {
    "duration": 18,
    "start_time": "2022-02-18T16:25:41.731Z"
   },
   {
    "duration": 9,
    "start_time": "2022-02-18T16:25:41.751Z"
   },
   {
    "duration": 9,
    "start_time": "2022-02-18T16:25:41.762Z"
   },
   {
    "duration": 80,
    "start_time": "2022-02-18T16:25:41.773Z"
   },
   {
    "duration": 7,
    "start_time": "2022-02-18T16:25:41.856Z"
   },
   {
    "duration": 158,
    "start_time": "2022-02-18T16:25:41.866Z"
   },
   {
    "duration": 1827,
    "start_time": "2022-02-18T16:25:42.027Z"
   },
   {
    "duration": 17,
    "start_time": "2022-02-18T16:25:43.858Z"
   },
   {
    "duration": 13,
    "start_time": "2022-02-18T16:25:43.877Z"
   },
   {
    "duration": 7,
    "start_time": "2022-02-18T16:25:43.907Z"
   },
   {
    "duration": 9,
    "start_time": "2022-02-18T16:25:43.916Z"
   },
   {
    "duration": 753,
    "start_time": "2022-02-18T16:25:43.927Z"
   },
   {
    "duration": 25,
    "start_time": "2022-02-18T16:25:50.473Z"
   },
   {
    "duration": 25,
    "start_time": "2022-02-18T16:25:54.163Z"
   },
   {
    "duration": 36,
    "start_time": "2022-02-18T16:26:12.146Z"
   },
   {
    "duration": 1945,
    "start_time": "2022-02-18T16:26:59.905Z"
   },
   {
    "duration": 1856,
    "start_time": "2022-02-18T16:28:51.116Z"
   },
   {
    "duration": 24,
    "start_time": "2022-02-18T16:28:59.713Z"
   },
   {
    "duration": 325,
    "start_time": "2022-02-18T16:29:09.023Z"
   },
   {
    "duration": 14,
    "start_time": "2022-02-18T16:29:18.759Z"
   },
   {
    "duration": 29,
    "start_time": "2022-02-18T16:29:21.116Z"
   },
   {
    "duration": 18,
    "start_time": "2022-02-18T16:30:40.744Z"
   },
   {
    "duration": 28,
    "start_time": "2022-02-18T16:31:06.081Z"
   },
   {
    "duration": 277,
    "start_time": "2022-02-18T16:31:38.007Z"
   },
   {
    "duration": 15,
    "start_time": "2022-02-18T16:31:47.124Z"
   },
   {
    "duration": 41,
    "start_time": "2022-02-18T20:19:04.955Z"
   },
   {
    "duration": 38,
    "start_time": "2022-02-18T20:19:17.013Z"
   },
   {
    "duration": 46,
    "start_time": "2022-02-18T20:19:22.224Z"
   },
   {
    "duration": 46,
    "start_time": "2022-02-18T20:19:56.700Z"
   },
   {
    "duration": 85,
    "start_time": "2022-02-18T20:20:28.353Z"
   },
   {
    "duration": 269,
    "start_time": "2022-02-18T20:20:33.927Z"
   },
   {
    "duration": 60,
    "start_time": "2022-02-18T20:20:39.369Z"
   },
   {
    "duration": 44,
    "start_time": "2022-02-18T20:20:59.965Z"
   },
   {
    "duration": 48,
    "start_time": "2022-02-18T20:22:12.528Z"
   },
   {
    "duration": 44,
    "start_time": "2022-02-18T20:22:17.268Z"
   },
   {
    "duration": 45,
    "start_time": "2022-02-18T20:22:30.817Z"
   },
   {
    "duration": 48,
    "start_time": "2022-02-18T20:22:38.945Z"
   },
   {
    "duration": 47,
    "start_time": "2022-02-18T20:23:40.274Z"
   },
   {
    "duration": 45,
    "start_time": "2022-02-18T20:23:45.448Z"
   },
   {
    "duration": 47,
    "start_time": "2022-02-18T20:23:57.081Z"
   },
   {
    "duration": 43,
    "start_time": "2022-02-18T20:24:49.420Z"
   },
   {
    "duration": 49,
    "start_time": "2022-02-18T20:24:55.022Z"
   },
   {
    "duration": 48,
    "start_time": "2022-02-18T20:25:16.958Z"
   },
   {
    "duration": 533,
    "start_time": "2022-02-18T20:26:40.752Z"
   },
   {
    "duration": 386,
    "start_time": "2022-02-18T20:27:21.416Z"
   },
   {
    "duration": 264,
    "start_time": "2022-02-18T20:27:34.631Z"
   },
   {
    "duration": 281,
    "start_time": "2022-02-18T20:28:49.560Z"
   },
   {
    "duration": 269,
    "start_time": "2022-02-18T20:29:39.227Z"
   },
   {
    "duration": 3,
    "start_time": "2022-02-18T20:29:44.263Z"
   },
   {
    "duration": 337,
    "start_time": "2022-02-18T20:29:45.309Z"
   },
   {
    "duration": 88,
    "start_time": "2022-02-18T20:31:28.805Z"
   },
   {
    "duration": 3,
    "start_time": "2022-02-18T20:31:32.545Z"
   },
   {
    "duration": 297,
    "start_time": "2022-02-18T20:31:36.833Z"
   },
   {
    "duration": 295,
    "start_time": "2022-02-18T20:31:42.087Z"
   },
   {
    "duration": 270,
    "start_time": "2022-02-18T20:34:05.916Z"
   },
   {
    "duration": 260,
    "start_time": "2022-02-18T20:34:20.796Z"
   },
   {
    "duration": 4,
    "start_time": "2022-02-18T20:34:24.522Z"
   },
   {
    "duration": 4,
    "start_time": "2022-02-18T20:34:53.178Z"
   },
   {
    "duration": 572,
    "start_time": "2022-02-18T20:36:05.954Z"
   },
   {
    "duration": 234,
    "start_time": "2022-02-18T20:36:22.427Z"
   },
   {
    "duration": 128,
    "start_time": "2022-02-18T20:37:03.099Z"
   },
   {
    "duration": 3,
    "start_time": "2022-02-18T20:39:28.178Z"
   },
   {
    "duration": 3,
    "start_time": "2022-02-18T20:39:29.098Z"
   },
   {
    "duration": 194,
    "start_time": "2022-02-18T20:39:29.835Z"
   },
   {
    "duration": 418,
    "start_time": "2022-02-18T20:40:48.246Z"
   },
   {
    "duration": 121,
    "start_time": "2022-02-18T20:40:56.136Z"
   },
   {
    "duration": 34,
    "start_time": "2022-02-18T20:47:12.471Z"
   },
   {
    "duration": 1099,
    "start_time": "2022-02-19T08:34:00.352Z"
   },
   {
    "duration": 4,
    "start_time": "2022-02-19T08:34:01.452Z"
   },
   {
    "duration": 117,
    "start_time": "2022-02-19T08:34:01.457Z"
   },
   {
    "duration": 111,
    "start_time": "2022-02-19T08:34:01.576Z"
   },
   {
    "duration": 9,
    "start_time": "2022-02-19T08:34:01.689Z"
   },
   {
    "duration": 15,
    "start_time": "2022-02-19T08:34:01.699Z"
   },
   {
    "duration": 17,
    "start_time": "2022-02-19T08:34:01.716Z"
   },
   {
    "duration": 11,
    "start_time": "2022-02-19T08:34:01.735Z"
   },
   {
    "duration": 207,
    "start_time": "2022-02-19T08:34:01.748Z"
   },
   {
    "duration": 10,
    "start_time": "2022-02-19T08:34:01.956Z"
   },
   {
    "duration": 187,
    "start_time": "2022-02-19T08:34:01.967Z"
   },
   {
    "duration": 105,
    "start_time": "2022-02-19T08:34:02.156Z"
   },
   {
    "duration": 232,
    "start_time": "2022-02-19T08:34:02.263Z"
   },
   {
    "duration": 43,
    "start_time": "2022-02-19T08:34:02.497Z"
   },
   {
    "duration": 6,
    "start_time": "2022-02-19T08:34:02.542Z"
   },
   {
    "duration": 5,
    "start_time": "2022-02-19T08:34:02.549Z"
   },
   {
    "duration": 16,
    "start_time": "2022-02-19T08:34:02.555Z"
   },
   {
    "duration": 4,
    "start_time": "2022-02-19T08:34:02.573Z"
   },
   {
    "duration": 378,
    "start_time": "2022-02-19T08:34:02.578Z"
   },
   {
    "duration": 15,
    "start_time": "2022-02-19T08:34:02.957Z"
   },
   {
    "duration": 6,
    "start_time": "2022-02-19T08:34:02.974Z"
   },
   {
    "duration": 19,
    "start_time": "2022-02-19T08:34:02.981Z"
   },
   {
    "duration": 52,
    "start_time": "2022-02-19T08:34:03.002Z"
   },
   {
    "duration": 5,
    "start_time": "2022-02-19T08:34:03.056Z"
   },
   {
    "duration": 109,
    "start_time": "2022-02-19T08:34:03.062Z"
   },
   {
    "duration": 1458,
    "start_time": "2022-02-19T08:34:03.173Z"
   },
   {
    "duration": 13,
    "start_time": "2022-02-19T08:34:04.633Z"
   },
   {
    "duration": 14,
    "start_time": "2022-02-19T08:34:04.647Z"
   },
   {
    "duration": 69,
    "start_time": "2022-02-19T08:34:04.662Z"
   },
   {
    "duration": 2,
    "start_time": "2022-02-19T08:34:04.733Z"
   },
   {
    "duration": 262,
    "start_time": "2022-02-19T08:34:04.736Z"
   },
   {
    "duration": 488,
    "start_time": "2022-02-19T08:34:04.999Z"
   },
   {
    "duration": 69,
    "start_time": "2022-02-19T08:34:05.489Z"
   },
   {
    "duration": 75,
    "start_time": "2022-02-19T08:34:05.560Z"
   },
   {
    "duration": 364,
    "start_time": "2022-02-19T08:34:05.637Z"
   },
   {
    "duration": 25,
    "start_time": "2022-02-19T08:34:20.272Z"
   },
   {
    "duration": 22,
    "start_time": "2022-02-19T08:34:32.831Z"
   },
   {
    "duration": 35,
    "start_time": "2022-02-19T08:34:56.717Z"
   },
   {
    "duration": 197,
    "start_time": "2022-02-19T08:50:50.815Z"
   },
   {
    "duration": 5,
    "start_time": "2022-02-19T08:51:12.889Z"
   },
   {
    "duration": 62,
    "start_time": "2022-02-19T09:03:13.227Z"
   },
   {
    "duration": 70,
    "start_time": "2022-02-19T09:03:22.379Z"
   },
   {
    "duration": 60,
    "start_time": "2022-02-19T09:03:51.283Z"
   },
   {
    "duration": 64,
    "start_time": "2022-02-19T09:03:58.548Z"
   },
   {
    "duration": 5,
    "start_time": "2022-02-19T09:04:05.708Z"
   },
   {
    "duration": 240,
    "start_time": "2022-02-19T09:07:15.037Z"
   },
   {
    "duration": 18,
    "start_time": "2022-02-19T09:07:26.923Z"
   },
   {
    "duration": 214,
    "start_time": "2022-02-19T09:07:31.043Z"
   },
   {
    "duration": 432,
    "start_time": "2022-02-19T09:07:40.445Z"
   },
   {
    "duration": 5,
    "start_time": "2022-02-19T09:07:54.767Z"
   },
   {
    "duration": 17,
    "start_time": "2022-02-19T09:07:57.424Z"
   },
   {
    "duration": 419,
    "start_time": "2022-02-19T09:07:59.020Z"
   },
   {
    "duration": 5,
    "start_time": "2022-02-19T09:08:20.575Z"
   },
   {
    "duration": 18,
    "start_time": "2022-02-19T09:08:22.134Z"
   },
   {
    "duration": 445,
    "start_time": "2022-02-19T09:08:22.992Z"
   },
   {
    "duration": 5,
    "start_time": "2022-02-19T09:09:02.649Z"
   },
   {
    "duration": 5,
    "start_time": "2022-02-19T09:09:08.976Z"
   },
   {
    "duration": 15,
    "start_time": "2022-02-19T09:09:09.701Z"
   },
   {
    "duration": 21,
    "start_time": "2022-02-19T09:09:10.413Z"
   },
   {
    "duration": 17,
    "start_time": "2022-02-19T09:17:07.692Z"
   },
   {
    "duration": 15,
    "start_time": "2022-02-19T09:17:42.919Z"
   },
   {
    "duration": 18,
    "start_time": "2022-02-19T09:18:07.867Z"
   },
   {
    "duration": 10,
    "start_time": "2022-02-19T09:24:07.947Z"
   },
   {
    "duration": 35,
    "start_time": "2022-02-19T09:24:33.851Z"
   },
   {
    "duration": 259,
    "start_time": "2022-02-19T09:24:55.828Z"
   },
   {
    "duration": 17,
    "start_time": "2022-02-19T09:25:10.298Z"
   },
   {
    "duration": 213,
    "start_time": "2022-02-19T09:25:20.474Z"
   },
   {
    "duration": 22,
    "start_time": "2022-02-19T09:26:22.822Z"
   },
   {
    "duration": 37,
    "start_time": "2022-02-19T09:26:25.791Z"
   },
   {
    "duration": 219,
    "start_time": "2022-02-19T09:26:54.400Z"
   },
   {
    "duration": 29,
    "start_time": "2022-02-19T09:27:03.504Z"
   },
   {
    "duration": 29,
    "start_time": "2022-02-19T09:27:34.725Z"
   },
   {
    "duration": 28,
    "start_time": "2022-02-19T09:28:00.255Z"
   },
   {
    "duration": 1126,
    "start_time": "2022-02-19T09:48:31.623Z"
   },
   {
    "duration": 5,
    "start_time": "2022-02-19T09:48:32.750Z"
   },
   {
    "duration": 122,
    "start_time": "2022-02-19T09:48:32.757Z"
   },
   {
    "duration": 117,
    "start_time": "2022-02-19T09:48:32.880Z"
   },
   {
    "duration": 10,
    "start_time": "2022-02-19T09:48:32.999Z"
   },
   {
    "duration": 20,
    "start_time": "2022-02-19T09:48:33.010Z"
   },
   {
    "duration": 7,
    "start_time": "2022-02-19T09:48:33.031Z"
   },
   {
    "duration": 11,
    "start_time": "2022-02-19T09:48:33.040Z"
   },
   {
    "duration": 200,
    "start_time": "2022-02-19T09:48:33.053Z"
   },
   {
    "duration": 8,
    "start_time": "2022-02-19T09:48:33.255Z"
   },
   {
    "duration": 180,
    "start_time": "2022-02-19T09:48:33.265Z"
   },
   {
    "duration": 98,
    "start_time": "2022-02-19T09:48:33.446Z"
   },
   {
    "duration": 234,
    "start_time": "2022-02-19T09:48:33.545Z"
   },
   {
    "duration": 34,
    "start_time": "2022-02-19T09:48:33.780Z"
   },
   {
    "duration": 14,
    "start_time": "2022-02-19T09:48:33.816Z"
   },
   {
    "duration": 5,
    "start_time": "2022-02-19T09:48:33.831Z"
   },
   {
    "duration": 6,
    "start_time": "2022-02-19T09:48:33.838Z"
   },
   {
    "duration": 5,
    "start_time": "2022-02-19T09:48:33.846Z"
   },
   {
    "duration": 380,
    "start_time": "2022-02-19T09:48:33.852Z"
   },
   {
    "duration": 16,
    "start_time": "2022-02-19T09:48:34.234Z"
   },
   {
    "duration": 8,
    "start_time": "2022-02-19T09:48:34.252Z"
   },
   {
    "duration": 5,
    "start_time": "2022-02-19T09:48:34.262Z"
   },
   {
    "duration": 73,
    "start_time": "2022-02-19T09:48:34.270Z"
   },
   {
    "duration": 5,
    "start_time": "2022-02-19T09:48:34.346Z"
   },
   {
    "duration": 125,
    "start_time": "2022-02-19T09:48:34.353Z"
   },
   {
    "duration": 1495,
    "start_time": "2022-02-19T09:48:34.480Z"
   },
   {
    "duration": 11,
    "start_time": "2022-02-19T09:48:35.977Z"
   },
   {
    "duration": 13,
    "start_time": "2022-02-19T09:48:35.990Z"
   },
   {
    "duration": 63,
    "start_time": "2022-02-19T09:48:36.005Z"
   },
   {
    "duration": 2,
    "start_time": "2022-02-19T09:48:36.069Z"
   },
   {
    "duration": 287,
    "start_time": "2022-02-19T09:48:36.073Z"
   },
   {
    "duration": 488,
    "start_time": "2022-02-19T09:48:36.362Z"
   },
   {
    "duration": 86,
    "start_time": "2022-02-19T09:48:36.851Z"
   },
   {
    "duration": 101,
    "start_time": "2022-02-19T09:48:36.939Z"
   },
   {
    "duration": 5,
    "start_time": "2022-02-19T09:48:37.042Z"
   },
   {
    "duration": 8,
    "start_time": "2022-02-19T09:48:37.048Z"
   },
   {
    "duration": 17,
    "start_time": "2022-02-19T09:48:37.058Z"
   },
   {
    "duration": 78,
    "start_time": "2022-02-19T09:48:37.076Z"
   },
   {
    "duration": 17,
    "start_time": "2022-02-19T09:48:37.156Z"
   },
   {
    "duration": 16,
    "start_time": "2022-02-19T09:48:37.175Z"
   },
   {
    "duration": 46,
    "start_time": "2022-02-19T09:48:37.192Z"
   },
   {
    "duration": 25,
    "start_time": "2022-02-19T09:48:37.240Z"
   },
   {
    "duration": 38,
    "start_time": "2022-02-19T09:48:37.267Z"
   },
   {
    "duration": 51,
    "start_time": "2022-02-19T09:48:37.307Z"
   },
   {
    "duration": 27,
    "start_time": "2022-02-19T09:48:37.359Z"
   },
   {
    "duration": 48,
    "start_time": "2022-02-19T09:48:37.388Z"
   },
   {
    "duration": 1112,
    "start_time": "2022-02-19T11:24:12.687Z"
   },
   {
    "duration": 4,
    "start_time": "2022-02-19T11:24:13.800Z"
   },
   {
    "duration": 117,
    "start_time": "2022-02-19T11:24:13.805Z"
   },
   {
    "duration": 104,
    "start_time": "2022-02-19T11:24:13.924Z"
   },
   {
    "duration": 9,
    "start_time": "2022-02-19T11:24:14.030Z"
   },
   {
    "duration": 16,
    "start_time": "2022-02-19T11:24:14.040Z"
   },
   {
    "duration": 18,
    "start_time": "2022-02-19T11:24:14.057Z"
   },
   {
    "duration": 11,
    "start_time": "2022-02-19T11:24:14.077Z"
   },
   {
    "duration": 186,
    "start_time": "2022-02-19T11:24:14.090Z"
   },
   {
    "duration": 8,
    "start_time": "2022-02-19T11:24:14.278Z"
   },
   {
    "duration": 168,
    "start_time": "2022-02-19T11:24:14.288Z"
   },
   {
    "duration": 84,
    "start_time": "2022-02-19T11:24:14.457Z"
   },
   {
    "duration": 211,
    "start_time": "2022-02-19T11:24:14.543Z"
   },
   {
    "duration": 34,
    "start_time": "2022-02-19T11:24:14.756Z"
   },
   {
    "duration": 6,
    "start_time": "2022-02-19T11:24:14.792Z"
   },
   {
    "duration": 32,
    "start_time": "2022-02-19T11:24:14.799Z"
   },
   {
    "duration": 13,
    "start_time": "2022-02-19T11:24:14.832Z"
   },
   {
    "duration": 26,
    "start_time": "2022-02-19T11:24:14.847Z"
   },
   {
    "duration": 352,
    "start_time": "2022-02-19T11:24:14.874Z"
   },
   {
    "duration": 17,
    "start_time": "2022-02-19T11:24:15.228Z"
   },
   {
    "duration": 6,
    "start_time": "2022-02-19T11:24:15.246Z"
   },
   {
    "duration": 20,
    "start_time": "2022-02-19T11:24:15.253Z"
   },
   {
    "duration": 48,
    "start_time": "2022-02-19T11:24:15.276Z"
   },
   {
    "duration": 4,
    "start_time": "2022-02-19T11:24:15.326Z"
   },
   {
    "duration": 100,
    "start_time": "2022-02-19T11:24:15.332Z"
   },
   {
    "duration": 1447,
    "start_time": "2022-02-19T11:24:15.434Z"
   },
   {
    "duration": 13,
    "start_time": "2022-02-19T11:24:16.883Z"
   },
   {
    "duration": 11,
    "start_time": "2022-02-19T11:24:16.897Z"
   },
   {
    "duration": 55,
    "start_time": "2022-02-19T11:24:16.910Z"
   },
   {
    "duration": 3,
    "start_time": "2022-02-19T11:24:16.966Z"
   },
   {
    "duration": 13891,
    "start_time": "2022-02-19T11:24:16.970Z"
   },
   {
    "duration": 473,
    "start_time": "2022-02-19T11:24:30.863Z"
   },
   {
    "duration": 28,
    "start_time": "2022-02-19T11:24:31.337Z"
   },
   {
    "duration": 89,
    "start_time": "2022-02-19T11:24:31.366Z"
   },
   {
    "duration": 5,
    "start_time": "2022-02-19T11:24:31.457Z"
   },
   {
    "duration": 5,
    "start_time": "2022-02-19T11:24:31.463Z"
   },
   {
    "duration": 66,
    "start_time": "2022-02-19T11:24:31.470Z"
   },
   {
    "duration": 18,
    "start_time": "2022-02-19T11:24:31.538Z"
   },
   {
    "duration": 14,
    "start_time": "2022-02-19T11:24:31.557Z"
   },
   {
    "duration": 13,
    "start_time": "2022-02-19T11:24:31.572Z"
   },
   {
    "duration": 12,
    "start_time": "2022-02-19T11:24:31.587Z"
   },
   {
    "duration": 52,
    "start_time": "2022-02-19T11:24:31.600Z"
   },
   {
    "duration": 36,
    "start_time": "2022-02-19T11:24:31.654Z"
   },
   {
    "duration": 49,
    "start_time": "2022-02-19T11:24:31.692Z"
   },
   {
    "duration": 26,
    "start_time": "2022-02-19T11:24:31.743Z"
   },
   {
    "duration": 26,
    "start_time": "2022-02-19T11:24:31.770Z"
   },
   {
    "duration": 9,
    "start_time": "2022-02-19T13:15:24.410Z"
   },
   {
    "duration": 10,
    "start_time": "2022-02-19T13:15:49.960Z"
   },
   {
    "duration": -111,
    "start_time": "2022-02-19T13:17:11.362Z"
   },
   {
    "duration": 21506,
    "start_time": "2022-02-19T13:17:12.517Z"
   },
   {
    "duration": 401,
    "start_time": "2022-02-19T13:17:50.160Z"
   },
   {
    "duration": 8286,
    "start_time": "2022-02-19T13:17:56.706Z"
   },
   {
    "duration": 201,
    "start_time": "2022-02-19T13:18:04.994Z"
   },
   {
    "duration": 70,
    "start_time": "2022-02-19T13:18:24.803Z"
   },
   {
    "duration": -275,
    "start_time": "2022-02-19T13:18:25.151Z"
   },
   {
    "duration": -279,
    "start_time": "2022-02-19T13:18:25.156Z"
   },
   {
    "duration": -283,
    "start_time": "2022-02-19T13:18:25.161Z"
   },
   {
    "duration": -286,
    "start_time": "2022-02-19T13:18:25.165Z"
   },
   {
    "duration": -290,
    "start_time": "2022-02-19T13:18:25.170Z"
   },
   {
    "duration": -292,
    "start_time": "2022-02-19T13:18:25.174Z"
   },
   {
    "duration": -297,
    "start_time": "2022-02-19T13:18:25.180Z"
   },
   {
    "duration": -301,
    "start_time": "2022-02-19T13:18:25.185Z"
   },
   {
    "duration": -305,
    "start_time": "2022-02-19T13:18:25.190Z"
   },
   {
    "duration": -309,
    "start_time": "2022-02-19T13:18:25.195Z"
   },
   {
    "duration": -327,
    "start_time": "2022-02-19T13:18:25.214Z"
   },
   {
    "duration": -331,
    "start_time": "2022-02-19T13:18:25.219Z"
   },
   {
    "duration": -336,
    "start_time": "2022-02-19T13:18:25.226Z"
   },
   {
    "duration": -338,
    "start_time": "2022-02-19T13:18:25.229Z"
   },
   {
    "duration": -341,
    "start_time": "2022-02-19T13:18:25.233Z"
   },
   {
    "duration": -345,
    "start_time": "2022-02-19T13:18:25.238Z"
   },
   {
    "duration": -351,
    "start_time": "2022-02-19T13:18:25.245Z"
   },
   {
    "duration": -356,
    "start_time": "2022-02-19T13:18:25.251Z"
   },
   {
    "duration": -360,
    "start_time": "2022-02-19T13:18:25.256Z"
   },
   {
    "duration": -363,
    "start_time": "2022-02-19T13:18:25.260Z"
   },
   {
    "duration": -366,
    "start_time": "2022-02-19T13:18:25.265Z"
   },
   {
    "duration": -369,
    "start_time": "2022-02-19T13:18:25.269Z"
   },
   {
    "duration": -374,
    "start_time": "2022-02-19T13:18:25.274Z"
   },
   {
    "duration": -378,
    "start_time": "2022-02-19T13:18:25.279Z"
   },
   {
    "duration": 276,
    "start_time": "2022-02-19T13:18:24.904Z"
   },
   {
    "duration": -401,
    "start_time": "2022-02-19T13:18:25.583Z"
   },
   {
    "duration": -402,
    "start_time": "2022-02-19T13:18:25.585Z"
   },
   {
    "duration": -404,
    "start_time": "2022-02-19T13:18:25.588Z"
   },
   {
    "duration": -405,
    "start_time": "2022-02-19T13:18:25.590Z"
   },
   {
    "duration": -407,
    "start_time": "2022-02-19T13:18:25.593Z"
   },
   {
    "duration": -409,
    "start_time": "2022-02-19T13:18:25.596Z"
   },
   {
    "duration": -411,
    "start_time": "2022-02-19T13:18:25.598Z"
   },
   {
    "duration": -413,
    "start_time": "2022-02-19T13:18:25.601Z"
   },
   {
    "duration": -415,
    "start_time": "2022-02-19T13:18:25.604Z"
   },
   {
    "duration": -416,
    "start_time": "2022-02-19T13:18:25.606Z"
   },
   {
    "duration": -419,
    "start_time": "2022-02-19T13:18:25.609Z"
   },
   {
    "duration": -421,
    "start_time": "2022-02-19T13:18:25.612Z"
   },
   {
    "duration": -423,
    "start_time": "2022-02-19T13:18:25.615Z"
   },
   {
    "duration": -424,
    "start_time": "2022-02-19T13:18:25.617Z"
   },
   {
    "duration": -426,
    "start_time": "2022-02-19T13:18:25.620Z"
   },
   {
    "duration": -427,
    "start_time": "2022-02-19T13:18:25.622Z"
   },
   {
    "duration": -429,
    "start_time": "2022-02-19T13:18:25.625Z"
   },
   {
    "duration": -438,
    "start_time": "2022-02-19T13:18:25.634Z"
   },
   {
    "duration": -441,
    "start_time": "2022-02-19T13:18:25.638Z"
   },
   {
    "duration": -443,
    "start_time": "2022-02-19T13:18:25.641Z"
   },
   {
    "duration": -445,
    "start_time": "2022-02-19T13:18:25.644Z"
   },
   {
    "duration": -446,
    "start_time": "2022-02-19T13:18:25.646Z"
   },
   {
    "duration": -447,
    "start_time": "2022-02-19T13:18:25.648Z"
   },
   {
    "duration": 59,
    "start_time": "2022-02-19T13:19:17.253Z"
   },
   {
    "duration": -179,
    "start_time": "2022-02-19T13:19:17.494Z"
   },
   {
    "duration": -181,
    "start_time": "2022-02-19T13:19:17.498Z"
   },
   {
    "duration": -183,
    "start_time": "2022-02-19T13:19:17.501Z"
   },
   {
    "duration": -184,
    "start_time": "2022-02-19T13:19:17.503Z"
   },
   {
    "duration": -186,
    "start_time": "2022-02-19T13:19:17.506Z"
   },
   {
    "duration": -188,
    "start_time": "2022-02-19T13:19:17.509Z"
   },
   {
    "duration": -189,
    "start_time": "2022-02-19T13:19:17.511Z"
   },
   {
    "duration": -192,
    "start_time": "2022-02-19T13:19:17.514Z"
   },
   {
    "duration": -195,
    "start_time": "2022-02-19T13:19:17.518Z"
   },
   {
    "duration": -195,
    "start_time": "2022-02-19T13:19:17.520Z"
   },
   {
    "duration": -196,
    "start_time": "2022-02-19T13:19:17.522Z"
   },
   {
    "duration": -198,
    "start_time": "2022-02-19T13:19:17.525Z"
   },
   {
    "duration": -200,
    "start_time": "2022-02-19T13:19:17.528Z"
   },
   {
    "duration": -201,
    "start_time": "2022-02-19T13:19:17.530Z"
   },
   {
    "duration": -204,
    "start_time": "2022-02-19T13:19:17.534Z"
   },
   {
    "duration": -206,
    "start_time": "2022-02-19T13:19:17.537Z"
   },
   {
    "duration": -207,
    "start_time": "2022-02-19T13:19:17.539Z"
   },
   {
    "duration": -209,
    "start_time": "2022-02-19T13:19:17.542Z"
   },
   {
    "duration": -210,
    "start_time": "2022-02-19T13:19:17.544Z"
   },
   {
    "duration": -212,
    "start_time": "2022-02-19T13:19:17.547Z"
   },
   {
    "duration": -214,
    "start_time": "2022-02-19T13:19:17.550Z"
   },
   {
    "duration": -215,
    "start_time": "2022-02-19T13:19:17.552Z"
   },
   {
    "duration": -217,
    "start_time": "2022-02-19T13:19:17.555Z"
   },
   {
    "duration": -219,
    "start_time": "2022-02-19T13:19:17.558Z"
   },
   {
    "duration": -220,
    "start_time": "2022-02-19T13:19:17.560Z"
   },
   {
    "duration": -222,
    "start_time": "2022-02-19T13:19:17.563Z"
   },
   {
    "duration": -223,
    "start_time": "2022-02-19T13:19:17.565Z"
   },
   {
    "duration": 240,
    "start_time": "2022-02-19T13:19:17.345Z"
   },
   {
    "duration": -265,
    "start_time": "2022-02-19T13:19:17.852Z"
   },
   {
    "duration": -266,
    "start_time": "2022-02-19T13:19:17.855Z"
   },
   {
    "duration": -269,
    "start_time": "2022-02-19T13:19:17.859Z"
   },
   {
    "duration": -272,
    "start_time": "2022-02-19T13:19:17.863Z"
   },
   {
    "duration": -275,
    "start_time": "2022-02-19T13:19:17.867Z"
   },
   {
    "duration": -277,
    "start_time": "2022-02-19T13:19:17.870Z"
   },
   {
    "duration": -281,
    "start_time": "2022-02-19T13:19:17.875Z"
   },
   {
    "duration": -284,
    "start_time": "2022-02-19T13:19:17.879Z"
   },
   {
    "duration": -287,
    "start_time": "2022-02-19T13:19:17.883Z"
   },
   {
    "duration": -288,
    "start_time": "2022-02-19T13:19:17.886Z"
   },
   {
    "duration": -290,
    "start_time": "2022-02-19T13:19:17.889Z"
   },
   {
    "duration": -293,
    "start_time": "2022-02-19T13:19:17.894Z"
   },
   {
    "duration": -295,
    "start_time": "2022-02-19T13:19:17.897Z"
   },
   {
    "duration": -298,
    "start_time": "2022-02-19T13:19:17.901Z"
   },
   {
    "duration": -299,
    "start_time": "2022-02-19T13:19:17.904Z"
   },
   {
    "duration": -302,
    "start_time": "2022-02-19T13:19:17.908Z"
   },
   {
    "duration": -305,
    "start_time": "2022-02-19T13:19:17.912Z"
   },
   {
    "duration": -307,
    "start_time": "2022-02-19T13:19:17.915Z"
   },
   {
    "duration": -311,
    "start_time": "2022-02-19T13:19:17.920Z"
   },
   {
    "duration": -314,
    "start_time": "2022-02-19T13:19:17.924Z"
   },
   {
    "duration": 1124,
    "start_time": "2022-02-19T13:19:53.723Z"
   },
   {
    "duration": 5,
    "start_time": "2022-02-19T13:19:54.849Z"
   },
   {
    "duration": 113,
    "start_time": "2022-02-19T13:19:54.856Z"
   },
   {
    "duration": 114,
    "start_time": "2022-02-19T13:19:54.971Z"
   },
   {
    "duration": 9,
    "start_time": "2022-02-19T13:19:55.088Z"
   },
   {
    "duration": 8,
    "start_time": "2022-02-19T13:19:55.099Z"
   },
   {
    "duration": 7,
    "start_time": "2022-02-19T13:19:55.109Z"
   },
   {
    "duration": 12,
    "start_time": "2022-02-19T13:19:55.130Z"
   },
   {
    "duration": 212,
    "start_time": "2022-02-19T13:19:55.144Z"
   },
   {
    "duration": 9,
    "start_time": "2022-02-19T13:19:55.359Z"
   },
   {
    "duration": 175,
    "start_time": "2022-02-19T13:19:55.370Z"
   },
   {
    "duration": 102,
    "start_time": "2022-02-19T13:19:55.547Z"
   },
   {
    "duration": 262,
    "start_time": "2022-02-19T13:19:55.651Z"
   },
   {
    "duration": 43,
    "start_time": "2022-02-19T13:19:55.915Z"
   },
   {
    "duration": 6,
    "start_time": "2022-02-19T13:19:55.960Z"
   },
   {
    "duration": 4,
    "start_time": "2022-02-19T13:19:55.967Z"
   },
   {
    "duration": 5,
    "start_time": "2022-02-19T13:19:55.973Z"
   },
   {
    "duration": 3,
    "start_time": "2022-02-19T13:19:55.980Z"
   },
   {
    "duration": 380,
    "start_time": "2022-02-19T13:19:55.985Z"
   },
   {
    "duration": 15,
    "start_time": "2022-02-19T13:19:56.367Z"
   },
   {
    "duration": 6,
    "start_time": "2022-02-19T13:19:56.384Z"
   },
   {
    "duration": 8,
    "start_time": "2022-02-19T13:19:56.392Z"
   },
   {
    "duration": 32,
    "start_time": "2022-02-19T13:19:56.402Z"
   },
   {
    "duration": 40,
    "start_time": "2022-02-19T13:19:56.436Z"
   },
   {
    "duration": 6,
    "start_time": "2022-02-19T13:19:56.478Z"
   },
   {
    "duration": 121,
    "start_time": "2022-02-19T13:19:56.486Z"
   },
   {
    "duration": 1491,
    "start_time": "2022-02-19T13:19:56.611Z"
   },
   {
    "duration": 13,
    "start_time": "2022-02-19T13:19:58.104Z"
   },
   {
    "duration": 13,
    "start_time": "2022-02-19T13:19:58.131Z"
   },
   {
    "duration": 42,
    "start_time": "2022-02-19T13:19:58.146Z"
   },
   {
    "duration": 42342,
    "start_time": "2022-02-19T13:19:58.190Z"
   },
   {
    "duration": 528,
    "start_time": "2022-02-19T13:20:40.534Z"
   },
   {
    "duration": 3,
    "start_time": "2022-02-19T13:20:41.064Z"
   },
   {
    "duration": 18,
    "start_time": "2022-02-19T13:20:41.069Z"
   },
   {
    "duration": 66,
    "start_time": "2022-02-19T13:20:41.089Z"
   },
   {
    "duration": 92,
    "start_time": "2022-02-19T13:20:41.156Z"
   },
   {
    "duration": 4,
    "start_time": "2022-02-19T13:20:41.250Z"
   },
   {
    "duration": 5,
    "start_time": "2022-02-19T13:20:41.256Z"
   },
   {
    "duration": 18,
    "start_time": "2022-02-19T13:20:41.263Z"
   },
   {
    "duration": 61,
    "start_time": "2022-02-19T13:20:41.283Z"
   },
   {
    "duration": 16,
    "start_time": "2022-02-19T13:20:41.346Z"
   },
   {
    "duration": 16,
    "start_time": "2022-02-19T13:20:41.364Z"
   },
   {
    "duration": 14,
    "start_time": "2022-02-19T13:20:41.382Z"
   },
   {
    "duration": 22,
    "start_time": "2022-02-19T13:20:41.431Z"
   },
   {
    "duration": 35,
    "start_time": "2022-02-19T13:20:41.455Z"
   },
   {
    "duration": 46,
    "start_time": "2022-02-19T13:20:41.492Z"
   },
   {
    "duration": 27,
    "start_time": "2022-02-19T13:20:41.540Z"
   },
   {
    "duration": 28,
    "start_time": "2022-02-19T13:20:41.568Z"
   },
   {
    "duration": 104927,
    "start_time": "2022-02-19T13:20:52.569Z"
   },
   {
    "duration": 3,
    "start_time": "2022-02-19T13:23:37.200Z"
   },
   {
    "duration": 348,
    "start_time": "2022-02-19T13:29:00.496Z"
   },
   {
    "duration": 6,
    "start_time": "2022-02-19T13:29:15.830Z"
   },
   {
    "duration": 9,
    "start_time": "2022-02-19T13:29:23.172Z"
   },
   {
    "duration": 7,
    "start_time": "2022-02-19T13:29:33.265Z"
   },
   {
    "duration": 15,
    "start_time": "2022-02-19T13:29:38.489Z"
   },
   {
    "duration": 10,
    "start_time": "2022-02-19T13:30:37.060Z"
   },
   {
    "duration": 11,
    "start_time": "2022-02-19T13:30:49.028Z"
   },
   {
    "duration": 10,
    "start_time": "2022-02-19T13:30:54.500Z"
   },
   {
    "duration": 11,
    "start_time": "2022-02-19T13:31:02.119Z"
   },
   {
    "duration": 11,
    "start_time": "2022-02-19T13:31:09.033Z"
   },
   {
    "duration": 11,
    "start_time": "2022-02-19T13:31:11.906Z"
   },
   {
    "duration": 13,
    "start_time": "2022-02-19T13:36:47.779Z"
   },
   {
    "duration": 19,
    "start_time": "2022-02-19T13:38:16.482Z"
   },
   {
    "duration": 26,
    "start_time": "2022-02-19T13:38:54.327Z"
   },
   {
    "duration": 7,
    "start_time": "2022-02-19T13:39:19.201Z"
   },
   {
    "duration": 11,
    "start_time": "2022-02-19T13:40:13.696Z"
   },
   {
    "duration": 11,
    "start_time": "2022-02-19T13:41:21.578Z"
   },
   {
    "duration": 12,
    "start_time": "2022-02-19T13:41:37.678Z"
   },
   {
    "duration": 3,
    "start_time": "2022-02-19T13:50:16.367Z"
   },
   {
    "duration": 2,
    "start_time": "2022-02-19T13:50:16.853Z"
   },
   {
    "duration": 7,
    "start_time": "2022-02-19T14:04:00.803Z"
   },
   {
    "duration": 228,
    "start_time": "2022-02-19T14:04:36.844Z"
   },
   {
    "duration": 194,
    "start_time": "2022-02-19T14:04:51.789Z"
   },
   {
    "duration": 195,
    "start_time": "2022-02-19T14:05:44.136Z"
   },
   {
    "duration": 333,
    "start_time": "2022-02-19T14:05:54.206Z"
   },
   {
    "duration": 23,
    "start_time": "2022-02-19T14:07:43.259Z"
   },
   {
    "duration": 45,
    "start_time": "2022-02-19T14:07:54.656Z"
   },
   {
    "duration": 18,
    "start_time": "2022-02-19T14:08:34.377Z"
   },
   {
    "duration": 14,
    "start_time": "2022-02-19T14:09:49.072Z"
   },
   {
    "duration": 2,
    "start_time": "2022-02-19T14:10:28.461Z"
   },
   {
    "duration": 5,
    "start_time": "2022-02-19T14:15:46.080Z"
   },
   {
    "duration": 18,
    "start_time": "2022-02-19T14:16:02.875Z"
   },
   {
    "duration": 54,
    "start_time": "2022-02-19T14:17:39.721Z"
   },
   {
    "duration": 54,
    "start_time": "2022-02-19T14:17:52.985Z"
   },
   {
    "duration": 56,
    "start_time": "2022-02-19T14:18:09.225Z"
   },
   {
    "duration": 60,
    "start_time": "2022-02-19T14:19:00.997Z"
   },
   {
    "duration": 64,
    "start_time": "2022-02-19T14:20:25.695Z"
   },
   {
    "duration": 63,
    "start_time": "2022-02-19T14:21:39.995Z"
   },
   {
    "duration": 55,
    "start_time": "2022-02-19T14:21:57.810Z"
   },
   {
    "duration": 66,
    "start_time": "2022-02-19T14:23:03.145Z"
   },
   {
    "duration": 68,
    "start_time": "2022-02-19T14:24:55.057Z"
   },
   {
    "duration": 72,
    "start_time": "2022-02-19T14:27:19.746Z"
   },
   {
    "duration": 69,
    "start_time": "2022-02-19T14:27:32.194Z"
   },
   {
    "duration": 4,
    "start_time": "2022-02-19T14:27:55.572Z"
   },
   {
    "duration": 69,
    "start_time": "2022-02-19T14:28:25.869Z"
   },
   {
    "duration": 60,
    "start_time": "2022-02-19T14:31:03.330Z"
   },
   {
    "duration": 1715,
    "start_time": "2022-02-20T10:50:08.046Z"
   },
   {
    "duration": 5,
    "start_time": "2022-02-20T10:50:09.764Z"
   },
   {
    "duration": 181,
    "start_time": "2022-02-20T10:50:09.772Z"
   },
   {
    "duration": 172,
    "start_time": "2022-02-20T10:50:09.956Z"
   },
   {
    "duration": 15,
    "start_time": "2022-02-20T10:50:10.130Z"
   },
   {
    "duration": 23,
    "start_time": "2022-02-20T10:50:10.147Z"
   },
   {
    "duration": 11,
    "start_time": "2022-02-20T10:50:10.172Z"
   },
   {
    "duration": 20,
    "start_time": "2022-02-20T10:50:10.188Z"
   },
   {
    "duration": 331,
    "start_time": "2022-02-20T10:50:10.212Z"
   },
   {
    "duration": 23,
    "start_time": "2022-02-20T10:50:10.546Z"
   },
   {
    "duration": 258,
    "start_time": "2022-02-20T10:50:10.571Z"
   },
   {
    "duration": 141,
    "start_time": "2022-02-20T10:50:10.832Z"
   },
   {
    "duration": 319,
    "start_time": "2022-02-20T10:50:10.976Z"
   },
   {
    "duration": 64,
    "start_time": "2022-02-20T10:50:11.297Z"
   },
   {
    "duration": 10,
    "start_time": "2022-02-20T10:50:11.363Z"
   },
   {
    "duration": 8,
    "start_time": "2022-02-20T10:50:11.376Z"
   },
   {
    "duration": 8,
    "start_time": "2022-02-20T10:50:11.386Z"
   },
   {
    "duration": 6,
    "start_time": "2022-02-20T10:50:11.396Z"
   },
   {
    "duration": 648,
    "start_time": "2022-02-20T10:50:11.405Z"
   },
   {
    "duration": 24,
    "start_time": "2022-02-20T10:50:12.060Z"
   },
   {
    "duration": 11,
    "start_time": "2022-02-20T10:50:12.087Z"
   },
   {
    "duration": 15,
    "start_time": "2022-02-20T10:50:12.100Z"
   },
   {
    "duration": 48,
    "start_time": "2022-02-20T10:50:12.121Z"
   },
   {
    "duration": 61,
    "start_time": "2022-02-20T10:50:12.172Z"
   },
   {
    "duration": 8,
    "start_time": "2022-02-20T10:50:12.236Z"
   },
   {
    "duration": 164,
    "start_time": "2022-02-20T10:50:12.262Z"
   },
   {
    "duration": 3243,
    "start_time": "2022-02-20T10:50:12.429Z"
   },
   {
    "duration": 20,
    "start_time": "2022-02-20T10:50:15.675Z"
   },
   {
    "duration": 18,
    "start_time": "2022-02-20T10:50:15.698Z"
   },
   {
    "duration": 114,
    "start_time": "2022-02-20T10:50:15.719Z"
   },
   {
    "duration": 4,
    "start_time": "2022-02-20T10:50:15.836Z"
   },
   {
    "duration": 24026,
    "start_time": "2022-02-20T10:50:15.843Z"
   },
   {
    "duration": -1216,
    "start_time": "2022-02-20T10:50:41.088Z"
   },
   {
    "duration": -1220,
    "start_time": "2022-02-20T10:50:41.093Z"
   },
   {
    "duration": -1221,
    "start_time": "2022-02-20T10:50:41.096Z"
   },
   {
    "duration": -1223,
    "start_time": "2022-02-20T10:50:41.100Z"
   },
   {
    "duration": -1237,
    "start_time": "2022-02-20T10:50:41.115Z"
   },
   {
    "duration": -1245,
    "start_time": "2022-02-20T10:50:41.124Z"
   },
   {
    "duration": -1248,
    "start_time": "2022-02-20T10:50:41.129Z"
   },
   {
    "duration": -1250,
    "start_time": "2022-02-20T10:50:41.132Z"
   },
   {
    "duration": -1252,
    "start_time": "2022-02-20T10:50:41.136Z"
   },
   {
    "duration": -1254,
    "start_time": "2022-02-20T10:50:41.139Z"
   },
   {
    "duration": -1255,
    "start_time": "2022-02-20T10:50:41.142Z"
   },
   {
    "duration": -1257,
    "start_time": "2022-02-20T10:50:41.145Z"
   },
   {
    "duration": -1258,
    "start_time": "2022-02-20T10:50:41.148Z"
   },
   {
    "duration": -1263,
    "start_time": "2022-02-20T10:50:41.155Z"
   },
   {
    "duration": -1266,
    "start_time": "2022-02-20T10:50:41.159Z"
   },
   {
    "duration": -1267,
    "start_time": "2022-02-20T10:50:41.162Z"
   },
   {
    "duration": -1269,
    "start_time": "2022-02-20T10:50:41.165Z"
   },
   {
    "duration": -1270,
    "start_time": "2022-02-20T10:50:41.168Z"
   },
   {
    "duration": -1271,
    "start_time": "2022-02-20T10:50:41.171Z"
   },
   {
    "duration": -1278,
    "start_time": "2022-02-20T10:50:41.180Z"
   },
   {
    "duration": -1281,
    "start_time": "2022-02-20T10:50:41.184Z"
   },
   {
    "duration": -1282,
    "start_time": "2022-02-20T10:50:41.187Z"
   },
   {
    "duration": -1285,
    "start_time": "2022-02-20T10:50:41.191Z"
   },
   {
    "duration": -1288,
    "start_time": "2022-02-20T10:50:41.196Z"
   },
   {
    "duration": 4523,
    "start_time": "2022-02-20T10:53:28.980Z"
   },
   {
    "duration": -1306,
    "start_time": "2022-02-20T10:53:34.813Z"
   },
   {
    "duration": -1314,
    "start_time": "2022-02-20T10:53:34.823Z"
   },
   {
    "duration": -1317,
    "start_time": "2022-02-20T10:53:34.827Z"
   },
   {
    "duration": -1321,
    "start_time": "2022-02-20T10:53:34.833Z"
   },
   {
    "duration": -1323,
    "start_time": "2022-02-20T10:53:34.837Z"
   },
   {
    "duration": -1325,
    "start_time": "2022-02-20T10:53:34.840Z"
   },
   {
    "duration": -1327,
    "start_time": "2022-02-20T10:53:34.844Z"
   },
   {
    "duration": -1329,
    "start_time": "2022-02-20T10:53:34.847Z"
   },
   {
    "duration": -1333,
    "start_time": "2022-02-20T10:53:34.853Z"
   },
   {
    "duration": -1336,
    "start_time": "2022-02-20T10:53:34.858Z"
   },
   {
    "duration": -1340,
    "start_time": "2022-02-20T10:53:34.863Z"
   },
   {
    "duration": -1342,
    "start_time": "2022-02-20T10:53:34.866Z"
   },
   {
    "duration": -1352,
    "start_time": "2022-02-20T10:53:34.878Z"
   },
   {
    "duration": -1354,
    "start_time": "2022-02-20T10:53:34.881Z"
   },
   {
    "duration": -1381,
    "start_time": "2022-02-20T10:53:34.910Z"
   },
   {
    "duration": -1382,
    "start_time": "2022-02-20T10:53:34.913Z"
   },
   {
    "duration": -1388,
    "start_time": "2022-02-20T10:53:34.920Z"
   },
   {
    "duration": -1392,
    "start_time": "2022-02-20T10:53:34.926Z"
   },
   {
    "duration": -1395,
    "start_time": "2022-02-20T10:53:34.930Z"
   },
   {
    "duration": -1399,
    "start_time": "2022-02-20T10:53:34.935Z"
   },
   {
    "duration": -1420,
    "start_time": "2022-02-20T10:53:34.958Z"
   },
   {
    "duration": -1423,
    "start_time": "2022-02-20T10:53:34.963Z"
   },
   {
    "duration": -1427,
    "start_time": "2022-02-20T10:53:34.968Z"
   },
   {
    "duration": -1430,
    "start_time": "2022-02-20T10:53:34.972Z"
   },
   {
    "duration": 2095,
    "start_time": "2022-02-20T10:54:02.817Z"
   },
   {
    "duration": 7,
    "start_time": "2022-02-20T10:54:04.916Z"
   },
   {
    "duration": 173,
    "start_time": "2022-02-20T10:54:04.927Z"
   },
   {
    "duration": 214,
    "start_time": "2022-02-20T10:54:05.103Z"
   },
   {
    "duration": 21,
    "start_time": "2022-02-20T10:54:05.321Z"
   },
   {
    "duration": 12,
    "start_time": "2022-02-20T10:54:05.362Z"
   },
   {
    "duration": 14,
    "start_time": "2022-02-20T10:54:05.378Z"
   },
   {
    "duration": 18,
    "start_time": "2022-02-20T10:54:05.398Z"
   },
   {
    "duration": 503,
    "start_time": "2022-02-20T10:54:05.420Z"
   },
   {
    "duration": 35,
    "start_time": "2022-02-20T10:54:05.926Z"
   },
   {
    "duration": 352,
    "start_time": "2022-02-20T10:54:05.964Z"
   },
   {
    "duration": 160,
    "start_time": "2022-02-20T10:54:06.318Z"
   },
   {
    "duration": 517,
    "start_time": "2022-02-20T10:54:06.481Z"
   },
   {
    "duration": 91,
    "start_time": "2022-02-20T10:54:07.001Z"
   },
   {
    "duration": 14,
    "start_time": "2022-02-20T10:54:07.095Z"
   },
   {
    "duration": 10,
    "start_time": "2022-02-20T10:54:07.112Z"
   },
   {
    "duration": 39,
    "start_time": "2022-02-20T10:54:07.125Z"
   },
   {
    "duration": 9,
    "start_time": "2022-02-20T10:54:07.167Z"
   },
   {
    "duration": 841,
    "start_time": "2022-02-20T10:54:07.179Z"
   },
   {
    "duration": 39,
    "start_time": "2022-02-20T10:54:08.023Z"
   },
   {
    "duration": 10,
    "start_time": "2022-02-20T10:54:08.065Z"
   },
   {
    "duration": 12,
    "start_time": "2022-02-20T10:54:08.077Z"
   },
   {
    "duration": 10,
    "start_time": "2022-02-20T10:54:08.094Z"
   },
   {
    "duration": 100,
    "start_time": "2022-02-20T10:54:08.107Z"
   },
   {
    "duration": 8,
    "start_time": "2022-02-20T10:54:08.209Z"
   },
   {
    "duration": 184,
    "start_time": "2022-02-20T10:54:08.220Z"
   },
   {
    "duration": 3085,
    "start_time": "2022-02-20T10:54:08.406Z"
   },
   {
    "duration": 19,
    "start_time": "2022-02-20T10:54:11.494Z"
   },
   {
    "duration": 18,
    "start_time": "2022-02-20T10:54:11.516Z"
   },
   {
    "duration": 84,
    "start_time": "2022-02-20T10:54:11.536Z"
   },
   {
    "duration": 3,
    "start_time": "2022-02-20T10:54:11.623Z"
   },
   {
    "duration": 5494,
    "start_time": "2022-02-20T10:54:11.629Z"
   },
   {
    "duration": 4,
    "start_time": "2022-02-20T10:54:17.125Z"
   },
   {
    "duration": 14,
    "start_time": "2022-02-20T10:54:17.160Z"
   },
   {
    "duration": 518,
    "start_time": "2022-02-20T10:54:17.177Z"
   },
   {
    "duration": -3548,
    "start_time": "2022-02-20T10:54:21.245Z"
   },
   {
    "duration": -3553,
    "start_time": "2022-02-20T10:54:21.252Z"
   },
   {
    "duration": -3558,
    "start_time": "2022-02-20T10:54:21.258Z"
   },
   {
    "duration": -3568,
    "start_time": "2022-02-20T10:54:21.270Z"
   },
   {
    "duration": -3570,
    "start_time": "2022-02-20T10:54:21.274Z"
   },
   {
    "duration": -3573,
    "start_time": "2022-02-20T10:54:21.278Z"
   },
   {
    "duration": -3576,
    "start_time": "2022-02-20T10:54:21.282Z"
   },
   {
    "duration": -3577,
    "start_time": "2022-02-20T10:54:21.285Z"
   },
   {
    "duration": -3579,
    "start_time": "2022-02-20T10:54:21.289Z"
   },
   {
    "duration": -3580,
    "start_time": "2022-02-20T10:54:21.292Z"
   },
   {
    "duration": -3582,
    "start_time": "2022-02-20T10:54:21.296Z"
   },
   {
    "duration": -3584,
    "start_time": "2022-02-20T10:54:21.301Z"
   },
   {
    "duration": -3586,
    "start_time": "2022-02-20T10:54:21.305Z"
   },
   {
    "duration": -3588,
    "start_time": "2022-02-20T10:54:21.309Z"
   },
   {
    "duration": -3619,
    "start_time": "2022-02-20T10:54:21.342Z"
   },
   {
    "duration": -3621,
    "start_time": "2022-02-20T10:54:21.346Z"
   },
   {
    "duration": -3624,
    "start_time": "2022-02-20T10:54:21.351Z"
   },
   {
    "duration": -3626,
    "start_time": "2022-02-20T10:54:21.355Z"
   },
   {
    "duration": -3629,
    "start_time": "2022-02-20T10:54:21.360Z"
   },
   {
    "duration": -3630,
    "start_time": "2022-02-20T10:54:21.364Z"
   },
   {
    "duration": -3609,
    "start_time": "2022-02-20T10:54:21.369Z"
   },
   {
    "duration": 51,
    "start_time": "2022-02-20T10:54:31.088Z"
   },
   {
    "duration": 48,
    "start_time": "2022-02-20T10:55:09.109Z"
   },
   {
    "duration": 15,
    "start_time": "2022-02-20T10:55:15.899Z"
   },
   {
    "duration": 16,
    "start_time": "2022-02-20T10:55:15.917Z"
   },
   {
    "duration": 14,
    "start_time": "2022-02-20T10:55:15.936Z"
   },
   {
    "duration": 44,
    "start_time": "2022-02-20T10:55:15.953Z"
   },
   {
    "duration": 3,
    "start_time": "2022-02-20T10:55:15.999Z"
   },
   {
    "duration": 5,
    "start_time": "2022-02-20T10:55:16.005Z"
   },
   {
    "duration": 9,
    "start_time": "2022-02-20T10:55:16.012Z"
   },
   {
    "duration": 24,
    "start_time": "2022-02-20T10:55:16.060Z"
   },
   {
    "duration": 1048,
    "start_time": "2022-02-20T10:55:16.087Z"
   },
   {
    "duration": -1229,
    "start_time": "2022-02-20T10:55:18.366Z"
   },
   {
    "duration": -1305,
    "start_time": "2022-02-20T10:55:18.444Z"
   },
   {
    "duration": -1310,
    "start_time": "2022-02-20T10:55:18.450Z"
   },
   {
    "duration": -1315,
    "start_time": "2022-02-20T10:55:18.456Z"
   },
   {
    "duration": -1318,
    "start_time": "2022-02-20T10:55:18.461Z"
   },
   {
    "duration": -1322,
    "start_time": "2022-02-20T10:55:18.466Z"
   },
   {
    "duration": -1327,
    "start_time": "2022-02-20T10:55:18.472Z"
   },
   {
    "duration": -1330,
    "start_time": "2022-02-20T10:55:18.476Z"
   },
   {
    "duration": -1333,
    "start_time": "2022-02-20T10:55:18.481Z"
   },
   {
    "duration": -1336,
    "start_time": "2022-02-20T10:55:18.485Z"
   },
   {
    "duration": -1340,
    "start_time": "2022-02-20T10:55:18.491Z"
   },
   {
    "duration": -1343,
    "start_time": "2022-02-20T10:55:18.496Z"
   },
   {
    "duration": 8,
    "start_time": "2022-02-20T10:56:49.856Z"
   },
   {
    "duration": 30,
    "start_time": "2022-02-20T10:56:49.866Z"
   },
   {
    "duration": 66,
    "start_time": "2022-02-20T10:56:49.900Z"
   },
   {
    "duration": 21,
    "start_time": "2022-02-20T10:56:49.969Z"
   },
   {
    "duration": 21,
    "start_time": "2022-02-20T10:56:49.992Z"
   },
   {
    "duration": 62,
    "start_time": "2022-02-20T10:56:50.016Z"
   },
   {
    "duration": 33,
    "start_time": "2022-02-20T10:56:50.080Z"
   },
   {
    "duration": 73,
    "start_time": "2022-02-20T10:56:50.116Z"
   },
   {
    "duration": 41,
    "start_time": "2022-02-20T10:56:50.192Z"
   },
   {
    "duration": 63,
    "start_time": "2022-02-20T10:56:50.235Z"
   },
   {
    "duration": 62,
    "start_time": "2022-02-20T10:56:50.300Z"
   },
   {
    "duration": 4,
    "start_time": "2022-02-20T10:56:50.364Z"
   },
   {
    "duration": 31,
    "start_time": "2022-02-20T10:56:50.371Z"
   },
   {
    "duration": 8,
    "start_time": "2022-02-20T10:56:50.405Z"
   },
   {
    "duration": 145,
    "start_time": "2022-02-20T10:56:50.417Z"
   },
   {
    "duration": 1304,
    "start_time": "2022-07-13T19:41:50.219Z"
   },
   {
    "duration": 12,
    "start_time": "2022-07-13T19:41:51.526Z"
   },
   {
    "duration": 857,
    "start_time": "2022-07-13T19:41:51.540Z"
   },
   {
    "duration": 171,
    "start_time": "2022-07-13T19:41:52.399Z"
   },
   {
    "duration": 14,
    "start_time": "2022-07-13T19:41:52.572Z"
   },
   {
    "duration": 19,
    "start_time": "2022-07-13T19:41:52.588Z"
   },
   {
    "duration": 30,
    "start_time": "2022-07-13T19:41:52.610Z"
   },
   {
    "duration": 13,
    "start_time": "2022-07-13T19:41:52.641Z"
   },
   {
    "duration": 241,
    "start_time": "2022-07-13T19:41:52.656Z"
   },
   {
    "duration": 17,
    "start_time": "2022-07-13T19:41:52.905Z"
   },
   {
    "duration": 253,
    "start_time": "2022-07-13T19:41:52.925Z"
   },
   {
    "duration": 165,
    "start_time": "2022-07-13T19:41:53.180Z"
   },
   {
    "duration": 347,
    "start_time": "2022-07-13T19:41:53.347Z"
   },
   {
    "duration": 58,
    "start_time": "2022-07-13T19:41:53.703Z"
   },
   {
    "duration": 6,
    "start_time": "2022-07-13T19:41:53.763Z"
   },
   {
    "duration": 8,
    "start_time": "2022-07-13T19:41:53.771Z"
   },
   {
    "duration": 27,
    "start_time": "2022-07-13T19:41:53.781Z"
   },
   {
    "duration": 7,
    "start_time": "2022-07-13T19:41:53.810Z"
   },
   {
    "duration": 340,
    "start_time": "2022-07-13T19:41:53.819Z"
   },
   {
    "duration": 18,
    "start_time": "2022-07-13T19:41:54.161Z"
   },
   {
    "duration": 30,
    "start_time": "2022-07-13T19:41:54.180Z"
   },
   {
    "duration": 26,
    "start_time": "2022-07-13T19:41:54.212Z"
   },
   {
    "duration": 10,
    "start_time": "2022-07-13T19:41:54.240Z"
   },
   {
    "duration": 70,
    "start_time": "2022-07-13T19:41:54.252Z"
   },
   {
    "duration": 6,
    "start_time": "2022-07-13T19:41:54.324Z"
   },
   {
    "duration": 148,
    "start_time": "2022-07-13T19:41:54.332Z"
   },
   {
    "duration": 1522,
    "start_time": "2022-07-13T19:41:54.482Z"
   },
   {
    "duration": 19,
    "start_time": "2022-07-13T19:41:56.006Z"
   },
   {
    "duration": 25,
    "start_time": "2022-07-13T19:41:56.028Z"
   },
   {
    "duration": 66,
    "start_time": "2022-07-13T19:41:56.055Z"
   },
   {
    "duration": 3,
    "start_time": "2022-07-13T19:41:56.123Z"
   },
   {
    "duration": 47122,
    "start_time": "2022-07-13T19:41:56.128Z"
   },
   {
    "duration": 0,
    "start_time": "2022-07-13T19:42:43.254Z"
   },
   {
    "duration": 0,
    "start_time": "2022-07-13T19:42:43.255Z"
   },
   {
    "duration": 0,
    "start_time": "2022-07-13T19:42:43.256Z"
   },
   {
    "duration": 0,
    "start_time": "2022-07-13T19:42:43.257Z"
   },
   {
    "duration": 0,
    "start_time": "2022-07-13T19:42:43.258Z"
   },
   {
    "duration": 0,
    "start_time": "2022-07-13T19:42:43.259Z"
   },
   {
    "duration": 0,
    "start_time": "2022-07-13T19:42:43.260Z"
   },
   {
    "duration": 0,
    "start_time": "2022-07-13T19:42:43.262Z"
   },
   {
    "duration": 0,
    "start_time": "2022-07-13T19:42:43.263Z"
   },
   {
    "duration": 0,
    "start_time": "2022-07-13T19:42:43.264Z"
   },
   {
    "duration": 0,
    "start_time": "2022-07-13T19:42:43.265Z"
   },
   {
    "duration": 0,
    "start_time": "2022-07-13T19:42:43.266Z"
   },
   {
    "duration": 0,
    "start_time": "2022-07-13T19:42:43.267Z"
   },
   {
    "duration": 0,
    "start_time": "2022-07-13T19:42:43.268Z"
   },
   {
    "duration": 0,
    "start_time": "2022-07-13T19:42:43.269Z"
   },
   {
    "duration": 0,
    "start_time": "2022-07-13T19:42:43.270Z"
   },
   {
    "duration": 0,
    "start_time": "2022-07-13T19:42:43.272Z"
   },
   {
    "duration": 0,
    "start_time": "2022-07-13T19:42:43.306Z"
   },
   {
    "duration": 0,
    "start_time": "2022-07-13T19:42:43.307Z"
   },
   {
    "duration": 0,
    "start_time": "2022-07-13T19:42:43.309Z"
   },
   {
    "duration": 0,
    "start_time": "2022-07-13T19:42:43.310Z"
   },
   {
    "duration": 0,
    "start_time": "2022-07-13T19:42:43.312Z"
   },
   {
    "duration": 0,
    "start_time": "2022-07-13T19:42:43.313Z"
   },
   {
    "duration": 0,
    "start_time": "2022-07-13T19:42:43.314Z"
   },
   {
    "duration": 65,
    "start_time": "2022-07-13T19:42:44.670Z"
   },
   {
    "duration": 3,
    "start_time": "2022-07-13T19:42:46.582Z"
   },
   {
    "duration": 11,
    "start_time": "2022-07-13T19:42:47.192Z"
   },
   {
    "duration": 14,
    "start_time": "2022-07-13T19:42:49.822Z"
   },
   {
    "duration": 49,
    "start_time": "2022-07-13T19:43:12.081Z"
   },
   {
    "duration": 12,
    "start_time": "2022-07-13T19:43:14.291Z"
   },
   {
    "duration": 11,
    "start_time": "2022-07-13T19:43:15.153Z"
   },
   {
    "duration": 11,
    "start_time": "2022-07-13T19:43:16.083Z"
   },
   {
    "duration": 43,
    "start_time": "2022-07-13T19:43:17.187Z"
   },
   {
    "duration": 3,
    "start_time": "2022-07-13T19:43:17.947Z"
   },
   {
    "duration": 3,
    "start_time": "2022-07-13T19:43:18.355Z"
   },
   {
    "duration": 17,
    "start_time": "2022-07-13T19:43:26.653Z"
   },
   {
    "duration": 8,
    "start_time": "2022-07-13T19:43:32.584Z"
   },
   {
    "duration": 1280,
    "start_time": "2022-07-13T19:43:39.531Z"
   },
   {
    "duration": 5,
    "start_time": "2022-07-13T19:43:40.814Z"
   },
   {
    "duration": 209,
    "start_time": "2022-07-13T19:43:40.821Z"
   },
   {
    "duration": 155,
    "start_time": "2022-07-13T19:43:41.034Z"
   },
   {
    "duration": 15,
    "start_time": "2022-07-13T19:43:41.191Z"
   },
   {
    "duration": 20,
    "start_time": "2022-07-13T19:43:41.208Z"
   },
   {
    "duration": 20,
    "start_time": "2022-07-13T19:43:41.230Z"
   },
   {
    "duration": 14,
    "start_time": "2022-07-13T19:43:41.252Z"
   },
   {
    "duration": 259,
    "start_time": "2022-07-13T19:43:41.268Z"
   },
   {
    "duration": 10,
    "start_time": "2022-07-13T19:43:41.531Z"
   },
   {
    "duration": 245,
    "start_time": "2022-07-13T19:43:41.543Z"
   },
   {
    "duration": 149,
    "start_time": "2022-07-13T19:43:41.790Z"
   },
   {
    "duration": 339,
    "start_time": "2022-07-13T19:43:41.941Z"
   },
   {
    "duration": 65,
    "start_time": "2022-07-13T19:43:42.281Z"
   },
   {
    "duration": 7,
    "start_time": "2022-07-13T19:43:42.348Z"
   },
   {
    "duration": 7,
    "start_time": "2022-07-13T19:43:42.357Z"
   },
   {
    "duration": 8,
    "start_time": "2022-07-13T19:43:42.365Z"
   },
   {
    "duration": 31,
    "start_time": "2022-07-13T19:43:42.375Z"
   },
   {
    "duration": 338,
    "start_time": "2022-07-13T19:43:42.407Z"
   },
   {
    "duration": 19,
    "start_time": "2022-07-13T19:43:42.746Z"
   },
   {
    "duration": 8,
    "start_time": "2022-07-13T19:43:42.767Z"
   },
   {
    "duration": 52,
    "start_time": "2022-07-13T19:43:42.776Z"
   },
   {
    "duration": 10,
    "start_time": "2022-07-13T19:43:42.833Z"
   },
   {
    "duration": 43,
    "start_time": "2022-07-13T19:43:42.845Z"
   },
   {
    "duration": 19,
    "start_time": "2022-07-13T19:43:42.889Z"
   },
   {
    "duration": 146,
    "start_time": "2022-07-13T19:43:42.911Z"
   },
   {
    "duration": 1477,
    "start_time": "2022-07-13T19:43:43.059Z"
   },
   {
    "duration": 13,
    "start_time": "2022-07-13T19:43:44.539Z"
   },
   {
    "duration": 13,
    "start_time": "2022-07-13T19:43:44.553Z"
   },
   {
    "duration": 75,
    "start_time": "2022-07-13T19:43:44.568Z"
   },
   {
    "duration": 42,
    "start_time": "2022-07-13T19:43:44.645Z"
   },
   {
    "duration": 26,
    "start_time": "2022-07-13T19:43:44.689Z"
   },
   {
    "duration": 29,
    "start_time": "2022-07-13T19:43:44.717Z"
   },
   {
    "duration": 11,
    "start_time": "2022-07-13T19:43:44.748Z"
   },
   {
    "duration": 67,
    "start_time": "2022-07-13T19:43:44.760Z"
   },
   {
    "duration": 3,
    "start_time": "2022-07-13T19:43:44.831Z"
   },
   {
    "duration": 11,
    "start_time": "2022-07-13T19:43:44.835Z"
   },
   {
    "duration": 6,
    "start_time": "2022-07-13T19:43:44.848Z"
   },
   {
    "duration": 30,
    "start_time": "2022-07-13T19:43:44.856Z"
   },
   {
    "duration": 29,
    "start_time": "2022-07-13T19:43:44.888Z"
   },
   {
    "duration": 25,
    "start_time": "2022-07-13T19:43:44.919Z"
   },
   {
    "duration": 18,
    "start_time": "2022-07-13T19:43:44.946Z"
   },
   {
    "duration": 46,
    "start_time": "2022-07-13T19:43:44.965Z"
   },
   {
    "duration": 33,
    "start_time": "2022-07-13T19:43:45.013Z"
   },
   {
    "duration": 57,
    "start_time": "2022-07-13T19:43:45.048Z"
   },
   {
    "duration": 47,
    "start_time": "2022-07-13T19:43:45.108Z"
   },
   {
    "duration": 48,
    "start_time": "2022-07-13T19:43:45.157Z"
   },
   {
    "duration": 43,
    "start_time": "2022-07-13T19:43:45.208Z"
   },
   {
    "duration": 2,
    "start_time": "2022-07-13T19:43:45.253Z"
   },
   {
    "duration": 24,
    "start_time": "2022-07-13T19:43:45.257Z"
   },
   {
    "duration": 21,
    "start_time": "2022-07-13T19:43:45.283Z"
   },
   {
    "duration": 131,
    "start_time": "2022-07-13T19:43:45.308Z"
   }
  ],
  "kernelspec": {
   "display_name": "Python 3 (ipykernel)",
   "language": "python",
   "name": "python3"
  },
  "language_info": {
   "codemirror_mode": {
    "name": "ipython",
    "version": 3
   },
   "file_extension": ".py",
   "mimetype": "text/x-python",
   "name": "python",
   "nbconvert_exporter": "python",
   "pygments_lexer": "ipython3",
   "version": "3.9.5"
  },
  "toc": {
   "base_numbering": 1,
   "nav_menu": {},
   "number_sections": true,
   "sideBar": true,
   "skip_h1_title": true,
   "title_cell": "Содержание",
   "title_sidebar": "Содержание",
   "toc_cell": true,
   "toc_position": {
    "height": "calc(100% - 180px)",
    "left": "10px",
    "top": "150px",
    "width": "265.648px"
   },
   "toc_section_display": true,
   "toc_window_display": true
  }
 },
 "nbformat": 4,
 "nbformat_minor": 2
}
