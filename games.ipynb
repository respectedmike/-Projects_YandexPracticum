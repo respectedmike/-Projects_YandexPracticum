{
 "cells": [
  {
   "cell_type": "code",
   "execution_count": 1,
   "metadata": {
    "cellId": "i1hm2t1zckllbyeq86x6",
    "scrolled": true
   },
   "outputs": [
    {
     "name": "stdout",
     "output_type": "stream",
     "text": [
      "\u001b[31mERROR: Could not open requirements file: [Errno 2] No such file or directory: 'requirements.txt'\u001b[0m\n",
      "Note: you may need to restart the kernel to use updated packages.\n"
     ]
    }
   ],
   "source": [
    "%pip install -q -r requirements.txt"
   ]
  },
  {
   "cell_type": "markdown",
   "metadata": {
    "cellId": "sewjqo0i9fgsj6e5w0wpwn"
   },
   "source": [
    "* [1 Введение](#Введение)\n",
    "** [Вывод](#Вывод1)\n",
    "* [2 Предобработка данных](#Предобработка)\n",
    "** [Перевод в нижний регистр](#нижний_регистр)\n",
    "** [Обработка пропусков](#пропуски)\n",
    "** [Изменения типов данных](#типданных)\n",
    "** [Вывод](#вывод2)\n",
    "* [3 Исследовательский анализ данных](#иследование)\n",
    "** [Вывод](#вывод3)\n",
    "* [4 Определение типичного пользователся](#пользователь)\n",
    "** [Вывод](#вывод4)\n",
    "* [5 Проверка гипотез](#гипотеза)\n",
    "* [6 Общий Вывод](#СУПЕРВЫВОД)"
   ]
  },
  {
   "cell_type": "markdown",
   "metadata": {
    "cellId": "l16lctjctropc38fj7ttc"
   },
   "source": [
    "# 1 Введение <a class=\"anchor\" id=\"Вывод\"></a>"
   ]
  },
  {
   "cell_type": "markdown",
   "metadata": {
    "cellId": "k7mto1sq3r8v7btrs2nkxl"
   },
   "source": [
    "Перед нами данные по играм до 2016 года. Мы планируем кампанию  2017-й. Для этого нужно понять тенденцию развития платформ, жанров, объемов продаж. Сформировать облик покупателя из разых регионов\n"
   ]
  },
  {
   "cell_type": "markdown",
   "metadata": {
    "cellId": "dtu3ju0gtvjjrsj4vuzq7r"
   },
   "source": [
    "## Описание данных\n",
    "Name — название игры  \n",
    "Platform — платформа  \n",
    "Year_of_Release — год выпуска  \n",
    "Genre — жанр игры  \n",
    "NA_sales — продажи в Северной Америке (миллионы проданных копий)  \n",
    "EU_sales — продажи в Европе (миллионы проданных копий)  \n",
    "JP_sales — продажи в Японии (миллионы проданных копий)  \n",
    "Other_sales — продажи в других странах (миллионы проданных копий)  \n",
    "Critic_Score — оценка критиков (максимум 100)  \n",
    "User_Score — оценка пользователей (максимум 10)  \n",
    "Rating — рейтинг от организации ESRB (англ. Entertainment Software Rating Board). Эта ассоциация определяет рейтинг компьютерных игр и присваивает им подходящую возрастную категорию.  "
   ]
  },
  {
   "cell_type": "code",
   "execution_count": 2,
   "metadata": {
    "cellId": "4wa54svq01rd7qzphvmw6p"
   },
   "outputs": [],
   "source": [
    "import pandas as pd \n",
    "from datetime import datetime\n",
    "import numpy as np\n",
    "pd.set_option('display.max_columns', None)\n",
    "from scipy import stats as st\n",
    "import numpy as np\n",
    "import matplotlib.pyplot as plt\n",
    "import seaborn as sb\n",
    "import os"
   ]
  },
  {
   "cell_type": "markdown",
   "metadata": {
    "cellId": "p1zb5jkdk7oakz6ubqj9"
   },
   "source": [
    "\n",
    "<div class=\"alert alert-info\">\n",
    "<b>Комментарий студента:</b> Ого классное решение. Сейчас же его и скопирую в код =) </div>"
   ]
  },
  {
   "cell_type": "code",
   "execution_count": 3,
   "metadata": {
    "cellId": "wc13c01c88r0x1zykta"
   },
   "outputs": [],
   "source": [
    "pth1 = 'games.csv'\n",
    "pth2 = '/datasets/games.csv'\n",
    "\n",
    "if os.path.exists(pth1):\n",
    "    df = pd.read_csv(pth1)\n",
    "elif os.path.exists(pth2):\n",
    "    df = pd.read_csv(pth2)\n",
    "else:\n",
    "    print('Something is wrong')  "
   ]
  },
  {
   "cell_type": "code",
   "execution_count": 4,
   "metadata": {
    "cellId": "yjepp65n79nmfzff9dyof"
   },
   "outputs": [
    {
     "data": {
      "text/html": [
       "<div>\n",
       "<style scoped>\n",
       "    .dataframe tbody tr th:only-of-type {\n",
       "        vertical-align: middle;\n",
       "    }\n",
       "\n",
       "    .dataframe tbody tr th {\n",
       "        vertical-align: top;\n",
       "    }\n",
       "\n",
       "    .dataframe thead th {\n",
       "        text-align: right;\n",
       "    }\n",
       "</style>\n",
       "<table border=\"1\" class=\"dataframe\">\n",
       "  <thead>\n",
       "    <tr style=\"text-align: right;\">\n",
       "      <th></th>\n",
       "      <th>Name</th>\n",
       "      <th>Platform</th>\n",
       "      <th>Year_of_Release</th>\n",
       "      <th>Genre</th>\n",
       "      <th>NA_sales</th>\n",
       "      <th>EU_sales</th>\n",
       "      <th>JP_sales</th>\n",
       "      <th>Other_sales</th>\n",
       "      <th>Critic_Score</th>\n",
       "      <th>User_Score</th>\n",
       "      <th>Rating</th>\n",
       "    </tr>\n",
       "  </thead>\n",
       "  <tbody>\n",
       "    <tr>\n",
       "      <td>0</td>\n",
       "      <td>Wii Sports</td>\n",
       "      <td>Wii</td>\n",
       "      <td>2006.0</td>\n",
       "      <td>Sports</td>\n",
       "      <td>41.36</td>\n",
       "      <td>28.96</td>\n",
       "      <td>3.77</td>\n",
       "      <td>8.45</td>\n",
       "      <td>76.0</td>\n",
       "      <td>8</td>\n",
       "      <td>E</td>\n",
       "    </tr>\n",
       "    <tr>\n",
       "      <td>1</td>\n",
       "      <td>Super Mario Bros.</td>\n",
       "      <td>NES</td>\n",
       "      <td>1985.0</td>\n",
       "      <td>Platform</td>\n",
       "      <td>29.08</td>\n",
       "      <td>3.58</td>\n",
       "      <td>6.81</td>\n",
       "      <td>0.77</td>\n",
       "      <td>NaN</td>\n",
       "      <td>NaN</td>\n",
       "      <td>NaN</td>\n",
       "    </tr>\n",
       "    <tr>\n",
       "      <td>2</td>\n",
       "      <td>Mario Kart Wii</td>\n",
       "      <td>Wii</td>\n",
       "      <td>2008.0</td>\n",
       "      <td>Racing</td>\n",
       "      <td>15.68</td>\n",
       "      <td>12.76</td>\n",
       "      <td>3.79</td>\n",
       "      <td>3.29</td>\n",
       "      <td>82.0</td>\n",
       "      <td>8.3</td>\n",
       "      <td>E</td>\n",
       "    </tr>\n",
       "    <tr>\n",
       "      <td>3</td>\n",
       "      <td>Wii Sports Resort</td>\n",
       "      <td>Wii</td>\n",
       "      <td>2009.0</td>\n",
       "      <td>Sports</td>\n",
       "      <td>15.61</td>\n",
       "      <td>10.93</td>\n",
       "      <td>3.28</td>\n",
       "      <td>2.95</td>\n",
       "      <td>80.0</td>\n",
       "      <td>8</td>\n",
       "      <td>E</td>\n",
       "    </tr>\n",
       "    <tr>\n",
       "      <td>4</td>\n",
       "      <td>Pokemon Red/Pokemon Blue</td>\n",
       "      <td>GB</td>\n",
       "      <td>1996.0</td>\n",
       "      <td>Role-Playing</td>\n",
       "      <td>11.27</td>\n",
       "      <td>8.89</td>\n",
       "      <td>10.22</td>\n",
       "      <td>1.00</td>\n",
       "      <td>NaN</td>\n",
       "      <td>NaN</td>\n",
       "      <td>NaN</td>\n",
       "    </tr>\n",
       "    <tr>\n",
       "      <td>5</td>\n",
       "      <td>Tetris</td>\n",
       "      <td>GB</td>\n",
       "      <td>1989.0</td>\n",
       "      <td>Puzzle</td>\n",
       "      <td>23.20</td>\n",
       "      <td>2.26</td>\n",
       "      <td>4.22</td>\n",
       "      <td>0.58</td>\n",
       "      <td>NaN</td>\n",
       "      <td>NaN</td>\n",
       "      <td>NaN</td>\n",
       "    </tr>\n",
       "    <tr>\n",
       "      <td>6</td>\n",
       "      <td>New Super Mario Bros.</td>\n",
       "      <td>DS</td>\n",
       "      <td>2006.0</td>\n",
       "      <td>Platform</td>\n",
       "      <td>11.28</td>\n",
       "      <td>9.14</td>\n",
       "      <td>6.50</td>\n",
       "      <td>2.88</td>\n",
       "      <td>89.0</td>\n",
       "      <td>8.5</td>\n",
       "      <td>E</td>\n",
       "    </tr>\n",
       "    <tr>\n",
       "      <td>7</td>\n",
       "      <td>Wii Play</td>\n",
       "      <td>Wii</td>\n",
       "      <td>2006.0</td>\n",
       "      <td>Misc</td>\n",
       "      <td>13.96</td>\n",
       "      <td>9.18</td>\n",
       "      <td>2.93</td>\n",
       "      <td>2.84</td>\n",
       "      <td>58.0</td>\n",
       "      <td>6.6</td>\n",
       "      <td>E</td>\n",
       "    </tr>\n",
       "    <tr>\n",
       "      <td>8</td>\n",
       "      <td>New Super Mario Bros. Wii</td>\n",
       "      <td>Wii</td>\n",
       "      <td>2009.0</td>\n",
       "      <td>Platform</td>\n",
       "      <td>14.44</td>\n",
       "      <td>6.94</td>\n",
       "      <td>4.70</td>\n",
       "      <td>2.24</td>\n",
       "      <td>87.0</td>\n",
       "      <td>8.4</td>\n",
       "      <td>E</td>\n",
       "    </tr>\n",
       "    <tr>\n",
       "      <td>9</td>\n",
       "      <td>Duck Hunt</td>\n",
       "      <td>NES</td>\n",
       "      <td>1984.0</td>\n",
       "      <td>Shooter</td>\n",
       "      <td>26.93</td>\n",
       "      <td>0.63</td>\n",
       "      <td>0.28</td>\n",
       "      <td>0.47</td>\n",
       "      <td>NaN</td>\n",
       "      <td>NaN</td>\n",
       "      <td>NaN</td>\n",
       "    </tr>\n",
       "    <tr>\n",
       "      <td>10</td>\n",
       "      <td>Nintendogs</td>\n",
       "      <td>DS</td>\n",
       "      <td>2005.0</td>\n",
       "      <td>Simulation</td>\n",
       "      <td>9.05</td>\n",
       "      <td>10.95</td>\n",
       "      <td>1.93</td>\n",
       "      <td>2.74</td>\n",
       "      <td>NaN</td>\n",
       "      <td>NaN</td>\n",
       "      <td>NaN</td>\n",
       "    </tr>\n",
       "    <tr>\n",
       "      <td>11</td>\n",
       "      <td>Mario Kart DS</td>\n",
       "      <td>DS</td>\n",
       "      <td>2005.0</td>\n",
       "      <td>Racing</td>\n",
       "      <td>9.71</td>\n",
       "      <td>7.47</td>\n",
       "      <td>4.13</td>\n",
       "      <td>1.90</td>\n",
       "      <td>91.0</td>\n",
       "      <td>8.6</td>\n",
       "      <td>E</td>\n",
       "    </tr>\n",
       "    <tr>\n",
       "      <td>12</td>\n",
       "      <td>Pokemon Gold/Pokemon Silver</td>\n",
       "      <td>GB</td>\n",
       "      <td>1999.0</td>\n",
       "      <td>Role-Playing</td>\n",
       "      <td>9.00</td>\n",
       "      <td>6.18</td>\n",
       "      <td>7.20</td>\n",
       "      <td>0.71</td>\n",
       "      <td>NaN</td>\n",
       "      <td>NaN</td>\n",
       "      <td>NaN</td>\n",
       "    </tr>\n",
       "    <tr>\n",
       "      <td>13</td>\n",
       "      <td>Wii Fit</td>\n",
       "      <td>Wii</td>\n",
       "      <td>2007.0</td>\n",
       "      <td>Sports</td>\n",
       "      <td>8.92</td>\n",
       "      <td>8.03</td>\n",
       "      <td>3.60</td>\n",
       "      <td>2.15</td>\n",
       "      <td>80.0</td>\n",
       "      <td>7.7</td>\n",
       "      <td>E</td>\n",
       "    </tr>\n",
       "    <tr>\n",
       "      <td>14</td>\n",
       "      <td>Kinect Adventures!</td>\n",
       "      <td>X360</td>\n",
       "      <td>2010.0</td>\n",
       "      <td>Misc</td>\n",
       "      <td>15.00</td>\n",
       "      <td>4.89</td>\n",
       "      <td>0.24</td>\n",
       "      <td>1.69</td>\n",
       "      <td>61.0</td>\n",
       "      <td>6.3</td>\n",
       "      <td>E</td>\n",
       "    </tr>\n",
       "    <tr>\n",
       "      <td>15</td>\n",
       "      <td>Wii Fit Plus</td>\n",
       "      <td>Wii</td>\n",
       "      <td>2009.0</td>\n",
       "      <td>Sports</td>\n",
       "      <td>9.01</td>\n",
       "      <td>8.49</td>\n",
       "      <td>2.53</td>\n",
       "      <td>1.77</td>\n",
       "      <td>80.0</td>\n",
       "      <td>7.4</td>\n",
       "      <td>E</td>\n",
       "    </tr>\n",
       "    <tr>\n",
       "      <td>16</td>\n",
       "      <td>Grand Theft Auto V</td>\n",
       "      <td>PS3</td>\n",
       "      <td>2013.0</td>\n",
       "      <td>Action</td>\n",
       "      <td>7.02</td>\n",
       "      <td>9.09</td>\n",
       "      <td>0.98</td>\n",
       "      <td>3.96</td>\n",
       "      <td>97.0</td>\n",
       "      <td>8.2</td>\n",
       "      <td>M</td>\n",
       "    </tr>\n",
       "    <tr>\n",
       "      <td>17</td>\n",
       "      <td>Grand Theft Auto: San Andreas</td>\n",
       "      <td>PS2</td>\n",
       "      <td>2004.0</td>\n",
       "      <td>Action</td>\n",
       "      <td>9.43</td>\n",
       "      <td>0.40</td>\n",
       "      <td>0.41</td>\n",
       "      <td>10.57</td>\n",
       "      <td>95.0</td>\n",
       "      <td>9</td>\n",
       "      <td>M</td>\n",
       "    </tr>\n",
       "    <tr>\n",
       "      <td>18</td>\n",
       "      <td>Super Mario World</td>\n",
       "      <td>SNES</td>\n",
       "      <td>1990.0</td>\n",
       "      <td>Platform</td>\n",
       "      <td>12.78</td>\n",
       "      <td>3.75</td>\n",
       "      <td>3.54</td>\n",
       "      <td>0.55</td>\n",
       "      <td>NaN</td>\n",
       "      <td>NaN</td>\n",
       "      <td>NaN</td>\n",
       "    </tr>\n",
       "    <tr>\n",
       "      <td>19</td>\n",
       "      <td>Brain Age: Train Your Brain in Minutes a Day</td>\n",
       "      <td>DS</td>\n",
       "      <td>2005.0</td>\n",
       "      <td>Misc</td>\n",
       "      <td>4.74</td>\n",
       "      <td>9.20</td>\n",
       "      <td>4.16</td>\n",
       "      <td>2.04</td>\n",
       "      <td>77.0</td>\n",
       "      <td>7.9</td>\n",
       "      <td>E</td>\n",
       "    </tr>\n",
       "  </tbody>\n",
       "</table>\n",
       "</div>"
      ],
      "text/plain": [
       "                                            Name Platform  Year_of_Release  \\\n",
       "0                                     Wii Sports      Wii           2006.0   \n",
       "1                              Super Mario Bros.      NES           1985.0   \n",
       "2                                 Mario Kart Wii      Wii           2008.0   \n",
       "3                              Wii Sports Resort      Wii           2009.0   \n",
       "4                       Pokemon Red/Pokemon Blue       GB           1996.0   \n",
       "5                                         Tetris       GB           1989.0   \n",
       "6                          New Super Mario Bros.       DS           2006.0   \n",
       "7                                       Wii Play      Wii           2006.0   \n",
       "8                      New Super Mario Bros. Wii      Wii           2009.0   \n",
       "9                                      Duck Hunt      NES           1984.0   \n",
       "10                                    Nintendogs       DS           2005.0   \n",
       "11                                 Mario Kart DS       DS           2005.0   \n",
       "12                   Pokemon Gold/Pokemon Silver       GB           1999.0   \n",
       "13                                       Wii Fit      Wii           2007.0   \n",
       "14                            Kinect Adventures!     X360           2010.0   \n",
       "15                                  Wii Fit Plus      Wii           2009.0   \n",
       "16                            Grand Theft Auto V      PS3           2013.0   \n",
       "17                 Grand Theft Auto: San Andreas      PS2           2004.0   \n",
       "18                             Super Mario World     SNES           1990.0   \n",
       "19  Brain Age: Train Your Brain in Minutes a Day       DS           2005.0   \n",
       "\n",
       "           Genre  NA_sales  EU_sales  JP_sales  Other_sales  Critic_Score  \\\n",
       "0         Sports     41.36     28.96      3.77         8.45          76.0   \n",
       "1       Platform     29.08      3.58      6.81         0.77           NaN   \n",
       "2         Racing     15.68     12.76      3.79         3.29          82.0   \n",
       "3         Sports     15.61     10.93      3.28         2.95          80.0   \n",
       "4   Role-Playing     11.27      8.89     10.22         1.00           NaN   \n",
       "5         Puzzle     23.20      2.26      4.22         0.58           NaN   \n",
       "6       Platform     11.28      9.14      6.50         2.88          89.0   \n",
       "7           Misc     13.96      9.18      2.93         2.84          58.0   \n",
       "8       Platform     14.44      6.94      4.70         2.24          87.0   \n",
       "9        Shooter     26.93      0.63      0.28         0.47           NaN   \n",
       "10    Simulation      9.05     10.95      1.93         2.74           NaN   \n",
       "11        Racing      9.71      7.47      4.13         1.90          91.0   \n",
       "12  Role-Playing      9.00      6.18      7.20         0.71           NaN   \n",
       "13        Sports      8.92      8.03      3.60         2.15          80.0   \n",
       "14          Misc     15.00      4.89      0.24         1.69          61.0   \n",
       "15        Sports      9.01      8.49      2.53         1.77          80.0   \n",
       "16        Action      7.02      9.09      0.98         3.96          97.0   \n",
       "17        Action      9.43      0.40      0.41        10.57          95.0   \n",
       "18      Platform     12.78      3.75      3.54         0.55           NaN   \n",
       "19          Misc      4.74      9.20      4.16         2.04          77.0   \n",
       "\n",
       "   User_Score Rating  \n",
       "0           8      E  \n",
       "1         NaN    NaN  \n",
       "2         8.3      E  \n",
       "3           8      E  \n",
       "4         NaN    NaN  \n",
       "5         NaN    NaN  \n",
       "6         8.5      E  \n",
       "7         6.6      E  \n",
       "8         8.4      E  \n",
       "9         NaN    NaN  \n",
       "10        NaN    NaN  \n",
       "11        8.6      E  \n",
       "12        NaN    NaN  \n",
       "13        7.7      E  \n",
       "14        6.3      E  \n",
       "15        7.4      E  \n",
       "16        8.2      M  \n",
       "17          9      M  \n",
       "18        NaN    NaN  \n",
       "19        7.9      E  "
      ]
     },
     "execution_count": 4,
     "metadata": {},
     "output_type": "execute_result"
    }
   ],
   "source": [
    "df.head(20)"
   ]
  },
  {
   "cell_type": "code",
   "execution_count": 5,
   "metadata": {
    "cellId": "n8c0zokpqgaw8sy4rr8jn"
   },
   "outputs": [
    {
     "data": {
      "text/html": [
       "<div>\n",
       "<style scoped>\n",
       "    .dataframe tbody tr th:only-of-type {\n",
       "        vertical-align: middle;\n",
       "    }\n",
       "\n",
       "    .dataframe tbody tr th {\n",
       "        vertical-align: top;\n",
       "    }\n",
       "\n",
       "    .dataframe thead th {\n",
       "        text-align: right;\n",
       "    }\n",
       "</style>\n",
       "<table border=\"1\" class=\"dataframe\">\n",
       "  <thead>\n",
       "    <tr style=\"text-align: right;\">\n",
       "      <th></th>\n",
       "      <th>Name</th>\n",
       "      <th>Platform</th>\n",
       "      <th>Year_of_Release</th>\n",
       "      <th>Genre</th>\n",
       "      <th>NA_sales</th>\n",
       "      <th>EU_sales</th>\n",
       "      <th>JP_sales</th>\n",
       "      <th>Other_sales</th>\n",
       "      <th>Critic_Score</th>\n",
       "      <th>User_Score</th>\n",
       "      <th>Rating</th>\n",
       "    </tr>\n",
       "  </thead>\n",
       "  <tbody>\n",
       "    <tr>\n",
       "      <td>3485</td>\n",
       "      <td>London 2012: The Official Video Game of the Ol...</td>\n",
       "      <td>X360</td>\n",
       "      <td>2012.0</td>\n",
       "      <td>Sports</td>\n",
       "      <td>0.07</td>\n",
       "      <td>0.44</td>\n",
       "      <td>0.00</td>\n",
       "      <td>0.07</td>\n",
       "      <td>NaN</td>\n",
       "      <td>NaN</td>\n",
       "      <td>NaN</td>\n",
       "    </tr>\n",
       "    <tr>\n",
       "      <td>5500</td>\n",
       "      <td>Etrian Odyssey</td>\n",
       "      <td>DS</td>\n",
       "      <td>2007.0</td>\n",
       "      <td>Role-Playing</td>\n",
       "      <td>0.19</td>\n",
       "      <td>0.02</td>\n",
       "      <td>0.09</td>\n",
       "      <td>0.02</td>\n",
       "      <td>75.0</td>\n",
       "      <td>8.5</td>\n",
       "      <td>T</td>\n",
       "    </tr>\n",
       "    <tr>\n",
       "      <td>16713</td>\n",
       "      <td>Spirits &amp; Spells</td>\n",
       "      <td>GBA</td>\n",
       "      <td>2003.0</td>\n",
       "      <td>Platform</td>\n",
       "      <td>0.01</td>\n",
       "      <td>0.00</td>\n",
       "      <td>0.00</td>\n",
       "      <td>0.00</td>\n",
       "      <td>NaN</td>\n",
       "      <td>NaN</td>\n",
       "      <td>NaN</td>\n",
       "    </tr>\n",
       "    <tr>\n",
       "      <td>9489</td>\n",
       "      <td>RollerCoaster Tycoon</td>\n",
       "      <td>XB</td>\n",
       "      <td>2003.0</td>\n",
       "      <td>Strategy</td>\n",
       "      <td>0.10</td>\n",
       "      <td>0.03</td>\n",
       "      <td>0.00</td>\n",
       "      <td>0.00</td>\n",
       "      <td>62.0</td>\n",
       "      <td>8.3</td>\n",
       "      <td>E</td>\n",
       "    </tr>\n",
       "    <tr>\n",
       "      <td>12993</td>\n",
       "      <td>Rhapsody: A Musical Adventure</td>\n",
       "      <td>DS</td>\n",
       "      <td>2008.0</td>\n",
       "      <td>Role-Playing</td>\n",
       "      <td>0.05</td>\n",
       "      <td>0.00</td>\n",
       "      <td>0.00</td>\n",
       "      <td>0.00</td>\n",
       "      <td>67.0</td>\n",
       "      <td>6.8</td>\n",
       "      <td>E</td>\n",
       "    </tr>\n",
       "    <tr>\n",
       "      <td>12749</td>\n",
       "      <td>Men in Black The Series: Crashdown</td>\n",
       "      <td>PS</td>\n",
       "      <td>2001.0</td>\n",
       "      <td>Shooter</td>\n",
       "      <td>0.03</td>\n",
       "      <td>0.02</td>\n",
       "      <td>0.00</td>\n",
       "      <td>0.00</td>\n",
       "      <td>NaN</td>\n",
       "      <td>NaN</td>\n",
       "      <td>NaN</td>\n",
       "    </tr>\n",
       "    <tr>\n",
       "      <td>7270</td>\n",
       "      <td>Samurai Jack: The Amulet of Time</td>\n",
       "      <td>GBA</td>\n",
       "      <td>2003.0</td>\n",
       "      <td>Platform</td>\n",
       "      <td>0.16</td>\n",
       "      <td>0.06</td>\n",
       "      <td>0.00</td>\n",
       "      <td>0.00</td>\n",
       "      <td>63.0</td>\n",
       "      <td>tbd</td>\n",
       "      <td>T</td>\n",
       "    </tr>\n",
       "    <tr>\n",
       "      <td>2935</td>\n",
       "      <td>King Kong</td>\n",
       "      <td>2600</td>\n",
       "      <td>1981.0</td>\n",
       "      <td>Action</td>\n",
       "      <td>0.65</td>\n",
       "      <td>0.04</td>\n",
       "      <td>0.00</td>\n",
       "      <td>0.01</td>\n",
       "      <td>NaN</td>\n",
       "      <td>NaN</td>\n",
       "      <td>NaN</td>\n",
       "    </tr>\n",
       "    <tr>\n",
       "      <td>8739</td>\n",
       "      <td>Pressure Cooker</td>\n",
       "      <td>2600</td>\n",
       "      <td>1982.0</td>\n",
       "      <td>Action</td>\n",
       "      <td>0.14</td>\n",
       "      <td>0.01</td>\n",
       "      <td>0.00</td>\n",
       "      <td>0.00</td>\n",
       "      <td>NaN</td>\n",
       "      <td>NaN</td>\n",
       "      <td>NaN</td>\n",
       "    </tr>\n",
       "    <tr>\n",
       "      <td>2227</td>\n",
       "      <td>Cars</td>\n",
       "      <td>GC</td>\n",
       "      <td>2006.0</td>\n",
       "      <td>Racing</td>\n",
       "      <td>0.72</td>\n",
       "      <td>0.19</td>\n",
       "      <td>0.00</td>\n",
       "      <td>0.03</td>\n",
       "      <td>71.0</td>\n",
       "      <td>7</td>\n",
       "      <td>E</td>\n",
       "    </tr>\n",
       "  </tbody>\n",
       "</table>\n",
       "</div>"
      ],
      "text/plain": [
       "                                                    Name Platform  \\\n",
       "3485   London 2012: The Official Video Game of the Ol...     X360   \n",
       "5500                                      Etrian Odyssey       DS   \n",
       "16713                                   Spirits & Spells      GBA   \n",
       "9489                                RollerCoaster Tycoon       XB   \n",
       "12993                      Rhapsody: A Musical Adventure       DS   \n",
       "12749                 Men in Black The Series: Crashdown       PS   \n",
       "7270                    Samurai Jack: The Amulet of Time      GBA   \n",
       "2935                                           King Kong     2600   \n",
       "8739                                     Pressure Cooker     2600   \n",
       "2227                                                Cars       GC   \n",
       "\n",
       "       Year_of_Release         Genre  NA_sales  EU_sales  JP_sales  \\\n",
       "3485            2012.0        Sports      0.07      0.44      0.00   \n",
       "5500            2007.0  Role-Playing      0.19      0.02      0.09   \n",
       "16713           2003.0      Platform      0.01      0.00      0.00   \n",
       "9489            2003.0      Strategy      0.10      0.03      0.00   \n",
       "12993           2008.0  Role-Playing      0.05      0.00      0.00   \n",
       "12749           2001.0       Shooter      0.03      0.02      0.00   \n",
       "7270            2003.0      Platform      0.16      0.06      0.00   \n",
       "2935            1981.0        Action      0.65      0.04      0.00   \n",
       "8739            1982.0        Action      0.14      0.01      0.00   \n",
       "2227            2006.0        Racing      0.72      0.19      0.00   \n",
       "\n",
       "       Other_sales  Critic_Score User_Score Rating  \n",
       "3485          0.07           NaN        NaN    NaN  \n",
       "5500          0.02          75.0        8.5      T  \n",
       "16713         0.00           NaN        NaN    NaN  \n",
       "9489          0.00          62.0        8.3      E  \n",
       "12993         0.00          67.0        6.8      E  \n",
       "12749         0.00           NaN        NaN    NaN  \n",
       "7270          0.00          63.0        tbd      T  \n",
       "2935          0.01           NaN        NaN    NaN  \n",
       "8739          0.00           NaN        NaN    NaN  \n",
       "2227          0.03          71.0          7      E  "
      ]
     },
     "execution_count": 5,
     "metadata": {},
     "output_type": "execute_result"
    }
   ],
   "source": [
    "df.sample(n = 10, random_state = 42)"
   ]
  },
  {
   "cell_type": "code",
   "execution_count": 6,
   "metadata": {
    "cellId": "3djunk3pmarjk9756pwvr"
   },
   "outputs": [
    {
     "name": "stdout",
     "output_type": "stream",
     "text": [
      "<class 'pandas.core.frame.DataFrame'>\n",
      "RangeIndex: 16715 entries, 0 to 16714\n",
      "Data columns (total 11 columns):\n",
      "Name               16713 non-null object\n",
      "Platform           16715 non-null object\n",
      "Year_of_Release    16446 non-null float64\n",
      "Genre              16713 non-null object\n",
      "NA_sales           16715 non-null float64\n",
      "EU_sales           16715 non-null float64\n",
      "JP_sales           16715 non-null float64\n",
      "Other_sales        16715 non-null float64\n",
      "Critic_Score       8137 non-null float64\n",
      "User_Score         10014 non-null object\n",
      "Rating             9949 non-null object\n",
      "dtypes: float64(6), object(5)\n",
      "memory usage: 1.4+ MB\n"
     ]
    }
   ],
   "source": [
    "df.info()"
   ]
  },
  {
   "cell_type": "code",
   "execution_count": 7,
   "metadata": {
    "cellId": "0jh34exsuy7bpuyqtk2fz4"
   },
   "outputs": [
    {
     "data": {
      "text/html": [
       "<div>\n",
       "<style scoped>\n",
       "    .dataframe tbody tr th:only-of-type {\n",
       "        vertical-align: middle;\n",
       "    }\n",
       "\n",
       "    .dataframe tbody tr th {\n",
       "        vertical-align: top;\n",
       "    }\n",
       "\n",
       "    .dataframe thead th {\n",
       "        text-align: right;\n",
       "    }\n",
       "</style>\n",
       "<table border=\"1\" class=\"dataframe\">\n",
       "  <thead>\n",
       "    <tr style=\"text-align: right;\">\n",
       "      <th></th>\n",
       "      <th>count</th>\n",
       "      <th>mean</th>\n",
       "      <th>std</th>\n",
       "      <th>min</th>\n",
       "      <th>25%</th>\n",
       "      <th>50%</th>\n",
       "      <th>75%</th>\n",
       "      <th>max</th>\n",
       "    </tr>\n",
       "  </thead>\n",
       "  <tbody>\n",
       "    <tr>\n",
       "      <td>Year_of_Release</td>\n",
       "      <td>16446.0</td>\n",
       "      <td>2006.484616</td>\n",
       "      <td>5.877050</td>\n",
       "      <td>1980.0</td>\n",
       "      <td>2003.0</td>\n",
       "      <td>2007.00</td>\n",
       "      <td>2010.00</td>\n",
       "      <td>2016.00</td>\n",
       "    </tr>\n",
       "    <tr>\n",
       "      <td>NA_sales</td>\n",
       "      <td>16715.0</td>\n",
       "      <td>0.263377</td>\n",
       "      <td>0.813604</td>\n",
       "      <td>0.0</td>\n",
       "      <td>0.0</td>\n",
       "      <td>0.08</td>\n",
       "      <td>0.24</td>\n",
       "      <td>41.36</td>\n",
       "    </tr>\n",
       "    <tr>\n",
       "      <td>EU_sales</td>\n",
       "      <td>16715.0</td>\n",
       "      <td>0.145060</td>\n",
       "      <td>0.503339</td>\n",
       "      <td>0.0</td>\n",
       "      <td>0.0</td>\n",
       "      <td>0.02</td>\n",
       "      <td>0.11</td>\n",
       "      <td>28.96</td>\n",
       "    </tr>\n",
       "    <tr>\n",
       "      <td>JP_sales</td>\n",
       "      <td>16715.0</td>\n",
       "      <td>0.077617</td>\n",
       "      <td>0.308853</td>\n",
       "      <td>0.0</td>\n",
       "      <td>0.0</td>\n",
       "      <td>0.00</td>\n",
       "      <td>0.04</td>\n",
       "      <td>10.22</td>\n",
       "    </tr>\n",
       "    <tr>\n",
       "      <td>Other_sales</td>\n",
       "      <td>16715.0</td>\n",
       "      <td>0.047342</td>\n",
       "      <td>0.186731</td>\n",
       "      <td>0.0</td>\n",
       "      <td>0.0</td>\n",
       "      <td>0.01</td>\n",
       "      <td>0.03</td>\n",
       "      <td>10.57</td>\n",
       "    </tr>\n",
       "    <tr>\n",
       "      <td>Critic_Score</td>\n",
       "      <td>8137.0</td>\n",
       "      <td>68.967679</td>\n",
       "      <td>13.938165</td>\n",
       "      <td>13.0</td>\n",
       "      <td>60.0</td>\n",
       "      <td>71.00</td>\n",
       "      <td>79.00</td>\n",
       "      <td>98.00</td>\n",
       "    </tr>\n",
       "  </tbody>\n",
       "</table>\n",
       "</div>"
      ],
      "text/plain": [
       "                   count         mean        std     min     25%      50%  \\\n",
       "Year_of_Release  16446.0  2006.484616   5.877050  1980.0  2003.0  2007.00   \n",
       "NA_sales         16715.0     0.263377   0.813604     0.0     0.0     0.08   \n",
       "EU_sales         16715.0     0.145060   0.503339     0.0     0.0     0.02   \n",
       "JP_sales         16715.0     0.077617   0.308853     0.0     0.0     0.00   \n",
       "Other_sales      16715.0     0.047342   0.186731     0.0     0.0     0.01   \n",
       "Critic_Score      8137.0    68.967679  13.938165    13.0    60.0    71.00   \n",
       "\n",
       "                     75%      max  \n",
       "Year_of_Release  2010.00  2016.00  \n",
       "NA_sales            0.24    41.36  \n",
       "EU_sales            0.11    28.96  \n",
       "JP_sales            0.04    10.22  \n",
       "Other_sales         0.03    10.57  \n",
       "Critic_Score       79.00    98.00  "
      ]
     },
     "execution_count": 7,
     "metadata": {},
     "output_type": "execute_result"
    }
   ],
   "source": [
    "df.describe().T"
   ]
  },
  {
   "cell_type": "markdown",
   "metadata": {
    "cellId": "s5lxxmbjpfcps89r9scpp"
   },
   "source": [
    "# 2 Предобработка данных <a class=\"anchor\" id=\"Предобработка\"></a>"
   ]
  },
  {
   "cell_type": "markdown",
   "metadata": {
    "cellId": "49v10bp1395h2jukv6bkhn"
   },
   "source": [
    "## Перевод в нижний регистр <a class=\"anchor\" id=\"нижний_регистр\"></a>"
   ]
  },
  {
   "cell_type": "code",
   "execution_count": 8,
   "metadata": {
    "cellId": "mjy5y9e346ev7nzfurfar"
   },
   "outputs": [
    {
     "data": {
      "text/html": [
       "<div>\n",
       "<style scoped>\n",
       "    .dataframe tbody tr th:only-of-type {\n",
       "        vertical-align: middle;\n",
       "    }\n",
       "\n",
       "    .dataframe tbody tr th {\n",
       "        vertical-align: top;\n",
       "    }\n",
       "\n",
       "    .dataframe thead th {\n",
       "        text-align: right;\n",
       "    }\n",
       "</style>\n",
       "<table border=\"1\" class=\"dataframe\">\n",
       "  <thead>\n",
       "    <tr style=\"text-align: right;\">\n",
       "      <th></th>\n",
       "      <th>name</th>\n",
       "      <th>platform</th>\n",
       "      <th>year_of_release</th>\n",
       "      <th>genre</th>\n",
       "      <th>na_sales</th>\n",
       "      <th>eu_sales</th>\n",
       "      <th>jp_sales</th>\n",
       "      <th>other_sales</th>\n",
       "      <th>critic_score</th>\n",
       "      <th>user_score</th>\n",
       "      <th>rating</th>\n",
       "    </tr>\n",
       "  </thead>\n",
       "  <tbody>\n",
       "    <tr>\n",
       "      <td>0</td>\n",
       "      <td>Wii Sports</td>\n",
       "      <td>Wii</td>\n",
       "      <td>2006.0</td>\n",
       "      <td>Sports</td>\n",
       "      <td>41.36</td>\n",
       "      <td>28.96</td>\n",
       "      <td>3.77</td>\n",
       "      <td>8.45</td>\n",
       "      <td>76.0</td>\n",
       "      <td>8</td>\n",
       "      <td>E</td>\n",
       "    </tr>\n",
       "    <tr>\n",
       "      <td>1</td>\n",
       "      <td>Super Mario Bros.</td>\n",
       "      <td>NES</td>\n",
       "      <td>1985.0</td>\n",
       "      <td>Platform</td>\n",
       "      <td>29.08</td>\n",
       "      <td>3.58</td>\n",
       "      <td>6.81</td>\n",
       "      <td>0.77</td>\n",
       "      <td>NaN</td>\n",
       "      <td>NaN</td>\n",
       "      <td>NaN</td>\n",
       "    </tr>\n",
       "  </tbody>\n",
       "</table>\n",
       "</div>"
      ],
      "text/plain": [
       "                name platform  year_of_release     genre  na_sales  eu_sales  \\\n",
       "0         Wii Sports      Wii           2006.0    Sports     41.36     28.96   \n",
       "1  Super Mario Bros.      NES           1985.0  Platform     29.08      3.58   \n",
       "\n",
       "   jp_sales  other_sales  critic_score user_score rating  \n",
       "0      3.77         8.45          76.0          8      E  \n",
       "1      6.81         0.77           NaN        NaN    NaN  "
      ]
     },
     "execution_count": 8,
     "metadata": {},
     "output_type": "execute_result"
    }
   ],
   "source": [
    "df.columns = df.columns.str.lower()\n",
    "df.head(2) # Проверяем"
   ]
  },
  {
   "cell_type": "markdown",
   "metadata": {
    "cellId": "zcvynevvsmytvwl9neuha"
   },
   "source": [
    "## Обработка пропусков <a class=\"anchor\" id=\"пропуски\"></a>\n",
    "Начнем с первого столбца с именами"
   ]
  },
  {
   "cell_type": "code",
   "execution_count": 9,
   "metadata": {
    "cellId": "2k0io3aqycullxnt0yib0f"
   },
   "outputs": [
    {
     "data": {
      "text/html": [
       "<div>\n",
       "<style scoped>\n",
       "    .dataframe tbody tr th:only-of-type {\n",
       "        vertical-align: middle;\n",
       "    }\n",
       "\n",
       "    .dataframe tbody tr th {\n",
       "        vertical-align: top;\n",
       "    }\n",
       "\n",
       "    .dataframe thead th {\n",
       "        text-align: right;\n",
       "    }\n",
       "</style>\n",
       "<table border=\"1\" class=\"dataframe\">\n",
       "  <thead>\n",
       "    <tr style=\"text-align: right;\">\n",
       "      <th></th>\n",
       "      <th>name</th>\n",
       "      <th>platform</th>\n",
       "      <th>year_of_release</th>\n",
       "      <th>genre</th>\n",
       "      <th>na_sales</th>\n",
       "      <th>eu_sales</th>\n",
       "      <th>jp_sales</th>\n",
       "      <th>other_sales</th>\n",
       "      <th>critic_score</th>\n",
       "      <th>user_score</th>\n",
       "      <th>rating</th>\n",
       "    </tr>\n",
       "  </thead>\n",
       "  <tbody>\n",
       "    <tr>\n",
       "      <td>659</td>\n",
       "      <td>NaN</td>\n",
       "      <td>GEN</td>\n",
       "      <td>1993.0</td>\n",
       "      <td>NaN</td>\n",
       "      <td>1.78</td>\n",
       "      <td>0.53</td>\n",
       "      <td>0.00</td>\n",
       "      <td>0.08</td>\n",
       "      <td>NaN</td>\n",
       "      <td>NaN</td>\n",
       "      <td>NaN</td>\n",
       "    </tr>\n",
       "    <tr>\n",
       "      <td>14244</td>\n",
       "      <td>NaN</td>\n",
       "      <td>GEN</td>\n",
       "      <td>1993.0</td>\n",
       "      <td>NaN</td>\n",
       "      <td>0.00</td>\n",
       "      <td>0.00</td>\n",
       "      <td>0.03</td>\n",
       "      <td>0.00</td>\n",
       "      <td>NaN</td>\n",
       "      <td>NaN</td>\n",
       "      <td>NaN</td>\n",
       "    </tr>\n",
       "  </tbody>\n",
       "</table>\n",
       "</div>"
      ],
      "text/plain": [
       "      name platform  year_of_release genre  na_sales  eu_sales  jp_sales  \\\n",
       "659    NaN      GEN           1993.0   NaN      1.78      0.53      0.00   \n",
       "14244  NaN      GEN           1993.0   NaN      0.00      0.00      0.03   \n",
       "\n",
       "       other_sales  critic_score user_score rating  \n",
       "659           0.08           NaN        NaN    NaN  \n",
       "14244         0.00           NaN        NaN    NaN  "
      ]
     },
     "execution_count": 9,
     "metadata": {},
     "output_type": "execute_result"
    }
   ],
   "source": [
    "df[df['name'].isna()]"
   ]
  },
  {
   "cell_type": "markdown",
   "metadata": {
    "cellId": "0aiqadg7w3mhe8cgyek0pi9"
   },
   "source": [
    "Эти строчки можно удалить. Их удаление не повлечет за собой искажение данных"
   ]
  },
  {
   "cell_type": "code",
   "execution_count": 10,
   "metadata": {
    "cellId": "vxbeq68m5ots68dni3yhd"
   },
   "outputs": [
    {
     "data": {
      "text/html": [
       "<div>\n",
       "<style scoped>\n",
       "    .dataframe tbody tr th:only-of-type {\n",
       "        vertical-align: middle;\n",
       "    }\n",
       "\n",
       "    .dataframe tbody tr th {\n",
       "        vertical-align: top;\n",
       "    }\n",
       "\n",
       "    .dataframe thead th {\n",
       "        text-align: right;\n",
       "    }\n",
       "</style>\n",
       "<table border=\"1\" class=\"dataframe\">\n",
       "  <thead>\n",
       "    <tr style=\"text-align: right;\">\n",
       "      <th></th>\n",
       "      <th>name</th>\n",
       "      <th>platform</th>\n",
       "      <th>year_of_release</th>\n",
       "      <th>genre</th>\n",
       "      <th>na_sales</th>\n",
       "      <th>eu_sales</th>\n",
       "      <th>jp_sales</th>\n",
       "      <th>other_sales</th>\n",
       "      <th>critic_score</th>\n",
       "      <th>user_score</th>\n",
       "      <th>rating</th>\n",
       "    </tr>\n",
       "  </thead>\n",
       "  <tbody>\n",
       "  </tbody>\n",
       "</table>\n",
       "</div>"
      ],
      "text/plain": [
       "Empty DataFrame\n",
       "Columns: [name, platform, year_of_release, genre, na_sales, eu_sales, jp_sales, other_sales, critic_score, user_score, rating]\n",
       "Index: []"
      ]
     },
     "execution_count": 10,
     "metadata": {},
     "output_type": "execute_result"
    }
   ],
   "source": [
    "df = df.dropna(axis='index', how='any', subset=['name'])\n",
    "df[df['name'].isna()] # проверяем"
   ]
  },
  {
   "cell_type": "markdown",
   "metadata": {
    "cellId": "lz8uc21m17kwh73whawr"
   },
   "source": [
    "Пропусков в столбце с платформами нет"
   ]
  },
  {
   "cell_type": "code",
   "execution_count": 11,
   "metadata": {
    "cellId": "td9iu30qm1szipk8szqol",
    "scrolled": true
   },
   "outputs": [
    {
     "data": {
      "text/html": [
       "<div>\n",
       "<style scoped>\n",
       "    .dataframe tbody tr th:only-of-type {\n",
       "        vertical-align: middle;\n",
       "    }\n",
       "\n",
       "    .dataframe tbody tr th {\n",
       "        vertical-align: top;\n",
       "    }\n",
       "\n",
       "    .dataframe thead th {\n",
       "        text-align: right;\n",
       "    }\n",
       "</style>\n",
       "<table border=\"1\" class=\"dataframe\">\n",
       "  <thead>\n",
       "    <tr style=\"text-align: right;\">\n",
       "      <th></th>\n",
       "      <th>name</th>\n",
       "      <th>platform</th>\n",
       "      <th>year_of_release</th>\n",
       "      <th>genre</th>\n",
       "      <th>na_sales</th>\n",
       "      <th>eu_sales</th>\n",
       "      <th>jp_sales</th>\n",
       "      <th>other_sales</th>\n",
       "      <th>critic_score</th>\n",
       "      <th>user_score</th>\n",
       "      <th>rating</th>\n",
       "    </tr>\n",
       "  </thead>\n",
       "  <tbody>\n",
       "  </tbody>\n",
       "</table>\n",
       "</div>"
      ],
      "text/plain": [
       "Empty DataFrame\n",
       "Columns: [name, platform, year_of_release, genre, na_sales, eu_sales, jp_sales, other_sales, critic_score, user_score, rating]\n",
       "Index: []"
      ]
     },
     "execution_count": 11,
     "metadata": {},
     "output_type": "execute_result"
    }
   ],
   "source": [
    "df[df['platform'].isna()]"
   ]
  },
  {
   "cell_type": "markdown",
   "metadata": {
    "cellId": "w9vjc7bbiz05k2ur1sqntr"
   },
   "source": [
    "## Пропуски в дате издания"
   ]
  },
  {
   "cell_type": "code",
   "execution_count": 12,
   "metadata": {
    "cellId": "1kulp9aktrjqwyzsi0ugaq"
   },
   "outputs": [
    {
     "data": {
      "text/html": [
       "<div>\n",
       "<style scoped>\n",
       "    .dataframe tbody tr th:only-of-type {\n",
       "        vertical-align: middle;\n",
       "    }\n",
       "\n",
       "    .dataframe tbody tr th {\n",
       "        vertical-align: top;\n",
       "    }\n",
       "\n",
       "    .dataframe thead th {\n",
       "        text-align: right;\n",
       "    }\n",
       "</style>\n",
       "<table border=\"1\" class=\"dataframe\">\n",
       "  <thead>\n",
       "    <tr style=\"text-align: right;\">\n",
       "      <th></th>\n",
       "      <th>name</th>\n",
       "      <th>platform</th>\n",
       "      <th>year_of_release</th>\n",
       "      <th>genre</th>\n",
       "      <th>na_sales</th>\n",
       "      <th>eu_sales</th>\n",
       "      <th>jp_sales</th>\n",
       "      <th>other_sales</th>\n",
       "      <th>critic_score</th>\n",
       "      <th>user_score</th>\n",
       "      <th>rating</th>\n",
       "    </tr>\n",
       "  </thead>\n",
       "  <tbody>\n",
       "    <tr>\n",
       "      <td>183</td>\n",
       "      <td>Madden NFL 2004</td>\n",
       "      <td>PS2</td>\n",
       "      <td>NaN</td>\n",
       "      <td>Sports</td>\n",
       "      <td>4.26</td>\n",
       "      <td>0.26</td>\n",
       "      <td>0.01</td>\n",
       "      <td>0.71</td>\n",
       "      <td>94.0</td>\n",
       "      <td>8.5</td>\n",
       "      <td>E</td>\n",
       "    </tr>\n",
       "    <tr>\n",
       "      <td>377</td>\n",
       "      <td>FIFA Soccer 2004</td>\n",
       "      <td>PS2</td>\n",
       "      <td>NaN</td>\n",
       "      <td>Sports</td>\n",
       "      <td>0.59</td>\n",
       "      <td>2.36</td>\n",
       "      <td>0.04</td>\n",
       "      <td>0.51</td>\n",
       "      <td>84.0</td>\n",
       "      <td>6.4</td>\n",
       "      <td>E</td>\n",
       "    </tr>\n",
       "    <tr>\n",
       "      <td>456</td>\n",
       "      <td>LEGO Batman: The Videogame</td>\n",
       "      <td>Wii</td>\n",
       "      <td>NaN</td>\n",
       "      <td>Action</td>\n",
       "      <td>1.80</td>\n",
       "      <td>0.97</td>\n",
       "      <td>0.00</td>\n",
       "      <td>0.29</td>\n",
       "      <td>74.0</td>\n",
       "      <td>7.9</td>\n",
       "      <td>E10+</td>\n",
       "    </tr>\n",
       "    <tr>\n",
       "      <td>475</td>\n",
       "      <td>wwe Smackdown vs. Raw 2006</td>\n",
       "      <td>PS2</td>\n",
       "      <td>NaN</td>\n",
       "      <td>Fighting</td>\n",
       "      <td>1.57</td>\n",
       "      <td>1.02</td>\n",
       "      <td>0.00</td>\n",
       "      <td>0.41</td>\n",
       "      <td>NaN</td>\n",
       "      <td>NaN</td>\n",
       "      <td>NaN</td>\n",
       "    </tr>\n",
       "    <tr>\n",
       "      <td>609</td>\n",
       "      <td>Space Invaders</td>\n",
       "      <td>2600</td>\n",
       "      <td>NaN</td>\n",
       "      <td>Shooter</td>\n",
       "      <td>2.36</td>\n",
       "      <td>0.14</td>\n",
       "      <td>0.00</td>\n",
       "      <td>0.03</td>\n",
       "      <td>NaN</td>\n",
       "      <td>NaN</td>\n",
       "      <td>NaN</td>\n",
       "    </tr>\n",
       "    <tr>\n",
       "      <td>...</td>\n",
       "      <td>...</td>\n",
       "      <td>...</td>\n",
       "      <td>...</td>\n",
       "      <td>...</td>\n",
       "      <td>...</td>\n",
       "      <td>...</td>\n",
       "      <td>...</td>\n",
       "      <td>...</td>\n",
       "      <td>...</td>\n",
       "      <td>...</td>\n",
       "      <td>...</td>\n",
       "    </tr>\n",
       "    <tr>\n",
       "      <td>16373</td>\n",
       "      <td>PDC World Championship Darts 2008</td>\n",
       "      <td>PSP</td>\n",
       "      <td>NaN</td>\n",
       "      <td>Sports</td>\n",
       "      <td>0.01</td>\n",
       "      <td>0.00</td>\n",
       "      <td>0.00</td>\n",
       "      <td>0.00</td>\n",
       "      <td>43.0</td>\n",
       "      <td>tbd</td>\n",
       "      <td>E10+</td>\n",
       "    </tr>\n",
       "    <tr>\n",
       "      <td>16405</td>\n",
       "      <td>Freaky Flyers</td>\n",
       "      <td>GC</td>\n",
       "      <td>NaN</td>\n",
       "      <td>Racing</td>\n",
       "      <td>0.01</td>\n",
       "      <td>0.00</td>\n",
       "      <td>0.00</td>\n",
       "      <td>0.00</td>\n",
       "      <td>69.0</td>\n",
       "      <td>6.5</td>\n",
       "      <td>T</td>\n",
       "    </tr>\n",
       "    <tr>\n",
       "      <td>16448</td>\n",
       "      <td>Inversion</td>\n",
       "      <td>PC</td>\n",
       "      <td>NaN</td>\n",
       "      <td>Shooter</td>\n",
       "      <td>0.01</td>\n",
       "      <td>0.00</td>\n",
       "      <td>0.00</td>\n",
       "      <td>0.00</td>\n",
       "      <td>59.0</td>\n",
       "      <td>6.7</td>\n",
       "      <td>M</td>\n",
       "    </tr>\n",
       "    <tr>\n",
       "      <td>16458</td>\n",
       "      <td>Hakuouki: Shinsengumi Kitan</td>\n",
       "      <td>PS3</td>\n",
       "      <td>NaN</td>\n",
       "      <td>Adventure</td>\n",
       "      <td>0.01</td>\n",
       "      <td>0.00</td>\n",
       "      <td>0.00</td>\n",
       "      <td>0.00</td>\n",
       "      <td>NaN</td>\n",
       "      <td>NaN</td>\n",
       "      <td>NaN</td>\n",
       "    </tr>\n",
       "    <tr>\n",
       "      <td>16522</td>\n",
       "      <td>Virtua Quest</td>\n",
       "      <td>GC</td>\n",
       "      <td>NaN</td>\n",
       "      <td>Role-Playing</td>\n",
       "      <td>0.01</td>\n",
       "      <td>0.00</td>\n",
       "      <td>0.00</td>\n",
       "      <td>0.00</td>\n",
       "      <td>55.0</td>\n",
       "      <td>5.5</td>\n",
       "      <td>T</td>\n",
       "    </tr>\n",
       "  </tbody>\n",
       "</table>\n",
       "<p>269 rows × 11 columns</p>\n",
       "</div>"
      ],
      "text/plain": [
       "                                    name platform  year_of_release  \\\n",
       "183                      Madden NFL 2004      PS2              NaN   \n",
       "377                     FIFA Soccer 2004      PS2              NaN   \n",
       "456           LEGO Batman: The Videogame      Wii              NaN   \n",
       "475           wwe Smackdown vs. Raw 2006      PS2              NaN   \n",
       "609                       Space Invaders     2600              NaN   \n",
       "...                                  ...      ...              ...   \n",
       "16373  PDC World Championship Darts 2008      PSP              NaN   \n",
       "16405                      Freaky Flyers       GC              NaN   \n",
       "16448                          Inversion       PC              NaN   \n",
       "16458        Hakuouki: Shinsengumi Kitan      PS3              NaN   \n",
       "16522                       Virtua Quest       GC              NaN   \n",
       "\n",
       "              genre  na_sales  eu_sales  jp_sales  other_sales  critic_score  \\\n",
       "183          Sports      4.26      0.26      0.01         0.71          94.0   \n",
       "377          Sports      0.59      2.36      0.04         0.51          84.0   \n",
       "456          Action      1.80      0.97      0.00         0.29          74.0   \n",
       "475        Fighting      1.57      1.02      0.00         0.41           NaN   \n",
       "609         Shooter      2.36      0.14      0.00         0.03           NaN   \n",
       "...             ...       ...       ...       ...          ...           ...   \n",
       "16373        Sports      0.01      0.00      0.00         0.00          43.0   \n",
       "16405        Racing      0.01      0.00      0.00         0.00          69.0   \n",
       "16448       Shooter      0.01      0.00      0.00         0.00          59.0   \n",
       "16458     Adventure      0.01      0.00      0.00         0.00           NaN   \n",
       "16522  Role-Playing      0.01      0.00      0.00         0.00          55.0   \n",
       "\n",
       "      user_score rating  \n",
       "183          8.5      E  \n",
       "377          6.4      E  \n",
       "456          7.9   E10+  \n",
       "475          NaN    NaN  \n",
       "609          NaN    NaN  \n",
       "...          ...    ...  \n",
       "16373        tbd   E10+  \n",
       "16405        6.5      T  \n",
       "16448        6.7      M  \n",
       "16458        NaN    NaN  \n",
       "16522        5.5      T  \n",
       "\n",
       "[269 rows x 11 columns]"
      ]
     },
     "execution_count": 12,
     "metadata": {},
     "output_type": "execute_result"
    }
   ],
   "source": [
    "df[df['year_of_release'].isna()]"
   ]
  },
  {
   "cell_type": "markdown",
   "metadata": {
    "cellId": "rom6urnih3ea0so5vmy6ke"
   },
   "source": [
    "Удалять эти строки мы не можем. Они содержат данные об продажах, жанре и платформе, они нужны для анализа, поэтому сохраним их и заменим пропуски значений в годах издания  на 0 и перевед тип данных в uint16. В дальнейшем исследовании, где будут фигулировать года, мы будем удалять эти строки из нашей выборке по признаку равеноство нулю в столбце year_of_release "
   ]
  },
  {
   "cell_type": "code",
   "execution_count": 13,
   "metadata": {
    "cellId": "afliln4r9rop9oltd3lqjc"
   },
   "outputs": [],
   "source": [
    "df['year_of_release'] = df['year_of_release'].fillna(\"0\").astype('uint16')"
   ]
  },
  {
   "cell_type": "code",
   "execution_count": 14,
   "metadata": {
    "cellId": "bnxdghpnlnnv6h6i4yp9x"
   },
   "outputs": [
    {
     "name": "stdout",
     "output_type": "stream",
     "text": [
      "<class 'pandas.core.frame.DataFrame'>\n",
      "Int64Index: 16713 entries, 0 to 16714\n",
      "Data columns (total 11 columns):\n",
      "name               16713 non-null object\n",
      "platform           16713 non-null object\n",
      "year_of_release    16713 non-null uint16\n",
      "genre              16713 non-null object\n",
      "na_sales           16713 non-null float64\n",
      "eu_sales           16713 non-null float64\n",
      "jp_sales           16713 non-null float64\n",
      "other_sales        16713 non-null float64\n",
      "critic_score       8137 non-null float64\n",
      "user_score         10014 non-null object\n",
      "rating             9949 non-null object\n",
      "dtypes: float64(5), object(5), uint16(1)\n",
      "memory usage: 1.4+ MB\n"
     ]
    }
   ],
   "source": [
    "df.info() # Проверяем"
   ]
  },
  {
   "cell_type": "markdown",
   "metadata": {
    "cellId": "p8l7770d37efkoxhck6ae"
   },
   "source": [
    "Пропуски в жанрах отсутствуют "
   ]
  },
  {
   "cell_type": "code",
   "execution_count": 15,
   "metadata": {
    "cellId": "1t69tvoz6fwpkfplecf1j"
   },
   "outputs": [
    {
     "data": {
      "text/html": [
       "<div>\n",
       "<style scoped>\n",
       "    .dataframe tbody tr th:only-of-type {\n",
       "        vertical-align: middle;\n",
       "    }\n",
       "\n",
       "    .dataframe tbody tr th {\n",
       "        vertical-align: top;\n",
       "    }\n",
       "\n",
       "    .dataframe thead th {\n",
       "        text-align: right;\n",
       "    }\n",
       "</style>\n",
       "<table border=\"1\" class=\"dataframe\">\n",
       "  <thead>\n",
       "    <tr style=\"text-align: right;\">\n",
       "      <th></th>\n",
       "      <th>name</th>\n",
       "      <th>platform</th>\n",
       "      <th>year_of_release</th>\n",
       "      <th>genre</th>\n",
       "      <th>na_sales</th>\n",
       "      <th>eu_sales</th>\n",
       "      <th>jp_sales</th>\n",
       "      <th>other_sales</th>\n",
       "      <th>critic_score</th>\n",
       "      <th>user_score</th>\n",
       "      <th>rating</th>\n",
       "    </tr>\n",
       "  </thead>\n",
       "  <tbody>\n",
       "  </tbody>\n",
       "</table>\n",
       "</div>"
      ],
      "text/plain": [
       "Empty DataFrame\n",
       "Columns: [name, platform, year_of_release, genre, na_sales, eu_sales, jp_sales, other_sales, critic_score, user_score, rating]\n",
       "Index: []"
      ]
     },
     "execution_count": 15,
     "metadata": {},
     "output_type": "execute_result"
    }
   ],
   "source": [
    "df[df['genre'].isna()]"
   ]
  },
  {
   "cell_type": "code",
   "execution_count": 16,
   "metadata": {
    "cellId": "9hbt5w03396mgmgd7z7k89"
   },
   "outputs": [
    {
     "data": {
      "text/html": [
       "<div>\n",
       "<style scoped>\n",
       "    .dataframe tbody tr th:only-of-type {\n",
       "        vertical-align: middle;\n",
       "    }\n",
       "\n",
       "    .dataframe tbody tr th {\n",
       "        vertical-align: top;\n",
       "    }\n",
       "\n",
       "    .dataframe thead th {\n",
       "        text-align: right;\n",
       "    }\n",
       "</style>\n",
       "<table border=\"1\" class=\"dataframe\">\n",
       "  <thead>\n",
       "    <tr style=\"text-align: right;\">\n",
       "      <th></th>\n",
       "      <th>name</th>\n",
       "      <th>platform</th>\n",
       "      <th>year_of_release</th>\n",
       "      <th>genre</th>\n",
       "      <th>na_sales</th>\n",
       "      <th>eu_sales</th>\n",
       "      <th>jp_sales</th>\n",
       "      <th>other_sales</th>\n",
       "      <th>critic_score</th>\n",
       "      <th>user_score</th>\n",
       "      <th>rating</th>\n",
       "    </tr>\n",
       "  </thead>\n",
       "  <tbody>\n",
       "  </tbody>\n",
       "</table>\n",
       "</div>"
      ],
      "text/plain": [
       "Empty DataFrame\n",
       "Columns: [name, platform, year_of_release, genre, na_sales, eu_sales, jp_sales, other_sales, critic_score, user_score, rating]\n",
       "Index: []"
      ]
     },
     "execution_count": 16,
     "metadata": {},
     "output_type": "execute_result"
    }
   ],
   "source": [
    "df[df['na_sales'].isna()]"
   ]
  },
  {
   "cell_type": "code",
   "execution_count": 17,
   "metadata": {
    "cellId": "ey8s32jupgxg5ulkloi79"
   },
   "outputs": [
    {
     "data": {
      "text/html": [
       "<div>\n",
       "<style scoped>\n",
       "    .dataframe tbody tr th:only-of-type {\n",
       "        vertical-align: middle;\n",
       "    }\n",
       "\n",
       "    .dataframe tbody tr th {\n",
       "        vertical-align: top;\n",
       "    }\n",
       "\n",
       "    .dataframe thead th {\n",
       "        text-align: right;\n",
       "    }\n",
       "</style>\n",
       "<table border=\"1\" class=\"dataframe\">\n",
       "  <thead>\n",
       "    <tr style=\"text-align: right;\">\n",
       "      <th></th>\n",
       "      <th>name</th>\n",
       "      <th>platform</th>\n",
       "      <th>year_of_release</th>\n",
       "      <th>genre</th>\n",
       "      <th>na_sales</th>\n",
       "      <th>eu_sales</th>\n",
       "      <th>jp_sales</th>\n",
       "      <th>other_sales</th>\n",
       "      <th>critic_score</th>\n",
       "      <th>user_score</th>\n",
       "      <th>rating</th>\n",
       "    </tr>\n",
       "  </thead>\n",
       "  <tbody>\n",
       "  </tbody>\n",
       "</table>\n",
       "</div>"
      ],
      "text/plain": [
       "Empty DataFrame\n",
       "Columns: [name, platform, year_of_release, genre, na_sales, eu_sales, jp_sales, other_sales, critic_score, user_score, rating]\n",
       "Index: []"
      ]
     },
     "execution_count": 17,
     "metadata": {},
     "output_type": "execute_result"
    }
   ],
   "source": [
    "df[df['eu_sales'].isna()]"
   ]
  },
  {
   "cell_type": "code",
   "execution_count": 18,
   "metadata": {
    "cellId": "7r22wxoxz2gjfla93b74y8"
   },
   "outputs": [
    {
     "data": {
      "text/html": [
       "<div>\n",
       "<style scoped>\n",
       "    .dataframe tbody tr th:only-of-type {\n",
       "        vertical-align: middle;\n",
       "    }\n",
       "\n",
       "    .dataframe tbody tr th {\n",
       "        vertical-align: top;\n",
       "    }\n",
       "\n",
       "    .dataframe thead th {\n",
       "        text-align: right;\n",
       "    }\n",
       "</style>\n",
       "<table border=\"1\" class=\"dataframe\">\n",
       "  <thead>\n",
       "    <tr style=\"text-align: right;\">\n",
       "      <th></th>\n",
       "      <th>name</th>\n",
       "      <th>platform</th>\n",
       "      <th>year_of_release</th>\n",
       "      <th>genre</th>\n",
       "      <th>na_sales</th>\n",
       "      <th>eu_sales</th>\n",
       "      <th>jp_sales</th>\n",
       "      <th>other_sales</th>\n",
       "      <th>critic_score</th>\n",
       "      <th>user_score</th>\n",
       "      <th>rating</th>\n",
       "    </tr>\n",
       "  </thead>\n",
       "  <tbody>\n",
       "  </tbody>\n",
       "</table>\n",
       "</div>"
      ],
      "text/plain": [
       "Empty DataFrame\n",
       "Columns: [name, platform, year_of_release, genre, na_sales, eu_sales, jp_sales, other_sales, critic_score, user_score, rating]\n",
       "Index: []"
      ]
     },
     "execution_count": 18,
     "metadata": {},
     "output_type": "execute_result"
    }
   ],
   "source": [
    "df[df['jp_sales'].isna()]"
   ]
  },
  {
   "cell_type": "markdown",
   "metadata": {
    "cellId": "g89flfpj1fu0m3re2ujbhq"
   },
   "source": [
    "## Пропуски в оценке пользователей"
   ]
  },
  {
   "cell_type": "code",
   "execution_count": 19,
   "metadata": {
    "cellId": "yhurvs4ngdm3mwuyoj7iq"
   },
   "outputs": [
    {
     "data": {
      "text/plain": [
       "tbd    2424\n",
       "7.8     324\n",
       "8       290\n",
       "8.2     282\n",
       "8.3     254\n",
       "       ... \n",
       "9.6       2\n",
       "0.3       2\n",
       "0.5       2\n",
       "9.7       1\n",
       "0         1\n",
       "Name: user_score, Length: 96, dtype: int64"
      ]
     },
     "execution_count": 19,
     "metadata": {},
     "output_type": "execute_result"
    }
   ],
   "source": [
    "df['user_score'].value_counts() # Посмотрим на значения"
   ]
  },
  {
   "cell_type": "code",
   "execution_count": 20,
   "metadata": {
    "cellId": "3hn260x23lxowuzruk9dsm"
   },
   "outputs": [
    {
     "data": {
      "text/plain": [
       "Need for Speed: Most Wanted                       12\n",
       "LEGO Marvel Super Heroes                           9\n",
       "Madden NFL 07                                      9\n",
       "Ratatouille                                        9\n",
       "FIFA 14                                            9\n",
       "                                                  ..\n",
       "Crysis: Maximum Edition                            1\n",
       "Rome: Total War                                    1\n",
       "Sengoku Efuda Yuugi: Hototogisu Ran                1\n",
       "Super Fire ProWrestling Special                    1\n",
       "Sokukoku no Kusabi: Hiiro no Kakera 3 Portable     1\n",
       "Name: name, Length: 11559, dtype: int64"
      ]
     },
     "execution_count": 20,
     "metadata": {},
     "output_type": "execute_result"
    }
   ],
   "source": [
    "df['name'].value_counts() # Посмотирм на повторяющиеся"
   ]
  },
  {
   "cell_type": "code",
   "execution_count": 21,
   "metadata": {
    "cellId": "rzz73q5bs5snvhiebv2l3"
   },
   "outputs": [
    {
     "data": {
      "text/html": [
       "<div>\n",
       "<style scoped>\n",
       "    .dataframe tbody tr th:only-of-type {\n",
       "        vertical-align: middle;\n",
       "    }\n",
       "\n",
       "    .dataframe tbody tr th {\n",
       "        vertical-align: top;\n",
       "    }\n",
       "\n",
       "    .dataframe thead th {\n",
       "        text-align: right;\n",
       "    }\n",
       "</style>\n",
       "<table border=\"1\" class=\"dataframe\">\n",
       "  <thead>\n",
       "    <tr style=\"text-align: right;\">\n",
       "      <th></th>\n",
       "      <th>name</th>\n",
       "      <th>platform</th>\n",
       "      <th>year_of_release</th>\n",
       "      <th>genre</th>\n",
       "      <th>na_sales</th>\n",
       "      <th>eu_sales</th>\n",
       "      <th>jp_sales</th>\n",
       "      <th>other_sales</th>\n",
       "      <th>critic_score</th>\n",
       "      <th>user_score</th>\n",
       "      <th>rating</th>\n",
       "    </tr>\n",
       "  </thead>\n",
       "  <tbody>\n",
       "    <tr>\n",
       "      <td>253</td>\n",
       "      <td>Need for Speed: Most Wanted</td>\n",
       "      <td>PS2</td>\n",
       "      <td>2005</td>\n",
       "      <td>Racing</td>\n",
       "      <td>2.03</td>\n",
       "      <td>1.79</td>\n",
       "      <td>0.08</td>\n",
       "      <td>0.47</td>\n",
       "      <td>82.0</td>\n",
       "      <td>9.1</td>\n",
       "      <td>T</td>\n",
       "    </tr>\n",
       "    <tr>\n",
       "      <td>523</td>\n",
       "      <td>Need for Speed: Most Wanted</td>\n",
       "      <td>PS3</td>\n",
       "      <td>2012</td>\n",
       "      <td>Racing</td>\n",
       "      <td>0.71</td>\n",
       "      <td>1.46</td>\n",
       "      <td>0.06</td>\n",
       "      <td>0.58</td>\n",
       "      <td>NaN</td>\n",
       "      <td>NaN</td>\n",
       "      <td>NaN</td>\n",
       "    </tr>\n",
       "    <tr>\n",
       "      <td>1190</td>\n",
       "      <td>Need for Speed: Most Wanted</td>\n",
       "      <td>X360</td>\n",
       "      <td>2012</td>\n",
       "      <td>Racing</td>\n",
       "      <td>0.62</td>\n",
       "      <td>0.78</td>\n",
       "      <td>0.01</td>\n",
       "      <td>0.15</td>\n",
       "      <td>83.0</td>\n",
       "      <td>8.5</td>\n",
       "      <td>T</td>\n",
       "    </tr>\n",
       "    <tr>\n",
       "      <td>1591</td>\n",
       "      <td>Need for Speed: Most Wanted</td>\n",
       "      <td>X360</td>\n",
       "      <td>2005</td>\n",
       "      <td>Racing</td>\n",
       "      <td>1.00</td>\n",
       "      <td>0.13</td>\n",
       "      <td>0.02</td>\n",
       "      <td>0.10</td>\n",
       "      <td>83.0</td>\n",
       "      <td>8.5</td>\n",
       "      <td>T</td>\n",
       "    </tr>\n",
       "    <tr>\n",
       "      <td>1998</td>\n",
       "      <td>Need for Speed: Most Wanted</td>\n",
       "      <td>XB</td>\n",
       "      <td>2005</td>\n",
       "      <td>Racing</td>\n",
       "      <td>0.53</td>\n",
       "      <td>0.46</td>\n",
       "      <td>0.00</td>\n",
       "      <td>0.05</td>\n",
       "      <td>83.0</td>\n",
       "      <td>8.8</td>\n",
       "      <td>T</td>\n",
       "    </tr>\n",
       "    <tr>\n",
       "      <td>2048</td>\n",
       "      <td>Need for Speed: Most Wanted</td>\n",
       "      <td>PSV</td>\n",
       "      <td>2012</td>\n",
       "      <td>Racing</td>\n",
       "      <td>0.33</td>\n",
       "      <td>0.45</td>\n",
       "      <td>0.01</td>\n",
       "      <td>0.22</td>\n",
       "      <td>NaN</td>\n",
       "      <td>NaN</td>\n",
       "      <td>NaN</td>\n",
       "    </tr>\n",
       "    <tr>\n",
       "      <td>3581</td>\n",
       "      <td>Need for Speed: Most Wanted</td>\n",
       "      <td>GC</td>\n",
       "      <td>2005</td>\n",
       "      <td>Racing</td>\n",
       "      <td>0.43</td>\n",
       "      <td>0.11</td>\n",
       "      <td>0.00</td>\n",
       "      <td>0.02</td>\n",
       "      <td>80.0</td>\n",
       "      <td>9.1</td>\n",
       "      <td>T</td>\n",
       "    </tr>\n",
       "    <tr>\n",
       "      <td>5972</td>\n",
       "      <td>Need for Speed: Most Wanted</td>\n",
       "      <td>PC</td>\n",
       "      <td>2005</td>\n",
       "      <td>Racing</td>\n",
       "      <td>0.02</td>\n",
       "      <td>0.23</td>\n",
       "      <td>0.00</td>\n",
       "      <td>0.04</td>\n",
       "      <td>82.0</td>\n",
       "      <td>8.5</td>\n",
       "      <td>T</td>\n",
       "    </tr>\n",
       "    <tr>\n",
       "      <td>6273</td>\n",
       "      <td>Need for Speed: Most Wanted</td>\n",
       "      <td>WiiU</td>\n",
       "      <td>2013</td>\n",
       "      <td>Racing</td>\n",
       "      <td>0.13</td>\n",
       "      <td>0.12</td>\n",
       "      <td>0.00</td>\n",
       "      <td>0.02</td>\n",
       "      <td>NaN</td>\n",
       "      <td>NaN</td>\n",
       "      <td>NaN</td>\n",
       "    </tr>\n",
       "    <tr>\n",
       "      <td>6410</td>\n",
       "      <td>Need for Speed: Most Wanted</td>\n",
       "      <td>DS</td>\n",
       "      <td>2005</td>\n",
       "      <td>Racing</td>\n",
       "      <td>0.24</td>\n",
       "      <td>0.01</td>\n",
       "      <td>0.00</td>\n",
       "      <td>0.02</td>\n",
       "      <td>45.0</td>\n",
       "      <td>6.1</td>\n",
       "      <td>E</td>\n",
       "    </tr>\n",
       "    <tr>\n",
       "      <td>6473</td>\n",
       "      <td>Need for Speed: Most Wanted</td>\n",
       "      <td>GBA</td>\n",
       "      <td>2005</td>\n",
       "      <td>Racing</td>\n",
       "      <td>0.19</td>\n",
       "      <td>0.07</td>\n",
       "      <td>0.00</td>\n",
       "      <td>0.00</td>\n",
       "      <td>NaN</td>\n",
       "      <td>8.3</td>\n",
       "      <td>E</td>\n",
       "    </tr>\n",
       "    <tr>\n",
       "      <td>11715</td>\n",
       "      <td>Need for Speed: Most Wanted</td>\n",
       "      <td>PC</td>\n",
       "      <td>2012</td>\n",
       "      <td>Racing</td>\n",
       "      <td>0.00</td>\n",
       "      <td>0.06</td>\n",
       "      <td>0.00</td>\n",
       "      <td>0.02</td>\n",
       "      <td>82.0</td>\n",
       "      <td>8.5</td>\n",
       "      <td>T</td>\n",
       "    </tr>\n",
       "  </tbody>\n",
       "</table>\n",
       "</div>"
      ],
      "text/plain": [
       "                              name platform  year_of_release   genre  \\\n",
       "253    Need for Speed: Most Wanted      PS2             2005  Racing   \n",
       "523    Need for Speed: Most Wanted      PS3             2012  Racing   \n",
       "1190   Need for Speed: Most Wanted     X360             2012  Racing   \n",
       "1591   Need for Speed: Most Wanted     X360             2005  Racing   \n",
       "1998   Need for Speed: Most Wanted       XB             2005  Racing   \n",
       "2048   Need for Speed: Most Wanted      PSV             2012  Racing   \n",
       "3581   Need for Speed: Most Wanted       GC             2005  Racing   \n",
       "5972   Need for Speed: Most Wanted       PC             2005  Racing   \n",
       "6273   Need for Speed: Most Wanted     WiiU             2013  Racing   \n",
       "6410   Need for Speed: Most Wanted       DS             2005  Racing   \n",
       "6473   Need for Speed: Most Wanted      GBA             2005  Racing   \n",
       "11715  Need for Speed: Most Wanted       PC             2012  Racing   \n",
       "\n",
       "       na_sales  eu_sales  jp_sales  other_sales  critic_score user_score  \\\n",
       "253        2.03      1.79      0.08         0.47          82.0        9.1   \n",
       "523        0.71      1.46      0.06         0.58           NaN        NaN   \n",
       "1190       0.62      0.78      0.01         0.15          83.0        8.5   \n",
       "1591       1.00      0.13      0.02         0.10          83.0        8.5   \n",
       "1998       0.53      0.46      0.00         0.05          83.0        8.8   \n",
       "2048       0.33      0.45      0.01         0.22           NaN        NaN   \n",
       "3581       0.43      0.11      0.00         0.02          80.0        9.1   \n",
       "5972       0.02      0.23      0.00         0.04          82.0        8.5   \n",
       "6273       0.13      0.12      0.00         0.02           NaN        NaN   \n",
       "6410       0.24      0.01      0.00         0.02          45.0        6.1   \n",
       "6473       0.19      0.07      0.00         0.00           NaN        8.3   \n",
       "11715      0.00      0.06      0.00         0.02          82.0        8.5   \n",
       "\n",
       "      rating  \n",
       "253        T  \n",
       "523      NaN  \n",
       "1190       T  \n",
       "1591       T  \n",
       "1998       T  \n",
       "2048     NaN  \n",
       "3581       T  \n",
       "5972       T  \n",
       "6273     NaN  \n",
       "6410       E  \n",
       "6473       E  \n",
       "11715      T  "
      ]
     },
     "execution_count": 21,
     "metadata": {},
     "output_type": "execute_result"
    }
   ],
   "source": [
    "df[df['name'] == 'Need for Speed: Most Wanted']"
   ]
  },
  {
   "cell_type": "code",
   "execution_count": 22,
   "metadata": {
    "cellId": "j4kjuiciyzlt8uwqiugl"
   },
   "outputs": [
    {
     "data": {
      "text/html": [
       "<div>\n",
       "<style scoped>\n",
       "    .dataframe tbody tr th:only-of-type {\n",
       "        vertical-align: middle;\n",
       "    }\n",
       "\n",
       "    .dataframe tbody tr th {\n",
       "        vertical-align: top;\n",
       "    }\n",
       "\n",
       "    .dataframe thead th {\n",
       "        text-align: right;\n",
       "    }\n",
       "</style>\n",
       "<table border=\"1\" class=\"dataframe\">\n",
       "  <thead>\n",
       "    <tr style=\"text-align: right;\">\n",
       "      <th></th>\n",
       "      <th>name</th>\n",
       "      <th>platform</th>\n",
       "      <th>year_of_release</th>\n",
       "      <th>genre</th>\n",
       "      <th>na_sales</th>\n",
       "      <th>eu_sales</th>\n",
       "      <th>jp_sales</th>\n",
       "      <th>other_sales</th>\n",
       "      <th>critic_score</th>\n",
       "      <th>user_score</th>\n",
       "      <th>rating</th>\n",
       "    </tr>\n",
       "  </thead>\n",
       "  <tbody>\n",
       "    <tr>\n",
       "      <td>241</td>\n",
       "      <td>Madden NFL 07</td>\n",
       "      <td>PS2</td>\n",
       "      <td>2006</td>\n",
       "      <td>Sports</td>\n",
       "      <td>3.63</td>\n",
       "      <td>0.24</td>\n",
       "      <td>0.01</td>\n",
       "      <td>0.61</td>\n",
       "      <td>84.0</td>\n",
       "      <td>8.2</td>\n",
       "      <td>E</td>\n",
       "    </tr>\n",
       "    <tr>\n",
       "      <td>972</td>\n",
       "      <td>Madden NFL 07</td>\n",
       "      <td>X360</td>\n",
       "      <td>2006</td>\n",
       "      <td>Sports</td>\n",
       "      <td>1.66</td>\n",
       "      <td>0.00</td>\n",
       "      <td>0.01</td>\n",
       "      <td>0.13</td>\n",
       "      <td>80.0</td>\n",
       "      <td>6</td>\n",
       "      <td>E</td>\n",
       "    </tr>\n",
       "    <tr>\n",
       "      <td>2035</td>\n",
       "      <td>Madden NFL 07</td>\n",
       "      <td>XB</td>\n",
       "      <td>2006</td>\n",
       "      <td>Sports</td>\n",
       "      <td>0.97</td>\n",
       "      <td>0.03</td>\n",
       "      <td>0.00</td>\n",
       "      <td>0.03</td>\n",
       "      <td>83.0</td>\n",
       "      <td>8.7</td>\n",
       "      <td>E</td>\n",
       "    </tr>\n",
       "    <tr>\n",
       "      <td>2479</td>\n",
       "      <td>Madden NFL 07</td>\n",
       "      <td>PSP</td>\n",
       "      <td>0</td>\n",
       "      <td>Sports</td>\n",
       "      <td>0.77</td>\n",
       "      <td>0.03</td>\n",
       "      <td>0.00</td>\n",
       "      <td>0.04</td>\n",
       "      <td>78.0</td>\n",
       "      <td>6.6</td>\n",
       "      <td>E</td>\n",
       "    </tr>\n",
       "    <tr>\n",
       "      <td>3229</td>\n",
       "      <td>Madden NFL 07</td>\n",
       "      <td>GC</td>\n",
       "      <td>2006</td>\n",
       "      <td>Sports</td>\n",
       "      <td>0.48</td>\n",
       "      <td>0.13</td>\n",
       "      <td>0.00</td>\n",
       "      <td>0.02</td>\n",
       "      <td>82.0</td>\n",
       "      <td>9.2</td>\n",
       "      <td>E</td>\n",
       "    </tr>\n",
       "    <tr>\n",
       "      <td>3838</td>\n",
       "      <td>Madden NFL 07</td>\n",
       "      <td>PS3</td>\n",
       "      <td>2006</td>\n",
       "      <td>Sports</td>\n",
       "      <td>0.47</td>\n",
       "      <td>0.00</td>\n",
       "      <td>0.01</td>\n",
       "      <td>0.04</td>\n",
       "      <td>76.0</td>\n",
       "      <td>4.2</td>\n",
       "      <td>E</td>\n",
       "    </tr>\n",
       "    <tr>\n",
       "      <td>4006</td>\n",
       "      <td>Madden NFL 07</td>\n",
       "      <td>Wii</td>\n",
       "      <td>2006</td>\n",
       "      <td>Sports</td>\n",
       "      <td>0.46</td>\n",
       "      <td>0.00</td>\n",
       "      <td>0.00</td>\n",
       "      <td>0.04</td>\n",
       "      <td>81.0</td>\n",
       "      <td>8</td>\n",
       "      <td>E</td>\n",
       "    </tr>\n",
       "    <tr>\n",
       "      <td>7372</td>\n",
       "      <td>Madden NFL 07</td>\n",
       "      <td>DS</td>\n",
       "      <td>2006</td>\n",
       "      <td>Sports</td>\n",
       "      <td>0.20</td>\n",
       "      <td>0.00</td>\n",
       "      <td>0.00</td>\n",
       "      <td>0.02</td>\n",
       "      <td>70.0</td>\n",
       "      <td>6.5</td>\n",
       "      <td>E</td>\n",
       "    </tr>\n",
       "    <tr>\n",
       "      <td>14889</td>\n",
       "      <td>Madden NFL 07</td>\n",
       "      <td>GBA</td>\n",
       "      <td>2006</td>\n",
       "      <td>Sports</td>\n",
       "      <td>0.02</td>\n",
       "      <td>0.01</td>\n",
       "      <td>0.00</td>\n",
       "      <td>0.00</td>\n",
       "      <td>68.0</td>\n",
       "      <td>9.3</td>\n",
       "      <td>E</td>\n",
       "    </tr>\n",
       "  </tbody>\n",
       "</table>\n",
       "</div>"
      ],
      "text/plain": [
       "                name platform  year_of_release   genre  na_sales  eu_sales  \\\n",
       "241    Madden NFL 07      PS2             2006  Sports      3.63      0.24   \n",
       "972    Madden NFL 07     X360             2006  Sports      1.66      0.00   \n",
       "2035   Madden NFL 07       XB             2006  Sports      0.97      0.03   \n",
       "2479   Madden NFL 07      PSP                0  Sports      0.77      0.03   \n",
       "3229   Madden NFL 07       GC             2006  Sports      0.48      0.13   \n",
       "3838   Madden NFL 07      PS3             2006  Sports      0.47      0.00   \n",
       "4006   Madden NFL 07      Wii             2006  Sports      0.46      0.00   \n",
       "7372   Madden NFL 07       DS             2006  Sports      0.20      0.00   \n",
       "14889  Madden NFL 07      GBA             2006  Sports      0.02      0.01   \n",
       "\n",
       "       jp_sales  other_sales  critic_score user_score rating  \n",
       "241        0.01         0.61          84.0        8.2      E  \n",
       "972        0.01         0.13          80.0          6      E  \n",
       "2035       0.00         0.03          83.0        8.7      E  \n",
       "2479       0.00         0.04          78.0        6.6      E  \n",
       "3229       0.00         0.02          82.0        9.2      E  \n",
       "3838       0.01         0.04          76.0        4.2      E  \n",
       "4006       0.00         0.04          81.0          8      E  \n",
       "7372       0.00         0.02          70.0        6.5      E  \n",
       "14889      0.00         0.00          68.0        9.3      E  "
      ]
     },
     "execution_count": 22,
     "metadata": {},
     "output_type": "execute_result"
    }
   ],
   "source": [
    "df[df['name'] == 'Madden NFL 07']"
   ]
  },
  {
   "cell_type": "code",
   "execution_count": 23,
   "metadata": {
    "cellId": "isvpkv5050lqbrsh8fnk"
   },
   "outputs": [],
   "source": [
    "df['year_of_release'] = np.where((df.name == 'Madden NFL 07') & (df.year_of_release == 0), 2006, df.year_of_release)\n",
    "# Поменяем год раз уж нашли, очевидно что они выпустились все в один год"
   ]
  },
  {
   "cell_type": "code",
   "execution_count": 24,
   "metadata": {
    "cellId": "6g3ycuqd9r4d72c7fingh7"
   },
   "outputs": [
    {
     "data": {
      "text/html": [
       "<div>\n",
       "<style scoped>\n",
       "    .dataframe tbody tr th:only-of-type {\n",
       "        vertical-align: middle;\n",
       "    }\n",
       "\n",
       "    .dataframe tbody tr th {\n",
       "        vertical-align: top;\n",
       "    }\n",
       "\n",
       "    .dataframe thead th {\n",
       "        text-align: right;\n",
       "    }\n",
       "</style>\n",
       "<table border=\"1\" class=\"dataframe\">\n",
       "  <thead>\n",
       "    <tr style=\"text-align: right;\">\n",
       "      <th></th>\n",
       "      <th>name</th>\n",
       "      <th>platform</th>\n",
       "      <th>year_of_release</th>\n",
       "      <th>genre</th>\n",
       "      <th>na_sales</th>\n",
       "      <th>eu_sales</th>\n",
       "      <th>jp_sales</th>\n",
       "      <th>other_sales</th>\n",
       "      <th>critic_score</th>\n",
       "      <th>user_score</th>\n",
       "      <th>rating</th>\n",
       "    </tr>\n",
       "  </thead>\n",
       "  <tbody>\n",
       "    <tr>\n",
       "      <td>730</td>\n",
       "      <td>LEGO Marvel Super Heroes</td>\n",
       "      <td>X360</td>\n",
       "      <td>2013</td>\n",
       "      <td>Action</td>\n",
       "      <td>1.24</td>\n",
       "      <td>0.79</td>\n",
       "      <td>0.00</td>\n",
       "      <td>0.19</td>\n",
       "      <td>80.0</td>\n",
       "      <td>7.6</td>\n",
       "      <td>E10+</td>\n",
       "    </tr>\n",
       "    <tr>\n",
       "      <td>945</td>\n",
       "      <td>LEGO Marvel Super Heroes</td>\n",
       "      <td>PS3</td>\n",
       "      <td>2013</td>\n",
       "      <td>Action</td>\n",
       "      <td>0.77</td>\n",
       "      <td>0.76</td>\n",
       "      <td>0.01</td>\n",
       "      <td>0.29</td>\n",
       "      <td>82.0</td>\n",
       "      <td>7.9</td>\n",
       "      <td>E10+</td>\n",
       "    </tr>\n",
       "    <tr>\n",
       "      <td>1139</td>\n",
       "      <td>LEGO Marvel Super Heroes</td>\n",
       "      <td>PS4</td>\n",
       "      <td>2013</td>\n",
       "      <td>Action</td>\n",
       "      <td>0.59</td>\n",
       "      <td>0.76</td>\n",
       "      <td>0.01</td>\n",
       "      <td>0.26</td>\n",
       "      <td>83.0</td>\n",
       "      <td>7.7</td>\n",
       "      <td>E10+</td>\n",
       "    </tr>\n",
       "    <tr>\n",
       "      <td>1959</td>\n",
       "      <td>LEGO Marvel Super Heroes</td>\n",
       "      <td>XOne</td>\n",
       "      <td>2013</td>\n",
       "      <td>Action</td>\n",
       "      <td>0.61</td>\n",
       "      <td>0.35</td>\n",
       "      <td>0.00</td>\n",
       "      <td>0.09</td>\n",
       "      <td>NaN</td>\n",
       "      <td>6.8</td>\n",
       "      <td>E10+</td>\n",
       "    </tr>\n",
       "    <tr>\n",
       "      <td>2313</td>\n",
       "      <td>LEGO Marvel Super Heroes</td>\n",
       "      <td>3DS</td>\n",
       "      <td>2013</td>\n",
       "      <td>Action</td>\n",
       "      <td>0.42</td>\n",
       "      <td>0.36</td>\n",
       "      <td>0.04</td>\n",
       "      <td>0.07</td>\n",
       "      <td>61.0</td>\n",
       "      <td>5.2</td>\n",
       "      <td>E10+</td>\n",
       "    </tr>\n",
       "    <tr>\n",
       "      <td>2778</td>\n",
       "      <td>LEGO Marvel Super Heroes</td>\n",
       "      <td>WiiU</td>\n",
       "      <td>2013</td>\n",
       "      <td>Action</td>\n",
       "      <td>0.31</td>\n",
       "      <td>0.35</td>\n",
       "      <td>0.02</td>\n",
       "      <td>0.06</td>\n",
       "      <td>82.0</td>\n",
       "      <td>8</td>\n",
       "      <td>E10+</td>\n",
       "    </tr>\n",
       "    <tr>\n",
       "      <td>3876</td>\n",
       "      <td>LEGO Marvel Super Heroes</td>\n",
       "      <td>PSV</td>\n",
       "      <td>2013</td>\n",
       "      <td>Action</td>\n",
       "      <td>0.11</td>\n",
       "      <td>0.29</td>\n",
       "      <td>0.00</td>\n",
       "      <td>0.11</td>\n",
       "      <td>NaN</td>\n",
       "      <td>NaN</td>\n",
       "      <td>NaN</td>\n",
       "    </tr>\n",
       "    <tr>\n",
       "      <td>5054</td>\n",
       "      <td>LEGO Marvel Super Heroes</td>\n",
       "      <td>DS</td>\n",
       "      <td>2013</td>\n",
       "      <td>Action</td>\n",
       "      <td>0.22</td>\n",
       "      <td>0.13</td>\n",
       "      <td>0.00</td>\n",
       "      <td>0.03</td>\n",
       "      <td>NaN</td>\n",
       "      <td>4.8</td>\n",
       "      <td>E10+</td>\n",
       "    </tr>\n",
       "    <tr>\n",
       "      <td>8369</td>\n",
       "      <td>LEGO Marvel Super Heroes</td>\n",
       "      <td>PC</td>\n",
       "      <td>2013</td>\n",
       "      <td>Action</td>\n",
       "      <td>0.04</td>\n",
       "      <td>0.12</td>\n",
       "      <td>0.00</td>\n",
       "      <td>0.01</td>\n",
       "      <td>78.0</td>\n",
       "      <td>8.1</td>\n",
       "      <td>E10+</td>\n",
       "    </tr>\n",
       "  </tbody>\n",
       "</table>\n",
       "</div>"
      ],
      "text/plain": [
       "                          name platform  year_of_release   genre  na_sales  \\\n",
       "730   LEGO Marvel Super Heroes     X360             2013  Action      1.24   \n",
       "945   LEGO Marvel Super Heroes      PS3             2013  Action      0.77   \n",
       "1139  LEGO Marvel Super Heroes      PS4             2013  Action      0.59   \n",
       "1959  LEGO Marvel Super Heroes     XOne             2013  Action      0.61   \n",
       "2313  LEGO Marvel Super Heroes      3DS             2013  Action      0.42   \n",
       "2778  LEGO Marvel Super Heroes     WiiU             2013  Action      0.31   \n",
       "3876  LEGO Marvel Super Heroes      PSV             2013  Action      0.11   \n",
       "5054  LEGO Marvel Super Heroes       DS             2013  Action      0.22   \n",
       "8369  LEGO Marvel Super Heroes       PC             2013  Action      0.04   \n",
       "\n",
       "      eu_sales  jp_sales  other_sales  critic_score user_score rating  \n",
       "730       0.79      0.00         0.19          80.0        7.6   E10+  \n",
       "945       0.76      0.01         0.29          82.0        7.9   E10+  \n",
       "1139      0.76      0.01         0.26          83.0        7.7   E10+  \n",
       "1959      0.35      0.00         0.09           NaN        6.8   E10+  \n",
       "2313      0.36      0.04         0.07          61.0        5.2   E10+  \n",
       "2778      0.35      0.02         0.06          82.0          8   E10+  \n",
       "3876      0.29      0.00         0.11           NaN        NaN    NaN  \n",
       "5054      0.13      0.00         0.03           NaN        4.8   E10+  \n",
       "8369      0.12      0.00         0.01          78.0        8.1   E10+  "
      ]
     },
     "execution_count": 24,
     "metadata": {},
     "output_type": "execute_result"
    }
   ],
   "source": [
    "df[df['name'] == 'LEGO Marvel Super Heroes']"
   ]
  },
  {
   "cell_type": "code",
   "execution_count": 25,
   "metadata": {
    "cellId": "4pqcibzrpiykwt29ymr5"
   },
   "outputs": [],
   "source": [
    "df['rating'] = np.where((df.name == 'LEGO Marvel Super Heroes') & (df.rating.isna()), \"E10+\", df.rating) # Ну и тут заменим"
   ]
  },
  {
   "cell_type": "code",
   "execution_count": 26,
   "metadata": {
    "cellId": "5j3qyfzs4kvl7zv1a1hdrf"
   },
   "outputs": [
    {
     "data": {
      "text/html": [
       "<div>\n",
       "<style scoped>\n",
       "    .dataframe tbody tr th:only-of-type {\n",
       "        vertical-align: middle;\n",
       "    }\n",
       "\n",
       "    .dataframe tbody tr th {\n",
       "        vertical-align: top;\n",
       "    }\n",
       "\n",
       "    .dataframe thead th {\n",
       "        text-align: right;\n",
       "    }\n",
       "</style>\n",
       "<table border=\"1\" class=\"dataframe\">\n",
       "  <thead>\n",
       "    <tr style=\"text-align: right;\">\n",
       "      <th></th>\n",
       "      <th>name</th>\n",
       "      <th>platform</th>\n",
       "      <th>year_of_release</th>\n",
       "      <th>genre</th>\n",
       "      <th>na_sales</th>\n",
       "      <th>eu_sales</th>\n",
       "      <th>jp_sales</th>\n",
       "      <th>other_sales</th>\n",
       "      <th>critic_score</th>\n",
       "      <th>user_score</th>\n",
       "      <th>rating</th>\n",
       "    </tr>\n",
       "  </thead>\n",
       "  <tbody>\n",
       "    <tr>\n",
       "      <td>1598</td>\n",
       "      <td>Ratatouille</td>\n",
       "      <td>DS</td>\n",
       "      <td>2007</td>\n",
       "      <td>Action</td>\n",
       "      <td>0.49</td>\n",
       "      <td>0.62</td>\n",
       "      <td>0.0</td>\n",
       "      <td>0.14</td>\n",
       "      <td>NaN</td>\n",
       "      <td>NaN</td>\n",
       "      <td>NaN</td>\n",
       "    </tr>\n",
       "    <tr>\n",
       "      <td>2442</td>\n",
       "      <td>Ratatouille</td>\n",
       "      <td>PS2</td>\n",
       "      <td>2007</td>\n",
       "      <td>Action</td>\n",
       "      <td>0.31</td>\n",
       "      <td>0.00</td>\n",
       "      <td>0.0</td>\n",
       "      <td>0.53</td>\n",
       "      <td>65.0</td>\n",
       "      <td>8</td>\n",
       "      <td>E</td>\n",
       "    </tr>\n",
       "    <tr>\n",
       "      <td>3069</td>\n",
       "      <td>Ratatouille</td>\n",
       "      <td>PSP</td>\n",
       "      <td>2007</td>\n",
       "      <td>Action</td>\n",
       "      <td>0.22</td>\n",
       "      <td>0.27</td>\n",
       "      <td>0.0</td>\n",
       "      <td>0.16</td>\n",
       "      <td>64.0</td>\n",
       "      <td>7.1</td>\n",
       "      <td>E</td>\n",
       "    </tr>\n",
       "    <tr>\n",
       "      <td>3902</td>\n",
       "      <td>Ratatouille</td>\n",
       "      <td>PS3</td>\n",
       "      <td>2007</td>\n",
       "      <td>Action</td>\n",
       "      <td>0.09</td>\n",
       "      <td>0.32</td>\n",
       "      <td>0.0</td>\n",
       "      <td>0.10</td>\n",
       "      <td>55.0</td>\n",
       "      <td>4.8</td>\n",
       "      <td>E</td>\n",
       "    </tr>\n",
       "    <tr>\n",
       "      <td>3948</td>\n",
       "      <td>Ratatouille</td>\n",
       "      <td>Wii</td>\n",
       "      <td>2007</td>\n",
       "      <td>Action</td>\n",
       "      <td>0.43</td>\n",
       "      <td>0.03</td>\n",
       "      <td>0.0</td>\n",
       "      <td>0.04</td>\n",
       "      <td>62.0</td>\n",
       "      <td>6.7</td>\n",
       "      <td>E</td>\n",
       "    </tr>\n",
       "    <tr>\n",
       "      <td>6398</td>\n",
       "      <td>Ratatouille</td>\n",
       "      <td>X360</td>\n",
       "      <td>2007</td>\n",
       "      <td>Action</td>\n",
       "      <td>0.23</td>\n",
       "      <td>0.02</td>\n",
       "      <td>0.0</td>\n",
       "      <td>0.02</td>\n",
       "      <td>56.0</td>\n",
       "      <td>tbd</td>\n",
       "      <td>E</td>\n",
       "    </tr>\n",
       "    <tr>\n",
       "      <td>7681</td>\n",
       "      <td>Ratatouille</td>\n",
       "      <td>GBA</td>\n",
       "      <td>2007</td>\n",
       "      <td>Action</td>\n",
       "      <td>0.14</td>\n",
       "      <td>0.05</td>\n",
       "      <td>0.0</td>\n",
       "      <td>0.00</td>\n",
       "      <td>65.0</td>\n",
       "      <td>tbd</td>\n",
       "      <td>E</td>\n",
       "    </tr>\n",
       "    <tr>\n",
       "      <td>9015</td>\n",
       "      <td>Ratatouille</td>\n",
       "      <td>GC</td>\n",
       "      <td>2007</td>\n",
       "      <td>Action</td>\n",
       "      <td>0.11</td>\n",
       "      <td>0.03</td>\n",
       "      <td>0.0</td>\n",
       "      <td>0.00</td>\n",
       "      <td>60.0</td>\n",
       "      <td>5.6</td>\n",
       "      <td>E</td>\n",
       "    </tr>\n",
       "    <tr>\n",
       "      <td>14514</td>\n",
       "      <td>Ratatouille</td>\n",
       "      <td>PC</td>\n",
       "      <td>2007</td>\n",
       "      <td>Action</td>\n",
       "      <td>0.01</td>\n",
       "      <td>0.01</td>\n",
       "      <td>0.0</td>\n",
       "      <td>0.00</td>\n",
       "      <td>NaN</td>\n",
       "      <td>7.9</td>\n",
       "      <td>E</td>\n",
       "    </tr>\n",
       "  </tbody>\n",
       "</table>\n",
       "</div>"
      ],
      "text/plain": [
       "              name platform  year_of_release   genre  na_sales  eu_sales  \\\n",
       "1598   Ratatouille       DS             2007  Action      0.49      0.62   \n",
       "2442   Ratatouille      PS2             2007  Action      0.31      0.00   \n",
       "3069   Ratatouille      PSP             2007  Action      0.22      0.27   \n",
       "3902   Ratatouille      PS3             2007  Action      0.09      0.32   \n",
       "3948   Ratatouille      Wii             2007  Action      0.43      0.03   \n",
       "6398   Ratatouille     X360             2007  Action      0.23      0.02   \n",
       "7681   Ratatouille      GBA             2007  Action      0.14      0.05   \n",
       "9015   Ratatouille       GC             2007  Action      0.11      0.03   \n",
       "14514  Ratatouille       PC             2007  Action      0.01      0.01   \n",
       "\n",
       "       jp_sales  other_sales  critic_score user_score rating  \n",
       "1598        0.0         0.14           NaN        NaN    NaN  \n",
       "2442        0.0         0.53          65.0          8      E  \n",
       "3069        0.0         0.16          64.0        7.1      E  \n",
       "3902        0.0         0.10          55.0        4.8      E  \n",
       "3948        0.0         0.04          62.0        6.7      E  \n",
       "6398        0.0         0.02          56.0        tbd      E  \n",
       "7681        0.0         0.00          65.0        tbd      E  \n",
       "9015        0.0         0.00          60.0        5.6      E  \n",
       "14514       0.0         0.00           NaN        7.9      E  "
      ]
     },
     "execution_count": 26,
     "metadata": {},
     "output_type": "execute_result"
    }
   ],
   "source": [
    "df[df['name'] == 'Ratatouille']"
   ]
  },
  {
   "cell_type": "code",
   "execution_count": 27,
   "metadata": {
    "cellId": "1itnixrjkwy46tjhzmsdvk"
   },
   "outputs": [],
   "source": [
    "df['rating'] = np.where((df.name == 'Ratatouille') & (df.rating.isna()), \"E\", df.rating)"
   ]
  },
  {
   "cell_type": "markdown",
   "metadata": {
    "cellId": "j95gb4atpxcsegn75r4lu"
   },
   "source": [
    "Tbd, как нам говорит интернет, аббревиатура. Ее расшифровка - это подлежит определению. Проглядев данные, можно заключить, что даже если игра выходила на разных платформах ее оценки пользователей могут разниться. Это связано с качеством реализацией на той или иной платформе, доп контентом, качеством сетевой игры ну и другие факторы, Поэтому, заполнить Tbd не получится заполнить, не нарушив при этом важные показатели. Предлагается выход заменить Tbd на Nan, для удобства работы, ну и чтобы можно было поменятяь тип данных в столбце"
   ]
  },
  {
   "cell_type": "code",
   "execution_count": 28,
   "metadata": {
    "cellId": "qitjze9tktf2vilgos4os9"
   },
   "outputs": [],
   "source": [
    "df['user_score'] = np.where(df.user_score == 'tbd', np.nan, df.user_score)"
   ]
  },
  {
   "cell_type": "code",
   "execution_count": 29,
   "metadata": {
    "cellId": "184j0l92131kjqukzfe8b"
   },
   "outputs": [
    {
     "data": {
      "text/html": [
       "<div>\n",
       "<style scoped>\n",
       "    .dataframe tbody tr th:only-of-type {\n",
       "        vertical-align: middle;\n",
       "    }\n",
       "\n",
       "    .dataframe tbody tr th {\n",
       "        vertical-align: top;\n",
       "    }\n",
       "\n",
       "    .dataframe thead th {\n",
       "        text-align: right;\n",
       "    }\n",
       "</style>\n",
       "<table border=\"1\" class=\"dataframe\">\n",
       "  <thead>\n",
       "    <tr style=\"text-align: right;\">\n",
       "      <th></th>\n",
       "      <th>name</th>\n",
       "      <th>platform</th>\n",
       "      <th>year_of_release</th>\n",
       "      <th>genre</th>\n",
       "      <th>na_sales</th>\n",
       "      <th>eu_sales</th>\n",
       "      <th>jp_sales</th>\n",
       "      <th>other_sales</th>\n",
       "      <th>critic_score</th>\n",
       "      <th>user_score</th>\n",
       "      <th>rating</th>\n",
       "    </tr>\n",
       "  </thead>\n",
       "  <tbody>\n",
       "  </tbody>\n",
       "</table>\n",
       "</div>"
      ],
      "text/plain": [
       "Empty DataFrame\n",
       "Columns: [name, platform, year_of_release, genre, na_sales, eu_sales, jp_sales, other_sales, critic_score, user_score, rating]\n",
       "Index: []"
      ]
     },
     "execution_count": 29,
     "metadata": {},
     "output_type": "execute_result"
    }
   ],
   "source": [
    "df[df['user_score'] == 'tbd']"
   ]
  },
  {
   "cell_type": "code",
   "execution_count": 30,
   "metadata": {
    "cellId": "pzh886pi0mku15msqt0ldd"
   },
   "outputs": [],
   "source": [
    "df['user_score'] = df['user_score'].astype('float16')"
   ]
  },
  {
   "cell_type": "code",
   "execution_count": 31,
   "metadata": {
    "cellId": "ji3d0h2qpg84h446yo4lll"
   },
   "outputs": [
    {
     "name": "stdout",
     "output_type": "stream",
     "text": [
      "<class 'pandas.core.frame.DataFrame'>\n",
      "Int64Index: 16713 entries, 0 to 16714\n",
      "Data columns (total 11 columns):\n",
      "name               16713 non-null object\n",
      "platform           16713 non-null object\n",
      "year_of_release    16713 non-null uint16\n",
      "genre              16713 non-null object\n",
      "na_sales           16713 non-null float64\n",
      "eu_sales           16713 non-null float64\n",
      "jp_sales           16713 non-null float64\n",
      "other_sales        16713 non-null float64\n",
      "critic_score       8137 non-null float64\n",
      "user_score         7590 non-null float16\n",
      "rating             9951 non-null object\n",
      "dtypes: float16(1), float64(5), object(4), uint16(1)\n",
      "memory usage: 1.3+ MB\n"
     ]
    }
   ],
   "source": [
    "df.info()"
   ]
  },
  {
   "cell_type": "markdown",
   "metadata": {
    "cellId": "ihh804vfzqi0e1u5fbqcee"
   },
   "source": [
    "## Пропуски в оценке Критиков\n",
    "С оценками критиков такая же история. Даже одинаковые игры, выпущенные на разных платформах, имеют разные оценки критиков, практически по тем же причинам что и у оценок пользователей. Пропуски мы эти заполнить не можем."
   ]
  },
  {
   "cell_type": "code",
   "execution_count": 32,
   "metadata": {
    "cellId": "i818rl8qgyqulw5gtzyr",
    "scrolled": true
   },
   "outputs": [
    {
     "data": {
      "text/plain": [
       "70.0    256\n",
       "71.0    254\n",
       "75.0    245\n",
       "78.0    240\n",
       "73.0    238\n",
       "       ... \n",
       "20.0      3\n",
       "17.0      1\n",
       "22.0      1\n",
       "13.0      1\n",
       "21.0      1\n",
       "Name: critic_score, Length: 82, dtype: int64"
      ]
     },
     "execution_count": 32,
     "metadata": {},
     "output_type": "execute_result"
    }
   ],
   "source": [
    "df['critic_score'].value_counts()"
   ]
  },
  {
   "cell_type": "markdown",
   "metadata": {
    "cellId": "880fuojk83tazbmple1x28"
   },
   "source": [
    "## Пропуски в  рейтинге от организации ESRB\n",
    "Кампания ESRB была основана в 1994 году, как говорит нам википедия, так что игры, выпускаемые до этого года, не могут иметь этот рейтинг. Поскольку мы планируем кампанию на 2017 год, нас интересует период 2016, 2015 годоы. Тренд в играх длится примерно 2 года. Примеры трендов Battle roayl, Autochess, карточные игры. Если наша кампания хочет выпустить игру, котоаря будет в тренде, то надо опираться именно на последнии 2 года. Это что касается средних игр, у больших проектов, так называемых Triple A проектов, другие факторы, а именно: техническая состаляющая, сюжет, реклама и так далее."
   ]
  },
  {
   "cell_type": "code",
   "execution_count": 33,
   "metadata": {
    "cellId": "4itaahbdg1pppc4491ztqk"
   },
   "outputs": [
    {
     "data": {
      "text/html": [
       "<div>\n",
       "<style scoped>\n",
       "    .dataframe tbody tr th:only-of-type {\n",
       "        vertical-align: middle;\n",
       "    }\n",
       "\n",
       "    .dataframe tbody tr th {\n",
       "        vertical-align: top;\n",
       "    }\n",
       "\n",
       "    .dataframe thead th {\n",
       "        text-align: right;\n",
       "    }\n",
       "</style>\n",
       "<table border=\"1\" class=\"dataframe\">\n",
       "  <thead>\n",
       "    <tr style=\"text-align: right;\">\n",
       "      <th></th>\n",
       "      <th>name</th>\n",
       "      <th>platform</th>\n",
       "      <th>year_of_release</th>\n",
       "      <th>genre</th>\n",
       "      <th>na_sales</th>\n",
       "      <th>eu_sales</th>\n",
       "      <th>jp_sales</th>\n",
       "      <th>other_sales</th>\n",
       "      <th>critic_score</th>\n",
       "      <th>user_score</th>\n",
       "      <th>rating</th>\n",
       "    </tr>\n",
       "  </thead>\n",
       "  <tbody>\n",
       "    <tr>\n",
       "      <td>13642</td>\n",
       "      <td>Star Ocean 5: Integrity and Faithlessness</td>\n",
       "      <td>PS3</td>\n",
       "      <td>2016</td>\n",
       "      <td>Role-Playing</td>\n",
       "      <td>0.00</td>\n",
       "      <td>0.00</td>\n",
       "      <td>0.04</td>\n",
       "      <td>0.00</td>\n",
       "      <td>NaN</td>\n",
       "      <td>NaN</td>\n",
       "      <td>NaN</td>\n",
       "    </tr>\n",
       "    <tr>\n",
       "      <td>13744</td>\n",
       "      <td>Stellaris</td>\n",
       "      <td>PC</td>\n",
       "      <td>2016</td>\n",
       "      <td>Strategy</td>\n",
       "      <td>0.00</td>\n",
       "      <td>0.04</td>\n",
       "      <td>0.00</td>\n",
       "      <td>0.00</td>\n",
       "      <td>78.0</td>\n",
       "      <td>8.0</td>\n",
       "      <td>NaN</td>\n",
       "    </tr>\n",
       "    <tr>\n",
       "      <td>14345</td>\n",
       "      <td>3DS Classic Collection</td>\n",
       "      <td>3DS</td>\n",
       "      <td>2016</td>\n",
       "      <td>Misc</td>\n",
       "      <td>0.03</td>\n",
       "      <td>0.00</td>\n",
       "      <td>0.00</td>\n",
       "      <td>0.00</td>\n",
       "      <td>NaN</td>\n",
       "      <td>NaN</td>\n",
       "      <td>NaN</td>\n",
       "    </tr>\n",
       "    <tr>\n",
       "      <td>14337</td>\n",
       "      <td>F1 2016 (Codemasters)</td>\n",
       "      <td>PC</td>\n",
       "      <td>2016</td>\n",
       "      <td>Racing</td>\n",
       "      <td>0.00</td>\n",
       "      <td>0.03</td>\n",
       "      <td>0.00</td>\n",
       "      <td>0.00</td>\n",
       "      <td>NaN</td>\n",
       "      <td>NaN</td>\n",
       "      <td>NaN</td>\n",
       "    </tr>\n",
       "    <tr>\n",
       "      <td>14222</td>\n",
       "      <td>Atelier Firis: The Alchemist of the Mysterious...</td>\n",
       "      <td>PS4</td>\n",
       "      <td>2016</td>\n",
       "      <td>Role-Playing</td>\n",
       "      <td>0.00</td>\n",
       "      <td>0.00</td>\n",
       "      <td>0.03</td>\n",
       "      <td>0.00</td>\n",
       "      <td>NaN</td>\n",
       "      <td>NaN</td>\n",
       "      <td>NaN</td>\n",
       "    </tr>\n",
       "    <tr>\n",
       "      <td>...</td>\n",
       "      <td>...</td>\n",
       "      <td>...</td>\n",
       "      <td>...</td>\n",
       "      <td>...</td>\n",
       "      <td>...</td>\n",
       "      <td>...</td>\n",
       "      <td>...</td>\n",
       "      <td>...</td>\n",
       "      <td>...</td>\n",
       "      <td>...</td>\n",
       "      <td>...</td>\n",
       "    </tr>\n",
       "    <tr>\n",
       "      <td>8744</td>\n",
       "      <td>Wolfenstein: The Old Blood</td>\n",
       "      <td>XOne</td>\n",
       "      <td>2015</td>\n",
       "      <td>Action</td>\n",
       "      <td>0.07</td>\n",
       "      <td>0.07</td>\n",
       "      <td>0.00</td>\n",
       "      <td>0.01</td>\n",
       "      <td>75.0</td>\n",
       "      <td>8.0</td>\n",
       "      <td>NaN</td>\n",
       "    </tr>\n",
       "    <tr>\n",
       "      <td>8760</td>\n",
       "      <td>Theatrhythm Dragon Quest</td>\n",
       "      <td>3DS</td>\n",
       "      <td>2015</td>\n",
       "      <td>Misc</td>\n",
       "      <td>0.00</td>\n",
       "      <td>0.00</td>\n",
       "      <td>0.15</td>\n",
       "      <td>0.00</td>\n",
       "      <td>NaN</td>\n",
       "      <td>NaN</td>\n",
       "      <td>NaN</td>\n",
       "    </tr>\n",
       "    <tr>\n",
       "      <td>14183</td>\n",
       "      <td>Diabolik Lovers: Dark Fate</td>\n",
       "      <td>PSV</td>\n",
       "      <td>2015</td>\n",
       "      <td>Action</td>\n",
       "      <td>0.00</td>\n",
       "      <td>0.00</td>\n",
       "      <td>0.03</td>\n",
       "      <td>0.00</td>\n",
       "      <td>NaN</td>\n",
       "      <td>NaN</td>\n",
       "      <td>NaN</td>\n",
       "    </tr>\n",
       "    <tr>\n",
       "      <td>8812</td>\n",
       "      <td>Tokyo Xanadu</td>\n",
       "      <td>PSV</td>\n",
       "      <td>2015</td>\n",
       "      <td>Role-Playing</td>\n",
       "      <td>0.00</td>\n",
       "      <td>0.00</td>\n",
       "      <td>0.15</td>\n",
       "      <td>0.00</td>\n",
       "      <td>NaN</td>\n",
       "      <td>NaN</td>\n",
       "      <td>NaN</td>\n",
       "    </tr>\n",
       "    <tr>\n",
       "      <td>31</td>\n",
       "      <td>Call of Duty: Black Ops 3</td>\n",
       "      <td>PS4</td>\n",
       "      <td>2015</td>\n",
       "      <td>Shooter</td>\n",
       "      <td>6.03</td>\n",
       "      <td>5.86</td>\n",
       "      <td>0.36</td>\n",
       "      <td>2.38</td>\n",
       "      <td>NaN</td>\n",
       "      <td>NaN</td>\n",
       "      <td>NaN</td>\n",
       "    </tr>\n",
       "  </tbody>\n",
       "</table>\n",
       "<p>513 rows × 11 columns</p>\n",
       "</div>"
      ],
      "text/plain": [
       "                                                    name platform  \\\n",
       "13642          Star Ocean 5: Integrity and Faithlessness      PS3   \n",
       "13744                                          Stellaris       PC   \n",
       "14345                             3DS Classic Collection      3DS   \n",
       "14337                              F1 2016 (Codemasters)       PC   \n",
       "14222  Atelier Firis: The Alchemist of the Mysterious...      PS4   \n",
       "...                                                  ...      ...   \n",
       "8744                          Wolfenstein: The Old Blood     XOne   \n",
       "8760                            Theatrhythm Dragon Quest      3DS   \n",
       "14183                         Diabolik Lovers: Dark Fate      PSV   \n",
       "8812                                        Tokyo Xanadu      PSV   \n",
       "31                             Call of Duty: Black Ops 3      PS4   \n",
       "\n",
       "       year_of_release         genre  na_sales  eu_sales  jp_sales  \\\n",
       "13642             2016  Role-Playing      0.00      0.00      0.04   \n",
       "13744             2016      Strategy      0.00      0.04      0.00   \n",
       "14345             2016          Misc      0.03      0.00      0.00   \n",
       "14337             2016        Racing      0.00      0.03      0.00   \n",
       "14222             2016  Role-Playing      0.00      0.00      0.03   \n",
       "...                ...           ...       ...       ...       ...   \n",
       "8744              2015        Action      0.07      0.07      0.00   \n",
       "8760              2015          Misc      0.00      0.00      0.15   \n",
       "14183             2015        Action      0.00      0.00      0.03   \n",
       "8812              2015  Role-Playing      0.00      0.00      0.15   \n",
       "31                2015       Shooter      6.03      5.86      0.36   \n",
       "\n",
       "       other_sales  critic_score  user_score rating  \n",
       "13642         0.00           NaN         NaN    NaN  \n",
       "13744         0.00          78.0         8.0    NaN  \n",
       "14345         0.00           NaN         NaN    NaN  \n",
       "14337         0.00           NaN         NaN    NaN  \n",
       "14222         0.00           NaN         NaN    NaN  \n",
       "...            ...           ...         ...    ...  \n",
       "8744          0.01          75.0         8.0    NaN  \n",
       "8760          0.00           NaN         NaN    NaN  \n",
       "14183         0.00           NaN         NaN    NaN  \n",
       "8812          0.00           NaN         NaN    NaN  \n",
       "31            2.38           NaN         NaN    NaN  \n",
       "\n",
       "[513 rows x 11 columns]"
      ]
     },
     "execution_count": 33,
     "metadata": {},
     "output_type": "execute_result"
    }
   ],
   "source": [
    "df[(df['rating'].isna()) & (df['year_of_release'] > 2014)].sort_values('year_of_release', ascending = False)"
   ]
  },
  {
   "cell_type": "markdown",
   "metadata": {
    "cellId": "hxj8dsi5jtw63y2vkcmafc"
   },
   "source": [
    "513 интересующих нас игр не имеют рейтинга, это большое число. Заполнять вручную долго, брать среднее значение мы тоже не можем. Придется работаь с тем что есть. В следующий раз попросить дата инженеров присылать более полную базу данных."
   ]
  },
  {
   "cell_type": "code",
   "execution_count": 34,
   "metadata": {
    "cellId": "9yynnssan7434h37sacavf"
   },
   "outputs": [],
   "source": [
    "df['rating'] = df['rating'].fillna(\"uknown\")"
   ]
  },
  {
   "cell_type": "code",
   "execution_count": 35,
   "metadata": {
    "cellId": "o2mq37c8l2mg886m0x8615"
   },
   "outputs": [
    {
     "data": {
      "text/html": [
       "<div>\n",
       "<style scoped>\n",
       "    .dataframe tbody tr th:only-of-type {\n",
       "        vertical-align: middle;\n",
       "    }\n",
       "\n",
       "    .dataframe tbody tr th {\n",
       "        vertical-align: top;\n",
       "    }\n",
       "\n",
       "    .dataframe thead th {\n",
       "        text-align: right;\n",
       "    }\n",
       "</style>\n",
       "<table border=\"1\" class=\"dataframe\">\n",
       "  <thead>\n",
       "    <tr style=\"text-align: right;\">\n",
       "      <th></th>\n",
       "      <th>name</th>\n",
       "      <th>platform</th>\n",
       "      <th>year_of_release</th>\n",
       "      <th>genre</th>\n",
       "      <th>na_sales</th>\n",
       "      <th>eu_sales</th>\n",
       "      <th>jp_sales</th>\n",
       "      <th>other_sales</th>\n",
       "      <th>critic_score</th>\n",
       "      <th>user_score</th>\n",
       "      <th>rating</th>\n",
       "    </tr>\n",
       "  </thead>\n",
       "  <tbody>\n",
       "  </tbody>\n",
       "</table>\n",
       "</div>"
      ],
      "text/plain": [
       "Empty DataFrame\n",
       "Columns: [name, platform, year_of_release, genre, na_sales, eu_sales, jp_sales, other_sales, critic_score, user_score, rating]\n",
       "Index: []"
      ]
     },
     "execution_count": 35,
     "metadata": {},
     "output_type": "execute_result"
    }
   ],
   "source": [
    "df[(df['rating'].isna()) & (df['year_of_release'] > 2014)].sort_values('year_of_release', ascending = False)"
   ]
  },
  {
   "cell_type": "markdown",
   "metadata": {
    "cellId": "lu2c9v6jksahk1t1qyz2e"
   },
   "source": [
    "## Изменения типов данных <a class=\"anchor\" id=\"типданных\"></a>"
   ]
  },
  {
   "cell_type": "markdown",
   "metadata": {
    "cellId": "geqvivufwvn6b5jim0k99l"
   },
   "source": [
    "Изменим тип данных, в основном будет float и category, и уберем из нашей финальной таблицы название игр. Оно нам болше не понадобиться. Анализ по названию игр мы проводить не будем."
   ]
  },
  {
   "cell_type": "code",
   "execution_count": 36,
   "metadata": {
    "cellId": "oy94ohub85dvytvmw072"
   },
   "outputs": [],
   "source": [
    "df['total_sales'] = df['na_sales'] + df['eu_sales'] + df['jp_sales'] + df['other_sales']"
   ]
  },
  {
   "cell_type": "code",
   "execution_count": 37,
   "metadata": {
    "cellId": "uwcftzltjyoyskn3igzarl",
    "scrolled": true
   },
   "outputs": [
    {
     "name": "stdout",
     "output_type": "stream",
     "text": [
      "<class 'pandas.core.frame.DataFrame'>\n",
      "Int64Index: 16713 entries, 0 to 16714\n",
      "Data columns (total 11 columns):\n",
      "platform           16713 non-null object\n",
      "year_of_release    16713 non-null uint16\n",
      "genre              16713 non-null object\n",
      "na_sales           16713 non-null float64\n",
      "eu_sales           16713 non-null float64\n",
      "jp_sales           16713 non-null float64\n",
      "other_sales        16713 non-null float64\n",
      "critic_score       8137 non-null float64\n",
      "user_score         7590 non-null float16\n",
      "rating             16713 non-null object\n",
      "total_sales        16713 non-null float64\n",
      "dtypes: float16(1), float64(6), object(3), uint16(1)\n",
      "memory usage: 1.3+ MB\n"
     ]
    }
   ],
   "source": [
    "final_df = df.copy(deep=True)\n",
    "final_df.drop(['name'], axis=1, inplace=True)\n",
    "final_df.info()"
   ]
  },
  {
   "cell_type": "code",
   "execution_count": 38,
   "metadata": {
    "cellId": "mtipxe4gvbfsl1molbub"
   },
   "outputs": [
    {
     "name": "stdout",
     "output_type": "stream",
     "text": [
      "<class 'pandas.core.frame.DataFrame'>\n",
      "Int64Index: 16713 entries, 0 to 16714\n",
      "Data columns (total 11 columns):\n",
      "platform           16713 non-null category\n",
      "year_of_release    16713 non-null uint16\n",
      "genre              16713 non-null category\n",
      "na_sales           16713 non-null float64\n",
      "eu_sales           16713 non-null float64\n",
      "jp_sales           16713 non-null float64\n",
      "other_sales        16713 non-null float64\n",
      "critic_score       8137 non-null float64\n",
      "user_score         7590 non-null float16\n",
      "rating             16713 non-null category\n",
      "total_sales        16713 non-null float64\n",
      "dtypes: category(3), float16(1), float64(6), uint16(1)\n",
      "memory usage: 1.0 MB\n"
     ]
    }
   ],
   "source": [
    "final_df['platform'] = final_df['platform'].astype('category') # Платформ не так уж много\n",
    "final_df['genre'] = final_df['genre'].astype('category') # как и жанров\n",
    "final_df['rating'] = final_df['rating'].astype('category') # как и рейтинга\n",
    "final_df.info()"
   ]
  },
  {
   "cell_type": "markdown",
   "metadata": {
    "cellId": "u2v800univb3sm5b3kvoc"
   },
   "source": [
    "## 3 Исследовательский анализ данных <a class=\"anchor\" id=\"иследование\"></a>"
   ]
  },
  {
   "cell_type": "code",
   "execution_count": 39,
   "metadata": {
    "cellId": "l2prh9qimbpy4u5edtjetp"
   },
   "outputs": [
    {
     "data": {
      "text/plain": [
       "<matplotlib.axes._subplots.AxesSubplot at 0x7fc0625898d0>"
      ]
     },
     "execution_count": 39,
     "metadata": {},
     "output_type": "execute_result"
    },
    {
     "data": {
      "image/png": "[encoded data removed]",
      "text/plain": [
       "<Figure size 864x864 with 1 Axes>"
      ]
     },
     "metadata": {
      "needs_background": "light"
     },
     "output_type": "display_data"
    }
   ],
   "source": [
    "games_year = final_df[final_df['year_of_release'] != 0].groupby('year_of_release')['platform'].count().reset_index()\n",
    "games_year.plot(\n",
    "    x='year_of_release',\n",
    "    y='platform',\n",
    "    kind='bar',\n",
    "    grid=True,\n",
    "    title='Кол-во игр в год',\n",
    "    legend=False,\n",
    "    figsize = (12,12)\n",
    ")"
   ]
  },
  {
   "cell_type": "markdown",
   "metadata": {
    "cellId": "mbvcb1yxnqohmegctbz8c9"
   },
   "source": [
    "Пик выпуска игр виден на 2008, 2009 года, потом идет снижение кол-ва выпусков игр, это может быть связано с возрастающим требованием игроков к играм"
   ]
  },
  {
   "cell_type": "code",
   "execution_count": 40,
   "metadata": {
    "cellId": "hgduhht4cuyk1c8jcbc7"
   },
   "outputs": [
    {
     "data": {
      "text/html": [
       "<div>\n",
       "<style scoped>\n",
       "    .dataframe tbody tr th:only-of-type {\n",
       "        vertical-align: middle;\n",
       "    }\n",
       "\n",
       "    .dataframe tbody tr th {\n",
       "        vertical-align: top;\n",
       "    }\n",
       "\n",
       "    .dataframe thead th {\n",
       "        text-align: right;\n",
       "    }\n",
       "</style>\n",
       "<table border=\"1\" class=\"dataframe\">\n",
       "  <thead>\n",
       "    <tr style=\"text-align: right;\">\n",
       "      <th></th>\n",
       "      <th>platform</th>\n",
       "      <th>na_sales</th>\n",
       "    </tr>\n",
       "  </thead>\n",
       "  <tbody>\n",
       "    <tr>\n",
       "      <td>0</td>\n",
       "      <td>PS2</td>\n",
       "      <td>2161</td>\n",
       "    </tr>\n",
       "    <tr>\n",
       "      <td>1</td>\n",
       "      <td>DS</td>\n",
       "      <td>2151</td>\n",
       "    </tr>\n",
       "    <tr>\n",
       "      <td>2</td>\n",
       "      <td>PS3</td>\n",
       "      <td>1331</td>\n",
       "    </tr>\n",
       "    <tr>\n",
       "      <td>3</td>\n",
       "      <td>Wii</td>\n",
       "      <td>1320</td>\n",
       "    </tr>\n",
       "    <tr>\n",
       "      <td>4</td>\n",
       "      <td>X360</td>\n",
       "      <td>1262</td>\n",
       "    </tr>\n",
       "    <tr>\n",
       "      <td>5</td>\n",
       "      <td>PSP</td>\n",
       "      <td>1209</td>\n",
       "    </tr>\n",
       "    <tr>\n",
       "      <td>6</td>\n",
       "      <td>PS</td>\n",
       "      <td>1197</td>\n",
       "    </tr>\n",
       "    <tr>\n",
       "      <td>7</td>\n",
       "      <td>PC</td>\n",
       "      <td>974</td>\n",
       "    </tr>\n",
       "    <tr>\n",
       "      <td>8</td>\n",
       "      <td>XB</td>\n",
       "      <td>824</td>\n",
       "    </tr>\n",
       "    <tr>\n",
       "      <td>9</td>\n",
       "      <td>GBA</td>\n",
       "      <td>822</td>\n",
       "    </tr>\n",
       "    <tr>\n",
       "      <td>10</td>\n",
       "      <td>GC</td>\n",
       "      <td>556</td>\n",
       "    </tr>\n",
       "    <tr>\n",
       "      <td>11</td>\n",
       "      <td>3DS</td>\n",
       "      <td>520</td>\n",
       "    </tr>\n",
       "    <tr>\n",
       "      <td>12</td>\n",
       "      <td>PSV</td>\n",
       "      <td>430</td>\n",
       "    </tr>\n",
       "    <tr>\n",
       "      <td>13</td>\n",
       "      <td>PS4</td>\n",
       "      <td>392</td>\n",
       "    </tr>\n",
       "    <tr>\n",
       "      <td>14</td>\n",
       "      <td>N64</td>\n",
       "      <td>319</td>\n",
       "    </tr>\n",
       "    <tr>\n",
       "      <td>15</td>\n",
       "      <td>XOne</td>\n",
       "      <td>247</td>\n",
       "    </tr>\n",
       "    <tr>\n",
       "      <td>16</td>\n",
       "      <td>SNES</td>\n",
       "      <td>239</td>\n",
       "    </tr>\n",
       "    <tr>\n",
       "      <td>17</td>\n",
       "      <td>SAT</td>\n",
       "      <td>173</td>\n",
       "    </tr>\n",
       "    <tr>\n",
       "      <td>18</td>\n",
       "      <td>WiiU</td>\n",
       "      <td>147</td>\n",
       "    </tr>\n",
       "    <tr>\n",
       "      <td>19</td>\n",
       "      <td>2600</td>\n",
       "      <td>133</td>\n",
       "    </tr>\n",
       "    <tr>\n",
       "      <td>20</td>\n",
       "      <td>NES</td>\n",
       "      <td>98</td>\n",
       "    </tr>\n",
       "    <tr>\n",
       "      <td>21</td>\n",
       "      <td>GB</td>\n",
       "      <td>98</td>\n",
       "    </tr>\n",
       "    <tr>\n",
       "      <td>22</td>\n",
       "      <td>DC</td>\n",
       "      <td>52</td>\n",
       "    </tr>\n",
       "    <tr>\n",
       "      <td>23</td>\n",
       "      <td>GEN</td>\n",
       "      <td>27</td>\n",
       "    </tr>\n",
       "    <tr>\n",
       "      <td>24</td>\n",
       "      <td>NG</td>\n",
       "      <td>12</td>\n",
       "    </tr>\n",
       "    <tr>\n",
       "      <td>25</td>\n",
       "      <td>SCD</td>\n",
       "      <td>6</td>\n",
       "    </tr>\n",
       "    <tr>\n",
       "      <td>26</td>\n",
       "      <td>WS</td>\n",
       "      <td>6</td>\n",
       "    </tr>\n",
       "    <tr>\n",
       "      <td>27</td>\n",
       "      <td>3DO</td>\n",
       "      <td>3</td>\n",
       "    </tr>\n",
       "    <tr>\n",
       "      <td>28</td>\n",
       "      <td>TG16</td>\n",
       "      <td>2</td>\n",
       "    </tr>\n",
       "    <tr>\n",
       "      <td>29</td>\n",
       "      <td>PCFX</td>\n",
       "      <td>1</td>\n",
       "    </tr>\n",
       "    <tr>\n",
       "      <td>30</td>\n",
       "      <td>GG</td>\n",
       "      <td>1</td>\n",
       "    </tr>\n",
       "  </tbody>\n",
       "</table>\n",
       "</div>"
      ],
      "text/plain": [
       "   platform  na_sales\n",
       "0       PS2      2161\n",
       "1        DS      2151\n",
       "2       PS3      1331\n",
       "3       Wii      1320\n",
       "4      X360      1262\n",
       "5       PSP      1209\n",
       "6        PS      1197\n",
       "7        PC       974\n",
       "8        XB       824\n",
       "9       GBA       822\n",
       "10       GC       556\n",
       "11      3DS       520\n",
       "12      PSV       430\n",
       "13      PS4       392\n",
       "14      N64       319\n",
       "15     XOne       247\n",
       "16     SNES       239\n",
       "17      SAT       173\n",
       "18     WiiU       147\n",
       "19     2600       133\n",
       "20      NES        98\n",
       "21       GB        98\n",
       "22       DC        52\n",
       "23      GEN        27\n",
       "24       NG        12\n",
       "25      SCD         6\n",
       "26       WS         6\n",
       "27      3DO         3\n",
       "28     TG16         2\n",
       "29     PCFX         1\n",
       "30       GG         1"
      ]
     },
     "execution_count": 40,
     "metadata": {},
     "output_type": "execute_result"
    }
   ],
   "source": [
    "platform_games = final_df.groupby('platform')['na_sales'].count().sort_values(ascending = False).reset_index()\n",
    "platform_games"
   ]
  },
  {
   "cell_type": "code",
   "execution_count": 41,
   "metadata": {
    "cellId": "tdt93nfhho3qzu08elnwm"
   },
   "outputs": [
    {
     "data": {
      "text/html": [
       "<div>\n",
       "<style scoped>\n",
       "    .dataframe tbody tr th:only-of-type {\n",
       "        vertical-align: middle;\n",
       "    }\n",
       "\n",
       "    .dataframe tbody tr th {\n",
       "        vertical-align: top;\n",
       "    }\n",
       "\n",
       "    .dataframe thead th {\n",
       "        text-align: right;\n",
       "    }\n",
       "</style>\n",
       "<table border=\"1\" class=\"dataframe\">\n",
       "  <thead>\n",
       "    <tr style=\"text-align: right;\">\n",
       "      <th></th>\n",
       "      <th>platform</th>\n",
       "      <th>total_sales</th>\n",
       "    </tr>\n",
       "  </thead>\n",
       "  <tbody>\n",
       "    <tr>\n",
       "      <td>0</td>\n",
       "      <td>PS2</td>\n",
       "      <td>1255.77</td>\n",
       "    </tr>\n",
       "    <tr>\n",
       "      <td>1</td>\n",
       "      <td>X360</td>\n",
       "      <td>971.42</td>\n",
       "    </tr>\n",
       "    <tr>\n",
       "      <td>2</td>\n",
       "      <td>PS3</td>\n",
       "      <td>939.65</td>\n",
       "    </tr>\n",
       "    <tr>\n",
       "      <td>3</td>\n",
       "      <td>Wii</td>\n",
       "      <td>907.51</td>\n",
       "    </tr>\n",
       "    <tr>\n",
       "      <td>4</td>\n",
       "      <td>DS</td>\n",
       "      <td>806.12</td>\n",
       "    </tr>\n",
       "    <tr>\n",
       "      <td>5</td>\n",
       "      <td>PS</td>\n",
       "      <td>730.86</td>\n",
       "    </tr>\n",
       "    <tr>\n",
       "      <td>6</td>\n",
       "      <td>GBA</td>\n",
       "      <td>317.85</td>\n",
       "    </tr>\n",
       "    <tr>\n",
       "      <td>7</td>\n",
       "      <td>PS4</td>\n",
       "      <td>314.14</td>\n",
       "    </tr>\n",
       "    <tr>\n",
       "      <td>8</td>\n",
       "      <td>PSP</td>\n",
       "      <td>294.05</td>\n",
       "    </tr>\n",
       "    <tr>\n",
       "      <td>9</td>\n",
       "      <td>PC</td>\n",
       "      <td>259.52</td>\n",
       "    </tr>\n",
       "    <tr>\n",
       "      <td>10</td>\n",
       "      <td>3DS</td>\n",
       "      <td>259.00</td>\n",
       "    </tr>\n",
       "    <tr>\n",
       "      <td>11</td>\n",
       "      <td>XB</td>\n",
       "      <td>257.74</td>\n",
       "    </tr>\n",
       "    <tr>\n",
       "      <td>12</td>\n",
       "      <td>GB</td>\n",
       "      <td>255.46</td>\n",
       "    </tr>\n",
       "    <tr>\n",
       "      <td>13</td>\n",
       "      <td>NES</td>\n",
       "      <td>251.05</td>\n",
       "    </tr>\n",
       "    <tr>\n",
       "      <td>14</td>\n",
       "      <td>N64</td>\n",
       "      <td>218.68</td>\n",
       "    </tr>\n",
       "    <tr>\n",
       "      <td>15</td>\n",
       "      <td>SNES</td>\n",
       "      <td>200.04</td>\n",
       "    </tr>\n",
       "    <tr>\n",
       "      <td>16</td>\n",
       "      <td>GC</td>\n",
       "      <td>198.93</td>\n",
       "    </tr>\n",
       "    <tr>\n",
       "      <td>17</td>\n",
       "      <td>XOne</td>\n",
       "      <td>159.32</td>\n",
       "    </tr>\n",
       "    <tr>\n",
       "      <td>18</td>\n",
       "      <td>2600</td>\n",
       "      <td>96.98</td>\n",
       "    </tr>\n",
       "    <tr>\n",
       "      <td>19</td>\n",
       "      <td>WiiU</td>\n",
       "      <td>82.19</td>\n",
       "    </tr>\n",
       "    <tr>\n",
       "      <td>20</td>\n",
       "      <td>PSV</td>\n",
       "      <td>54.07</td>\n",
       "    </tr>\n",
       "    <tr>\n",
       "      <td>21</td>\n",
       "      <td>SAT</td>\n",
       "      <td>33.59</td>\n",
       "    </tr>\n",
       "    <tr>\n",
       "      <td>22</td>\n",
       "      <td>GEN</td>\n",
       "      <td>28.35</td>\n",
       "    </tr>\n",
       "    <tr>\n",
       "      <td>23</td>\n",
       "      <td>DC</td>\n",
       "      <td>15.95</td>\n",
       "    </tr>\n",
       "    <tr>\n",
       "      <td>24</td>\n",
       "      <td>SCD</td>\n",
       "      <td>1.86</td>\n",
       "    </tr>\n",
       "    <tr>\n",
       "      <td>25</td>\n",
       "      <td>NG</td>\n",
       "      <td>1.44</td>\n",
       "    </tr>\n",
       "    <tr>\n",
       "      <td>26</td>\n",
       "      <td>WS</td>\n",
       "      <td>1.42</td>\n",
       "    </tr>\n",
       "    <tr>\n",
       "      <td>27</td>\n",
       "      <td>TG16</td>\n",
       "      <td>0.16</td>\n",
       "    </tr>\n",
       "    <tr>\n",
       "      <td>28</td>\n",
       "      <td>3DO</td>\n",
       "      <td>0.10</td>\n",
       "    </tr>\n",
       "    <tr>\n",
       "      <td>29</td>\n",
       "      <td>GG</td>\n",
       "      <td>0.04</td>\n",
       "    </tr>\n",
       "    <tr>\n",
       "      <td>30</td>\n",
       "      <td>PCFX</td>\n",
       "      <td>0.03</td>\n",
       "    </tr>\n",
       "  </tbody>\n",
       "</table>\n",
       "</div>"
      ],
      "text/plain": [
       "   platform  total_sales\n",
       "0       PS2      1255.77\n",
       "1      X360       971.42\n",
       "2       PS3       939.65\n",
       "3       Wii       907.51\n",
       "4        DS       806.12\n",
       "5        PS       730.86\n",
       "6       GBA       317.85\n",
       "7       PS4       314.14\n",
       "8       PSP       294.05\n",
       "9        PC       259.52\n",
       "10      3DS       259.00\n",
       "11       XB       257.74\n",
       "12       GB       255.46\n",
       "13      NES       251.05\n",
       "14      N64       218.68\n",
       "15     SNES       200.04\n",
       "16       GC       198.93\n",
       "17     XOne       159.32\n",
       "18     2600        96.98\n",
       "19     WiiU        82.19\n",
       "20      PSV        54.07\n",
       "21      SAT        33.59\n",
       "22      GEN        28.35\n",
       "23       DC        15.95\n",
       "24      SCD         1.86\n",
       "25       NG         1.44\n",
       "26       WS         1.42\n",
       "27     TG16         0.16\n",
       "28      3DO         0.10\n",
       "29       GG         0.04\n",
       "30     PCFX         0.03"
      ]
     },
     "execution_count": 41,
     "metadata": {},
     "output_type": "execute_result"
    }
   ],
   "source": [
    "platform_games2 = final_df.groupby('platform')['total_sales'].sum().sort_values(ascending = False).reset_index()\n",
    "platform_games2 "
   ]
  },
  {
   "cell_type": "markdown",
   "metadata": {
    "cellId": "99hiwc0ku5r2q3e09n5l8k"
   },
   "source": [
    "Первые пять популярных платформ:PS2, DS, PS3, Wii, X360. Построим их распределения по годам."
   ]
  },
  {
   "cell_type": "code",
   "execution_count": 42,
   "metadata": {
    "cellId": "i5m8tgbjswe28u35atwdcu"
   },
   "outputs": [],
   "source": [
    "PS2_year = final_df[(final_df['platform'] == 'PS2') & (final_df['year_of_release'] != 0)].groupby('year_of_release')['na_sales'].count().reset_index()\n",
    "DS_year = final_df[(final_df['platform'] == 'DS') & (final_df['year_of_release'] != 0)].groupby('year_of_release')['na_sales'].count().reset_index()\n",
    "PS3_year = final_df[(final_df['platform'] == 'PS3')  & (final_df['year_of_release'] != 0)].groupby('year_of_release')['na_sales'].count().reset_index()\n",
    "Wii_year = final_df[(final_df['platform'] == 'Wii') & (final_df['year_of_release'] != 0)].groupby('year_of_release')['na_sales'].count().reset_index()\n",
    "X360_year = final_df[(final_df['platform'] == 'X360') & (final_df['year_of_release'] != 0)].groupby('year_of_release')['na_sales'].count().reset_index()"
   ]
  },
  {
   "cell_type": "code",
   "execution_count": 43,
   "metadata": {
    "cellId": "477xobrvurtkseowjvtvf"
   },
   "outputs": [
    {
     "data": {
      "image/png": "[encoded data removed]",
      "text/plain": [
       "<Figure size 1440x2160 with 3 Axes>"
      ]
     },
     "metadata": {
      "needs_background": "light"
     },
     "output_type": "display_data"
    }
   ],
   "source": [
    "fig, ax = plt.subplots(3, 1)\n",
    "ax[0].bar(PS2_year['year_of_release'],PS2_year['na_sales'], color = 'blue', alpha = 0.5,label = 'PS2')\n",
    "ax[0].bar(PS3_year['year_of_release'],PS3_year['na_sales'], color = 'red', alpha = 0.5,label = 'PS3')\n",
    "ax[0].set_title('Кол-во игр Sony Plastation в год',fontsize = 25)\n",
    "ax[0].grid(linewidth = 0.3, color = 'black')    #  толщина)\n",
    "ax[0].set_xlabel('Год',fontsize = 15)\n",
    "ax[0].set_ylabel('Кол-во игр',fontsize = 15)\n",
    "ax[0].legend()\n",
    "ax[0].set(xticks=[i for i in range(2000,2017)])\n",
    "ax[0].figsize = (5,5)\n",
    "\n",
    "ax[1].bar(DS_year['year_of_release'],DS_year['na_sales'], color = 'blue', alpha = 0.5,label = 'DS')\n",
    "ax[1].bar(Wii_year['year_of_release'],Wii_year['na_sales'], color = 'red', alpha = 0.5,label = 'Wii')\n",
    "ax[1].set_xlim([2003,2017])\n",
    "ax[1].set_title('Кол-во игр Nintendo в год',fontsize = 25)\n",
    "ax[1].grid(linewidth = 0.3, color = 'black')    #  толщина)\n",
    "ax[1].set_xlabel('Год',fontsize = 15)\n",
    "ax[1].set_ylabel('Кол-во игр',fontsize = 15)\n",
    "ax[1].set(xticks=[i for i in range(2004,2017)])\n",
    "ax[1].legend()\n",
    "\n",
    "\n",
    "ax[2].bar(X360_year['year_of_release'],X360_year['na_sales'], color = 'blue', alpha = 0.5,label = 'Xbox360')\n",
    "ax[2].set_xlim([2004,2017])\n",
    "ax[2].set_title('Кол-во игр Xbox360 в год',fontsize = 25)\n",
    "ax[2].grid(linewidth = 0.3, color = 'black')    #  толщина)\n",
    "ax[2].set_xlabel('Год',fontsize = 15)\n",
    "ax[2].set_ylabel('Кол-во игр',fontsize = 15)\n",
    "ax[2].set(xticks=[i for i in range(2005,2017)])\n",
    "ax[2].legend()\n",
    "\n",
    "\n",
    "fig.set_figwidth(20)\n",
    "fig.set_figheight(30)"
   ]
  },
  {
   "cell_type": "markdown",
   "metadata": {
    "cellId": "6vdgio7fdzulk86k0jfzxj"
   },
   "source": [
    "Определим потенциальные платформы"
   ]
  },
  {
   "cell_type": "code",
   "execution_count": 44,
   "metadata": {
    "cellId": "g6t5c9lzexor0ysi43sv1l",
    "scrolled": true
   },
   "outputs": [
    {
     "data": {
      "text/html": [
       "<div>\n",
       "<style scoped>\n",
       "    .dataframe tbody tr th:only-of-type {\n",
       "        vertical-align: middle;\n",
       "    }\n",
       "\n",
       "    .dataframe tbody tr th {\n",
       "        vertical-align: top;\n",
       "    }\n",
       "\n",
       "    .dataframe thead th {\n",
       "        text-align: right;\n",
       "    }\n",
       "</style>\n",
       "<table border=\"1\" class=\"dataframe\">\n",
       "  <thead>\n",
       "    <tr style=\"text-align: right;\">\n",
       "      <th></th>\n",
       "      <th>platform</th>\n",
       "      <th>na_sales</th>\n",
       "    </tr>\n",
       "  </thead>\n",
       "  <tbody>\n",
       "    <tr>\n",
       "      <td>0</td>\n",
       "      <td>PS3</td>\n",
       "      <td>708</td>\n",
       "    </tr>\n",
       "    <tr>\n",
       "      <td>1</td>\n",
       "      <td>3DS</td>\n",
       "      <td>512</td>\n",
       "    </tr>\n",
       "    <tr>\n",
       "      <td>2</td>\n",
       "      <td>X360</td>\n",
       "      <td>498</td>\n",
       "    </tr>\n",
       "    <tr>\n",
       "      <td>3</td>\n",
       "      <td>PSV</td>\n",
       "      <td>429</td>\n",
       "    </tr>\n",
       "    <tr>\n",
       "      <td>4</td>\n",
       "      <td>PS4</td>\n",
       "      <td>392</td>\n",
       "    </tr>\n",
       "    <tr>\n",
       "      <td>5</td>\n",
       "      <td>PC</td>\n",
       "      <td>389</td>\n",
       "    </tr>\n",
       "    <tr>\n",
       "      <td>6</td>\n",
       "      <td>PSP</td>\n",
       "      <td>312</td>\n",
       "    </tr>\n",
       "    <tr>\n",
       "      <td>7</td>\n",
       "      <td>XOne</td>\n",
       "      <td>247</td>\n",
       "    </tr>\n",
       "  </tbody>\n",
       "</table>\n",
       "</div>"
      ],
      "text/plain": [
       "  platform  na_sales\n",
       "0      PS3       708\n",
       "1      3DS       512\n",
       "2     X360       498\n",
       "3      PSV       429\n",
       "4      PS4       392\n",
       "5       PC       389\n",
       "6      PSP       312\n",
       "7     XOne       247"
      ]
     },
     "execution_count": 44,
     "metadata": {},
     "output_type": "execute_result"
    }
   ],
   "source": [
    "good_period = final_df[final_df['year_of_release'] >= 2011]\n",
    "good_period.groupby('platform')['na_sales'].count().sort_values(ascending = False).reset_index().head(8)\n"
   ]
  },
  {
   "cell_type": "code",
   "execution_count": 45,
   "metadata": {
    "cellId": "e6gooa300xj4a8bt9vml"
   },
   "outputs": [],
   "source": [
    "PS3_year = good_period[good_period['platform'] == 'PS3'].groupby('year_of_release')['na_sales'].count().reset_index()\n",
    "PS4_year = good_period[good_period['platform'] == 'PS4'].groupby('year_of_release')['na_sales'].count().reset_index()\n",
    "PSV_year = good_period[good_period['platform'] == 'PSV'].groupby('year_of_release')['na_sales'].count().reset_index()\n",
    "X360_year = good_period[good_period['platform'] == 'X360'].groupby('year_of_release')['na_sales'].count().reset_index()\n",
    "DS_year = good_period[good_period['platform'] == '3DS'].groupby('year_of_release')['na_sales'].count().reset_index()\n",
    "PC_year = good_period[good_period['platform'] == 'PC'].groupby('year_of_release')['na_sales'].count().reset_index()\n",
    "PSP_year = good_period[good_period['platform'] == 'PSP'].groupby('year_of_release')['na_sales'].count().reset_index()\n",
    "XOne_year = good_period[good_period['platform'] == 'XOne'].groupby('year_of_release')['na_sales'].count().reset_index()"
   ]
  },
  {
   "cell_type": "code",
   "execution_count": 46,
   "metadata": {
    "cellId": "un3dzd84yfnmo70v1r6hu"
   },
   "outputs": [
    {
     "data": {
      "image/png": "[encoded data removed]",
      "text/plain": [
       "<Figure size 1080x720 with 1 Axes>"
      ]
     },
     "metadata": {
      "needs_background": "light"
     },
     "output_type": "display_data"
    }
   ],
   "source": [
    "fig, ax = plt.subplots()\n",
    "ax.plot(PS3_year['year_of_release'],PS3_year['na_sales'], color = 'blue', alpha = 1,label = 'PS3')\n",
    "ax.plot(PS4_year['year_of_release'],PS4_year['na_sales'], color = 'red', alpha = 1,label = 'PS4')\n",
    "ax.plot(DS_year['year_of_release'],DS_year['na_sales'], color = 'black', alpha = 1,label = '3DS')\n",
    "ax.plot(PSV_year['year_of_release'],PSV_year['na_sales'], color = 'green', alpha = 1,label = 'PSV')\n",
    "ax.plot(X360_year['year_of_release'],X360_year['na_sales'], color = 'violet', alpha = 1,label = 'X360')\n",
    "ax.plot(PC_year['year_of_release'],PC_year['na_sales'], color = 'orange', alpha = 1,label = 'PC')\n",
    "ax.plot(PSP_year['year_of_release'],PSP_year['na_sales'], color = 'peru', alpha = 1,label = 'PSP')\n",
    "ax.plot(XOne_year['year_of_release'],XOne_year['na_sales'], color = 'c', alpha = 1,label = 'XOne')\n",
    "ax.set_title('Кол-во игр  в год',fontsize = 25)\n",
    "ax.grid(linewidth = 0.3, color = 'black')    #  толщина)\n",
    "ax.set_xlabel('Год',fontsize = 15)\n",
    "ax.set_ylabel('Кол-во игр',fontsize = 15)\n",
    "ax.legend()\n",
    "ax.set(xticks=[i for i in range(2011,2017)])\n",
    "fig.set_figwidth(15)\n",
    "fig.set_figheight(10)"
   ]
  },
  {
   "cell_type": "code",
   "execution_count": 47,
   "metadata": {
    "cellId": "abf2pqxkzj45whuadqnc1f"
   },
   "outputs": [],
   "source": [
    "good_platforms = ['PS3','PS4','PSV','X360','3DS','PC','PSP','XOne']\n",
    "paltform_data = good_period[good_period['platform'].isin(good_platforms)]"
   ]
  },
  {
   "cell_type": "code",
   "execution_count": 48,
   "metadata": {
    "cellId": "6vu1la5nxjskn9fztaywxl"
   },
   "outputs": [],
   "source": [
    "fig_platform = pd.pivot_table(data=paltform_data,\n",
    "               index='year_of_release',\n",
    "               columns='platform',\n",
    "               values = 'total_sales',\n",
    "               aggfunc='count')"
   ]
  },
  {
   "cell_type": "code",
   "execution_count": 49,
   "metadata": {
    "cellId": "e724hftd6l5uaspx57yy6"
   },
   "outputs": [
    {
     "data": {
      "image/png": "[encoded data removed]",
      "text/plain": [
       "<Figure size 1080x720 with 1 Axes>"
      ]
     },
     "metadata": {
      "needs_background": "light"
     },
     "output_type": "display_data"
    }
   ],
   "source": [
    "fig1 = fig_platform.plot(figsize = (15,10))\n",
    "fig1.set_title('Кол-во игр  в год',fontsize = 25)\n",
    "fig1.set_xlabel('Год',fontsize = 15)\n",
    "fig1.set_ylabel('Кол-во игр',fontsize = 15)\n",
    "fig1.legend()\n",
    "fig1.grid(linewidth = 0.3, color = 'black')\n"
   ]
  },
  {
   "cell_type": "code",
   "execution_count": 50,
   "metadata": {
    "cellId": "0p4awjt1ldhfimbqz4jo7c"
   },
   "outputs": [],
   "source": [
    "platforms_sales = pd.pivot_table(data=good_period,\n",
    "               index='year_of_release',\n",
    "               columns='platform',\n",
    "               values = 'total_sales',\n",
    "               aggfunc='sum')"
   ]
  },
  {
   "cell_type": "code",
   "execution_count": 51,
   "metadata": {
    "cellId": "uz4znzdzi4jjw625eu3f9",
    "execution_id": "3486ea78-3a1d-4eae-adb1-fa2e8a9219a2",
    "scrolled": true
   },
   "outputs": [
    {
     "name": "stderr",
     "output_type": "stream",
     "text": [
      "/opt/conda/lib/python3.7/site-packages/numpy/core/_asarray.py:83: VisibleDeprecationWarning: Creating an ndarray from ragged nested sequences (which is a list-or-tuple of lists-or-tuples-or ndarrays with different lengths or shapes) is deprecated. If you meant to do this, you must specify 'dtype=object' when creating the ndarray\n",
      "  return array(a, dtype, copy=False, order=order)\n"
     ]
    },
    {
     "data": {
      "text/plain": [
       "<matplotlib.axes._subplots.AxesSubplot at 0x7fc0641f9a90>"
      ]
     },
     "execution_count": 51,
     "metadata": {},
     "output_type": "execute_result"
    },
    {
     "data": {
      "image/png": "[encoded data removed]",
      "text/plain": [
       "<Figure size 1440x1440 with 1 Axes>"
      ]
     },
     "metadata": {
      "needs_background": "light"
     },
     "output_type": "display_data"
    }
   ],
   "source": [
    "platforms_sales.boxplot(figsize= (20,20), grid = True)"
   ]
  },
  {
   "cell_type": "markdown",
   "metadata": {
    "cellId": "kqrxilsu3di16g2ofy4zo8"
   },
   "source": [
    "<div class=\"alert alert-info\" style=\"border-radius: 15px; box-shadow: 4px 4px 4px; border: 1px solid \">\n",
    "    <font size=\"5\"><b>Вывод</b></font>\n",
    "\n",
    "<font color='black'>Видны 3 фаворита на рынке: PS3 PS4 X360. Причем больше в среднем игр продается на платформах sony plastation, хотя верхней ус платформы X360 показывает, что игры и на этой платформе могут иметь большой комерческий успех. Особенно хочется отметиь выброс на Wii. Значит и эта платформа может удивить, если предложить интресный геймплей.</font>\n",
    "</div> "
   ]
  },
  {
   "cell_type": "code",
   "execution_count": 52,
   "metadata": {
    "cellId": "bu3vsdevviu0hb6drkqg08b"
   },
   "outputs": [
    {
     "data": {
      "text/plain": [
       "<matplotlib.axes._subplots.AxesSubplot at 0x7fc063d19790>"
      ]
     },
     "execution_count": 52,
     "metadata": {},
     "output_type": "execute_result"
    },
    {
     "data": {
      "image/png": "[encoded data removed]",
      "text/plain": [
       "<Figure size 432x288 with 1 Axes>"
      ]
     },
     "metadata": {
      "needs_background": "light"
     },
     "output_type": "display_data"
    }
   ],
   "source": [
    "PS3_facts = good_period[good_period['platform'] == 'PS3'][['total_sales','critic_score', 'user_score']]\n",
    "sb.heatmap(\n",
    "    PS3_facts.corr(),\n",
    "    annot = True,\n",
    "    fmt='.1g',\n",
    "    cbar=False\n",
    ") "
   ]
  },
  {
   "cell_type": "markdown",
   "metadata": {
    "cellId": "ukls9l6fe2c5cl5j35fjz9"
   },
   "source": [
    "ПРЕДПОЛОЖИТЕЛЬНО:  На продажу сильнее всего влияют оценки критиков а не пользователей. Это на платформе ps3."
   ]
  },
  {
   "cell_type": "code",
   "execution_count": 53,
   "metadata": {
    "cellId": "glwj5cqhj14sdvz16lzhv"
   },
   "outputs": [
    {
     "data": {
      "text/plain": [
       "<matplotlib.axes._subplots.AxesSubplot at 0x7fc058f84f10>"
      ]
     },
     "execution_count": 53,
     "metadata": {},
     "output_type": "execute_result"
    },
    {
     "data": {
      "image/png": "[encoded data removed]",
      "text/plain": [
       "<Figure size 720x720 with 1 Axes>"
      ]
     },
     "metadata": {
      "needs_background": "light"
     },
     "output_type": "display_data"
    }
   ],
   "source": [
    "PS3_facts.plot(\n",
    "    y = 'total_sales', \n",
    "    x = 'critic_score', \n",
    "    kind = 'scatter',\n",
    "    alpha = 0.15,\n",
    "    grid=True,\n",
    "    title = 'Распределение продаж от оценок критиков',\n",
    "    figsize = (10,10)\n",
    ")"
   ]
  },
  {
   "cell_type": "markdown",
   "metadata": {
    "cellId": "dqr245h7ynn00pz8qgtta5pe"
   },
   "source": [
    "Начиная, с оценки критиктов 60 выше намечается рост продаж"
   ]
  },
  {
   "cell_type": "code",
   "execution_count": 54,
   "metadata": {
    "cellId": "p7xpx6c68xr6nkgb7dg5ms"
   },
   "outputs": [
    {
     "data": {
      "text/plain": [
       "<matplotlib.axes._subplots.AxesSubplot at 0x7fc058f6b1d0>"
      ]
     },
     "execution_count": 54,
     "metadata": {},
     "output_type": "execute_result"
    },
    {
     "data": {
      "image/png": "[encoded data removed]",
      "text/plain": [
       "<Figure size 432x288 with 1 Axes>"
      ]
     },
     "metadata": {
      "needs_background": "light"
     },
     "output_type": "display_data"
    }
   ],
   "source": [
    "games_fact =  good_period[['total_sales','critic_score', 'user_score']]\n",
    "sb.heatmap(\n",
    "    games_fact.corr(),\n",
    "    annot = True,\n",
    "    fmt='.1g',\n",
    "    cbar=False\n",
    ") "
   ]
  },
  {
   "cell_type": "markdown",
   "metadata": {
    "cellId": "qykm5i1zarx8musb3wfji"
   },
   "source": [
    "ПРЕДПОЛОЖИТЕЛЬНО: кореляции примерно равны"
   ]
  },
  {
   "cell_type": "code",
   "execution_count": 55,
   "metadata": {
    "cellId": "q379oowmbr9n8jo0aeh31q"
   },
   "outputs": [
    {
     "data": {
      "text/plain": [
       "<matplotlib.axes._subplots.AxesSubplot at 0x7fc063d18a50>"
      ]
     },
     "execution_count": 55,
     "metadata": {},
     "output_type": "execute_result"
    },
    {
     "data": {
      "image/png": "[encoded data removed]",
      "text/plain": [
       "<Figure size 720x720 with 1 Axes>"
      ]
     },
     "metadata": {
      "needs_background": "light"
     },
     "output_type": "display_data"
    }
   ],
   "source": [
    "games_fact.plot(\n",
    "    y = 'total_sales', \n",
    "    x = 'critic_score', \n",
    "    kind = 'scatter',\n",
    "    alpha = 0.15,        \n",
    "    title = 'Распределение продаж от оценок критиков',\n",
    "    grid=True,\n",
    "    figsize = (10,10)\n",
    ")"
   ]
  },
  {
   "cell_type": "markdown",
   "metadata": {
    "cellId": "vx1lc15vt3qtpxq6z5ni3q"
   },
   "source": [
    "<div class=\"alert alert-info\" style=\"border-radius: 15px; box-shadow: 4px 4px 4px; border: 1px solid \">\n",
    "    <font size=\"5\"><b>Вывод</b></font>\n",
    "\n",
    "<font color='black'>Как показывает кореляция и графики рассеивания, для нас важны оценки критиков и наша задача получить оценку как минимум 60 или выше, именно с этой границы намечается более менее рост продаж</font>\n",
    "</div> "
   ]
  },
  {
   "cell_type": "code",
   "execution_count": 56,
   "metadata": {
    "cellId": "yiqpuq2lexnpjw9n3jsv8d"
   },
   "outputs": [
    {
     "data": {
      "text/html": [
       "<div>\n",
       "<style scoped>\n",
       "    .dataframe tbody tr th:only-of-type {\n",
       "        vertical-align: middle;\n",
       "    }\n",
       "\n",
       "    .dataframe tbody tr th {\n",
       "        vertical-align: top;\n",
       "    }\n",
       "\n",
       "    .dataframe thead th {\n",
       "        text-align: right;\n",
       "    }\n",
       "</style>\n",
       "<table border=\"1\" class=\"dataframe\">\n",
       "  <thead>\n",
       "    <tr style=\"text-align: right;\">\n",
       "      <th>genre</th>\n",
       "      <th>Action</th>\n",
       "      <th>Adventure</th>\n",
       "      <th>Fighting</th>\n",
       "      <th>Misc</th>\n",
       "      <th>Platform</th>\n",
       "      <th>Puzzle</th>\n",
       "      <th>Racing</th>\n",
       "      <th>Role-Playing</th>\n",
       "      <th>Shooter</th>\n",
       "      <th>Simulation</th>\n",
       "      <th>Sports</th>\n",
       "      <th>Strategy</th>\n",
       "    </tr>\n",
       "    <tr>\n",
       "      <th>year_of_release</th>\n",
       "      <th></th>\n",
       "      <th></th>\n",
       "      <th></th>\n",
       "      <th></th>\n",
       "      <th></th>\n",
       "      <th></th>\n",
       "      <th></th>\n",
       "      <th></th>\n",
       "      <th></th>\n",
       "      <th></th>\n",
       "      <th></th>\n",
       "      <th></th>\n",
       "    </tr>\n",
       "  </thead>\n",
       "  <tbody>\n",
       "    <tr>\n",
       "      <td>2011</td>\n",
       "      <td>116.68</td>\n",
       "      <td>15.61</td>\n",
       "      <td>22.41</td>\n",
       "      <td>54.38</td>\n",
       "      <td>27.68</td>\n",
       "      <td>4.96</td>\n",
       "      <td>34.81</td>\n",
       "      <td>52.83</td>\n",
       "      <td>98.18</td>\n",
       "      <td>15.14</td>\n",
       "      <td>56.08</td>\n",
       "      <td>8.82</td>\n",
       "    </tr>\n",
       "    <tr>\n",
       "      <td>2012</td>\n",
       "      <td>119.25</td>\n",
       "      <td>5.79</td>\n",
       "      <td>9.18</td>\n",
       "      <td>22.22</td>\n",
       "      <td>18.37</td>\n",
       "      <td>1.72</td>\n",
       "      <td>13.61</td>\n",
       "      <td>46.91</td>\n",
       "      <td>71.75</td>\n",
       "      <td>13.36</td>\n",
       "      <td>30.42</td>\n",
       "      <td>3.26</td>\n",
       "    </tr>\n",
       "    <tr>\n",
       "      <td>2013</td>\n",
       "      <td>122.51</td>\n",
       "      <td>6.09</td>\n",
       "      <td>7.09</td>\n",
       "      <td>25.27</td>\n",
       "      <td>24.54</td>\n",
       "      <td>0.96</td>\n",
       "      <td>12.37</td>\n",
       "      <td>44.45</td>\n",
       "      <td>62.04</td>\n",
       "      <td>8.63</td>\n",
       "      <td>41.17</td>\n",
       "      <td>6.12</td>\n",
       "    </tr>\n",
       "    <tr>\n",
       "      <td>2014</td>\n",
       "      <td>97.23</td>\n",
       "      <td>5.57</td>\n",
       "      <td>15.85</td>\n",
       "      <td>23.38</td>\n",
       "      <td>8.81</td>\n",
       "      <td>1.49</td>\n",
       "      <td>16.66</td>\n",
       "      <td>45.62</td>\n",
       "      <td>65.21</td>\n",
       "      <td>5.58</td>\n",
       "      <td>45.15</td>\n",
       "      <td>0.98</td>\n",
       "    </tr>\n",
       "    <tr>\n",
       "      <td>2015</td>\n",
       "      <td>72.02</td>\n",
       "      <td>8.16</td>\n",
       "      <td>7.90</td>\n",
       "      <td>11.57</td>\n",
       "      <td>6.05</td>\n",
       "      <td>0.71</td>\n",
       "      <td>8.07</td>\n",
       "      <td>37.64</td>\n",
       "      <td>67.51</td>\n",
       "      <td>5.66</td>\n",
       "      <td>40.84</td>\n",
       "      <td>1.85</td>\n",
       "    </tr>\n",
       "    <tr>\n",
       "      <td>2016</td>\n",
       "      <td>30.11</td>\n",
       "      <td>3.82</td>\n",
       "      <td>4.47</td>\n",
       "      <td>2.60</td>\n",
       "      <td>3.23</td>\n",
       "      <td>0.01</td>\n",
       "      <td>2.79</td>\n",
       "      <td>18.18</td>\n",
       "      <td>38.22</td>\n",
       "      <td>1.89</td>\n",
       "      <td>23.49</td>\n",
       "      <td>1.13</td>\n",
       "    </tr>\n",
       "  </tbody>\n",
       "</table>\n",
       "</div>"
      ],
      "text/plain": [
       "genre            Action  Adventure  Fighting   Misc  Platform  Puzzle  Racing  \\\n",
       "year_of_release                                                                 \n",
       "2011             116.68      15.61     22.41  54.38     27.68    4.96   34.81   \n",
       "2012             119.25       5.79      9.18  22.22     18.37    1.72   13.61   \n",
       "2013             122.51       6.09      7.09  25.27     24.54    0.96   12.37   \n",
       "2014              97.23       5.57     15.85  23.38      8.81    1.49   16.66   \n",
       "2015              72.02       8.16      7.90  11.57      6.05    0.71    8.07   \n",
       "2016              30.11       3.82      4.47   2.60      3.23    0.01    2.79   \n",
       "\n",
       "genre            Role-Playing  Shooter  Simulation  Sports  Strategy  \n",
       "year_of_release                                                       \n",
       "2011                    52.83    98.18       15.14   56.08      8.82  \n",
       "2012                    46.91    71.75       13.36   30.42      3.26  \n",
       "2013                    44.45    62.04        8.63   41.17      6.12  \n",
       "2014                    45.62    65.21        5.58   45.15      0.98  \n",
       "2015                    37.64    67.51        5.66   40.84      1.85  \n",
       "2016                    18.18    38.22        1.89   23.49      1.13  "
      ]
     },
     "execution_count": 56,
     "metadata": {},
     "output_type": "execute_result"
    }
   ],
   "source": [
    "genres_sales = pd.pivot_table(data=good_period,\n",
    "               index='year_of_release',\n",
    "               columns='genre',\n",
    "               values = 'total_sales',\n",
    "               aggfunc='sum')\n",
    "genres_sales"
   ]
  },
  {
   "cell_type": "code",
   "execution_count": 57,
   "metadata": {
    "cellId": "xbc4ha4s13jwgezy2xb71"
   },
   "outputs": [
    {
     "data": {
      "text/plain": [
       "<matplotlib.axes._subplots.AxesSubplot at 0x7fc058e36b10>"
      ]
     },
     "execution_count": 57,
     "metadata": {},
     "output_type": "execute_result"
    },
    {
     "data": {
      "image/png": "[encoded data removed]",
      "text/plain": [
       "<Figure size 2160x720 with 1 Axes>"
      ]
     },
     "metadata": {
      "needs_background": "light"
     },
     "output_type": "display_data"
    }
   ],
   "source": [
    "genres_sales.boxplot(figsize= (30,10), grid = True)"
   ]
  },
  {
   "cell_type": "markdown",
   "metadata": {
    "cellId": "mpkdjg9j3llynz2sgrvze"
   },
   "source": [
    "<div class=\"alert alert-info\" style=\"border-radius: 15px; box-shadow: 4px 4px 4px; border: 1px solid \">\n",
    "    <font size=\"5\"><b>Вывод</b></font>\n",
    "\n",
    "<font color='black'>Итак судя по графику намечаются явные фавориты по жанрам: Action, shooter, RPG. Но стоит и обратить внимание и на выбросы в misc racing. Теоритически можно попробовать и в этих жанрах, если получится в них принести что то новое и необычное.</font>\n",
    "</div>"
   ]
  },
  {
   "cell_type": "markdown",
   "metadata": {
    "cellId": "d6zr9mbz1gsucprmjyo10b"
   },
   "source": [
    "<div class=\"alert alert-info\" style=\"border-radius: 15px; box-shadow: 4px 4px 4px; border: 1px solid \">\n",
    "<font size=\"5\"><b> Вывод </b></font> <a class=\"anchor\" id=\"вывод3\"></a>\n",
    "    \n",
    "<font color='black'>Анализ полученных данных показал нам:  \n",
    "    1. Платформы живут примерно 10 лет и достигают своего расцветв в возрасте 5, 6 лет.  \n",
    "    2. Были найдены 2 развивающиеся платформы, а именно : PS4 и XboxOne  \n",
    "    3. На первый взгяд оценки критиков важнее оценок пользователей. Цель получить минимум 60 для хороших продаж. Про оценки пользователей лучше не забывать, зачастую они более конструктивнее.  \n",
    "    4. Определены жанры, в которые лучше углубиться: Action, shooter, RPG. </font>\n",
    "</div> "
   ]
  },
  {
   "cell_type": "markdown",
   "metadata": {
    "cellId": "h5mrzx141re3jwgsez4g0f"
   },
   "source": [
    "## 4 Определение типичного пользователся <a class=\"anchor\" id=\"пользователь\"></a>"
   ]
  },
  {
   "cell_type": "code",
   "execution_count": 58,
   "metadata": {
    "cellId": "09mju1mdo7ztiw1jlj5h47"
   },
   "outputs": [
    {
     "data": {
      "text/html": [
       "<div>\n",
       "<style scoped>\n",
       "    .dataframe tbody tr th:only-of-type {\n",
       "        vertical-align: middle;\n",
       "    }\n",
       "\n",
       "    .dataframe tbody tr th {\n",
       "        vertical-align: top;\n",
       "    }\n",
       "\n",
       "    .dataframe thead th {\n",
       "        text-align: right;\n",
       "    }\n",
       "</style>\n",
       "<table border=\"1\" class=\"dataframe\">\n",
       "  <thead>\n",
       "    <tr style=\"text-align: right;\">\n",
       "      <th></th>\n",
       "      <th>platform</th>\n",
       "      <th>year_of_release</th>\n",
       "      <th>genre</th>\n",
       "      <th>na_sales</th>\n",
       "      <th>eu_sales</th>\n",
       "      <th>jp_sales</th>\n",
       "      <th>other_sales</th>\n",
       "      <th>critic_score</th>\n",
       "      <th>user_score</th>\n",
       "      <th>rating</th>\n",
       "      <th>total_sales</th>\n",
       "    </tr>\n",
       "  </thead>\n",
       "  <tbody>\n",
       "    <tr>\n",
       "      <td>16</td>\n",
       "      <td>PS3</td>\n",
       "      <td>2013</td>\n",
       "      <td>Action</td>\n",
       "      <td>7.02</td>\n",
       "      <td>9.09</td>\n",
       "      <td>0.98</td>\n",
       "      <td>3.96</td>\n",
       "      <td>97.0</td>\n",
       "      <td>8.203125</td>\n",
       "      <td>M</td>\n",
       "      <td>21.05</td>\n",
       "    </tr>\n",
       "    <tr>\n",
       "      <td>23</td>\n",
       "      <td>X360</td>\n",
       "      <td>2013</td>\n",
       "      <td>Action</td>\n",
       "      <td>9.66</td>\n",
       "      <td>5.14</td>\n",
       "      <td>0.06</td>\n",
       "      <td>1.41</td>\n",
       "      <td>97.0</td>\n",
       "      <td>8.101562</td>\n",
       "      <td>M</td>\n",
       "      <td>16.27</td>\n",
       "    </tr>\n",
       "    <tr>\n",
       "      <td>29</td>\n",
       "      <td>X360</td>\n",
       "      <td>2011</td>\n",
       "      <td>Shooter</td>\n",
       "      <td>9.04</td>\n",
       "      <td>4.24</td>\n",
       "      <td>0.13</td>\n",
       "      <td>1.32</td>\n",
       "      <td>88.0</td>\n",
       "      <td>3.400391</td>\n",
       "      <td>M</td>\n",
       "      <td>14.73</td>\n",
       "    </tr>\n",
       "    <tr>\n",
       "      <td>31</td>\n",
       "      <td>PS4</td>\n",
       "      <td>2015</td>\n",
       "      <td>Shooter</td>\n",
       "      <td>6.03</td>\n",
       "      <td>5.86</td>\n",
       "      <td>0.36</td>\n",
       "      <td>2.38</td>\n",
       "      <td>NaN</td>\n",
       "      <td>NaN</td>\n",
       "      <td>uknown</td>\n",
       "      <td>14.63</td>\n",
       "    </tr>\n",
       "    <tr>\n",
       "      <td>33</td>\n",
       "      <td>3DS</td>\n",
       "      <td>2013</td>\n",
       "      <td>Role-Playing</td>\n",
       "      <td>5.28</td>\n",
       "      <td>4.19</td>\n",
       "      <td>4.35</td>\n",
       "      <td>0.78</td>\n",
       "      <td>NaN</td>\n",
       "      <td>NaN</td>\n",
       "      <td>uknown</td>\n",
       "      <td>14.60</td>\n",
       "    </tr>\n",
       "  </tbody>\n",
       "</table>\n",
       "</div>"
      ],
      "text/plain": [
       "   platform  year_of_release         genre  na_sales  eu_sales  jp_sales  \\\n",
       "16      PS3             2013        Action      7.02      9.09      0.98   \n",
       "23     X360             2013        Action      9.66      5.14      0.06   \n",
       "29     X360             2011       Shooter      9.04      4.24      0.13   \n",
       "31      PS4             2015       Shooter      6.03      5.86      0.36   \n",
       "33      3DS             2013  Role-Playing      5.28      4.19      4.35   \n",
       "\n",
       "    other_sales  critic_score  user_score  rating  total_sales  \n",
       "16         3.96          97.0    8.203125       M        21.05  \n",
       "23         1.41          97.0    8.101562       M        16.27  \n",
       "29         1.32          88.0    3.400391       M        14.73  \n",
       "31         2.38           NaN         NaN  uknown        14.63  \n",
       "33         0.78           NaN         NaN  uknown        14.60  "
      ]
     },
     "execution_count": 58,
     "metadata": {},
     "output_type": "execute_result"
    }
   ],
   "source": [
    "good_period.head()"
   ]
  },
  {
   "cell_type": "code",
   "execution_count": 59,
   "metadata": {
    "cellId": "zczmuz07bo9nliwgatwld"
   },
   "outputs": [
    {
     "data": {
      "text/html": [
       "<div>\n",
       "<style scoped>\n",
       "    .dataframe tbody tr th:only-of-type {\n",
       "        vertical-align: middle;\n",
       "    }\n",
       "\n",
       "    .dataframe tbody tr th {\n",
       "        vertical-align: top;\n",
       "    }\n",
       "\n",
       "    .dataframe thead th {\n",
       "        text-align: right;\n",
       "    }\n",
       "</style>\n",
       "<table border=\"1\" class=\"dataframe\">\n",
       "  <thead>\n",
       "    <tr style=\"text-align: right;\">\n",
       "      <th></th>\n",
       "      <th>platform</th>\n",
       "      <th>na_sales</th>\n",
       "      <th>eu_sales</th>\n",
       "      <th>jp_sales</th>\n",
       "      <th>other_sales</th>\n",
       "    </tr>\n",
       "  </thead>\n",
       "  <tbody>\n",
       "    <tr>\n",
       "      <td>0</td>\n",
       "      <td>PS3</td>\n",
       "      <td>168.26</td>\n",
       "      <td>163.10</td>\n",
       "      <td>49.39</td>\n",
       "      <td>64.82</td>\n",
       "    </tr>\n",
       "    <tr>\n",
       "      <td>1</td>\n",
       "      <td>PS4</td>\n",
       "      <td>108.74</td>\n",
       "      <td>141.09</td>\n",
       "      <td>15.96</td>\n",
       "      <td>48.35</td>\n",
       "    </tr>\n",
       "    <tr>\n",
       "      <td>2</td>\n",
       "      <td>X360</td>\n",
       "      <td>226.80</td>\n",
       "      <td>117.10</td>\n",
       "      <td>3.35</td>\n",
       "      <td>33.13</td>\n",
       "    </tr>\n",
       "    <tr>\n",
       "      <td>3</td>\n",
       "      <td>XOne</td>\n",
       "      <td>93.12</td>\n",
       "      <td>51.59</td>\n",
       "      <td>0.34</td>\n",
       "      <td>14.27</td>\n",
       "    </tr>\n",
       "    <tr>\n",
       "      <td>4</td>\n",
       "      <td>3DS</td>\n",
       "      <td>82.65</td>\n",
       "      <td>61.27</td>\n",
       "      <td>100.62</td>\n",
       "      <td>13.27</td>\n",
       "    </tr>\n",
       "    <tr>\n",
       "      <td>5</td>\n",
       "      <td>PC</td>\n",
       "      <td>29.88</td>\n",
       "      <td>56.70</td>\n",
       "      <td>0.00</td>\n",
       "      <td>11.10</td>\n",
       "    </tr>\n",
       "    <tr>\n",
       "      <td>6</td>\n",
       "      <td>Wii</td>\n",
       "      <td>48.56</td>\n",
       "      <td>29.60</td>\n",
       "      <td>8.97</td>\n",
       "      <td>7.89</td>\n",
       "    </tr>\n",
       "    <tr>\n",
       "      <td>7</td>\n",
       "      <td>PSV</td>\n",
       "      <td>12.47</td>\n",
       "      <td>13.07</td>\n",
       "      <td>21.84</td>\n",
       "      <td>6.43</td>\n",
       "    </tr>\n",
       "    <tr>\n",
       "      <td>8</td>\n",
       "      <td>WiiU</td>\n",
       "      <td>38.10</td>\n",
       "      <td>25.13</td>\n",
       "      <td>13.01</td>\n",
       "      <td>5.95</td>\n",
       "    </tr>\n",
       "    <tr>\n",
       "      <td>9</td>\n",
       "      <td>DS</td>\n",
       "      <td>18.86</td>\n",
       "      <td>9.24</td>\n",
       "      <td>8.04</td>\n",
       "      <td>2.59</td>\n",
       "    </tr>\n",
       "  </tbody>\n",
       "</table>\n",
       "</div>"
      ],
      "text/plain": [
       "  platform  na_sales  eu_sales  jp_sales  other_sales\n",
       "0      PS3    168.26    163.10     49.39        64.82\n",
       "1      PS4    108.74    141.09     15.96        48.35\n",
       "2     X360    226.80    117.10      3.35        33.13\n",
       "3     XOne     93.12     51.59      0.34        14.27\n",
       "4      3DS     82.65     61.27    100.62        13.27\n",
       "5       PC     29.88     56.70      0.00        11.10\n",
       "6      Wii     48.56     29.60      8.97         7.89\n",
       "7      PSV     12.47     13.07     21.84         6.43\n",
       "8     WiiU     38.10     25.13     13.01         5.95\n",
       "9       DS     18.86      9.24      8.04         2.59"
      ]
     },
     "execution_count": 59,
     "metadata": {},
     "output_type": "execute_result"
    }
   ],
   "source": [
    "good_period.groupby('platform')['na_sales','eu_sales','jp_sales','other_sales'].sum().sort_values(by='na_sales', ascending = False).sort_values(by='eu_sales', ascending = False).sort_values(\n",
    "    by='jp_sales', ascending = False).sort_values(by='other_sales', ascending = False).reset_index().head(10)"
   ]
  },
  {
   "cell_type": "markdown",
   "metadata": {
    "cellId": "ejzs046arxe0ppm6wnysn"
   },
   "source": [
    "<div class=\"alert alert-info\" style=\"border-radius: 15px; box-shadow: 4px 4px 4px; border: 1px solid \">\n",
    "    <font size=\"5\"><b>Вывод</b></font>\n",
    "\n",
    "<font color='black'>По таблице выделяем пять наиболее популярных платформ:</font>\n",
    "    \n",
    "<font color='black'> 1. NorthAmerica: X360, PS3, PS4, XOne, 3DS  \n",
    "    2. Europe:  PS3, PS4, X360, 3DS, PC  \n",
    "    3. Japan:  3DS, PS3, PSV, PS4, WiiU  \n",
    "    4. Other: PS3, PS4, X360, XOne, 3DS  \n",
    "Разница в количестве продаж связана с количеством населения.\n",
    "    </font>\n",
    "</div>"
   ]
  },
  {
   "cell_type": "code",
   "execution_count": 60,
   "metadata": {
    "cellId": "zdawwvy9lpm2zp33i4v2ya"
   },
   "outputs": [
    {
     "data": {
      "text/html": [
       "<div>\n",
       "<style scoped>\n",
       "    .dataframe tbody tr th:only-of-type {\n",
       "        vertical-align: middle;\n",
       "    }\n",
       "\n",
       "    .dataframe tbody tr th {\n",
       "        vertical-align: top;\n",
       "    }\n",
       "\n",
       "    .dataframe thead th {\n",
       "        text-align: right;\n",
       "    }\n",
       "</style>\n",
       "<table border=\"1\" class=\"dataframe\">\n",
       "  <thead>\n",
       "    <tr style=\"text-align: right;\">\n",
       "      <th></th>\n",
       "      <th>genre</th>\n",
       "      <th>na_sales</th>\n",
       "      <th>eu_sales</th>\n",
       "      <th>jp_sales</th>\n",
       "      <th>other_sales</th>\n",
       "    </tr>\n",
       "  </thead>\n",
       "  <tbody>\n",
       "    <tr>\n",
       "      <td>0</td>\n",
       "      <td>Action</td>\n",
       "      <td>230.92</td>\n",
       "      <td>199.12</td>\n",
       "      <td>63.62</td>\n",
       "      <td>64.14</td>\n",
       "    </tr>\n",
       "    <tr>\n",
       "      <td>1</td>\n",
       "      <td>Shooter</td>\n",
       "      <td>194.43</td>\n",
       "      <td>148.02</td>\n",
       "      <td>11.92</td>\n",
       "      <td>48.54</td>\n",
       "    </tr>\n",
       "    <tr>\n",
       "      <td>2</td>\n",
       "      <td>Sports</td>\n",
       "      <td>108.70</td>\n",
       "      <td>88.48</td>\n",
       "      <td>11.09</td>\n",
       "      <td>28.88</td>\n",
       "    </tr>\n",
       "    <tr>\n",
       "      <td>3</td>\n",
       "      <td>Role-Playing</td>\n",
       "      <td>83.78</td>\n",
       "      <td>62.30</td>\n",
       "      <td>79.87</td>\n",
       "      <td>19.68</td>\n",
       "    </tr>\n",
       "    <tr>\n",
       "      <td>4</td>\n",
       "      <td>Misc</td>\n",
       "      <td>69.69</td>\n",
       "      <td>39.72</td>\n",
       "      <td>17.60</td>\n",
       "      <td>12.41</td>\n",
       "    </tr>\n",
       "    <tr>\n",
       "      <td>5</td>\n",
       "      <td>Racing</td>\n",
       "      <td>31.98</td>\n",
       "      <td>40.58</td>\n",
       "      <td>5.64</td>\n",
       "      <td>10.11</td>\n",
       "    </tr>\n",
       "    <tr>\n",
       "      <td>6</td>\n",
       "      <td>Platform</td>\n",
       "      <td>38.28</td>\n",
       "      <td>30.07</td>\n",
       "      <td>12.13</td>\n",
       "      <td>8.20</td>\n",
       "    </tr>\n",
       "    <tr>\n",
       "      <td>7</td>\n",
       "      <td>Fighting</td>\n",
       "      <td>31.63</td>\n",
       "      <td>16.24</td>\n",
       "      <td>12.38</td>\n",
       "      <td>6.65</td>\n",
       "    </tr>\n",
       "    <tr>\n",
       "      <td>8</td>\n",
       "      <td>Adventure</td>\n",
       "      <td>14.76</td>\n",
       "      <td>13.96</td>\n",
       "      <td>12.07</td>\n",
       "      <td>4.25</td>\n",
       "    </tr>\n",
       "    <tr>\n",
       "      <td>9</td>\n",
       "      <td>Simulation</td>\n",
       "      <td>15.37</td>\n",
       "      <td>19.72</td>\n",
       "      <td>11.64</td>\n",
       "      <td>3.53</td>\n",
       "    </tr>\n",
       "  </tbody>\n",
       "</table>\n",
       "</div>"
      ],
      "text/plain": [
       "          genre  na_sales  eu_sales  jp_sales  other_sales\n",
       "0        Action    230.92    199.12     63.62        64.14\n",
       "1       Shooter    194.43    148.02     11.92        48.54\n",
       "2        Sports    108.70     88.48     11.09        28.88\n",
       "3  Role-Playing     83.78     62.30     79.87        19.68\n",
       "4          Misc     69.69     39.72     17.60        12.41\n",
       "5        Racing     31.98     40.58      5.64        10.11\n",
       "6      Platform     38.28     30.07     12.13         8.20\n",
       "7      Fighting     31.63     16.24     12.38         6.65\n",
       "8     Adventure     14.76     13.96     12.07         4.25\n",
       "9    Simulation     15.37     19.72     11.64         3.53"
      ]
     },
     "execution_count": 60,
     "metadata": {},
     "output_type": "execute_result"
    }
   ],
   "source": [
    "good_period.groupby('genre')['na_sales','eu_sales','jp_sales','other_sales'].sum().sort_values(by='na_sales', ascending = False).sort_values(by='eu_sales', ascending = False).sort_values(\n",
    "    by='jp_sales', ascending = False).sort_values(by='other_sales', ascending = False).reset_index().head(10)"
   ]
  },
  {
   "cell_type": "markdown",
   "metadata": {
    "cellId": "pdfkvkorcel1vdesl7xb44"
   },
   "source": [
    "<div class=\"alert alert-info\" style=\"border-radius: 15px; box-shadow: 4px 4px 4px; border: 1px solid \">\n",
    "    <font size=\"5\"><b>Вывод</b></font>\n",
    "\n",
    "<font color='black'>По жанрам более менее все понятно. Пять наиболее распространенных жанров в мире: Action, Shooter, Sports, Role-Playing, Misc  \n",
    "    Но выделяется Япония у нее другое распределение: Role-Playing, Action, Misc, Fighting, Platform.   \n",
    "    Это может быть связано с любовью японцев к ролевым играм по различным Аниме и мангам.</font>\n",
    "</div>"
   ]
  },
  {
   "cell_type": "code",
   "execution_count": 61,
   "metadata": {
    "cellId": "jrjr2qf76i1c0o4udzvs0h"
   },
   "outputs": [
    {
     "data": {
      "text/html": [
       "<div>\n",
       "<style scoped>\n",
       "    .dataframe tbody tr th:only-of-type {\n",
       "        vertical-align: middle;\n",
       "    }\n",
       "\n",
       "    .dataframe tbody tr th {\n",
       "        vertical-align: top;\n",
       "    }\n",
       "\n",
       "    .dataframe thead th {\n",
       "        text-align: right;\n",
       "    }\n",
       "</style>\n",
       "<table border=\"1\" class=\"dataframe\">\n",
       "  <thead>\n",
       "    <tr style=\"text-align: right;\">\n",
       "      <th></th>\n",
       "      <th>rating</th>\n",
       "      <th>na_sales</th>\n",
       "    </tr>\n",
       "  </thead>\n",
       "  <tbody>\n",
       "    <tr>\n",
       "      <td>0</td>\n",
       "      <td>M</td>\n",
       "      <td>308.45</td>\n",
       "    </tr>\n",
       "    <tr>\n",
       "      <td>1</td>\n",
       "      <td>E</td>\n",
       "      <td>170.17</td>\n",
       "    </tr>\n",
       "    <tr>\n",
       "      <td>2</td>\n",
       "      <td>uknown</td>\n",
       "      <td>123.58</td>\n",
       "    </tr>\n",
       "    <tr>\n",
       "      <td>3</td>\n",
       "      <td>E10+</td>\n",
       "      <td>117.83</td>\n",
       "    </tr>\n",
       "    <tr>\n",
       "      <td>4</td>\n",
       "      <td>T</td>\n",
       "      <td>109.31</td>\n",
       "    </tr>\n",
       "    <tr>\n",
       "      <td>5</td>\n",
       "      <td>EC</td>\n",
       "      <td>0.42</td>\n",
       "    </tr>\n",
       "    <tr>\n",
       "      <td>6</td>\n",
       "      <td>RP</td>\n",
       "      <td>0.00</td>\n",
       "    </tr>\n",
       "    <tr>\n",
       "      <td>7</td>\n",
       "      <td>K-A</td>\n",
       "      <td>0.00</td>\n",
       "    </tr>\n",
       "    <tr>\n",
       "      <td>8</td>\n",
       "      <td>AO</td>\n",
       "      <td>0.00</td>\n",
       "    </tr>\n",
       "  </tbody>\n",
       "</table>\n",
       "</div>"
      ],
      "text/plain": [
       "   rating  na_sales\n",
       "0       M    308.45\n",
       "1       E    170.17\n",
       "2  uknown    123.58\n",
       "3    E10+    117.83\n",
       "4       T    109.31\n",
       "5      EC      0.42\n",
       "6      RP      0.00\n",
       "7     K-A      0.00\n",
       "8      AO      0.00"
      ]
     },
     "execution_count": 61,
     "metadata": {},
     "output_type": "execute_result"
    }
   ],
   "source": [
    "good_period.groupby('rating')['na_sales'].sum().sort_values(ascending = False).reset_index()"
   ]
  },
  {
   "cell_type": "markdown",
   "metadata": {
    "cellId": "4l1b5ogjn1feyplwqmm76r"
   },
   "source": [
    "<div class=\"alert alert-info\" style=\"border-radius: 15px; box-shadow: 4px 4px 4px; border: 1px solid \">\n",
    "    <font size=\"5\"><b>Вывод</b></font>\n",
    "\n",
    "<font color='black'>Если судить по Северной Америке, то рейтинг влияет на продажи. Больше всего продаются игры с пометкой для взрослых, затем игры для всех. Ммежду первым и вторым местом большой разрыв. Это может быть связано, что игры для взросой аудитории интереснее сложнее чем для всех. Тем более средний возраст игрока как правило больше 17 лет.</font>\n",
    "</div>"
   ]
  },
  {
   "cell_type": "markdown",
   "metadata": {
    "cellId": "055n9rai18kkmcfnojlr76"
   },
   "source": [
    "<div class=\"alert alert-info\" style=\"border-radius: 15px; box-shadow: 4px 4px 4px; border: 1px solid \">\n",
    "<font size=\"5\"><b> Вывод </b></font> <a class=\"anchor\" id=\"вывод4\"></a>\n",
    "    \n",
    "<font color='black'>В целом вывод в этой главе совпадает с выводом из предыддущей главы, популярная платформа такая же как и жанр. Единственное что можно добавить, что бло определенно влияние рейтинга на продаваемость в Северной Америке (Северная Америка была взята из-за большего кол-ва проданных копий различных игр). Выпускать лучше игры нацеленные на взрослую аудиторию </font>\n",
    "</div> "
   ]
  },
  {
   "cell_type": "code",
   "execution_count": 62,
   "metadata": {
    "cellId": "ixzjk3dytfqt3vf3l9hi"
   },
   "outputs": [],
   "source": [
    "totalsales_platform = good_period.groupby('platform')['total_sales'].sum().sort_values(ascending = False) "
   ]
  },
  {
   "cell_type": "markdown",
   "metadata": {
    "cellId": "d2ujn6zga2w34pmi4q1595"
   },
   "source": [
    "# Платформы\n",
    "## Америка"
   ]
  },
  {
   "cell_type": "code",
   "execution_count": 63,
   "metadata": {
    "cellId": "bz4mkg6o71uxrdz6nh7ipa"
   },
   "outputs": [
    {
     "data": {
      "text/html": [
       "<div>\n",
       "<style scoped>\n",
       "    .dataframe tbody tr th:only-of-type {\n",
       "        vertical-align: middle;\n",
       "    }\n",
       "\n",
       "    .dataframe tbody tr th {\n",
       "        vertical-align: top;\n",
       "    }\n",
       "\n",
       "    .dataframe thead th {\n",
       "        text-align: right;\n",
       "    }\n",
       "</style>\n",
       "<table border=\"1\" class=\"dataframe\">\n",
       "  <thead>\n",
       "    <tr style=\"text-align: right;\">\n",
       "      <th></th>\n",
       "      <th>Место</th>\n",
       "      <th>Платформа</th>\n",
       "      <th>Продажи в Америке</th>\n",
       "      <th>Доля продаж от мирового</th>\n",
       "      <th>Доля продаж от Америки</th>\n",
       "    </tr>\n",
       "  </thead>\n",
       "  <tbody>\n",
       "    <tr>\n",
       "      <td>0</td>\n",
       "      <td>1</td>\n",
       "      <td>X360</td>\n",
       "      <td>226.80</td>\n",
       "      <td>59.6</td>\n",
       "      <td>27.3</td>\n",
       "    </tr>\n",
       "    <tr>\n",
       "      <td>1</td>\n",
       "      <td>2</td>\n",
       "      <td>PS3</td>\n",
       "      <td>168.26</td>\n",
       "      <td>37.8</td>\n",
       "      <td>20.3</td>\n",
       "    </tr>\n",
       "    <tr>\n",
       "      <td>2</td>\n",
       "      <td>3</td>\n",
       "      <td>PS4</td>\n",
       "      <td>108.74</td>\n",
       "      <td>34.6</td>\n",
       "      <td>13.1</td>\n",
       "    </tr>\n",
       "    <tr>\n",
       "      <td>3</td>\n",
       "      <td>4</td>\n",
       "      <td>XOne</td>\n",
       "      <td>93.12</td>\n",
       "      <td>58.4</td>\n",
       "      <td>11.2</td>\n",
       "    </tr>\n",
       "    <tr>\n",
       "      <td>4</td>\n",
       "      <td>5</td>\n",
       "      <td>3DS</td>\n",
       "      <td>82.65</td>\n",
       "      <td>32.1</td>\n",
       "      <td>10.0</td>\n",
       "    </tr>\n",
       "  </tbody>\n",
       "</table>\n",
       "</div>"
      ],
      "text/plain": [
       "  Место Платформа  Продажи в Америке  Доля продаж от мирового  \\\n",
       "0     1      X360             226.80                     59.6   \n",
       "1     2       PS3             168.26                     37.8   \n",
       "2     3       PS4             108.74                     34.6   \n",
       "3     4      XOne              93.12                     58.4   \n",
       "4     5       3DS              82.65                     32.1   \n",
       "\n",
       "   Доля продаж от Америки  \n",
       "0                    27.3  \n",
       "1                    20.3  \n",
       "2                    13.1  \n",
       "3                    11.2  \n",
       "4                    10.0  "
      ]
     },
     "execution_count": 63,
     "metadata": {},
     "output_type": "execute_result"
    }
   ],
   "source": [
    "north_america1 =  good_period.groupby('platform')['na_sales'].sum().sort_values(ascending = False).head(5)\n",
    "north_america2 = pd.DataFrame({'Место': ['1', '2', '3','4','5'], 'Платформа': north_america1.index, 'Продажи в Америке' : north_america1})\n",
    "north_america2 = north_america2.merge(totalsales_platform, left_on = 'Платформа',right_on = 'platform', how = 'left')\n",
    "north_america2['Доля продаж от мирового'] = (north_america2['Продажи в Америке'] / north_america2['total_sales'] *100).round(1)\n",
    "north_america2 = north_america2.drop('total_sales', 1)\n",
    "north_america2['Доля продаж от Америки'] = (north_america2['Продажи в Америке'] / good_period['na_sales'].sum() * 100).round(1)\n",
    "#kek.set_index('Место', inplace=True)\n",
    "north_america2"
   ]
  },
  {
   "cell_type": "code",
   "execution_count": 64,
   "metadata": {
    "cellId": "9v95rjv4mjbeynynhzoq5e"
   },
   "outputs": [
    {
     "data": {
      "text/plain": [
       "array([<matplotlib.axes._subplots.AxesSubplot object at 0x7fc058ceab90>],\n",
       "      dtype=object)"
      ]
     },
     "execution_count": 64,
     "metadata": {},
     "output_type": "execute_result"
    },
    {
     "data": {
      "image/png": "[encoded data removed]",
      "text/plain": [
       "<Figure size 576x576 with 1 Axes>"
      ]
     },
     "metadata": {},
     "output_type": "display_data"
    }
   ],
   "source": [
    "good_period.groupby('platform')['na_sales'].sum().sort_values(ascending = False).plot(kind='pie', subplots=True, figsize=(8, 8), autopct='%1.0f%%')"
   ]
  },
  {
   "cell_type": "markdown",
   "metadata": {
    "cellId": "4d3kodhjbc4vgb0ks03aq"
   },
   "source": [
    "## Европа"
   ]
  },
  {
   "cell_type": "code",
   "execution_count": 65,
   "metadata": {
    "cellId": "rfbpzyrr57k3s9f93cfhtu"
   },
   "outputs": [
    {
     "data": {
      "text/html": [
       "<div>\n",
       "<style scoped>\n",
       "    .dataframe tbody tr th:only-of-type {\n",
       "        vertical-align: middle;\n",
       "    }\n",
       "\n",
       "    .dataframe tbody tr th {\n",
       "        vertical-align: top;\n",
       "    }\n",
       "\n",
       "    .dataframe thead th {\n",
       "        text-align: right;\n",
       "    }\n",
       "</style>\n",
       "<table border=\"1\" class=\"dataframe\">\n",
       "  <thead>\n",
       "    <tr style=\"text-align: right;\">\n",
       "      <th></th>\n",
       "      <th>Место</th>\n",
       "      <th>Платформа</th>\n",
       "      <th>Продажи в Европе</th>\n",
       "      <th>Доля продаж от мирового</th>\n",
       "      <th>Доля продаж от Европы</th>\n",
       "    </tr>\n",
       "  </thead>\n",
       "  <tbody>\n",
       "    <tr>\n",
       "      <td>0</td>\n",
       "      <td>1</td>\n",
       "      <td>PS3</td>\n",
       "      <td>163.10</td>\n",
       "      <td>36.6</td>\n",
       "      <td>24.4</td>\n",
       "    </tr>\n",
       "    <tr>\n",
       "      <td>1</td>\n",
       "      <td>2</td>\n",
       "      <td>PS4</td>\n",
       "      <td>141.09</td>\n",
       "      <td>44.9</td>\n",
       "      <td>21.1</td>\n",
       "    </tr>\n",
       "    <tr>\n",
       "      <td>2</td>\n",
       "      <td>3</td>\n",
       "      <td>X360</td>\n",
       "      <td>117.10</td>\n",
       "      <td>30.8</td>\n",
       "      <td>17.5</td>\n",
       "    </tr>\n",
       "    <tr>\n",
       "      <td>3</td>\n",
       "      <td>4</td>\n",
       "      <td>3DS</td>\n",
       "      <td>61.27</td>\n",
       "      <td>23.8</td>\n",
       "      <td>9.1</td>\n",
       "    </tr>\n",
       "    <tr>\n",
       "      <td>4</td>\n",
       "      <td>5</td>\n",
       "      <td>PC</td>\n",
       "      <td>56.70</td>\n",
       "      <td>58.0</td>\n",
       "      <td>8.5</td>\n",
       "    </tr>\n",
       "  </tbody>\n",
       "</table>\n",
       "</div>"
      ],
      "text/plain": [
       "  Место Платформа  Продажи в Европе  Доля продаж от мирового  \\\n",
       "0     1       PS3            163.10                     36.6   \n",
       "1     2       PS4            141.09                     44.9   \n",
       "2     3      X360            117.10                     30.8   \n",
       "3     4       3DS             61.27                     23.8   \n",
       "4     5        PC             56.70                     58.0   \n",
       "\n",
       "   Доля продаж от Европы  \n",
       "0                   24.4  \n",
       "1                   21.1  \n",
       "2                   17.5  \n",
       "3                    9.1  \n",
       "4                    8.5  "
      ]
     },
     "execution_count": 65,
     "metadata": {},
     "output_type": "execute_result"
    }
   ],
   "source": [
    "europe1 =  good_period.groupby('platform')['eu_sales'].sum().sort_values(ascending = False).head(5)\n",
    "europe2 = pd.DataFrame({'Место': ['1', '2', '3','4','5'], 'Платформа': europe1.index, 'Продажи в Европе' : europe1})\n",
    "europe2 = europe2.merge(totalsales_platform, left_on = 'Платформа',right_on = 'platform', how = 'left')\n",
    "europe2['Доля продаж от мирового'] = (europe2['Продажи в Европе'] / europe2['total_sales'] *100).round(1)\n",
    "europe2 = europe2.drop('total_sales', 1)\n",
    "europe2['Доля продаж от Европы'] = (europe2['Продажи в Европе'] / good_period['eu_sales'].sum() * 100).round(1)\n",
    "europe2"
   ]
  },
  {
   "cell_type": "code",
   "execution_count": 66,
   "metadata": {
    "cellId": "walzlk1tkmjwxnqtse38b"
   },
   "outputs": [
    {
     "data": {
      "text/plain": [
       "array([<matplotlib.axes._subplots.AxesSubplot object at 0x7fc058be2150>],\n",
       "      dtype=object)"
      ]
     },
     "execution_count": 66,
     "metadata": {},
     "output_type": "execute_result"
    },
    {
     "data": {
      "image/png": "[encoded data removed]",
      "text/plain": [
       "<Figure size 576x576 with 1 Axes>"
      ]
     },
     "metadata": {},
     "output_type": "display_data"
    }
   ],
   "source": [
    "good_period.groupby('platform')['eu_sales'].sum().sort_values(ascending = False).plot(kind='pie', subplots=True, figsize=(8, 8), autopct='%1.0f%%')"
   ]
  },
  {
   "cell_type": "markdown",
   "metadata": {
    "cellId": "d2gxzpoo77qzw1hvh9fu2"
   },
   "source": [
    "## Япония"
   ]
  },
  {
   "cell_type": "code",
   "execution_count": 67,
   "metadata": {
    "cellId": "624jmvohi1uaqpytjrudoh"
   },
   "outputs": [
    {
     "data": {
      "text/html": [
       "<div>\n",
       "<style scoped>\n",
       "    .dataframe tbody tr th:only-of-type {\n",
       "        vertical-align: middle;\n",
       "    }\n",
       "\n",
       "    .dataframe tbody tr th {\n",
       "        vertical-align: top;\n",
       "    }\n",
       "\n",
       "    .dataframe thead th {\n",
       "        text-align: right;\n",
       "    }\n",
       "</style>\n",
       "<table border=\"1\" class=\"dataframe\">\n",
       "  <thead>\n",
       "    <tr style=\"text-align: right;\">\n",
       "      <th></th>\n",
       "      <th>Место</th>\n",
       "      <th>Платформа</th>\n",
       "      <th>Продажи в Японии</th>\n",
       "      <th>Доля продаж от мирового</th>\n",
       "      <th>Доля продаж от Европы</th>\n",
       "    </tr>\n",
       "  </thead>\n",
       "  <tbody>\n",
       "    <tr>\n",
       "      <td>0</td>\n",
       "      <td>1</td>\n",
       "      <td>3DS</td>\n",
       "      <td>100.62</td>\n",
       "      <td>39.0</td>\n",
       "      <td>41.0</td>\n",
       "    </tr>\n",
       "    <tr>\n",
       "      <td>1</td>\n",
       "      <td>2</td>\n",
       "      <td>PS3</td>\n",
       "      <td>49.39</td>\n",
       "      <td>11.1</td>\n",
       "      <td>20.1</td>\n",
       "    </tr>\n",
       "    <tr>\n",
       "      <td>2</td>\n",
       "      <td>3</td>\n",
       "      <td>PSP</td>\n",
       "      <td>24.04</td>\n",
       "      <td>82.9</td>\n",
       "      <td>9.8</td>\n",
       "    </tr>\n",
       "    <tr>\n",
       "      <td>3</td>\n",
       "      <td>4</td>\n",
       "      <td>PSV</td>\n",
       "      <td>21.84</td>\n",
       "      <td>40.6</td>\n",
       "      <td>8.9</td>\n",
       "    </tr>\n",
       "    <tr>\n",
       "      <td>4</td>\n",
       "      <td>5</td>\n",
       "      <td>PS4</td>\n",
       "      <td>15.96</td>\n",
       "      <td>5.1</td>\n",
       "      <td>6.5</td>\n",
       "    </tr>\n",
       "  </tbody>\n",
       "</table>\n",
       "</div>"
      ],
      "text/plain": [
       "  Место Платформа  Продажи в Японии  Доля продаж от мирового  \\\n",
       "0     1       3DS            100.62                     39.0   \n",
       "1     2       PS3             49.39                     11.1   \n",
       "2     3       PSP             24.04                     82.9   \n",
       "3     4       PSV             21.84                     40.6   \n",
       "4     5       PS4             15.96                      5.1   \n",
       "\n",
       "   Доля продаж от Европы  \n",
       "0                   41.0  \n",
       "1                   20.1  \n",
       "2                    9.8  \n",
       "3                    8.9  \n",
       "4                    6.5  "
      ]
     },
     "execution_count": 67,
     "metadata": {},
     "output_type": "execute_result"
    }
   ],
   "source": [
    "jap1 =  good_period.groupby('platform')['jp_sales'].sum().sort_values(ascending = False).head(5)\n",
    "jap2 = pd.DataFrame({'Место': ['1', '2', '3','4','5'], 'Платформа': jap1.index, 'Продажи в Японии' : jap1})\n",
    "jap2 = jap2.merge(totalsales_platform, left_on = 'Платформа',right_on = 'platform', how = 'left')\n",
    "jap2['Доля продаж от мирового'] = (jap2['Продажи в Японии'] / jap2['total_sales'] *100).round(1)\n",
    "jap2 = jap2.drop('total_sales', 1)\n",
    "jap2['Доля продаж от Европы'] = (jap2['Продажи в Японии'] / good_period['jp_sales'].sum() * 100).round(1)\n",
    "jap2"
   ]
  },
  {
   "cell_type": "code",
   "execution_count": 68,
   "metadata": {
    "cellId": "0d2ncov60676q0umlik4cf"
   },
   "outputs": [
    {
     "data": {
      "text/plain": [
       "array([<matplotlib.axes._subplots.AxesSubplot object at 0x7fc059cb4050>],\n",
       "      dtype=object)"
      ]
     },
     "execution_count": 68,
     "metadata": {},
     "output_type": "execute_result"
    },
    {
     "data": {
      "image/png": "[encoded data removed]",
      "text/plain": [
       "<Figure size 576x576 with 1 Axes>"
      ]
     },
     "metadata": {},
     "output_type": "display_data"
    }
   ],
   "source": [
    "good_period.groupby('platform')['jp_sales'].sum().sort_values(ascending = False).plot(kind='pie', subplots=True, figsize=(8, 8), autopct='%1.0f%%')"
   ]
  },
  {
   "cell_type": "markdown",
   "metadata": {
    "cellId": "5ztopo977l2e9cqaind4wr"
   },
   "source": [
    "# Жанр\n",
    "## Америка "
   ]
  },
  {
   "cell_type": "code",
   "execution_count": 69,
   "metadata": {
    "cellId": "lfqbmq0kki6e3su4gup0c"
   },
   "outputs": [
    {
     "data": {
      "text/plain": [
       "genre\n",
       "Action          230.92\n",
       "Shooter         194.43\n",
       "Sports          108.70\n",
       "Role-Playing     83.78\n",
       "Misc             69.69\n",
       "Name: na_sales, dtype: float64"
      ]
     },
     "execution_count": 69,
     "metadata": {},
     "output_type": "execute_result"
    }
   ],
   "source": [
    "good_period.groupby('genre')['na_sales'].sum().sort_values(ascending = False).head(5)\n"
   ]
  },
  {
   "cell_type": "markdown",
   "metadata": {
    "cellId": "fj0z2lblf1a0f3zgge1o5p"
   },
   "source": [
    "## Европа"
   ]
  },
  {
   "cell_type": "code",
   "execution_count": 70,
   "metadata": {
    "cellId": "yvsahiy30c5uh7f2slbb4"
   },
   "outputs": [
    {
     "data": {
      "text/plain": [
       "genre\n",
       "Action          199.12\n",
       "Shooter         148.02\n",
       "Sports           88.48\n",
       "Role-Playing     62.30\n",
       "Racing           40.58\n",
       "Name: eu_sales, dtype: float64"
      ]
     },
     "execution_count": 70,
     "metadata": {},
     "output_type": "execute_result"
    }
   ],
   "source": [
    "good_period.groupby('genre')['eu_sales'].sum().sort_values(ascending = False).head(5)\n"
   ]
  },
  {
   "cell_type": "markdown",
   "metadata": {
    "cellId": "i77x0hc3syqigs5cwqljbc"
   },
   "source": [
    "## Япония"
   ]
  },
  {
   "cell_type": "code",
   "execution_count": 71,
   "metadata": {
    "cellId": "qx5wx0szzs8by3o425fhh"
   },
   "outputs": [
    {
     "data": {
      "text/plain": [
       "genre\n",
       "Role-Playing    79.87\n",
       "Action          63.62\n",
       "Misc            17.60\n",
       "Fighting        12.38\n",
       "Platform        12.13\n",
       "Name: jp_sales, dtype: float64"
      ]
     },
     "execution_count": 71,
     "metadata": {},
     "output_type": "execute_result"
    }
   ],
   "source": [
    "good_period.groupby('genre')['jp_sales'].sum().sort_values(ascending = False).head(5)"
   ]
  },
  {
   "cell_type": "markdown",
   "metadata": {
    "cellId": "vto35gjxuxsk84ulvrmrsd"
   },
   "source": [
    "## Рейтинг\n",
    "## Америка"
   ]
  },
  {
   "cell_type": "code",
   "execution_count": 72,
   "metadata": {
    "cellId": "pmjccmsm2oy1oij2lepha"
   },
   "outputs": [
    {
     "data": {
      "text/plain": [
       "rating\n",
       "M         308.45\n",
       "E         170.17\n",
       "uknown    123.58\n",
       "E10+      117.83\n",
       "T         109.31\n",
       "Name: na_sales, dtype: float64"
      ]
     },
     "execution_count": 72,
     "metadata": {},
     "output_type": "execute_result"
    }
   ],
   "source": [
    "good_period.groupby('rating')['na_sales'].sum().sort_values(ascending = False).head(5)"
   ]
  },
  {
   "cell_type": "markdown",
   "metadata": {
    "cellId": "y8ed7sr6r2mgml354ko3dw"
   },
   "source": [
    "## Европа"
   ]
  },
  {
   "cell_type": "code",
   "execution_count": 73,
   "metadata": {
    "cellId": "t84pl5qydgaw59023js41m"
   },
   "outputs": [
    {
     "data": {
      "text/plain": [
       "rating\n",
       "M         250.26\n",
       "E         141.73\n",
       "uknown    116.32\n",
       "T          83.16\n",
       "E10+       78.29\n",
       "Name: eu_sales, dtype: float64"
      ]
     },
     "execution_count": 73,
     "metadata": {},
     "output_type": "execute_result"
    }
   ],
   "source": [
    "good_period.groupby('rating')['eu_sales'].sum().sort_values(ascending = False).head(5)\n"
   ]
  },
  {
   "cell_type": "markdown",
   "metadata": {
    "cellId": "tx6vk66g1talm4hqmu4sw"
   },
   "source": [
    "## Япония"
   ]
  },
  {
   "cell_type": "code",
   "execution_count": 74,
   "metadata": {
    "cellId": "4nl81zerajsbou75gv2n"
   },
   "outputs": [
    {
     "data": {
      "text/plain": [
       "rating\n",
       "uknown    138.21\n",
       "E          36.68\n",
       "T          33.39\n",
       "M          26.14\n",
       "E10+       11.23\n",
       "Name: jp_sales, dtype: float64"
      ]
     },
     "execution_count": 74,
     "metadata": {},
     "output_type": "execute_result"
    }
   ],
   "source": [
    "good_period.groupby('rating')['jp_sales'].sum().sort_values(ascending = False).head(5)"
   ]
  },
  {
   "cell_type": "markdown",
   "metadata": {
    "cellId": "b0u4vvzrnv41bekfre6oa3j"
   },
   "source": [
    "\n",
    "## 5 Проверка гипотез <a class=\"anchor\" id=\"гипотеза\"></a>"
   ]
  },
  {
   "cell_type": "code",
   "execution_count": 75,
   "metadata": {
    "cellId": "xqa6lu0cwl8vwlsczymvy"
   },
   "outputs": [],
   "source": [
    "alpha = 0.05 # как общепринято =)"
   ]
  },
  {
   "cell_type": "markdown",
   "metadata": {
    "cellId": "tqu8tdc1q23k8g4yjnyt8"
   },
   "source": [
    "Проверим Гипотезу, что  Средние пользовательские рейтинги платформ Xbox One и PC одинаковые"
   ]
  },
  {
   "cell_type": "code",
   "execution_count": 76,
   "metadata": {
    "cellId": "78ybmhi1irpbtuaml255wf"
   },
   "outputs": [],
   "source": [
    "results = st.ttest_ind(good_period[good_period['platform'] == 'XOne']['user_score'], good_period[good_period['platform'] == 'PC']['user_score'],nan_policy=\"omit\")"
   ]
  },
  {
   "cell_type": "code",
   "execution_count": 77,
   "metadata": {
    "cellId": "lrti5bhhv18agl2don0sfn"
   },
   "outputs": [
    {
     "name": "stdout",
     "output_type": "stream",
     "text": [
      "p-значение: 0.6288920816891947\n",
      "Не получилось отвергнуть нулевую гипотезу\n"
     ]
    }
   ],
   "source": [
    "print('p-значение:', results.pvalue)\n",
    "\n",
    "if results.pvalue < alpha:\n",
    "    print('Отвергаем нулевую гипотезу')\n",
    "else:\n",
    "    print('Не получилось отвергнуть нулевую гипотезу') "
   ]
  },
  {
   "cell_type": "markdown",
   "metadata": {
    "cellId": "jh47ni94h7ausr7ae24z"
   },
   "source": [
    "Не получилось отвергнуть теорию. оценка игроков не зависит от платформы."
   ]
  },
  {
   "cell_type": "markdown",
   "metadata": {
    "cellId": "qs9okvh3sxqx3174tqxxw9"
   },
   "source": [
    "<div class=\"alert alert-info\">\n",
    "<b>Нулевая и Альтернативная гипотеза</b> \n",
    "    \n",
    "Нулевая гипотеза: Средние пользовательские рейтинги жанров Action (англ. «действие», экшен-игры) и Sports (англ. «спортивные соревнования») одинаковые\n",
    "    \n",
    "Альтернативная гипотеза:  Средние пользовательские рейтинги жанров Action (англ. «действие», экшен-игры) и Sports (англ. «спортивные соревнования») различаются</div>"
   ]
  },
  {
   "cell_type": "markdown",
   "metadata": {
    "cellId": "5aygp6qu9pmz1s9lfzpfz"
   },
   "source": [
    "Проверим Гипотезу, что Средние пользовательские рейтинги жанров Action (англ. «действие», экшен-игры) и Sports (англ. «спортивные соревнования») разные."
   ]
  },
  {
   "cell_type": "code",
   "execution_count": 78,
   "metadata": {
    "cellId": "vzw0avhp2kjqwgrmieor7"
   },
   "outputs": [],
   "source": [
    "results = st.ttest_ind(good_period[good_period['genre'] == 'Action']['user_score'], good_period[good_period['genre'] == 'Sports']['user_score'],nan_policy=\"omit\")"
   ]
  },
  {
   "cell_type": "code",
   "execution_count": 79,
   "metadata": {
    "cellId": "kvike8j9xdoiura07ibw"
   },
   "outputs": [
    {
     "name": "stdout",
     "output_type": "stream",
     "text": [
      "p-значение: 4.521251992342284e-24\n",
      "Отвергаем нулевую гипотезу\n"
     ]
    }
   ],
   "source": [
    "print('p-значение:', results.pvalue)\n",
    "\n",
    "if results.pvalue < alpha:\n",
    "    print('Отвергаем нулевую гипотезу')\n",
    "else:\n",
    "    print('Не получилось отвергнуть нулевую гипотезу') "
   ]
  },
  {
   "cell_type": "markdown",
   "metadata": {
    "cellId": "7rp56kskg8vfqcgbryi8g"
   },
   "source": [
    "Отвергаем нулевую гипотезу, процент что большее различие можно получить случайно слишком мал. JОценки жанров различаются!!!!"
   ]
  },
  {
   "cell_type": "markdown",
   "metadata": {
    "cellId": "fr1vkbx6ji5msb0wekt1vg"
   },
   "source": [
    "<div class=\"alert alert-info\" style=\"border-radius: 15px; box-shadow: 4px 4px 4px; border: 1px solid \">\n",
    "    <font size=\"5\"><b>Вывод</b></font>\n",
    "\n",
    "<font color='black'> Как показала проверка гипотез, похоже что среднии оценки пользователей не зависит от плтаформы, а вот жанры различаются. </font>\n",
    "</div>"
   ]
  },
  {
   "cell_type": "markdown",
   "metadata": {
    "cellId": "7minlhsu98t8hnumvhtaam"
   },
   "source": [
    "<div class=\"alert alert-info\" style=\"border-radius: 15px; box-shadow: 4px 4px 4px; border: 1px solid \">\n",
    "    <font size=\"5\"><b>Общий вывод</b></font> <a class=\"anchor\" id=\"СУПЕРВЫВОД\"></a>\n",
    "\n",
    "<font color='black'> Нам был предоставлен датасет с играми, где были представлены их продажи, рейтинги и так далее. Наша задача заключалась в пронозировании: Какая может быть успешная игра в 2017 году. Был проведен Анализ данных и были получены следующи результаты.  \n",
    "    Рекомендация для будущей игры в 2017 году:\n",
    "    1. Игра должна быть выпущена на одной из следующих платформ PS4 или XBox One.  \n",
    "    2. Игра должны быть в жанре Action, Shooter  \n",
    "    3. Не затягивать выпуск игр на эти платформы, они сейчас в рассвете, но судя по тенденции им осталось от 4 до 6 лет.  \n",
    "    4. Ориентироваться на взрослую аудитторию. Игра с рейтингом М.  \n",
    "    5. Попытаться угодить критикам. Их оценка влияет на продажи. Минимум: 60.  \n",
    " </font>     \n",
    "<font color='black'>    Все эти рекомендации не являются обязательными. Игровой шедевр может быть любого жанра и для любой аудитории. Главное чтобы в игре была ДУША. Один из самых лучших примеров Heroes of Might and Magic III</font>\n",
    "</div>"
   ]
  },
  {
   "cell_type": "code",
   "execution_count": 80,
   "metadata": {
    "cellId": "wqpu4ud33l4jpqcl6zgrd"
   },
   "outputs": [],
   "source": [
    "#!c1.4\n"
   ]
  }
 ],
 "metadata": {
  "ExecuteTimeLog": [
   {
    "duration": 2964,
    "start_time": "2021-12-04T13:20:50.990Z"
   },
   {
    "duration": 1476,
    "start_time": "2021-12-04T13:20:53.958Z"
   },
   {
    "duration": 49,
    "start_time": "2021-12-04T13:20:55.437Z"
   },
   {
    "duration": 40,
    "start_time": "2021-12-04T13:20:55.489Z"
   },
   {
    "duration": 23,
    "start_time": "2021-12-04T13:20:55.531Z"
   },
   {
    "duration": 14,
    "start_time": "2021-12-04T13:20:55.556Z"
   },
   {
    "duration": 77,
    "start_time": "2021-12-04T13:20:55.573Z"
   },
   {
    "duration": 17,
    "start_time": "2021-12-04T13:20:55.654Z"
   },
   {
    "duration": 21,
    "start_time": "2021-12-04T13:20:55.674Z"
   },
   {
    "duration": 48,
    "start_time": "2021-12-04T13:20:55.697Z"
   },
   {
    "duration": 13,
    "start_time": "2021-12-04T13:20:55.747Z"
   },
   {
    "duration": 66,
    "start_time": "2021-12-04T13:20:55.763Z"
   },
   {
    "duration": 10,
    "start_time": "2021-12-04T13:20:55.831Z"
   },
   {
    "duration": 15,
    "start_time": "2021-12-04T13:20:55.843Z"
   },
   {
    "duration": 14,
    "start_time": "2021-12-04T13:20:55.861Z"
   },
   {
    "duration": 53,
    "start_time": "2021-12-04T13:20:55.878Z"
   },
   {
    "duration": 12,
    "start_time": "2021-12-04T13:20:55.934Z"
   },
   {
    "duration": 13,
    "start_time": "2021-12-04T13:20:55.948Z"
   },
   {
    "duration": 17,
    "start_time": "2021-12-04T13:20:55.963Z"
   },
   {
    "duration": 53,
    "start_time": "2021-12-04T13:20:55.983Z"
   },
   {
    "duration": 24,
    "start_time": "2021-12-04T13:20:56.038Z"
   },
   {
    "duration": 23,
    "start_time": "2021-12-04T13:20:56.064Z"
   },
   {
    "duration": 36,
    "start_time": "2021-12-04T13:20:56.094Z"
   },
   {
    "duration": 27,
    "start_time": "2021-12-04T13:20:56.134Z"
   },
   {
    "duration": 11,
    "start_time": "2021-12-04T13:20:56.164Z"
   },
   {
    "duration": 53,
    "start_time": "2021-12-04T13:20:56.178Z"
   },
   {
    "duration": 11,
    "start_time": "2021-12-04T13:20:56.233Z"
   },
   {
    "duration": 12,
    "start_time": "2021-12-04T13:20:56.247Z"
   },
   {
    "duration": 17,
    "start_time": "2021-12-04T13:20:56.261Z"
   },
   {
    "duration": 14,
    "start_time": "2021-12-04T13:20:56.281Z"
   },
   {
    "duration": 41,
    "start_time": "2021-12-04T13:20:56.298Z"
   },
   {
    "duration": 8,
    "start_time": "2021-12-04T13:20:56.342Z"
   },
   {
    "duration": 32,
    "start_time": "2021-12-04T13:20:56.353Z"
   },
   {
    "duration": 13,
    "start_time": "2021-12-04T13:20:56.387Z"
   },
   {
    "duration": 20,
    "start_time": "2021-12-04T13:20:56.430Z"
   },
   {
    "duration": 21,
    "start_time": "2021-12-04T13:20:56.452Z"
   },
   {
    "duration": 867,
    "start_time": "2021-12-04T13:20:56.476Z"
   },
   {
    "duration": 17,
    "start_time": "2021-12-04T13:20:57.346Z"
   },
   {
    "duration": 67,
    "start_time": "2021-12-04T13:20:57.365Z"
   },
   {
    "duration": 2265,
    "start_time": "2021-12-04T13:20:57.435Z"
   },
   {
    "duration": 30,
    "start_time": "2021-12-04T13:20:59.703Z"
   },
   {
    "duration": 44,
    "start_time": "2021-12-04T13:20:59.736Z"
   },
   {
    "duration": 596,
    "start_time": "2021-12-04T13:20:59.783Z"
   },
   {
    "duration": 54,
    "start_time": "2021-12-04T13:21:00.382Z"
   },
   {
    "duration": 1292,
    "start_time": "2021-12-04T13:21:00.439Z"
   },
   {
    "duration": 306,
    "start_time": "2021-12-04T13:21:01.734Z"
   },
   {
    "duration": 507,
    "start_time": "2021-12-04T13:21:02.043Z"
   },
   {
    "duration": 283,
    "start_time": "2021-12-04T13:21:02.553Z"
   },
   {
    "duration": 639,
    "start_time": "2021-12-04T13:21:02.839Z"
   },
   {
    "duration": 70,
    "start_time": "2021-12-04T13:21:03.481Z"
   },
   {
    "duration": 1031,
    "start_time": "2021-12-04T13:21:03.553Z"
   },
   {
    "duration": 539,
    "start_time": "2021-12-04T13:21:04.587Z"
   },
   {
    "duration": -22049,
    "start_time": "2021-12-04T13:21:27.178Z"
   },
   {
    "duration": -22051,
    "start_time": "2021-12-04T13:21:27.181Z"
   },
   {
    "duration": -22054,
    "start_time": "2021-12-04T13:21:27.185Z"
   },
   {
    "duration": -22056,
    "start_time": "2021-12-04T13:21:27.189Z"
   },
   {
    "duration": -22058,
    "start_time": "2021-12-04T13:21:27.192Z"
   },
   {
    "duration": -22058,
    "start_time": "2021-12-04T13:21:27.193Z"
   },
   {
    "duration": -22060,
    "start_time": "2021-12-04T13:21:27.196Z"
   },
   {
    "duration": -22059,
    "start_time": "2021-12-04T13:21:27.197Z"
   },
   {
    "duration": -22061,
    "start_time": "2021-12-04T13:21:27.200Z"
   },
   {
    "duration": -22062,
    "start_time": "2021-12-04T13:21:27.202Z"
   },
   {
    "duration": 21,
    "start_time": "2021-12-04T13:21:15.331Z"
   },
   {
    "duration": 27,
    "start_time": "2021-12-04T13:21:15.488Z"
   },
   {
    "duration": 31,
    "start_time": "2021-12-04T13:21:15.803Z"
   },
   {
    "duration": 16,
    "start_time": "2021-12-04T13:21:16.171Z"
   },
   {
    "duration": 3,
    "start_time": "2021-12-04T13:21:16.958Z"
   },
   {
    "duration": 13,
    "start_time": "2021-12-04T13:21:17.315Z"
   },
   {
    "duration": 7,
    "start_time": "2021-12-04T13:21:17.499Z"
   },
   {
    "duration": 15,
    "start_time": "2021-12-04T13:21:18.078Z"
   },
   {
    "duration": 6,
    "start_time": "2021-12-04T13:21:18.276Z"
   },
   {
    "duration": 4,
    "start_time": "2021-12-04T13:21:19.051Z"
   },
   {
    "duration": 2505,
    "start_time": "2021-12-04T13:21:46.637Z"
   },
   {
    "duration": 2817,
    "start_time": "2021-12-04T13:21:53.944Z"
   },
   {
    "duration": 1501,
    "start_time": "2021-12-04T13:21:56.763Z"
   },
   {
    "duration": 49,
    "start_time": "2021-12-04T13:21:58.267Z"
   },
   {
    "duration": 30,
    "start_time": "2021-12-04T13:21:58.318Z"
   },
   {
    "duration": 23,
    "start_time": "2021-12-04T13:21:58.350Z"
   },
   {
    "duration": 15,
    "start_time": "2021-12-04T13:21:58.375Z"
   },
   {
    "duration": 78,
    "start_time": "2021-12-04T13:21:58.392Z"
   },
   {
    "duration": 18,
    "start_time": "2021-12-04T13:21:58.473Z"
   },
   {
    "duration": 48,
    "start_time": "2021-12-04T13:21:58.496Z"
   },
   {
    "duration": 24,
    "start_time": "2021-12-04T13:21:58.547Z"
   },
   {
    "duration": 13,
    "start_time": "2021-12-04T13:21:58.574Z"
   },
   {
    "duration": 65,
    "start_time": "2021-12-04T13:21:58.589Z"
   },
   {
    "duration": 10,
    "start_time": "2021-12-04T13:21:58.657Z"
   },
   {
    "duration": 17,
    "start_time": "2021-12-04T13:21:58.670Z"
   },
   {
    "duration": 41,
    "start_time": "2021-12-04T13:21:58.690Z"
   },
   {
    "duration": 13,
    "start_time": "2021-12-04T13:21:58.733Z"
   },
   {
    "duration": 15,
    "start_time": "2021-12-04T13:21:58.749Z"
   },
   {
    "duration": 12,
    "start_time": "2021-12-04T13:21:58.767Z"
   },
   {
    "duration": 54,
    "start_time": "2021-12-04T13:21:58.782Z"
   },
   {
    "duration": 18,
    "start_time": "2021-12-04T13:21:58.839Z"
   },
   {
    "duration": 22,
    "start_time": "2021-12-04T13:21:58.860Z"
   },
   {
    "duration": 53,
    "start_time": "2021-12-04T13:21:58.884Z"
   },
   {
    "duration": 12,
    "start_time": "2021-12-04T13:21:58.939Z"
   },
   {
    "duration": 25,
    "start_time": "2021-12-04T13:21:58.953Z"
   },
   {
    "duration": 13,
    "start_time": "2021-12-04T13:21:58.981Z"
   },
   {
    "duration": 47,
    "start_time": "2021-12-04T13:21:58.997Z"
   },
   {
    "duration": 10,
    "start_time": "2021-12-04T13:21:59.050Z"
   },
   {
    "duration": 10,
    "start_time": "2021-12-04T13:21:59.063Z"
   },
   {
    "duration": 16,
    "start_time": "2021-12-04T13:21:59.076Z"
   },
   {
    "duration": 40,
    "start_time": "2021-12-04T13:21:59.095Z"
   },
   {
    "duration": 19,
    "start_time": "2021-12-04T13:21:59.137Z"
   },
   {
    "duration": 9,
    "start_time": "2021-12-04T13:21:59.159Z"
   },
   {
    "duration": 65,
    "start_time": "2021-12-04T13:21:59.170Z"
   },
   {
    "duration": 13,
    "start_time": "2021-12-04T13:21:59.238Z"
   },
   {
    "duration": 19,
    "start_time": "2021-12-04T13:21:59.253Z"
   },
   {
    "duration": 20,
    "start_time": "2021-12-04T13:21:59.275Z"
   },
   {
    "duration": 781,
    "start_time": "2021-12-04T13:21:59.330Z"
   },
   {
    "duration": 26,
    "start_time": "2021-12-04T13:22:00.114Z"
   },
   {
    "duration": 36,
    "start_time": "2021-12-04T13:22:00.142Z"
   },
   {
    "duration": 2245,
    "start_time": "2021-12-04T13:22:00.180Z"
   },
   {
    "duration": 21,
    "start_time": "2021-12-04T13:22:02.430Z"
   },
   {
    "duration": 78,
    "start_time": "2021-12-04T13:22:02.454Z"
   },
   {
    "duration": 610,
    "start_time": "2021-12-04T13:22:02.535Z"
   },
   {
    "duration": 28,
    "start_time": "2021-12-04T13:22:03.148Z"
   },
   {
    "duration": 1300,
    "start_time": "2021-12-04T13:22:03.179Z"
   },
   {
    "duration": 304,
    "start_time": "2021-12-04T13:22:04.482Z"
   },
   {
    "duration": 547,
    "start_time": "2021-12-04T13:22:04.789Z"
   },
   {
    "duration": 304,
    "start_time": "2021-12-04T13:22:05.339Z"
   },
   {
    "duration": 656,
    "start_time": "2021-12-04T13:22:05.647Z"
   },
   {
    "duration": 66,
    "start_time": "2021-12-04T13:22:06.306Z"
   },
   {
    "duration": 1033,
    "start_time": "2021-12-04T13:22:06.374Z"
   },
   {
    "duration": 541,
    "start_time": "2021-12-04T13:22:07.410Z"
   },
   {
    "duration": -22032,
    "start_time": "2021-12-04T13:22:29.986Z"
   },
   {
    "duration": -22033,
    "start_time": "2021-12-04T13:22:29.989Z"
   },
   {
    "duration": -22034,
    "start_time": "2021-12-04T13:22:29.992Z"
   },
   {
    "duration": -22035,
    "start_time": "2021-12-04T13:22:29.995Z"
   },
   {
    "duration": -22035,
    "start_time": "2021-12-04T13:22:29.997Z"
   },
   {
    "duration": -22035,
    "start_time": "2021-12-04T13:22:29.999Z"
   },
   {
    "duration": -22036,
    "start_time": "2021-12-04T13:22:30.002Z"
   },
   {
    "duration": -22036,
    "start_time": "2021-12-04T13:22:30.004Z"
   },
   {
    "duration": -22038,
    "start_time": "2021-12-04T13:22:30.009Z"
   },
   {
    "duration": -22038,
    "start_time": "2021-12-04T13:22:30.011Z"
   },
   {
    "duration": 26,
    "start_time": "2021-12-04T13:22:39.750Z"
   },
   {
    "duration": 24,
    "start_time": "2021-12-04T13:22:39.905Z"
   },
   {
    "duration": 30,
    "start_time": "2021-12-04T13:22:40.276Z"
   },
   {
    "duration": 16,
    "start_time": "2021-12-04T13:22:40.658Z"
   },
   {
    "duration": 4,
    "start_time": "2021-12-04T13:22:41.718Z"
   },
   {
    "duration": 13,
    "start_time": "2021-12-04T13:22:42.118Z"
   },
   {
    "duration": 5,
    "start_time": "2021-12-04T13:22:42.345Z"
   },
   {
    "duration": 12,
    "start_time": "2021-12-04T13:22:42.994Z"
   },
   {
    "duration": 5,
    "start_time": "2021-12-04T13:22:43.261Z"
   },
   {
    "duration": 31,
    "start_time": "2021-12-04T13:51:44.196Z"
   },
   {
    "duration": 1124,
    "start_time": "2021-12-04T13:51:47.059Z"
   },
   {
    "duration": 30,
    "start_time": "2021-12-04T13:51:56.078Z"
   },
   {
    "duration": 1482,
    "start_time": "2021-12-04T13:51:57.385Z"
   },
   {
    "duration": 1776,
    "start_time": "2021-12-05T13:54:53.229Z"
   },
   {
    "duration": 1131,
    "start_time": "2021-12-05T13:54:55.007Z"
   },
   {
    "duration": 1313,
    "start_time": "2021-12-05T13:54:56.141Z"
   },
   {
    "duration": -22752,
    "start_time": "2021-12-05T13:55:20.211Z"
   },
   {
    "duration": -22756,
    "start_time": "2021-12-05T13:55:20.216Z"
   },
   {
    "duration": -22760,
    "start_time": "2021-12-05T13:55:20.221Z"
   },
   {
    "duration": -22771,
    "start_time": "2021-12-05T13:55:20.234Z"
   },
   {
    "duration": -22774,
    "start_time": "2021-12-05T13:55:20.238Z"
   },
   {
    "duration": -22776,
    "start_time": "2021-12-05T13:55:20.242Z"
   },
   {
    "duration": -22780,
    "start_time": "2021-12-05T13:55:20.247Z"
   },
   {
    "duration": -22783,
    "start_time": "2021-12-05T13:55:20.251Z"
   },
   {
    "duration": -22785,
    "start_time": "2021-12-05T13:55:20.254Z"
   },
   {
    "duration": -22787,
    "start_time": "2021-12-05T13:55:20.258Z"
   },
   {
    "duration": -22787,
    "start_time": "2021-12-05T13:55:20.260Z"
   },
   {
    "duration": -22789,
    "start_time": "2021-12-05T13:55:20.263Z"
   },
   {
    "duration": -22791,
    "start_time": "2021-12-05T13:55:20.267Z"
   },
   {
    "duration": -22794,
    "start_time": "2021-12-05T13:55:20.271Z"
   },
   {
    "duration": -22795,
    "start_time": "2021-12-05T13:55:20.274Z"
   },
   {
    "duration": -22797,
    "start_time": "2021-12-05T13:55:20.278Z"
   },
   {
    "duration": -22799,
    "start_time": "2021-12-05T13:55:20.281Z"
   },
   {
    "duration": -22803,
    "start_time": "2021-12-05T13:55:20.286Z"
   },
   {
    "duration": -22804,
    "start_time": "2021-12-05T13:55:20.289Z"
   },
   {
    "duration": -22805,
    "start_time": "2021-12-05T13:55:20.291Z"
   },
   {
    "duration": -22806,
    "start_time": "2021-12-05T13:55:20.294Z"
   },
   {
    "duration": -22808,
    "start_time": "2021-12-05T13:55:20.297Z"
   },
   {
    "duration": -22810,
    "start_time": "2021-12-05T13:55:20.300Z"
   },
   {
    "duration": -22811,
    "start_time": "2021-12-05T13:55:20.303Z"
   },
   {
    "duration": -22813,
    "start_time": "2021-12-05T13:55:20.306Z"
   },
   {
    "duration": -22815,
    "start_time": "2021-12-05T13:55:20.309Z"
   },
   {
    "duration": -22817,
    "start_time": "2021-12-05T13:55:20.313Z"
   },
   {
    "duration": -22819,
    "start_time": "2021-12-05T13:55:20.316Z"
   },
   {
    "duration": -22819,
    "start_time": "2021-12-05T13:55:20.318Z"
   },
   {
    "duration": -22821,
    "start_time": "2021-12-05T13:55:20.321Z"
   },
   {
    "duration": -22829,
    "start_time": "2021-12-05T13:55:20.331Z"
   },
   {
    "duration": -22832,
    "start_time": "2021-12-05T13:55:20.335Z"
   },
   {
    "duration": -22833,
    "start_time": "2021-12-05T13:55:20.337Z"
   },
   {
    "duration": -22835,
    "start_time": "2021-12-05T13:55:20.341Z"
   },
   {
    "duration": -22838,
    "start_time": "2021-12-05T13:55:20.345Z"
   },
   {
    "duration": -22841,
    "start_time": "2021-12-05T13:55:20.350Z"
   },
   {
    "duration": -22876,
    "start_time": "2021-12-05T13:55:20.386Z"
   },
   {
    "duration": -22895,
    "start_time": "2021-12-05T13:55:20.407Z"
   },
   {
    "duration": -22897,
    "start_time": "2021-12-05T13:55:20.411Z"
   },
   {
    "duration": -22925,
    "start_time": "2021-12-05T13:55:20.440Z"
   },
   {
    "duration": -22926,
    "start_time": "2021-12-05T13:55:20.443Z"
   },
   {
    "duration": -22928,
    "start_time": "2021-12-05T13:55:20.446Z"
   },
   {
    "duration": -22930,
    "start_time": "2021-12-05T13:55:20.449Z"
   },
   {
    "duration": -22932,
    "start_time": "2021-12-05T13:55:20.453Z"
   },
   {
    "duration": -22934,
    "start_time": "2021-12-05T13:55:20.456Z"
   },
   {
    "duration": -22935,
    "start_time": "2021-12-05T13:55:20.459Z"
   },
   {
    "duration": -22951,
    "start_time": "2021-12-05T13:55:20.476Z"
   },
   {
    "duration": -22966,
    "start_time": "2021-12-05T13:55:20.492Z"
   },
   {
    "duration": -22969,
    "start_time": "2021-12-05T13:55:20.497Z"
   },
   {
    "duration": -22971,
    "start_time": "2021-12-05T13:55:20.500Z"
   },
   {
    "duration": -22982,
    "start_time": "2021-12-05T13:55:20.513Z"
   },
   {
    "duration": -22992,
    "start_time": "2021-12-05T13:55:20.524Z"
   },
   {
    "duration": -22995,
    "start_time": "2021-12-05T13:55:20.528Z"
   },
   {
    "duration": -22940,
    "start_time": "2021-12-05T13:55:20.532Z"
   },
   {
    "duration": -22942,
    "start_time": "2021-12-05T13:55:20.535Z"
   },
   {
    "duration": -22942,
    "start_time": "2021-12-05T13:55:20.537Z"
   },
   {
    "duration": -22950,
    "start_time": "2021-12-05T13:55:20.546Z"
   },
   {
    "duration": -22997,
    "start_time": "2021-12-05T13:55:20.594Z"
   },
   {
    "duration": -23034,
    "start_time": "2021-12-05T13:55:20.633Z"
   },
   {
    "duration": -23036,
    "start_time": "2021-12-05T13:55:20.636Z"
   },
   {
    "duration": -23036,
    "start_time": "2021-12-05T13:55:20.638Z"
   },
   {
    "duration": -23038,
    "start_time": "2021-12-05T13:55:20.641Z"
   },
   {
    "duration": -23079,
    "start_time": "2021-12-05T13:55:20.683Z"
   },
   {
    "duration": -23110,
    "start_time": "2021-12-05T13:55:20.716Z"
   },
   {
    "duration": -23125,
    "start_time": "2021-12-05T13:55:20.732Z"
   },
   {
    "duration": -23126,
    "start_time": "2021-12-05T13:55:20.735Z"
   },
   {
    "duration": -23127,
    "start_time": "2021-12-05T13:55:20.737Z"
   },
   {
    "duration": -23128,
    "start_time": "2021-12-05T13:55:20.740Z"
   },
   {
    "duration": -23129,
    "start_time": "2021-12-05T13:55:20.742Z"
   },
   {
    "duration": -23130,
    "start_time": "2021-12-05T13:55:20.745Z"
   },
   {
    "duration": -23131,
    "start_time": "2021-12-05T13:55:20.747Z"
   },
   {
    "duration": -23132,
    "start_time": "2021-12-05T13:55:20.750Z"
   },
   {
    "duration": -23134,
    "start_time": "2021-12-05T13:55:20.753Z"
   },
   {
    "duration": -23141,
    "start_time": "2021-12-05T13:55:20.763Z"
   },
   {
    "duration": -23142,
    "start_time": "2021-12-05T13:55:20.765Z"
   },
   {
    "duration": 1501,
    "start_time": "2021-12-05T14:00:47.011Z"
   },
   {
    "duration": 1078,
    "start_time": "2021-12-05T14:00:48.514Z"
   },
   {
    "duration": 1478,
    "start_time": "2021-12-05T14:00:49.596Z"
   },
   {
    "duration": -22873,
    "start_time": "2021-12-05T14:01:13.951Z"
   },
   {
    "duration": -22884,
    "start_time": "2021-12-05T14:01:13.963Z"
   },
   {
    "duration": -22887,
    "start_time": "2021-12-05T14:01:13.967Z"
   },
   {
    "duration": -22891,
    "start_time": "2021-12-05T14:01:13.972Z"
   },
   {
    "duration": -22969,
    "start_time": "2021-12-05T14:01:14.051Z"
   },
   {
    "duration": -22983,
    "start_time": "2021-12-05T14:01:14.066Z"
   },
   {
    "duration": -22989,
    "start_time": "2021-12-05T14:01:14.073Z"
   },
   {
    "duration": -23004,
    "start_time": "2021-12-05T14:01:14.089Z"
   },
   {
    "duration": -23016,
    "start_time": "2021-12-05T14:01:14.102Z"
   },
   {
    "duration": -23025,
    "start_time": "2021-12-05T14:01:14.112Z"
   },
   {
    "duration": -23028,
    "start_time": "2021-12-05T14:01:14.116Z"
   },
   {
    "duration": -23035,
    "start_time": "2021-12-05T14:01:14.124Z"
   },
   {
    "duration": -23043,
    "start_time": "2021-12-05T14:01:14.132Z"
   },
   {
    "duration": -23048,
    "start_time": "2021-12-05T14:01:14.138Z"
   },
   {
    "duration": -23054,
    "start_time": "2021-12-05T14:01:14.145Z"
   },
   {
    "duration": -23058,
    "start_time": "2021-12-05T14:01:14.150Z"
   },
   {
    "duration": -23062,
    "start_time": "2021-12-05T14:01:14.155Z"
   },
   {
    "duration": -23071,
    "start_time": "2021-12-05T14:01:14.164Z"
   },
   {
    "duration": -23072,
    "start_time": "2021-12-05T14:01:14.166Z"
   },
   {
    "duration": -23076,
    "start_time": "2021-12-05T14:01:14.171Z"
   },
   {
    "duration": -23082,
    "start_time": "2021-12-05T14:01:14.178Z"
   },
   {
    "duration": -23085,
    "start_time": "2021-12-05T14:01:14.181Z"
   },
   {
    "duration": -23087,
    "start_time": "2021-12-05T14:01:14.184Z"
   },
   {
    "duration": -23091,
    "start_time": "2021-12-05T14:01:14.189Z"
   },
   {
    "duration": -23097,
    "start_time": "2021-12-05T14:01:14.196Z"
   },
   {
    "duration": -23098,
    "start_time": "2021-12-05T14:01:14.198Z"
   },
   {
    "duration": -23102,
    "start_time": "2021-12-05T14:01:14.202Z"
   },
   {
    "duration": -23110,
    "start_time": "2021-12-05T14:01:14.211Z"
   },
   {
    "duration": -23111,
    "start_time": "2021-12-05T14:01:14.213Z"
   },
   {
    "duration": -23114,
    "start_time": "2021-12-05T14:01:14.216Z"
   },
   {
    "duration": -23118,
    "start_time": "2021-12-05T14:01:14.221Z"
   },
   {
    "duration": -23124,
    "start_time": "2021-12-05T14:01:14.228Z"
   },
   {
    "duration": -23125,
    "start_time": "2021-12-05T14:01:14.230Z"
   },
   {
    "duration": -23127,
    "start_time": "2021-12-05T14:01:14.233Z"
   },
   {
    "duration": -23131,
    "start_time": "2021-12-05T14:01:14.238Z"
   },
   {
    "duration": -23137,
    "start_time": "2021-12-05T14:01:14.245Z"
   },
   {
    "duration": -23140,
    "start_time": "2021-12-05T14:01:14.248Z"
   },
   {
    "duration": -23141,
    "start_time": "2021-12-05T14:01:14.250Z"
   },
   {
    "duration": -23145,
    "start_time": "2021-12-05T14:01:14.255Z"
   },
   {
    "duration": -23152,
    "start_time": "2021-12-05T14:01:14.263Z"
   },
   {
    "duration": -23155,
    "start_time": "2021-12-05T14:01:14.267Z"
   },
   {
    "duration": -23181,
    "start_time": "2021-12-05T14:01:14.294Z"
   },
   {
    "duration": -23183,
    "start_time": "2021-12-05T14:01:14.297Z"
   },
   {
    "duration": -23185,
    "start_time": "2021-12-05T14:01:14.300Z"
   },
   {
    "duration": -23190,
    "start_time": "2021-12-05T14:01:14.306Z"
   },
   {
    "duration": -23192,
    "start_time": "2021-12-05T14:01:14.309Z"
   },
   {
    "duration": -23194,
    "start_time": "2021-12-05T14:01:14.312Z"
   },
   {
    "duration": -23197,
    "start_time": "2021-12-05T14:01:14.316Z"
   },
   {
    "duration": -23201,
    "start_time": "2021-12-05T14:01:14.321Z"
   },
   {
    "duration": -23205,
    "start_time": "2021-12-05T14:01:14.326Z"
   },
   {
    "duration": -23207,
    "start_time": "2021-12-05T14:01:14.331Z"
   },
   {
    "duration": -23212,
    "start_time": "2021-12-05T14:01:14.337Z"
   },
   {
    "duration": -23216,
    "start_time": "2021-12-05T14:01:14.342Z"
   },
   {
    "duration": -23219,
    "start_time": "2021-12-05T14:01:14.346Z"
   },
   {
    "duration": -23222,
    "start_time": "2021-12-05T14:01:14.350Z"
   },
   {
    "duration": -23227,
    "start_time": "2021-12-05T14:01:14.356Z"
   },
   {
    "duration": -23229,
    "start_time": "2021-12-05T14:01:14.359Z"
   },
   {
    "duration": -23232,
    "start_time": "2021-12-05T14:01:14.363Z"
   },
   {
    "duration": -23234,
    "start_time": "2021-12-05T14:01:14.366Z"
   },
   {
    "duration": -23239,
    "start_time": "2021-12-05T14:01:14.371Z"
   },
   {
    "duration": -23242,
    "start_time": "2021-12-05T14:01:14.375Z"
   },
   {
    "duration": -23246,
    "start_time": "2021-12-05T14:01:14.379Z"
   },
   {
    "duration": -23249,
    "start_time": "2021-12-05T14:01:14.383Z"
   },
   {
    "duration": -23253,
    "start_time": "2021-12-05T14:01:14.387Z"
   },
   {
    "duration": -23199,
    "start_time": "2021-12-05T14:01:14.391Z"
   },
   {
    "duration": -23215,
    "start_time": "2021-12-05T14:01:14.408Z"
   },
   {
    "duration": -23218,
    "start_time": "2021-12-05T14:01:14.412Z"
   },
   {
    "duration": -23221,
    "start_time": "2021-12-05T14:01:14.416Z"
   },
   {
    "duration": -23225,
    "start_time": "2021-12-05T14:01:14.421Z"
   },
   {
    "duration": -23229,
    "start_time": "2021-12-05T14:01:14.426Z"
   },
   {
    "duration": -23231,
    "start_time": "2021-12-05T14:01:14.429Z"
   },
   {
    "duration": -23233,
    "start_time": "2021-12-05T14:01:14.432Z"
   },
   {
    "duration": -23235,
    "start_time": "2021-12-05T14:01:14.436Z"
   },
   {
    "duration": -23239,
    "start_time": "2021-12-05T14:01:14.441Z"
   },
   {
    "duration": -23241,
    "start_time": "2021-12-05T14:01:14.444Z"
   },
   {
    "duration": 1577,
    "start_time": "2021-12-05T14:01:03.905Z"
   },
   {
    "duration": 37,
    "start_time": "2021-12-05T14:01:09.783Z"
   },
   {
    "duration": 36,
    "start_time": "2021-12-05T14:01:12.749Z"
   },
   {
    "duration": 26,
    "start_time": "2021-12-05T14:01:13.131Z"
   },
   {
    "duration": 14,
    "start_time": "2021-12-05T14:01:13.303Z"
   },
   {
    "duration": 9,
    "start_time": "2021-12-05T14:01:13.479Z"
   },
   {
    "duration": 12,
    "start_time": "2021-12-05T14:07:51.326Z"
   },
   {
    "duration": 13,
    "start_time": "2021-12-05T14:07:51.968Z"
   },
   {
    "duration": 13,
    "start_time": "2021-12-05T14:07:52.395Z"
   },
   {
    "duration": 9,
    "start_time": "2021-12-05T14:07:52.822Z"
   },
   {
    "duration": 19,
    "start_time": "2021-12-05T14:07:53.523Z"
   },
   {
    "duration": 7,
    "start_time": "2021-12-05T14:07:53.930Z"
   },
   {
    "duration": 10,
    "start_time": "2021-12-05T14:07:54.410Z"
   },
   {
    "duration": 9,
    "start_time": "2021-12-05T14:07:54.802Z"
   },
   {
    "duration": 9,
    "start_time": "2021-12-05T14:07:55.024Z"
   },
   {
    "duration": 9,
    "start_time": "2021-12-05T14:07:55.275Z"
   },
   {
    "duration": 8,
    "start_time": "2021-12-05T14:07:55.480Z"
   },
   {
    "duration": 8,
    "start_time": "2021-12-05T14:07:55.926Z"
   },
   {
    "duration": 12,
    "start_time": "2021-12-05T14:07:56.160Z"
   },
   {
    "duration": 17,
    "start_time": "2021-12-05T14:07:56.385Z"
   },
   {
    "duration": 14,
    "start_time": "2021-12-05T14:07:56.615Z"
   },
   {
    "duration": 6,
    "start_time": "2021-12-05T14:07:56.836Z"
   },
   {
    "duration": 15,
    "start_time": "2021-12-05T14:07:57.688Z"
   },
   {
    "duration": 6,
    "start_time": "2021-12-05T14:07:57.926Z"
   },
   {
    "duration": 15,
    "start_time": "2021-12-05T14:07:58.103Z"
   },
   {
    "duration": 6,
    "start_time": "2021-12-05T14:07:58.332Z"
   },
   {
    "duration": 5,
    "start_time": "2021-12-05T14:07:58.774Z"
   },
   {
    "duration": 9,
    "start_time": "2021-12-05T14:07:58.933Z"
   },
   {
    "duration": 5,
    "start_time": "2021-12-05T14:07:59.163Z"
   },
   {
    "duration": 9,
    "start_time": "2021-12-05T14:07:59.556Z"
   },
   {
    "duration": 7,
    "start_time": "2021-12-05T14:07:59.969Z"
   },
   {
    "duration": 20,
    "start_time": "2021-12-05T14:08:00.648Z"
   },
   {
    "duration": 5,
    "start_time": "2021-12-05T14:08:03.324Z"
   },
   {
    "duration": 11,
    "start_time": "2021-12-05T14:08:03.592Z"
   },
   {
    "duration": 6,
    "start_time": "2021-12-05T14:08:04.375Z"
   },
   {
    "duration": 15,
    "start_time": "2021-12-05T14:08:29.686Z"
   },
   {
    "duration": 13,
    "start_time": "2021-12-05T14:08:29.933Z"
   },
   {
    "duration": 491,
    "start_time": "2021-12-05T14:08:30.779Z"
   },
   {
    "duration": 12,
    "start_time": "2021-12-05T14:08:31.359Z"
   },
   {
    "duration": 13,
    "start_time": "2021-12-05T14:08:42.667Z"
   },
   {
    "duration": 11,
    "start_time": "2021-12-05T14:08:54.715Z"
   },
   {
    "duration": 11,
    "start_time": "2021-12-05T14:09:06.191Z"
   },
   {
    "duration": 12,
    "start_time": "2021-12-05T14:11:01.920Z"
   },
   {
    "duration": 25,
    "start_time": "2021-12-05T14:11:02.477Z"
   },
   {
    "duration": 1206,
    "start_time": "2021-12-05T14:11:02.828Z"
   },
   {
    "duration": 13,
    "start_time": "2021-12-05T14:11:05.266Z"
   },
   {
    "duration": 28,
    "start_time": "2021-12-05T14:11:06.531Z"
   },
   {
    "duration": 347,
    "start_time": "2021-12-05T14:11:06.735Z"
   },
   {
    "duration": 5,
    "start_time": "2021-12-05T14:11:14.433Z"
   },
   {
    "duration": 20,
    "start_time": "2021-12-05T14:11:14.625Z"
   },
   {
    "duration": 423,
    "start_time": "2021-12-05T14:11:14.815Z"
   },
   {
    "duration": 18,
    "start_time": "2021-12-05T14:13:44.250Z"
   },
   {
    "duration": 683,
    "start_time": "2021-12-05T14:13:44.467Z"
   },
   {
    "duration": 7,
    "start_time": "2021-12-05T14:15:12.066Z"
   },
   {
    "duration": 7,
    "start_time": "2021-12-05T14:15:16.549Z"
   },
   {
    "duration": 9,
    "start_time": "2021-12-05T14:15:35.041Z"
   },
   {
    "duration": 11,
    "start_time": "2021-12-05T14:15:45.951Z"
   },
   {
    "duration": 188,
    "start_time": "2021-12-05T14:16:24.445Z"
   },
   {
    "duration": 376,
    "start_time": "2021-12-05T14:16:24.803Z"
   },
   {
    "duration": 201,
    "start_time": "2021-12-05T14:16:41.318Z"
   },
   {
    "duration": 367,
    "start_time": "2021-12-05T14:16:41.650Z"
   },
   {
    "duration": 27,
    "start_time": "2021-12-05T14:16:42.808Z"
   },
   {
    "duration": 634,
    "start_time": "2021-12-05T14:16:43.673Z"
   },
   {
    "duration": 14,
    "start_time": "2021-12-05T14:16:48.125Z"
   },
   {
    "duration": 17,
    "start_time": "2021-12-05T14:16:48.327Z"
   },
   {
    "duration": 16,
    "start_time": "2021-12-05T14:16:48.943Z"
   },
   {
    "duration": 11,
    "start_time": "2021-12-05T14:16:50.302Z"
   },
   {
    "duration": 5,
    "start_time": "2021-12-05T14:33:40.409Z"
   },
   {
    "duration": 18,
    "start_time": "2021-12-05T14:33:40.785Z"
   },
   {
    "duration": 19,
    "start_time": "2021-12-05T14:33:55.030Z"
   },
   {
    "duration": 19,
    "start_time": "2021-12-05T14:33:55.604Z"
   },
   {
    "duration": 7,
    "start_time": "2021-12-05T14:33:57.647Z"
   },
   {
    "duration": 7,
    "start_time": "2021-12-05T14:33:58.832Z"
   },
   {
    "duration": 8,
    "start_time": "2021-12-05T14:34:01.055Z"
   },
   {
    "duration": 7,
    "start_time": "2021-12-05T14:34:01.766Z"
   },
   {
    "duration": 7,
    "start_time": "2021-12-05T14:34:02.833Z"
   },
   {
    "duration": 7,
    "start_time": "2021-12-05T14:34:03.718Z"
   },
   {
    "duration": 3,
    "start_time": "2021-12-05T14:34:05.166Z"
   },
   {
    "duration": 8,
    "start_time": "2021-12-05T14:37:22.518Z"
   },
   {
    "duration": 4,
    "start_time": "2021-12-05T14:37:22.705Z"
   },
   {
    "duration": 8,
    "start_time": "2021-12-05T14:37:23.725Z"
   },
   {
    "duration": 4,
    "start_time": "2021-12-05T14:37:23.924Z"
   },
   {
    "duration": 197,
    "start_time": "2021-12-05T17:11:41.513Z"
   },
   {
    "duration": 2218,
    "start_time": "2021-12-06T09:25:29.614Z"
   },
   {
    "duration": 1105,
    "start_time": "2021-12-06T09:25:31.834Z"
   },
   {
    "duration": 120,
    "start_time": "2021-12-06T09:25:32.943Z"
   },
   {
    "duration": 20,
    "start_time": "2021-12-06T09:25:33.065Z"
   },
   {
    "duration": 16,
    "start_time": "2021-12-06T09:25:33.087Z"
   },
   {
    "duration": 10,
    "start_time": "2021-12-06T09:25:33.104Z"
   },
   {
    "duration": 31,
    "start_time": "2021-12-06T09:25:33.116Z"
   },
   {
    "duration": 11,
    "start_time": "2021-12-06T09:25:33.149Z"
   },
   {
    "duration": 14,
    "start_time": "2021-12-06T09:25:33.161Z"
   },
   {
    "duration": 35,
    "start_time": "2021-12-06T09:25:33.176Z"
   },
   {
    "duration": 7,
    "start_time": "2021-12-06T09:25:33.213Z"
   },
   {
    "duration": 20,
    "start_time": "2021-12-06T09:25:33.222Z"
   },
   {
    "duration": 6,
    "start_time": "2021-12-06T09:25:33.244Z"
   },
   {
    "duration": 11,
    "start_time": "2021-12-06T09:25:33.252Z"
   },
   {
    "duration": 8,
    "start_time": "2021-12-06T09:25:33.265Z"
   },
   {
    "duration": 38,
    "start_time": "2021-12-06T09:25:33.275Z"
   },
   {
    "duration": 10,
    "start_time": "2021-12-06T09:25:33.314Z"
   },
   {
    "duration": 11,
    "start_time": "2021-12-06T09:25:33.325Z"
   },
   {
    "duration": 9,
    "start_time": "2021-12-06T09:25:33.337Z"
   },
   {
    "duration": 14,
    "start_time": "2021-12-06T09:25:33.348Z"
   },
   {
    "duration": 45,
    "start_time": "2021-12-06T09:25:33.363Z"
   },
   {
    "duration": 14,
    "start_time": "2021-12-06T09:25:33.412Z"
   },
   {
    "duration": 13,
    "start_time": "2021-12-06T09:25:33.429Z"
   },
   {
    "duration": 17,
    "start_time": "2021-12-06T09:25:33.444Z"
   },
   {
    "duration": 9,
    "start_time": "2021-12-06T09:25:33.463Z"
   },
   {
    "duration": 36,
    "start_time": "2021-12-06T09:25:33.474Z"
   },
   {
    "duration": 6,
    "start_time": "2021-12-06T09:25:33.512Z"
   },
   {
    "duration": 10,
    "start_time": "2021-12-06T09:25:33.519Z"
   },
   {
    "duration": 11,
    "start_time": "2021-12-06T09:25:33.531Z"
   },
   {
    "duration": 7,
    "start_time": "2021-12-06T09:25:33.543Z"
   },
   {
    "duration": 9,
    "start_time": "2021-12-06T09:25:33.552Z"
   },
   {
    "duration": 5,
    "start_time": "2021-12-06T09:25:33.563Z"
   },
   {
    "duration": 49,
    "start_time": "2021-12-06T09:25:33.569Z"
   },
   {
    "duration": 4,
    "start_time": "2021-12-06T09:25:33.620Z"
   },
   {
    "duration": 12,
    "start_time": "2021-12-06T09:25:33.625Z"
   },
   {
    "duration": 8,
    "start_time": "2021-12-06T09:25:33.639Z"
   },
   {
    "duration": 12,
    "start_time": "2021-12-06T09:25:33.649Z"
   },
   {
    "duration": 13,
    "start_time": "2021-12-06T09:25:33.662Z"
   },
   {
    "duration": 491,
    "start_time": "2021-12-06T09:25:33.677Z"
   },
   {
    "duration": 11,
    "start_time": "2021-12-06T09:25:34.170Z"
   },
   {
    "duration": 28,
    "start_time": "2021-12-06T09:25:34.183Z"
   },
   {
    "duration": 24,
    "start_time": "2021-12-06T09:25:34.212Z"
   },
   {
    "duration": 1178,
    "start_time": "2021-12-06T09:25:34.237Z"
   },
   {
    "duration": 12,
    "start_time": "2021-12-06T09:25:35.417Z"
   },
   {
    "duration": 29,
    "start_time": "2021-12-06T09:25:35.431Z"
   },
   {
    "duration": 365,
    "start_time": "2021-12-06T09:25:35.462Z"
   },
   {
    "duration": 6,
    "start_time": "2021-12-06T09:25:35.828Z"
   },
   {
    "duration": 93,
    "start_time": "2021-12-06T09:25:35.835Z"
   },
   {
    "duration": 438,
    "start_time": "2021-12-06T09:25:35.930Z"
   },
   {
    "duration": 21,
    "start_time": "2021-12-06T09:25:36.370Z"
   },
   {
    "duration": 675,
    "start_time": "2021-12-06T09:25:36.393Z"
   },
   {
    "duration": 258,
    "start_time": "2021-12-06T09:25:37.071Z"
   },
   {
    "duration": 379,
    "start_time": "2021-12-06T09:25:37.331Z"
   },
   {
    "duration": 245,
    "start_time": "2021-12-06T09:25:37.712Z"
   },
   {
    "duration": 386,
    "start_time": "2021-12-06T09:25:37.958Z"
   },
   {
    "duration": 30,
    "start_time": "2021-12-06T09:25:38.345Z"
   },
   {
    "duration": 587,
    "start_time": "2021-12-06T09:25:38.377Z"
   },
   {
    "duration": 13,
    "start_time": "2021-12-06T09:25:38.966Z"
   },
   {
    "duration": 33,
    "start_time": "2021-12-06T09:25:38.980Z"
   },
   {
    "duration": 16,
    "start_time": "2021-12-06T09:25:39.015Z"
   },
   {
    "duration": 13,
    "start_time": "2021-12-06T09:25:39.032Z"
   },
   {
    "duration": 6,
    "start_time": "2021-12-06T09:25:39.046Z"
   },
   {
    "duration": 21,
    "start_time": "2021-12-06T09:25:39.054Z"
   },
   {
    "duration": 207,
    "start_time": "2021-12-06T09:25:39.106Z"
   },
   {
    "duration": 21,
    "start_time": "2021-12-06T09:25:39.315Z"
   },
   {
    "duration": 215,
    "start_time": "2021-12-06T09:25:39.338Z"
   },
   {
    "duration": 21,
    "start_time": "2021-12-06T09:25:39.558Z"
   },
   {
    "duration": 295,
    "start_time": "2021-12-06T09:25:39.581Z"
   },
   {
    "duration": 7,
    "start_time": "2021-12-06T09:25:39.878Z"
   },
   {
    "duration": 21,
    "start_time": "2021-12-06T09:25:39.887Z"
   },
   {
    "duration": 6,
    "start_time": "2021-12-06T09:25:39.910Z"
   },
   {
    "duration": 7,
    "start_time": "2021-12-06T09:25:39.918Z"
   },
   {
    "duration": 8,
    "start_time": "2021-12-06T09:25:39.927Z"
   },
   {
    "duration": 8,
    "start_time": "2021-12-06T09:25:39.937Z"
   },
   {
    "duration": 4,
    "start_time": "2021-12-06T09:25:39.947Z"
   },
   {
    "duration": 9,
    "start_time": "2021-12-06T09:25:39.953Z"
   },
   {
    "duration": 4,
    "start_time": "2021-12-06T09:25:39.964Z"
   },
   {
    "duration": 44,
    "start_time": "2021-12-06T09:25:39.970Z"
   },
   {
    "duration": 4,
    "start_time": "2021-12-06T09:25:40.017Z"
   },
   {
    "duration": 10,
    "start_time": "2021-12-06T09:25:40.023Z"
   }
  ],
  "kernelspec": {
   "display_name": "Python 3 (ipykernel)",
   "language": "python",
   "name": "python3"
  },
  "language_info": {
   "codemirror_mode": {
    "name": "ipython",
    "version": 3
   },
   "file_extension": ".py",
   "mimetype": "text/x-python",
   "name": "python",
   "nbconvert_exporter": "python",
   "pygments_lexer": "ipython3",
   "version": "3.9.5"
  },
  "notebookId": "3e747f9e-b761-4cdd-a9a6-a13548cd3f93",
  "notebookPath": "version3.ipynb",
  "toc": {
   "base_numbering": 1,
   "nav_menu": {},
   "number_sections": true,
   "sideBar": true,
   "skip_h1_title": true,
   "title_cell": "Table of Contents",
   "title_sidebar": "Contents",
   "toc_cell": false,
   "toc_position": {},
   "toc_section_display": true,
   "toc_window_display": false
  }
 },
 "nbformat": 4,
 "nbformat_minor": 4
}
