{
 "cells": [
  {
   "cell_type": "markdown",
   "metadata": {
    "toc": true
   },
   "source": [
    "<h1>Содержание<span class=\"tocSkip\"></span></h1>\n",
    "<div class=\"toc\"><ul class=\"toc-item\"><li><span><a href=\"#Введение\" data-toc-modified-id=\"Введение-1\"><span class=\"toc-item-num\">1&nbsp;&nbsp;</span>Введение</a></span></li><li><span><a href=\"#Первая-часть\" data-toc-modified-id=\"Первая-часть-2\"><span class=\"toc-item-num\">2&nbsp;&nbsp;</span>Первая часть</a></span><ul class=\"toc-item\"><li><span><a href=\"#Описание-данных:\" data-toc-modified-id=\"Описание-данных:-2.1\"><span class=\"toc-item-num\">2.1&nbsp;&nbsp;</span>Описание данных:</a></span></li><li><span><a href=\"#Применение-фреймворк-ICE-для-приоритизации-гипотез\" data-toc-modified-id=\"Применение-фреймворк-ICE-для-приоритизации-гипотез-2.2\"><span class=\"toc-item-num\">2.2&nbsp;&nbsp;</span>Применение фреймворк ICE для приоритизации гипотез</a></span></li><li><span><a href=\"#Применение-фреймворк-RICE-для-приоритизации-гипотез\" data-toc-modified-id=\"Применение-фреймворк-RICE-для-приоритизации-гипотез-2.3\"><span class=\"toc-item-num\">2.3&nbsp;&nbsp;</span>Применение фреймворк RICE для приоритизации гипотез</a></span></li><li><span><a href=\"#Вывод-по-первой-части\" data-toc-modified-id=\"Вывод-по-первой-части-2.4\"><span class=\"toc-item-num\">2.4&nbsp;&nbsp;</span>Вывод по первой части</a></span></li></ul></li><li><span><a href=\"#Вторая-часть\" data-toc-modified-id=\"Вторая-часть-3\"><span class=\"toc-item-num\">3&nbsp;&nbsp;</span>Вторая часть</a></span><ul class=\"toc-item\"><li><span><a href=\"#Вывод-и-предположение-по-кумулятивной-выручки\" data-toc-modified-id=\"Вывод-и-предположение-по-кумулятивной-выручки-3.1\"><span class=\"toc-item-num\">3.1&nbsp;&nbsp;</span>Вывод и предположение по кумулятивной выручки</a></span></li><li><span><a href=\"#Вывод-и-предположение-по-кумулятивному-среднему-чеку\" data-toc-modified-id=\"Вывод-и-предположение-по-кумулятивному-среднему-чеку-3.2\"><span class=\"toc-item-num\">3.2&nbsp;&nbsp;</span>Вывод и предположение по кумулятивному среднему чеку</a></span></li><li><span><a href=\"#Вывод-и-предположение-по-графику-относительного-изменения-кумулятивного-среднего-чека-группы-B-к-группе-A\" data-toc-modified-id=\"Вывод-и-предположение-по-графику-относительного-изменения-кумулятивного-среднего-чека-группы-B-к-группе-A-3.3\"><span class=\"toc-item-num\">3.3&nbsp;&nbsp;</span>Вывод и предположение по графику относительного изменения кумулятивного среднего чека группы B к группе A</a></span></li><li><span><a href=\"#Вывод-и-предположение-по-графику-кумулятивной-конверсии-по-группам\" data-toc-modified-id=\"Вывод-и-предположение-по-графику-кумулятивной-конверсии-по-группам-3.4\"><span class=\"toc-item-num\">3.4&nbsp;&nbsp;</span>Вывод и предположение по графику кумулятивной конверсии по группам</a></span></li><li><span><a href=\"#Вывод-и-предположение-по-графику-относительного-изменения-кумулятивной-конверсии-группы-B-к-группе-A\" data-toc-modified-id=\"Вывод-и-предположение-по-графику-относительного-изменения-кумулятивной-конверсии-группы-B-к-группе-A-3.5\"><span class=\"toc-item-num\">3.5&nbsp;&nbsp;</span>Вывод и предположение по графику относительного изменения кумулятивной конверсии группы B к группе A</a></span></li><li><span><a href=\"#Вывод-и-предположение-по-Точечному-графику-количества-заказов-по-пользователям\" data-toc-modified-id=\"Вывод-и-предположение-по-Точечному-графику-количества-заказов-по-пользователям-3.6\"><span class=\"toc-item-num\">3.6&nbsp;&nbsp;</span>Вывод и предположение по Точечному графику количества заказов по пользователям</a></span></li><li><span><a href=\"#Вывод-границы-по-кол-ву-заказов-на-пользователя\" data-toc-modified-id=\"Вывод-границы-по-кол-ву-заказов-на-пользователя-3.7\"><span class=\"toc-item-num\">3.7&nbsp;&nbsp;</span>Вывод границы по кол-ву заказов на пользователя</a></span></li><li><span><a href=\"#Вывод-и-предположение-по-Точечному-графику-стоимости-заказов-по-пользователям\" data-toc-modified-id=\"Вывод-и-предположение-по-Точечному-графику-стоимости-заказов-по-пользователям-3.8\"><span class=\"toc-item-num\">3.8&nbsp;&nbsp;</span>Вывод и предположение по Точечному графику стоимости заказов по пользователям</a></span></li><li><span><a href=\"#Вывод-границы-по-кол-ву-заказов-на-пользователя\" data-toc-modified-id=\"Вывод-границы-по-кол-ву-заказов-на-пользователя-3.9\"><span class=\"toc-item-num\">3.9&nbsp;&nbsp;</span>Вывод границы по кол-ву заказов на пользователя</a></span></li><li><span><a href=\"#Вывод-по-статистической-значимости-различий-в-конверсии-между-группами-по-«сырым»-данным.\" data-toc-modified-id=\"Вывод-по-статистической-значимости-различий-в-конверсии-между-группами-по-«сырым»-данным.-3.10\"><span class=\"toc-item-num\">3.10&nbsp;&nbsp;</span>Вывод по статистической значимости различий в конверсии между группами по «сырым» данным.</a></span></li><li><span><a href=\"#Вывод-по-статистической-значимости-различий-в-среднем-чеке-между-группами-по-«сырым»-данным.\" data-toc-modified-id=\"Вывод-по-статистической-значимости-различий-в-среднем-чеке-между-группами-по-«сырым»-данным.-3.11\"><span class=\"toc-item-num\">3.11&nbsp;&nbsp;</span>Вывод по статистической значимости различий в среднем чеке между группами по «сырым» данным.</a></span></li><li><span><a href=\"#Вывод-по-статистической-значимости-различий-в-конверсии-между-группами-по-«очищенным»-данным.\" data-toc-modified-id=\"Вывод-по-статистической-значимости-различий-в-конверсии-между-группами-по-«очищенным»-данным.-3.12\"><span class=\"toc-item-num\">3.12&nbsp;&nbsp;</span>Вывод по статистической значимости различий в конверсии между группами по «очищенным» данным.</a></span></li><li><span><a href=\"#Вывод-по-статистической-значимости-различий-в-среднем-чеке-между-группами-по-«очищенным»-данным.\" data-toc-modified-id=\"Вывод-по-статистической-значимости-различий-в-среднем-чеке-между-группами-по-«очищенным»-данным.-3.13\"><span class=\"toc-item-num\">3.13&nbsp;&nbsp;</span>Вывод по статистической значимости различий в среднем чеке между группами по «очищенным» данным.</a></span></li></ul></li><li><span><a href=\"#Общий-вывод\" data-toc-modified-id=\"Общий-вывод-4\"><span class=\"toc-item-num\">4&nbsp;&nbsp;</span>Общий вывод</a></span></li></ul></div>"
   ]
  },
  {
   "cell_type": "markdown",
   "metadata": {},
   "source": [
    "##  Введение\n",
    "Мы — аналитик крупного интернет-магазина. Вместе с отделом маркетинга мы подготовили список гипотез для увеличения выручки.\n",
    "Задача: Приоритизировать гипотезы, запустить A/B-тест и проанализировать результаты."
   ]
  },
  {
   "cell_type": "markdown",
   "metadata": {},
   "source": [
    "## Первая часть"
   ]
  },
  {
   "cell_type": "markdown",
   "metadata": {},
   "source": [
    "### Описание данных:  \n",
    "Путь Файла —  /datasets/hypothesis.csv;    \n",
    "Hypothesis — краткое описание гипотезы;  \n",
    "Reach — охват пользователей по 10-балльной шкале;  \n",
    "Impact — влияние на пользователей по 10-балльной шкале;  \n",
    "Confidence — уверенность в гипотезе по 10-балльной шкале;  \n",
    "Efforts — затраты ресурсов на проверку гипотезы по 10-балльной шкале. Чем больше значение Efforts, тем дороже проверка гипотезы."
   ]
  },
  {
   "cell_type": "code",
   "execution_count": 1,
   "metadata": {},
   "outputs": [],
   "source": [
    "#Загружаем полезные стандартные библиотеки\n",
    "import pandas as pd \n",
    "## from pymystem3 import Mystem\n",
    "## m = Mystem() \n",
    "from datetime import datetime, timedelta\n",
    "import numpy as np\n",
    "import seaborn as sns\n",
    "pd.set_option('display.max_columns', None)\n",
    "from scipy import stats as st\n",
    "import numpy as np\n",
    "import matplotlib.pyplot as plt\n",
    "import scipy.stats as stats\n",
    "import os # для проверки правильности загрузки данных\n",
    "import matplotlib.ticker as ticker # библ. для тиков на осях"
   ]
  },
  {
   "cell_type": "code",
   "execution_count": 2,
   "metadata": {},
   "outputs": [],
   "source": [
    "pd.set_option(\"max_colwidth\", 200) # Увеличиваем ширину столбца"
   ]
  },
  {
   "cell_type": "code",
   "execution_count": 3,
   "metadata": {},
   "outputs": [],
   "source": [
    "pth1 = '/datasets/hypothesis.csv'\n",
    "\n",
    "if os.path.exists(pth1) :\n",
    "    hyp = pd.read_csv(pth1) \n",
    "else:\n",
    "    print('Ничего не получилось =(')"
   ]
  },
  {
   "cell_type": "code",
   "execution_count": 4,
   "metadata": {
    "scrolled": true
   },
   "outputs": [
    {
     "data": {
      "text/html": [
       "<div>\n",
       "<style scoped>\n",
       "    .dataframe tbody tr th:only-of-type {\n",
       "        vertical-align: middle;\n",
       "    }\n",
       "\n",
       "    .dataframe tbody tr th {\n",
       "        vertical-align: top;\n",
       "    }\n",
       "\n",
       "    .dataframe thead th {\n",
       "        text-align: right;\n",
       "    }\n",
       "</style>\n",
       "<table border=\"1\" class=\"dataframe\">\n",
       "  <thead>\n",
       "    <tr style=\"text-align: right;\">\n",
       "      <th></th>\n",
       "      <th>Hypothesis</th>\n",
       "      <th>Reach</th>\n",
       "      <th>Impact</th>\n",
       "      <th>Confidence</th>\n",
       "      <th>Efforts</th>\n",
       "    </tr>\n",
       "  </thead>\n",
       "  <tbody>\n",
       "    <tr>\n",
       "      <th>0</th>\n",
       "      <td>Добавить два новых канала привлечения трафика, что позволит привлекать на 30% больше пользователей</td>\n",
       "      <td>3</td>\n",
       "      <td>10</td>\n",
       "      <td>8</td>\n",
       "      <td>6</td>\n",
       "    </tr>\n",
       "    <tr>\n",
       "      <th>1</th>\n",
       "      <td>Запустить собственную службу доставки, что сократит срок доставки заказов</td>\n",
       "      <td>2</td>\n",
       "      <td>5</td>\n",
       "      <td>4</td>\n",
       "      <td>10</td>\n",
       "    </tr>\n",
       "    <tr>\n",
       "      <th>2</th>\n",
       "      <td>Добавить блоки рекомендаций товаров на сайт интернет магазина, чтобы повысить конверсию и средний чек заказа</td>\n",
       "      <td>8</td>\n",
       "      <td>3</td>\n",
       "      <td>7</td>\n",
       "      <td>3</td>\n",
       "    </tr>\n",
       "    <tr>\n",
       "      <th>3</th>\n",
       "      <td>Изменить структура категорий, что увеличит конверсию, т.к. пользователи быстрее найдут нужный товар</td>\n",
       "      <td>8</td>\n",
       "      <td>3</td>\n",
       "      <td>3</td>\n",
       "      <td>8</td>\n",
       "    </tr>\n",
       "    <tr>\n",
       "      <th>4</th>\n",
       "      <td>Изменить цвет фона главной страницы, чтобы увеличить вовлеченность пользователей</td>\n",
       "      <td>3</td>\n",
       "      <td>1</td>\n",
       "      <td>1</td>\n",
       "      <td>1</td>\n",
       "    </tr>\n",
       "    <tr>\n",
       "      <th>5</th>\n",
       "      <td>Добавить страницу отзывов клиентов о магазине, что позволит увеличить количество заказов</td>\n",
       "      <td>3</td>\n",
       "      <td>2</td>\n",
       "      <td>2</td>\n",
       "      <td>3</td>\n",
       "    </tr>\n",
       "    <tr>\n",
       "      <th>6</th>\n",
       "      <td>Показать на главной странице баннеры с актуальными акциями и распродажами, чтобы увеличить конверсию</td>\n",
       "      <td>5</td>\n",
       "      <td>3</td>\n",
       "      <td>8</td>\n",
       "      <td>3</td>\n",
       "    </tr>\n",
       "    <tr>\n",
       "      <th>7</th>\n",
       "      <td>Добавить форму подписки на все основные страницы, чтобы собрать базу клиентов для email-рассылок</td>\n",
       "      <td>10</td>\n",
       "      <td>7</td>\n",
       "      <td>8</td>\n",
       "      <td>5</td>\n",
       "    </tr>\n",
       "    <tr>\n",
       "      <th>8</th>\n",
       "      <td>Запустить акцию, дающую скидку на товар в день рождения</td>\n",
       "      <td>1</td>\n",
       "      <td>9</td>\n",
       "      <td>9</td>\n",
       "      <td>5</td>\n",
       "    </tr>\n",
       "  </tbody>\n",
       "</table>\n",
       "</div>"
      ],
      "text/plain": [
       "                                                                                                     Hypothesis  \\\n",
       "0            Добавить два новых канала привлечения трафика, что позволит привлекать на 30% больше пользователей   \n",
       "1                                     Запустить собственную службу доставки, что сократит срок доставки заказов   \n",
       "2  Добавить блоки рекомендаций товаров на сайт интернет магазина, чтобы повысить конверсию и средний чек заказа   \n",
       "3           Изменить структура категорий, что увеличит конверсию, т.к. пользователи быстрее найдут нужный товар   \n",
       "4                              Изменить цвет фона главной страницы, чтобы увеличить вовлеченность пользователей   \n",
       "5                      Добавить страницу отзывов клиентов о магазине, что позволит увеличить количество заказов   \n",
       "6          Показать на главной странице баннеры с актуальными акциями и распродажами, чтобы увеличить конверсию   \n",
       "7              Добавить форму подписки на все основные страницы, чтобы собрать базу клиентов для email-рассылок   \n",
       "8                                                       Запустить акцию, дающую скидку на товар в день рождения   \n",
       "\n",
       "   Reach  Impact  Confidence  Efforts  \n",
       "0      3      10           8        6  \n",
       "1      2       5           4       10  \n",
       "2      8       3           7        3  \n",
       "3      8       3           3        8  \n",
       "4      3       1           1        1  \n",
       "5      3       2           2        3  \n",
       "6      5       3           8        3  \n",
       "7     10       7           8        5  \n",
       "8      1       9           9        5  "
      ]
     },
     "execution_count": 4,
     "metadata": {},
     "output_type": "execute_result"
    }
   ],
   "source": [
    "hyp"
   ]
  },
  {
   "cell_type": "code",
   "execution_count": 5,
   "metadata": {},
   "outputs": [
    {
     "data": {
      "text/plain": [
       "Index(['hypothesis', 'reach', 'impact', 'confidence', 'efforts'], dtype='object')"
      ]
     },
     "execution_count": 5,
     "metadata": {},
     "output_type": "execute_result"
    }
   ],
   "source": [
    "hyp.columns = hyp.columns.str.lower() # переведем все в змеиный регистр\n",
    "hyp.columns # Проверяем"
   ]
  },
  {
   "cell_type": "markdown",
   "metadata": {},
   "source": [
    "### Применение фреймворк ICE для приоритизации гипотез"
   ]
  },
  {
   "cell_type": "markdown",
   "metadata": {},
   "source": [
    "$$ICE = \\frac{Impact * Confidence}{Efforts}$$"
   ]
  },
  {
   "cell_type": "code",
   "execution_count": 6,
   "metadata": {},
   "outputs": [],
   "source": [
    "hyp['ICE'] = (hyp.impact * hyp.confidence / hyp.efforts).round(1)"
   ]
  },
  {
   "cell_type": "code",
   "execution_count": 7,
   "metadata": {},
   "outputs": [
    {
     "data": {
      "text/html": [
       "<div>\n",
       "<style scoped>\n",
       "    .dataframe tbody tr th:only-of-type {\n",
       "        vertical-align: middle;\n",
       "    }\n",
       "\n",
       "    .dataframe tbody tr th {\n",
       "        vertical-align: top;\n",
       "    }\n",
       "\n",
       "    .dataframe thead th {\n",
       "        text-align: right;\n",
       "    }\n",
       "</style>\n",
       "<table border=\"1\" class=\"dataframe\">\n",
       "  <thead>\n",
       "    <tr style=\"text-align: right;\">\n",
       "      <th></th>\n",
       "      <th>hypothesis</th>\n",
       "      <th>ICE</th>\n",
       "    </tr>\n",
       "  </thead>\n",
       "  <tbody>\n",
       "    <tr>\n",
       "      <th>8</th>\n",
       "      <td>Запустить акцию, дающую скидку на товар в день рождения</td>\n",
       "      <td>16.2</td>\n",
       "    </tr>\n",
       "    <tr>\n",
       "      <th>0</th>\n",
       "      <td>Добавить два новых канала привлечения трафика, что позволит привлекать на 30% больше пользователей</td>\n",
       "      <td>13.3</td>\n",
       "    </tr>\n",
       "    <tr>\n",
       "      <th>7</th>\n",
       "      <td>Добавить форму подписки на все основные страницы, чтобы собрать базу клиентов для email-рассылок</td>\n",
       "      <td>11.2</td>\n",
       "    </tr>\n",
       "    <tr>\n",
       "      <th>6</th>\n",
       "      <td>Показать на главной странице баннеры с актуальными акциями и распродажами, чтобы увеличить конверсию</td>\n",
       "      <td>8.0</td>\n",
       "    </tr>\n",
       "    <tr>\n",
       "      <th>2</th>\n",
       "      <td>Добавить блоки рекомендаций товаров на сайт интернет магазина, чтобы повысить конверсию и средний чек заказа</td>\n",
       "      <td>7.0</td>\n",
       "    </tr>\n",
       "    <tr>\n",
       "      <th>1</th>\n",
       "      <td>Запустить собственную службу доставки, что сократит срок доставки заказов</td>\n",
       "      <td>2.0</td>\n",
       "    </tr>\n",
       "    <tr>\n",
       "      <th>5</th>\n",
       "      <td>Добавить страницу отзывов клиентов о магазине, что позволит увеличить количество заказов</td>\n",
       "      <td>1.3</td>\n",
       "    </tr>\n",
       "    <tr>\n",
       "      <th>3</th>\n",
       "      <td>Изменить структура категорий, что увеличит конверсию, т.к. пользователи быстрее найдут нужный товар</td>\n",
       "      <td>1.1</td>\n",
       "    </tr>\n",
       "    <tr>\n",
       "      <th>4</th>\n",
       "      <td>Изменить цвет фона главной страницы, чтобы увеличить вовлеченность пользователей</td>\n",
       "      <td>1.0</td>\n",
       "    </tr>\n",
       "  </tbody>\n",
       "</table>\n",
       "</div>"
      ],
      "text/plain": [
       "                                                                                                     hypothesis  \\\n",
       "8                                                       Запустить акцию, дающую скидку на товар в день рождения   \n",
       "0            Добавить два новых канала привлечения трафика, что позволит привлекать на 30% больше пользователей   \n",
       "7              Добавить форму подписки на все основные страницы, чтобы собрать базу клиентов для email-рассылок   \n",
       "6          Показать на главной странице баннеры с актуальными акциями и распродажами, чтобы увеличить конверсию   \n",
       "2  Добавить блоки рекомендаций товаров на сайт интернет магазина, чтобы повысить конверсию и средний чек заказа   \n",
       "1                                     Запустить собственную службу доставки, что сократит срок доставки заказов   \n",
       "5                      Добавить страницу отзывов клиентов о магазине, что позволит увеличить количество заказов   \n",
       "3           Изменить структура категорий, что увеличит конверсию, т.к. пользователи быстрее найдут нужный товар   \n",
       "4                              Изменить цвет фона главной страницы, чтобы увеличить вовлеченность пользователей   \n",
       "\n",
       "    ICE  \n",
       "8  16.2  \n",
       "0  13.3  \n",
       "7  11.2  \n",
       "6   8.0  \n",
       "2   7.0  \n",
       "1   2.0  \n",
       "5   1.3  \n",
       "3   1.1  \n",
       "4   1.0  "
      ]
     },
     "execution_count": 7,
     "metadata": {},
     "output_type": "execute_result"
    }
   ],
   "source": [
    "hyp[['hypothesis' , 'ICE']].sort_values(by='ICE', ascending=False)"
   ]
  },
  {
   "cell_type": "markdown",
   "metadata": {},
   "source": [
    "Лидируют гипотезы 8,0,7. Посмотрим, как изменится этот список после того, как мы посчитаем RICE."
   ]
  },
  {
   "cell_type": "markdown",
   "metadata": {},
   "source": [
    "### Применение фреймворк RICE для приоритизации гипотез"
   ]
  },
  {
   "cell_type": "markdown",
   "metadata": {},
   "source": [
    "$$RICE = \\frac{Rearch * Impact * Confidence}{Efforts}$$"
   ]
  },
  {
   "cell_type": "code",
   "execution_count": 8,
   "metadata": {
    "scrolled": true
   },
   "outputs": [
    {
     "data": {
      "text/html": [
       "<div>\n",
       "<style scoped>\n",
       "    .dataframe tbody tr th:only-of-type {\n",
       "        vertical-align: middle;\n",
       "    }\n",
       "\n",
       "    .dataframe tbody tr th {\n",
       "        vertical-align: top;\n",
       "    }\n",
       "\n",
       "    .dataframe thead th {\n",
       "        text-align: right;\n",
       "    }\n",
       "</style>\n",
       "<table border=\"1\" class=\"dataframe\">\n",
       "  <thead>\n",
       "    <tr style=\"text-align: right;\">\n",
       "      <th></th>\n",
       "      <th>hypothesis</th>\n",
       "      <th>RICE</th>\n",
       "    </tr>\n",
       "  </thead>\n",
       "  <tbody>\n",
       "    <tr>\n",
       "      <th>7</th>\n",
       "      <td>Добавить форму подписки на все основные страницы, чтобы собрать базу клиентов для email-рассылок</td>\n",
       "      <td>112.0</td>\n",
       "    </tr>\n",
       "    <tr>\n",
       "      <th>2</th>\n",
       "      <td>Добавить блоки рекомендаций товаров на сайт интернет магазина, чтобы повысить конверсию и средний чек заказа</td>\n",
       "      <td>56.0</td>\n",
       "    </tr>\n",
       "    <tr>\n",
       "      <th>0</th>\n",
       "      <td>Добавить два новых канала привлечения трафика, что позволит привлекать на 30% больше пользователей</td>\n",
       "      <td>40.0</td>\n",
       "    </tr>\n",
       "    <tr>\n",
       "      <th>6</th>\n",
       "      <td>Показать на главной странице баннеры с актуальными акциями и распродажами, чтобы увеличить конверсию</td>\n",
       "      <td>40.0</td>\n",
       "    </tr>\n",
       "    <tr>\n",
       "      <th>8</th>\n",
       "      <td>Запустить акцию, дающую скидку на товар в день рождения</td>\n",
       "      <td>16.2</td>\n",
       "    </tr>\n",
       "    <tr>\n",
       "      <th>3</th>\n",
       "      <td>Изменить структура категорий, что увеличит конверсию, т.к. пользователи быстрее найдут нужный товар</td>\n",
       "      <td>9.0</td>\n",
       "    </tr>\n",
       "    <tr>\n",
       "      <th>1</th>\n",
       "      <td>Запустить собственную службу доставки, что сократит срок доставки заказов</td>\n",
       "      <td>4.0</td>\n",
       "    </tr>\n",
       "    <tr>\n",
       "      <th>5</th>\n",
       "      <td>Добавить страницу отзывов клиентов о магазине, что позволит увеличить количество заказов</td>\n",
       "      <td>4.0</td>\n",
       "    </tr>\n",
       "    <tr>\n",
       "      <th>4</th>\n",
       "      <td>Изменить цвет фона главной страницы, чтобы увеличить вовлеченность пользователей</td>\n",
       "      <td>3.0</td>\n",
       "    </tr>\n",
       "  </tbody>\n",
       "</table>\n",
       "</div>"
      ],
      "text/plain": [
       "                                                                                                     hypothesis  \\\n",
       "7              Добавить форму подписки на все основные страницы, чтобы собрать базу клиентов для email-рассылок   \n",
       "2  Добавить блоки рекомендаций товаров на сайт интернет магазина, чтобы повысить конверсию и средний чек заказа   \n",
       "0            Добавить два новых канала привлечения трафика, что позволит привлекать на 30% больше пользователей   \n",
       "6          Показать на главной странице баннеры с актуальными акциями и распродажами, чтобы увеличить конверсию   \n",
       "8                                                       Запустить акцию, дающую скидку на товар в день рождения   \n",
       "3           Изменить структура категорий, что увеличит конверсию, т.к. пользователи быстрее найдут нужный товар   \n",
       "1                                     Запустить собственную службу доставки, что сократит срок доставки заказов   \n",
       "5                      Добавить страницу отзывов клиентов о магазине, что позволит увеличить количество заказов   \n",
       "4                              Изменить цвет фона главной страницы, чтобы увеличить вовлеченность пользователей   \n",
       "\n",
       "    RICE  \n",
       "7  112.0  \n",
       "2   56.0  \n",
       "0   40.0  \n",
       "6   40.0  \n",
       "8   16.2  \n",
       "3    9.0  \n",
       "1    4.0  \n",
       "5    4.0  \n",
       "4    3.0  "
      ]
     },
     "execution_count": 8,
     "metadata": {},
     "output_type": "execute_result"
    }
   ],
   "source": [
    "hyp['RICE'] = (hyp.reach*hyp.impact * hyp.confidence / hyp.efforts).round(1)\n",
    "hyp[['hypothesis' , 'RICE']].sort_values(by='RICE', ascending=False)"
   ]
  },
  {
   "cell_type": "code",
   "execution_count": 9,
   "metadata": {},
   "outputs": [
    {
     "data": {
      "text/html": [
       "<div>\n",
       "<style scoped>\n",
       "    .dataframe tbody tr th:only-of-type {\n",
       "        vertical-align: middle;\n",
       "    }\n",
       "\n",
       "    .dataframe tbody tr th {\n",
       "        vertical-align: top;\n",
       "    }\n",
       "\n",
       "    .dataframe thead th {\n",
       "        text-align: right;\n",
       "    }\n",
       "</style>\n",
       "<table border=\"1\" class=\"dataframe\">\n",
       "  <thead>\n",
       "    <tr style=\"text-align: right;\">\n",
       "      <th></th>\n",
       "      <th>hypothesis</th>\n",
       "      <th>reach</th>\n",
       "      <th>impact</th>\n",
       "      <th>confidence</th>\n",
       "      <th>efforts</th>\n",
       "      <th>ICE</th>\n",
       "      <th>RICE</th>\n",
       "    </tr>\n",
       "  </thead>\n",
       "  <tbody>\n",
       "    <tr>\n",
       "      <th>0</th>\n",
       "      <td>Добавить два новых канала привлечения трафика, что позволит привлекать на 30% больше пользователей</td>\n",
       "      <td>3</td>\n",
       "      <td>10</td>\n",
       "      <td>8</td>\n",
       "      <td>6</td>\n",
       "      <td>13.3</td>\n",
       "      <td>40.0</td>\n",
       "    </tr>\n",
       "    <tr>\n",
       "      <th>1</th>\n",
       "      <td>Запустить собственную службу доставки, что сократит срок доставки заказов</td>\n",
       "      <td>2</td>\n",
       "      <td>5</td>\n",
       "      <td>4</td>\n",
       "      <td>10</td>\n",
       "      <td>2.0</td>\n",
       "      <td>4.0</td>\n",
       "    </tr>\n",
       "    <tr>\n",
       "      <th>2</th>\n",
       "      <td>Добавить блоки рекомендаций товаров на сайт интернет магазина, чтобы повысить конверсию и средний чек заказа</td>\n",
       "      <td>8</td>\n",
       "      <td>3</td>\n",
       "      <td>7</td>\n",
       "      <td>3</td>\n",
       "      <td>7.0</td>\n",
       "      <td>56.0</td>\n",
       "    </tr>\n",
       "    <tr>\n",
       "      <th>3</th>\n",
       "      <td>Изменить структура категорий, что увеличит конверсию, т.к. пользователи быстрее найдут нужный товар</td>\n",
       "      <td>8</td>\n",
       "      <td>3</td>\n",
       "      <td>3</td>\n",
       "      <td>8</td>\n",
       "      <td>1.1</td>\n",
       "      <td>9.0</td>\n",
       "    </tr>\n",
       "    <tr>\n",
       "      <th>4</th>\n",
       "      <td>Изменить цвет фона главной страницы, чтобы увеличить вовлеченность пользователей</td>\n",
       "      <td>3</td>\n",
       "      <td>1</td>\n",
       "      <td>1</td>\n",
       "      <td>1</td>\n",
       "      <td>1.0</td>\n",
       "      <td>3.0</td>\n",
       "    </tr>\n",
       "    <tr>\n",
       "      <th>5</th>\n",
       "      <td>Добавить страницу отзывов клиентов о магазине, что позволит увеличить количество заказов</td>\n",
       "      <td>3</td>\n",
       "      <td>2</td>\n",
       "      <td>2</td>\n",
       "      <td>3</td>\n",
       "      <td>1.3</td>\n",
       "      <td>4.0</td>\n",
       "    </tr>\n",
       "    <tr>\n",
       "      <th>6</th>\n",
       "      <td>Показать на главной странице баннеры с актуальными акциями и распродажами, чтобы увеличить конверсию</td>\n",
       "      <td>5</td>\n",
       "      <td>3</td>\n",
       "      <td>8</td>\n",
       "      <td>3</td>\n",
       "      <td>8.0</td>\n",
       "      <td>40.0</td>\n",
       "    </tr>\n",
       "    <tr>\n",
       "      <th>7</th>\n",
       "      <td>Добавить форму подписки на все основные страницы, чтобы собрать базу клиентов для email-рассылок</td>\n",
       "      <td>10</td>\n",
       "      <td>7</td>\n",
       "      <td>8</td>\n",
       "      <td>5</td>\n",
       "      <td>11.2</td>\n",
       "      <td>112.0</td>\n",
       "    </tr>\n",
       "    <tr>\n",
       "      <th>8</th>\n",
       "      <td>Запустить акцию, дающую скидку на товар в день рождения</td>\n",
       "      <td>1</td>\n",
       "      <td>9</td>\n",
       "      <td>9</td>\n",
       "      <td>5</td>\n",
       "      <td>16.2</td>\n",
       "      <td>16.2</td>\n",
       "    </tr>\n",
       "  </tbody>\n",
       "</table>\n",
       "</div>"
      ],
      "text/plain": [
       "                                                                                                     hypothesis  \\\n",
       "0            Добавить два новых канала привлечения трафика, что позволит привлекать на 30% больше пользователей   \n",
       "1                                     Запустить собственную службу доставки, что сократит срок доставки заказов   \n",
       "2  Добавить блоки рекомендаций товаров на сайт интернет магазина, чтобы повысить конверсию и средний чек заказа   \n",
       "3           Изменить структура категорий, что увеличит конверсию, т.к. пользователи быстрее найдут нужный товар   \n",
       "4                              Изменить цвет фона главной страницы, чтобы увеличить вовлеченность пользователей   \n",
       "5                      Добавить страницу отзывов клиентов о магазине, что позволит увеличить количество заказов   \n",
       "6          Показать на главной странице баннеры с актуальными акциями и распродажами, чтобы увеличить конверсию   \n",
       "7              Добавить форму подписки на все основные страницы, чтобы собрать базу клиентов для email-рассылок   \n",
       "8                                                       Запустить акцию, дающую скидку на товар в день рождения   \n",
       "\n",
       "   reach  impact  confidence  efforts   ICE   RICE  \n",
       "0      3      10           8        6  13.3   40.0  \n",
       "1      2       5           4       10   2.0    4.0  \n",
       "2      8       3           7        3   7.0   56.0  \n",
       "3      8       3           3        8   1.1    9.0  \n",
       "4      3       1           1        1   1.0    3.0  \n",
       "5      3       2           2        3   1.3    4.0  \n",
       "6      5       3           8        3   8.0   40.0  \n",
       "7     10       7           8        5  11.2  112.0  \n",
       "8      1       9           9        5  16.2   16.2  "
      ]
     },
     "execution_count": 9,
     "metadata": {},
     "output_type": "execute_result"
    }
   ],
   "source": [
    "hyp"
   ]
  },
  {
   "cell_type": "code",
   "execution_count": 10,
   "metadata": {},
   "outputs": [
    {
     "data": {
      "image/png": "[encoded data removed]",
      "text/plain": [
       "<Figure size 1008x1008 with 1 Axes>"
      ]
     },
     "metadata": {
      "needs_background": "light"
     },
     "output_type": "display_data"
    }
   ],
   "source": [
    "fig, ax = plt.subplots()\n",
    "x = 14 # размер стороны квадрата рисунка\n",
    "ax.bar(hyp.index, hyp['RICE'], color = 'blue', alpha = 0.5,label = 'RICE')\n",
    "ax.bar(hyp.index, hyp['ICE'], color = 'red', alpha = 0.5,label = 'ICE')\n",
    "\n",
    "ax.xaxis.set_major_locator(ticker.MultipleLocator(1)) # Чатсота тиков на оси x\n",
    "ax.figsize = (x,x)\n",
    "\n",
    "ax.grid()\n",
    "plt.legend()\n",
    "fig.set_figwidth(x)\n",
    "fig.set_figheight(x)"
   ]
  },
  {
   "cell_type": "code",
   "execution_count": 11,
   "metadata": {},
   "outputs": [
    {
     "data": {
      "image/png": "[encoded data removed]",
      "text/plain": [
       "<Figure size 1296x432 with 2 Axes>"
      ]
     },
     "metadata": {
      "needs_background": "light"
     },
     "output_type": "display_data"
    }
   ],
   "source": [
    "fig, axes = plt.subplots(ncols=2, figsize=(18, 6))\n",
    "\n",
    "# формируем норме гипотезы, чтобы не использовать индекс\n",
    "hyp['hyp_n'] = [str(i) for i in range(len(hyp))]\n",
    "\n",
    "hyp_sorted_RICE = hyp.sort_values(by='RICE', ascending=False)\n",
    "axes[0].bar(x=hyp_sorted_RICE['hyp_n'], height=hyp_sorted_RICE['RICE'], color = 'blue', alpha = 0.5,label = 'RICE')\n",
    "axes[0].set_title('RICE');\n",
    "\n",
    "hyp_sorted_ICE = hyp.sort_values(by='ICE', ascending=False)\n",
    "axes[1].bar(x=hyp_sorted_ICE['hyp_n'], height=hyp_sorted_ICE['ICE'], color = 'red', alpha = 0.5,label = 'ICE')\n",
    "axes[1].set_title('ICE');"
   ]
  },
  {
   "cell_type": "markdown",
   "metadata": {},
   "source": [
    "<hr style=\"border: 2px solid orange;\" />"
   ]
  },
  {
   "cell_type": "markdown",
   "metadata": {},
   "source": [
    "### Вывод по первой части\n",
    "Когда мы считали ICE, лидировали гиппотезы под номером: **8, 0, 7**. После подсчета RICE этот список изменился. Номера лидирующих гиппотез  по параметру RICE: **7, 2, 0**. Это связано с тем, что параметр ICE показывет **силу гипотезу**, но не учитывает, **сколько пользователей затронет**. Следоавтельно, если позволяют возможности, то предпочтительно использовать параметр RICE."
   ]
  },
  {
   "cell_type": "markdown",
   "metadata": {},
   "source": [
    "## Вторая часть"
   ]
  },
  {
   "cell_type": "markdown",
   "metadata": {},
   "source": [
    "Данные для второй части  \n",
    "transactionId — идентификатор заказа;  \n",
    "visitorId — идентификатор пользователя, совершившего заказ;  \n",
    "date — дата, когда был совершён заказ;  \n",
    "revenue — выручка заказа;  \n",
    "group — группа A/B-теста, в которую попал заказ.  \n",
    "Файл /datasets/visitors.csv. Скачать датасет  \n",
    "date — дата;  \n",
    "group — группа A/B-теста;  \n",
    "visitors — количество пользователей в указанную дату в указанной группе A/B-теста  "
   ]
  },
  {
   "cell_type": "code",
   "execution_count": 12,
   "metadata": {},
   "outputs": [],
   "source": [
    "pth1 = '/datasets/orders.csv'\n",
    "pth2 = '/datasets/visitors.csv'\n",
    "if os.path.exists(pth1) and os.path.exists(pth2) :\n",
    "    orders = pd.read_csv(pth1) \n",
    "    visitors = pd.read_csv(pth2) \n",
    "else:\n",
    "    print('Ничего не получилось =(')"
   ]
  },
  {
   "cell_type": "code",
   "execution_count": 13,
   "metadata": {
    "scrolled": true
   },
   "outputs": [
    {
     "data": {
      "text/html": [
       "<div>\n",
       "<style scoped>\n",
       "    .dataframe tbody tr th:only-of-type {\n",
       "        vertical-align: middle;\n",
       "    }\n",
       "\n",
       "    .dataframe tbody tr th {\n",
       "        vertical-align: top;\n",
       "    }\n",
       "\n",
       "    .dataframe thead th {\n",
       "        text-align: right;\n",
       "    }\n",
       "</style>\n",
       "<table border=\"1\" class=\"dataframe\">\n",
       "  <thead>\n",
       "    <tr style=\"text-align: right;\">\n",
       "      <th></th>\n",
       "      <th>transactionId</th>\n",
       "      <th>visitorId</th>\n",
       "      <th>date</th>\n",
       "      <th>revenue</th>\n",
       "      <th>group</th>\n",
       "    </tr>\n",
       "  </thead>\n",
       "  <tbody>\n",
       "    <tr>\n",
       "      <th>0</th>\n",
       "      <td>3667963787</td>\n",
       "      <td>3312258926</td>\n",
       "      <td>2019-08-15</td>\n",
       "      <td>1650</td>\n",
       "      <td>B</td>\n",
       "    </tr>\n",
       "    <tr>\n",
       "      <th>1</th>\n",
       "      <td>2804400009</td>\n",
       "      <td>3642806036</td>\n",
       "      <td>2019-08-15</td>\n",
       "      <td>730</td>\n",
       "      <td>B</td>\n",
       "    </tr>\n",
       "  </tbody>\n",
       "</table>\n",
       "</div>"
      ],
      "text/plain": [
       "   transactionId   visitorId        date  revenue group\n",
       "0     3667963787  3312258926  2019-08-15     1650     B\n",
       "1     2804400009  3642806036  2019-08-15      730     B"
      ]
     },
     "execution_count": 13,
     "metadata": {},
     "output_type": "execute_result"
    }
   ],
   "source": [
    "orders.head(2)"
   ]
  },
  {
   "cell_type": "code",
   "execution_count": 14,
   "metadata": {},
   "outputs": [
    {
     "name": "stdout",
     "output_type": "stream",
     "text": [
      "<class 'pandas.core.frame.DataFrame'>\n",
      "RangeIndex: 1197 entries, 0 to 1196\n",
      "Data columns (total 5 columns):\n",
      " #   Column         Non-Null Count  Dtype \n",
      "---  ------         --------------  ----- \n",
      " 0   transactionId  1197 non-null   int64 \n",
      " 1   visitorId      1197 non-null   int64 \n",
      " 2   date           1197 non-null   object\n",
      " 3   revenue        1197 non-null   int64 \n",
      " 4   group          1197 non-null   object\n",
      "dtypes: int64(3), object(2)\n",
      "memory usage: 46.9+ KB\n"
     ]
    }
   ],
   "source": [
    "## новый код\n",
    "orders.info()"
   ]
  },
  {
   "cell_type": "code",
   "execution_count": 15,
   "metadata": {},
   "outputs": [],
   "source": [
    "orders.rename(columns={'visitorId': 'visitor_id','transactionId': 'transaction_id'}, inplace=True)"
   ]
  },
  {
   "cell_type": "code",
   "execution_count": 16,
   "metadata": {},
   "outputs": [
    {
     "data": {
      "text/plain": [
       "0"
      ]
     },
     "execution_count": 16,
     "metadata": {},
     "output_type": "execute_result"
    }
   ],
   "source": [
    "## новый код\n",
    "orders.duplicated().sum()"
   ]
  },
  {
   "cell_type": "code",
   "execution_count": 17,
   "metadata": {},
   "outputs": [
    {
     "data": {
      "text/plain": [
       "4256040402    11\n",
       "2458001652    11\n",
       "2378935119     9\n",
       "2038680547     8\n",
       "199603092      5\n",
       "              ..\n",
       "2406916810     1\n",
       "1255412427     1\n",
       "3866069709     1\n",
       "54447517       1\n",
       "3013339133     1\n",
       "Name: visitor_id, Length: 1031, dtype: int64"
      ]
     },
     "execution_count": 17,
     "metadata": {},
     "output_type": "execute_result"
    }
   ],
   "source": [
    "## новый код\n",
    "orders['visitor_id'].value_counts()"
   ]
  },
  {
   "cell_type": "code",
   "execution_count": 18,
   "metadata": {},
   "outputs": [
    {
     "data": {
      "text/plain": [
       "Series([], Name: visitor_id, dtype: int64)"
      ]
     },
     "execution_count": 18,
     "metadata": {},
     "output_type": "execute_result"
    }
   ],
   "source": [
    "flic = orders[(orders[\"group\"]==\"A\") & (orders[\"group\"]==\"B\")]['visitor_id']\n",
    "flic"
   ]
  },
  {
   "cell_type": "code",
   "execution_count": 19,
   "metadata": {},
   "outputs": [
    {
     "name": "stdout",
     "output_type": "stream",
     "text": [
      "<class 'pandas.core.frame.DataFrame'>\n",
      "Int64Index: 1108 entries, 0 to 1196\n",
      "Data columns (total 5 columns):\n",
      " #   Column          Non-Null Count  Dtype \n",
      "---  ------          --------------  ----- \n",
      " 0   transaction_id  1108 non-null   int64 \n",
      " 1   visitor_id      1108 non-null   int64 \n",
      " 2   date            1108 non-null   object\n",
      " 3   revenue         1108 non-null   int64 \n",
      " 4   group           1108 non-null   object\n",
      "dtypes: int64(3), object(2)\n",
      "memory usage: 51.9+ KB\n"
     ]
    }
   ],
   "source": [
    "## новый код\n",
    "## дропаем фликеров\n",
    "flickers = orders.loc[orders[\"group\"]==\"A\",'visitor_id']\\\n",
    ".isin(orders.loc[orders[\"group\"]==\"B\", 'visitor_id']) ## получаем индексы, где есть фликеры\n",
    "orders = orders.drop(flickers[flickers].index) ## удаляем их\n",
    "orders.info()"
   ]
  },
  {
   "cell_type": "code",
   "execution_count": 20,
   "metadata": {},
   "outputs": [
    {
     "data": {
      "text/html": [
       "<div>\n",
       "<style scoped>\n",
       "    .dataframe tbody tr th:only-of-type {\n",
       "        vertical-align: middle;\n",
       "    }\n",
       "\n",
       "    .dataframe tbody tr th {\n",
       "        vertical-align: top;\n",
       "    }\n",
       "\n",
       "    .dataframe thead th {\n",
       "        text-align: right;\n",
       "    }\n",
       "</style>\n",
       "<table border=\"1\" class=\"dataframe\">\n",
       "  <thead>\n",
       "    <tr style=\"text-align: right;\">\n",
       "      <th></th>\n",
       "      <th>date</th>\n",
       "      <th>group</th>\n",
       "      <th>visitors</th>\n",
       "    </tr>\n",
       "  </thead>\n",
       "  <tbody>\n",
       "    <tr>\n",
       "      <th>0</th>\n",
       "      <td>2019-08-01</td>\n",
       "      <td>A</td>\n",
       "      <td>719</td>\n",
       "    </tr>\n",
       "    <tr>\n",
       "      <th>1</th>\n",
       "      <td>2019-08-02</td>\n",
       "      <td>A</td>\n",
       "      <td>619</td>\n",
       "    </tr>\n",
       "  </tbody>\n",
       "</table>\n",
       "</div>"
      ],
      "text/plain": [
       "         date group  visitors\n",
       "0  2019-08-01     A       719\n",
       "1  2019-08-02     A       619"
      ]
     },
     "execution_count": 20,
     "metadata": {},
     "output_type": "execute_result"
    }
   ],
   "source": [
    "visitors.head(2)"
   ]
  },
  {
   "cell_type": "code",
   "execution_count": 21,
   "metadata": {},
   "outputs": [
    {
     "name": "stdout",
     "output_type": "stream",
     "text": [
      "<class 'pandas.core.frame.DataFrame'>\n",
      "RangeIndex: 62 entries, 0 to 61\n",
      "Data columns (total 3 columns):\n",
      " #   Column    Non-Null Count  Dtype \n",
      "---  ------    --------------  ----- \n",
      " 0   date      62 non-null     object\n",
      " 1   group     62 non-null     object\n",
      " 2   visitors  62 non-null     int64 \n",
      "dtypes: int64(1), object(2)\n",
      "memory usage: 1.6+ KB\n"
     ]
    }
   ],
   "source": [
    "## новый код\n",
    "visitors.info()"
   ]
  },
  {
   "cell_type": "code",
   "execution_count": 22,
   "metadata": {},
   "outputs": [
    {
     "data": {
      "text/plain": [
       "0"
      ]
     },
     "execution_count": 22,
     "metadata": {},
     "output_type": "execute_result"
    }
   ],
   "source": [
    "## новый код\n",
    "visitors.duplicated().sum()"
   ]
  },
  {
   "cell_type": "code",
   "execution_count": 23,
   "metadata": {},
   "outputs": [],
   "source": [
    "datesGroups = orders[['date','group']].drop_duplicates() \n",
    "ordersAggregated =  datesGroups.apply(lambda x: orders[np.logical_and(orders['date'] <= x['date'],\\\n",
    "                                                                     orders['group'] == x['group'])]\\\n",
    ".agg({'date' : 'max',\n",
    "      'group' : 'max',\n",
    "      'transaction_id' : 'nunique',\n",
    "      'visitor_id' : 'nunique',\n",
    "      'revenue' : 'sum'}), axis=1).sort_values(by=['date','group'])"
   ]
  },
  {
   "cell_type": "code",
   "execution_count": 24,
   "metadata": {
    "scrolled": true
   },
   "outputs": [
    {
     "data": {
      "text/html": [
       "<div>\n",
       "<style scoped>\n",
       "    .dataframe tbody tr th:only-of-type {\n",
       "        vertical-align: middle;\n",
       "    }\n",
       "\n",
       "    .dataframe tbody tr th {\n",
       "        vertical-align: top;\n",
       "    }\n",
       "\n",
       "    .dataframe thead th {\n",
       "        text-align: right;\n",
       "    }\n",
       "</style>\n",
       "<table border=\"1\" class=\"dataframe\">\n",
       "  <thead>\n",
       "    <tr style=\"text-align: right;\">\n",
       "      <th></th>\n",
       "      <th>date</th>\n",
       "      <th>group</th>\n",
       "      <th>transaction_id</th>\n",
       "      <th>visitor_id</th>\n",
       "      <th>revenue</th>\n",
       "    </tr>\n",
       "  </thead>\n",
       "  <tbody>\n",
       "    <tr>\n",
       "      <th>55</th>\n",
       "      <td>2019-08-01</td>\n",
       "      <td>A</td>\n",
       "      <td>23</td>\n",
       "      <td>19</td>\n",
       "      <td>142779</td>\n",
       "    </tr>\n",
       "    <tr>\n",
       "      <th>66</th>\n",
       "      <td>2019-08-01</td>\n",
       "      <td>B</td>\n",
       "      <td>21</td>\n",
       "      <td>20</td>\n",
       "      <td>101217</td>\n",
       "    </tr>\n",
       "    <tr>\n",
       "      <th>175</th>\n",
       "      <td>2019-08-02</td>\n",
       "      <td>A</td>\n",
       "      <td>42</td>\n",
       "      <td>36</td>\n",
       "      <td>234381</td>\n",
       "    </tr>\n",
       "    <tr>\n",
       "      <th>173</th>\n",
       "      <td>2019-08-02</td>\n",
       "      <td>B</td>\n",
       "      <td>45</td>\n",
       "      <td>43</td>\n",
       "      <td>266748</td>\n",
       "    </tr>\n",
       "    <tr>\n",
       "      <th>291</th>\n",
       "      <td>2019-08-03</td>\n",
       "      <td>A</td>\n",
       "      <td>66</td>\n",
       "      <td>60</td>\n",
       "      <td>346854</td>\n",
       "    </tr>\n",
       "  </tbody>\n",
       "</table>\n",
       "</div>"
      ],
      "text/plain": [
       "           date group  transaction_id  visitor_id  revenue\n",
       "55   2019-08-01     A              23          19   142779\n",
       "66   2019-08-01     B              21          20   101217\n",
       "175  2019-08-02     A              42          36   234381\n",
       "173  2019-08-02     B              45          43   266748\n",
       "291  2019-08-03     A              66          60   346854"
      ]
     },
     "execution_count": 24,
     "metadata": {},
     "output_type": "execute_result"
    }
   ],
   "source": [
    "ordersAggregated.head()"
   ]
  },
  {
   "cell_type": "code",
   "execution_count": 25,
   "metadata": {},
   "outputs": [],
   "source": [
    "visitorsAggregated = datesGroups.apply(\n",
    "    lambda x: visitors[\n",
    "        np.logical_and(\n",
    "            visitors['date'] <= x['date'], visitors['group'] == x['group']\n",
    "        )\n",
    "    ].agg({'date': 'max', 'group': 'max', 'visitors': 'sum'}),\n",
    "    axis=1,\n",
    ").sort_values(by=['date', 'group'])\n",
    "\n",
    "cumulativeData = ordersAggregated.merge(\n",
    "    visitorsAggregated, left_on=['date', 'group'], right_on=['date', 'group']\n",
    ")\n",
    "cumulativeData.columns = [\n",
    "    'date',\n",
    "    'group',\n",
    "    'orders',\n",
    "    'buyers',\n",
    "    'revenue',\n",
    "    'visitors',\n",
    "]\n",
    "cumulativeRevenueA = cumulativeData[cumulativeData['group']=='A'][['date','revenue', 'orders']]\n",
    "cumulativeRevenueB = cumulativeData[cumulativeData['group']=='B'][['date','revenue', 'orders']]"
   ]
  },
  {
   "cell_type": "code",
   "execution_count": 26,
   "metadata": {},
   "outputs": [
    {
     "data": {
      "text/html": [
       "<div>\n",
       "<style scoped>\n",
       "    .dataframe tbody tr th:only-of-type {\n",
       "        vertical-align: middle;\n",
       "    }\n",
       "\n",
       "    .dataframe tbody tr th {\n",
       "        vertical-align: top;\n",
       "    }\n",
       "\n",
       "    .dataframe thead th {\n",
       "        text-align: right;\n",
       "    }\n",
       "</style>\n",
       "<table border=\"1\" class=\"dataframe\">\n",
       "  <thead>\n",
       "    <tr style=\"text-align: right;\">\n",
       "      <th></th>\n",
       "      <th>date</th>\n",
       "      <th>group</th>\n",
       "      <th>orders</th>\n",
       "      <th>buyers</th>\n",
       "      <th>revenue</th>\n",
       "      <th>visitors</th>\n",
       "    </tr>\n",
       "  </thead>\n",
       "  <tbody>\n",
       "    <tr>\n",
       "      <th>0</th>\n",
       "      <td>2019-08-01</td>\n",
       "      <td>A</td>\n",
       "      <td>23</td>\n",
       "      <td>19</td>\n",
       "      <td>142779</td>\n",
       "      <td>719</td>\n",
       "    </tr>\n",
       "    <tr>\n",
       "      <th>1</th>\n",
       "      <td>2019-08-01</td>\n",
       "      <td>B</td>\n",
       "      <td>21</td>\n",
       "      <td>20</td>\n",
       "      <td>101217</td>\n",
       "      <td>713</td>\n",
       "    </tr>\n",
       "    <tr>\n",
       "      <th>2</th>\n",
       "      <td>2019-08-02</td>\n",
       "      <td>A</td>\n",
       "      <td>42</td>\n",
       "      <td>36</td>\n",
       "      <td>234381</td>\n",
       "      <td>1338</td>\n",
       "    </tr>\n",
       "    <tr>\n",
       "      <th>3</th>\n",
       "      <td>2019-08-02</td>\n",
       "      <td>B</td>\n",
       "      <td>45</td>\n",
       "      <td>43</td>\n",
       "      <td>266748</td>\n",
       "      <td>1294</td>\n",
       "    </tr>\n",
       "    <tr>\n",
       "      <th>4</th>\n",
       "      <td>2019-08-03</td>\n",
       "      <td>A</td>\n",
       "      <td>66</td>\n",
       "      <td>60</td>\n",
       "      <td>346854</td>\n",
       "      <td>1845</td>\n",
       "    </tr>\n",
       "  </tbody>\n",
       "</table>\n",
       "</div>"
      ],
      "text/plain": [
       "         date group  orders  buyers  revenue  visitors\n",
       "0  2019-08-01     A      23      19   142779       719\n",
       "1  2019-08-01     B      21      20   101217       713\n",
       "2  2019-08-02     A      42      36   234381      1338\n",
       "3  2019-08-02     B      45      43   266748      1294\n",
       "4  2019-08-03     A      66      60   346854      1845"
      ]
     },
     "execution_count": 26,
     "metadata": {},
     "output_type": "execute_result"
    }
   ],
   "source": [
    "cumulativeData.head()"
   ]
  },
  {
   "cell_type": "code",
   "execution_count": 27,
   "metadata": {},
   "outputs": [
    {
     "data": {
      "image/png": "[encoded data removed]",
      "text/plain": [
       "<Figure size 720x720 with 1 Axes>"
      ]
     },
     "metadata": {
      "needs_background": "light"
     },
     "output_type": "display_data"
    }
   ],
   "source": [
    "fig, ax = plt.subplots()\n",
    "x = 10 # размер стороны квадрата рисунка\n",
    "ax.plot(cumulativeRevenueA['date'], cumulativeRevenueA['revenue'], label='A')\n",
    "ax.plot(cumulativeRevenueB['date'], cumulativeRevenueB['revenue'], label='B')\n",
    "ax.xaxis.set_major_locator(ticker.MultipleLocator(4)) # Чатсота тиков на оси x\n",
    "ax.figsize = (x,x)\n",
    "ax.set_title('График кумулятивной выручки по группам',fontsize = 25)\n",
    "ax.set_xlabel('Дата',fontsize = 15)\n",
    "ax.set_ylabel('Выручка,руб',fontsize = 15)\n",
    "ax.tick_params(axis='both', which='major', labelsize=13)\n",
    "ax.tick_params(axis='x', labelrotation = 45)\n",
    "ax.grid()\n",
    "plt.legend()\n",
    "fig.set_figwidth(x)\n",
    "fig.set_figheight(x)"
   ]
  },
  {
   "cell_type": "markdown",
   "metadata": {},
   "source": [
    "### Вывод и предположение по кумулятивной выручки\n",
    "Судя по резкому скачку Выручки из группы В, мы иммем дело с аномально большими заказами, но пока судить рано, надо посмотреть на другие метирки."
   ]
  },
  {
   "cell_type": "code",
   "execution_count": 28,
   "metadata": {},
   "outputs": [
    {
     "data": {
      "image/png": "[encoded data removed]",
      "text/plain": [
       "<Figure size 720x720 with 1 Axes>"
      ]
     },
     "metadata": {
      "needs_background": "light"
     },
     "output_type": "display_data"
    }
   ],
   "source": [
    "fig, ax = plt.subplots()\n",
    "x = 10 # размер стороны квадрата рисунка\n",
    "ax.plot(cumulativeRevenueA['date'], cumulativeRevenueA['revenue'] / cumulativeRevenueA['orders'], label='A')\n",
    "ax.plot(cumulativeRevenueB['date'], cumulativeRevenueB['revenue'] / cumulativeRevenueB['orders'], label='B')\n",
    "ax.xaxis.set_major_locator(ticker.MultipleLocator(4)) # Чатсота тиков на оси x\n",
    "ax.figsize = (x,x)\n",
    "ax.set_title('График кумулятивного среднего чека по группам',fontsize = 25)\n",
    "ax.set_xlabel('Дата',fontsize = 15)\n",
    "ax.set_ylabel('Выручка,руб',fontsize = 15)\n",
    "ax.tick_params(axis='both', which='major', labelsize=13)\n",
    "ax.tick_params(axis='x', labelrotation = 45)\n",
    "ax.grid()\n",
    "plt.legend()\n",
    "fig.set_figwidth(x)\n",
    "fig.set_figheight(x)"
   ]
  },
  {
   "cell_type": "markdown",
   "metadata": {},
   "source": [
    "### Вывод и предположение по кумулятивному среднему чеку\n",
    "И в этом графике мы зафиксировали анномально большой среднйи чек в группе Б, все это мы отсечем когда посчитаем перцентили и уберем выбросы из нашей выборки."
   ]
  },
  {
   "cell_type": "code",
   "execution_count": 29,
   "metadata": {},
   "outputs": [],
   "source": [
    "mergedCumulativeRevenue = cumulativeRevenueA.merge( ## Объединяем таблицы\n",
    "    cumulativeRevenueB,\n",
    "    left_on='date',\n",
    "    right_on='date',\n",
    "    how='left',\n",
    "    suffixes=['A', 'B']\n",
    ")\n"
   ]
  },
  {
   "cell_type": "code",
   "execution_count": 30,
   "metadata": {},
   "outputs": [
    {
     "data": {
      "image/png": "[encoded data removed]",
      "text/plain": [
       "<Figure size 1440x720 with 1 Axes>"
      ]
     },
     "metadata": {
      "needs_background": "light"
     },
     "output_type": "display_data"
    }
   ],
   "source": [
    "fig, ax = plt.subplots()\n",
    "x =10\n",
    "ax.plot(\n",
    "    mergedCumulativeRevenue['date'],\n",
    "    (mergedCumulativeRevenue['revenueB']/mergedCumulativeRevenue['ordersB'])/\n",
    "    (mergedCumulativeRevenue['revenueA']/mergedCumulativeRevenue['ordersA'])-1)\n",
    "ax.set_title('График относительного изменения кумулятивного среднего чека группы B к группе A',fontsize = 25)\n",
    "ax.xaxis.set_major_locator(ticker.MultipleLocator(4)) # Чатсота тиков на оси x\n",
    "ax.figsize = (x,x)\n",
    "ax.set_xlabel('Дата',fontsize = 15)\n",
    "ax.set_ylabel('Отношение',fontsize = 15)\n",
    "ax.tick_params(axis='both', which='major', labelsize=13)\n",
    "ax.tick_params(axis='x', labelrotation = 45)\n",
    "ax.grid()\n",
    "ax.figsize = (x,x)\n",
    "\n",
    "plt.axhline(y=0, color='black', linestyle='--') \n",
    "fig.set_figwidth(x*2)\n",
    "fig.set_figheight(x)"
   ]
  },
  {
   "cell_type": "markdown",
   "metadata": {},
   "source": [
    "### Вывод и предположение по графику относительного изменения кумулятивного среднего чека группы B к группе A\n",
    "Такое резкое изменение отношения в среднем чеке явно сигнализирует нам об аномальных сделках. С помощью анализа данного графика делаем предположения, что сделки были совершены в промежутке 17 и 21 августа 2019 года."
   ]
  },
  {
   "cell_type": "code",
   "execution_count": 31,
   "metadata": {},
   "outputs": [],
   "source": [
    "cumulativeData['conversion'] = \\\n",
    "cumulativeData['orders']/cumulativeData['visitors'] ## Для кумулятивной конверсии\n",
    "cumulativeDataA = cumulativeData[cumulativeData['group']=='A']\n",
    "cumulativeDataB = cumulativeData[cumulativeData['group']=='B']"
   ]
  },
  {
   "cell_type": "code",
   "execution_count": 32,
   "metadata": {},
   "outputs": [
    {
     "data": {
      "image/png": "[encoded data removed]",
      "text/plain": [
       "<Figure size 720x720 with 1 Axes>"
      ]
     },
     "metadata": {
      "needs_background": "light"
     },
     "output_type": "display_data"
    }
   ],
   "source": [
    "fig, ax = plt.subplots()\n",
    "x = 10 # размер стороны квадрата рисунка\n",
    "ax.plot(cumulativeDataA['date'], cumulativeDataA['conversion']*100, label='A')\n",
    "ax.plot(cumulativeDataB['date'], cumulativeDataB['conversion']*100, label='B')\n",
    "ax.xaxis.set_major_locator(ticker.MultipleLocator(4)) # Чатсота тиков на оси x\n",
    "ax.figsize = (x,x)\n",
    "ax.set_title('график кумулятивной конверсии по группам',fontsize = 25)\n",
    "ax.set_xlabel('Дата',fontsize = 15)\n",
    "ax.set_ylabel('Конверсия,%',fontsize = 15)\n",
    "ax.tick_params(axis='both', which='major', labelsize=13)\n",
    "ax.tick_params(axis='x', labelrotation = 45)\n",
    "ax.grid()\n",
    "plt.legend()\n",
    "fig.set_figwidth(x)\n",
    "fig.set_figheight(x)"
   ]
  },
  {
   "cell_type": "markdown",
   "metadata": {},
   "source": [
    "### Вывод и предположение по графику кумулятивной конверсии по группам\n",
    "Сначала графики колебались, но постепенно выравнились около своих значений: В-3,4%, А-3,0%. Разница 0.4 пп и лидирует группа В. "
   ]
  },
  {
   "cell_type": "markdown",
   "metadata": {},
   "source": [
    "<hr style=\"border: 2px solid orange;\" />"
   ]
  },
  {
   "cell_type": "code",
   "execution_count": 33,
   "metadata": {},
   "outputs": [],
   "source": [
    "## Для относительного изменения кумулятивной конверсии \n",
    "mergedCumulativeConversions = cumulativeDataA[['date','conversion']].merge(\n",
    "    cumulativeDataB[['date','conversion']],\n",
    "    left_on='date',\n",
    "    right_on='date',\n",
    "    how='left',\n",
    "    suffixes=['A', 'B']\n",
    ")"
   ]
  },
  {
   "cell_type": "code",
   "execution_count": 34,
   "metadata": {},
   "outputs": [
    {
     "data": {
      "image/png": "[encoded data removed]",
      "text/plain": [
       "<Figure size 1440x720 with 1 Axes>"
      ]
     },
     "metadata": {
      "needs_background": "light"
     },
     "output_type": "display_data"
    }
   ],
   "source": [
    "fig, ax = plt.subplots()\n",
    "x =10\n",
    "ax.plot(\n",
    "    mergedCumulativeConversions['date'],\n",
    "    mergedCumulativeConversions['conversionB']/mergedCumulativeConversions['conversionA']-1,\n",
    "    \n",
    ")\n",
    "ax.set_title(\"Относительный прирост конверсии группы B относительно группы A\",fontsize = 25)\n",
    "ax.xaxis.set_major_locator(ticker.MultipleLocator(4)) # Чатсота тиков на оси x\n",
    "ax.figsize = (x,x)\n",
    "ax.set_xlabel('Дата',fontsize = 15)\n",
    "ax.set_ylabel('Отношение',fontsize = 15)\n",
    "ax.tick_params(axis='both', which='major', labelsize=13)\n",
    "ax.tick_params(axis='x', labelrotation = 45)\n",
    "ax.grid()\n",
    "ax.figsize = (x,x)\n",
    "\n",
    "plt.axhline(y=0, color='black', linestyle='--') \n",
    "fig.set_figwidth(x*2)\n",
    "fig.set_figheight(x)"
   ]
  },
  {
   "cell_type": "markdown",
   "metadata": {},
   "source": [
    "### Вывод и предположение по графику относительного изменения кумулятивной конверсии группы B к группе A\n",
    "Группа лидирует практически на протяжении всего эксперимента, в конце значение установилось около 14 процентов."
   ]
  },
  {
   "cell_type": "code",
   "execution_count": 35,
   "metadata": {},
   "outputs": [],
   "source": [
    "ordersByUsers = (\n",
    "    orders.groupby('visitor_id', as_index=False)\n",
    "    .agg({'transaction_id': pd.Series.nunique})\n",
    ")"
   ]
  },
  {
   "cell_type": "code",
   "execution_count": 36,
   "metadata": {},
   "outputs": [
    {
     "data": {
      "image/png": "[encoded data removed]",
      "text/plain": [
       "<Figure size 720x720 with 1 Axes>"
      ]
     },
     "metadata": {
      "needs_background": "light"
     },
     "output_type": "display_data"
    }
   ],
   "source": [
    "x_values = pd.Series(range(0, len(ordersByUsers)))\n",
    "fig, ax = plt.subplots()\n",
    "x =10\n",
    "ax.scatter(x_values, ordersByUsers['transaction_id']) \n",
    "ax.set_title(\"Точечный график количества заказов по пользователям\",fontsize = 25)\n",
    "#ax.xaxis.set_major_locator(ticker.MultipleLocator(4)) # Чатсота тиков на оси x\n",
    "ax.figsize = (x,x)\n",
    "ax.set_xlabel('Номера наблюдений',fontsize = 15)\n",
    "ax.set_ylabel('Кол-во заказов',fontsize = 15)\n",
    "ax.tick_params(axis='both', which='major', labelsize=13)\n",
    "#ax.tick_params(axis='x', labelrotation = 45)\n",
    "ax.grid()\n",
    "ax.figsize = (x,x)\n",
    "fig.set_figwidth(x)\n",
    "fig.set_figheight(x)"
   ]
  },
  {
   "cell_type": "markdown",
   "metadata": {},
   "source": [
    "### Вывод и предположение по Точечному графику количества заказов по пользователям\n",
    "Кол-во пользователей, заказавших более одного раза достаточно мало, скорее всего пользователей, которые сделали более 1 заказа, можно будет отнести к аномальным."
   ]
  },
  {
   "cell_type": "code",
   "execution_count": 37,
   "metadata": {},
   "outputs": [
    {
     "name": "stdout",
     "output_type": "stream",
     "text": [
      "95-й выборочный перцентиль количества заказов по пользователям =  1\n",
      "99-й выборочный перцентиль количества заказов по пользователям =  3\n"
     ]
    }
   ],
   "source": [
    "print('95-й выборочный перцентиль количества заказов по пользователям = ',\n",
    "      (np.percentile(ordersByUsers['transaction_id'], 95)).astype('int'))\n",
    "print('99-й выборочный перцентиль количества заказов по пользователям = ',\n",
    "      (np.percentile(ordersByUsers['transaction_id'], 99)).astype('int'))"
   ]
  },
  {
   "cell_type": "markdown",
   "metadata": {},
   "source": [
    "### Вывод границы по кол-ву заказов на пользователя\n",
    "Не более 5 процентов пользователей совершили более 2 заказов. Следовательно выбираем границу 2. Все пользователи, совершившие более 2 заказов, будут отсечены."
   ]
  },
  {
   "cell_type": "markdown",
   "metadata": {},
   "source": [
    "### Вывод и предположение по Точечному графику стоимости заказов по пользователям\n",
    "Преобладающие число заказов до примерно 50 000 рублей. Есть пару выбросов, которые мы уберем. ТОчно определить границу выборки по стоимости заказов нам поможет перцентиль. "
   ]
  },
  {
   "cell_type": "code",
   "execution_count": 38,
   "metadata": {
    "scrolled": false
   },
   "outputs": [
    {
     "data": {
      "image/png": "[encoded data removed]",
      "text/plain": [
       "<Figure size 720x720 with 1 Axes>"
      ]
     },
     "metadata": {
      "needs_background": "light"
     },
     "output_type": "display_data"
    }
   ],
   "source": [
    "x_values = pd.Series(range(0, len(orders)))\n",
    "fig, ax = plt.subplots()\n",
    "x =10\n",
    "ax.scatter(x_values, orders['revenue']) \n",
    "ax.set_title(\"Точечный график стоимости заказов по пользователям\",fontsize = 25)\n",
    "#ax.xaxis.set_major_locator(ticker.MultipleLocator(4)) # Чатсота тиков на оси x\n",
    "ax.figsize = (x,x)\n",
    "ax.set_xlabel('Номера наблюдений',fontsize = 15)\n",
    "ax.set_ylabel('Стоимость заказов',fontsize = 15)\n",
    "ax.tick_params(axis='both', which='major', labelsize=13)\n",
    "#ax.tick_params(axis='x', labelrotation = 45)\n",
    "ax.grid()\n",
    "ax.figsize = (x,x)\n",
    "fig.set_figwidth(x)\n",
    "fig.set_figheight(x)"
   ]
  },
  {
   "cell_type": "code",
   "execution_count": 39,
   "metadata": {},
   "outputs": [
    {
     "name": "stdout",
     "output_type": "stream",
     "text": [
      "95-й выборочный перцентиль стоимости заказов по пользователям =  28033\n",
      "99-й выборочный перцентиль стоимости заказов по пользователям =  56457\n"
     ]
    }
   ],
   "source": [
    "print('95-й выборочный перцентиль стоимости заказов по пользователям = ',\n",
    "      (np.percentile(orders['revenue'], 95)).astype('int'))\n",
    "print('99-й выборочный перцентиль стоимости заказов по пользователям = ',\n",
    "      (np.percentile(orders['revenue'], 99)).astype('int'))"
   ]
  },
  {
   "cell_type": "markdown",
   "metadata": {},
   "source": [
    "### Вывод границы по кол-ву заказов на пользователя\n",
    "Не более 5 процентов заказов превышает 28 000 рублей. Эту сумму мы и возьмем за границу и отсечем все заказы больше 28 000 рублей."
   ]
  },
  {
   "cell_type": "code",
   "execution_count": 40,
   "metadata": {},
   "outputs": [],
   "source": [
    "## Соберем данные в один датасет для дальнейших задач по группам\n",
    "\n",
    "#Группа А\n",
    "# Посетители\n",
    "visitorsADaily = visitors[visitors['group'] == 'A'][['date', 'visitors']] # Посетитель - дата\n",
    "visitorsADaily.columns = ['date', 'visitorsPerDateA']\n",
    "visitorsACummulative = visitorsADaily.apply(\n",
    "    lambda x: visitorsADaily[visitorsADaily['date'] <= x['date']].agg(   # Куммулятивная сумма посетителей\n",
    "        {'date': 'max', 'visitorsPerDateA': 'sum'}\n",
    "    ),\n",
    "    axis=1,\n",
    ")\n",
    "visitorsACummulative.columns = ['date', 'visitorsCummulativeA']\n",
    "# заказы\n",
    "ordersADaily = (\n",
    "    orders[orders['group'] == 'A'][['date', 'transaction_id', 'visitor_id', 'revenue']]\n",
    "    .groupby('date', as_index=False)\n",
    "    .agg({'transaction_id': pd.Series.nunique, 'revenue': 'sum'})\n",
    ")\n",
    "ordersADaily.columns = ['date', 'ordersPerDateA', 'revenuePerDateA']\n",
    "\n",
    "ordersACummulative = ordersADaily.apply(\n",
    "    lambda x: ordersADaily[ordersADaily['date'] <= x['date']].agg(\n",
    "        {'date': 'max', 'ordersPerDateA': 'sum', 'revenuePerDateA': 'sum'}\n",
    "    ),\n",
    "    axis=1,\n",
    ").sort_values(by=['date'])\n",
    "ordersACummulative.columns = [\n",
    "    'date',\n",
    "    'ordersCummulativeA',\n",
    "    'revenueCummulativeA',\n",
    "]\n",
    "\n",
    "\n",
    "#Группа В\n",
    "# Посетители\n",
    "visitorsBDaily = visitors[visitors['group'] == 'B'][['date', 'visitors']] # Посетитель - дата\n",
    "visitorsBDaily.columns = ['date', 'visitorsPerDateB']\n",
    "visitorsBCummulative = visitorsBDaily.apply(                              \n",
    "    lambda x: visitorsBDaily[visitorsBDaily['date'] <= x['date']].agg(   # Куммулятивная сумма посетителей\n",
    "        {'date': 'max', 'visitorsPerDateB': 'sum'}\n",
    "    ),\n",
    "    axis=1,\n",
    ")\n",
    "visitorsBCummulative.columns = ['date', 'visitorsCummulativeB']\n",
    "# заказы\n",
    "ordersBDaily = (\n",
    "    orders[orders['group'] == 'B'][['date', 'transaction_id', 'visitor_id', 'revenue']]\n",
    "    .groupby('date', as_index=False)\n",
    "    .agg({'transaction_id': pd.Series.nunique, 'revenue': 'sum'})\n",
    ")\n",
    "ordersBDaily.columns = ['date', 'ordersPerDateB', 'revenuePerDateB']\n",
    "\n",
    "ordersBCummulative = ordersBDaily.apply(\n",
    "    lambda x: ordersBDaily[ordersBDaily['date'] <= x['date']].agg(\n",
    "        {'date': 'max', 'ordersPerDateB': 'sum', 'revenuePerDateB': 'sum'}\n",
    "    ),\n",
    "    axis=1,\n",
    ").sort_values(by=['date'])\n",
    "ordersBCummulative.columns = [\n",
    "    'date',\n",
    "    'ordersCummulativeB',\n",
    "    'revenueCummulativeB',\n",
    "]\n",
    "\n",
    "## Объединяем\n",
    "total = (\n",
    "    ordersADaily.merge(\n",
    "        ordersBDaily, left_on='date', right_on='date', how='left'\n",
    "    )\n",
    "    .merge(ordersACummulative, left_on='date', right_on='date', how='left')\n",
    "    .merge(ordersBCummulative, left_on='date', right_on='date', how='left')\n",
    "    .merge(visitorsADaily, left_on='date', right_on='date', how='left')\n",
    "    .merge(visitorsBDaily, left_on='date', right_on='date', how='left')\n",
    "    .merge(visitorsACummulative, left_on='date', right_on='date', how='left')\n",
    "    .merge(visitorsBCummulative, left_on='date', right_on='date', how='left')\n",
    ")\n"
   ]
  },
  {
   "cell_type": "code",
   "execution_count": 41,
   "metadata": {},
   "outputs": [],
   "source": [
    "## Определяем переменные для определения статистическую значимость различий в конверсии между группами по «сырым» данным\n",
    "\n",
    "# Группа А\n",
    "ordersByUsersA = (\n",
    "    orders[orders['group'] == 'A']\n",
    "    .groupby('visitor_id', as_index=False)\n",
    "    .agg({'transaction_id': pd.Series.nunique})\n",
    ")\n",
    "\n",
    "ordersByUsersA.columns = ['user_id', 'orders']\n",
    "\n",
    "sampleA = pd.concat(\n",
    "    [\n",
    "        ordersByUsersA['orders'],\n",
    "        pd.Series(\n",
    "            0,\n",
    "            index=np.arange(\n",
    "                total['visitorsPerDateA'].sum() - len(ordersByUsersA['orders'])\n",
    "            ),\n",
    "            name='orders',\n",
    "        ),\n",
    "    ],\n",
    "    axis=0,\n",
    ")\n",
    "\n",
    "# Группа В\n",
    "\n",
    "ordersByUsersB = (\n",
    "    orders[orders['group'] == 'B']\n",
    "    .groupby('visitor_id', as_index=False)\n",
    "    .agg({'transaction_id': pd.Series.nunique})\n",
    ")\n",
    "ordersByUsersB.columns = ['user_id', 'orders']\n",
    "\n",
    "sampleB = pd.concat(\n",
    "    [\n",
    "        ordersByUsersB['orders'],\n",
    "        pd.Series(\n",
    "            0,\n",
    "            index=np.arange(\n",
    "                total['visitorsPerDateB'].sum() - len(ordersByUsersB['orders'])\n",
    "            ),\n",
    "            name='orders',\n",
    "        ),\n",
    "    ],\n",
    "    axis=0,\n",
    ")\n"
   ]
  },
  {
   "cell_type": "markdown",
   "metadata": {},
   "source": [
    "**Нулевая гипотеза : между данными нет значимых различий. Альтернативная гипотеза:  между данными есть статически значимые различия.**"
   ]
  },
  {
   "cell_type": "code",
   "execution_count": 42,
   "metadata": {
    "scrolled": true
   },
   "outputs": [
    {
     "name": "stdout",
     "output_type": "stream",
     "text": [
      "P-value равно 0.000017\n",
      "Относительный прирост конверсии группы В к конверсии группы А в процентах =  35.45 %\n"
     ]
    }
   ],
   "source": [
    "print('P-value равно',\"{0:.6f}\".format(stats.mannwhitneyu(sampleA, sampleB,alternative='two-sided')[1])) ## Применение теста Манна-Уитни\n",
    "print('Относительный прирост конверсии группы В к конверсии группы А в процентах = ',\n",
    "      \"{0:.2f}\".format(((total['ordersPerDateB'].sum()/total['visitorsPerDateB'].sum())/\n",
    "      (total['ordersPerDateA'].sum()/total['visitorsPerDateA'].sum())-1)*100),'%')"
   ]
  },
  {
   "cell_type": "markdown",
   "metadata": {},
   "source": [
    "### Вывод по статистической значимости различий в конверсии между группами по «сырым» данным.\n",
    "P-value ниже общепринятых 0.05. Значит мы отвергаем Нулевую гипотезу и заявляем, что между группами есть статически значимые различия. И Относительный прирост конверсии группы В к конверсии группы А примерно равен 35%. Обязательно нужно понимть, что это были сырые данные и после очистки может что-то поменяться, учитывая, что у нас были довольно таки большие выбросы."
   ]
  },
  {
   "cell_type": "code",
   "execution_count": 43,
   "metadata": {},
   "outputs": [
    {
     "name": "stdout",
     "output_type": "stream",
     "text": [
      "P-value равно 0.765\n",
      "Относительный прирост среднего чека группы B =  28.39 %\n"
     ]
    }
   ],
   "source": [
    "print('P-value равно','{0:.3f}'.format(stats.mannwhitneyu(orders[orders['group']=='A']['revenue'],\n",
    "                                                          orders[orders['group']=='B']['revenue'],\n",
    "                                                         alternative='two-sided')[1]))\n",
    "print('Относительный прирост среднего чека группы B = ',\n",
    "      '{0:.2f}'.format((orders[orders['group']=='B']['revenue'].mean()/\n",
    "                       orders[orders['group']=='A']['revenue'].mean()-1)*100),'%')"
   ]
  },
  {
   "cell_type": "markdown",
   "metadata": {},
   "source": [
    "### Вывод по статистической значимости различий в среднем чеке между группами по «сырым» данным.\n",
    "P-value выше 0.05. Значит мы подтверждаем Нулевую гипотезу и заявляем, что между группами нет статически значимых различий. И Относительный прирост среднего чека группы B к конверсии группы А примерно равен 26%, что весьма странно. Предположительно на это сильно повлиял тот большой выброс, который мы наблюдали на графике."
   ]
  },
  {
   "cell_type": "markdown",
   "metadata": {},
   "source": [
    "\n",
    "Для подготовки анализа очищенных данных сначала сделаем список с аномальными пользователями и заказами\n"
   ]
  },
  {
   "cell_type": "code",
   "execution_count": 44,
   "metadata": {},
   "outputs": [],
   "source": [
    "## Аномалии\n",
    "usersWithManyOrders = pd.concat(\n",
    "    [\n",
    "        ordersByUsersA[ordersByUsersA['orders'] > 2]['user_id'],\n",
    "        ordersByUsersB[ordersByUsersB['orders'] > 2]['user_id'],\n",
    "    ],\n",
    "    axis=0,\n",
    ")\n",
    "usersWithExpensiveOrders = orders[orders['revenue'] > 10000]['visitor_id']\n",
    "abnormalUsers = (\n",
    "    pd.concat([usersWithManyOrders, usersWithExpensiveOrders], axis=0)\n",
    "    .drop_duplicates()\n",
    "    .sort_values()\n",
    ")"
   ]
  },
  {
   "cell_type": "code",
   "execution_count": 45,
   "metadata": {},
   "outputs": [],
   "source": [
    "## Фильтруем для подсчета конверсии\n",
    "sampleAFiltered = pd.concat(\n",
    "    [\n",
    "        ordersByUsersA[\n",
    "            np.logical_not(ordersByUsersA['user_id'].isin(abnormalUsers))\n",
    "        ]['orders'],\n",
    "        pd.Series(\n",
    "            0,\n",
    "            index=np.arange(\n",
    "                total['visitorsPerDateA'].sum() - len(ordersByUsersA['orders'])\n",
    "            ),\n",
    "            name='orders',\n",
    "        ),\n",
    "    ],\n",
    "    axis=0,\n",
    ")\n",
    "\n",
    "sampleBFiltered = pd.concat(\n",
    "    [\n",
    "        ordersByUsersB[\n",
    "            np.logical_not(ordersByUsersB['user_id'].isin(abnormalUsers))\n",
    "        ]['orders'],\n",
    "        pd.Series(\n",
    "            0,\n",
    "            index=np.arange(\n",
    "                total['visitorsPerDateB'].sum() - len(ordersByUsersB['orders'])\n",
    "            ),\n",
    "            name='orders',\n",
    "        ),\n",
    "    ],\n",
    "    axis=0,\n",
    ")"
   ]
  },
  {
   "cell_type": "code",
   "execution_count": 46,
   "metadata": {},
   "outputs": [
    {
     "name": "stdout",
     "output_type": "stream",
     "text": [
      "P-value равно 0.00009\n",
      "Относительный прирост конверсии группы В к конверсии группы А в процентах =  32.90 %\n"
     ]
    }
   ],
   "source": [
    "print('P-value равно','{0:.5f}'.format(stats.mannwhitneyu(sampleAFiltered, sampleBFiltered,alternative='two-sided')[1]))\n",
    "print('Относительный прирост конверсии группы В к конверсии группы А в процентах = ',\n",
    "      '{0:.2f}'.format((sampleBFiltered.mean()/sampleAFiltered.mean()-1)*100),'%')"
   ]
  },
  {
   "cell_type": "markdown",
   "metadata": {},
   "source": [
    "### Вывод по статистической значимости различий в конверсии между группами по «очищенным» данным.\n",
    "P-value ниже общепринятых 0.05. Значит мы отвергаем Нулевую гипотезу и заявляем, что между группами есть статически значимые различия, как и в случае с сырыми даннами и Относительный прирост конверсии группы В к конверсии группы А изменился и примерно равен 20%. Конверсия не сильно зависела от аномалий и выбросов. По конверсии можно сделать вывод, что группа В лучше"
   ]
  },
  {
   "cell_type": "code",
   "execution_count": 47,
   "metadata": {},
   "outputs": [
    {
     "name": "stdout",
     "output_type": "stream",
     "text": [
      "P-value равно 0.729\n",
      "Относительный прирост среднего чека группы B =  1.48 %\n"
     ]
    }
   ],
   "source": [
    "print(\n",
    "    'P-value равно',\n",
    "    '{0:.3f}'.format(\n",
    "        stats.mannwhitneyu(\n",
    "            orders[\n",
    "                np.logical_and(\n",
    "                    orders['group'] == 'A',\n",
    "                    np.logical_not(orders['visitor_id'].isin(abnormalUsers)),\n",
    "                )\n",
    "            ]['revenue'],\n",
    "            orders[\n",
    "                np.logical_and(\n",
    "                    orders['group'] == 'B',\n",
    "                    np.logical_not(orders['visitor_id'].isin(abnormalUsers)),\n",
    "                )\n",
    "            ]['revenue'],\n",
    "        )[1]\n",
    "    )\n",
    ")\n",
    "\n",
    "print(\n",
    "    'Относительный прирост среднего чека группы B = ',\n",
    "    \"{0:.2f}\".format((\n",
    "        orders[\n",
    "            np.logical_and(\n",
    "                orders['group'] == 'B',\n",
    "                np.logical_not(orders['visitor_id'].isin(abnormalUsers)),\n",
    "            )\n",
    "        ]['revenue'].mean()\n",
    "        / orders[\n",
    "            np.logical_and(\n",
    "                orders['group'] == 'A',\n",
    "                np.logical_not(orders['visitor_id'].isin(abnormalUsers)),\n",
    "            )\n",
    "        ]['revenue'].mean()- 1)*100),'%') "
   ]
  },
  {
   "cell_type": "markdown",
   "metadata": {},
   "source": [
    "### Вывод по статистической значимости различий в среднем чеке между группами по «очищенным» данным.\n",
    "P-value выше 0.05. Значит мы подтверждаем Нулевую гипотезу и заявляем, что между группами нет статически значимых различий. И Относительный прирост среднего чека группы B к конверсии группы А уменьшился и его практически нет. Разницу в чеке при анализе сырых данных давали аномалии."
   ]
  },
  {
   "cell_type": "markdown",
   "metadata": {},
   "source": [
    "## Общий вывод\n",
    "Исходя из анализа А/В теста можно утверждать следующее:  \n",
    "1) Есть статистически значимое различие по конверсии между группами как по сырым данным, так и после фильтрации аномалий.  \n",
    "2) По сырым и очищенным данным нет статистически значимого различия по среднему чеку между группами.   \n",
    "3) График различия конверсии между группами сообщает, что результаты группы B лучше группы A: имеют тенденцию к росту, либо зафиксировались около среднего значения.  \n",
    "4) График кумулятивного среднего чека по группам показал  нам на Аномалию. Этот всплеск был отчетливо виден\n",
    "\n",
    "Исходя из вышесказанного: нужно остановить тест и признать его успешным. Хоть и средний чек не изменился, но возросла конверсия, а это значит увеличилось кол-во покупателей следовательно и прибыль кампании, также следует учитывать, что с увелечением кол-ва покупателей может лучше заработать эффект сарафанного радио и увеличит органический приток пользоватлей."
   ]
  }
 ],
 "metadata": {
  "ExecuteTimeLog": [
   {
    "duration": 1082,
    "start_time": "2022-01-23T08:36:49.851Z"
   },
   {
    "duration": 99,
    "start_time": "2022-01-23T08:36:51.849Z"
   },
   {
    "duration": 15,
    "start_time": "2022-01-23T08:36:58.137Z"
   },
   {
    "duration": 10,
    "start_time": "2022-01-23T08:37:22.987Z"
   },
   {
    "duration": 10,
    "start_time": "2022-01-23T08:37:33.304Z"
   },
   {
    "duration": 1611,
    "start_time": "2022-01-23T17:05:55.671Z"
   },
   {
    "duration": 40,
    "start_time": "2022-01-23T17:06:02.569Z"
   },
   {
    "duration": 18,
    "start_time": "2022-01-23T17:06:03.596Z"
   },
   {
    "duration": 4,
    "start_time": "2022-01-23T17:06:06.961Z"
   },
   {
    "duration": 5,
    "start_time": "2022-01-23T17:06:13.953Z"
   },
   {
    "duration": 8,
    "start_time": "2022-01-23T17:12:19.937Z"
   },
   {
    "duration": 12,
    "start_time": "2022-01-23T17:13:28.937Z"
   },
   {
    "duration": 122,
    "start_time": "2022-01-23T17:13:43.336Z"
   },
   {
    "duration": 14,
    "start_time": "2022-01-23T17:13:47.560Z"
   },
   {
    "duration": 6,
    "start_time": "2022-01-23T17:14:37.301Z"
   },
   {
    "duration": 15,
    "start_time": "2022-01-23T17:14:38.385Z"
   },
   {
    "duration": 18,
    "start_time": "2022-01-23T17:18:33.275Z"
   },
   {
    "duration": 53,
    "start_time": "2022-01-23T17:35:45.136Z"
   },
   {
    "duration": 19,
    "start_time": "2022-01-23T17:35:58.934Z"
   },
   {
    "duration": 218,
    "start_time": "2022-01-24T08:28:10.752Z"
   },
   {
    "duration": 1131,
    "start_time": "2022-01-24T08:28:15.307Z"
   },
   {
    "duration": 18,
    "start_time": "2022-01-24T08:28:16.440Z"
   },
   {
    "duration": 11,
    "start_time": "2022-01-24T08:28:16.460Z"
   },
   {
    "duration": 5,
    "start_time": "2022-01-24T08:28:16.473Z"
   },
   {
    "duration": 10,
    "start_time": "2022-01-24T08:28:16.480Z"
   },
   {
    "duration": 12,
    "start_time": "2022-01-24T08:28:16.497Z"
   },
   {
    "duration": 11,
    "start_time": "2022-01-24T08:28:16.511Z"
   },
   {
    "duration": 50,
    "start_time": "2022-01-24T08:28:16.524Z"
   },
   {
    "duration": 11,
    "start_time": "2022-01-24T08:28:16.576Z"
   },
   {
    "duration": 9,
    "start_time": "2022-01-24T08:28:16.589Z"
   },
   {
    "duration": 11,
    "start_time": "2022-01-24T08:28:26.518Z"
   },
   {
    "duration": 9,
    "start_time": "2022-01-24T08:30:54.189Z"
   },
   {
    "duration": 374,
    "start_time": "2022-01-24T20:05:35.529Z"
   },
   {
    "duration": 1123,
    "start_time": "2022-01-24T20:05:46.108Z"
   },
   {
    "duration": 35,
    "start_time": "2022-01-24T20:05:47.233Z"
   },
   {
    "duration": 9,
    "start_time": "2022-01-24T20:05:47.270Z"
   },
   {
    "duration": 14,
    "start_time": "2022-01-24T20:05:47.281Z"
   },
   {
    "duration": 18,
    "start_time": "2022-01-24T20:05:47.297Z"
   },
   {
    "duration": 16,
    "start_time": "2022-01-24T20:05:47.316Z"
   },
   {
    "duration": 14,
    "start_time": "2022-01-24T20:05:47.334Z"
   },
   {
    "duration": 83,
    "start_time": "2022-01-24T20:05:47.350Z"
   },
   {
    "duration": 6,
    "start_time": "2022-01-24T20:05:47.435Z"
   },
   {
    "duration": 22,
    "start_time": "2022-01-24T20:05:47.443Z"
   },
   {
    "duration": 162,
    "start_time": "2022-01-24T20:05:47.467Z"
   },
   {
    "duration": 142,
    "start_time": "2022-01-24T20:05:47.630Z"
   },
   {
    "duration": 4,
    "start_time": "2022-01-24T20:08:38.958Z"
   },
   {
    "duration": 8,
    "start_time": "2022-01-24T20:08:41.008Z"
   },
   {
    "duration": 159,
    "start_time": "2022-01-24T20:08:50.132Z"
   },
   {
    "duration": 143,
    "start_time": "2022-01-24T20:09:01.758Z"
   },
   {
    "duration": 239,
    "start_time": "2022-01-24T20:13:53.515Z"
   },
   {
    "duration": 4,
    "start_time": "2022-01-24T20:16:13.412Z"
   },
   {
    "duration": 181,
    "start_time": "2022-01-24T20:16:28.648Z"
   },
   {
    "duration": 136,
    "start_time": "2022-01-24T20:16:34.348Z"
   },
   {
    "duration": 529,
    "start_time": "2022-01-24T20:16:50.468Z"
   },
   {
    "duration": 143,
    "start_time": "2022-01-24T20:17:16.935Z"
   },
   {
    "duration": 210,
    "start_time": "2022-01-24T20:17:34.878Z"
   },
   {
    "duration": 377,
    "start_time": "2022-01-24T20:17:44.534Z"
   },
   {
    "duration": 348,
    "start_time": "2022-01-24T20:18:23.372Z"
   },
   {
    "duration": 325,
    "start_time": "2022-01-24T20:18:30.971Z"
   },
   {
    "duration": 366,
    "start_time": "2022-01-24T20:18:35.800Z"
   },
   {
    "duration": 355,
    "start_time": "2022-01-24T20:18:43.739Z"
   },
   {
    "duration": 351,
    "start_time": "2022-01-24T20:18:53.607Z"
   },
   {
    "duration": 933,
    "start_time": "2022-01-24T20:20:06.334Z"
   },
   {
    "duration": 5,
    "start_time": "2022-01-24T20:20:14.705Z"
   },
   {
    "duration": 6,
    "start_time": "2022-01-24T20:20:35.935Z"
   },
   {
    "duration": 6,
    "start_time": "2022-01-24T20:20:51.750Z"
   },
   {
    "duration": 11,
    "start_time": "2022-01-24T20:23:08.584Z"
   },
   {
    "duration": 350,
    "start_time": "2022-01-24T20:30:16.566Z"
   },
   {
    "duration": 333,
    "start_time": "2022-01-24T20:30:20.634Z"
   },
   {
    "duration": 394,
    "start_time": "2022-01-24T20:30:30.180Z"
   },
   {
    "duration": 328,
    "start_time": "2022-01-24T20:30:57.274Z"
   },
   {
    "duration": 6,
    "start_time": "2022-01-24T20:31:19.423Z"
   },
   {
    "duration": 9,
    "start_time": "2022-01-24T20:31:48.895Z"
   },
   {
    "duration": 10,
    "start_time": "2022-01-24T20:32:25.753Z"
   },
   {
    "duration": 6,
    "start_time": "2022-01-24T20:35:24.599Z"
   },
   {
    "duration": 9,
    "start_time": "2022-01-24T20:35:47.859Z"
   },
   {
    "duration": 9,
    "start_time": "2022-01-24T20:40:33.188Z"
   },
   {
    "duration": 10,
    "start_time": "2022-01-24T20:43:07.358Z"
   },
   {
    "duration": 9,
    "start_time": "2022-01-24T20:44:03.922Z"
   },
   {
    "duration": 361,
    "start_time": "2022-01-24T21:09:29.644Z"
   },
   {
    "duration": 390,
    "start_time": "2022-01-24T21:11:16.018Z"
   },
   {
    "duration": 384,
    "start_time": "2022-01-24T21:11:38.919Z"
   },
   {
    "duration": 391,
    "start_time": "2022-01-24T21:11:46.625Z"
   },
   {
    "duration": 389,
    "start_time": "2022-01-24T21:11:53.260Z"
   },
   {
    "duration": 446,
    "start_time": "2022-01-24T21:12:04.050Z"
   },
   {
    "duration": 290,
    "start_time": "2022-01-24T21:12:21.820Z"
   },
   {
    "duration": 252,
    "start_time": "2022-01-24T21:12:30.477Z"
   },
   {
    "duration": 253,
    "start_time": "2022-01-24T21:12:38.062Z"
   },
   {
    "duration": 248,
    "start_time": "2022-01-24T21:12:44.752Z"
   },
   {
    "duration": 253,
    "start_time": "2022-01-24T21:13:27.293Z"
   },
   {
    "duration": 254,
    "start_time": "2022-01-24T21:13:40.171Z"
   },
   {
    "duration": 256,
    "start_time": "2022-01-24T21:14:03.267Z"
   },
   {
    "duration": 249,
    "start_time": "2022-01-24T21:15:30.865Z"
   },
   {
    "duration": 254,
    "start_time": "2022-01-24T21:17:47.934Z"
   },
   {
    "duration": 279,
    "start_time": "2022-01-25T20:31:14.092Z"
   },
   {
    "duration": 1493,
    "start_time": "2022-01-25T20:31:21.055Z"
   },
   {
    "duration": 36,
    "start_time": "2022-01-25T20:31:22.551Z"
   },
   {
    "duration": 16,
    "start_time": "2022-01-25T20:31:22.594Z"
   },
   {
    "duration": 6,
    "start_time": "2022-01-25T20:31:22.612Z"
   },
   {
    "duration": 18,
    "start_time": "2022-01-25T20:31:22.621Z"
   },
   {
    "duration": 17,
    "start_time": "2022-01-25T20:31:22.642Z"
   },
   {
    "duration": 23,
    "start_time": "2022-01-25T20:31:22.661Z"
   },
   {
    "duration": 90,
    "start_time": "2022-01-25T20:31:22.690Z"
   },
   {
    "duration": 20,
    "start_time": "2022-01-25T20:31:22.784Z"
   },
   {
    "duration": 13,
    "start_time": "2022-01-25T20:31:22.806Z"
   },
   {
    "duration": 24,
    "start_time": "2022-01-25T20:31:22.822Z"
   },
   {
    "duration": 349,
    "start_time": "2022-01-25T20:31:22.849Z"
   },
   {
    "duration": 14,
    "start_time": "2022-01-25T20:31:23.200Z"
   },
   {
    "duration": 292,
    "start_time": "2022-01-25T20:31:23.216Z"
   },
   {
    "duration": 27,
    "start_time": "2022-01-25T20:31:23.510Z"
   },
   {
    "duration": 882,
    "start_time": "2022-01-25T20:31:23.539Z"
   },
   {
    "duration": 504,
    "start_time": "2022-01-25T20:31:24.424Z"
   },
   {
    "duration": 13,
    "start_time": "2022-01-25T20:31:24.933Z"
   },
   {
    "duration": 73,
    "start_time": "2022-01-25T20:32:37.324Z"
   },
   {
    "duration": 414,
    "start_time": "2022-01-25T20:32:46.908Z"
   },
   {
    "duration": 458,
    "start_time": "2022-01-25T20:33:42.957Z"
   },
   {
    "duration": 588,
    "start_time": "2022-01-25T20:33:58.628Z"
   },
   {
    "duration": 651,
    "start_time": "2022-01-25T20:34:43.844Z"
   },
   {
    "duration": 837,
    "start_time": "2022-01-25T20:34:53.188Z"
   },
   {
    "duration": 735,
    "start_time": "2022-01-25T20:35:00.855Z"
   },
   {
    "duration": 78,
    "start_time": "2022-01-25T20:40:23.282Z"
   },
   {
    "duration": 5,
    "start_time": "2022-01-25T20:40:28.252Z"
   },
   {
    "duration": 905,
    "start_time": "2022-01-25T20:42:17.831Z"
   },
   {
    "duration": 10,
    "start_time": "2022-01-25T20:42:29.345Z"
   },
   {
    "duration": 557,
    "start_time": "2022-01-25T20:42:30.055Z"
   },
   {
    "duration": 522,
    "start_time": "2022-01-25T20:48:37.587Z"
   },
   {
    "duration": 568,
    "start_time": "2022-01-25T20:48:56.045Z"
   },
   {
    "duration": 86,
    "start_time": "2022-01-25T20:53:07.323Z"
   },
   {
    "duration": 84,
    "start_time": "2022-01-25T20:53:25.753Z"
   },
   {
    "duration": 79,
    "start_time": "2022-01-25T20:53:35.213Z"
   },
   {
    "duration": 85,
    "start_time": "2022-01-25T20:53:51.793Z"
   },
   {
    "duration": 74,
    "start_time": "2022-01-25T20:54:02.502Z"
   },
   {
    "duration": 11,
    "start_time": "2022-01-25T20:54:15.366Z"
   },
   {
    "duration": 583,
    "start_time": "2022-01-25T20:55:14.904Z"
   },
   {
    "duration": 738,
    "start_time": "2022-01-25T20:55:25.679Z"
   },
   {
    "duration": 788,
    "start_time": "2022-01-25T20:57:08.594Z"
   },
   {
    "duration": 261,
    "start_time": "2022-01-25T21:01:06.527Z"
   },
   {
    "duration": 216,
    "start_time": "2022-01-25T21:02:57.193Z"
   },
   {
    "duration": 525,
    "start_time": "2022-01-25T21:03:33.048Z"
   },
   {
    "duration": 251,
    "start_time": "2022-01-25T21:04:06.515Z"
   },
   {
    "duration": 5870,
    "start_time": "2022-01-25T21:04:37.815Z"
   },
   {
    "duration": 484,
    "start_time": "2022-01-25T21:05:11.802Z"
   },
   {
    "duration": 4459,
    "start_time": "2022-01-25T21:06:34.912Z"
   },
   {
    "duration": 947,
    "start_time": "2022-01-25T21:06:54.157Z"
   },
   {
    "duration": 781,
    "start_time": "2022-01-25T21:07:07.242Z"
   },
   {
    "duration": 605,
    "start_time": "2022-01-25T21:07:18.127Z"
   },
   {
    "duration": 104,
    "start_time": "2022-01-25T21:10:34.622Z"
   },
   {
    "duration": 7,
    "start_time": "2022-01-25T21:10:39.863Z"
   },
   {
    "duration": 7,
    "start_time": "2022-01-25T21:11:12.166Z"
   },
   {
    "duration": 82,
    "start_time": "2022-01-25T21:12:08.147Z"
   },
   {
    "duration": 83,
    "start_time": "2022-01-25T21:12:29.230Z"
   },
   {
    "duration": 233,
    "start_time": "2022-01-25T21:12:58.202Z"
   },
   {
    "duration": 8,
    "start_time": "2022-01-25T21:13:05.044Z"
   },
   {
    "duration": 401,
    "start_time": "2022-01-25T21:13:24.829Z"
   },
   {
    "duration": 7,
    "start_time": "2022-01-25T21:13:36.696Z"
   },
   {
    "duration": 77,
    "start_time": "2022-01-25T21:14:06.126Z"
   },
   {
    "duration": 109,
    "start_time": "2022-01-25T21:14:09.656Z"
   },
   {
    "duration": 244,
    "start_time": "2022-01-25T21:14:16.056Z"
   },
   {
    "duration": 256,
    "start_time": "2022-01-25T21:14:56.021Z"
   },
   {
    "duration": 5,
    "start_time": "2022-01-25T21:15:27.125Z"
   },
   {
    "duration": 7,
    "start_time": "2022-01-25T21:15:31.948Z"
   },
   {
    "duration": 6,
    "start_time": "2022-01-25T21:15:51.342Z"
   },
   {
    "duration": 7,
    "start_time": "2022-01-25T21:16:05.404Z"
   },
   {
    "duration": 1288,
    "start_time": "2022-01-26T08:37:51.585Z"
   },
   {
    "duration": 18,
    "start_time": "2022-01-26T08:37:52.876Z"
   },
   {
    "duration": 12,
    "start_time": "2022-01-26T08:37:52.896Z"
   },
   {
    "duration": 13,
    "start_time": "2022-01-26T08:37:52.910Z"
   },
   {
    "duration": 16,
    "start_time": "2022-01-26T08:37:52.925Z"
   },
   {
    "duration": 15,
    "start_time": "2022-01-26T08:37:52.943Z"
   },
   {
    "duration": 19,
    "start_time": "2022-01-26T08:37:52.960Z"
   },
   {
    "duration": 59,
    "start_time": "2022-01-26T08:37:52.981Z"
   },
   {
    "duration": 13,
    "start_time": "2022-01-26T08:37:53.043Z"
   },
   {
    "duration": 13,
    "start_time": "2022-01-26T08:37:53.058Z"
   },
   {
    "duration": 22,
    "start_time": "2022-01-26T08:37:53.073Z"
   },
   {
    "duration": 209,
    "start_time": "2022-01-26T08:37:53.097Z"
   },
   {
    "duration": 13,
    "start_time": "2022-01-26T08:37:53.308Z"
   },
   {
    "duration": 184,
    "start_time": "2022-01-26T08:37:53.323Z"
   },
   {
    "duration": 12,
    "start_time": "2022-01-26T08:37:53.509Z"
   },
   {
    "duration": 329,
    "start_time": "2022-01-26T08:37:53.523Z"
   },
   {
    "duration": 325,
    "start_time": "2022-01-26T08:37:53.854Z"
   },
   {
    "duration": 7,
    "start_time": "2022-01-26T08:37:54.181Z"
   },
   {
    "duration": 543,
    "start_time": "2022-01-26T08:37:54.191Z"
   },
   {
    "duration": 8,
    "start_time": "2022-01-26T08:37:54.736Z"
   },
   {
    "duration": 333,
    "start_time": "2022-01-26T08:37:54.746Z"
   },
   {
    "duration": 11,
    "start_time": "2022-01-26T08:37:55.081Z"
   },
   {
    "duration": 528,
    "start_time": "2022-01-26T08:37:55.108Z"
   },
   {
    "duration": 122,
    "start_time": "2022-01-26T08:37:55.638Z"
   },
   {
    "duration": 402,
    "start_time": "2022-01-26T08:37:55.762Z"
   },
   {
    "duration": 6,
    "start_time": "2022-01-26T08:37:56.166Z"
   },
   {
    "duration": 497,
    "start_time": "2022-01-26T08:37:56.175Z"
   },
   {
    "duration": 454,
    "start_time": "2022-01-26T08:38:54.385Z"
   },
   {
    "duration": 6,
    "start_time": "2022-01-26T08:40:23.155Z"
   },
   {
    "duration": 6,
    "start_time": "2022-01-26T08:41:24.447Z"
   },
   {
    "duration": 520,
    "start_time": "2022-01-26T10:46:26.973Z"
   },
   {
    "duration": 1564,
    "start_time": "2022-01-26T10:46:33.125Z"
   },
   {
    "duration": 18,
    "start_time": "2022-01-26T10:46:34.691Z"
   },
   {
    "duration": 15,
    "start_time": "2022-01-26T10:46:34.712Z"
   },
   {
    "duration": 7,
    "start_time": "2022-01-26T10:46:34.729Z"
   },
   {
    "duration": 21,
    "start_time": "2022-01-26T10:46:34.738Z"
   },
   {
    "duration": 17,
    "start_time": "2022-01-26T10:46:34.762Z"
   },
   {
    "duration": 17,
    "start_time": "2022-01-26T10:46:34.781Z"
   },
   {
    "duration": 53,
    "start_time": "2022-01-26T10:46:34.800Z"
   },
   {
    "duration": 23,
    "start_time": "2022-01-26T10:46:34.857Z"
   },
   {
    "duration": 6,
    "start_time": "2022-01-26T10:46:34.885Z"
   },
   {
    "duration": 15,
    "start_time": "2022-01-26T10:46:34.893Z"
   },
   {
    "duration": 378,
    "start_time": "2022-01-26T10:46:34.910Z"
   },
   {
    "duration": 15,
    "start_time": "2022-01-26T10:46:35.290Z"
   },
   {
    "duration": 283,
    "start_time": "2022-01-26T10:46:35.307Z"
   },
   {
    "duration": 15,
    "start_time": "2022-01-26T10:46:35.592Z"
   },
   {
    "duration": 549,
    "start_time": "2022-01-26T10:46:35.610Z"
   },
   {
    "duration": 498,
    "start_time": "2022-01-26T10:46:36.172Z"
   },
   {
    "duration": 12,
    "start_time": "2022-01-26T10:46:36.673Z"
   },
   {
    "duration": 836,
    "start_time": "2022-01-26T10:46:36.688Z"
   },
   {
    "duration": 9,
    "start_time": "2022-01-26T10:46:37.526Z"
   },
   {
    "duration": 522,
    "start_time": "2022-01-26T10:46:37.537Z"
   },
   {
    "duration": 13,
    "start_time": "2022-01-26T10:46:38.062Z"
   },
   {
    "duration": 743,
    "start_time": "2022-01-26T10:46:38.078Z"
   },
   {
    "duration": 203,
    "start_time": "2022-01-26T10:46:38.824Z"
   },
   {
    "duration": 611,
    "start_time": "2022-01-26T10:46:39.030Z"
   },
   {
    "duration": 6,
    "start_time": "2022-01-26T10:46:39.644Z"
   },
   {
    "duration": 721,
    "start_time": "2022-01-26T10:46:39.668Z"
   },
   {
    "duration": 6,
    "start_time": "2022-01-26T10:46:40.392Z"
   },
   {
    "duration": 16,
    "start_time": "2022-01-26T10:46:40.400Z"
   },
   {
    "duration": 9,
    "start_time": "2022-01-26T10:47:28.335Z"
   },
   {
    "duration": 110,
    "start_time": "2022-01-26T10:50:49.514Z"
   },
   {
    "duration": 621,
    "start_time": "2022-01-26T10:53:31.072Z"
   },
   {
    "duration": 25,
    "start_time": "2022-01-26T11:04:21.855Z"
   },
   {
    "duration": 10503,
    "start_time": "2022-01-26T11:04:47.486Z"
   },
   {
    "duration": 220,
    "start_time": "2022-01-26T11:05:28.568Z"
   },
   {
    "duration": 416,
    "start_time": "2022-01-26T11:09:29.072Z"
   },
   {
    "duration": 453,
    "start_time": "2022-01-26T11:10:08.069Z"
   },
   {
    "duration": 454,
    "start_time": "2022-01-26T11:19:54.299Z"
   },
   {
    "duration": 227,
    "start_time": "2022-01-26T11:21:08.001Z"
   },
   {
    "duration": 177,
    "start_time": "2022-01-26T11:21:15.346Z"
   },
   {
    "duration": 129,
    "start_time": "2022-01-26T11:21:23.513Z"
   },
   {
    "duration": 368,
    "start_time": "2022-01-26T11:21:41.650Z"
   },
   {
    "duration": 6,
    "start_time": "2022-01-26T11:22:06.081Z"
   },
   {
    "duration": 9,
    "start_time": "2022-01-26T11:22:09.978Z"
   },
   {
    "duration": 10,
    "start_time": "2022-01-26T11:23:30.215Z"
   },
   {
    "duration": 126,
    "start_time": "2022-01-26T11:23:42.231Z"
   },
   {
    "duration": 122,
    "start_time": "2022-01-26T11:23:53.239Z"
   },
   {
    "duration": 129,
    "start_time": "2022-01-26T11:23:58.872Z"
   },
   {
    "duration": 375,
    "start_time": "2022-01-26T11:24:21.112Z"
   },
   {
    "duration": 8,
    "start_time": "2022-01-26T11:24:41.664Z"
   },
   {
    "duration": 151,
    "start_time": "2022-01-26T11:26:05.630Z"
   },
   {
    "duration": 8,
    "start_time": "2022-01-26T11:26:15.733Z"
   },
   {
    "duration": 12,
    "start_time": "2022-01-26T11:27:02.557Z"
   },
   {
    "duration": 10,
    "start_time": "2022-01-26T11:27:32.285Z"
   },
   {
    "duration": 378,
    "start_time": "2022-01-26T11:28:33.701Z"
   },
   {
    "duration": 12,
    "start_time": "2022-01-26T11:28:41.771Z"
   },
   {
    "duration": 12,
    "start_time": "2022-01-26T11:28:50.692Z"
   },
   {
    "duration": 407,
    "start_time": "2022-01-26T11:29:40.539Z"
   },
   {
    "duration": 10,
    "start_time": "2022-01-26T11:29:47.531Z"
   },
   {
    "duration": 10,
    "start_time": "2022-01-26T11:31:00.851Z"
   },
   {
    "duration": 10,
    "start_time": "2022-01-26T11:32:35.249Z"
   },
   {
    "duration": 18,
    "start_time": "2022-01-26T11:33:06.019Z"
   },
   {
    "duration": 11,
    "start_time": "2022-01-26T11:33:12.048Z"
   },
   {
    "duration": 10,
    "start_time": "2022-01-26T11:33:32.512Z"
   },
   {
    "duration": 12,
    "start_time": "2022-01-26T11:33:46.047Z"
   },
   {
    "duration": 12,
    "start_time": "2022-01-26T12:14:43.727Z"
   },
   {
    "duration": 14,
    "start_time": "2022-01-26T12:21:29.756Z"
   },
   {
    "duration": 15,
    "start_time": "2022-01-26T12:22:30.363Z"
   },
   {
    "duration": 124,
    "start_time": "2022-01-26T12:23:32.682Z"
   },
   {
    "duration": 129,
    "start_time": "2022-01-26T12:24:07.874Z"
   },
   {
    "duration": 15,
    "start_time": "2022-01-26T12:24:17.697Z"
   },
   {
    "duration": 15,
    "start_time": "2022-01-26T12:24:25.177Z"
   },
   {
    "duration": 10796,
    "start_time": "2022-01-26T12:31:19.025Z"
   },
   {
    "duration": 233,
    "start_time": "2022-01-26T12:32:03.090Z"
   },
   {
    "duration": 9971,
    "start_time": "2022-01-26T12:32:09.147Z"
   },
   {
    "duration": 12,
    "start_time": "2022-01-26T12:32:38.457Z"
   },
   {
    "duration": 5167,
    "start_time": "2022-01-26T12:33:04.241Z"
   },
   {
    "duration": 548,
    "start_time": "2022-01-26T12:33:30.064Z"
   },
   {
    "duration": 12,
    "start_time": "2022-01-26T12:33:47.409Z"
   },
   {
    "duration": 9,
    "start_time": "2022-01-26T12:33:58.383Z"
   },
   {
    "duration": 11,
    "start_time": "2022-01-26T12:36:54.685Z"
   },
   {
    "duration": 136,
    "start_time": "2022-01-26T12:37:46.982Z"
   },
   {
    "duration": 10,
    "start_time": "2022-01-26T12:37:56.828Z"
   },
   {
    "duration": 10,
    "start_time": "2022-01-26T12:38:19.124Z"
   },
   {
    "duration": 7,
    "start_time": "2022-01-26T12:41:20.195Z"
   },
   {
    "duration": 9439,
    "start_time": "2022-01-26T12:42:40.361Z"
   },
   {
    "duration": 21,
    "start_time": "2022-01-26T12:43:13.753Z"
   },
   {
    "duration": 27,
    "start_time": "2022-01-26T12:51:36.776Z"
   },
   {
    "duration": 126,
    "start_time": "2022-01-26T12:52:16.859Z"
   },
   {
    "duration": 22,
    "start_time": "2022-01-26T12:52:25.234Z"
   },
   {
    "duration": 22,
    "start_time": "2022-01-26T12:52:47.226Z"
   },
   {
    "duration": 21,
    "start_time": "2022-01-26T12:53:16.585Z"
   },
   {
    "duration": 127,
    "start_time": "2022-01-26T13:02:25.243Z"
   },
   {
    "duration": 659,
    "start_time": "2022-01-26T13:03:05.123Z"
   },
   {
    "duration": 1513,
    "start_time": "2022-01-27T07:03:36.930Z"
   },
   {
    "duration": 15,
    "start_time": "2022-01-27T07:03:38.446Z"
   },
   {
    "duration": 16,
    "start_time": "2022-01-27T07:03:38.464Z"
   },
   {
    "duration": 20,
    "start_time": "2022-01-27T07:03:38.484Z"
   },
   {
    "duration": 26,
    "start_time": "2022-01-27T07:03:38.507Z"
   },
   {
    "duration": 19,
    "start_time": "2022-01-27T07:03:38.536Z"
   },
   {
    "duration": 19,
    "start_time": "2022-01-27T07:03:38.558Z"
   },
   {
    "duration": 47,
    "start_time": "2022-01-27T07:03:38.581Z"
   },
   {
    "duration": 19,
    "start_time": "2022-01-27T07:03:38.630Z"
   },
   {
    "duration": 8,
    "start_time": "2022-01-27T07:03:38.652Z"
   },
   {
    "duration": 18,
    "start_time": "2022-01-27T07:03:38.662Z"
   },
   {
    "duration": 427,
    "start_time": "2022-01-27T07:03:38.683Z"
   },
   {
    "duration": 24,
    "start_time": "2022-01-27T07:03:39.112Z"
   },
   {
    "duration": 270,
    "start_time": "2022-01-27T07:03:39.138Z"
   },
   {
    "duration": 24,
    "start_time": "2022-01-27T07:03:39.411Z"
   },
   {
    "duration": 488,
    "start_time": "2022-01-27T07:03:39.438Z"
   },
   {
    "duration": 503,
    "start_time": "2022-01-27T07:03:39.932Z"
   },
   {
    "duration": 9,
    "start_time": "2022-01-27T07:03:40.437Z"
   },
   {
    "duration": 707,
    "start_time": "2022-01-27T07:03:40.448Z"
   },
   {
    "duration": 8,
    "start_time": "2022-01-27T07:03:41.157Z"
   },
   {
    "duration": 476,
    "start_time": "2022-01-27T07:03:41.168Z"
   },
   {
    "duration": 12,
    "start_time": "2022-01-27T07:03:41.647Z"
   },
   {
    "duration": 736,
    "start_time": "2022-01-27T07:03:41.666Z"
   },
   {
    "duration": 187,
    "start_time": "2022-01-27T07:03:42.404Z"
   },
   {
    "duration": 603,
    "start_time": "2022-01-27T07:03:42.593Z"
   },
   {
    "duration": 8,
    "start_time": "2022-01-27T07:03:43.198Z"
   },
   {
    "duration": 607,
    "start_time": "2022-01-27T07:03:43.209Z"
   },
   {
    "duration": 16,
    "start_time": "2022-01-27T07:03:43.819Z"
   },
   {
    "duration": 22,
    "start_time": "2022-01-27T07:03:43.838Z"
   },
   {
    "duration": 503,
    "start_time": "2022-01-27T07:03:43.863Z"
   },
   {
    "duration": 215,
    "start_time": "2022-01-27T07:03:44.368Z"
   },
   {
    "duration": 10,
    "start_time": "2022-01-27T07:03:44.586Z"
   },
   {
    "duration": 13,
    "start_time": "2022-01-27T07:03:44.599Z"
   },
   {
    "duration": 11,
    "start_time": "2022-01-27T07:03:44.632Z"
   },
   {
    "duration": 13,
    "start_time": "2022-01-27T07:03:44.645Z"
   },
   {
    "duration": 11,
    "start_time": "2022-01-27T07:03:44.660Z"
   },
   {
    "duration": 20,
    "start_time": "2022-01-27T07:03:44.673Z"
   },
   {
    "duration": 7,
    "start_time": "2022-01-27T07:27:50.944Z"
   },
   {
    "duration": 5,
    "start_time": "2022-01-27T07:28:10.291Z"
   },
   {
    "duration": 1655,
    "start_time": "2022-01-27T09:34:09.210Z"
   },
   {
    "duration": 18,
    "start_time": "2022-01-27T09:34:10.868Z"
   },
   {
    "duration": 40,
    "start_time": "2022-01-27T09:34:10.891Z"
   },
   {
    "duration": 13,
    "start_time": "2022-01-27T09:34:10.942Z"
   },
   {
    "duration": 21,
    "start_time": "2022-01-27T09:34:10.958Z"
   },
   {
    "duration": 26,
    "start_time": "2022-01-27T09:34:10.982Z"
   },
   {
    "duration": 33,
    "start_time": "2022-01-27T09:34:11.011Z"
   },
   {
    "duration": 72,
    "start_time": "2022-01-27T09:34:11.051Z"
   },
   {
    "duration": 28,
    "start_time": "2022-01-27T09:34:11.129Z"
   },
   {
    "duration": 14,
    "start_time": "2022-01-27T09:34:11.164Z"
   },
   {
    "duration": 29,
    "start_time": "2022-01-27T09:34:11.181Z"
   },
   {
    "duration": 378,
    "start_time": "2022-01-27T09:34:11.212Z"
   },
   {
    "duration": 17,
    "start_time": "2022-01-27T09:34:11.593Z"
   },
   {
    "duration": 339,
    "start_time": "2022-01-27T09:34:11.612Z"
   },
   {
    "duration": 19,
    "start_time": "2022-01-27T09:34:11.954Z"
   },
   {
    "duration": 673,
    "start_time": "2022-01-27T09:34:11.975Z"
   },
   {
    "duration": 615,
    "start_time": "2022-01-27T09:34:12.650Z"
   },
   {
    "duration": 12,
    "start_time": "2022-01-27T09:34:13.268Z"
   },
   {
    "duration": 890,
    "start_time": "2022-01-27T09:34:13.284Z"
   },
   {
    "duration": 12,
    "start_time": "2022-01-27T09:34:14.178Z"
   },
   {
    "duration": 597,
    "start_time": "2022-01-27T09:34:14.195Z"
   },
   {
    "duration": 5,
    "start_time": "2022-01-27T09:34:14.796Z"
   },
   {
    "duration": 42,
    "start_time": "2022-01-27T09:34:14.805Z"
   },
   {
    "duration": 834,
    "start_time": "2022-01-27T09:34:14.851Z"
   },
   {
    "duration": 229,
    "start_time": "2022-01-27T09:34:15.688Z"
   },
   {
    "duration": 631,
    "start_time": "2022-01-27T09:34:15.920Z"
   },
   {
    "duration": 7,
    "start_time": "2022-01-27T09:34:16.558Z"
   },
   {
    "duration": 769,
    "start_time": "2022-01-27T09:34:16.569Z"
   },
   {
    "duration": 9,
    "start_time": "2022-01-27T09:34:17.341Z"
   },
   {
    "duration": 32,
    "start_time": "2022-01-27T09:34:17.353Z"
   },
   {
    "duration": 478,
    "start_time": "2022-01-27T09:34:17.388Z"
   },
   {
    "duration": 266,
    "start_time": "2022-01-27T09:34:17.869Z"
   },
   {
    "duration": 14,
    "start_time": "2022-01-27T09:34:18.138Z"
   },
   {
    "duration": 24,
    "start_time": "2022-01-27T09:34:18.155Z"
   },
   {
    "duration": 23,
    "start_time": "2022-01-27T09:34:18.183Z"
   },
   {
    "duration": 46,
    "start_time": "2022-01-27T09:34:18.209Z"
   },
   {
    "duration": 20,
    "start_time": "2022-01-27T09:34:18.258Z"
   },
   {
    "duration": 27,
    "start_time": "2022-01-27T09:34:18.281Z"
   },
   {
    "duration": 450,
    "start_time": "2022-01-27T09:36:19.869Z"
   },
   {
    "duration": 1885,
    "start_time": "2022-01-27T09:36:32.902Z"
   },
   {
    "duration": 17,
    "start_time": "2022-01-27T09:36:34.793Z"
   },
   {
    "duration": 31,
    "start_time": "2022-01-27T09:36:34.812Z"
   },
   {
    "duration": 11,
    "start_time": "2022-01-27T09:36:34.846Z"
   },
   {
    "duration": 20,
    "start_time": "2022-01-27T09:36:34.860Z"
   },
   {
    "duration": 24,
    "start_time": "2022-01-27T09:36:34.883Z"
   },
   {
    "duration": 51,
    "start_time": "2022-01-27T09:36:34.911Z"
   },
   {
    "duration": 45,
    "start_time": "2022-01-27T09:36:34.967Z"
   },
   {
    "duration": 25,
    "start_time": "2022-01-27T09:36:35.014Z"
   },
   {
    "duration": 468,
    "start_time": "2022-01-27T09:36:35.042Z"
   },
   {
    "duration": -16,
    "start_time": "2022-01-27T09:36:35.529Z"
   },
   {
    "duration": -29,
    "start_time": "2022-01-27T09:36:35.544Z"
   },
   {
    "duration": -29,
    "start_time": "2022-01-27T09:36:35.546Z"
   },
   {
    "duration": -29,
    "start_time": "2022-01-27T09:36:35.547Z"
   },
   {
    "duration": -29,
    "start_time": "2022-01-27T09:36:35.549Z"
   },
   {
    "duration": -30,
    "start_time": "2022-01-27T09:36:35.551Z"
   },
   {
    "duration": -36,
    "start_time": "2022-01-27T09:36:35.559Z"
   },
   {
    "duration": -39,
    "start_time": "2022-01-27T09:36:35.564Z"
   },
   {
    "duration": -40,
    "start_time": "2022-01-27T09:36:35.566Z"
   },
   {
    "duration": -48,
    "start_time": "2022-01-27T09:36:35.575Z"
   },
   {
    "duration": -48,
    "start_time": "2022-01-27T09:36:35.577Z"
   },
   {
    "duration": -49,
    "start_time": "2022-01-27T09:36:35.580Z"
   },
   {
    "duration": -49,
    "start_time": "2022-01-27T09:36:35.582Z"
   },
   {
    "duration": -50,
    "start_time": "2022-01-27T09:36:35.584Z"
   },
   {
    "duration": -46,
    "start_time": "2022-01-27T09:36:35.592Z"
   },
   {
    "duration": -45,
    "start_time": "2022-01-27T09:36:35.593Z"
   },
   {
    "duration": -43,
    "start_time": "2022-01-27T09:36:35.595Z"
   },
   {
    "duration": -42,
    "start_time": "2022-01-27T09:36:35.597Z"
   },
   {
    "duration": -42,
    "start_time": "2022-01-27T09:36:35.599Z"
   },
   {
    "duration": -41,
    "start_time": "2022-01-27T09:36:35.601Z"
   },
   {
    "duration": -47,
    "start_time": "2022-01-27T09:36:35.609Z"
   },
   {
    "duration": -46,
    "start_time": "2022-01-27T09:36:35.610Z"
   },
   {
    "duration": -45,
    "start_time": "2022-01-27T09:36:35.612Z"
   },
   {
    "duration": -89,
    "start_time": "2022-01-27T09:36:35.659Z"
   },
   {
    "duration": -87,
    "start_time": "2022-01-27T09:36:35.661Z"
   },
   {
    "duration": -87,
    "start_time": "2022-01-27T09:36:35.663Z"
   },
   {
    "duration": -91,
    "start_time": "2022-01-27T09:36:35.670Z"
   },
   {
    "duration": -98,
    "start_time": "2022-01-27T09:36:35.678Z"
   },
   {
    "duration": -98,
    "start_time": "2022-01-27T09:36:35.680Z"
   },
   {
    "duration": 9,
    "start_time": "2022-01-27T09:38:33.472Z"
   },
   {
    "duration": 21,
    "start_time": "2022-01-27T09:38:39.131Z"
   },
   {
    "duration": 258,
    "start_time": "2022-01-27T09:41:04.363Z"
   },
   {
    "duration": 249,
    "start_time": "2022-01-27T09:41:11.489Z"
   },
   {
    "duration": 345,
    "start_time": "2022-01-27T09:41:18.569Z"
   },
   {
    "duration": 12,
    "start_time": "2022-01-27T09:41:23.865Z"
   },
   {
    "duration": 3916,
    "start_time": "2022-01-27T09:44:26.008Z"
   },
   {
    "duration": 303,
    "start_time": "2022-01-27T09:44:48.799Z"
   },
   {
    "duration": 16,
    "start_time": "2022-01-27T09:48:20.725Z"
   },
   {
    "duration": 10,
    "start_time": "2022-01-27T09:49:01.092Z"
   },
   {
    "duration": 43,
    "start_time": "2022-01-27T09:49:05.236Z"
   },
   {
    "duration": 13,
    "start_time": "2022-01-27T10:01:47.210Z"
   },
   {
    "duration": 23,
    "start_time": "2022-01-27T10:01:53.595Z"
   },
   {
    "duration": 17,
    "start_time": "2022-01-27T10:02:25.983Z"
   },
   {
    "duration": 1647,
    "start_time": "2022-01-27T10:02:37.376Z"
   },
   {
    "duration": 20,
    "start_time": "2022-01-27T10:02:39.026Z"
   },
   {
    "duration": 57,
    "start_time": "2022-01-27T10:02:39.049Z"
   },
   {
    "duration": 7,
    "start_time": "2022-01-27T10:02:39.108Z"
   },
   {
    "duration": 10,
    "start_time": "2022-01-27T10:02:39.118Z"
   },
   {
    "duration": 71,
    "start_time": "2022-01-27T10:02:39.130Z"
   },
   {
    "duration": 20,
    "start_time": "2022-01-27T10:02:39.203Z"
   },
   {
    "duration": 87,
    "start_time": "2022-01-27T10:02:39.225Z"
   },
   {
    "duration": 30,
    "start_time": "2022-01-27T10:02:39.315Z"
   },
   {
    "duration": 54,
    "start_time": "2022-01-27T10:02:39.348Z"
   },
   {
    "duration": 25,
    "start_time": "2022-01-27T10:02:39.405Z"
   },
   {
    "duration": 5,
    "start_time": "2022-01-27T10:02:39.440Z"
   },
   {
    "duration": 60,
    "start_time": "2022-01-27T10:02:39.447Z"
   },
   {
    "duration": 365,
    "start_time": "2022-01-27T10:02:39.509Z"
   },
   {
    "duration": 23,
    "start_time": "2022-01-27T10:02:39.878Z"
   },
   {
    "duration": 366,
    "start_time": "2022-01-27T10:02:39.904Z"
   },
   {
    "duration": 25,
    "start_time": "2022-01-27T10:02:40.273Z"
   },
   {
    "duration": 561,
    "start_time": "2022-01-27T10:02:40.301Z"
   },
   {
    "duration": 535,
    "start_time": "2022-01-27T10:02:40.865Z"
   },
   {
    "duration": 9,
    "start_time": "2022-01-27T10:02:41.403Z"
   },
   {
    "duration": 841,
    "start_time": "2022-01-27T10:02:41.414Z"
   },
   {
    "duration": 34,
    "start_time": "2022-01-27T10:02:42.277Z"
   },
   {
    "duration": 653,
    "start_time": "2022-01-27T10:02:42.316Z"
   },
   {
    "duration": 6,
    "start_time": "2022-01-27T10:02:42.972Z"
   },
   {
    "duration": 32,
    "start_time": "2022-01-27T10:02:42.981Z"
   },
   {
    "duration": 887,
    "start_time": "2022-01-27T10:02:43.016Z"
   },
   {
    "duration": 317,
    "start_time": "2022-01-27T10:02:43.910Z"
   },
   {
    "duration": 650,
    "start_time": "2022-01-27T10:02:44.230Z"
   },
   {
    "duration": 13,
    "start_time": "2022-01-27T10:02:44.882Z"
   },
   {
    "duration": 692,
    "start_time": "2022-01-27T10:02:44.897Z"
   },
   {
    "duration": 11,
    "start_time": "2022-01-27T10:02:45.592Z"
   },
   {
    "duration": 15,
    "start_time": "2022-01-27T10:02:45.605Z"
   },
   {
    "duration": 500,
    "start_time": "2022-01-27T10:02:45.622Z"
   },
   {
    "duration": 259,
    "start_time": "2022-01-27T10:02:46.125Z"
   },
   {
    "duration": 16,
    "start_time": "2022-01-27T10:02:46.387Z"
   },
   {
    "duration": 41,
    "start_time": "2022-01-27T10:02:46.406Z"
   },
   {
    "duration": 22,
    "start_time": "2022-01-27T10:02:46.450Z"
   },
   {
    "duration": 31,
    "start_time": "2022-01-27T10:02:46.475Z"
   },
   {
    "duration": 13,
    "start_time": "2022-01-27T10:02:46.508Z"
   },
   {
    "duration": 28,
    "start_time": "2022-01-27T10:02:46.523Z"
   },
   {
    "duration": 7952,
    "start_time": "2022-01-27T10:05:40.276Z"
   },
   {
    "duration": 1763,
    "start_time": "2022-01-27T10:06:00.916Z"
   },
   {
    "duration": 21,
    "start_time": "2022-01-27T10:06:02.687Z"
   },
   {
    "duration": 39,
    "start_time": "2022-01-27T10:06:02.713Z"
   },
   {
    "duration": 44,
    "start_time": "2022-01-27T10:06:02.756Z"
   },
   {
    "duration": 15,
    "start_time": "2022-01-27T10:06:02.804Z"
   },
   {
    "duration": 22,
    "start_time": "2022-01-27T10:06:02.821Z"
   },
   {
    "duration": 62,
    "start_time": "2022-01-27T10:06:02.845Z"
   },
   {
    "duration": 86,
    "start_time": "2022-01-27T10:06:02.909Z"
   },
   {
    "duration": 18,
    "start_time": "2022-01-27T10:06:03.001Z"
   },
   {
    "duration": 47,
    "start_time": "2022-01-27T10:06:03.022Z"
   },
   {
    "duration": 29,
    "start_time": "2022-01-27T10:06:03.075Z"
   },
   {
    "duration": 22,
    "start_time": "2022-01-27T10:06:03.107Z"
   },
   {
    "duration": 554,
    "start_time": "2022-01-27T10:06:03.132Z"
   },
   {
    "duration": 22,
    "start_time": "2022-01-27T10:06:03.689Z"
   },
   {
    "duration": 305,
    "start_time": "2022-01-27T10:06:03.714Z"
   },
   {
    "duration": 42,
    "start_time": "2022-01-27T10:06:04.021Z"
   },
   {
    "duration": 587,
    "start_time": "2022-01-27T10:06:04.066Z"
   },
   {
    "duration": 547,
    "start_time": "2022-01-27T10:06:04.657Z"
   },
   {
    "duration": 11,
    "start_time": "2022-01-27T10:06:05.206Z"
   },
   {
    "duration": 878,
    "start_time": "2022-01-27T10:06:05.220Z"
   },
   {
    "duration": 12,
    "start_time": "2022-01-27T10:06:06.101Z"
   },
   {
    "duration": 583,
    "start_time": "2022-01-27T10:06:06.116Z"
   },
   {
    "duration": 7,
    "start_time": "2022-01-27T10:06:06.701Z"
   },
   {
    "duration": 30,
    "start_time": "2022-01-27T10:06:06.712Z"
   },
   {
    "duration": 841,
    "start_time": "2022-01-27T10:06:06.745Z"
   },
   {
    "duration": 226,
    "start_time": "2022-01-27T10:06:07.594Z"
   },
   {
    "duration": 645,
    "start_time": "2022-01-27T10:06:07.825Z"
   },
   {
    "duration": 8,
    "start_time": "2022-01-27T10:06:08.473Z"
   },
   {
    "duration": 820,
    "start_time": "2022-01-27T10:06:08.483Z"
   },
   {
    "duration": 7,
    "start_time": "2022-01-27T10:06:09.306Z"
   },
   {
    "duration": 15,
    "start_time": "2022-01-27T10:06:09.315Z"
   },
   {
    "duration": 545,
    "start_time": "2022-01-27T10:06:09.346Z"
   },
   {
    "duration": 374,
    "start_time": "2022-01-27T10:06:09.894Z"
   },
   {
    "duration": 15,
    "start_time": "2022-01-27T10:06:10.271Z"
   },
   {
    "duration": 53,
    "start_time": "2022-01-27T10:06:10.291Z"
   },
   {
    "duration": 30,
    "start_time": "2022-01-27T10:06:10.348Z"
   },
   {
    "duration": 20,
    "start_time": "2022-01-27T10:06:10.384Z"
   },
   {
    "duration": 29,
    "start_time": "2022-01-27T10:06:10.410Z"
   },
   {
    "duration": 79,
    "start_time": "2022-01-27T10:06:10.442Z"
   },
   {
    "duration": 1564,
    "start_time": "2022-01-27T10:07:06.715Z"
   },
   {
    "duration": 17,
    "start_time": "2022-01-27T10:07:08.285Z"
   },
   {
    "duration": 15,
    "start_time": "2022-01-27T10:07:08.305Z"
   },
   {
    "duration": 15,
    "start_time": "2022-01-27T10:07:08.323Z"
   },
   {
    "duration": 46,
    "start_time": "2022-01-27T10:07:08.344Z"
   },
   {
    "duration": 12,
    "start_time": "2022-01-27T10:07:08.393Z"
   },
   {
    "duration": 46,
    "start_time": "2022-01-27T10:07:08.407Z"
   },
   {
    "duration": 75,
    "start_time": "2022-01-27T10:07:08.455Z"
   },
   {
    "duration": 31,
    "start_time": "2022-01-27T10:07:08.540Z"
   },
   {
    "duration": 28,
    "start_time": "2022-01-27T10:07:08.574Z"
   },
   {
    "duration": 4,
    "start_time": "2022-01-27T10:07:08.605Z"
   },
   {
    "duration": 16,
    "start_time": "2022-01-27T10:07:08.612Z"
   },
   {
    "duration": 369,
    "start_time": "2022-01-27T10:07:08.638Z"
   },
   {
    "duration": 26,
    "start_time": "2022-01-27T10:07:09.009Z"
   },
   {
    "duration": 341,
    "start_time": "2022-01-27T10:07:09.037Z"
   },
   {
    "duration": 21,
    "start_time": "2022-01-27T10:07:09.381Z"
   },
   {
    "duration": 581,
    "start_time": "2022-01-27T10:07:09.405Z"
   },
   {
    "duration": 529,
    "start_time": "2022-01-27T10:07:09.989Z"
   },
   {
    "duration": 20,
    "start_time": "2022-01-27T10:07:10.522Z"
   },
   {
    "duration": 830,
    "start_time": "2022-01-27T10:07:10.545Z"
   },
   {
    "duration": 11,
    "start_time": "2022-01-27T10:07:11.381Z"
   },
   {
    "duration": 544,
    "start_time": "2022-01-27T10:07:11.395Z"
   },
   {
    "duration": 5,
    "start_time": "2022-01-27T10:07:11.941Z"
   },
   {
    "duration": 57,
    "start_time": "2022-01-27T10:07:11.949Z"
   },
   {
    "duration": 932,
    "start_time": "2022-01-27T10:07:12.010Z"
   },
   {
    "duration": 506,
    "start_time": "2022-01-27T10:07:12.944Z"
   },
   {
    "duration": 813,
    "start_time": "2022-01-27T10:07:13.458Z"
   },
   {
    "duration": 10,
    "start_time": "2022-01-27T10:07:14.275Z"
   },
   {
    "duration": 713,
    "start_time": "2022-01-27T10:07:14.293Z"
   },
   {
    "duration": 32,
    "start_time": "2022-01-27T10:07:15.009Z"
   },
   {
    "duration": 72,
    "start_time": "2022-01-27T10:07:15.045Z"
   },
   {
    "duration": 525,
    "start_time": "2022-01-27T10:07:15.120Z"
   },
   {
    "duration": 275,
    "start_time": "2022-01-27T10:07:15.647Z"
   },
   {
    "duration": 26,
    "start_time": "2022-01-27T10:07:15.925Z"
   },
   {
    "duration": 60,
    "start_time": "2022-01-27T10:07:15.954Z"
   },
   {
    "duration": 78,
    "start_time": "2022-01-27T10:07:16.017Z"
   },
   {
    "duration": 12,
    "start_time": "2022-01-27T10:07:16.098Z"
   },
   {
    "duration": 18,
    "start_time": "2022-01-27T10:07:16.112Z"
   },
   {
    "duration": 44,
    "start_time": "2022-01-27T10:07:16.143Z"
   },
   {
    "duration": 8,
    "start_time": "2022-01-27T10:53:41.474Z"
   },
   {
    "duration": 17,
    "start_time": "2022-01-27T10:53:48.037Z"
   },
   {
    "duration": 12,
    "start_time": "2022-01-27T10:54:13.757Z"
   },
   {
    "duration": 4,
    "start_time": "2022-01-27T11:19:58.560Z"
   },
   {
    "duration": 17,
    "start_time": "2022-01-27T11:20:05.024Z"
   },
   {
    "duration": 97,
    "start_time": "2022-01-27T11:21:13.791Z"
   },
   {
    "duration": 3,
    "start_time": "2022-01-27T11:21:19.655Z"
   },
   {
    "duration": 18,
    "start_time": "2022-01-27T11:21:25.855Z"
   },
   {
    "duration": 4,
    "start_time": "2022-01-27T11:21:54.318Z"
   },
   {
    "duration": 15,
    "start_time": "2022-01-27T11:21:57.030Z"
   },
   {
    "duration": 5,
    "start_time": "2022-01-27T11:22:28.977Z"
   },
   {
    "duration": 14,
    "start_time": "2022-01-27T11:22:30.546Z"
   },
   {
    "duration": 11,
    "start_time": "2022-01-27T11:22:31.198Z"
   },
   {
    "duration": 4,
    "start_time": "2022-01-27T11:22:37.165Z"
   },
   {
    "duration": 15,
    "start_time": "2022-01-27T11:22:38.613Z"
   },
   {
    "duration": 13,
    "start_time": "2022-01-27T11:22:39.126Z"
   },
   {
    "duration": 4,
    "start_time": "2022-01-27T11:22:48.317Z"
   },
   {
    "duration": 15,
    "start_time": "2022-01-27T11:22:49.175Z"
   },
   {
    "duration": 12,
    "start_time": "2022-01-27T11:22:49.621Z"
   },
   {
    "duration": 5,
    "start_time": "2022-01-27T11:24:14.251Z"
   },
   {
    "duration": 17,
    "start_time": "2022-01-27T11:24:15.262Z"
   },
   {
    "duration": 14,
    "start_time": "2022-01-27T11:24:15.667Z"
   },
   {
    "duration": 8434,
    "start_time": "2022-01-27T11:45:52.757Z"
   },
   {
    "duration": 6604,
    "start_time": "2022-01-27T11:46:08.284Z"
   },
   {
    "duration": 7018,
    "start_time": "2022-01-27T11:47:12.469Z"
   },
   {
    "duration": 317,
    "start_time": "2022-01-27T11:47:47.203Z"
   },
   {
    "duration": 6713,
    "start_time": "2022-01-27T11:48:18.218Z"
   },
   {
    "duration": 280,
    "start_time": "2022-01-27T11:48:43.594Z"
   },
   {
    "duration": 6,
    "start_time": "2022-01-27T11:48:51.181Z"
   },
   {
    "duration": 5,
    "start_time": "2022-01-27T11:49:27.698Z"
   },
   {
    "duration": 7707,
    "start_time": "2022-01-27T11:49:40.650Z"
   },
   {
    "duration": 6980,
    "start_time": "2022-01-27T11:50:45.505Z"
   },
   {
    "duration": 13,
    "start_time": "2022-01-27T11:51:00.905Z"
   },
   {
    "duration": 9126,
    "start_time": "2022-01-27T11:51:16.778Z"
   },
   {
    "duration": 478,
    "start_time": "2022-01-27T11:51:53.473Z"
   },
   {
    "duration": 644,
    "start_time": "2022-01-27T11:52:02.960Z"
   },
   {
    "duration": 281,
    "start_time": "2022-01-27T11:52:35.103Z"
   },
   {
    "duration": 322,
    "start_time": "2022-01-27T11:52:52.184Z"
   },
   {
    "duration": 1694,
    "start_time": "2022-01-27T11:53:08.182Z"
   },
   {
    "duration": 4,
    "start_time": "2022-01-27T11:53:09.879Z"
   },
   {
    "duration": 17,
    "start_time": "2022-01-27T11:53:09.887Z"
   },
   {
    "duration": 40,
    "start_time": "2022-01-27T11:53:09.907Z"
   },
   {
    "duration": 24,
    "start_time": "2022-01-27T11:53:09.950Z"
   },
   {
    "duration": 17,
    "start_time": "2022-01-27T11:53:09.977Z"
   },
   {
    "duration": 26,
    "start_time": "2022-01-27T11:53:09.996Z"
   },
   {
    "duration": 25,
    "start_time": "2022-01-27T11:53:10.026Z"
   },
   {
    "duration": 34,
    "start_time": "2022-01-27T11:53:10.056Z"
   },
   {
    "duration": 6907,
    "start_time": "2022-01-27T11:53:10.093Z"
   },
   {
    "duration": -26,
    "start_time": "2022-01-27T11:53:17.029Z"
   },
   {
    "duration": -27,
    "start_time": "2022-01-27T11:53:17.032Z"
   },
   {
    "duration": -27,
    "start_time": "2022-01-27T11:53:17.033Z"
   },
   {
    "duration": -27,
    "start_time": "2022-01-27T11:53:17.035Z"
   },
   {
    "duration": -43,
    "start_time": "2022-01-27T11:53:17.052Z"
   },
   {
    "duration": -47,
    "start_time": "2022-01-27T11:53:17.057Z"
   },
   {
    "duration": -62,
    "start_time": "2022-01-27T11:53:17.074Z"
   },
   {
    "duration": -64,
    "start_time": "2022-01-27T11:53:17.077Z"
   },
   {
    "duration": -64,
    "start_time": "2022-01-27T11:53:17.079Z"
   },
   {
    "duration": -66,
    "start_time": "2022-01-27T11:53:17.082Z"
   },
   {
    "duration": -66,
    "start_time": "2022-01-27T11:53:17.084Z"
   },
   {
    "duration": -67,
    "start_time": "2022-01-27T11:53:17.086Z"
   },
   {
    "duration": -61,
    "start_time": "2022-01-27T11:53:17.093Z"
   },
   {
    "duration": -60,
    "start_time": "2022-01-27T11:53:17.095Z"
   },
   {
    "duration": -60,
    "start_time": "2022-01-27T11:53:17.097Z"
   },
   {
    "duration": -59,
    "start_time": "2022-01-27T11:53:17.099Z"
   },
   {
    "duration": -144,
    "start_time": "2022-01-27T11:53:17.188Z"
   },
   {
    "duration": -144,
    "start_time": "2022-01-27T11:53:17.190Z"
   },
   {
    "duration": -144,
    "start_time": "2022-01-27T11:53:17.192Z"
   },
   {
    "duration": -144,
    "start_time": "2022-01-27T11:53:17.194Z"
   },
   {
    "duration": -144,
    "start_time": "2022-01-27T11:53:17.196Z"
   },
   {
    "duration": -144,
    "start_time": "2022-01-27T11:53:17.197Z"
   },
   {
    "duration": -144,
    "start_time": "2022-01-27T11:53:17.199Z"
   },
   {
    "duration": -143,
    "start_time": "2022-01-27T11:53:17.202Z"
   },
   {
    "duration": -144,
    "start_time": "2022-01-27T11:53:17.204Z"
   },
   {
    "duration": -162,
    "start_time": "2022-01-27T11:53:17.226Z"
   },
   {
    "duration": -161,
    "start_time": "2022-01-27T11:53:17.228Z"
   },
   {
    "duration": -161,
    "start_time": "2022-01-27T11:53:17.230Z"
   },
   {
    "duration": -162,
    "start_time": "2022-01-27T11:53:17.232Z"
   },
   {
    "duration": -162,
    "start_time": "2022-01-27T11:53:17.234Z"
   },
   {
    "duration": -163,
    "start_time": "2022-01-27T11:53:17.236Z"
   },
   {
    "duration": -164,
    "start_time": "2022-01-27T11:53:17.238Z"
   },
   {
    "duration": -164,
    "start_time": "2022-01-27T11:53:17.239Z"
   },
   {
    "duration": 7247,
    "start_time": "2022-01-27T11:53:31.781Z"
   },
   {
    "duration": 651,
    "start_time": "2022-01-27T11:53:50.343Z"
   },
   {
    "duration": 463,
    "start_time": "2022-01-27T11:53:59.765Z"
   },
   {
    "duration": 498,
    "start_time": "2022-01-27T11:54:39.883Z"
   },
   {
    "duration": 438,
    "start_time": "2022-01-27T11:55:57.588Z"
   },
   {
    "duration": 423,
    "start_time": "2022-01-27T11:56:03.980Z"
   },
   {
    "duration": 560,
    "start_time": "2022-01-27T11:56:08.244Z"
   },
   {
    "duration": 449,
    "start_time": "2022-01-27T11:56:24.516Z"
   },
   {
    "duration": 469,
    "start_time": "2022-01-27T11:56:38.627Z"
   },
   {
    "duration": 650,
    "start_time": "2022-01-27T11:56:58.395Z"
   },
   {
    "duration": 243,
    "start_time": "2022-01-27T13:10:57.590Z"
   },
   {
    "duration": 1688,
    "start_time": "2022-01-27T13:11:03.845Z"
   },
   {
    "duration": 5,
    "start_time": "2022-01-27T13:11:05.536Z"
   },
   {
    "duration": 32,
    "start_time": "2022-01-27T13:11:05.545Z"
   },
   {
    "duration": 15,
    "start_time": "2022-01-27T13:11:05.580Z"
   },
   {
    "duration": 7,
    "start_time": "2022-01-27T13:11:05.597Z"
   },
   {
    "duration": 25,
    "start_time": "2022-01-27T13:11:05.607Z"
   },
   {
    "duration": 15,
    "start_time": "2022-01-27T13:11:05.635Z"
   },
   {
    "duration": 20,
    "start_time": "2022-01-27T13:11:05.653Z"
   },
   {
    "duration": 26,
    "start_time": "2022-01-27T13:11:05.679Z"
   },
   {
    "duration": 676,
    "start_time": "2022-01-27T13:11:05.708Z"
   },
   {
    "duration": 46,
    "start_time": "2022-01-27T13:11:06.386Z"
   },
   {
    "duration": 15,
    "start_time": "2022-01-27T13:11:06.435Z"
   },
   {
    "duration": 6,
    "start_time": "2022-01-27T13:11:06.453Z"
   },
   {
    "duration": 15,
    "start_time": "2022-01-27T13:11:06.461Z"
   },
   {
    "duration": 6180,
    "start_time": "2022-01-27T13:11:06.479Z"
   },
   {
    "duration": -69,
    "start_time": "2022-01-27T13:11:12.731Z"
   },
   {
    "duration": -69,
    "start_time": "2022-01-27T13:11:12.733Z"
   },
   {
    "duration": -71,
    "start_time": "2022-01-27T13:11:12.736Z"
   },
   {
    "duration": -72,
    "start_time": "2022-01-27T13:11:12.738Z"
   },
   {
    "duration": -72,
    "start_time": "2022-01-27T13:11:12.740Z"
   },
   {
    "duration": -73,
    "start_time": "2022-01-27T13:11:12.742Z"
   },
   {
    "duration": -86,
    "start_time": "2022-01-27T13:11:12.757Z"
   },
   {
    "duration": -88,
    "start_time": "2022-01-27T13:11:12.760Z"
   },
   {
    "duration": -90,
    "start_time": "2022-01-27T13:11:12.764Z"
   },
   {
    "duration": -92,
    "start_time": "2022-01-27T13:11:12.768Z"
   },
   {
    "duration": -92,
    "start_time": "2022-01-27T13:11:12.770Z"
   },
   {
    "duration": -93,
    "start_time": "2022-01-27T13:11:12.772Z"
   },
   {
    "duration": -92,
    "start_time": "2022-01-27T13:11:12.773Z"
   },
   {
    "duration": -93,
    "start_time": "2022-01-27T13:11:12.775Z"
   },
   {
    "duration": -98,
    "start_time": "2022-01-27T13:11:12.782Z"
   },
   {
    "duration": -100,
    "start_time": "2022-01-27T13:11:12.786Z"
   },
   {
    "duration": -108,
    "start_time": "2022-01-27T13:11:12.795Z"
   },
   {
    "duration": -108,
    "start_time": "2022-01-27T13:11:12.797Z"
   },
   {
    "duration": -111,
    "start_time": "2022-01-27T13:11:12.801Z"
   },
   {
    "duration": -112,
    "start_time": "2022-01-27T13:11:12.804Z"
   },
   {
    "duration": -113,
    "start_time": "2022-01-27T13:11:12.806Z"
   },
   {
    "duration": -113,
    "start_time": "2022-01-27T13:11:12.808Z"
   },
   {
    "duration": -119,
    "start_time": "2022-01-27T13:11:12.815Z"
   },
   {
    "duration": -120,
    "start_time": "2022-01-27T13:11:12.818Z"
   },
   {
    "duration": -121,
    "start_time": "2022-01-27T13:11:12.820Z"
   },
   {
    "duration": -89,
    "start_time": "2022-01-27T13:11:12.822Z"
   },
   {
    "duration": -91,
    "start_time": "2022-01-27T13:11:12.825Z"
   },
   {
    "duration": -90,
    "start_time": "2022-01-27T13:11:12.827Z"
   },
   {
    "duration": 9,
    "start_time": "2022-01-27T13:11:37.360Z"
   },
   {
    "duration": 8,
    "start_time": "2022-01-27T13:12:07.511Z"
   },
   {
    "duration": 242,
    "start_time": "2022-01-27T13:12:46.902Z"
   },
   {
    "duration": 242,
    "start_time": "2022-01-27T13:12:52.942Z"
   },
   {
    "duration": 11,
    "start_time": "2022-01-27T13:13:10.822Z"
   },
   {
    "duration": 20,
    "start_time": "2022-01-27T13:13:42.334Z"
   },
   {
    "duration": 27,
    "start_time": "2022-01-27T13:13:53.949Z"
   },
   {
    "duration": 19,
    "start_time": "2022-01-27T13:14:13.230Z"
   },
   {
    "duration": 1445,
    "start_time": "2022-01-27T13:14:31.682Z"
   },
   {
    "duration": 5,
    "start_time": "2022-01-27T13:14:33.129Z"
   },
   {
    "duration": 30,
    "start_time": "2022-01-27T13:14:33.138Z"
   },
   {
    "duration": 16,
    "start_time": "2022-01-27T13:14:33.171Z"
   },
   {
    "duration": 6,
    "start_time": "2022-01-27T13:14:33.189Z"
   },
   {
    "duration": 8,
    "start_time": "2022-01-27T13:14:33.197Z"
   },
   {
    "duration": 34,
    "start_time": "2022-01-27T13:14:33.207Z"
   },
   {
    "duration": 18,
    "start_time": "2022-01-27T13:14:33.245Z"
   },
   {
    "duration": 14,
    "start_time": "2022-01-27T13:14:33.266Z"
   },
   {
    "duration": 675,
    "start_time": "2022-01-27T13:14:33.283Z"
   },
   {
    "duration": 46,
    "start_time": "2022-01-27T13:14:33.960Z"
   },
   {
    "duration": 12,
    "start_time": "2022-01-27T13:14:34.008Z"
   },
   {
    "duration": 13,
    "start_time": "2022-01-27T13:14:34.022Z"
   },
   {
    "duration": 18,
    "start_time": "2022-01-27T13:14:34.037Z"
   },
   {
    "duration": 13,
    "start_time": "2022-01-27T13:14:34.057Z"
   },
   {
    "duration": 9,
    "start_time": "2022-01-27T13:14:34.073Z"
   },
   {
    "duration": 16,
    "start_time": "2022-01-27T13:14:34.085Z"
   },
   {
    "duration": 45,
    "start_time": "2022-01-27T13:14:34.103Z"
   },
   {
    "duration": 8,
    "start_time": "2022-01-27T13:14:34.151Z"
   },
   {
    "duration": 339,
    "start_time": "2022-01-27T13:14:34.162Z"
   },
   {
    "duration": 28,
    "start_time": "2022-01-27T13:14:34.504Z"
   },
   {
    "duration": 294,
    "start_time": "2022-01-27T13:14:34.535Z"
   },
   {
    "duration": 20,
    "start_time": "2022-01-27T13:14:34.836Z"
   },
   {
    "duration": 526,
    "start_time": "2022-01-27T13:14:34.859Z"
   },
   {
    "duration": 676,
    "start_time": "2022-01-27T13:14:35.388Z"
   },
   {
    "duration": 9,
    "start_time": "2022-01-27T13:14:36.067Z"
   },
   {
    "duration": 943,
    "start_time": "2022-01-27T13:14:36.078Z"
   },
   {
    "duration": 18,
    "start_time": "2022-01-27T13:14:37.023Z"
   },
   {
    "duration": 493,
    "start_time": "2022-01-27T13:14:37.045Z"
   },
   {
    "duration": 5,
    "start_time": "2022-01-27T13:14:37.542Z"
   },
   {
    "duration": 15,
    "start_time": "2022-01-27T13:14:37.550Z"
   },
   {
    "duration": 804,
    "start_time": "2022-01-27T13:14:37.567Z"
   },
   {
    "duration": 214,
    "start_time": "2022-01-27T13:14:38.374Z"
   },
   {
    "duration": 617,
    "start_time": "2022-01-27T13:14:38.591Z"
   },
   {
    "duration": 9,
    "start_time": "2022-01-27T13:14:39.211Z"
   },
   {
    "duration": 613,
    "start_time": "2022-01-27T13:14:39.234Z"
   },
   {
    "duration": 7,
    "start_time": "2022-01-27T13:14:39.850Z"
   },
   {
    "duration": 12,
    "start_time": "2022-01-27T13:14:39.859Z"
   },
   {
    "duration": 477,
    "start_time": "2022-01-27T13:14:39.873Z"
   },
   {
    "duration": 242,
    "start_time": "2022-01-27T13:14:40.353Z"
   },
   {
    "duration": 11,
    "start_time": "2022-01-27T13:14:40.598Z"
   },
   {
    "duration": 39,
    "start_time": "2022-01-27T13:14:40.611Z"
   },
   {
    "duration": 12,
    "start_time": "2022-01-27T13:14:40.653Z"
   },
   {
    "duration": 12,
    "start_time": "2022-01-27T13:14:40.668Z"
   },
   {
    "duration": 11,
    "start_time": "2022-01-27T13:14:40.683Z"
   },
   {
    "duration": 28,
    "start_time": "2022-01-27T13:14:40.732Z"
   },
   {
    "duration": 14,
    "start_time": "2022-01-27T13:17:24.261Z"
   },
   {
    "duration": 1802,
    "start_time": "2022-01-27T13:17:50.659Z"
   },
   {
    "duration": 1751,
    "start_time": "2022-01-27T13:18:06.148Z"
   },
   {
    "duration": 22,
    "start_time": "2022-01-27T13:18:13.048Z"
   },
   {
    "duration": 86,
    "start_time": "2022-01-27T13:18:42.067Z"
   },
   {
    "duration": 78,
    "start_time": "2022-01-27T13:18:50.675Z"
   },
   {
    "duration": 15,
    "start_time": "2022-01-27T13:18:54.491Z"
   },
   {
    "duration": 15,
    "start_time": "2022-01-27T13:19:28.538Z"
   },
   {
    "duration": 11,
    "start_time": "2022-01-27T13:19:50.074Z"
   },
   {
    "duration": 9,
    "start_time": "2022-01-27T13:20:04.210Z"
   },
   {
    "duration": 8,
    "start_time": "2022-01-27T13:20:30.346Z"
   },
   {
    "duration": 9,
    "start_time": "2022-01-27T13:21:30.393Z"
   },
   {
    "duration": 320,
    "start_time": "2022-01-27T13:21:38.161Z"
   },
   {
    "duration": 19,
    "start_time": "2022-01-27T13:21:39.434Z"
   },
   {
    "duration": 305,
    "start_time": "2022-01-27T13:21:41.873Z"
   },
   {
    "duration": 16,
    "start_time": "2022-01-27T13:21:43.345Z"
   },
   {
    "duration": 12,
    "start_time": "2022-01-27T13:21:54.609Z"
   },
   {
    "duration": 13,
    "start_time": "2022-01-27T13:21:59.761Z"
   },
   {
    "duration": 496,
    "start_time": "2022-01-27T13:22:02.289Z"
   },
   {
    "duration": 489,
    "start_time": "2022-01-27T13:22:07.720Z"
   },
   {
    "duration": 9,
    "start_time": "2022-01-27T13:22:11.144Z"
   },
   {
    "duration": 773,
    "start_time": "2022-01-27T13:22:11.897Z"
   },
   {
    "duration": 10,
    "start_time": "2022-01-27T13:22:15.545Z"
   },
   {
    "duration": 482,
    "start_time": "2022-01-27T13:22:16.833Z"
   },
   {
    "duration": 9,
    "start_time": "2022-01-27T13:30:07.747Z"
   },
   {
    "duration": 466,
    "start_time": "2022-01-27T13:30:08.237Z"
   },
   {
    "duration": 5,
    "start_time": "2022-01-27T13:30:44.866Z"
   },
   {
    "duration": 12,
    "start_time": "2022-01-27T13:30:47.345Z"
   },
   {
    "duration": 896,
    "start_time": "2022-01-27T13:30:48.044Z"
   },
   {
    "duration": 258,
    "start_time": "2022-01-27T13:30:52.434Z"
   },
   {
    "duration": 636,
    "start_time": "2022-01-27T13:30:53.090Z"
   },
   {
    "duration": 7,
    "start_time": "2022-01-27T13:30:58.697Z"
   },
   {
    "duration": 713,
    "start_time": "2022-01-27T13:31:17.458Z"
   },
   {
    "duration": 7,
    "start_time": "2022-01-27T13:31:20.554Z"
   },
   {
    "duration": 14,
    "start_time": "2022-01-27T13:31:27.386Z"
   },
   {
    "duration": 727,
    "start_time": "2022-01-27T13:31:34.306Z"
   },
   {
    "duration": 267,
    "start_time": "2022-01-27T13:31:35.036Z"
   },
   {
    "duration": 10,
    "start_time": "2022-01-27T13:31:36.562Z"
   },
   {
    "duration": 11,
    "start_time": "2022-01-27T13:31:42.545Z"
   },
   {
    "duration": 11,
    "start_time": "2022-01-27T13:31:46.585Z"
   },
   {
    "duration": 16,
    "start_time": "2022-01-27T13:32:12.057Z"
   },
   {
    "duration": 13,
    "start_time": "2022-01-27T13:32:18.946Z"
   },
   {
    "duration": 12,
    "start_time": "2022-01-27T13:32:19.449Z"
   },
   {
    "duration": 12,
    "start_time": "2022-01-27T13:32:19.962Z"
   },
   {
    "duration": 10,
    "start_time": "2022-01-27T13:32:25.369Z"
   },
   {
    "duration": 20,
    "start_time": "2022-01-27T13:32:37.714Z"
   },
   {
    "duration": 11,
    "start_time": "2022-01-27T13:33:33.081Z"
   },
   {
    "duration": 14,
    "start_time": "2022-01-27T13:33:55.756Z"
   },
   {
    "duration": 143,
    "start_time": "2022-01-27T13:34:14.633Z"
   },
   {
    "duration": 14,
    "start_time": "2022-01-27T13:34:30.415Z"
   },
   {
    "duration": 1457,
    "start_time": "2022-01-27T14:47:29.998Z"
   },
   {
    "duration": 4,
    "start_time": "2022-01-27T14:47:31.458Z"
   },
   {
    "duration": 30,
    "start_time": "2022-01-27T14:47:31.466Z"
   },
   {
    "duration": 15,
    "start_time": "2022-01-27T14:47:31.499Z"
   },
   {
    "duration": 19,
    "start_time": "2022-01-27T14:47:31.517Z"
   },
   {
    "duration": 18,
    "start_time": "2022-01-27T14:47:31.540Z"
   },
   {
    "duration": 23,
    "start_time": "2022-01-27T14:47:31.561Z"
   },
   {
    "duration": 24,
    "start_time": "2022-01-27T14:47:31.587Z"
   },
   {
    "duration": 27,
    "start_time": "2022-01-27T14:47:31.615Z"
   },
   {
    "duration": 751,
    "start_time": "2022-01-27T14:47:31.646Z"
   },
   {
    "duration": 48,
    "start_time": "2022-01-27T14:47:32.400Z"
   },
   {
    "duration": 11,
    "start_time": "2022-01-27T14:47:32.450Z"
   },
   {
    "duration": 14,
    "start_time": "2022-01-27T14:47:32.463Z"
   },
   {
    "duration": 7,
    "start_time": "2022-01-27T14:47:32.479Z"
   },
   {
    "duration": 12,
    "start_time": "2022-01-27T14:47:32.488Z"
   },
   {
    "duration": 34,
    "start_time": "2022-01-27T14:47:32.503Z"
   },
   {
    "duration": 16,
    "start_time": "2022-01-27T14:47:32.540Z"
   },
   {
    "duration": 9,
    "start_time": "2022-01-27T14:47:32.558Z"
   },
   {
    "duration": 9,
    "start_time": "2022-01-27T14:47:32.570Z"
   },
   {
    "duration": 11,
    "start_time": "2022-01-27T14:47:32.581Z"
   },
   {
    "duration": 370,
    "start_time": "2022-01-27T14:47:32.594Z"
   },
   {
    "duration": 12,
    "start_time": "2022-01-27T14:47:32.966Z"
   },
   {
    "duration": 283,
    "start_time": "2022-01-27T14:47:32.983Z"
   },
   {
    "duration": 14,
    "start_time": "2022-01-27T14:47:33.269Z"
   },
   {
    "duration": 510,
    "start_time": "2022-01-27T14:47:33.286Z"
   },
   {
    "duration": 504,
    "start_time": "2022-01-27T14:47:33.799Z"
   },
   {
    "duration": 10,
    "start_time": "2022-01-27T14:47:34.306Z"
   },
   {
    "duration": 777,
    "start_time": "2022-01-27T14:47:34.333Z"
   },
   {
    "duration": 20,
    "start_time": "2022-01-27T14:47:35.113Z"
   },
   {
    "duration": 478,
    "start_time": "2022-01-27T14:47:35.136Z"
   },
   {
    "duration": 5,
    "start_time": "2022-01-27T14:47:35.617Z"
   },
   {
    "duration": 15,
    "start_time": "2022-01-27T14:47:35.633Z"
   },
   {
    "duration": 807,
    "start_time": "2022-01-27T14:47:35.651Z"
   },
   {
    "duration": 234,
    "start_time": "2022-01-27T14:47:36.461Z"
   },
   {
    "duration": 626,
    "start_time": "2022-01-27T14:47:36.697Z"
   },
   {
    "duration": 12,
    "start_time": "2022-01-27T14:47:37.325Z"
   },
   {
    "duration": 619,
    "start_time": "2022-01-27T14:47:37.339Z"
   },
   {
    "duration": 8,
    "start_time": "2022-01-27T14:47:37.961Z"
   },
   {
    "duration": 490,
    "start_time": "2022-01-27T14:47:37.971Z"
   },
   {
    "duration": 215,
    "start_time": "2022-01-27T14:47:38.464Z"
   },
   {
    "duration": 15,
    "start_time": "2022-01-27T14:47:38.681Z"
   },
   {
    "duration": 40,
    "start_time": "2022-01-27T14:47:38.700Z"
   },
   {
    "duration": 29,
    "start_time": "2022-01-27T14:47:38.744Z"
   },
   {
    "duration": 12,
    "start_time": "2022-01-27T14:47:38.776Z"
   },
   {
    "duration": 10,
    "start_time": "2022-01-27T14:47:38.790Z"
   },
   {
    "duration": 55,
    "start_time": "2022-01-27T14:47:38.803Z"
   },
   {
    "duration": 1177,
    "start_time": "2022-01-28T04:55:31.392Z"
   },
   {
    "duration": 3,
    "start_time": "2022-01-28T04:55:32.571Z"
   },
   {
    "duration": 27,
    "start_time": "2022-01-28T04:55:32.577Z"
   },
   {
    "duration": 12,
    "start_time": "2022-01-28T04:55:32.607Z"
   },
   {
    "duration": 15,
    "start_time": "2022-01-28T04:55:32.621Z"
   },
   {
    "duration": 27,
    "start_time": "2022-01-28T04:55:32.638Z"
   },
   {
    "duration": 24,
    "start_time": "2022-01-28T04:55:32.667Z"
   },
   {
    "duration": 28,
    "start_time": "2022-01-28T04:55:32.694Z"
   },
   {
    "duration": 17,
    "start_time": "2022-01-28T04:55:32.725Z"
   },
   {
    "duration": 395,
    "start_time": "2022-01-28T04:55:32.744Z"
   },
   {
    "duration": 55,
    "start_time": "2022-01-28T04:55:33.141Z"
   },
   {
    "duration": 8,
    "start_time": "2022-01-28T04:55:33.199Z"
   },
   {
    "duration": 13,
    "start_time": "2022-01-28T04:55:33.209Z"
   },
   {
    "duration": 10,
    "start_time": "2022-01-28T04:55:33.224Z"
   },
   {
    "duration": 13,
    "start_time": "2022-01-28T04:55:33.236Z"
   },
   {
    "duration": 11,
    "start_time": "2022-01-28T04:55:33.251Z"
   },
   {
    "duration": 15,
    "start_time": "2022-01-28T04:55:33.265Z"
   },
   {
    "duration": 34,
    "start_time": "2022-01-28T04:55:33.282Z"
   },
   {
    "duration": 9,
    "start_time": "2022-01-28T04:55:33.318Z"
   },
   {
    "duration": 9,
    "start_time": "2022-01-28T04:55:33.329Z"
   },
   {
    "duration": 200,
    "start_time": "2022-01-28T04:55:33.340Z"
   },
   {
    "duration": 8,
    "start_time": "2022-01-28T04:55:33.542Z"
   },
   {
    "duration": 182,
    "start_time": "2022-01-28T04:55:33.556Z"
   },
   {
    "duration": 9,
    "start_time": "2022-01-28T04:55:33.741Z"
   },
   {
    "duration": 324,
    "start_time": "2022-01-28T04:55:33.753Z"
   },
   {
    "duration": 307,
    "start_time": "2022-01-28T04:55:34.079Z"
   },
   {
    "duration": 8,
    "start_time": "2022-01-28T04:55:34.388Z"
   },
   {
    "duration": 512,
    "start_time": "2022-01-28T04:55:34.409Z"
   },
   {
    "duration": 7,
    "start_time": "2022-01-28T04:55:34.922Z"
   },
   {
    "duration": 303,
    "start_time": "2022-01-28T04:55:34.931Z"
   },
   {
    "duration": 3,
    "start_time": "2022-01-28T04:55:35.236Z"
   },
   {
    "duration": 15,
    "start_time": "2022-01-28T04:55:35.240Z"
   },
   {
    "duration": 545,
    "start_time": "2022-01-28T04:55:35.257Z"
   },
   {
    "duration": 126,
    "start_time": "2022-01-28T04:55:35.804Z"
   },
   {
    "duration": 396,
    "start_time": "2022-01-28T04:55:35.932Z"
   },
   {
    "duration": 6,
    "start_time": "2022-01-28T04:55:36.330Z"
   },
   {
    "duration": 402,
    "start_time": "2022-01-28T04:55:36.338Z"
   },
   {
    "duration": 5,
    "start_time": "2022-01-28T04:55:36.742Z"
   },
   {
    "duration": 277,
    "start_time": "2022-01-28T04:55:36.749Z"
   },
   {
    "duration": 122,
    "start_time": "2022-01-28T04:55:37.028Z"
   },
   {
    "duration": 9,
    "start_time": "2022-01-28T04:55:37.152Z"
   },
   {
    "duration": 11,
    "start_time": "2022-01-28T04:55:37.163Z"
   },
   {
    "duration": 34,
    "start_time": "2022-01-28T04:55:37.176Z"
   },
   {
    "duration": 9,
    "start_time": "2022-01-28T04:55:37.211Z"
   },
   {
    "duration": 12,
    "start_time": "2022-01-28T04:55:37.222Z"
   },
   {
    "duration": 14,
    "start_time": "2022-01-28T04:55:37.236Z"
   },
   {
    "duration": 359,
    "start_time": "2022-01-28T04:58:24.193Z"
   },
   {
    "duration": 392,
    "start_time": "2022-01-28T04:58:30.722Z"
   },
   {
    "duration": 376,
    "start_time": "2022-01-28T04:58:36.897Z"
   },
   {
    "duration": 10,
    "start_time": "2022-01-28T04:59:06.835Z"
   },
   {
    "duration": 392,
    "start_time": "2022-01-28T04:59:48.597Z"
   },
   {
    "duration": 12,
    "start_time": "2022-01-28T05:00:11.674Z"
   },
   {
    "duration": 390,
    "start_time": "2022-01-28T05:00:38.511Z"
   },
   {
    "duration": 498,
    "start_time": "2022-01-28T05:00:57.511Z"
   },
   {
    "duration": 565,
    "start_time": "2022-01-28T05:01:56.719Z"
   },
   {
    "duration": 412,
    "start_time": "2022-01-28T05:02:06.229Z"
   },
   {
    "duration": 411,
    "start_time": "2022-01-28T05:02:19.072Z"
   },
   {
    "duration": 12,
    "start_time": "2022-01-28T05:02:24.425Z"
   },
   {
    "duration": 629,
    "start_time": "2022-01-28T05:02:34.122Z"
   },
   {
    "duration": 399,
    "start_time": "2022-01-28T05:02:38.314Z"
   },
   {
    "duration": 403,
    "start_time": "2022-01-28T05:03:14.139Z"
   },
   {
    "duration": 597,
    "start_time": "2022-01-28T05:03:31.178Z"
   },
   {
    "duration": 680,
    "start_time": "2022-01-28T05:03:47.882Z"
   },
   {
    "duration": 413,
    "start_time": "2022-01-28T05:03:53.961Z"
   },
   {
    "duration": 358,
    "start_time": "2022-01-28T05:05:30.992Z"
   },
   {
    "duration": 377,
    "start_time": "2022-01-28T05:06:03.924Z"
   },
   {
    "duration": 403,
    "start_time": "2022-01-28T05:06:25.139Z"
   },
   {
    "duration": 219,
    "start_time": "2022-02-19T13:33:33.097Z"
   },
   {
    "duration": 1132,
    "start_time": "2022-02-19T13:33:50.519Z"
   },
   {
    "duration": 4,
    "start_time": "2022-02-19T13:33:51.652Z"
   },
   {
    "duration": 13,
    "start_time": "2022-02-19T13:33:51.658Z"
   },
   {
    "duration": 9,
    "start_time": "2022-02-19T13:33:51.673Z"
   },
   {
    "duration": 6,
    "start_time": "2022-02-19T13:33:51.684Z"
   },
   {
    "duration": 7,
    "start_time": "2022-02-19T13:33:51.692Z"
   },
   {
    "duration": 9,
    "start_time": "2022-02-19T13:33:51.701Z"
   },
   {
    "duration": 12,
    "start_time": "2022-02-19T13:33:51.731Z"
   },
   {
    "duration": 9,
    "start_time": "2022-02-19T13:33:51.744Z"
   },
   {
    "duration": 389,
    "start_time": "2022-02-19T13:33:51.755Z"
   },
   {
    "duration": 352,
    "start_time": "2022-02-19T13:33:52.146Z"
   },
   {
    "duration": 28,
    "start_time": "2022-02-19T13:33:52.500Z"
   },
   {
    "duration": 7,
    "start_time": "2022-02-19T13:33:52.530Z"
   },
   {
    "duration": 7,
    "start_time": "2022-02-19T13:33:52.539Z"
   },
   {
    "duration": 5,
    "start_time": "2022-02-19T13:33:52.548Z"
   },
   {
    "duration": 7,
    "start_time": "2022-02-19T13:33:52.554Z"
   },
   {
    "duration": 6,
    "start_time": "2022-02-19T13:33:56.505Z"
   },
   {
    "duration": 83,
    "start_time": "2022-02-19T13:35:03.857Z"
   },
   {
    "duration": 61,
    "start_time": "2022-02-19T13:35:10.771Z"
   },
   {
    "duration": 5,
    "start_time": "2022-02-19T13:35:18.759Z"
   },
   {
    "duration": 7,
    "start_time": "2022-02-19T13:35:23.093Z"
   },
   {
    "duration": 1469,
    "start_time": "2022-07-13T19:27:49.201Z"
   },
   {
    "duration": 4,
    "start_time": "2022-07-13T19:27:50.672Z"
   },
   {
    "duration": 91,
    "start_time": "2022-07-13T19:27:50.678Z"
   },
   {
    "duration": 14,
    "start_time": "2022-07-13T19:27:50.771Z"
   },
   {
    "duration": 6,
    "start_time": "2022-07-13T19:27:50.788Z"
   },
   {
    "duration": 34,
    "start_time": "2022-07-13T19:27:50.795Z"
   },
   {
    "duration": 15,
    "start_time": "2022-07-13T19:27:50.831Z"
   },
   {
    "duration": 14,
    "start_time": "2022-07-13T19:27:50.848Z"
   },
   {
    "duration": 14,
    "start_time": "2022-07-13T19:27:50.864Z"
   },
   {
    "duration": 269,
    "start_time": "2022-07-13T19:27:50.880Z"
   },
   {
    "duration": 314,
    "start_time": "2022-07-13T19:27:51.151Z"
   },
   {
    "duration": 161,
    "start_time": "2022-07-13T19:27:51.467Z"
   },
   {
    "duration": 8,
    "start_time": "2022-07-13T19:27:51.630Z"
   },
   {
    "duration": 20,
    "start_time": "2022-07-13T19:27:51.641Z"
   },
   {
    "duration": 8,
    "start_time": "2022-07-13T19:27:51.663Z"
   },
   {
    "duration": 12,
    "start_time": "2022-07-13T19:27:51.673Z"
   },
   {
    "duration": 6,
    "start_time": "2022-07-13T19:27:51.687Z"
   },
   {
    "duration": 9,
    "start_time": "2022-07-13T19:27:51.695Z"
   },
   {
    "duration": 34,
    "start_time": "2022-07-13T19:27:51.708Z"
   },
   {
    "duration": 7,
    "start_time": "2022-07-13T19:27:51.744Z"
   },
   {
    "duration": 15,
    "start_time": "2022-07-13T19:27:51.753Z"
   },
   {
    "duration": 8,
    "start_time": "2022-07-13T19:27:51.769Z"
   },
   {
    "duration": 206,
    "start_time": "2022-07-13T19:27:51.779Z"
   },
   {
    "duration": 17,
    "start_time": "2022-07-13T19:27:51.987Z"
   },
   {
    "duration": 159,
    "start_time": "2022-07-13T19:27:52.007Z"
   },
   {
    "duration": 10,
    "start_time": "2022-07-13T19:27:52.167Z"
   },
   {
    "duration": 267,
    "start_time": "2022-07-13T19:27:52.178Z"
   },
   {
    "duration": 263,
    "start_time": "2022-07-13T19:27:52.447Z"
   },
   {
    "duration": 9,
    "start_time": "2022-07-13T19:27:52.711Z"
   },
   {
    "duration": 432,
    "start_time": "2022-07-13T19:27:52.722Z"
   },
   {
    "duration": 6,
    "start_time": "2022-07-13T19:27:53.156Z"
   },
   {
    "duration": 277,
    "start_time": "2022-07-13T19:27:53.165Z"
   },
   {
    "duration": 8,
    "start_time": "2022-07-13T19:27:53.444Z"
   },
   {
    "duration": 430,
    "start_time": "2022-07-13T19:27:53.455Z"
   },
   {
    "duration": 165,
    "start_time": "2022-07-13T19:27:53.887Z"
   },
   {
    "duration": 316,
    "start_time": "2022-07-13T19:27:54.054Z"
   },
   {
    "duration": 5,
    "start_time": "2022-07-13T19:27:54.372Z"
   },
   {
    "duration": 251,
    "start_time": "2022-07-13T19:27:54.379Z"
   },
   {
    "duration": 8,
    "start_time": "2022-07-13T19:27:54.632Z"
   },
   {
    "duration": 256,
    "start_time": "2022-07-13T19:27:54.642Z"
   },
   {
    "duration": 173,
    "start_time": "2022-07-13T19:27:54.902Z"
   },
   {
    "duration": 41,
    "start_time": "2022-07-13T19:27:55.077Z"
   },
   {
    "duration": 16,
    "start_time": "2022-07-13T19:27:55.121Z"
   },
   {
    "duration": 12,
    "start_time": "2022-07-13T19:27:55.140Z"
   },
   {
    "duration": 13,
    "start_time": "2022-07-13T19:27:55.155Z"
   },
   {
    "duration": 64,
    "start_time": "2022-07-13T19:27:55.170Z"
   },
   {
    "duration": 16,
    "start_time": "2022-07-13T19:27:55.236Z"
   }
  ],
  "kernelspec": {
   "display_name": "Python 3 (ipykernel)",
   "language": "python",
   "name": "python3"
  },
  "language_info": {
   "codemirror_mode": {
    "name": "ipython",
    "version": 3
   },
   "file_extension": ".py",
   "mimetype": "text/x-python",
   "name": "python",
   "nbconvert_exporter": "python",
   "pygments_lexer": "ipython3",
   "version": "3.9.5"
  },
  "toc": {
   "base_numbering": 1,
   "nav_menu": {},
   "number_sections": true,
   "sideBar": true,
   "skip_h1_title": true,
   "title_cell": "Содержание",
   "title_sidebar": "Contents",
   "toc_cell": true,
   "toc_position": {
    "height": "calc(100% - 180px)",
    "left": "10px",
    "top": "150px",
    "width": "261.67px"
   },
   "toc_section_display": true,
   "toc_window_display": true
  }
 },
 "nbformat": 4,
 "nbformat_minor": 2
}
