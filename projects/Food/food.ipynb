{
 "cells": [
  {
   "cell_type": "markdown",
   "metadata": {},
   "source": [
    "# Анализ рынка заведений общественного питания Москвы"
   ]
  },
  {
   "cell_type": "markdown",
   "metadata": {
    "toc": true
   },
   "source": [
    "<h1>Содержание<span class=\"tocSkip\"></span></h1>\n",
    "<div class=\"toc\"><ul class=\"toc-item\"><li><span><a href=\"#Введение\" data-toc-modified-id=\"Введение-1\"><span class=\"toc-item-num\">1&nbsp;&nbsp;</span>Введение</a></span></li><li><span><a href=\"#Загрузка-данных-и-подготвка-к-их-анализу\" data-toc-modified-id=\"Загрузка-данных-и-подготвка-к-их-анализу-2\"><span class=\"toc-item-num\">2&nbsp;&nbsp;</span>Загрузка данных и подготвка к их анализу</a></span><ul class=\"toc-item\"><li><span><a href=\"#Описание-данных\" data-toc-modified-id=\"Описание-данных-2.1\"><span class=\"toc-item-num\">2.1&nbsp;&nbsp;</span>Описание данных</a></span></li><li><span><a href=\"#Загрузка-данных\" data-toc-modified-id=\"Загрузка-данных-2.2\"><span class=\"toc-item-num\">2.2&nbsp;&nbsp;</span>Загрузка данных</a></span></li><li><span><a href=\"#Перевод-в-другой-тип-данных\" data-toc-modified-id=\"Перевод-в-другой-тип-данных-2.3\"><span class=\"toc-item-num\">2.3&nbsp;&nbsp;</span>Перевод в другой тип данных</a></span></li><li><span><a href=\"#Вывод\" data-toc-modified-id=\"Вывод-2.4\"><span class=\"toc-item-num\">2.4&nbsp;&nbsp;</span>Вывод</a></span></li></ul></li><li><span><a href=\"#Анализ-данных\" data-toc-modified-id=\"Анализ-данных-3\"><span class=\"toc-item-num\">3&nbsp;&nbsp;</span>Анализ данных</a></span><ul class=\"toc-item\"><li><span><a href=\"#Cоотношение-видов-объектов-общественного-питания-по-количеству\" data-toc-modified-id=\"Cоотношение-видов-объектов-общественного-питания-по-количеству-3.1\"><span class=\"toc-item-num\">3.1&nbsp;&nbsp;</span>Cоотношение видов объектов общественного питания по количеству</a></span></li><li><span><a href=\"#Соотношение-сетевых-и-несетевых-заведений-по-количеству\" data-toc-modified-id=\"Соотношение-сетевых-и-несетевых-заведений-по-количеству-3.2\"><span class=\"toc-item-num\">3.2&nbsp;&nbsp;</span>Соотношение сетевых и несетевых заведений по количеству</a></span></li><li><span><a href=\"#Определение-объекта-общественного-питания-сетевое-распространения\" data-toc-modified-id=\"Определение-объекта-общественного-питания-сетевое-распространения-3.3\"><span class=\"toc-item-num\">3.3&nbsp;&nbsp;</span>Определение объекта общественного питания сетевое распространения</a></span><ul class=\"toc-item\"><li><span><a href=\"#Вывод\" data-toc-modified-id=\"Вывод-3.3.1\"><span class=\"toc-item-num\">3.3.1&nbsp;&nbsp;</span>Вывод</a></span></li></ul></li><li><span><a href=\"#Характеристики-сетевых-заведений\" data-toc-modified-id=\"Характеристики-сетевых-заведений-3.4\"><span class=\"toc-item-num\">3.4&nbsp;&nbsp;</span>Характеристики сетевых заведений</a></span><ul class=\"toc-item\"><li><span><a href=\"#Вывод\" data-toc-modified-id=\"Вывод-3.4.1\"><span class=\"toc-item-num\">3.4.1&nbsp;&nbsp;</span>Вывод</a></span></li></ul></li><li><span><a href=\"#Cреднее-количество-посадочных-мест-для-каждого-вида-объекта-общественного-питания\" data-toc-modified-id=\"Cреднее-количество-посадочных-мест-для-каждого-вида-объекта-общественного-питания-3.5\"><span class=\"toc-item-num\">3.5&nbsp;&nbsp;</span>Cреднее количество посадочных мест для каждого вида объекта общественного питания</a></span></li><li><span><a href=\"#Добавление-улицы\" data-toc-modified-id=\"Добавление-улицы-3.6\"><span class=\"toc-item-num\">3.6&nbsp;&nbsp;</span>Добавление улицы</a></span><ul class=\"toc-item\"><li><span><a href=\"#Коментарий-студента\" data-toc-modified-id=\"Коментарий-студента-3.6.1\"><span class=\"toc-item-num\">3.6.1&nbsp;&nbsp;</span>Коментарий студента</a></span></li></ul></li><li><span><a href=\"#Нахождение-число-улиц-с-одним-объектом-общественного-питания\" data-toc-modified-id=\"Нахождение-число-улиц-с-одним-объектом-общественного-питания-3.7\"><span class=\"toc-item-num\">3.7&nbsp;&nbsp;</span>Нахождение число улиц с одним объектом общественного питания</a></span></li><li><span><a href=\"#Распределение-количества-посадочных-мест-для-улиц-с-большим-количеством-объектов\" data-toc-modified-id=\"Распределение-количества-посадочных-мест-для-улиц-с-большим-количеством-объектов-3.8\"><span class=\"toc-item-num\">3.8&nbsp;&nbsp;</span>Распределение количества посадочных мест для улиц с большим количеством объектов</a></span></li></ul></li><li><span><a href=\"#Вывод\" data-toc-modified-id=\"Вывод-4\"><span class=\"toc-item-num\">4&nbsp;&nbsp;</span>Вывод</a></span></li><li><span><a href=\"#Презентация\" data-toc-modified-id=\"Презентация-5\"><span class=\"toc-item-num\">5&nbsp;&nbsp;</span>Презентация</a></span></li></ul></div>"
   ]
  },
  {
   "cell_type": "markdown",
   "metadata": {},
   "source": [
    "## Введение"
   ]
  },
  {
   "cell_type": "markdown",
   "metadata": {},
   "source": [
    "Задача -  открыть небольшое кафе в Москве. Оно оригинальное — гостей должны обслуживать роботы. Проект многообещающий, но дорогой. Вместе с партнёрами мы решились обратиться к инвесторам. Их интересует текущее положение дел на рынке."
   ]
  },
  {
   "cell_type": "markdown",
   "metadata": {},
   "source": [
    "<br><img width=\"500\" src=\"https://cdn.vox-cdn.com/thumbor/cmYdaU0eE3vug-bSPotctsQ29qI=/0x142:1200x942/1310x873/cdn.vox-cdn.com/uploads/chorus_image/image/66878505/royal_palace_renesee_insta.0.jpg\">"
   ]
  },
  {
   "cell_type": "markdown",
   "metadata": {},
   "source": [
    "## Загрузка данных и подготвка к их анализу"
   ]
  },
  {
   "cell_type": "markdown",
   "metadata": {},
   "source": [
    "### Описание данных\n",
    "Таблица rest_data:  \n",
    "id — идентификатор объекта;  \n",
    "object_name — название объекта общественного питания;  \n",
    "chain — сетевой ресторан;  \n",
    "object_type — тип объекта общественного питания;  \n",
    "address — адрес;  \n",
    "number — количество посадочных мест.  "
   ]
  },
  {
   "cell_type": "markdown",
   "metadata": {},
   "source": [
    "### Загрузка данных"
   ]
  },
  {
   "cell_type": "code",
   "execution_count": 4,
   "metadata": {},
   "outputs": [],
   "source": [
    "from selenium import webdriver\n",
    "from webdriver_manager.chrome import ChromeDriverManager"
   ]
  },
  {
   "cell_type": "code",
   "execution_count": 5,
   "metadata": {},
   "outputs": [],
   "source": [
    "from selenium import webdriver\n",
    "from tqdm import tqdm_notebook as tqdmn\n",
    "import folium"
   ]
  },
  {
   "cell_type": "code",
   "execution_count": 6,
   "metadata": {},
   "outputs": [],
   "source": [
    "#Загружаем полезные стандартные библиотеки\n",
    "import pandas as pd \n",
    "from pymystem3 import Mystem as m \n",
    "from datetime import datetime, timedelta\n",
    "import numpy as np\n",
    "import seaborn as sns\n",
    "pd.set_option('display.max_columns', None)\n",
    "from scipy import stats as st\n",
    "import numpy as np\n",
    "import matplotlib.pyplot as plt\n",
    "import scipy.stats as stats\n",
    "import os # для проверки правильности загрузки данных\n",
    "import matplotlib.ticker as ticker # библ. для тиков на осях\n",
    "pd.set_option('display.float_format', '{:,.2f}'.format)\n",
    "import sys"
   ]
  },
  {
   "cell_type": "code",
   "execution_count": 7,
   "metadata": {},
   "outputs": [],
   "source": [
    "pth1 = '/datasets/rest_data.csv'\n",
    "\n",
    "if os.path.exists(pth1) :\n",
    "    rest_data = pd.read_csv(pth1) \n",
    "else:\n",
    "    print('Ошибка')"
   ]
  },
  {
   "cell_type": "code",
   "execution_count": 8,
   "metadata": {},
   "outputs": [
    {
     "data": {
      "text/html": [
       "<div>\n",
       "<style scoped>\n",
       "    .dataframe tbody tr th:only-of-type {\n",
       "        vertical-align: middle;\n",
       "    }\n",
       "\n",
       "    .dataframe tbody tr th {\n",
       "        vertical-align: top;\n",
       "    }\n",
       "\n",
       "    .dataframe thead th {\n",
       "        text-align: right;\n",
       "    }\n",
       "</style>\n",
       "<table border=\"1\" class=\"dataframe\">\n",
       "  <thead>\n",
       "    <tr style=\"text-align: right;\">\n",
       "      <th></th>\n",
       "      <th>id</th>\n",
       "      <th>object_name</th>\n",
       "      <th>chain</th>\n",
       "      <th>object_type</th>\n",
       "      <th>address</th>\n",
       "      <th>number</th>\n",
       "    </tr>\n",
       "  </thead>\n",
       "  <tbody>\n",
       "    <tr>\n",
       "      <th>0</th>\n",
       "      <td>151635</td>\n",
       "      <td>СМЕТАНА</td>\n",
       "      <td>нет</td>\n",
       "      <td>кафе</td>\n",
       "      <td>город Москва, улица Егора Абакумова, дом 9</td>\n",
       "      <td>48</td>\n",
       "    </tr>\n",
       "    <tr>\n",
       "      <th>1</th>\n",
       "      <td>77874</td>\n",
       "      <td>Родник</td>\n",
       "      <td>нет</td>\n",
       "      <td>кафе</td>\n",
       "      <td>город Москва, улица Талалихина, дом 2/1, корпус 1</td>\n",
       "      <td>35</td>\n",
       "    </tr>\n",
       "  </tbody>\n",
       "</table>\n",
       "</div>"
      ],
      "text/plain": [
       "       id object_name chain object_type  \\\n",
       "0  151635     СМЕТАНА   нет        кафе   \n",
       "1   77874      Родник   нет        кафе   \n",
       "\n",
       "                                             address  number  \n",
       "0         город Москва, улица Егора Абакумова, дом 9      48  \n",
       "1  город Москва, улица Талалихина, дом 2/1, корпус 1      35  "
      ]
     },
     "execution_count": 8,
     "metadata": {},
     "output_type": "execute_result"
    }
   ],
   "source": [
    "rest_data.head(2)"
   ]
  },
  {
   "cell_type": "code",
   "execution_count": 9,
   "metadata": {
    "scrolled": true
   },
   "outputs": [
    {
     "name": "stdout",
     "output_type": "stream",
     "text": [
      "<class 'pandas.core.frame.DataFrame'>\n",
      "RangeIndex: 15366 entries, 0 to 15365\n",
      "Data columns (total 6 columns):\n",
      " #   Column       Non-Null Count  Dtype \n",
      "---  ------       --------------  ----- \n",
      " 0   id           15366 non-null  int64 \n",
      " 1   object_name  15366 non-null  object\n",
      " 2   chain        15366 non-null  object\n",
      " 3   object_type  15366 non-null  object\n",
      " 4   address      15366 non-null  object\n",
      " 5   number       15366 non-null  int64 \n",
      "dtypes: int64(2), object(4)\n",
      "memory usage: 720.4+ KB\n"
     ]
    }
   ],
   "source": [
    "rest_data.info()"
   ]
  },
  {
   "cell_type": "code",
   "execution_count": 10,
   "metadata": {
    "scrolled": true
   },
   "outputs": [
    {
     "data": {
      "text/html": [
       "<div>\n",
       "<style scoped>\n",
       "    .dataframe tbody tr th:only-of-type {\n",
       "        vertical-align: middle;\n",
       "    }\n",
       "\n",
       "    .dataframe tbody tr th {\n",
       "        vertical-align: top;\n",
       "    }\n",
       "\n",
       "    .dataframe thead th {\n",
       "        text-align: right;\n",
       "    }\n",
       "</style>\n",
       "<table border=\"1\" class=\"dataframe\">\n",
       "  <thead>\n",
       "    <tr style=\"text-align: right;\">\n",
       "      <th></th>\n",
       "      <th>id</th>\n",
       "      <th>number</th>\n",
       "    </tr>\n",
       "  </thead>\n",
       "  <tbody>\n",
       "    <tr>\n",
       "      <th>count</th>\n",
       "      <td>15,366.00</td>\n",
       "      <td>15,366.00</td>\n",
       "    </tr>\n",
       "    <tr>\n",
       "      <th>mean</th>\n",
       "      <td>119,720.07</td>\n",
       "      <td>59.55</td>\n",
       "    </tr>\n",
       "    <tr>\n",
       "      <th>std</th>\n",
       "      <td>73,036.13</td>\n",
       "      <td>74.74</td>\n",
       "    </tr>\n",
       "    <tr>\n",
       "      <th>min</th>\n",
       "      <td>838.00</td>\n",
       "      <td>0.00</td>\n",
       "    </tr>\n",
       "    <tr>\n",
       "      <th>25%</th>\n",
       "      <td>28,524.00</td>\n",
       "      <td>12.00</td>\n",
       "    </tr>\n",
       "    <tr>\n",
       "      <th>50%</th>\n",
       "      <td>144,974.50</td>\n",
       "      <td>40.00</td>\n",
       "    </tr>\n",
       "    <tr>\n",
       "      <th>75%</th>\n",
       "      <td>184,262.25</td>\n",
       "      <td>80.00</td>\n",
       "    </tr>\n",
       "    <tr>\n",
       "      <th>max</th>\n",
       "      <td>223,439.00</td>\n",
       "      <td>1,700.00</td>\n",
       "    </tr>\n",
       "  </tbody>\n",
       "</table>\n",
       "</div>"
      ],
      "text/plain": [
       "              id    number\n",
       "count  15,366.00 15,366.00\n",
       "mean  119,720.07     59.55\n",
       "std    73,036.13     74.74\n",
       "min       838.00      0.00\n",
       "25%    28,524.00     12.00\n",
       "50%   144,974.50     40.00\n",
       "75%   184,262.25     80.00\n",
       "max   223,439.00  1,700.00"
      ]
     },
     "execution_count": 10,
     "metadata": {},
     "output_type": "execute_result"
    }
   ],
   "source": [
    "rest_data.describe()"
   ]
  },
  {
   "cell_type": "code",
   "execution_count": 11,
   "metadata": {},
   "outputs": [
    {
     "data": {
      "text/plain": [
       "0"
      ]
     },
     "execution_count": 11,
     "metadata": {},
     "output_type": "execute_result"
    }
   ],
   "source": [
    "rest_data.duplicated().sum()"
   ]
  },
  {
   "cell_type": "code",
   "execution_count": 12,
   "metadata": {},
   "outputs": [
    {
     "data": {
      "text/plain": [
       "82"
      ]
     },
     "execution_count": 12,
     "metadata": {},
     "output_type": "execute_result"
    }
   ],
   "source": [
    "df = rest_data.copy(deep=True).drop(columns = ['id'],axis = 1)\n",
    "df.duplicated().sum() "
   ]
  },
  {
   "cell_type": "code",
   "execution_count": 13,
   "metadata": {},
   "outputs": [
    {
     "name": "stdout",
     "output_type": "stream",
     "text": [
      "<class 'pandas.core.frame.DataFrame'>\n",
      "Int64Index: 15284 entries, 0 to 15365\n",
      "Data columns (total 6 columns):\n",
      " #   Column       Non-Null Count  Dtype \n",
      "---  ------       --------------  ----- \n",
      " 0   id           15284 non-null  int64 \n",
      " 1   object_name  15284 non-null  object\n",
      " 2   chain        15284 non-null  object\n",
      " 3   object_type  15284 non-null  object\n",
      " 4   address      15284 non-null  object\n",
      " 5   number       15284 non-null  int64 \n",
      "dtypes: int64(2), object(4)\n",
      "memory usage: 835.8+ KB\n"
     ]
    }
   ],
   "source": [
    "rest_data = rest_data.drop_duplicates(subset=['object_name','chain','object_type' ,'address' ,'number'],keep='last')\n",
    "rest_data.info()"
   ]
  },
  {
   "cell_type": "code",
   "execution_count": 14,
   "metadata": {
    "scrolled": true
   },
   "outputs": [
    {
     "data": {
      "text/plain": [
       "id             0\n",
       "object_name    0\n",
       "chain          0\n",
       "object_type    0\n",
       "address        0\n",
       "number         0\n",
       "dtype: int64"
      ]
     },
     "execution_count": 14,
     "metadata": {},
     "output_type": "execute_result"
    }
   ],
   "source": [
    "rest_data.isnull().sum()"
   ]
  },
  {
   "cell_type": "code",
   "execution_count": 15,
   "metadata": {},
   "outputs": [],
   "source": [
    "def preanalis(dataset):\n",
    "    dataset.info()\n",
    "    print()\n",
    "    print('кол-во дубликатов', dataset.duplicated().sum())\n",
    "    print()\n",
    "    print('Пропуски')\n",
    "    print(rest_data.isnull().sum())\n",
    "    print()\n",
    "    print('Характерисики значений')\n",
    "    print(rest_data.describe())"
   ]
  },
  {
   "cell_type": "code",
   "execution_count": 16,
   "metadata": {},
   "outputs": [
    {
     "name": "stdout",
     "output_type": "stream",
     "text": [
      "<class 'pandas.core.frame.DataFrame'>\n",
      "Int64Index: 15284 entries, 0 to 15365\n",
      "Data columns (total 6 columns):\n",
      " #   Column       Non-Null Count  Dtype \n",
      "---  ------       --------------  ----- \n",
      " 0   id           15284 non-null  int64 \n",
      " 1   object_name  15284 non-null  object\n",
      " 2   chain        15284 non-null  object\n",
      " 3   object_type  15284 non-null  object\n",
      " 4   address      15284 non-null  object\n",
      " 5   number       15284 non-null  int64 \n",
      "dtypes: int64(2), object(4)\n",
      "memory usage: 835.8+ KB\n",
      "\n",
      "кол-во дубликатов 0\n",
      "\n",
      "Пропуски\n",
      "id             0\n",
      "object_name    0\n",
      "chain          0\n",
      "object_type    0\n",
      "address        0\n",
      "number         0\n",
      "dtype: int64\n",
      "\n",
      "Характерисики значений\n",
      "              id    number\n",
      "count  15,284.00 15,284.00\n",
      "mean  119,539.12     59.78\n",
      "std    73,062.22     74.84\n",
      "min       838.00      0.00\n",
      "25%    28,495.75     14.00\n",
      "50%   144,812.50     40.00\n",
      "75%   184,181.00     80.00\n",
      "max   223,439.00  1,700.00\n"
     ]
    }
   ],
   "source": [
    "preanalis(rest_data)"
   ]
  },
  {
   "cell_type": "markdown",
   "metadata": {},
   "source": [
    "### Перевод в другой тип данных"
   ]
  },
  {
   "cell_type": "code",
   "execution_count": 17,
   "metadata": {},
   "outputs": [
    {
     "name": "stdout",
     "output_type": "stream",
     "text": [
      "<class 'pandas.core.frame.DataFrame'>\n",
      "Int64Index: 15284 entries, 0 to 15365\n",
      "Data columns (total 6 columns):\n",
      " #   Column       Non-Null Count  Dtype   \n",
      "---  ------       --------------  -----   \n",
      " 0   id           15284 non-null  int64   \n",
      " 1   object_name  15284 non-null  object  \n",
      " 2   chain        15284 non-null  category\n",
      " 3   object_type  15284 non-null  category\n",
      " 4   address      15284 non-null  object  \n",
      " 5   number       15284 non-null  int64   \n",
      "dtypes: category(2), int64(2), object(2)\n",
      "memory usage: 627.4+ KB\n"
     ]
    }
   ],
   "source": [
    "rest_data.chain = rest_data.chain.astype('category')\n",
    "rest_data.object_type = rest_data.object_type.astype('category')\n",
    "rest_data.info()"
   ]
  },
  {
   "cell_type": "markdown",
   "metadata": {},
   "source": [
    "### Вывод\n",
    "Данные ресторанов загружены и готовы к анализу. Дупликатов и повторов не обнаружено. Регистр написан в змеином языке. Так же изменили тип данных в нескольких столбцах для оптимизации."
   ]
  },
  {
   "cell_type": "markdown",
   "metadata": {},
   "source": [
    "## Анализ данных"
   ]
  },
  {
   "cell_type": "markdown",
   "metadata": {},
   "source": [
    "### Cоотношение видов объектов общественного питания по количеству"
   ]
  },
  {
   "cell_type": "code",
   "execution_count": 18,
   "metadata": {
    "scrolled": false
   },
   "outputs": [
    {
     "data": {
      "image/png": "[encoded data removed]",
      "text/plain": [
       "<Figure size 720x720 with 1 Axes>"
      ]
     },
     "metadata": {
      "needs_background": "light"
     },
     "output_type": "display_data"
    }
   ],
   "source": [
    "rest_type = rest_data.groupby('object_type').agg({'id':'count'}).\\\n",
    "                sort_values(by='id', ascending=True).\\\n",
    "                reset_index()\n",
    "fig, ax = plt.subplots()\n",
    "\n",
    "ax.barh(rest_type['object_type'],rest_type['id'])\n",
    "#ax.style.use('seaborn-talk')\n",
    "ax.set_title('Кол-во видов объектов')\n",
    "#ax.set_yticklabels(rest_type['object_type'],fontsize = 15)\n",
    "fig.set_figwidth(10)\n",
    "fig.set_figheight(10)\n",
    "plt.show()"
   ]
  },
  {
   "cell_type": "code",
   "execution_count": 19,
   "metadata": {},
   "outputs": [
    {
     "data": {
      "image/png": "[encoded data removed]",
      "text/plain": [
       "<Figure size 720x720 with 1 Axes>"
      ]
     },
     "metadata": {},
     "output_type": "display_data"
    }
   ],
   "source": [
    "#rest_type.plot(kind='pie', subplots=True, figsize=(8, 8), autopct='%1.0f%%')\n",
    "fig, ax = plt.subplots()\n",
    "explode = [0,0,0,0,0,0,0,0,0.09]\n",
    "colors = sns.color_palette('deep')\n",
    "ax.pie(rest_type.id, labels = rest_type.object_type, autopct='%1.1f%%',explode=explode,shadow=True,\n",
    "       startangle=-20, textprops = {'color': 'Black','fontsize':20}, colors = colors)\n",
    "ax.set_title('Процентное распределение объектов питания',fontsize = 25)\n",
    "fig.set_figwidth(10)\n",
    "ax.axis('equal')\n",
    "fig.set_figheight(10)\n",
    "plt.show()"
   ]
  },
  {
   "cell_type": "markdown",
   "metadata": {},
   "source": [
    "### Соотношение сетевых и несетевых заведений по количеству"
   ]
  },
  {
   "cell_type": "code",
   "execution_count": 20,
   "metadata": {},
   "outputs": [
    {
     "name": "stderr",
     "output_type": "stream",
     "text": [
      "/tmp/ipykernel_201/2290310075.py:6: UserWarning: FixedFormatter should only be used together with FixedLocator\n",
      "  ax.set_xticklabels(['Сетевые', 'Несетевые'])\n"
     ]
    },
    {
     "data": {
      "image/png": "[encoded data removed]",
      "text/plain": [
       "<Figure size 432x432 with 1 Axes>"
      ]
     },
     "metadata": {
      "needs_background": "light"
     },
     "output_type": "display_data"
    }
   ],
   "source": [
    "chain_pl = rest_data.groupby('chain')['id'].count().reset_index()\n",
    "fig, ax = plt.subplots()\n",
    "\n",
    "ax.bar(chain_pl['chain'],chain_pl['id'])\n",
    "#ax.style.use('seaborn-talk')\n",
    "ax.set_xticklabels(['Сетевые', 'Несетевые'])\n",
    "ax.set_title('Кол-во сетевых и несетвых заведений')\n",
    "ax.grid()\n",
    "fig.set_figwidth(6)\n",
    "fig.set_figheight(6)\n",
    "plt.show()"
   ]
  },
  {
   "cell_type": "markdown",
   "metadata": {},
   "source": [
    "### Определение объекта общественного питания сетевое распространения"
   ]
  },
  {
   "cell_type": "code",
   "execution_count": 21,
   "metadata": {},
   "outputs": [
    {
     "data": {
      "text/html": [
       "<div>\n",
       "<style scoped>\n",
       "    .dataframe tbody tr th:only-of-type {\n",
       "        vertical-align: middle;\n",
       "    }\n",
       "\n",
       "    .dataframe tbody tr th {\n",
       "        vertical-align: top;\n",
       "    }\n",
       "\n",
       "    .dataframe thead th {\n",
       "        text-align: right;\n",
       "    }\n",
       "</style>\n",
       "<table border=\"1\" class=\"dataframe\">\n",
       "  <thead>\n",
       "    <tr style=\"text-align: right;\">\n",
       "      <th></th>\n",
       "      <th>object_type</th>\n",
       "      <th>id</th>\n",
       "    </tr>\n",
       "  </thead>\n",
       "  <tbody>\n",
       "    <tr>\n",
       "      <th>0</th>\n",
       "      <td>кафе</td>\n",
       "      <td>1396</td>\n",
       "    </tr>\n",
       "    <tr>\n",
       "      <th>1</th>\n",
       "      <td>предприятие быстрого обслуживания</td>\n",
       "      <td>788</td>\n",
       "    </tr>\n",
       "    <tr>\n",
       "      <th>2</th>\n",
       "      <td>ресторан</td>\n",
       "      <td>543</td>\n",
       "    </tr>\n",
       "    <tr>\n",
       "      <th>3</th>\n",
       "      <td>магазин (отдел кулинарии)</td>\n",
       "      <td>78</td>\n",
       "    </tr>\n",
       "    <tr>\n",
       "      <th>4</th>\n",
       "      <td>закусочная</td>\n",
       "      <td>56</td>\n",
       "    </tr>\n",
       "    <tr>\n",
       "      <th>5</th>\n",
       "      <td>кафетерий</td>\n",
       "      <td>52</td>\n",
       "    </tr>\n",
       "    <tr>\n",
       "      <th>6</th>\n",
       "      <td>бар</td>\n",
       "      <td>37</td>\n",
       "    </tr>\n",
       "    <tr>\n",
       "      <th>7</th>\n",
       "      <td>буфет</td>\n",
       "      <td>11</td>\n",
       "    </tr>\n",
       "    <tr>\n",
       "      <th>8</th>\n",
       "      <td>столовая</td>\n",
       "      <td>3</td>\n",
       "    </tr>\n",
       "  </tbody>\n",
       "</table>\n",
       "</div>"
      ],
      "text/plain": [
       "                         object_type    id\n",
       "0                               кафе  1396\n",
       "1  предприятие быстрого обслуживания   788\n",
       "2                           ресторан   543\n",
       "3          магазин (отдел кулинарии)    78\n",
       "4                         закусочная    56\n",
       "5                          кафетерий    52\n",
       "6                                бар    37\n",
       "7                              буфет    11\n",
       "8                           столовая     3"
      ]
     },
     "execution_count": 21,
     "metadata": {},
     "output_type": "execute_result"
    }
   ],
   "source": [
    "rest_type_chain = rest_data[rest_data['chain'] == 'да'].groupby('object_type').agg({'id':'count'}).\\\n",
    "                sort_values(by='id', ascending=False).\\\n",
    "                reset_index()\n",
    "rest_type_chain"
   ]
  },
  {
   "cell_type": "markdown",
   "metadata": {},
   "source": [
    "#### Вывод\n",
    "Для кафе, предприятие быстрого обслуживания\tи для ресторана характерно сетевое распространение"
   ]
  },
  {
   "cell_type": "code",
   "execution_count": 22,
   "metadata": {
    "scrolled": true
   },
   "outputs": [
    {
     "data": {
      "text/html": [
       "<div>\n",
       "<style scoped>\n",
       "    .dataframe tbody tr th:only-of-type {\n",
       "        vertical-align: middle;\n",
       "    }\n",
       "\n",
       "    .dataframe tbody tr th {\n",
       "        vertical-align: top;\n",
       "    }\n",
       "\n",
       "    .dataframe thead th {\n",
       "        text-align: right;\n",
       "    }\n",
       "</style>\n",
       "<table border=\"1\" class=\"dataframe\">\n",
       "  <thead>\n",
       "    <tr style=\"text-align: right;\">\n",
       "      <th></th>\n",
       "      <th>chain</th>\n",
       "      <th>object_type</th>\n",
       "      <th>id</th>\n",
       "    </tr>\n",
       "  </thead>\n",
       "  <tbody>\n",
       "    <tr>\n",
       "      <th>0</th>\n",
       "      <td>да</td>\n",
       "      <td>бар</td>\n",
       "      <td>37</td>\n",
       "    </tr>\n",
       "    <tr>\n",
       "      <th>1</th>\n",
       "      <td>да</td>\n",
       "      <td>буфет</td>\n",
       "      <td>11</td>\n",
       "    </tr>\n",
       "    <tr>\n",
       "      <th>2</th>\n",
       "      <td>да</td>\n",
       "      <td>закусочная</td>\n",
       "      <td>56</td>\n",
       "    </tr>\n",
       "    <tr>\n",
       "      <th>3</th>\n",
       "      <td>да</td>\n",
       "      <td>кафе</td>\n",
       "      <td>1396</td>\n",
       "    </tr>\n",
       "    <tr>\n",
       "      <th>4</th>\n",
       "      <td>да</td>\n",
       "      <td>кафетерий</td>\n",
       "      <td>52</td>\n",
       "    </tr>\n",
       "    <tr>\n",
       "      <th>5</th>\n",
       "      <td>да</td>\n",
       "      <td>магазин (отдел кулинарии)</td>\n",
       "      <td>78</td>\n",
       "    </tr>\n",
       "    <tr>\n",
       "      <th>6</th>\n",
       "      <td>да</td>\n",
       "      <td>предприятие быстрого обслуживания</td>\n",
       "      <td>788</td>\n",
       "    </tr>\n",
       "    <tr>\n",
       "      <th>7</th>\n",
       "      <td>да</td>\n",
       "      <td>ресторан</td>\n",
       "      <td>543</td>\n",
       "    </tr>\n",
       "    <tr>\n",
       "      <th>8</th>\n",
       "      <td>да</td>\n",
       "      <td>столовая</td>\n",
       "      <td>3</td>\n",
       "    </tr>\n",
       "    <tr>\n",
       "      <th>9</th>\n",
       "      <td>нет</td>\n",
       "      <td>бар</td>\n",
       "      <td>818</td>\n",
       "    </tr>\n",
       "    <tr>\n",
       "      <th>10</th>\n",
       "      <td>нет</td>\n",
       "      <td>буфет</td>\n",
       "      <td>566</td>\n",
       "    </tr>\n",
       "    <tr>\n",
       "      <th>11</th>\n",
       "      <td>нет</td>\n",
       "      <td>закусочная</td>\n",
       "      <td>293</td>\n",
       "    </tr>\n",
       "    <tr>\n",
       "      <th>12</th>\n",
       "      <td>нет</td>\n",
       "      <td>кафе</td>\n",
       "      <td>4675</td>\n",
       "    </tr>\n",
       "    <tr>\n",
       "      <th>13</th>\n",
       "      <td>нет</td>\n",
       "      <td>кафетерий</td>\n",
       "      <td>343</td>\n",
       "    </tr>\n",
       "    <tr>\n",
       "      <th>14</th>\n",
       "      <td>нет</td>\n",
       "      <td>магазин (отдел кулинарии)</td>\n",
       "      <td>195</td>\n",
       "    </tr>\n",
       "    <tr>\n",
       "      <th>15</th>\n",
       "      <td>нет</td>\n",
       "      <td>предприятие быстрого обслуживания</td>\n",
       "      <td>1110</td>\n",
       "    </tr>\n",
       "    <tr>\n",
       "      <th>16</th>\n",
       "      <td>нет</td>\n",
       "      <td>ресторан</td>\n",
       "      <td>1739</td>\n",
       "    </tr>\n",
       "    <tr>\n",
       "      <th>17</th>\n",
       "      <td>нет</td>\n",
       "      <td>столовая</td>\n",
       "      <td>2581</td>\n",
       "    </tr>\n",
       "  </tbody>\n",
       "</table>\n",
       "</div>"
      ],
      "text/plain": [
       "   chain                        object_type    id\n",
       "0     да                                бар    37\n",
       "1     да                              буфет    11\n",
       "2     да                         закусочная    56\n",
       "3     да                               кафе  1396\n",
       "4     да                          кафетерий    52\n",
       "5     да          магазин (отдел кулинарии)    78\n",
       "6     да  предприятие быстрого обслуживания   788\n",
       "7     да                           ресторан   543\n",
       "8     да                           столовая     3\n",
       "9    нет                                бар   818\n",
       "10   нет                              буфет   566\n",
       "11   нет                         закусочная   293\n",
       "12   нет                               кафе  4675\n",
       "13   нет                          кафетерий   343\n",
       "14   нет          магазин (отдел кулинарии)   195\n",
       "15   нет  предприятие быстрого обслуживания  1110\n",
       "16   нет                           ресторан  1739\n",
       "17   нет                           столовая  2581"
      ]
     },
     "execution_count": 22,
     "metadata": {},
     "output_type": "execute_result"
    }
   ],
   "source": [
    "rest_type_chain1 = rest_data.groupby(['chain','object_type'])['id'].count().reset_index()\n",
    "rest_type_chain1"
   ]
  },
  {
   "cell_type": "code",
   "execution_count": 23,
   "metadata": {},
   "outputs": [
    {
     "data": {
      "text/html": [
       "<div>\n",
       "<style scoped>\n",
       "    .dataframe tbody tr th:only-of-type {\n",
       "        vertical-align: middle;\n",
       "    }\n",
       "\n",
       "    .dataframe tbody tr th {\n",
       "        vertical-align: top;\n",
       "    }\n",
       "\n",
       "    .dataframe thead th {\n",
       "        text-align: right;\n",
       "    }\n",
       "</style>\n",
       "<table border=\"1\" class=\"dataframe\">\n",
       "  <thead>\n",
       "    <tr style=\"text-align: right;\">\n",
       "      <th></th>\n",
       "      <th>Сетевое заведение</th>\n",
       "      <th>тип объекта</th>\n",
       "      <th>Кол-во</th>\n",
       "      <th>Общее кол-во</th>\n",
       "      <th>Доля</th>\n",
       "    </tr>\n",
       "  </thead>\n",
       "  <tbody>\n",
       "    <tr>\n",
       "      <th>17</th>\n",
       "      <td>нет</td>\n",
       "      <td>столовая</td>\n",
       "      <td>2581</td>\n",
       "      <td>2584</td>\n",
       "      <td>99.88</td>\n",
       "    </tr>\n",
       "    <tr>\n",
       "      <th>10</th>\n",
       "      <td>нет</td>\n",
       "      <td>буфет</td>\n",
       "      <td>566</td>\n",
       "      <td>577</td>\n",
       "      <td>98.09</td>\n",
       "    </tr>\n",
       "    <tr>\n",
       "      <th>9</th>\n",
       "      <td>нет</td>\n",
       "      <td>бар</td>\n",
       "      <td>818</td>\n",
       "      <td>855</td>\n",
       "      <td>95.67</td>\n",
       "    </tr>\n",
       "    <tr>\n",
       "      <th>13</th>\n",
       "      <td>нет</td>\n",
       "      <td>кафетерий</td>\n",
       "      <td>343</td>\n",
       "      <td>395</td>\n",
       "      <td>86.84</td>\n",
       "    </tr>\n",
       "    <tr>\n",
       "      <th>11</th>\n",
       "      <td>нет</td>\n",
       "      <td>закусочная</td>\n",
       "      <td>293</td>\n",
       "      <td>349</td>\n",
       "      <td>83.95</td>\n",
       "    </tr>\n",
       "    <tr>\n",
       "      <th>12</th>\n",
       "      <td>нет</td>\n",
       "      <td>кафе</td>\n",
       "      <td>4675</td>\n",
       "      <td>6071</td>\n",
       "      <td>77.01</td>\n",
       "    </tr>\n",
       "    <tr>\n",
       "      <th>16</th>\n",
       "      <td>нет</td>\n",
       "      <td>ресторан</td>\n",
       "      <td>1739</td>\n",
       "      <td>2282</td>\n",
       "      <td>76.21</td>\n",
       "    </tr>\n",
       "    <tr>\n",
       "      <th>14</th>\n",
       "      <td>нет</td>\n",
       "      <td>магазин (отдел кулинарии)</td>\n",
       "      <td>195</td>\n",
       "      <td>273</td>\n",
       "      <td>71.43</td>\n",
       "    </tr>\n",
       "    <tr>\n",
       "      <th>15</th>\n",
       "      <td>нет</td>\n",
       "      <td>предприятие быстрого обслуживания</td>\n",
       "      <td>1110</td>\n",
       "      <td>1898</td>\n",
       "      <td>58.48</td>\n",
       "    </tr>\n",
       "    <tr>\n",
       "      <th>6</th>\n",
       "      <td>да</td>\n",
       "      <td>предприятие быстрого обслуживания</td>\n",
       "      <td>788</td>\n",
       "      <td>1898</td>\n",
       "      <td>41.52</td>\n",
       "    </tr>\n",
       "    <tr>\n",
       "      <th>5</th>\n",
       "      <td>да</td>\n",
       "      <td>магазин (отдел кулинарии)</td>\n",
       "      <td>78</td>\n",
       "      <td>273</td>\n",
       "      <td>28.57</td>\n",
       "    </tr>\n",
       "    <tr>\n",
       "      <th>7</th>\n",
       "      <td>да</td>\n",
       "      <td>ресторан</td>\n",
       "      <td>543</td>\n",
       "      <td>2282</td>\n",
       "      <td>23.79</td>\n",
       "    </tr>\n",
       "    <tr>\n",
       "      <th>3</th>\n",
       "      <td>да</td>\n",
       "      <td>кафе</td>\n",
       "      <td>1396</td>\n",
       "      <td>6071</td>\n",
       "      <td>22.99</td>\n",
       "    </tr>\n",
       "    <tr>\n",
       "      <th>2</th>\n",
       "      <td>да</td>\n",
       "      <td>закусочная</td>\n",
       "      <td>56</td>\n",
       "      <td>349</td>\n",
       "      <td>16.05</td>\n",
       "    </tr>\n",
       "    <tr>\n",
       "      <th>4</th>\n",
       "      <td>да</td>\n",
       "      <td>кафетерий</td>\n",
       "      <td>52</td>\n",
       "      <td>395</td>\n",
       "      <td>13.16</td>\n",
       "    </tr>\n",
       "    <tr>\n",
       "      <th>0</th>\n",
       "      <td>да</td>\n",
       "      <td>бар</td>\n",
       "      <td>37</td>\n",
       "      <td>855</td>\n",
       "      <td>4.33</td>\n",
       "    </tr>\n",
       "    <tr>\n",
       "      <th>1</th>\n",
       "      <td>да</td>\n",
       "      <td>буфет</td>\n",
       "      <td>11</td>\n",
       "      <td>577</td>\n",
       "      <td>1.91</td>\n",
       "    </tr>\n",
       "    <tr>\n",
       "      <th>8</th>\n",
       "      <td>да</td>\n",
       "      <td>столовая</td>\n",
       "      <td>3</td>\n",
       "      <td>2584</td>\n",
       "      <td>0.12</td>\n",
       "    </tr>\n",
       "  </tbody>\n",
       "</table>\n",
       "</div>"
      ],
      "text/plain": [
       "   Сетевое заведение                        тип объекта  Кол-во  Общее кол-во  \\\n",
       "17               нет                           столовая    2581          2584   \n",
       "10               нет                              буфет     566           577   \n",
       "9                нет                                бар     818           855   \n",
       "13               нет                          кафетерий     343           395   \n",
       "11               нет                         закусочная     293           349   \n",
       "12               нет                               кафе    4675          6071   \n",
       "16               нет                           ресторан    1739          2282   \n",
       "14               нет          магазин (отдел кулинарии)     195           273   \n",
       "15               нет  предприятие быстрого обслуживания    1110          1898   \n",
       "6                 да  предприятие быстрого обслуживания     788          1898   \n",
       "5                 да          магазин (отдел кулинарии)      78           273   \n",
       "7                 да                           ресторан     543          2282   \n",
       "3                 да                               кафе    1396          6071   \n",
       "2                 да                         закусочная      56           349   \n",
       "4                 да                          кафетерий      52           395   \n",
       "0                 да                                бар      37           855   \n",
       "1                 да                              буфет      11           577   \n",
       "8                 да                           столовая       3          2584   \n",
       "\n",
       "    Доля  \n",
       "17 99.88  \n",
       "10 98.09  \n",
       "9  95.67  \n",
       "13 86.84  \n",
       "11 83.95  \n",
       "12 77.01  \n",
       "16 76.21  \n",
       "14 71.43  \n",
       "15 58.48  \n",
       "6  41.52  \n",
       "5  28.57  \n",
       "7  23.79  \n",
       "3  22.99  \n",
       "2  16.05  \n",
       "4  13.16  \n",
       "0   4.33  \n",
       "1   1.91  \n",
       "8   0.12  "
      ]
     },
     "execution_count": 23,
     "metadata": {},
     "output_type": "execute_result"
    }
   ],
   "source": [
    "total_objects =  rest_data.groupby(['object_type'])['id'].count().reset_index()\n",
    "\n",
    "res = rest_type_chain1.merge(total_objects,how='left',left_on='object_type', right_on='object_type')\n",
    "res['Доля'] = res['id_x']/res['id_y'] * 100\n",
    "res.rename(columns = {'chain' : 'Сетевое заведение', 'object_type' : 'тип объекта',\n",
    "                      'id_x' : 'Кол-во','id_y' : 'Общее кол-во'},inplace = True)\n",
    "res =res.sort_values(by='Доля', ascending=False)\n",
    "res"
   ]
  },
  {
   "cell_type": "code",
   "execution_count": 24,
   "metadata": {},
   "outputs": [
    {
     "data": {
      "image/png": "[encoded data removed]",
      "text/plain": [
       "<Figure size 720x720 with 1 Axes>"
      ]
     },
     "metadata": {
      "needs_background": "light"
     },
     "output_type": "display_data"
    }
   ],
   "source": [
    "plt.figure(figsize=(10, 10))\n",
    "sns.barplot(y=\"тип объекта\", hue=\"Сетевое заведение\", x=\"Доля\", data=res)\n",
    "plt.title('Доля сетевых и несетвых заведений')\n",
    "plt.legend(loc=(0.9, 0.65))\n",
    "plt.show()"
   ]
  },
  {
   "cell_type": "markdown",
   "metadata": {},
   "source": [
    "### Характеристики сетевых заведений"
   ]
  },
  {
   "cell_type": "code",
   "execution_count": 25,
   "metadata": {},
   "outputs": [
    {
     "data": {
      "text/plain": [
       "KFC                155\n",
       "Шоколадница        141\n",
       "Бургер Кинг        122\n",
       "Макдоналдс         121\n",
       "Домино'с Пицца      86\n",
       "Теремок             84\n",
       "Крошка Картошка     82\n",
       "Милти               65\n",
       "Суши Wok            61\n",
       "Папа Джонс          50\n",
       "Кофе с собой        42\n",
       "Name: object_name, dtype: int64"
      ]
     },
     "execution_count": 25,
     "metadata": {},
     "output_type": "execute_result"
    }
   ],
   "source": [
    "rest_data[rest_data['chain'] == 'да']['object_name'].value_counts().head(11)"
   ]
  },
  {
   "cell_type": "code",
   "execution_count": 26,
   "metadata": {},
   "outputs": [
    {
     "data": {
      "text/html": [
       "<div>\n",
       "<style scoped>\n",
       "    .dataframe tbody tr th:only-of-type {\n",
       "        vertical-align: middle;\n",
       "    }\n",
       "\n",
       "    .dataframe tbody tr th {\n",
       "        vertical-align: top;\n",
       "    }\n",
       "\n",
       "    .dataframe thead th {\n",
       "        text-align: right;\n",
       "    }\n",
       "</style>\n",
       "<table border=\"1\" class=\"dataframe\">\n",
       "  <thead>\n",
       "    <tr style=\"text-align: right;\">\n",
       "      <th></th>\n",
       "      <th>object_name</th>\n",
       "      <th>id</th>\n",
       "      <th>number</th>\n",
       "    </tr>\n",
       "  </thead>\n",
       "  <tbody>\n",
       "    <tr>\n",
       "      <th>0</th>\n",
       "      <td>KFC</td>\n",
       "      <td>155</td>\n",
       "      <td>55.34</td>\n",
       "    </tr>\n",
       "    <tr>\n",
       "      <th>1</th>\n",
       "      <td>Шоколадница</td>\n",
       "      <td>141</td>\n",
       "      <td>56.17</td>\n",
       "    </tr>\n",
       "    <tr>\n",
       "      <th>2</th>\n",
       "      <td>Бургер Кинг</td>\n",
       "      <td>122</td>\n",
       "      <td>45.02</td>\n",
       "    </tr>\n",
       "    <tr>\n",
       "      <th>3</th>\n",
       "      <td>Макдоналдс</td>\n",
       "      <td>121</td>\n",
       "      <td>82.17</td>\n",
       "    </tr>\n",
       "    <tr>\n",
       "      <th>4</th>\n",
       "      <td>Домино'с Пицца</td>\n",
       "      <td>86</td>\n",
       "      <td>18.21</td>\n",
       "    </tr>\n",
       "    <tr>\n",
       "      <th>5</th>\n",
       "      <td>Теремок</td>\n",
       "      <td>84</td>\n",
       "      <td>25.05</td>\n",
       "    </tr>\n",
       "    <tr>\n",
       "      <th>6</th>\n",
       "      <td>Крошка Картошка</td>\n",
       "      <td>82</td>\n",
       "      <td>22.96</td>\n",
       "    </tr>\n",
       "    <tr>\n",
       "      <th>7</th>\n",
       "      <td>Милти</td>\n",
       "      <td>65</td>\n",
       "      <td>1.43</td>\n",
       "    </tr>\n",
       "    <tr>\n",
       "      <th>8</th>\n",
       "      <td>Суши Wok</td>\n",
       "      <td>61</td>\n",
       "      <td>7.13</td>\n",
       "    </tr>\n",
       "    <tr>\n",
       "      <th>9</th>\n",
       "      <td>Папа Джонс</td>\n",
       "      <td>50</td>\n",
       "      <td>22.16</td>\n",
       "    </tr>\n",
       "  </tbody>\n",
       "</table>\n",
       "</div>"
      ],
      "text/plain": [
       "       object_name   id  number\n",
       "0              KFC  155   55.34\n",
       "1      Шоколадница  141   56.17\n",
       "2      Бургер Кинг  122   45.02\n",
       "3       Макдоналдс  121   82.17\n",
       "4   Домино'с Пицца   86   18.21\n",
       "5          Теремок   84   25.05\n",
       "6  Крошка Картошка   82   22.96\n",
       "7            Милти   65    1.43\n",
       "8         Суши Wok   61    7.13\n",
       "9       Папа Джонс   50   22.16"
      ]
     },
     "execution_count": 26,
     "metadata": {},
     "output_type": "execute_result"
    }
   ],
   "source": [
    "rest_data[rest_data['chain'] == 'да'].groupby('object_name').agg({'id':'count', 'number':'mean'}).\\\n",
    "                sort_values(by='id', ascending=False).\\\n",
    "                reset_index().head(10)"
   ]
  },
  {
   "cell_type": "code",
   "execution_count": 27,
   "metadata": {},
   "outputs": [
    {
     "data": {
      "text/html": [
       "<div>\n",
       "<style scoped>\n",
       "    .dataframe tbody tr th:only-of-type {\n",
       "        vertical-align: middle;\n",
       "    }\n",
       "\n",
       "    .dataframe tbody tr th {\n",
       "        vertical-align: top;\n",
       "    }\n",
       "\n",
       "    .dataframe thead th {\n",
       "        text-align: right;\n",
       "    }\n",
       "</style>\n",
       "<table border=\"1\" class=\"dataframe\">\n",
       "  <thead>\n",
       "    <tr style=\"text-align: right;\">\n",
       "      <th></th>\n",
       "      <th>object_name</th>\n",
       "      <th>id</th>\n",
       "      <th>number</th>\n",
       "    </tr>\n",
       "  </thead>\n",
       "  <tbody>\n",
       "    <tr>\n",
       "      <th>0</th>\n",
       "      <td>Милти</td>\n",
       "      <td>64</td>\n",
       "      <td>0.83</td>\n",
       "    </tr>\n",
       "    <tr>\n",
       "      <th>1</th>\n",
       "      <td>Суши Wok</td>\n",
       "      <td>58</td>\n",
       "      <td>6.43</td>\n",
       "    </tr>\n",
       "    <tr>\n",
       "      <th>2</th>\n",
       "      <td>Домино'с Пицца</td>\n",
       "      <td>54</td>\n",
       "      <td>12.57</td>\n",
       "    </tr>\n",
       "    <tr>\n",
       "      <th>3</th>\n",
       "      <td>Крошка Картошка</td>\n",
       "      <td>44</td>\n",
       "      <td>7.34</td>\n",
       "    </tr>\n",
       "    <tr>\n",
       "      <th>4</th>\n",
       "      <td>Кофе с собой</td>\n",
       "      <td>42</td>\n",
       "      <td>0.86</td>\n",
       "    </tr>\n",
       "    <tr>\n",
       "      <th>5</th>\n",
       "      <td>Теремок</td>\n",
       "      <td>33</td>\n",
       "      <td>6.76</td>\n",
       "    </tr>\n",
       "    <tr>\n",
       "      <th>6</th>\n",
       "      <td>KFC</td>\n",
       "      <td>24</td>\n",
       "      <td>6.58</td>\n",
       "    </tr>\n",
       "    <tr>\n",
       "      <th>7</th>\n",
       "      <td>Папа Джонс</td>\n",
       "      <td>22</td>\n",
       "      <td>7.55</td>\n",
       "    </tr>\n",
       "    <tr>\n",
       "      <th>8</th>\n",
       "      <td>Бургер Кинг</td>\n",
       "      <td>20</td>\n",
       "      <td>4.75</td>\n",
       "    </tr>\n",
       "    <tr>\n",
       "      <th>9</th>\n",
       "      <td>Subway</td>\n",
       "      <td>19</td>\n",
       "      <td>10.63</td>\n",
       "    </tr>\n",
       "  </tbody>\n",
       "</table>\n",
       "</div>"
      ],
      "text/plain": [
       "       object_name  id  number\n",
       "0            Милти  64    0.83\n",
       "1         Суши Wok  58    6.43\n",
       "2   Домино'с Пицца  54   12.57\n",
       "3  Крошка Картошка  44    7.34\n",
       "4     Кофе с собой  42    0.86\n",
       "5          Теремок  33    6.76\n",
       "6              KFC  24    6.58\n",
       "7       Папа Джонс  22    7.55\n",
       "8      Бургер Кинг  20    4.75\n",
       "9           Subway  19   10.63"
      ]
     },
     "execution_count": 27,
     "metadata": {},
     "output_type": "execute_result"
    }
   ],
   "source": [
    "rest_data[(rest_data['chain'] == 'да') & (rest_data['number'] < 20)].groupby('object_name').agg({'id':'count', 'number':'mean'}).\\\n",
    "                sort_values(by='id', ascending=False).\\\n",
    "                reset_index().head(10)"
   ]
  },
  {
   "cell_type": "code",
   "execution_count": 28,
   "metadata": {},
   "outputs": [
    {
     "data": {
      "text/html": [
       "<div>\n",
       "<style scoped>\n",
       "    .dataframe tbody tr th:only-of-type {\n",
       "        vertical-align: middle;\n",
       "    }\n",
       "\n",
       "    .dataframe tbody tr th {\n",
       "        vertical-align: top;\n",
       "    }\n",
       "\n",
       "    .dataframe thead th {\n",
       "        text-align: right;\n",
       "    }\n",
       "</style>\n",
       "<table border=\"1\" class=\"dataframe\">\n",
       "  <thead>\n",
       "    <tr style=\"text-align: right;\">\n",
       "      <th></th>\n",
       "      <th>object_type</th>\n",
       "      <th>chain</th>\n",
       "      <th>id</th>\n",
       "      <th>number</th>\n",
       "    </tr>\n",
       "  </thead>\n",
       "  <tbody>\n",
       "    <tr>\n",
       "      <th>0</th>\n",
       "      <td>кафе</td>\n",
       "      <td>нет</td>\n",
       "      <td>4675</td>\n",
       "      <td>30.00</td>\n",
       "    </tr>\n",
       "    <tr>\n",
       "      <th>1</th>\n",
       "      <td>столовая</td>\n",
       "      <td>нет</td>\n",
       "      <td>2581</td>\n",
       "      <td>103.00</td>\n",
       "    </tr>\n",
       "    <tr>\n",
       "      <th>2</th>\n",
       "      <td>ресторан</td>\n",
       "      <td>нет</td>\n",
       "      <td>1739</td>\n",
       "      <td>75.00</td>\n",
       "    </tr>\n",
       "    <tr>\n",
       "      <th>3</th>\n",
       "      <td>кафе</td>\n",
       "      <td>да</td>\n",
       "      <td>1396</td>\n",
       "      <td>40.00</td>\n",
       "    </tr>\n",
       "    <tr>\n",
       "      <th>4</th>\n",
       "      <td>предприятие быстрого обслуживания</td>\n",
       "      <td>нет</td>\n",
       "      <td>1110</td>\n",
       "      <td>0.00</td>\n",
       "    </tr>\n",
       "    <tr>\n",
       "      <th>5</th>\n",
       "      <td>бар</td>\n",
       "      <td>нет</td>\n",
       "      <td>818</td>\n",
       "      <td>34.00</td>\n",
       "    </tr>\n",
       "    <tr>\n",
       "      <th>6</th>\n",
       "      <td>предприятие быстрого обслуживания</td>\n",
       "      <td>да</td>\n",
       "      <td>788</td>\n",
       "      <td>25.00</td>\n",
       "    </tr>\n",
       "    <tr>\n",
       "      <th>7</th>\n",
       "      <td>буфет</td>\n",
       "      <td>нет</td>\n",
       "      <td>566</td>\n",
       "      <td>32.00</td>\n",
       "    </tr>\n",
       "    <tr>\n",
       "      <th>8</th>\n",
       "      <td>ресторан</td>\n",
       "      <td>да</td>\n",
       "      <td>543</td>\n",
       "      <td>89.00</td>\n",
       "    </tr>\n",
       "    <tr>\n",
       "      <th>9</th>\n",
       "      <td>кафетерий</td>\n",
       "      <td>нет</td>\n",
       "      <td>343</td>\n",
       "      <td>6.00</td>\n",
       "    </tr>\n",
       "    <tr>\n",
       "      <th>10</th>\n",
       "      <td>закусочная</td>\n",
       "      <td>нет</td>\n",
       "      <td>293</td>\n",
       "      <td>0.00</td>\n",
       "    </tr>\n",
       "    <tr>\n",
       "      <th>11</th>\n",
       "      <td>магазин (отдел кулинарии)</td>\n",
       "      <td>нет</td>\n",
       "      <td>195</td>\n",
       "      <td>0.00</td>\n",
       "    </tr>\n",
       "    <tr>\n",
       "      <th>12</th>\n",
       "      <td>магазин (отдел кулинарии)</td>\n",
       "      <td>да</td>\n",
       "      <td>78</td>\n",
       "      <td>3.50</td>\n",
       "    </tr>\n",
       "    <tr>\n",
       "      <th>13</th>\n",
       "      <td>закусочная</td>\n",
       "      <td>да</td>\n",
       "      <td>56</td>\n",
       "      <td>8.00</td>\n",
       "    </tr>\n",
       "    <tr>\n",
       "      <th>14</th>\n",
       "      <td>кафетерий</td>\n",
       "      <td>да</td>\n",
       "      <td>52</td>\n",
       "      <td>8.00</td>\n",
       "    </tr>\n",
       "    <tr>\n",
       "      <th>15</th>\n",
       "      <td>бар</td>\n",
       "      <td>да</td>\n",
       "      <td>37</td>\n",
       "      <td>45.00</td>\n",
       "    </tr>\n",
       "    <tr>\n",
       "      <th>16</th>\n",
       "      <td>буфет</td>\n",
       "      <td>да</td>\n",
       "      <td>11</td>\n",
       "      <td>0.00</td>\n",
       "    </tr>\n",
       "    <tr>\n",
       "      <th>17</th>\n",
       "      <td>столовая</td>\n",
       "      <td>да</td>\n",
       "      <td>3</td>\n",
       "      <td>120.00</td>\n",
       "    </tr>\n",
       "  </tbody>\n",
       "</table>\n",
       "</div>"
      ],
      "text/plain": [
       "                          object_type chain    id  number\n",
       "0                                кафе   нет  4675   30.00\n",
       "1                            столовая   нет  2581  103.00\n",
       "2                            ресторан   нет  1739   75.00\n",
       "3                                кафе    да  1396   40.00\n",
       "4   предприятие быстрого обслуживания   нет  1110    0.00\n",
       "5                                 бар   нет   818   34.00\n",
       "6   предприятие быстрого обслуживания    да   788   25.00\n",
       "7                               буфет   нет   566   32.00\n",
       "8                            ресторан    да   543   89.00\n",
       "9                           кафетерий   нет   343    6.00\n",
       "10                         закусочная   нет   293    0.00\n",
       "11          магазин (отдел кулинарии)   нет   195    0.00\n",
       "12          магазин (отдел кулинарии)    да    78    3.50\n",
       "13                         закусочная    да    56    8.00\n",
       "14                          кафетерий    да    52    8.00\n",
       "15                                бар    да    37   45.00\n",
       "16                              буфет    да    11    0.00\n",
       "17                           столовая    да     3  120.00"
      ]
     },
     "execution_count": 28,
     "metadata": {},
     "output_type": "execute_result"
    }
   ],
   "source": [
    "places = rest_data.groupby(['object_type','chain']).agg({'id':'count', 'number':'median'}).\\\n",
    "                sort_values(by='id', ascending=False).\\\n",
    "                reset_index()\n",
    "places"
   ]
  },
  {
   "cell_type": "code",
   "execution_count": 29,
   "metadata": {
    "scrolled": true
   },
   "outputs": [
    {
     "data": {
      "image/png": "[encoded data removed]",
      "text/plain": [
       "<Figure size 720x720 with 1 Axes>"
      ]
     },
     "metadata": {
      "needs_background": "light"
     },
     "output_type": "display_data"
    }
   ],
   "source": [
    "plt.figure(figsize=(10, 10))\n",
    "sns.barplot(y=\"object_type\", hue=\"chain\", x=\"number\", data=places)\n",
    "plt.title('Среднее кол-во посадочных мест')\n",
    "plt.legend(loc=(0.9, 0.65))\n",
    "plt.show()"
   ]
  },
  {
   "cell_type": "markdown",
   "metadata": {},
   "source": [
    "####  Вывод\n",
    "Как видно из данных, для сетевых заведений характерно в среднем больше мест для посадки, но сетевых заведений в целом намного меньше чем несетвых."
   ]
  },
  {
   "cell_type": "markdown",
   "metadata": {},
   "source": [
    "###  Cреднее количество посадочных мест для каждого вида объекта общественного питания"
   ]
  },
  {
   "cell_type": "code",
   "execution_count": 30,
   "metadata": {
    "scrolled": false
   },
   "outputs": [
    {
     "data": {
      "image/png": "[encoded data removed]",
      "text/plain": [
       "<Figure size 720x720 with 1 Axes>"
      ]
     },
     "metadata": {
      "needs_background": "light"
     },
     "output_type": "display_data"
    }
   ],
   "source": [
    "mean_numb_object = rest_data.groupby('object_type').agg({ 'number':'mean'}).\\\n",
    "                sort_values(by='number', ascending=True).\\\n",
    "                reset_index()\n",
    "fig, ax = plt.subplots()\n",
    "ax.barh(mean_numb_object['object_type'],mean_numb_object['number'])\n",
    "#ax.style.use('seaborn-talk')\n",
    "ax.grid()\n",
    "ax.set_title(' Cреднее количество посадочных мест')\n",
    "#ax.set_yticklabels(rest_type['object_type'],fontsize = 15)\n",
    "fig.set_figwidth(10)\n",
    "fig.set_figheight(10)\n",
    "plt.show()"
   ]
  },
  {
   "cell_type": "markdown",
   "metadata": {},
   "source": [
    "### Добавление улицы"
   ]
  },
  {
   "cell_type": "code",
   "execution_count": 31,
   "metadata": {
    "scrolled": true
   },
   "outputs": [
    {
     "data": {
      "text/plain": [
       " город Зеленоград          232\n",
       " проспект Мира             204\n",
       " Профсоюзная улица         181\n",
       " Ленинградский проспект    170\n",
       " Пресненская набережная    167\n",
       " Варшавское шоссе          161\n",
       " Ленинский проспект        147\n",
       " поселение Сосенское       137\n",
       " проспект Вернадского      128\n",
       " Кутузовский проспект      114\n",
       " Каширское шоссе           111\n",
       "Name: street123, dtype: int64"
      ]
     },
     "execution_count": 31,
     "metadata": {},
     "output_type": "execute_result"
    }
   ],
   "source": [
    "rest_data[\"street123\"] = rest_data['address'].str.split(',')\n",
    "rest_data[\"street123\"] = rest_data[\"street123\"].str[1]\n",
    "rest_data[\"street123\"].value_counts().head(11)"
   ]
  },
  {
   "cell_type": "markdown",
   "metadata": {},
   "source": [
    "#### Коментарий студента\n",
    "Данный способ не очень подходит. Я знаю, что такого рода задачи решаются с помощью регулярных выражений, но сам я такой метод еще не освоил, поэтому я нашел решение в интернете. Оно и расположено ниже. Поэтому у меня просьба, дорогой ревьювер, нету ли у тебя какого нибудь учебника или методичики по регулярным выражением, что я находил на первых страницах гугла мне как то не очень подошло. Заранее спасибо =)"
   ]
  },
  {
   "cell_type": "code",
   "execution_count": 32,
   "metadata": {},
   "outputs": [],
   "source": [
    "# Для улицы\n",
    "words = ['улица','ул','переулок','шоссе','проспект','площадь','проезд',\n",
    "         'село','аллея','бульвар','набережная','тупик','линия']\n",
    "\n",
    "str_pat = r\".*,\\s*\\b([^,]*?(?:{})\\b[^,]*)[,$]+\".format(\"|\".join(words))\n",
    "\n",
    "rest_data[\"street\"] = rest_data['address'].str.extract(str_pat)"
   ]
  },
  {
   "cell_type": "code",
   "execution_count": 33,
   "metadata": {
    "scrolled": true
   },
   "outputs": [
    {
     "data": {
      "text/plain": [
       "проспект Мира             204\n",
       "Профсоюзная улица         181\n",
       "Ленинградский проспект    170\n",
       "Пресненская набережная    167\n",
       "Варшавское шоссе          164\n",
       "Ленинский проспект        147\n",
       "проспект Вернадского      128\n",
       "Кутузовский проспект      114\n",
       "Каширское шоссе           111\n",
       "Кировоградская улица      108\n",
       "Name: street, dtype: int64"
      ]
     },
     "execution_count": 33,
     "metadata": {},
     "output_type": "execute_result"
    }
   ],
   "source": [
    "rest_data[\"street\"].value_counts().head(10)"
   ]
  },
  {
   "cell_type": "code",
   "execution_count": 34,
   "metadata": {},
   "outputs": [],
   "source": [
    "top10_str = rest_data.groupby(\"street\").agg({ 'id':'count'}).\\\n",
    "                sort_values(by='id', ascending=False).\\\n",
    "                reset_index().head(10)\n",
    "top10_str_list = top10_str[\"street\"].tolist() #Пригодится позде"
   ]
  },
  {
   "cell_type": "code",
   "execution_count": 35,
   "metadata": {},
   "outputs": [
    {
     "data": {
      "image/png": "[encoded data removed]",
      "text/plain": [
       "<Figure size 720x720 with 1 Axes>"
      ]
     },
     "metadata": {
      "needs_background": "light"
     },
     "output_type": "display_data"
    }
   ],
   "source": [
    "top10_str = rest_data.groupby(\"street\").agg({ 'id':'count'}).\\\n",
    "                sort_values(by='id', ascending=True).\\\n",
    "                reset_index().tail(10)\n",
    "fig, ax = plt.subplots()\n",
    "ax.barh(top10_str[\"street\"],top10_str[\"id\"])\n",
    "#ax.style.use('seaborn-talk')\n",
    "ax.grid()\n",
    "#ax.set_title('Распределение кол-ва объектов по популярным улицам')\n",
    "#ax.set_yticklabels(rest_type['object_type'],fontsize = 15)\n",
    "fig.set_figwidth(10)\n",
    "fig.set_figheight(10)\n",
    "plt.show()"
   ]
  },
  {
   "cell_type": "markdown",
   "metadata": {},
   "source": [
    "<br><img width=\"500\" src=\"https://typical-moscow.ru/wp-content/uploads/2020/06/%D1%80%D0%B0%D0%B8%CC%86%D0%BE%D0%BD%D1%8B-%D0%BC%D0%BE%D1%81%D0%BA%D0%B2%D1%8B.jpg\">"
   ]
  },
  {
   "cell_type": "markdown",
   "metadata": {},
   "source": [
    "### Нахождение число улиц с одним объектом общественного питания"
   ]
  },
  {
   "cell_type": "code",
   "execution_count": 39,
   "metadata": {},
   "outputs": [
    {
     "name": "stdout",
     "output_type": "stream",
     "text": [
      "Число улиц с 1 заведением: 551\n"
     ]
    }
   ],
   "source": [
    "one_street = rest_data.groupby(\"street\").agg({ 'id':'count'}).\\\n",
    "                sort_values(by='id', ascending=False).\\\n",
    "                reset_index()\n",
    "print('Число улиц с 1 заведением:',one_street[one_street['id'] == 1]['id'].count()) "
   ]
  },
  {
   "cell_type": "markdown",
   "metadata": {},
   "source": [
    "### Распределение количества посадочных мест для улиц с большим количеством объектов"
   ]
  },
  {
   "cell_type": "code",
   "execution_count": 42,
   "metadata": {},
   "outputs": [
    {
     "data": {
      "image/png": "[encoded data removed]",
      "text/plain": [
       "<Figure size 720x720 with 1 Axes>"
      ]
     },
     "metadata": {
      "needs_background": "light"
     },
     "output_type": "display_data"
    }
   ],
   "source": [
    "kok = rest_data.groupby(\"street\").agg({ 'id':'count','number':'median'}).\\\n",
    "                sort_values(by='id', ascending=False).\\\n",
    "                reset_index().head(10)\n",
    "fig, ax = plt.subplots()\n",
    "ax.barh(kok[\"street\"],kok[\"number\"])\n",
    "#ax.style.use('seaborn-talk')\n",
    "ax.grid()\n",
    "ax.set_title('Медианное кол-во посадочных мест по улицам')\n",
    "#ax.set_yticklabels(rest_type['object_type'],fontsize = 15)\n",
    "fig.set_figwidth(10)\n",
    "fig.set_figheight(10)\n",
    "plt.show()"
   ]
  },
  {
   "cell_type": "code",
   "execution_count": 43,
   "metadata": {},
   "outputs": [
    {
     "data": {
      "image/png": "[encoded data removed]",
      "text/plain": [
       "<Figure size 1224x1224 with 10 Axes>"
      ]
     },
     "metadata": {
      "needs_background": "light"
     },
     "output_type": "display_data"
    }
   ],
   "source": [
    "fig, axes = plt.subplots(5,2)\n",
    "for ax, street in zip(axes.ravel(),top10_str_list):\n",
    "    ax.hist(data = rest_data[(rest_data['street'] == street) & (rest_data['number'] < 500)],x = 'number')\n",
    "    ax.set_title(street)\n",
    "\n",
    "fig.suptitle('Посадочные места на популярных улицах', fontsize = 30)\n",
    "fig.set_figheight(17)\n",
    "fig.set_figwidth(17)\n",
    "plt.show()"
   ]
  },
  {
   "cell_type": "code",
   "execution_count": 44,
   "metadata": {},
   "outputs": [
    {
     "data": {
      "image/png": "[encoded data removed]",
      "text/plain": [
       "<Figure size 720x720 with 1 Axes>"
      ]
     },
     "metadata": {
      "needs_background": "light"
     },
     "output_type": "display_data"
    }
   ],
   "source": [
    "fig, ax = plt.subplots()\n",
    "for street in top10_str_list:\n",
    "    ax.hist(data = rest_data[(rest_data['street'] == street) & (rest_data['number'] < 300)],x = 'number')\n",
    "ax.set_title('Псадочные места заведений всех популярных улиц')\n",
    "fig.set_figwidth(10)\n",
    "fig.set_figheight(10)\n",
    "plt.show()"
   ]
  },
  {
   "cell_type": "markdown",
   "metadata": {},
   "source": [
    "## Вывод\n",
    "Проанализировав полученные данные можно сделать следующие выводы и рекомендации. Для открытия интересного робокафе следует учитывать следующие факторы:  \n",
    "1) На рынке преобладают кафе как тип объектов общественного питания. Следовательно лучше ориентироваться на открытие именно кафе.  \n",
    "2) В Москве больше не сетевых объектов общественного питания. Рекомендавано начинать именно с не сетевого кафе (уникального).  \n",
    "3) По среднему кол-ву мест лидирует стооловая, буфет. Обслуживать роботами столовые и буфеты не целесообразно, не та целевая аудитория, тем более на данный момент труднореализуемо в техническом плане. Рекомендуется сделать больше акцент на уникальность и качество обслуживание, а не на кол-во мест.  \n",
    "4) Наиболее популярные улицы находятся в ЦАО, ЮАО. Районы популярны и дорогие, но робокафе будет выгодно отличаться от других кафешек своей уникальностью. Не следует распологаться на улицах с маленьким кол-вом заведений.  \n",
    "5) Рекомендованное кол-во мест для посадки, как следует из графиков: от 20 до 50.  "
   ]
  }
 ],
 "metadata": {
  "ExecuteTimeLog": [
   {
    "duration": 1111,
    "start_time": "2022-02-01T10:06:37.790Z"
   },
   {
    "duration": 6,
    "start_time": "2022-02-01T10:07:05.556Z"
   },
   {
    "duration": 14,
    "start_time": "2022-02-01T10:09:15.918Z"
   },
   {
    "duration": 90,
    "start_time": "2022-02-01T10:09:29.745Z"
   },
   {
    "duration": 45,
    "start_time": "2022-02-01T10:09:44.905Z"
   },
   {
    "duration": 14,
    "start_time": "2022-02-01T10:09:51.544Z"
   },
   {
    "duration": 10,
    "start_time": "2022-02-01T10:10:32.288Z"
   },
   {
    "duration": 19,
    "start_time": "2022-02-01T10:11:18.087Z"
   },
   {
    "duration": 8,
    "start_time": "2022-02-01T10:12:25.542Z"
   },
   {
    "duration": 273,
    "start_time": "2022-02-01T10:13:16.646Z"
   },
   {
    "duration": 7,
    "start_time": "2022-02-01T10:13:28.133Z"
   },
   {
    "duration": 6,
    "start_time": "2022-02-01T10:15:18.428Z"
   },
   {
    "duration": 8,
    "start_time": "2022-02-01T10:15:22.332Z"
   },
   {
    "duration": 7,
    "start_time": "2022-02-01T10:15:43.236Z"
   },
   {
    "duration": 17,
    "start_time": "2022-02-01T10:16:30.612Z"
   },
   {
    "duration": 312,
    "start_time": "2022-02-02T06:09:28.964Z"
   },
   {
    "duration": 1222,
    "start_time": "2022-02-02T06:09:35.743Z"
   },
   {
    "duration": 50,
    "start_time": "2022-02-02T06:09:36.967Z"
   },
   {
    "duration": 12,
    "start_time": "2022-02-02T06:09:37.020Z"
   },
   {
    "duration": 10,
    "start_time": "2022-02-02T06:09:37.034Z"
   },
   {
    "duration": 18,
    "start_time": "2022-02-02T06:09:37.046Z"
   },
   {
    "duration": 42,
    "start_time": "2022-02-02T06:09:37.065Z"
   },
   {
    "duration": 9,
    "start_time": "2022-02-02T06:09:37.109Z"
   },
   {
    "duration": 8,
    "start_time": "2022-02-02T06:09:37.120Z"
   },
   {
    "duration": 407,
    "start_time": "2022-02-02T06:09:37.129Z"
   },
   {
    "duration": 73,
    "start_time": "2022-02-02T06:09:57.067Z"
   },
   {
    "duration": 6,
    "start_time": "2022-02-02T06:10:02.563Z"
   },
   {
    "duration": 11,
    "start_time": "2022-02-02T06:18:45.029Z"
   },
   {
    "duration": 5,
    "start_time": "2022-02-02T07:34:02.545Z"
   },
   {
    "duration": 5,
    "start_time": "2022-02-02T07:34:08.024Z"
   },
   {
    "duration": 8,
    "start_time": "2022-02-02T07:34:48.248Z"
   },
   {
    "duration": 85,
    "start_time": "2022-02-02T08:09:21.209Z"
   },
   {
    "duration": 295,
    "start_time": "2022-02-02T08:09:27.437Z"
   },
   {
    "duration": 297,
    "start_time": "2022-02-02T08:11:24.820Z"
   },
   {
    "duration": 463,
    "start_time": "2022-02-02T18:25:47.959Z"
   },
   {
    "duration": 1424,
    "start_time": "2022-02-02T18:25:52.705Z"
   },
   {
    "duration": 61,
    "start_time": "2022-02-02T18:25:54.132Z"
   },
   {
    "duration": 19,
    "start_time": "2022-02-02T18:25:54.196Z"
   },
   {
    "duration": 13,
    "start_time": "2022-02-02T18:25:54.218Z"
   },
   {
    "duration": 44,
    "start_time": "2022-02-02T18:25:54.234Z"
   },
   {
    "duration": 25,
    "start_time": "2022-02-02T18:25:54.281Z"
   },
   {
    "duration": 10,
    "start_time": "2022-02-02T18:25:54.308Z"
   },
   {
    "duration": 45,
    "start_time": "2022-02-02T18:25:54.321Z"
   },
   {
    "duration": 475,
    "start_time": "2022-02-02T18:25:54.371Z"
   },
   {
    "duration": 498,
    "start_time": "2022-02-02T18:25:54.848Z"
   },
   {
    "duration": -111,
    "start_time": "2022-02-02T18:25:55.459Z"
   },
   {
    "duration": -111,
    "start_time": "2022-02-02T18:25:55.461Z"
   },
   {
    "duration": 427,
    "start_time": "2022-02-02T18:26:40.270Z"
   },
   {
    "duration": 382,
    "start_time": "2022-02-02T18:27:22.285Z"
   },
   {
    "duration": 48,
    "start_time": "2022-02-02T18:27:32.119Z"
   },
   {
    "duration": 416,
    "start_time": "2022-02-02T18:28:31.673Z"
   },
   {
    "duration": 40,
    "start_time": "2022-02-02T18:38:17.816Z"
   },
   {
    "duration": 92,
    "start_time": "2022-02-02T18:38:30.745Z"
   },
   {
    "duration": 409,
    "start_time": "2022-02-02T18:38:52.387Z"
   },
   {
    "duration": 22,
    "start_time": "2022-02-02T18:38:56.825Z"
   },
   {
    "duration": 394,
    "start_time": "2022-02-02T18:39:19.430Z"
   },
   {
    "duration": 402,
    "start_time": "2022-02-02T18:43:32.141Z"
   },
   {
    "duration": 436,
    "start_time": "2022-02-02T18:43:38.998Z"
   },
   {
    "duration": 39,
    "start_time": "2022-02-02T18:43:51.999Z"
   },
   {
    "duration": 114,
    "start_time": "2022-02-02T18:44:05.788Z"
   },
   {
    "duration": 406,
    "start_time": "2022-02-02T18:44:24.530Z"
   },
   {
    "duration": 436,
    "start_time": "2022-02-02T18:44:56.130Z"
   },
   {
    "duration": 409,
    "start_time": "2022-02-02T18:45:09.194Z"
   },
   {
    "duration": 43,
    "start_time": "2022-02-02T18:45:41.253Z"
   },
   {
    "duration": 49,
    "start_time": "2022-02-02T18:45:53.293Z"
   },
   {
    "duration": 537,
    "start_time": "2022-02-02T18:46:09.806Z"
   },
   {
    "duration": 375,
    "start_time": "2022-02-02T18:48:40.896Z"
   },
   {
    "duration": 180,
    "start_time": "2022-02-02T18:48:48.187Z"
   },
   {
    "duration": 49,
    "start_time": "2022-02-02T18:50:05.582Z"
   },
   {
    "duration": 256,
    "start_time": "2022-02-02T18:50:11.552Z"
   },
   {
    "duration": 94,
    "start_time": "2022-02-02T18:50:18.241Z"
   },
   {
    "duration": 53,
    "start_time": "2022-02-02T18:50:31.430Z"
   },
   {
    "duration": 42,
    "start_time": "2022-02-02T18:52:19.042Z"
   },
   {
    "duration": 119,
    "start_time": "2022-02-02T18:52:28.245Z"
   },
   {
    "duration": 14,
    "start_time": "2022-02-02T18:52:37.735Z"
   },
   {
    "duration": 127,
    "start_time": "2022-02-02T18:53:12.788Z"
   },
   {
    "duration": 13,
    "start_time": "2022-02-02T18:53:17.577Z"
   },
   {
    "duration": 42,
    "start_time": "2022-02-02T18:53:32.584Z"
   },
   {
    "duration": 131,
    "start_time": "2022-02-02T18:54:04.040Z"
   },
   {
    "duration": 68,
    "start_time": "2022-02-02T18:54:07.947Z"
   },
   {
    "duration": 55,
    "start_time": "2022-02-02T18:54:14.328Z"
   },
   {
    "duration": 59,
    "start_time": "2022-02-02T18:54:26.473Z"
   },
   {
    "duration": 370,
    "start_time": "2022-02-02T18:57:36.799Z"
   },
   {
    "duration": 379,
    "start_time": "2022-02-02T18:58:27.015Z"
   },
   {
    "duration": 512,
    "start_time": "2022-02-02T18:58:45.373Z"
   },
   {
    "duration": 389,
    "start_time": "2022-02-02T18:59:05.115Z"
   },
   {
    "duration": 197,
    "start_time": "2022-02-02T19:00:22.151Z"
   },
   {
    "duration": 63,
    "start_time": "2022-02-02T19:00:36.908Z"
   },
   {
    "duration": 46,
    "start_time": "2022-02-02T19:01:11.472Z"
   },
   {
    "duration": 392,
    "start_time": "2022-02-02T19:02:10.148Z"
   },
   {
    "duration": 59,
    "start_time": "2022-02-02T19:02:20.272Z"
   },
   {
    "duration": 61,
    "start_time": "2022-02-02T19:02:48.710Z"
   },
   {
    "duration": 123,
    "start_time": "2022-02-02T19:03:12.952Z"
   },
   {
    "duration": 52,
    "start_time": "2022-02-02T19:03:17.406Z"
   },
   {
    "duration": 9372,
    "start_time": "2022-02-02T19:03:33.473Z"
   },
   {
    "duration": 47,
    "start_time": "2022-02-02T19:24:23.176Z"
   },
   {
    "duration": 45,
    "start_time": "2022-02-02T19:24:34.472Z"
   },
   {
    "duration": 8205,
    "start_time": "2022-02-02T19:25:20.760Z"
   },
   {
    "duration": 133,
    "start_time": "2022-02-02T19:25:53.472Z"
   },
   {
    "duration": 53,
    "start_time": "2022-02-02T19:26:49.047Z"
   },
   {
    "duration": 48,
    "start_time": "2022-02-02T19:27:02.197Z"
   },
   {
    "duration": 9470,
    "start_time": "2022-02-02T19:27:12.625Z"
   },
   {
    "duration": 42,
    "start_time": "2022-02-02T19:27:34.810Z"
   },
   {
    "duration": 32,
    "start_time": "2022-02-02T19:28:22.322Z"
   },
   {
    "duration": 118,
    "start_time": "2022-02-02T19:30:49.373Z"
   },
   {
    "duration": 38,
    "start_time": "2022-02-02T19:31:00.408Z"
   },
   {
    "duration": 2234,
    "start_time": "2022-02-02T19:31:05.376Z"
   },
   {
    "duration": 52,
    "start_time": "2022-02-02T19:31:12.088Z"
   },
   {
    "duration": 47,
    "start_time": "2022-02-02T19:31:22.598Z"
   },
   {
    "duration": 9987,
    "start_time": "2022-02-02T19:36:35.152Z"
   },
   {
    "duration": 58,
    "start_time": "2022-02-02T19:37:12.749Z"
   },
   {
    "duration": 133,
    "start_time": "2022-02-02T19:37:19.640Z"
   },
   {
    "duration": 54,
    "start_time": "2022-02-02T19:37:45.503Z"
   },
   {
    "duration": 52,
    "start_time": "2022-02-02T19:38:06.013Z"
   },
   {
    "duration": 143,
    "start_time": "2022-02-02T19:38:29.978Z"
   },
   {
    "duration": 68,
    "start_time": "2022-02-02T19:38:34.212Z"
   },
   {
    "duration": 49,
    "start_time": "2022-02-02T19:39:07.705Z"
   },
   {
    "duration": 1430,
    "start_time": "2022-02-02T19:42:16.403Z"
   },
   {
    "duration": 63,
    "start_time": "2022-02-02T19:42:17.835Z"
   },
   {
    "duration": 17,
    "start_time": "2022-02-02T19:42:17.900Z"
   },
   {
    "duration": 13,
    "start_time": "2022-02-02T19:42:17.920Z"
   },
   {
    "duration": 51,
    "start_time": "2022-02-02T19:42:17.936Z"
   },
   {
    "duration": 24,
    "start_time": "2022-02-02T19:42:17.990Z"
   },
   {
    "duration": 10,
    "start_time": "2022-02-02T19:42:18.016Z"
   },
   {
    "duration": 43,
    "start_time": "2022-02-02T19:42:18.030Z"
   },
   {
    "duration": 477,
    "start_time": "2022-02-02T19:42:18.075Z"
   },
   {
    "duration": 23,
    "start_time": "2022-02-02T19:42:18.555Z"
   },
   {
    "duration": 49,
    "start_time": "2022-02-02T19:42:18.580Z"
   },
   {
    "duration": 132,
    "start_time": "2022-02-02T19:42:18.631Z"
   },
   {
    "duration": 18,
    "start_time": "2022-02-02T19:42:18.767Z"
   },
   {
    "duration": 459,
    "start_time": "2022-02-03T19:26:10.690Z"
   },
   {
    "duration": 1971,
    "start_time": "2022-02-03T19:26:17.581Z"
   },
   {
    "duration": 59,
    "start_time": "2022-02-03T19:26:19.555Z"
   },
   {
    "duration": 17,
    "start_time": "2022-02-03T19:26:19.617Z"
   },
   {
    "duration": 25,
    "start_time": "2022-02-03T19:26:19.636Z"
   },
   {
    "duration": 31,
    "start_time": "2022-02-03T19:26:19.664Z"
   },
   {
    "duration": 32,
    "start_time": "2022-02-03T19:26:19.698Z"
   },
   {
    "duration": 40,
    "start_time": "2022-02-03T19:26:19.733Z"
   },
   {
    "duration": 9,
    "start_time": "2022-02-03T19:26:19.777Z"
   },
   {
    "duration": 475,
    "start_time": "2022-02-03T19:26:19.788Z"
   },
   {
    "duration": 306,
    "start_time": "2022-02-03T19:26:20.266Z"
   },
   {
    "duration": 13,
    "start_time": "2022-02-03T19:26:20.574Z"
   },
   {
    "duration": 46,
    "start_time": "2022-02-03T19:26:20.590Z"
   },
   {
    "duration": 160,
    "start_time": "2022-02-03T19:26:20.660Z"
   },
   {
    "duration": 20,
    "start_time": "2022-02-03T19:26:20.823Z"
   },
   {
    "duration": 751,
    "start_time": "2022-02-03T19:30:03.125Z"
   },
   {
    "duration": 340,
    "start_time": "2022-02-03T19:31:09.866Z"
   },
   {
    "duration": 615,
    "start_time": "2022-02-03T19:32:26.850Z"
   },
   {
    "duration": 638,
    "start_time": "2022-02-03T19:32:35.083Z"
   },
   {
    "duration": 114,
    "start_time": "2022-02-03T19:33:05.119Z"
   },
   {
    "duration": 624,
    "start_time": "2022-02-03T19:33:10.316Z"
   },
   {
    "duration": 663,
    "start_time": "2022-02-03T19:33:58.560Z"
   },
   {
    "duration": 261,
    "start_time": "2022-02-03T19:34:06.413Z"
   },
   {
    "duration": 350,
    "start_time": "2022-02-03T19:34:14.085Z"
   },
   {
    "duration": 3461,
    "start_time": "2022-02-03T19:35:03.479Z"
   },
   {
    "duration": 255,
    "start_time": "2022-02-03T19:35:13.138Z"
   },
   {
    "duration": 1632,
    "start_time": "2022-02-03T19:35:25.654Z"
   },
   {
    "duration": 1029,
    "start_time": "2022-02-03T19:36:06.674Z"
   },
   {
    "duration": 248,
    "start_time": "2022-02-03T19:36:13.804Z"
   },
   {
    "duration": 331,
    "start_time": "2022-02-03T19:36:22.044Z"
   },
   {
    "duration": 214,
    "start_time": "2022-02-03T19:36:28.063Z"
   },
   {
    "duration": 307,
    "start_time": "2022-02-03T19:38:11.791Z"
   },
   {
    "duration": 234,
    "start_time": "2022-02-03T19:38:23.352Z"
   },
   {
    "duration": 10,
    "start_time": "2022-02-03T19:41:55.573Z"
   },
   {
    "duration": 10,
    "start_time": "2022-02-03T19:42:02.747Z"
   },
   {
    "duration": 378,
    "start_time": "2022-02-04T07:02:59.147Z"
   },
   {
    "duration": 1464,
    "start_time": "2022-02-04T07:03:04.419Z"
   },
   {
    "duration": 55,
    "start_time": "2022-02-04T07:03:05.885Z"
   },
   {
    "duration": 17,
    "start_time": "2022-02-04T07:03:05.943Z"
   },
   {
    "duration": 17,
    "start_time": "2022-02-04T07:03:05.963Z"
   },
   {
    "duration": 45,
    "start_time": "2022-02-04T07:03:05.982Z"
   },
   {
    "duration": 24,
    "start_time": "2022-02-04T07:03:06.029Z"
   },
   {
    "duration": 10,
    "start_time": "2022-02-04T07:03:06.055Z"
   },
   {
    "duration": 11,
    "start_time": "2022-02-04T07:03:06.068Z"
   },
   {
    "duration": 44,
    "start_time": "2022-02-04T07:03:06.081Z"
   },
   {
    "duration": 9,
    "start_time": "2022-02-04T07:03:06.127Z"
   },
   {
    "duration": 437,
    "start_time": "2022-02-04T07:03:06.138Z"
   },
   {
    "duration": 226,
    "start_time": "2022-02-04T07:03:06.577Z"
   },
   {
    "duration": 24,
    "start_time": "2022-02-04T07:03:06.805Z"
   },
   {
    "duration": 45,
    "start_time": "2022-02-04T07:03:06.832Z"
   },
   {
    "duration": 114,
    "start_time": "2022-02-04T07:03:06.880Z"
   },
   {
    "duration": 27,
    "start_time": "2022-02-04T07:03:06.996Z"
   },
   {
    "duration": 17,
    "start_time": "2022-02-04T07:03:18.735Z"
   },
   {
    "duration": 350,
    "start_time": "2022-02-04T07:04:33.366Z"
   },
   {
    "duration": 439,
    "start_time": "2022-02-04T07:05:42.651Z"
   },
   {
    "duration": 133,
    "start_time": "2022-02-04T07:05:50.997Z"
   },
   {
    "duration": 353,
    "start_time": "2022-02-04T07:06:13.709Z"
   },
   {
    "duration": 15,
    "start_time": "2022-02-04T07:06:40.700Z"
   },
   {
    "duration": 15,
    "start_time": "2022-02-04T07:07:03.764Z"
   },
   {
    "duration": 16,
    "start_time": "2022-02-04T07:07:17.140Z"
   },
   {
    "duration": 406,
    "start_time": "2022-02-04T07:07:30.636Z"
   },
   {
    "duration": 14,
    "start_time": "2022-02-04T07:07:39.491Z"
   },
   {
    "duration": 587,
    "start_time": "2022-02-04T07:09:56.706Z"
   },
   {
    "duration": 10,
    "start_time": "2022-02-04T07:10:11.009Z"
   },
   {
    "duration": 15,
    "start_time": "2022-02-04T07:10:17.320Z"
   },
   {
    "duration": 281,
    "start_time": "2022-02-04T07:10:32.320Z"
   },
   {
    "duration": 525,
    "start_time": "2022-02-04T07:15:34.564Z"
   },
   {
    "duration": 318,
    "start_time": "2022-02-04T07:15:41.796Z"
   },
   {
    "duration": 16,
    "start_time": "2022-02-04T07:15:49.147Z"
   },
   {
    "duration": 294,
    "start_time": "2022-02-04T07:15:52.445Z"
   },
   {
    "duration": 1587,
    "start_time": "2022-02-04T10:54:08.593Z"
   },
   {
    "duration": 81,
    "start_time": "2022-02-04T10:54:10.183Z"
   },
   {
    "duration": 25,
    "start_time": "2022-02-04T10:54:10.269Z"
   },
   {
    "duration": 29,
    "start_time": "2022-02-04T10:54:10.297Z"
   },
   {
    "duration": 44,
    "start_time": "2022-02-04T10:54:10.329Z"
   },
   {
    "duration": 26,
    "start_time": "2022-02-04T10:54:10.376Z"
   },
   {
    "duration": 13,
    "start_time": "2022-02-04T10:54:10.404Z"
   },
   {
    "duration": 50,
    "start_time": "2022-02-04T10:54:10.421Z"
   },
   {
    "duration": 330,
    "start_time": "2022-02-04T10:54:10.474Z"
   },
   {
    "duration": 12,
    "start_time": "2022-02-04T10:54:10.807Z"
   },
   {
    "duration": 13,
    "start_time": "2022-02-04T10:54:10.822Z"
   },
   {
    "duration": 479,
    "start_time": "2022-02-04T10:54:10.838Z"
   },
   {
    "duration": 235,
    "start_time": "2022-02-04T10:54:11.319Z"
   },
   {
    "duration": 22,
    "start_time": "2022-02-04T10:54:11.556Z"
   },
   {
    "duration": 60,
    "start_time": "2022-02-04T10:54:11.581Z"
   },
   {
    "duration": 182,
    "start_time": "2022-02-04T10:54:11.644Z"
   },
   {
    "duration": 13,
    "start_time": "2022-02-04T10:54:11.829Z"
   },
   {
    "duration": 61,
    "start_time": "2022-02-04T10:54:39.857Z"
   },
   {
    "duration": 401,
    "start_time": "2022-02-04T10:55:03.144Z"
   },
   {
    "duration": 50,
    "start_time": "2022-02-04T10:55:14.672Z"
   },
   {
    "duration": 301,
    "start_time": "2022-02-04T10:55:19.072Z"
   },
   {
    "duration": 85,
    "start_time": "2022-02-04T10:55:23.753Z"
   },
   {
    "duration": 7,
    "start_time": "2022-02-04T10:59:09.942Z"
   },
   {
    "duration": 405,
    "start_time": "2022-02-04T10:59:35.528Z"
   },
   {
    "duration": 19,
    "start_time": "2022-02-04T10:59:41.669Z"
   },
   {
    "duration": 1507,
    "start_time": "2022-02-04T10:59:55.048Z"
   },
   {
    "duration": 84,
    "start_time": "2022-02-04T10:59:56.563Z"
   },
   {
    "duration": 35,
    "start_time": "2022-02-04T10:59:56.651Z"
   },
   {
    "duration": 19,
    "start_time": "2022-02-04T10:59:56.689Z"
   },
   {
    "duration": 61,
    "start_time": "2022-02-04T10:59:56.710Z"
   },
   {
    "duration": 26,
    "start_time": "2022-02-04T10:59:56.773Z"
   },
   {
    "duration": 11,
    "start_time": "2022-02-04T10:59:56.803Z"
   },
   {
    "duration": 52,
    "start_time": "2022-02-04T10:59:56.817Z"
   },
   {
    "duration": 18,
    "start_time": "2022-02-04T10:59:56.872Z"
   },
   {
    "duration": 254,
    "start_time": "2022-02-04T10:59:56.894Z"
   },
   {
    "duration": 20,
    "start_time": "2022-02-04T10:59:57.151Z"
   },
   {
    "duration": 14,
    "start_time": "2022-02-04T10:59:57.174Z"
   },
   {
    "duration": 460,
    "start_time": "2022-02-04T10:59:57.190Z"
   },
   {
    "duration": 252,
    "start_time": "2022-02-04T10:59:57.654Z"
   },
   {
    "duration": 15,
    "start_time": "2022-02-04T10:59:57.911Z"
   },
   {
    "duration": 103,
    "start_time": "2022-02-04T10:59:57.929Z"
   },
   {
    "duration": 163,
    "start_time": "2022-02-04T10:59:58.035Z"
   },
   {
    "duration": 18,
    "start_time": "2022-02-04T10:59:58.201Z"
   },
   {
    "duration": 240,
    "start_time": "2022-02-04T11:10:15.537Z"
   },
   {
    "duration": 481,
    "start_time": "2022-02-04T11:10:21.169Z"
   },
   {
    "duration": 328,
    "start_time": "2022-02-04T11:10:29.554Z"
   },
   {
    "duration": 698,
    "start_time": "2022-02-04T11:12:43.240Z"
   },
   {
    "duration": 492,
    "start_time": "2022-02-04T11:15:34.037Z"
   },
   {
    "duration": 218,
    "start_time": "2022-02-04T11:15:46.110Z"
   },
   {
    "duration": 456,
    "start_time": "2022-02-04T11:17:22.116Z"
   },
   {
    "duration": 509,
    "start_time": "2022-02-04T11:18:41.275Z"
   },
   {
    "duration": 502,
    "start_time": "2022-02-04T11:18:45.619Z"
   },
   {
    "duration": 322,
    "start_time": "2022-02-04T11:19:39.963Z"
   },
   {
    "duration": 499,
    "start_time": "2022-02-04T11:19:47.306Z"
   },
   {
    "duration": 227,
    "start_time": "2022-02-04T11:19:52.274Z"
   },
   {
    "duration": 650,
    "start_time": "2022-02-04T11:20:08.354Z"
   },
   {
    "duration": 540,
    "start_time": "2022-02-04T11:20:28.241Z"
   },
   {
    "duration": 617,
    "start_time": "2022-02-04T11:21:37.401Z"
   },
   {
    "duration": 213,
    "start_time": "2022-02-04T11:21:48.752Z"
   },
   {
    "duration": 292,
    "start_time": "2022-02-04T11:21:53.641Z"
   },
   {
    "duration": 613,
    "start_time": "2022-02-04T11:23:15.767Z"
   },
   {
    "duration": 241,
    "start_time": "2022-02-04T11:24:32.015Z"
   },
   {
    "duration": 237,
    "start_time": "2022-02-04T11:24:41.575Z"
   },
   {
    "duration": 179,
    "start_time": "2022-02-04T11:24:49.470Z"
   },
   {
    "duration": 182,
    "start_time": "2022-02-04T11:25:05.046Z"
   },
   {
    "duration": 25,
    "start_time": "2022-02-04T11:28:13.283Z"
   },
   {
    "duration": 17,
    "start_time": "2022-02-04T11:28:21.332Z"
   },
   {
    "duration": 102,
    "start_time": "2022-02-04T11:28:29.236Z"
   },
   {
    "duration": 16,
    "start_time": "2022-02-04T11:28:34.548Z"
   },
   {
    "duration": 12,
    "start_time": "2022-02-04T11:29:05.948Z"
   },
   {
    "duration": 2014,
    "start_time": "2022-02-04T11:29:32.398Z"
   },
   {
    "duration": 82,
    "start_time": "2022-02-04T11:29:34.415Z"
   },
   {
    "duration": 24,
    "start_time": "2022-02-04T11:29:34.506Z"
   },
   {
    "duration": 40,
    "start_time": "2022-02-04T11:29:34.533Z"
   },
   {
    "duration": 31,
    "start_time": "2022-02-04T11:29:34.575Z"
   },
   {
    "duration": 26,
    "start_time": "2022-02-04T11:29:34.609Z"
   },
   {
    "duration": 40,
    "start_time": "2022-02-04T11:29:34.639Z"
   },
   {
    "duration": 23,
    "start_time": "2022-02-04T11:29:34.682Z"
   },
   {
    "duration": 9,
    "start_time": "2022-02-04T11:29:34.708Z"
   },
   {
    "duration": 16,
    "start_time": "2022-02-04T11:29:34.720Z"
   },
   {
    "duration": 280,
    "start_time": "2022-02-04T11:29:34.770Z"
   },
   {
    "duration": 19,
    "start_time": "2022-02-04T11:29:35.052Z"
   },
   {
    "duration": 9,
    "start_time": "2022-02-04T11:29:35.073Z"
   },
   {
    "duration": 485,
    "start_time": "2022-02-04T11:29:35.084Z"
   },
   {
    "duration": 246,
    "start_time": "2022-02-04T11:29:35.572Z"
   },
   {
    "duration": 19,
    "start_time": "2022-02-04T11:29:35.820Z"
   },
   {
    "duration": 54,
    "start_time": "2022-02-04T11:29:35.841Z"
   },
   {
    "duration": 172,
    "start_time": "2022-02-04T11:29:35.897Z"
   },
   {
    "duration": 12,
    "start_time": "2022-02-04T11:29:36.072Z"
   },
   {
    "duration": 446,
    "start_time": "2022-02-04T11:29:45.654Z"
   },
   {
    "duration": 706,
    "start_time": "2022-02-04T11:31:00.861Z"
   },
   {
    "duration": 696,
    "start_time": "2022-02-04T11:31:13.877Z"
   },
   {
    "duration": 579,
    "start_time": "2022-02-04T11:33:27.284Z"
   },
   {
    "duration": 277,
    "start_time": "2022-02-04T11:33:41.611Z"
   },
   {
    "duration": 6,
    "start_time": "2022-02-04T11:33:49.115Z"
   },
   {
    "duration": 8,
    "start_time": "2022-02-04T11:34:03.003Z"
   },
   {
    "duration": 445,
    "start_time": "2022-02-04T11:34:09.019Z"
   },
   {
    "duration": 459,
    "start_time": "2022-02-04T11:34:16.682Z"
   },
   {
    "duration": 479,
    "start_time": "2022-02-04T11:34:30.922Z"
   },
   {
    "duration": 412,
    "start_time": "2022-02-04T11:34:36.090Z"
   },
   {
    "duration": 449,
    "start_time": "2022-02-04T11:34:40.386Z"
   },
   {
    "duration": 437,
    "start_time": "2022-02-04T11:34:49.674Z"
   },
   {
    "duration": 451,
    "start_time": "2022-02-04T11:35:00.762Z"
   },
   {
    "duration": 504,
    "start_time": "2022-02-04T11:35:24.554Z"
   },
   {
    "duration": 417,
    "start_time": "2022-02-04T11:35:32.937Z"
   },
   {
    "duration": 520,
    "start_time": "2022-02-04T11:35:37.944Z"
   },
   {
    "duration": 237,
    "start_time": "2022-02-04T11:35:56.386Z"
   },
   {
    "duration": 357,
    "start_time": "2022-02-05T18:19:02.657Z"
   },
   {
    "duration": 1430,
    "start_time": "2022-02-05T18:19:08.870Z"
   },
   {
    "duration": 56,
    "start_time": "2022-02-05T18:19:10.302Z"
   },
   {
    "duration": 17,
    "start_time": "2022-02-05T18:19:10.361Z"
   },
   {
    "duration": 12,
    "start_time": "2022-02-05T18:19:10.381Z"
   },
   {
    "duration": 53,
    "start_time": "2022-02-05T18:19:10.395Z"
   },
   {
    "duration": 25,
    "start_time": "2022-02-05T18:19:10.451Z"
   },
   {
    "duration": 11,
    "start_time": "2022-02-05T18:19:10.478Z"
   },
   {
    "duration": 18,
    "start_time": "2022-02-05T18:19:10.493Z"
   },
   {
    "duration": 463,
    "start_time": "2022-02-05T18:19:10.513Z"
   },
   {
    "duration": 9,
    "start_time": "2022-02-05T18:19:10.978Z"
   },
   {
    "duration": 17,
    "start_time": "2022-02-05T18:19:10.990Z"
   },
   {
    "duration": 261,
    "start_time": "2022-02-05T18:19:11.010Z"
   },
   {
    "duration": 13,
    "start_time": "2022-02-05T18:19:11.273Z"
   },
   {
    "duration": 62,
    "start_time": "2022-02-05T18:19:11.288Z"
   },
   {
    "duration": 104,
    "start_time": "2022-02-05T18:19:11.352Z"
   },
   {
    "duration": 13,
    "start_time": "2022-02-05T18:19:11.458Z"
   },
   {
    "duration": 16,
    "start_time": "2022-02-05T18:21:25.168Z"
   },
   {
    "duration": 18,
    "start_time": "2022-02-05T18:21:30.521Z"
   },
   {
    "duration": 19,
    "start_time": "2022-02-05T18:22:01.260Z"
   },
   {
    "duration": 18,
    "start_time": "2022-02-05T18:22:07.910Z"
   },
   {
    "duration": 16,
    "start_time": "2022-02-05T18:24:48.535Z"
   },
   {
    "duration": 11,
    "start_time": "2022-02-05T18:32:33.464Z"
   },
   {
    "duration": 206,
    "start_time": "2022-02-05T18:35:06.490Z"
   },
   {
    "duration": 13,
    "start_time": "2022-02-05T18:36:04.881Z"
   },
   {
    "duration": 425,
    "start_time": "2022-02-05T18:37:54.276Z"
   },
   {
    "duration": 25,
    "start_time": "2022-02-05T18:38:20.160Z"
   },
   {
    "duration": 31,
    "start_time": "2022-02-05T19:01:31.026Z"
   },
   {
    "duration": 85,
    "start_time": "2022-02-05T19:02:09.747Z"
   },
   {
    "duration": 25,
    "start_time": "2022-02-05T19:02:18.545Z"
   },
   {
    "duration": 487,
    "start_time": "2022-02-05T19:04:18.528Z"
   },
   {
    "duration": 22,
    "start_time": "2022-02-05T19:04:22.567Z"
   },
   {
    "duration": 19,
    "start_time": "2022-02-05T19:05:33.493Z"
   },
   {
    "duration": 20,
    "start_time": "2022-02-05T19:05:43.240Z"
   },
   {
    "duration": 25,
    "start_time": "2022-02-05T19:06:02.114Z"
   },
   {
    "duration": 24,
    "start_time": "2022-02-05T19:06:07.113Z"
   },
   {
    "duration": 312,
    "start_time": "2022-02-05T19:11:59.466Z"
   },
   {
    "duration": 313,
    "start_time": "2022-02-05T19:12:03.950Z"
   },
   {
    "duration": 17,
    "start_time": "2022-02-05T19:12:16.823Z"
   },
   {
    "duration": 25,
    "start_time": "2022-02-05T19:13:16.179Z"
   },
   {
    "duration": 412,
    "start_time": "2022-02-05T19:13:37.543Z"
   },
   {
    "duration": 418,
    "start_time": "2022-02-05T19:13:44.846Z"
   },
   {
    "duration": 465,
    "start_time": "2022-02-05T19:13:59.600Z"
   },
   {
    "duration": 416,
    "start_time": "2022-02-05T20:00:36.290Z"
   },
   {
    "duration": 14,
    "start_time": "2022-02-05T20:01:02.214Z"
   },
   {
    "duration": 19,
    "start_time": "2022-02-05T20:01:10.368Z"
   },
   {
    "duration": 18,
    "start_time": "2022-02-05T20:01:35.257Z"
   },
   {
    "duration": 440,
    "start_time": "2022-02-05T20:01:42.663Z"
   },
   {
    "duration": 519,
    "start_time": "2022-02-05T20:02:11.233Z"
   },
   {
    "duration": 19,
    "start_time": "2022-02-05T20:04:26.551Z"
   },
   {
    "duration": 1213,
    "start_time": "2022-02-05T20:05:08.528Z"
   },
   {
    "duration": 8103,
    "start_time": "2022-02-05T20:05:14.736Z"
   },
   {
    "duration": 19,
    "start_time": "2022-02-05T20:05:24.669Z"
   },
   {
    "duration": 317,
    "start_time": "2022-02-05T20:05:43.417Z"
   },
   {
    "duration": 17,
    "start_time": "2022-02-05T20:06:01.222Z"
   },
   {
    "duration": 14,
    "start_time": "2022-02-05T20:06:42.465Z"
   },
   {
    "duration": 17,
    "start_time": "2022-02-05T20:06:50.046Z"
   },
   {
    "duration": 336,
    "start_time": "2022-02-05T20:08:02.120Z"
   },
   {
    "duration": 20,
    "start_time": "2022-02-05T20:08:08.969Z"
   },
   {
    "duration": 17,
    "start_time": "2022-02-05T20:08:26.586Z"
   },
   {
    "duration": 21,
    "start_time": "2022-02-05T20:08:33.238Z"
   },
   {
    "duration": 20,
    "start_time": "2022-02-05T20:08:59.320Z"
   },
   {
    "duration": 292,
    "start_time": "2022-02-05T20:11:59.712Z"
   },
   {
    "duration": 20,
    "start_time": "2022-02-05T20:12:07.480Z"
   },
   {
    "duration": 20,
    "start_time": "2022-02-05T20:12:11.122Z"
   },
   {
    "duration": 13,
    "start_time": "2022-02-05T20:13:53.831Z"
   },
   {
    "duration": 7576,
    "start_time": "2022-02-05T20:14:14.065Z"
   },
   {
    "duration": 6313,
    "start_time": "2022-02-05T20:14:27.072Z"
   },
   {
    "duration": 849,
    "start_time": "2022-02-05T20:14:43.256Z"
   },
   {
    "duration": 474,
    "start_time": "2022-02-07T06:28:37.568Z"
   },
   {
    "duration": 1570,
    "start_time": "2022-02-07T06:29:47.408Z"
   },
   {
    "duration": 55,
    "start_time": "2022-02-07T06:29:48.981Z"
   },
   {
    "duration": 21,
    "start_time": "2022-02-07T06:29:49.042Z"
   },
   {
    "duration": 19,
    "start_time": "2022-02-07T06:29:49.066Z"
   },
   {
    "duration": 53,
    "start_time": "2022-02-07T06:29:49.088Z"
   },
   {
    "duration": 24,
    "start_time": "2022-02-07T06:29:49.143Z"
   },
   {
    "duration": 12,
    "start_time": "2022-02-07T06:29:49.169Z"
   },
   {
    "duration": 17,
    "start_time": "2022-02-07T06:29:49.223Z"
   },
   {
    "duration": 437,
    "start_time": "2022-02-07T06:29:49.242Z"
   },
   {
    "duration": 251,
    "start_time": "2022-02-07T06:29:49.682Z"
   },
   {
    "duration": 17,
    "start_time": "2022-02-07T06:29:49.936Z"
   },
   {
    "duration": 11,
    "start_time": "2022-02-07T06:29:49.956Z"
   },
   {
    "duration": 61,
    "start_time": "2022-02-07T06:29:49.970Z"
   },
   {
    "duration": 25,
    "start_time": "2022-02-07T06:29:50.034Z"
   },
   {
    "duration": 16,
    "start_time": "2022-02-07T06:29:50.062Z"
   },
   {
    "duration": 468,
    "start_time": "2022-02-07T06:29:50.081Z"
   },
   {
    "duration": 49,
    "start_time": "2022-02-07T06:29:50.552Z"
   },
   {
    "duration": 168,
    "start_time": "2022-02-07T06:29:50.624Z"
   },
   {
    "duration": 12,
    "start_time": "2022-02-07T06:29:50.794Z"
   },
   {
    "duration": 19,
    "start_time": "2022-02-07T06:29:50.824Z"
   },
   {
    "duration": 474,
    "start_time": "2022-02-07T06:29:50.845Z"
   },
   {
    "duration": 18,
    "start_time": "2022-02-07T06:29:51.322Z"
   },
   {
    "duration": 15,
    "start_time": "2022-02-07T06:29:51.343Z"
   },
   {
    "duration": 504,
    "start_time": "2022-02-07T06:29:51.361Z"
   },
   {
    "duration": 641,
    "start_time": "2022-02-07T06:30:18.219Z"
   },
   {
    "duration": 445,
    "start_time": "2022-02-07T06:32:45.915Z"
   },
   {
    "duration": 139,
    "start_time": "2022-02-07T06:32:55.331Z"
   },
   {
    "duration": 274,
    "start_time": "2022-02-07T06:33:41.810Z"
   },
   {
    "duration": 305,
    "start_time": "2022-02-07T06:34:37.586Z"
   },
   {
    "duration": 354,
    "start_time": "2022-02-07T06:44:11.048Z"
   },
   {
    "duration": 315,
    "start_time": "2022-02-07T06:44:20.851Z"
   },
   {
    "duration": 305,
    "start_time": "2022-02-07T06:44:30.867Z"
   },
   {
    "duration": 346,
    "start_time": "2022-02-07T06:44:38.962Z"
   },
   {
    "duration": 287,
    "start_time": "2022-02-07T06:44:52.539Z"
   },
   {
    "duration": 288,
    "start_time": "2022-02-07T06:44:58.283Z"
   },
   {
    "duration": 391,
    "start_time": "2022-02-07T06:45:02.490Z"
   },
   {
    "duration": 304,
    "start_time": "2022-02-07T06:45:07.722Z"
   },
   {
    "duration": 314,
    "start_time": "2022-02-07T06:45:31.145Z"
   },
   {
    "duration": 318,
    "start_time": "2022-02-07T06:45:47.969Z"
   },
   {
    "duration": 308,
    "start_time": "2022-02-07T06:45:53.938Z"
   },
   {
    "duration": 301,
    "start_time": "2022-02-07T06:45:59.441Z"
   },
   {
    "duration": 305,
    "start_time": "2022-02-07T06:46:05.609Z"
   },
   {
    "duration": 336,
    "start_time": "2022-02-07T06:46:40.009Z"
   },
   {
    "duration": 507,
    "start_time": "2022-02-07T06:52:13.367Z"
   },
   {
    "duration": 318,
    "start_time": "2022-02-07T06:52:30.973Z"
   },
   {
    "duration": 322,
    "start_time": "2022-02-07T06:52:37.588Z"
   },
   {
    "duration": 407,
    "start_time": "2022-02-07T06:52:44.780Z"
   },
   {
    "duration": 574,
    "start_time": "2022-02-07T06:53:54.932Z"
   },
   {
    "duration": 526,
    "start_time": "2022-02-07T06:54:26.291Z"
   },
   {
    "duration": 503,
    "start_time": "2022-02-07T06:54:45.739Z"
   },
   {
    "duration": 495,
    "start_time": "2022-02-07T06:54:51.403Z"
   },
   {
    "duration": 833,
    "start_time": "2022-02-07T06:56:24.241Z"
   },
   {
    "duration": 331,
    "start_time": "2022-02-07T06:56:31.392Z"
   },
   {
    "duration": 953,
    "start_time": "2022-02-07T06:56:42.865Z"
   },
   {
    "duration": 845,
    "start_time": "2022-02-07T06:56:52.315Z"
   },
   {
    "duration": 215,
    "start_time": "2022-02-07T06:57:42.350Z"
   },
   {
    "duration": 326,
    "start_time": "2022-02-07T07:22:20.509Z"
   },
   {
    "duration": 424,
    "start_time": "2022-02-07T07:23:06.973Z"
   },
   {
    "duration": 349,
    "start_time": "2022-02-07T07:57:14.771Z"
   },
   {
    "duration": 342,
    "start_time": "2022-02-07T07:58:01.866Z"
   },
   {
    "duration": 348,
    "start_time": "2022-02-07T07:59:13.513Z"
   },
   {
    "duration": 349,
    "start_time": "2022-02-07T07:59:21.305Z"
   },
   {
    "duration": 375,
    "start_time": "2022-02-07T07:59:33.106Z"
   },
   {
    "duration": 345,
    "start_time": "2022-02-07T07:59:39.409Z"
   },
   {
    "duration": 334,
    "start_time": "2022-02-07T07:59:57.024Z"
   },
   {
    "duration": 351,
    "start_time": "2022-02-07T08:04:35.989Z"
   },
   {
    "duration": 359,
    "start_time": "2022-02-07T08:05:29.740Z"
   },
   {
    "duration": 7,
    "start_time": "2022-02-07T09:15:33.847Z"
   },
   {
    "duration": 132,
    "start_time": "2022-02-07T09:16:03.903Z"
   },
   {
    "duration": 10,
    "start_time": "2022-02-07T09:16:09.846Z"
   },
   {
    "duration": 6,
    "start_time": "2022-02-07T09:17:00.236Z"
   },
   {
    "duration": 8,
    "start_time": "2022-02-07T09:20:01.810Z"
   },
   {
    "duration": 36,
    "start_time": "2022-02-07T09:20:06.204Z"
   },
   {
    "duration": 118,
    "start_time": "2022-02-07T09:26:32.797Z"
   },
   {
    "duration": 543,
    "start_time": "2022-02-07T09:26:39.766Z"
   },
   {
    "duration": 159,
    "start_time": "2022-02-07T09:26:56.630Z"
   },
   {
    "duration": 144,
    "start_time": "2022-02-07T09:27:36.918Z"
   },
   {
    "duration": 130,
    "start_time": "2022-02-07T09:27:55.685Z"
   },
   {
    "duration": 136,
    "start_time": "2022-02-07T09:27:59.326Z"
   },
   {
    "duration": 139,
    "start_time": "2022-02-07T09:28:11.837Z"
   },
   {
    "duration": 309,
    "start_time": "2022-02-07T09:28:18.709Z"
   },
   {
    "duration": 356,
    "start_time": "2022-02-07T09:28:46.649Z"
   },
   {
    "duration": 3110,
    "start_time": "2022-02-07T09:29:05.469Z"
   },
   {
    "duration": 330,
    "start_time": "2022-02-07T09:30:05.068Z"
   },
   {
    "duration": 370,
    "start_time": "2022-02-07T09:32:12.075Z"
   },
   {
    "duration": 27911,
    "start_time": "2022-02-07T09:32:18.898Z"
   },
   {
    "duration": 33762,
    "start_time": "2022-02-07T09:33:50.129Z"
   },
   {
    "duration": 141,
    "start_time": "2022-02-07T09:34:41.304Z"
   },
   {
    "duration": 11,
    "start_time": "2022-02-07T09:34:46.168Z"
   },
   {
    "duration": 12,
    "start_time": "2022-02-07T09:35:05.448Z"
   },
   {
    "duration": 7,
    "start_time": "2022-02-07T09:35:21.896Z"
   },
   {
    "duration": 13,
    "start_time": "2022-02-07T09:35:51.560Z"
   },
   {
    "duration": 9,
    "start_time": "2022-02-07T09:36:34.543Z"
   },
   {
    "duration": 16,
    "start_time": "2022-02-07T09:36:56.215Z"
   },
   {
    "duration": 10,
    "start_time": "2022-02-07T09:37:09.015Z"
   },
   {
    "duration": 9,
    "start_time": "2022-02-07T09:37:51.526Z"
   },
   {
    "duration": 8,
    "start_time": "2022-02-07T09:38:23.893Z"
   },
   {
    "duration": 9,
    "start_time": "2022-02-07T09:38:32.245Z"
   },
   {
    "duration": 91,
    "start_time": "2022-02-07T09:43:23.354Z"
   },
   {
    "duration": 304,
    "start_time": "2022-02-07T09:43:36.609Z"
   },
   {
    "duration": 3803,
    "start_time": "2022-02-07T09:43:46.010Z"
   },
   {
    "duration": 106,
    "start_time": "2022-02-07T09:44:52.792Z"
   },
   {
    "duration": 318,
    "start_time": "2022-02-07T09:46:12.006Z"
   },
   {
    "duration": 151,
    "start_time": "2022-02-07T09:47:43.206Z"
   },
   {
    "duration": 26,
    "start_time": "2022-02-07T09:48:01.264Z"
   },
   {
    "duration": 115,
    "start_time": "2022-02-07T09:52:06.523Z"
   },
   {
    "duration": 42,
    "start_time": "2022-02-07T09:53:23.395Z"
   },
   {
    "duration": 1068,
    "start_time": "2022-02-07T09:53:46.073Z"
   },
   {
    "duration": 1891,
    "start_time": "2022-02-07T09:54:03.521Z"
   },
   {
    "duration": 638,
    "start_time": "2022-02-07T09:54:19.448Z"
   },
   {
    "duration": 38,
    "start_time": "2022-02-07T09:55:07.112Z"
   },
   {
    "duration": 625,
    "start_time": "2022-02-07T09:55:28.177Z"
   },
   {
    "duration": 661,
    "start_time": "2022-02-07T09:55:58.872Z"
   },
   {
    "duration": 37,
    "start_time": "2022-02-07T09:59:04.629Z"
   },
   {
    "duration": 292,
    "start_time": "2022-02-07T09:59:42.380Z"
   },
   {
    "duration": 94,
    "start_time": "2022-02-07T10:15:56.192Z"
   },
   {
    "duration": 295,
    "start_time": "2022-02-07T10:16:02.649Z"
   },
   {
    "duration": 3023,
    "start_time": "2022-02-07T10:16:08.656Z"
   },
   {
    "duration": 665,
    "start_time": "2022-02-07T10:18:52.062Z"
   },
   {
    "duration": 3203,
    "start_time": "2022-02-07T10:21:29.405Z"
   },
   {
    "duration": 2764,
    "start_time": "2022-02-07T10:21:49.540Z"
   },
   {
    "duration": 3019,
    "start_time": "2022-02-07T10:22:07.961Z"
   },
   {
    "duration": 3627,
    "start_time": "2022-02-07T10:22:27.171Z"
   },
   {
    "duration": 452,
    "start_time": "2022-02-07T10:23:53.787Z"
   },
   {
    "duration": 294,
    "start_time": "2022-02-07T16:36:07.340Z"
   },
   {
    "duration": 1171,
    "start_time": "2022-02-07T16:36:12.699Z"
   },
   {
    "duration": 49,
    "start_time": "2022-02-07T16:36:13.872Z"
   },
   {
    "duration": 13,
    "start_time": "2022-02-07T16:36:13.924Z"
   },
   {
    "duration": 10,
    "start_time": "2022-02-07T16:36:13.939Z"
   },
   {
    "duration": 17,
    "start_time": "2022-02-07T16:36:13.950Z"
   },
   {
    "duration": 45,
    "start_time": "2022-02-07T16:36:13.969Z"
   },
   {
    "duration": 9,
    "start_time": "2022-02-07T16:36:14.015Z"
   },
   {
    "duration": 14,
    "start_time": "2022-02-07T16:36:14.026Z"
   },
   {
    "duration": 294,
    "start_time": "2022-02-07T16:36:14.042Z"
   },
   {
    "duration": 262,
    "start_time": "2022-02-07T16:36:14.338Z"
   },
   {
    "duration": 159,
    "start_time": "2022-02-07T16:36:14.602Z"
   },
   {
    "duration": 13,
    "start_time": "2022-02-07T16:36:14.763Z"
   },
   {
    "duration": 29,
    "start_time": "2022-02-07T16:36:14.778Z"
   },
   {
    "duration": 17,
    "start_time": "2022-02-07T16:36:14.809Z"
   },
   {
    "duration": 16,
    "start_time": "2022-02-07T16:36:14.828Z"
   },
   {
    "duration": 11,
    "start_time": "2022-02-07T16:36:14.846Z"
   },
   {
    "duration": 329,
    "start_time": "2022-02-07T16:36:14.859Z"
   },
   {
    "duration": 43,
    "start_time": "2022-02-07T16:36:15.190Z"
   },
   {
    "duration": 146,
    "start_time": "2022-02-07T16:36:15.235Z"
   },
   {
    "duration": 24,
    "start_time": "2022-02-07T16:36:15.383Z"
   },
   {
    "duration": 16,
    "start_time": "2022-02-07T16:36:15.409Z"
   },
   {
    "duration": 5,
    "start_time": "2022-02-07T16:36:15.427Z"
   },
   {
    "duration": 326,
    "start_time": "2022-02-07T16:36:15.435Z"
   },
   {
    "duration": 14,
    "start_time": "2022-02-07T16:36:15.763Z"
   },
   {
    "duration": 4702,
    "start_time": "2022-02-07T16:36:15.779Z"
   },
   {
    "duration": 708,
    "start_time": "2022-02-07T16:36:19.776Z"
   },
   {
    "duration": 708,
    "start_time": "2022-02-07T16:36:19.778Z"
   },
   {
    "duration": 708,
    "start_time": "2022-02-07T16:36:19.780Z"
   },
   {
    "duration": 365,
    "start_time": "2022-02-07T16:38:00.382Z"
   },
   {
    "duration": 8,
    "start_time": "2022-02-07T16:38:07.422Z"
   },
   {
    "duration": 105,
    "start_time": "2022-02-07T16:38:38.273Z"
   },
   {
    "duration": 76,
    "start_time": "2022-02-07T16:38:41.168Z"
   },
   {
    "duration": 279,
    "start_time": "2022-02-07T16:39:01.963Z"
   },
   {
    "duration": 5193,
    "start_time": "2022-02-07T16:39:12.005Z"
   },
   {
    "duration": 786,
    "start_time": "2022-02-07T16:59:57.958Z"
   },
   {
    "duration": 730,
    "start_time": "2022-02-07T17:00:11.334Z"
   },
   {
    "duration": 707,
    "start_time": "2022-02-07T17:01:08.249Z"
   },
   {
    "duration": 618,
    "start_time": "2022-02-07T17:01:17.164Z"
   },
   {
    "duration": 5305,
    "start_time": "2022-02-07T17:03:48.098Z"
   },
   {
    "duration": 4805,
    "start_time": "2022-02-07T17:04:52.790Z"
   },
   {
    "duration": 693,
    "start_time": "2022-02-07T17:05:20.526Z"
   },
   {
    "duration": 4892,
    "start_time": "2022-02-07T17:05:44.222Z"
   },
   {
    "duration": 5702,
    "start_time": "2022-02-07T17:08:56.590Z"
   },
   {
    "duration": 514,
    "start_time": "2022-02-07T17:10:09.371Z"
   },
   {
    "duration": 5745,
    "start_time": "2022-02-07T17:10:17.027Z"
   },
   {
    "duration": 4591,
    "start_time": "2022-02-07T17:11:07.532Z"
   },
   {
    "duration": 1163,
    "start_time": "2022-02-07T17:12:21.668Z"
   },
   {
    "duration": 792,
    "start_time": "2022-02-07T17:12:37.319Z"
   },
   {
    "duration": 910,
    "start_time": "2022-02-07T17:13:25.451Z"
   },
   {
    "duration": 819,
    "start_time": "2022-02-07T17:15:36.850Z"
   },
   {
    "duration": 5093,
    "start_time": "2022-02-07T17:16:18.599Z"
   },
   {
    "duration": 4276,
    "start_time": "2022-02-07T17:18:14.775Z"
   },
   {
    "duration": 884,
    "start_time": "2022-02-07T17:19:45.566Z"
   },
   {
    "duration": 1002,
    "start_time": "2022-02-07T17:20:28.866Z"
   },
   {
    "duration": 623,
    "start_time": "2022-02-07T17:21:56.575Z"
   },
   {
    "duration": 1371,
    "start_time": "2022-02-07T17:22:24.791Z"
   },
   {
    "duration": 635,
    "start_time": "2022-02-07T17:23:04.795Z"
   },
   {
    "duration": 679,
    "start_time": "2022-02-07T17:25:05.021Z"
   },
   {
    "duration": 1294,
    "start_time": "2022-02-07T17:26:09.486Z"
   },
   {
    "duration": 52,
    "start_time": "2022-02-07T17:26:10.783Z"
   },
   {
    "duration": 13,
    "start_time": "2022-02-07T17:26:10.838Z"
   },
   {
    "duration": 14,
    "start_time": "2022-02-07T17:26:10.853Z"
   },
   {
    "duration": 41,
    "start_time": "2022-02-07T17:26:10.868Z"
   },
   {
    "duration": 22,
    "start_time": "2022-02-07T17:26:10.911Z"
   },
   {
    "duration": 11,
    "start_time": "2022-02-07T17:26:10.935Z"
   },
   {
    "duration": 15,
    "start_time": "2022-02-07T17:26:10.948Z"
   },
   {
    "duration": 327,
    "start_time": "2022-02-07T17:26:10.966Z"
   },
   {
    "duration": 262,
    "start_time": "2022-02-07T17:26:11.295Z"
   },
   {
    "duration": 156,
    "start_time": "2022-02-07T17:26:11.559Z"
   },
   {
    "duration": 13,
    "start_time": "2022-02-07T17:26:11.717Z"
   },
   {
    "duration": 9,
    "start_time": "2022-02-07T17:26:11.732Z"
   },
   {
    "duration": 17,
    "start_time": "2022-02-07T17:26:11.743Z"
   },
   {
    "duration": 47,
    "start_time": "2022-02-07T17:26:11.762Z"
   },
   {
    "duration": 11,
    "start_time": "2022-02-07T17:26:11.812Z"
   },
   {
    "duration": 297,
    "start_time": "2022-02-07T17:26:11.825Z"
   },
   {
    "duration": 45,
    "start_time": "2022-02-07T17:26:12.124Z"
   },
   {
    "duration": 165,
    "start_time": "2022-02-07T17:26:12.172Z"
   },
   {
    "duration": 12,
    "start_time": "2022-02-07T17:26:12.339Z"
   },
   {
    "duration": 17,
    "start_time": "2022-02-07T17:26:12.353Z"
   },
   {
    "duration": 5,
    "start_time": "2022-02-07T17:26:12.372Z"
   },
   {
    "duration": 325,
    "start_time": "2022-02-07T17:26:12.409Z"
   },
   {
    "duration": 15,
    "start_time": "2022-02-07T17:26:12.736Z"
   },
   {
    "duration": 751,
    "start_time": "2022-02-07T17:26:12.753Z"
   },
   {
    "duration": 712,
    "start_time": "2022-02-07T17:26:12.795Z"
   },
   {
    "duration": 710,
    "start_time": "2022-02-07T17:26:12.799Z"
   },
   {
    "duration": 706,
    "start_time": "2022-02-07T17:26:12.805Z"
   },
   {
    "duration": 5611,
    "start_time": "2022-02-07T17:29:54.337Z"
   },
   {
    "duration": 4725,
    "start_time": "2022-02-07T17:31:09.682Z"
   },
   {
    "duration": 493,
    "start_time": "2022-02-07T17:31:41.837Z"
   },
   {
    "duration": 515,
    "start_time": "2022-02-07T17:31:52.333Z"
   },
   {
    "duration": 491,
    "start_time": "2022-02-07T17:32:55.372Z"
   },
   {
    "duration": 6605,
    "start_time": "2022-02-07T17:33:31.777Z"
   },
   {
    "duration": 7956,
    "start_time": "2022-02-07T17:33:49.185Z"
   },
   {
    "duration": 5163,
    "start_time": "2022-02-07T17:34:14.238Z"
   },
   {
    "duration": 5268,
    "start_time": "2022-02-07T17:36:28.613Z"
   },
   {
    "duration": 760,
    "start_time": "2022-02-07T17:37:29.810Z"
   },
   {
    "duration": 7002,
    "start_time": "2022-02-07T17:38:03.487Z"
   },
   {
    "duration": 499,
    "start_time": "2022-02-07T17:38:26.977Z"
   },
   {
    "duration": 838,
    "start_time": "2022-02-07T17:39:03.127Z"
   },
   {
    "duration": 761,
    "start_time": "2022-02-07T17:39:19.415Z"
   },
   {
    "duration": 688,
    "start_time": "2022-02-07T17:40:04.360Z"
   },
   {
    "duration": 739,
    "start_time": "2022-02-07T17:40:21.011Z"
   },
   {
    "duration": 4670,
    "start_time": "2022-02-07T17:40:50.864Z"
   },
   {
    "duration": 2503,
    "start_time": "2022-02-07T17:43:31.604Z"
   },
   {
    "duration": 2239,
    "start_time": "2022-02-07T17:44:12.339Z"
   },
   {
    "duration": 768,
    "start_time": "2022-02-07T17:44:59.203Z"
   },
   {
    "duration": 819,
    "start_time": "2022-02-07T17:45:11.136Z"
   },
   {
    "duration": 798,
    "start_time": "2022-02-07T17:45:36.159Z"
   },
   {
    "duration": 2189,
    "start_time": "2022-02-07T17:45:55.199Z"
   },
   {
    "duration": 2202,
    "start_time": "2022-02-07T17:46:18.393Z"
   },
   {
    "duration": 2471,
    "start_time": "2022-02-07T17:46:28.639Z"
   },
   {
    "duration": 2254,
    "start_time": "2022-02-07T17:47:01.572Z"
   },
   {
    "duration": 257,
    "start_time": "2022-02-07T17:47:48.735Z"
   },
   {
    "duration": 707,
    "start_time": "2022-02-07T17:50:23.769Z"
   },
   {
    "duration": 1167,
    "start_time": "2022-02-07T17:53:46.335Z"
   },
   {
    "duration": 1037,
    "start_time": "2022-02-07T17:55:40.358Z"
   },
   {
    "duration": 1121,
    "start_time": "2022-02-07T17:56:09.470Z"
   },
   {
    "duration": 432,
    "start_time": "2022-02-07T20:22:13.961Z"
   },
   {
    "duration": 13,
    "start_time": "2022-02-07T20:23:34.647Z"
   },
   {
    "duration": 990,
    "start_time": "2022-02-07T20:24:09.613Z"
   },
   {
    "duration": 991,
    "start_time": "2022-02-07T20:25:18.395Z"
   },
   {
    "duration": 247,
    "start_time": "2022-02-07T20:26:58.279Z"
   },
   {
    "duration": 8,
    "start_time": "2022-02-07T20:27:12.983Z"
   },
   {
    "duration": 20,
    "start_time": "2022-02-07T20:27:21.337Z"
   },
   {
    "duration": 21,
    "start_time": "2022-02-07T20:28:07.402Z"
   },
   {
    "duration": 21,
    "start_time": "2022-02-07T20:28:19.323Z"
   },
   {
    "duration": 255,
    "start_time": "2022-02-07T20:28:30.133Z"
   },
   {
    "duration": 20,
    "start_time": "2022-02-07T20:29:17.490Z"
   },
   {
    "duration": 257,
    "start_time": "2022-02-07T20:30:13.505Z"
   },
   {
    "duration": 24,
    "start_time": "2022-02-07T20:30:38.097Z"
   },
   {
    "duration": 15,
    "start_time": "2022-02-07T20:31:53.585Z"
   },
   {
    "duration": 15,
    "start_time": "2022-02-07T20:32:28.908Z"
   },
   {
    "duration": 25,
    "start_time": "2022-02-07T20:33:00.512Z"
   },
   {
    "duration": 33,
    "start_time": "2022-02-07T20:37:47.149Z"
   },
   {
    "duration": 15,
    "start_time": "2022-02-07T20:38:10.141Z"
   },
   {
    "duration": 13,
    "start_time": "2022-02-07T20:40:05.706Z"
   },
   {
    "duration": 14,
    "start_time": "2022-02-07T20:40:13.102Z"
   },
   {
    "duration": 17,
    "start_time": "2022-02-07T20:40:55.487Z"
   },
   {
    "duration": 331,
    "start_time": "2022-02-07T20:41:35.300Z"
   },
   {
    "duration": 2108,
    "start_time": "2022-02-07T20:41:42.935Z"
   },
   {
    "duration": 1581,
    "start_time": "2022-02-07T20:49:21.251Z"
   },
   {
    "duration": 4,
    "start_time": "2022-02-07T20:50:27.004Z"
   },
   {
    "duration": 90,
    "start_time": "2022-02-07T20:51:15.377Z"
   },
   {
    "duration": 1544,
    "start_time": "2022-02-07T20:51:27.423Z"
   },
   {
    "duration": 1397,
    "start_time": "2022-02-07T20:51:34.527Z"
   },
   {
    "duration": 1587,
    "start_time": "2022-02-07T20:51:45.001Z"
   },
   {
    "duration": 1665,
    "start_time": "2022-02-07T20:52:01.972Z"
   },
   {
    "duration": 4,
    "start_time": "2022-02-07T20:53:09.827Z"
   },
   {
    "duration": 1609,
    "start_time": "2022-02-07T20:55:25.165Z"
   },
   {
    "duration": 5,
    "start_time": "2022-02-07T20:55:55.100Z"
   },
   {
    "duration": 1523,
    "start_time": "2022-02-07T20:56:18.082Z"
   },
   {
    "duration": 80,
    "start_time": "2022-02-07T20:59:45.503Z"
   },
   {
    "duration": 1800,
    "start_time": "2022-02-07T20:59:55.684Z"
   },
   {
    "duration": 1446,
    "start_time": "2022-02-07T21:08:01.808Z"
   },
   {
    "duration": 1243,
    "start_time": "2022-02-07T21:08:17.047Z"
   },
   {
    "duration": 1506,
    "start_time": "2022-02-07T21:08:52.515Z"
   },
   {
    "duration": 1228,
    "start_time": "2022-02-07T21:09:19.353Z"
   },
   {
    "duration": 1234,
    "start_time": "2022-02-07T21:09:47.538Z"
   },
   {
    "duration": 1374,
    "start_time": "2022-02-07T21:09:59.596Z"
   },
   {
    "duration": 84,
    "start_time": "2022-02-07T21:10:50.601Z"
   },
   {
    "duration": 1262,
    "start_time": "2022-02-07T21:10:58.089Z"
   },
   {
    "duration": 1262,
    "start_time": "2022-02-07T21:11:14.480Z"
   },
   {
    "duration": 1414,
    "start_time": "2022-02-07T21:12:17.637Z"
   },
   {
    "duration": 1503,
    "start_time": "2022-02-07T21:12:31.741Z"
   },
   {
    "duration": 198,
    "start_time": "2022-02-07T21:14:47.336Z"
   },
   {
    "duration": 1362,
    "start_time": "2022-02-07T21:15:19.895Z"
   },
   {
    "duration": 1375,
    "start_time": "2022-02-07T21:18:56.506Z"
   },
   {
    "duration": 2021,
    "start_time": "2022-02-07T21:19:28.433Z"
   },
   {
    "duration": 2274,
    "start_time": "2022-02-07T21:19:59.409Z"
   },
   {
    "duration": 4,
    "start_time": "2022-02-07T21:21:38.449Z"
   },
   {
    "duration": 256,
    "start_time": "2022-02-07T21:22:16.877Z"
   },
   {
    "duration": 191,
    "start_time": "2022-02-07T21:22:38.826Z"
   },
   {
    "duration": 128,
    "start_time": "2022-02-07T21:23:38.066Z"
   },
   {
    "duration": 386,
    "start_time": "2022-02-07T21:23:42.541Z"
   },
   {
    "duration": 1462,
    "start_time": "2022-02-07T21:24:04.322Z"
   },
   {
    "duration": 1268,
    "start_time": "2022-02-07T21:24:09.744Z"
   },
   {
    "duration": 1365,
    "start_time": "2022-02-07T21:24:39.827Z"
   },
   {
    "duration": 1382,
    "start_time": "2022-02-07T21:25:16.821Z"
   },
   {
    "duration": 380,
    "start_time": "2022-02-07T21:25:27.311Z"
   },
   {
    "duration": 1546,
    "start_time": "2022-02-07T21:27:24.812Z"
   },
   {
    "duration": 1595,
    "start_time": "2022-02-07T21:27:52.316Z"
   },
   {
    "duration": 3121,
    "start_time": "2022-02-07T21:28:07.836Z"
   },
   {
    "duration": 557,
    "start_time": "2022-02-07T21:29:25.439Z"
   },
   {
    "duration": 402,
    "start_time": "2022-02-07T21:29:38.475Z"
   },
   {
    "duration": 377,
    "start_time": "2022-02-07T21:29:47.951Z"
   },
   {
    "duration": 370,
    "start_time": "2022-02-07T21:30:03.765Z"
   },
   {
    "duration": 397,
    "start_time": "2022-02-07T21:30:12.801Z"
   },
   {
    "duration": 374,
    "start_time": "2022-02-07T21:30:16.627Z"
   },
   {
    "duration": 2145,
    "start_time": "2022-02-07T21:31:02.906Z"
   },
   {
    "duration": 411,
    "start_time": "2022-02-08T07:29:05.067Z"
   },
   {
    "duration": 1410,
    "start_time": "2022-02-08T07:29:10.107Z"
   },
   {
    "duration": 59,
    "start_time": "2022-02-08T07:29:11.520Z"
   },
   {
    "duration": 17,
    "start_time": "2022-02-08T07:29:11.585Z"
   },
   {
    "duration": 14,
    "start_time": "2022-02-08T07:29:11.605Z"
   },
   {
    "duration": 58,
    "start_time": "2022-02-08T07:29:11.622Z"
   },
   {
    "duration": 26,
    "start_time": "2022-02-08T07:29:11.683Z"
   },
   {
    "duration": 14,
    "start_time": "2022-02-08T07:29:11.712Z"
   },
   {
    "duration": 16,
    "start_time": "2022-02-08T07:29:11.761Z"
   },
   {
    "duration": 432,
    "start_time": "2022-02-08T07:29:11.781Z"
   },
   {
    "duration": 386,
    "start_time": "2022-02-08T07:29:12.215Z"
   },
   {
    "duration": 242,
    "start_time": "2022-02-08T07:29:12.603Z"
   },
   {
    "duration": 21,
    "start_time": "2022-02-08T07:29:12.852Z"
   },
   {
    "duration": 11,
    "start_time": "2022-02-08T07:29:12.876Z"
   },
   {
    "duration": 23,
    "start_time": "2022-02-08T07:29:12.890Z"
   },
   {
    "duration": 57,
    "start_time": "2022-02-08T07:29:12.916Z"
   },
   {
    "duration": 444,
    "start_time": "2022-02-08T07:29:12.976Z"
   },
   {
    "duration": 58,
    "start_time": "2022-02-08T07:29:13.423Z"
   },
   {
    "duration": 158,
    "start_time": "2022-02-08T07:29:13.483Z"
   },
   {
    "duration": 20,
    "start_time": "2022-02-08T07:29:13.643Z"
   },
   {
    "duration": 15,
    "start_time": "2022-02-08T07:29:13.666Z"
   },
   {
    "duration": 485,
    "start_time": "2022-02-08T07:29:13.684Z"
   },
   {
    "duration": 1250,
    "start_time": "2022-02-08T07:29:14.172Z"
   },
   {
    "duration": 481,
    "start_time": "2022-02-08T07:29:15.425Z"
   },
   {
    "duration": -23,
    "start_time": "2022-02-08T07:29:15.932Z"
   },
   {
    "duration": -24,
    "start_time": "2022-02-08T07:29:15.934Z"
   },
   {
    "duration": -24,
    "start_time": "2022-02-08T07:29:15.936Z"
   },
   {
    "duration": -25,
    "start_time": "2022-02-08T07:29:15.938Z"
   },
   {
    "duration": -28,
    "start_time": "2022-02-08T07:29:15.943Z"
   },
   {
    "duration": -29,
    "start_time": "2022-02-08T07:29:15.946Z"
   },
   {
    "duration": -29,
    "start_time": "2022-02-08T07:29:15.947Z"
   },
   {
    "duration": -29,
    "start_time": "2022-02-08T07:29:15.949Z"
   },
   {
    "duration": -30,
    "start_time": "2022-02-08T07:29:15.951Z"
   },
   {
    "duration": 7,
    "start_time": "2022-02-08T07:29:29.453Z"
   },
   {
    "duration": 14,
    "start_time": "2022-02-08T07:29:37.340Z"
   },
   {
    "duration": 19,
    "start_time": "2022-02-08T07:30:09.315Z"
   },
   {
    "duration": 1167,
    "start_time": "2022-02-08T07:30:46.508Z"
   },
   {
    "duration": 1085,
    "start_time": "2022-02-08T07:31:15.580Z"
   },
   {
    "duration": 1062,
    "start_time": "2022-02-08T07:31:56.322Z"
   },
   {
    "duration": 18,
    "start_time": "2022-02-08T07:32:03.346Z"
   },
   {
    "duration": 1390,
    "start_time": "2022-02-08T07:32:19.690Z"
   },
   {
    "duration": 993,
    "start_time": "2022-02-08T07:32:38.370Z"
   },
   {
    "duration": 32,
    "start_time": "2022-02-08T07:32:56.338Z"
   },
   {
    "duration": 18,
    "start_time": "2022-02-08T07:34:20.817Z"
   },
   {
    "duration": 16,
    "start_time": "2022-02-08T07:34:37.993Z"
   },
   {
    "duration": 22,
    "start_time": "2022-02-08T07:35:08.976Z"
   },
   {
    "duration": 21,
    "start_time": "2022-02-08T07:35:46.895Z"
   },
   {
    "duration": 453,
    "start_time": "2022-02-08T07:36:24.671Z"
   },
   {
    "duration": 354,
    "start_time": "2022-02-08T07:36:32.879Z"
   },
   {
    "duration": 2884,
    "start_time": "2022-02-08T07:40:16.788Z"
   },
   {
    "duration": 2920,
    "start_time": "2022-02-08T07:40:23.739Z"
   },
   {
    "duration": 2728,
    "start_time": "2022-02-08T07:40:33.676Z"
   },
   {
    "duration": 568,
    "start_time": "2022-02-08T07:40:44.459Z"
   },
   {
    "duration": 1223,
    "start_time": "2022-02-08T07:41:48.451Z"
   },
   {
    "duration": 22,
    "start_time": "2022-02-08T07:42:15.366Z"
   },
   {
    "duration": 517,
    "start_time": "2022-02-08T07:43:02.698Z"
   },
   {
    "duration": 440,
    "start_time": "2022-02-08T07:43:19.922Z"
   },
   {
    "duration": 430,
    "start_time": "2022-02-08T07:43:29.273Z"
   },
   {
    "duration": 435,
    "start_time": "2022-02-08T07:43:53.050Z"
   },
   {
    "duration": 431,
    "start_time": "2022-02-08T07:44:01.841Z"
   },
   {
    "duration": 433,
    "start_time": "2022-02-08T07:44:29.129Z"
   },
   {
    "duration": 434,
    "start_time": "2022-02-08T07:44:47.360Z"
   },
   {
    "duration": 422,
    "start_time": "2022-02-08T07:46:09.672Z"
   },
   {
    "duration": 435,
    "start_time": "2022-02-08T07:46:49.255Z"
   },
   {
    "duration": 361,
    "start_time": "2022-02-08T08:31:23.125Z"
   },
   {
    "duration": 28,
    "start_time": "2022-02-08T08:31:30.068Z"
   },
   {
    "duration": 24,
    "start_time": "2022-02-08T08:31:58.607Z"
   },
   {
    "duration": 143,
    "start_time": "2022-02-08T08:32:37.961Z"
   },
   {
    "duration": 105,
    "start_time": "2022-02-08T08:32:42.728Z"
   },
   {
    "duration": 27,
    "start_time": "2022-02-08T08:32:55.905Z"
   },
   {
    "duration": 710,
    "start_time": "2022-02-08T08:36:49.824Z"
   },
   {
    "duration": 870,
    "start_time": "2022-02-08T08:37:06.033Z"
   },
   {
    "duration": 807,
    "start_time": "2022-02-08T08:44:16.966Z"
   },
   {
    "duration": 705,
    "start_time": "2022-02-08T08:44:45.589Z"
   },
   {
    "duration": 2586,
    "start_time": "2022-02-08T08:45:09.325Z"
   },
   {
    "duration": 2969,
    "start_time": "2022-02-08T08:45:34.636Z"
   },
   {
    "duration": 2915,
    "start_time": "2022-02-08T08:45:47.380Z"
   },
   {
    "duration": 2170,
    "start_time": "2022-02-08T08:45:57.836Z"
   },
   {
    "duration": 2712,
    "start_time": "2022-02-08T08:46:07.876Z"
   },
   {
    "duration": 2573,
    "start_time": "2022-02-08T08:46:18.115Z"
   },
   {
    "duration": 2322,
    "start_time": "2022-02-08T08:46:36.539Z"
   },
   {
    "duration": 2182,
    "start_time": "2022-02-08T08:47:31.859Z"
   },
   {
    "duration": 2934,
    "start_time": "2022-02-08T08:47:38.659Z"
   },
   {
    "duration": 2773,
    "start_time": "2022-02-08T08:48:02.026Z"
   },
   {
    "duration": 726,
    "start_time": "2022-02-08T12:02:28.367Z"
   },
   {
    "duration": 431,
    "start_time": "2022-02-08T12:03:23.223Z"
   },
   {
    "duration": 25,
    "start_time": "2022-02-08T12:03:52.246Z"
   },
   {
    "duration": 28,
    "start_time": "2022-02-08T12:04:01.086Z"
   },
   {
    "duration": 287,
    "start_time": "2022-02-08T22:00:44.367Z"
   },
   {
    "duration": 1234,
    "start_time": "2022-02-08T22:00:48.935Z"
   },
   {
    "duration": 48,
    "start_time": "2022-02-08T22:00:50.171Z"
   },
   {
    "duration": 13,
    "start_time": "2022-02-08T22:00:50.222Z"
   },
   {
    "duration": 26,
    "start_time": "2022-02-08T22:00:50.238Z"
   },
   {
    "duration": 31,
    "start_time": "2022-02-08T22:00:50.266Z"
   },
   {
    "duration": 26,
    "start_time": "2022-02-08T22:00:50.299Z"
   },
   {
    "duration": 9,
    "start_time": "2022-02-08T22:00:50.327Z"
   },
   {
    "duration": 28,
    "start_time": "2022-02-08T22:00:50.339Z"
   },
   {
    "duration": 291,
    "start_time": "2022-02-08T22:00:50.369Z"
   },
   {
    "duration": 253,
    "start_time": "2022-02-08T22:00:50.662Z"
   },
   {
    "duration": 172,
    "start_time": "2022-02-08T22:00:50.918Z"
   },
   {
    "duration": 30,
    "start_time": "2022-02-08T22:00:51.093Z"
   },
   {
    "duration": 12,
    "start_time": "2022-02-08T22:00:51.125Z"
   },
   {
    "duration": 17,
    "start_time": "2022-02-08T22:00:51.139Z"
   },
   {
    "duration": 17,
    "start_time": "2022-02-08T22:00:51.159Z"
   },
   {
    "duration": 294,
    "start_time": "2022-02-08T22:00:51.207Z"
   },
   {
    "duration": 41,
    "start_time": "2022-02-08T22:00:51.507Z"
   },
   {
    "duration": 150,
    "start_time": "2022-02-08T22:00:51.550Z"
   },
   {
    "duration": 10,
    "start_time": "2022-02-08T22:00:51.702Z"
   },
   {
    "duration": 15,
    "start_time": "2022-02-08T22:00:51.714Z"
   },
   {
    "duration": 321,
    "start_time": "2022-02-08T22:00:51.732Z"
   },
   {
    "duration": 1089,
    "start_time": "2022-02-08T22:00:52.055Z"
   },
   {
    "duration": 21,
    "start_time": "2022-02-08T22:00:53.147Z"
   },
   {
    "duration": 14,
    "start_time": "2022-02-08T22:00:53.170Z"
   },
   {
    "duration": 75,
    "start_time": "2022-02-08T22:00:53.186Z"
   },
   {
    "duration": 308,
    "start_time": "2022-02-08T22:00:53.263Z"
   },
   {
    "duration": 1704,
    "start_time": "2022-02-08T22:00:53.573Z"
   },
   {
    "duration": 837,
    "start_time": "2022-02-08T22:00:55.279Z"
   },
   {
    "duration": 247,
    "start_time": "2022-02-08T22:10:13.939Z"
   },
   {
    "duration": 137,
    "start_time": "2022-02-08T22:11:49.325Z"
   },
   {
    "duration": 150,
    "start_time": "2022-02-08T22:12:02.446Z"
   },
   {
    "duration": 309,
    "start_time": "2022-02-08T22:15:29.201Z"
   },
   {
    "duration": 158,
    "start_time": "2022-02-08T22:15:40.412Z"
   },
   {
    "duration": 306,
    "start_time": "2022-02-08T22:15:52.243Z"
   },
   {
    "duration": 4062,
    "start_time": "2022-02-09T15:36:40.706Z"
   },
   {
    "duration": 179,
    "start_time": "2022-02-09T15:36:44.771Z"
   },
   {
    "duration": 104,
    "start_time": "2022-02-09T15:36:44.955Z"
   },
   {
    "duration": 110,
    "start_time": "2022-02-09T15:36:45.062Z"
   },
   {
    "duration": 92,
    "start_time": "2022-02-09T15:36:45.175Z"
   },
   {
    "duration": 94,
    "start_time": "2022-02-09T15:36:45.269Z"
   },
   {
    "duration": 84,
    "start_time": "2022-02-09T15:36:45.365Z"
   },
   {
    "duration": 99,
    "start_time": "2022-02-09T15:36:45.451Z"
   },
   {
    "duration": 1202,
    "start_time": "2022-02-09T15:36:45.553Z"
   },
   {
    "duration": 1404,
    "start_time": "2022-02-09T15:36:46.758Z"
   },
   {
    "duration": 701,
    "start_time": "2022-02-09T15:36:48.165Z"
   },
   {
    "duration": 103,
    "start_time": "2022-02-09T15:36:48.869Z"
   },
   {
    "duration": 85,
    "start_time": "2022-02-09T15:36:48.976Z"
   },
   {
    "duration": 99,
    "start_time": "2022-02-09T15:36:49.064Z"
   },
   {
    "duration": 105,
    "start_time": "2022-02-09T15:36:49.165Z"
   },
   {
    "duration": 1487,
    "start_time": "2022-02-09T15:36:49.273Z"
   },
   {
    "duration": 197,
    "start_time": "2022-02-09T15:36:50.763Z"
   },
   {
    "duration": 499,
    "start_time": "2022-02-09T15:36:50.963Z"
   },
   {
    "duration": 111,
    "start_time": "2022-02-09T15:36:51.465Z"
   },
   {
    "duration": 17,
    "start_time": "2022-02-09T15:36:51.648Z"
   },
   {
    "duration": 1987,
    "start_time": "2022-02-09T15:36:51.667Z"
   },
   {
    "duration": 1601,
    "start_time": "2022-02-09T15:36:53.657Z"
   },
   {
    "duration": 112,
    "start_time": "2022-02-09T15:36:55.261Z"
   },
   {
    "duration": 88,
    "start_time": "2022-02-09T15:36:55.376Z"
   },
   {
    "duration": 398,
    "start_time": "2022-02-09T15:36:55.466Z"
   },
   {
    "duration": 1294,
    "start_time": "2022-02-09T15:36:55.867Z"
   },
   {
    "duration": 8983,
    "start_time": "2022-02-09T15:36:57.171Z"
   },
   {
    "duration": 1833,
    "start_time": "2022-02-09T15:37:06.159Z"
   },
   {
    "duration": 1409,
    "start_time": "2022-02-09T18:28:21.879Z"
   },
   {
    "duration": 52,
    "start_time": "2022-02-09T18:28:23.291Z"
   },
   {
    "duration": 18,
    "start_time": "2022-02-09T18:28:23.346Z"
   },
   {
    "duration": 13,
    "start_time": "2022-02-09T18:28:23.367Z"
   },
   {
    "duration": 50,
    "start_time": "2022-02-09T18:28:23.383Z"
   },
   {
    "duration": 26,
    "start_time": "2022-02-09T18:28:23.436Z"
   },
   {
    "duration": 11,
    "start_time": "2022-02-09T18:28:23.464Z"
   },
   {
    "duration": 50,
    "start_time": "2022-02-09T18:28:23.479Z"
   },
   {
    "duration": 441,
    "start_time": "2022-02-09T18:28:23.532Z"
   },
   {
    "duration": 382,
    "start_time": "2022-02-09T18:28:23.976Z"
   },
   {
    "duration": 253,
    "start_time": "2022-02-09T18:28:24.360Z"
   },
   {
    "duration": 20,
    "start_time": "2022-02-09T18:28:24.624Z"
   },
   {
    "duration": 13,
    "start_time": "2022-02-09T18:28:24.646Z"
   },
   {
    "duration": 25,
    "start_time": "2022-02-09T18:28:24.661Z"
   },
   {
    "duration": 25,
    "start_time": "2022-02-09T18:28:24.724Z"
   },
   {
    "duration": 449,
    "start_time": "2022-02-09T18:28:24.752Z"
   },
   {
    "duration": 60,
    "start_time": "2022-02-09T18:28:25.204Z"
   },
   {
    "duration": 185,
    "start_time": "2022-02-09T18:28:25.267Z"
   },
   {
    "duration": 15,
    "start_time": "2022-02-09T18:28:25.455Z"
   },
   {
    "duration": 17,
    "start_time": "2022-02-09T18:28:25.473Z"
   },
   {
    "duration": 474,
    "start_time": "2022-02-09T18:28:25.493Z"
   },
   {
    "duration": 1094,
    "start_time": "2022-02-09T18:28:25.970Z"
   },
   {
    "duration": 27,
    "start_time": "2022-02-09T18:28:27.070Z"
   },
   {
    "duration": 24,
    "start_time": "2022-02-09T18:28:27.100Z"
   },
   {
    "duration": 115,
    "start_time": "2022-02-09T18:28:27.127Z"
   },
   {
    "duration": 433,
    "start_time": "2022-02-09T18:28:27.244Z"
   },
   {
    "duration": 2666,
    "start_time": "2022-02-09T18:28:27.679Z"
   },
   {
    "duration": 815,
    "start_time": "2022-02-09T18:28:30.348Z"
   },
   {
    "duration": 5,
    "start_time": "2022-02-09T20:17:35.046Z"
   },
   {
    "duration": 23,
    "start_time": "2022-02-09T20:18:03.630Z"
   },
   {
    "duration": 16,
    "start_time": "2022-02-09T20:18:54.863Z"
   },
   {
    "duration": 16,
    "start_time": "2022-02-09T20:19:37.096Z"
   },
   {
    "duration": 403,
    "start_time": "2022-02-09T20:20:04.883Z"
   },
   {
    "duration": 36,
    "start_time": "2022-02-09T20:20:10.417Z"
   },
   {
    "duration": 12,
    "start_time": "2022-02-09T20:20:42.884Z"
   },
   {
    "duration": 313,
    "start_time": "2022-02-09T20:21:39.443Z"
   },
   {
    "duration": 437,
    "start_time": "2022-02-09T20:21:52.101Z"
   },
   {
    "duration": 21,
    "start_time": "2022-02-09T20:22:02.891Z"
   },
   {
    "duration": 5,
    "start_time": "2022-02-09T20:24:06.351Z"
   },
   {
    "duration": 33,
    "start_time": "2022-02-09T20:24:45.620Z"
   },
   {
    "duration": 33,
    "start_time": "2022-02-09T20:25:05.158Z"
   },
   {
    "duration": 34,
    "start_time": "2022-02-09T20:25:19.000Z"
   },
   {
    "duration": 30,
    "start_time": "2022-02-09T20:29:26.268Z"
   },
   {
    "duration": 28,
    "start_time": "2022-02-09T20:29:39.523Z"
   },
   {
    "duration": 17,
    "start_time": "2022-02-09T20:31:52.181Z"
   },
   {
    "duration": 43,
    "start_time": "2022-02-09T20:31:57.384Z"
   },
   {
    "duration": 44,
    "start_time": "2022-02-09T20:32:12.462Z"
   },
   {
    "duration": 51,
    "start_time": "2022-02-09T20:33:30.765Z"
   },
   {
    "duration": 41,
    "start_time": "2022-02-09T20:33:39.682Z"
   },
   {
    "duration": 29,
    "start_time": "2022-02-09T20:35:44.460Z"
   },
   {
    "duration": 15,
    "start_time": "2022-02-09T20:36:52.843Z"
   },
   {
    "duration": 26,
    "start_time": "2022-02-09T20:37:14.206Z"
   },
   {
    "duration": 28,
    "start_time": "2022-02-09T20:38:27.699Z"
   },
   {
    "duration": 30,
    "start_time": "2022-02-09T20:39:09.732Z"
   },
   {
    "duration": 30,
    "start_time": "2022-02-09T20:39:26.502Z"
   },
   {
    "duration": 19,
    "start_time": "2022-02-09T20:43:01.439Z"
   },
   {
    "duration": 19,
    "start_time": "2022-02-09T20:43:19.403Z"
   },
   {
    "duration": 101,
    "start_time": "2022-02-09T20:47:20.479Z"
   },
   {
    "duration": 93,
    "start_time": "2022-02-09T20:47:31.174Z"
   },
   {
    "duration": 290,
    "start_time": "2022-02-09T20:47:36.205Z"
   },
   {
    "duration": 19,
    "start_time": "2022-02-09T20:47:46.155Z"
   },
   {
    "duration": 91,
    "start_time": "2022-02-09T20:47:54.358Z"
   },
   {
    "duration": 11,
    "start_time": "2022-02-09T20:47:58.157Z"
   },
   {
    "duration": 9,
    "start_time": "2022-02-09T20:51:23.819Z"
   },
   {
    "duration": 305,
    "start_time": "2022-02-09T20:51:31.390Z"
   },
   {
    "duration": 18,
    "start_time": "2022-02-09T20:51:53.374Z"
   },
   {
    "duration": 12,
    "start_time": "2022-02-09T20:52:03.788Z"
   },
   {
    "duration": 14,
    "start_time": "2022-02-09T20:52:09.454Z"
   },
   {
    "duration": 16,
    "start_time": "2022-02-09T20:54:09.824Z"
   },
   {
    "duration": 28,
    "start_time": "2022-02-09T20:54:14.507Z"
   },
   {
    "duration": 22,
    "start_time": "2022-02-09T20:54:47.281Z"
   },
   {
    "duration": 111,
    "start_time": "2022-02-09T20:57:26.783Z"
   },
   {
    "duration": 13,
    "start_time": "2022-02-09T20:57:31.973Z"
   },
   {
    "duration": 290,
    "start_time": "2022-02-09T20:57:35.740Z"
   },
   {
    "duration": 1609,
    "start_time": "2022-02-09T20:58:29.373Z"
   },
   {
    "duration": 311,
    "start_time": "2022-02-09T20:59:42.085Z"
   },
   {
    "duration": 13,
    "start_time": "2022-02-09T20:59:54.635Z"
   },
   {
    "duration": 313,
    "start_time": "2022-02-09T20:59:56.925Z"
   },
   {
    "duration": 10,
    "start_time": "2022-02-09T21:00:22.847Z"
   },
   {
    "duration": 1328,
    "start_time": "2022-02-09T21:00:25.414Z"
   },
   {
    "duration": 324,
    "start_time": "2022-02-09T21:00:39.520Z"
   },
   {
    "duration": 21,
    "start_time": "2022-02-09T21:01:04.354Z"
   },
   {
    "duration": 12,
    "start_time": "2022-02-09T21:01:07.283Z"
   },
   {
    "duration": 24,
    "start_time": "2022-02-09T21:05:03.206Z"
   },
   {
    "duration": 24,
    "start_time": "2022-02-09T21:05:35.673Z"
   },
   {
    "duration": 283,
    "start_time": "2022-02-09T21:08:41.849Z"
   },
   {
    "duration": 19,
    "start_time": "2022-02-09T21:09:29.424Z"
   },
   {
    "duration": 109,
    "start_time": "2022-02-09T21:11:39.932Z"
   },
   {
    "duration": 533,
    "start_time": "2022-02-09T21:11:48.356Z"
   },
   {
    "duration": 764,
    "start_time": "2022-02-09T21:13:20.906Z"
   },
   {
    "duration": 896,
    "start_time": "2022-02-09T21:13:51.463Z"
   },
   {
    "duration": 532,
    "start_time": "2022-02-09T21:14:58.472Z"
   },
   {
    "duration": 23,
    "start_time": "2022-02-09T21:17:05.174Z"
   },
   {
    "duration": 516,
    "start_time": "2022-02-09T21:17:07.483Z"
   },
   {
    "duration": 538,
    "start_time": "2022-02-09T21:17:23.672Z"
   },
   {
    "duration": 547,
    "start_time": "2022-02-09T21:18:01.525Z"
   },
   {
    "duration": 113,
    "start_time": "2022-02-09T21:18:21.038Z"
   },
   {
    "duration": 514,
    "start_time": "2022-02-09T21:18:25.673Z"
   },
   {
    "duration": 629,
    "start_time": "2022-02-09T21:18:48.704Z"
   },
   {
    "duration": 29,
    "start_time": "2022-02-09T21:19:18.799Z"
   },
   {
    "duration": 526,
    "start_time": "2022-02-09T21:20:18.160Z"
   },
   {
    "duration": 396,
    "start_time": "2022-02-09T21:21:35.945Z"
   },
   {
    "duration": 742,
    "start_time": "2022-02-09T21:22:30.292Z"
   },
   {
    "duration": 649,
    "start_time": "2022-02-09T21:23:33.643Z"
   },
   {
    "duration": 372,
    "start_time": "2022-02-09T21:23:43.586Z"
   },
   {
    "duration": 403,
    "start_time": "2022-02-09T21:24:11.285Z"
   },
   {
    "duration": 438,
    "start_time": "2022-02-09T21:24:29.346Z"
   },
   {
    "duration": 546,
    "start_time": "2022-02-09T21:25:14.969Z"
   },
   {
    "duration": 437,
    "start_time": "2022-02-09T21:25:22.659Z"
   },
   {
    "duration": 632,
    "start_time": "2022-02-09T21:32:34.624Z"
   },
   {
    "duration": 450,
    "start_time": "2022-02-09T21:34:03.484Z"
   },
   {
    "duration": 459,
    "start_time": "2022-02-09T21:35:27.569Z"
   },
   {
    "duration": 98,
    "start_time": "2022-02-09T21:39:44.964Z"
   },
   {
    "duration": 18,
    "start_time": "2022-02-09T21:40:12.597Z"
   },
   {
    "duration": 437,
    "start_time": "2022-02-09T21:40:14.011Z"
   },
   {
    "duration": 296,
    "start_time": "2022-02-09T21:40:21.395Z"
   },
   {
    "duration": 925,
    "start_time": "2022-02-09T21:40:28.062Z"
   },
   {
    "duration": 561,
    "start_time": "2022-02-09T21:40:36.036Z"
   },
   {
    "duration": 555,
    "start_time": "2022-02-09T21:41:43.800Z"
   },
   {
    "duration": 21,
    "start_time": "2022-02-09T21:42:54.282Z"
   },
   {
    "duration": 553,
    "start_time": "2022-02-09T21:42:57.061Z"
   },
   {
    "duration": 20,
    "start_time": "2022-02-09T21:43:19.180Z"
   },
   {
    "duration": 550,
    "start_time": "2022-02-09T21:43:19.990Z"
   },
   {
    "duration": 31,
    "start_time": "2022-02-09T21:43:52.849Z"
   },
   {
    "duration": 313,
    "start_time": "2022-02-09T21:44:12.879Z"
   },
   {
    "duration": 30,
    "start_time": "2022-02-09T21:44:17.225Z"
   },
   {
    "duration": 32,
    "start_time": "2022-02-09T21:44:42.616Z"
   },
   {
    "duration": 31,
    "start_time": "2022-02-09T21:44:52.176Z"
   },
   {
    "duration": 32,
    "start_time": "2022-02-09T21:45:09.558Z"
   },
   {
    "duration": 552,
    "start_time": "2022-02-09T21:45:26.665Z"
   },
   {
    "duration": 29,
    "start_time": "2022-02-09T21:45:35.557Z"
   },
   {
    "duration": 582,
    "start_time": "2022-02-09T21:45:41.276Z"
   },
   {
    "duration": 539,
    "start_time": "2022-02-09T21:47:05.326Z"
   },
   {
    "duration": 545,
    "start_time": "2022-02-09T21:47:12.311Z"
   },
   {
    "duration": 554,
    "start_time": "2022-02-09T21:47:17.247Z"
   },
   {
    "duration": 631,
    "start_time": "2022-02-09T21:47:24.557Z"
   },
   {
    "duration": 679,
    "start_time": "2022-02-09T21:47:29.929Z"
   },
   {
    "duration": 565,
    "start_time": "2022-02-09T21:47:33.493Z"
   },
   {
    "duration": 562,
    "start_time": "2022-02-09T21:47:37.678Z"
   },
   {
    "duration": 566,
    "start_time": "2022-02-09T21:47:44.207Z"
   },
   {
    "duration": 250,
    "start_time": "2022-02-09T21:51:13.239Z"
   },
   {
    "duration": 256,
    "start_time": "2022-02-09T21:51:53.238Z"
   },
   {
    "duration": 32103,
    "start_time": "2022-02-09T21:52:17.315Z"
   },
   {
    "duration": 722,
    "start_time": "2022-02-09T21:52:53.101Z"
   },
   {
    "duration": 23,
    "start_time": "2022-02-09T21:53:57.958Z"
   },
   {
    "duration": 349,
    "start_time": "2022-02-09T21:54:32.055Z"
   },
   {
    "duration": 24,
    "start_time": "2022-02-09T21:54:41.993Z"
   },
   {
    "duration": 535,
    "start_time": "2022-02-09T21:55:40.356Z"
   },
   {
    "duration": 517,
    "start_time": "2022-02-09T21:56:45.784Z"
   },
   {
    "duration": 540,
    "start_time": "2022-02-09T21:56:59.913Z"
   },
   {
    "duration": 536,
    "start_time": "2022-02-09T21:58:40.611Z"
   },
   {
    "duration": 25,
    "start_time": "2022-02-09T22:00:40.020Z"
   },
   {
    "duration": 558,
    "start_time": "2022-02-09T22:00:42.424Z"
   },
   {
    "duration": 515,
    "start_time": "2022-02-09T22:03:33.145Z"
   },
   {
    "duration": 520,
    "start_time": "2022-02-09T22:04:34.331Z"
   },
   {
    "duration": 523,
    "start_time": "2022-02-09T22:04:41.995Z"
   },
   {
    "duration": 16,
    "start_time": "2022-02-09T22:09:07.262Z"
   },
   {
    "duration": 93,
    "start_time": "2022-02-09T22:09:24.095Z"
   },
   {
    "duration": 6,
    "start_time": "2022-02-09T22:09:28.585Z"
   },
   {
    "duration": 9,
    "start_time": "2022-02-09T22:10:03.360Z"
   },
   {
    "duration": 285,
    "start_time": "2022-02-09T22:10:20.160Z"
   },
   {
    "duration": 22,
    "start_time": "2022-02-09T22:10:49.917Z"
   },
   {
    "duration": 6,
    "start_time": "2022-02-09T22:11:30.908Z"
   },
   {
    "duration": 6,
    "start_time": "2022-02-09T22:14:45.309Z"
   },
   {
    "duration": 15,
    "start_time": "2022-02-09T22:21:52.647Z"
   },
   {
    "duration": 26,
    "start_time": "2022-02-09T22:21:56.743Z"
   },
   {
    "duration": 15,
    "start_time": "2022-02-09T22:22:05.107Z"
   },
   {
    "duration": 35,
    "start_time": "2022-02-09T22:22:29.205Z"
   },
   {
    "duration": 36,
    "start_time": "2022-02-09T22:22:47.792Z"
   },
   {
    "duration": 4,
    "start_time": "2022-02-09T22:24:40.984Z"
   },
   {
    "duration": 19,
    "start_time": "2022-02-09T22:24:55.692Z"
   },
   {
    "duration": 4,
    "start_time": "2022-02-09T22:25:44.345Z"
   },
   {
    "duration": 14,
    "start_time": "2022-02-09T22:25:45.759Z"
   },
   {
    "duration": 99,
    "start_time": "2022-02-09T22:26:01.646Z"
   },
   {
    "duration": 4,
    "start_time": "2022-02-09T22:26:07.276Z"
   },
   {
    "duration": 4,
    "start_time": "2022-02-09T22:26:14.174Z"
   },
   {
    "duration": 4,
    "start_time": "2022-02-09T22:26:56.206Z"
   },
   {
    "duration": 38,
    "start_time": "2022-02-09T22:26:57.035Z"
   },
   {
    "duration": 4,
    "start_time": "2022-02-09T22:27:15.565Z"
   },
   {
    "duration": 35,
    "start_time": "2022-02-09T22:27:16.789Z"
   },
   {
    "duration": 4,
    "start_time": "2022-02-09T22:27:24.189Z"
   },
   {
    "duration": 34,
    "start_time": "2022-02-09T22:27:25.309Z"
   },
   {
    "duration": 5,
    "start_time": "2022-02-09T22:28:06.650Z"
   },
   {
    "duration": 52,
    "start_time": "2022-02-09T22:28:07.642Z"
   },
   {
    "duration": 5,
    "start_time": "2022-02-09T22:28:40.248Z"
   },
   {
    "duration": 52,
    "start_time": "2022-02-09T22:28:42.775Z"
   },
   {
    "duration": 5,
    "start_time": "2022-02-09T22:29:03.219Z"
   },
   {
    "duration": 53,
    "start_time": "2022-02-09T22:29:06.131Z"
   },
   {
    "duration": 4,
    "start_time": "2022-02-09T22:29:29.274Z"
   },
   {
    "duration": 50,
    "start_time": "2022-02-09T22:29:33.418Z"
   },
   {
    "duration": 4,
    "start_time": "2022-02-09T22:29:45.154Z"
   },
   {
    "duration": 53,
    "start_time": "2022-02-09T22:29:46.940Z"
   },
   {
    "duration": 5,
    "start_time": "2022-02-09T22:29:56.162Z"
   },
   {
    "duration": 53,
    "start_time": "2022-02-09T22:29:58.066Z"
   },
   {
    "duration": 5,
    "start_time": "2022-02-09T22:30:16.659Z"
   },
   {
    "duration": 53,
    "start_time": "2022-02-09T22:30:20.189Z"
   },
   {
    "duration": 5,
    "start_time": "2022-02-09T22:30:43.433Z"
   },
   {
    "duration": 56,
    "start_time": "2022-02-09T22:30:46.115Z"
   },
   {
    "duration": 4,
    "start_time": "2022-02-09T22:32:15.371Z"
   },
   {
    "duration": 51,
    "start_time": "2022-02-09T22:32:16.006Z"
   },
   {
    "duration": 1923,
    "start_time": "2022-02-11T16:18:44.527Z"
   },
   {
    "duration": 82,
    "start_time": "2022-02-11T16:19:03.873Z"
   },
   {
    "duration": 10457,
    "start_time": "2022-02-11T16:19:18.048Z"
   },
   {
    "duration": 3252,
    "start_time": "2022-02-11T16:19:49.277Z"
   },
   {
    "duration": 75,
    "start_time": "2022-02-11T16:20:08.057Z"
   },
   {
    "duration": 11,
    "start_time": "2022-02-11T16:26:27.342Z"
   },
   {
    "duration": 409,
    "start_time": "2022-02-11T16:26:43.830Z"
   },
   {
    "duration": 5232,
    "start_time": "2022-02-11T16:26:54.599Z"
   },
   {
    "duration": 1671,
    "start_time": "2022-02-11T16:27:04.567Z"
   },
   {
    "duration": 3755,
    "start_time": "2022-02-11T16:27:15.480Z"
   },
   {
    "duration": 3728,
    "start_time": "2022-02-11T16:27:19.239Z"
   },
   {
    "duration": 1774,
    "start_time": "2022-02-11T16:27:24.402Z"
   },
   {
    "duration": 384,
    "start_time": "2022-02-11T16:30:28.026Z"
   },
   {
    "duration": 4301,
    "start_time": "2022-02-11T16:30:36.836Z"
   },
   {
    "duration": 4075,
    "start_time": "2022-02-11T16:31:15.065Z"
   },
   {
    "duration": 3677,
    "start_time": "2022-02-11T16:31:19.144Z"
   },
   {
    "duration": 1680,
    "start_time": "2022-02-11T16:31:22.824Z"
   },
   {
    "duration": 783,
    "start_time": "2022-02-11T16:31:24.507Z"
   },
   {
    "duration": 55,
    "start_time": "2022-02-11T16:31:25.292Z"
   },
   {
    "duration": 30,
    "start_time": "2022-02-11T16:31:25.349Z"
   },
   {
    "duration": 23,
    "start_time": "2022-02-11T16:31:25.382Z"
   },
   {
    "duration": 27,
    "start_time": "2022-02-11T16:31:25.410Z"
   },
   {
    "duration": 60,
    "start_time": "2022-02-11T16:31:25.441Z"
   },
   {
    "duration": 29,
    "start_time": "2022-02-11T16:31:25.503Z"
   },
   {
    "duration": 60,
    "start_time": "2022-02-11T16:31:25.535Z"
   },
   {
    "duration": 11,
    "start_time": "2022-02-11T16:31:25.597Z"
   },
   {
    "duration": 8,
    "start_time": "2022-02-11T16:31:25.611Z"
   },
   {
    "duration": 77,
    "start_time": "2022-02-11T16:31:25.622Z"
   },
   {
    "duration": 15,
    "start_time": "2022-02-11T16:31:25.702Z"
   },
   {
    "duration": 459,
    "start_time": "2022-02-11T16:31:25.720Z"
   },
   {
    "duration": 417,
    "start_time": "2022-02-11T16:31:26.181Z"
   },
   {
    "duration": 267,
    "start_time": "2022-02-11T16:31:26.602Z"
   },
   {
    "duration": 19,
    "start_time": "2022-02-11T16:31:26.872Z"
   },
   {
    "duration": 19,
    "start_time": "2022-02-11T16:31:26.894Z"
   },
   {
    "duration": 503,
    "start_time": "2022-02-11T16:31:26.916Z"
   },
   {
    "duration": -782,
    "start_time": "2022-02-11T16:31:28.207Z"
   },
   {
    "duration": -791,
    "start_time": "2022-02-11T16:31:28.218Z"
   },
   {
    "duration": -794,
    "start_time": "2022-02-11T16:31:28.223Z"
   },
   {
    "duration": -805,
    "start_time": "2022-02-11T16:31:28.236Z"
   },
   {
    "duration": -808,
    "start_time": "2022-02-11T16:31:28.241Z"
   },
   {
    "duration": -815,
    "start_time": "2022-02-11T16:31:28.250Z"
   },
   {
    "duration": -817,
    "start_time": "2022-02-11T16:31:28.254Z"
   },
   {
    "duration": -826,
    "start_time": "2022-02-11T16:31:28.265Z"
   },
   {
    "duration": -828,
    "start_time": "2022-02-11T16:31:28.269Z"
   },
   {
    "duration": -830,
    "start_time": "2022-02-11T16:31:28.273Z"
   },
   {
    "duration": -837,
    "start_time": "2022-02-11T16:31:28.282Z"
   },
   {
    "duration": -838,
    "start_time": "2022-02-11T16:31:28.285Z"
   },
   {
    "duration": -840,
    "start_time": "2022-02-11T16:31:28.289Z"
   },
   {
    "duration": -841,
    "start_time": "2022-02-11T16:31:28.292Z"
   },
   {
    "duration": -842,
    "start_time": "2022-02-11T16:31:28.295Z"
   },
   {
    "duration": -842,
    "start_time": "2022-02-11T16:31:28.298Z"
   },
   {
    "duration": -843,
    "start_time": "2022-02-11T16:31:28.301Z"
   },
   {
    "duration": -844,
    "start_time": "2022-02-11T16:31:28.304Z"
   },
   {
    "duration": -840,
    "start_time": "2022-02-11T16:31:28.309Z"
   },
   {
    "duration": -842,
    "start_time": "2022-02-11T16:31:28.312Z"
   },
   {
    "duration": -844,
    "start_time": "2022-02-11T16:31:28.316Z"
   },
   {
    "duration": 35,
    "start_time": "2022-02-11T16:32:04.068Z"
   },
   {
    "duration": 595,
    "start_time": "2022-02-11T16:32:05.880Z"
   },
   {
    "duration": 12,
    "start_time": "2022-02-11T16:32:10.166Z"
   },
   {
    "duration": 22,
    "start_time": "2022-02-11T16:32:10.660Z"
   },
   {
    "duration": 22,
    "start_time": "2022-02-11T16:32:11.251Z"
   },
   {
    "duration": 24,
    "start_time": "2022-02-11T16:32:12.698Z"
   },
   {
    "duration": 533,
    "start_time": "2022-02-11T16:32:13.056Z"
   },
   {
    "duration": 465,
    "start_time": "2022-02-11T16:32:14.048Z"
   },
   {
    "duration": 52,
    "start_time": "2022-02-11T16:32:14.640Z"
   },
   {
    "duration": 98,
    "start_time": "2022-02-11T16:32:19.691Z"
   },
   {
    "duration": 12,
    "start_time": "2022-02-11T16:32:20.711Z"
   },
   {
    "duration": 24,
    "start_time": "2022-02-11T16:32:20.984Z"
   },
   {
    "duration": 556,
    "start_time": "2022-02-11T16:32:21.218Z"
   },
   {
    "duration": 1055,
    "start_time": "2022-02-11T16:32:22.614Z"
   },
   {
    "duration": 31,
    "start_time": "2022-02-11T16:32:23.672Z"
   },
   {
    "duration": 7,
    "start_time": "2022-02-11T16:32:23.707Z"
   },
   {
    "duration": 309,
    "start_time": "2022-02-11T16:33:31.740Z"
   },
   {
    "duration": 33,
    "start_time": "2022-02-11T16:34:08.758Z"
   },
   {
    "duration": 6,
    "start_time": "2022-02-11T16:34:17.097Z"
   },
   {
    "duration": 26,
    "start_time": "2022-02-11T16:34:41.753Z"
   },
   {
    "duration": 322,
    "start_time": "2022-02-11T16:35:46.652Z"
   },
   {
    "duration": 7,
    "start_time": "2022-02-11T16:36:29.433Z"
   },
   {
    "duration": 307,
    "start_time": "2022-02-11T16:36:34.737Z"
   },
   {
    "duration": 297,
    "start_time": "2022-02-11T16:36:43.725Z"
   },
   {
    "duration": 738,
    "start_time": "2022-02-11T16:38:05.661Z"
   },
   {
    "duration": 300,
    "start_time": "2022-02-11T16:39:12.770Z"
   },
   {
    "duration": 283,
    "start_time": "2022-02-11T16:39:57.999Z"
   },
   {
    "duration": 5488,
    "start_time": "2022-02-11T16:41:09.492Z"
   },
   {
    "duration": 15,
    "start_time": "2022-02-11T16:41:46.950Z"
   },
   {
    "duration": 1374,
    "start_time": "2022-02-11T16:42:07.083Z"
   },
   {
    "duration": 297,
    "start_time": "2022-02-11T16:42:31.345Z"
   },
   {
    "duration": 322,
    "start_time": "2022-02-11T16:44:21.574Z"
   },
   {
    "duration": 316,
    "start_time": "2022-02-11T16:44:30.819Z"
   },
   {
    "duration": 4,
    "start_time": "2022-02-11T16:44:40.638Z"
   },
   {
    "duration": 418,
    "start_time": "2022-02-11T16:44:43.019Z"
   },
   {
    "duration": 285,
    "start_time": "2022-02-11T16:58:55.676Z"
   },
   {
    "duration": 264,
    "start_time": "2022-02-11T16:59:09.597Z"
   },
   {
    "duration": 295,
    "start_time": "2022-02-11T17:00:02.494Z"
   },
   {
    "duration": 287,
    "start_time": "2022-02-11T17:01:01.498Z"
   },
   {
    "duration": 425,
    "start_time": "2022-02-11T17:01:09.201Z"
   },
   {
    "duration": 298,
    "start_time": "2022-02-11T17:02:39.077Z"
   },
   {
    "duration": 290,
    "start_time": "2022-02-11T17:02:55.870Z"
   },
   {
    "duration": 282,
    "start_time": "2022-02-11T17:04:21.598Z"
   },
   {
    "duration": 289,
    "start_time": "2022-02-11T17:04:53.303Z"
   },
   {
    "duration": 318,
    "start_time": "2022-02-11T17:05:50.856Z"
   },
   {
    "duration": 288,
    "start_time": "2022-02-11T17:06:54.675Z"
   },
   {
    "duration": 410,
    "start_time": "2022-02-11T17:07:36.452Z"
   },
   {
    "duration": 360,
    "start_time": "2022-02-11T17:07:53.428Z"
   },
   {
    "duration": 304,
    "start_time": "2022-02-11T17:08:09.099Z"
   },
   {
    "duration": 4,
    "start_time": "2022-02-11T17:08:14.935Z"
   },
   {
    "duration": 275,
    "start_time": "2022-02-11T17:08:16.574Z"
   },
   {
    "duration": 4,
    "start_time": "2022-02-11T17:09:40.493Z"
   },
   {
    "duration": 287,
    "start_time": "2022-02-11T17:09:42.392Z"
   },
   {
    "duration": 298,
    "start_time": "2022-02-11T17:11:08.362Z"
   },
   {
    "duration": 418,
    "start_time": "2022-02-11T17:11:14.578Z"
   },
   {
    "duration": 250,
    "start_time": "2022-02-11T17:12:16.872Z"
   },
   {
    "duration": 4,
    "start_time": "2022-02-11T17:13:40.136Z"
   },
   {
    "duration": 274,
    "start_time": "2022-02-11T17:13:41.989Z"
   },
   {
    "duration": 278,
    "start_time": "2022-02-11T17:13:50.071Z"
   },
   {
    "duration": 3725,
    "start_time": "2022-02-11T17:13:56.059Z"
   },
   {
    "duration": 3691,
    "start_time": "2022-02-11T17:13:59.787Z"
   },
   {
    "duration": 3155,
    "start_time": "2022-02-11T17:14:03.482Z"
   },
   {
    "duration": 167,
    "start_time": "2022-02-11T17:14:06.641Z"
   },
   {
    "duration": 1553,
    "start_time": "2022-02-11T17:14:06.810Z"
   },
   {
    "duration": 710,
    "start_time": "2022-02-11T17:14:08.365Z"
   },
   {
    "duration": 53,
    "start_time": "2022-02-11T17:14:09.077Z"
   },
   {
    "duration": 16,
    "start_time": "2022-02-11T17:14:09.133Z"
   },
   {
    "duration": 35,
    "start_time": "2022-02-11T17:14:09.153Z"
   },
   {
    "duration": 31,
    "start_time": "2022-02-11T17:14:09.191Z"
   },
   {
    "duration": 34,
    "start_time": "2022-02-11T17:14:09.225Z"
   },
   {
    "duration": 29,
    "start_time": "2022-02-11T17:14:09.261Z"
   },
   {
    "duration": 27,
    "start_time": "2022-02-11T17:14:09.293Z"
   },
   {
    "duration": 11,
    "start_time": "2022-02-11T17:14:09.322Z"
   },
   {
    "duration": 42,
    "start_time": "2022-02-11T17:14:09.335Z"
   },
   {
    "duration": 72,
    "start_time": "2022-02-11T17:14:09.379Z"
   },
   {
    "duration": 24,
    "start_time": "2022-02-11T17:14:09.454Z"
   },
   {
    "duration": 443,
    "start_time": "2022-02-11T17:14:09.481Z"
   },
   {
    "duration": 398,
    "start_time": "2022-02-11T17:14:09.926Z"
   },
   {
    "duration": 235,
    "start_time": "2022-02-11T17:14:10.326Z"
   },
   {
    "duration": 20,
    "start_time": "2022-02-11T17:14:10.568Z"
   },
   {
    "duration": 28,
    "start_time": "2022-02-11T17:14:10.591Z"
   },
   {
    "duration": 54,
    "start_time": "2022-02-11T17:14:10.621Z"
   },
   {
    "duration": 547,
    "start_time": "2022-02-11T17:14:10.677Z"
   },
   {
    "duration": 15,
    "start_time": "2022-02-11T17:14:11.227Z"
   },
   {
    "duration": 43,
    "start_time": "2022-02-11T17:14:11.245Z"
   },
   {
    "duration": 22,
    "start_time": "2022-02-11T17:14:11.296Z"
   },
   {
    "duration": 60,
    "start_time": "2022-02-11T17:14:11.322Z"
   },
   {
    "duration": 553,
    "start_time": "2022-02-11T17:14:11.385Z"
   },
   {
    "duration": 455,
    "start_time": "2022-02-11T17:14:11.941Z"
   },
   {
    "duration": 47,
    "start_time": "2022-02-11T17:14:12.398Z"
   },
   {
    "duration": 204,
    "start_time": "2022-02-11T17:14:12.448Z"
   },
   {
    "duration": 16,
    "start_time": "2022-02-11T17:14:12.654Z"
   },
   {
    "duration": 34,
    "start_time": "2022-02-11T17:14:12.672Z"
   },
   {
    "duration": 471,
    "start_time": "2022-02-11T17:14:12.709Z"
   },
   {
    "duration": 1140,
    "start_time": "2022-02-11T17:14:13.182Z"
   },
   {
    "duration": 33,
    "start_time": "2022-02-11T17:14:14.324Z"
   },
   {
    "duration": 6,
    "start_time": "2022-02-11T17:14:14.359Z"
   },
   {
    "duration": 42,
    "start_time": "2022-02-11T17:14:14.367Z"
   },
   {
    "duration": 7,
    "start_time": "2022-02-11T17:14:14.416Z"
   },
   {
    "duration": 480,
    "start_time": "2022-02-11T17:14:14.426Z"
   },
   {
    "duration": -806,
    "start_time": "2022-02-11T17:14:15.715Z"
   },
   {
    "duration": -809,
    "start_time": "2022-02-11T17:14:15.719Z"
   },
   {
    "duration": -811,
    "start_time": "2022-02-11T17:14:15.723Z"
   },
   {
    "duration": -817,
    "start_time": "2022-02-11T17:14:15.731Z"
   },
   {
    "duration": -820,
    "start_time": "2022-02-11T17:14:15.736Z"
   },
   {
    "duration": -822,
    "start_time": "2022-02-11T17:14:15.739Z"
   },
   {
    "duration": 306,
    "start_time": "2022-02-11T17:14:23.976Z"
   },
   {
    "duration": 320,
    "start_time": "2022-02-11T17:14:49.283Z"
   },
   {
    "duration": 294,
    "start_time": "2022-02-11T17:14:58.693Z"
   },
   {
    "duration": 453,
    "start_time": "2022-02-11T17:16:26.732Z"
   },
   {
    "duration": 288,
    "start_time": "2022-02-11T17:16:41.129Z"
   },
   {
    "duration": 329,
    "start_time": "2022-02-11T17:18:45.147Z"
   },
   {
    "duration": 305,
    "start_time": "2022-02-11T17:19:08.461Z"
   },
   {
    "duration": 314,
    "start_time": "2022-02-11T17:19:47.048Z"
   },
   {
    "duration": 12437,
    "start_time": "2022-02-12T11:42:26.951Z"
   },
   {
    "duration": 5700,
    "start_time": "2022-02-12T11:42:39.391Z"
   },
   {
    "duration": 5966,
    "start_time": "2022-02-12T11:42:45.094Z"
   },
   {
    "duration": 172,
    "start_time": "2022-02-12T11:42:51.063Z"
   },
   {
    "duration": 1972,
    "start_time": "2022-02-12T11:42:51.238Z"
   },
   {
    "duration": 750,
    "start_time": "2022-02-12T11:42:53.213Z"
   },
   {
    "duration": 52,
    "start_time": "2022-02-12T11:42:53.966Z"
   },
   {
    "duration": 17,
    "start_time": "2022-02-12T11:42:54.026Z"
   },
   {
    "duration": 22,
    "start_time": "2022-02-12T11:42:54.047Z"
   },
   {
    "duration": 28,
    "start_time": "2022-02-12T11:42:54.072Z"
   },
   {
    "duration": 32,
    "start_time": "2022-02-12T11:42:54.124Z"
   },
   {
    "duration": 28,
    "start_time": "2022-02-12T11:42:54.160Z"
   },
   {
    "duration": 64,
    "start_time": "2022-02-12T11:42:54.191Z"
   },
   {
    "duration": 10,
    "start_time": "2022-02-12T11:42:54.258Z"
   },
   {
    "duration": 4,
    "start_time": "2022-02-12T11:42:54.271Z"
   },
   {
    "duration": 352,
    "start_time": "2022-02-12T11:42:54.278Z"
   },
   {
    "duration": 29,
    "start_time": "2022-02-12T11:42:54.633Z"
   },
   {
    "duration": 495,
    "start_time": "2022-02-12T11:42:54.664Z"
   },
   {
    "duration": 395,
    "start_time": "2022-02-12T11:42:55.162Z"
   },
   {
    "duration": 244,
    "start_time": "2022-02-12T11:42:55.560Z"
   },
   {
    "duration": 27,
    "start_time": "2022-02-12T11:42:55.807Z"
   },
   {
    "duration": 17,
    "start_time": "2022-02-12T11:42:55.836Z"
   },
   {
    "duration": 64,
    "start_time": "2022-02-12T11:42:55.859Z"
   },
   {
    "duration": 540,
    "start_time": "2022-02-12T11:42:55.926Z"
   },
   {
    "duration": 14,
    "start_time": "2022-02-12T11:42:56.470Z"
   },
   {
    "duration": 54,
    "start_time": "2022-02-12T11:42:56.487Z"
   },
   {
    "duration": 22,
    "start_time": "2022-02-12T11:42:56.544Z"
   },
   {
    "duration": 55,
    "start_time": "2022-02-12T11:42:56.568Z"
   },
   {
    "duration": 552,
    "start_time": "2022-02-12T11:42:56.625Z"
   },
   {
    "duration": 445,
    "start_time": "2022-02-12T11:42:57.181Z"
   },
   {
    "duration": 47,
    "start_time": "2022-02-12T11:42:57.628Z"
   },
   {
    "duration": 202,
    "start_time": "2022-02-12T11:42:57.677Z"
   },
   {
    "duration": 13,
    "start_time": "2022-02-12T11:42:57.882Z"
   },
   {
    "duration": 36,
    "start_time": "2022-02-12T11:42:57.898Z"
   },
   {
    "duration": 574,
    "start_time": "2022-02-12T11:42:57.936Z"
   },
   {
    "duration": 1158,
    "start_time": "2022-02-12T11:42:58.514Z"
   },
   {
    "duration": 37,
    "start_time": "2022-02-12T11:42:59.674Z"
   },
   {
    "duration": 5,
    "start_time": "2022-02-12T11:42:59.713Z"
   },
   {
    "duration": 26,
    "start_time": "2022-02-12T11:42:59.724Z"
   },
   {
    "duration": 4,
    "start_time": "2022-02-12T11:42:59.753Z"
   },
   {
    "duration": 497,
    "start_time": "2022-02-12T11:42:59.760Z"
   },
   {
    "duration": 129,
    "start_time": "2022-02-12T11:43:00.130Z"
   },
   {
    "duration": 118,
    "start_time": "2022-02-12T11:43:00.143Z"
   },
   {
    "duration": 106,
    "start_time": "2022-02-12T11:43:00.156Z"
   },
   {
    "duration": 103,
    "start_time": "2022-02-12T11:43:00.161Z"
   },
   {
    "duration": 95,
    "start_time": "2022-02-12T11:43:00.171Z"
   },
   {
    "duration": 93,
    "start_time": "2022-02-12T11:43:00.175Z"
   },
   {
    "duration": 320,
    "start_time": "2022-02-12T11:43:59.689Z"
   },
   {
    "duration": 521,
    "start_time": "2022-02-12T11:44:39.866Z"
   },
   {
    "duration": 359,
    "start_time": "2022-02-12T11:45:12.761Z"
   },
   {
    "duration": 135,
    "start_time": "2022-02-12T11:46:48.056Z"
   },
   {
    "duration": 316,
    "start_time": "2022-02-12T11:47:27.817Z"
   },
   {
    "duration": 305,
    "start_time": "2022-02-12T11:52:36.868Z"
   },
   {
    "duration": 368,
    "start_time": "2022-02-12T11:52:59.938Z"
   },
   {
    "duration": 327,
    "start_time": "2022-02-12T11:53:22.286Z"
   },
   {
    "duration": 137,
    "start_time": "2022-02-12T12:54:00.257Z"
   },
   {
    "duration": 367,
    "start_time": "2022-02-12T12:54:12.730Z"
   },
   {
    "duration": 4721,
    "start_time": "2022-02-12T13:13:41.723Z"
   },
   {
    "duration": 4179,
    "start_time": "2022-02-12T13:13:46.447Z"
   },
   {
    "duration": 3659,
    "start_time": "2022-02-12T13:13:50.629Z"
   },
   {
    "duration": 171,
    "start_time": "2022-02-12T13:13:54.292Z"
   },
   {
    "duration": 2165,
    "start_time": "2022-02-12T13:13:54.466Z"
   },
   {
    "duration": 1132,
    "start_time": "2022-02-12T13:13:56.633Z"
   },
   {
    "duration": 158,
    "start_time": "2022-02-12T13:13:57.768Z"
   },
   {
    "duration": 16,
    "start_time": "2022-02-12T13:13:57.930Z"
   },
   {
    "duration": 13,
    "start_time": "2022-02-12T13:13:57.950Z"
   },
   {
    "duration": 72,
    "start_time": "2022-02-12T13:13:57.966Z"
   },
   {
    "duration": 24,
    "start_time": "2022-02-12T13:13:58.041Z"
   },
   {
    "duration": 75,
    "start_time": "2022-02-12T13:13:58.068Z"
   },
   {
    "duration": 87,
    "start_time": "2022-02-12T13:13:58.145Z"
   },
   {
    "duration": 12,
    "start_time": "2022-02-12T13:13:58.234Z"
   },
   {
    "duration": 9,
    "start_time": "2022-02-12T13:13:58.248Z"
   },
   {
    "duration": 104,
    "start_time": "2022-02-12T13:13:58.260Z"
   },
   {
    "duration": 17,
    "start_time": "2022-02-12T13:13:58.367Z"
   },
   {
    "duration": 665,
    "start_time": "2022-02-12T13:13:58.386Z"
   },
   {
    "duration": 537,
    "start_time": "2022-02-12T13:13:59.054Z"
   },
   {
    "duration": 245,
    "start_time": "2022-02-12T13:13:59.593Z"
   },
   {
    "duration": 20,
    "start_time": "2022-02-12T13:13:59.841Z"
   },
   {
    "duration": 21,
    "start_time": "2022-02-12T13:13:59.864Z"
   },
   {
    "duration": 37,
    "start_time": "2022-02-12T13:13:59.922Z"
   },
   {
    "duration": 546,
    "start_time": "2022-02-12T13:13:59.963Z"
   },
   {
    "duration": 20,
    "start_time": "2022-02-12T13:14:00.512Z"
   },
   {
    "duration": 31,
    "start_time": "2022-02-12T13:14:00.536Z"
   },
   {
    "duration": 61,
    "start_time": "2022-02-12T13:14:00.571Z"
   },
   {
    "duration": 27,
    "start_time": "2022-02-12T13:14:00.635Z"
   },
   {
    "duration": 585,
    "start_time": "2022-02-12T13:14:00.664Z"
   },
   {
    "duration": 471,
    "start_time": "2022-02-12T13:14:01.252Z"
   },
   {
    "duration": 51,
    "start_time": "2022-02-12T13:14:01.726Z"
   },
   {
    "duration": 222,
    "start_time": "2022-02-12T13:14:01.780Z"
   },
   {
    "duration": 19,
    "start_time": "2022-02-12T13:14:02.004Z"
   },
   {
    "duration": 19,
    "start_time": "2022-02-12T13:14:02.026Z"
   },
   {
    "duration": 483,
    "start_time": "2022-02-12T13:14:02.048Z"
   },
   {
    "duration": 1276,
    "start_time": "2022-02-12T13:14:02.534Z"
   },
   {
    "duration": 34,
    "start_time": "2022-02-12T13:14:03.812Z"
   },
   {
    "duration": 7,
    "start_time": "2022-02-12T13:14:03.848Z"
   },
   {
    "duration": 27,
    "start_time": "2022-02-12T13:14:03.857Z"
   },
   {
    "duration": 6,
    "start_time": "2022-02-12T13:14:03.887Z"
   },
   {
    "duration": 670,
    "start_time": "2022-02-12T13:14:03.925Z"
   },
   {
    "duration": 128,
    "start_time": "2022-02-12T13:14:04.471Z"
   },
   {
    "duration": 127,
    "start_time": "2022-02-12T13:14:04.474Z"
   },
   {
    "duration": 126,
    "start_time": "2022-02-12T13:14:04.477Z"
   },
   {
    "duration": 125,
    "start_time": "2022-02-12T13:14:04.480Z"
   },
   {
    "duration": 123,
    "start_time": "2022-02-12T13:14:04.484Z"
   },
   {
    "duration": 117,
    "start_time": "2022-02-12T13:14:04.492Z"
   },
   {
    "duration": 440,
    "start_time": "2022-02-12T13:15:04.831Z"
   },
   {
    "duration": 72,
    "start_time": "2022-03-23T20:40:17.922Z"
   },
   {
    "duration": 6162,
    "start_time": "2022-03-23T20:40:23.733Z"
   },
   {
    "duration": 3620,
    "start_time": "2022-03-23T20:40:29.897Z"
   },
   {
    "duration": 3071,
    "start_time": "2022-03-23T20:40:33.519Z"
   },
   {
    "duration": 75,
    "start_time": "2022-03-23T20:40:36.592Z"
   },
   {
    "duration": 1321,
    "start_time": "2022-03-23T20:40:36.670Z"
   },
   {
    "duration": 1636,
    "start_time": "2022-03-23T20:40:37.993Z"
   },
   {
    "duration": 75,
    "start_time": "2022-03-23T20:40:39.632Z"
   },
   {
    "duration": 17,
    "start_time": "2022-03-23T20:40:39.709Z"
   },
   {
    "duration": 98,
    "start_time": "2022-03-23T20:40:39.729Z"
   },
   {
    "duration": 44,
    "start_time": "2022-03-23T20:40:39.829Z"
   },
   {
    "duration": 26,
    "start_time": "2022-03-23T20:40:39.875Z"
   },
   {
    "duration": 24,
    "start_time": "2022-03-23T20:40:39.904Z"
   },
   {
    "duration": 64,
    "start_time": "2022-03-23T20:40:39.930Z"
   },
   {
    "duration": 15,
    "start_time": "2022-03-23T20:40:39.998Z"
   },
   {
    "duration": 6,
    "start_time": "2022-03-23T20:40:40.016Z"
   },
   {
    "duration": 84,
    "start_time": "2022-03-23T20:40:40.024Z"
   },
   {
    "duration": 27,
    "start_time": "2022-03-23T20:40:40.110Z"
   },
   {
    "duration": 209,
    "start_time": "2022-03-23T20:40:40.139Z"
   },
   {
    "duration": 242,
    "start_time": "2022-03-23T20:40:40.350Z"
   },
   {
    "duration": 100,
    "start_time": "2022-03-23T20:40:40.594Z"
   },
   {
    "duration": 13,
    "start_time": "2022-03-23T20:40:40.696Z"
   },
   {
    "duration": 12,
    "start_time": "2022-03-23T20:40:40.711Z"
   },
   {
    "duration": 45,
    "start_time": "2022-03-23T20:40:40.724Z"
   },
   {
    "duration": 304,
    "start_time": "2022-03-23T20:40:40.770Z"
   },
   {
    "duration": 11,
    "start_time": "2022-03-23T20:40:41.076Z"
   },
   {
    "duration": 19,
    "start_time": "2022-03-23T20:40:41.089Z"
   },
   {
    "duration": 13,
    "start_time": "2022-03-23T20:40:41.110Z"
   },
   {
    "duration": 50,
    "start_time": "2022-03-23T20:40:41.124Z"
   },
   {
    "duration": 307,
    "start_time": "2022-03-23T20:40:41.175Z"
   },
   {
    "duration": 180,
    "start_time": "2022-03-23T20:40:41.484Z"
   },
   {
    "duration": 33,
    "start_time": "2022-03-23T20:40:41.667Z"
   },
   {
    "duration": 90,
    "start_time": "2022-03-23T20:40:41.702Z"
   },
   {
    "duration": 11,
    "start_time": "2022-03-23T20:40:41.795Z"
   },
   {
    "duration": 11,
    "start_time": "2022-03-23T20:40:41.808Z"
   },
   {
    "duration": 298,
    "start_time": "2022-03-23T20:40:41.822Z"
   },
   {
    "duration": 1574,
    "start_time": "2022-03-23T20:40:42.123Z"
   },
   {
    "duration": 0,
    "start_time": "2022-03-23T20:40:43.700Z"
   },
   {
    "duration": 0,
    "start_time": "2022-03-23T20:40:43.702Z"
   },
   {
    "duration": 0,
    "start_time": "2022-03-23T20:40:43.703Z"
   },
   {
    "duration": 0,
    "start_time": "2022-03-23T20:40:43.705Z"
   },
   {
    "duration": 0,
    "start_time": "2022-03-23T20:40:43.706Z"
   },
   {
    "duration": 0,
    "start_time": "2022-03-23T20:40:43.764Z"
   },
   {
    "duration": 0,
    "start_time": "2022-03-23T20:40:43.765Z"
   },
   {
    "duration": 0,
    "start_time": "2022-03-23T20:40:43.766Z"
   },
   {
    "duration": 0,
    "start_time": "2022-03-23T20:40:43.767Z"
   },
   {
    "duration": 0,
    "start_time": "2022-03-23T20:40:43.769Z"
   },
   {
    "duration": 0,
    "start_time": "2022-03-23T20:40:43.771Z"
   },
   {
    "duration": 14,
    "start_time": "2022-03-23T20:40:52.259Z"
   },
   {
    "duration": 10,
    "start_time": "2022-03-23T20:40:53.635Z"
   },
   {
    "duration": 12,
    "start_time": "2022-03-23T20:41:02.273Z"
   },
   {
    "duration": 11,
    "start_time": "2022-03-23T20:41:03.625Z"
   },
   {
    "duration": 9,
    "start_time": "2022-03-23T20:41:04.263Z"
   },
   {
    "duration": 180,
    "start_time": "2022-03-23T20:41:08.445Z"
   },
   {
    "duration": 1680,
    "start_time": "2022-03-23T20:41:09.628Z"
   },
   {
    "duration": 409,
    "start_time": "2022-03-23T20:41:11.311Z"
   }
  ],
  "kernelspec": {
   "display_name": "Python 3 (ipykernel)",
   "language": "python",
   "name": "python3"
  },
  "language_info": {
   "codemirror_mode": {
    "name": "ipython",
    "version": 3
   },
   "file_extension": ".py",
   "mimetype": "text/x-python",
   "name": "python",
   "nbconvert_exporter": "python",
   "pygments_lexer": "ipython3",
   "version": "3.9.5"
  },
  "toc": {
   "base_numbering": 1,
   "nav_menu": {},
   "number_sections": true,
   "sideBar": true,
   "skip_h1_title": true,
   "title_cell": "Содержание",
   "title_sidebar": "Contents",
   "toc_cell": true,
   "toc_position": {
    "height": "calc(100% - 180px)",
    "left": "10px",
    "top": "150px",
    "width": "263.648px"
   },
   "toc_section_display": true,
   "toc_window_display": true
  }
 },
 "nbformat": 4,
 "nbformat_minor": 2
}
