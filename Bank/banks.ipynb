{
 "cells": [
  {
   "cell_type": "markdown",
   "metadata": {},
   "source": [
    "# Исследование надёжности заёмщиков\n",
    "\n",
    "Заказчик — кредитный отдел банка. Нужно разобраться, влияет ли семейное положение и количество детей клиента на факт погашения кредита в срок. Входные данные от банка — статистика о платёжеспособности клиентов.\n",
    "\n",
    "Результаты исследования будут учтены при построении модели **кредитного скоринга** — специальной системы, которая оценивает способность потенциального заёмщика вернуть кредит банку."
   ]
  },
  {
   "cell_type": "markdown",
   "metadata": {},
   "source": [
    "# Краткое описание \n",
    "\n",
    "Наша задача - ответиь на следующие вопросы:\n",
    "- Есть ли зависимость между наличием детей и возвратом кредита в срок?\n",
    "- Есть ли зависимость между семейным положением и возвратом кредита в срок?\n",
    "- Есть ли зависимость между уровнем дохода и возвратом кредита в срок?\n",
    "- Как разные цели кредита влияют на его возврат в срок?\n",
    "\n",
    "Для выполнения этой задачи нам предоставлен датасет. План работы стандартный: \n",
    "- открыть,\n",
    "- обработать,\n",
    "- категоризировать,\n",
    "- ответить на вопросы, \n",
    "- сделать выводы."
   ]
  },
  {
   "cell_type": "markdown",
   "metadata": {},
   "source": [
    "# Оглавление\n",
    "1. [Шаг 1. Откройте файл с данными и изучите общую информацию](#start)\n",
    "2. [Шаг 2. Предобработка данных](#preprocessing)\n",
    "3. [Шаг 3. Ответьте на вопросы](#question)\n",
    "4. [Шаг 4. Общий вывод](#conclusion)\n",
    "5. [Чек-лист готовности проекта](#list)"
   ]
  },
  {
   "cell_type": "markdown",
   "metadata": {},
   "source": [
    "## Шаг 1. Откройте файл с данными и изучите общую информацию \n",
    "<a id=\"start\"></a>"
   ]
  },
  {
   "cell_type": "code",
   "execution_count": 1,
   "metadata": {
    "scrolled": true
   },
   "outputs": [],
   "source": [
    "import pandas as pd\n",
    "from pymystem3 import Mystem\n",
    "m = Mystem() "
   ]
  },
  {
   "cell_type": "code",
   "execution_count": 2,
   "metadata": {},
   "outputs": [
    {
     "name": "stdout",
     "output_type": "stream",
     "text": [
      "<class 'pandas.core.frame.DataFrame'>\n",
      "RangeIndex: 21525 entries, 0 to 21524\n",
      "Data columns (total 12 columns):\n",
      "children            21525 non-null int64\n",
      "days_employed       19351 non-null float64\n",
      "dob_years           21525 non-null int64\n",
      "education           21525 non-null object\n",
      "education_id        21525 non-null int64\n",
      "family_status       21525 non-null object\n",
      "family_status_id    21525 non-null int64\n",
      "gender              21525 non-null object\n",
      "income_type         21525 non-null object\n",
      "debt                21525 non-null int64\n",
      "total_income        19351 non-null float64\n",
      "purpose             21525 non-null object\n",
      "dtypes: float64(2), int64(5), object(5)\n",
      "memory usage: 2.0+ MB\n"
     ]
    }
   ],
   "source": [
    "df = pd.read_csv('/datasets/data.csv')\n",
    "proba = df\n",
    "df.info()"
   ]
  },
  {
   "cell_type": "markdown",
   "metadata": {},
   "source": [
    "\n",
    "<h3> Вывод по info() </h3>\n",
    "\n",
    "В таблице 12 столбцов. Типы данных в столбцах: object, int64,float64.\n",
    "\n",
    "В названиях колонок нарушениq нет, все записаны в змеином регистре. Количество значений в столбцах различается. Значит, в данных есть пропущенные значения.\n",
    "</div>"
   ]
  },
  {
   "cell_type": "code",
   "execution_count": 3,
   "metadata": {},
   "outputs": [
    {
     "data": {
      "text/html": [
       "<div>\n",
       "<style scoped>\n",
       "    .dataframe tbody tr th:only-of-type {\n",
       "        vertical-align: middle;\n",
       "    }\n",
       "\n",
       "    .dataframe tbody tr th {\n",
       "        vertical-align: top;\n",
       "    }\n",
       "\n",
       "    .dataframe thead th {\n",
       "        text-align: right;\n",
       "    }\n",
       "</style>\n",
       "<table border=\"1\" class=\"dataframe\">\n",
       "  <thead>\n",
       "    <tr style=\"text-align: right;\">\n",
       "      <th></th>\n",
       "      <th>children</th>\n",
       "      <th>days_employed</th>\n",
       "      <th>dob_years</th>\n",
       "      <th>education</th>\n",
       "      <th>education_id</th>\n",
       "      <th>family_status</th>\n",
       "      <th>family_status_id</th>\n",
       "      <th>gender</th>\n",
       "      <th>income_type</th>\n",
       "      <th>debt</th>\n",
       "      <th>total_income</th>\n",
       "      <th>purpose</th>\n",
       "    </tr>\n",
       "  </thead>\n",
       "  <tbody>\n",
       "    <tr>\n",
       "      <td>0</td>\n",
       "      <td>1</td>\n",
       "      <td>-8437.673028</td>\n",
       "      <td>42</td>\n",
       "      <td>высшее</td>\n",
       "      <td>0</td>\n",
       "      <td>женат / замужем</td>\n",
       "      <td>0</td>\n",
       "      <td>F</td>\n",
       "      <td>сотрудник</td>\n",
       "      <td>0</td>\n",
       "      <td>253875.639453</td>\n",
       "      <td>покупка жилья</td>\n",
       "    </tr>\n",
       "    <tr>\n",
       "      <td>1</td>\n",
       "      <td>1</td>\n",
       "      <td>-4024.803754</td>\n",
       "      <td>36</td>\n",
       "      <td>среднее</td>\n",
       "      <td>1</td>\n",
       "      <td>женат / замужем</td>\n",
       "      <td>0</td>\n",
       "      <td>F</td>\n",
       "      <td>сотрудник</td>\n",
       "      <td>0</td>\n",
       "      <td>112080.014102</td>\n",
       "      <td>приобретение автомобиля</td>\n",
       "    </tr>\n",
       "    <tr>\n",
       "      <td>2</td>\n",
       "      <td>0</td>\n",
       "      <td>-5623.422610</td>\n",
       "      <td>33</td>\n",
       "      <td>Среднее</td>\n",
       "      <td>1</td>\n",
       "      <td>женат / замужем</td>\n",
       "      <td>0</td>\n",
       "      <td>M</td>\n",
       "      <td>сотрудник</td>\n",
       "      <td>0</td>\n",
       "      <td>145885.952297</td>\n",
       "      <td>покупка жилья</td>\n",
       "    </tr>\n",
       "    <tr>\n",
       "      <td>3</td>\n",
       "      <td>3</td>\n",
       "      <td>-4124.747207</td>\n",
       "      <td>32</td>\n",
       "      <td>среднее</td>\n",
       "      <td>1</td>\n",
       "      <td>женат / замужем</td>\n",
       "      <td>0</td>\n",
       "      <td>M</td>\n",
       "      <td>сотрудник</td>\n",
       "      <td>0</td>\n",
       "      <td>267628.550329</td>\n",
       "      <td>дополнительное образование</td>\n",
       "    </tr>\n",
       "    <tr>\n",
       "      <td>4</td>\n",
       "      <td>0</td>\n",
       "      <td>340266.072047</td>\n",
       "      <td>53</td>\n",
       "      <td>среднее</td>\n",
       "      <td>1</td>\n",
       "      <td>гражданский брак</td>\n",
       "      <td>1</td>\n",
       "      <td>F</td>\n",
       "      <td>пенсионер</td>\n",
       "      <td>0</td>\n",
       "      <td>158616.077870</td>\n",
       "      <td>сыграть свадьбу</td>\n",
       "    </tr>\n",
       "  </tbody>\n",
       "</table>\n",
       "</div>"
      ],
      "text/plain": [
       "   children  days_employed  dob_years education  education_id  \\\n",
       "0         1   -8437.673028         42    высшее             0   \n",
       "1         1   -4024.803754         36   среднее             1   \n",
       "2         0   -5623.422610         33   Среднее             1   \n",
       "3         3   -4124.747207         32   среднее             1   \n",
       "4         0  340266.072047         53   среднее             1   \n",
       "\n",
       "      family_status  family_status_id gender income_type  debt   total_income  \\\n",
       "0   женат / замужем                 0      F   сотрудник     0  253875.639453   \n",
       "1   женат / замужем                 0      F   сотрудник     0  112080.014102   \n",
       "2   женат / замужем                 0      M   сотрудник     0  145885.952297   \n",
       "3   женат / замужем                 0      M   сотрудник     0  267628.550329   \n",
       "4  гражданский брак                 1      F   пенсионер     0  158616.077870   \n",
       "\n",
       "                      purpose  \n",
       "0               покупка жилья  \n",
       "1     приобретение автомобиля  \n",
       "2               покупка жилья  \n",
       "3  дополнительное образование  \n",
       "4             сыграть свадьбу  "
      ]
     },
     "execution_count": 3,
     "metadata": {},
     "output_type": "execute_result"
    }
   ],
   "source": [
    "df.head(5)"
   ]
  },
  {
   "cell_type": "code",
   "execution_count": 4,
   "metadata": {},
   "outputs": [
    {
     "data": {
      "text/html": [
       "<div>\n",
       "<style scoped>\n",
       "    .dataframe tbody tr th:only-of-type {\n",
       "        vertical-align: middle;\n",
       "    }\n",
       "\n",
       "    .dataframe tbody tr th {\n",
       "        vertical-align: top;\n",
       "    }\n",
       "\n",
       "    .dataframe thead th {\n",
       "        text-align: right;\n",
       "    }\n",
       "</style>\n",
       "<table border=\"1\" class=\"dataframe\">\n",
       "  <thead>\n",
       "    <tr style=\"text-align: right;\">\n",
       "      <th></th>\n",
       "      <th>children</th>\n",
       "      <th>days_employed</th>\n",
       "      <th>dob_years</th>\n",
       "      <th>education</th>\n",
       "      <th>education_id</th>\n",
       "      <th>family_status</th>\n",
       "      <th>family_status_id</th>\n",
       "      <th>gender</th>\n",
       "      <th>income_type</th>\n",
       "      <th>debt</th>\n",
       "      <th>total_income</th>\n",
       "      <th>purpose</th>\n",
       "    </tr>\n",
       "  </thead>\n",
       "  <tbody>\n",
       "    <tr>\n",
       "      <td>21520</td>\n",
       "      <td>1</td>\n",
       "      <td>-4529.316663</td>\n",
       "      <td>43</td>\n",
       "      <td>среднее</td>\n",
       "      <td>1</td>\n",
       "      <td>гражданский брак</td>\n",
       "      <td>1</td>\n",
       "      <td>F</td>\n",
       "      <td>компаньон</td>\n",
       "      <td>0</td>\n",
       "      <td>224791.862382</td>\n",
       "      <td>операции с жильем</td>\n",
       "    </tr>\n",
       "    <tr>\n",
       "      <td>21521</td>\n",
       "      <td>0</td>\n",
       "      <td>343937.404131</td>\n",
       "      <td>67</td>\n",
       "      <td>среднее</td>\n",
       "      <td>1</td>\n",
       "      <td>женат / замужем</td>\n",
       "      <td>0</td>\n",
       "      <td>F</td>\n",
       "      <td>пенсионер</td>\n",
       "      <td>0</td>\n",
       "      <td>155999.806512</td>\n",
       "      <td>сделка с автомобилем</td>\n",
       "    </tr>\n",
       "    <tr>\n",
       "      <td>21522</td>\n",
       "      <td>1</td>\n",
       "      <td>-2113.346888</td>\n",
       "      <td>38</td>\n",
       "      <td>среднее</td>\n",
       "      <td>1</td>\n",
       "      <td>гражданский брак</td>\n",
       "      <td>1</td>\n",
       "      <td>M</td>\n",
       "      <td>сотрудник</td>\n",
       "      <td>1</td>\n",
       "      <td>89672.561153</td>\n",
       "      <td>недвижимость</td>\n",
       "    </tr>\n",
       "    <tr>\n",
       "      <td>21523</td>\n",
       "      <td>3</td>\n",
       "      <td>-3112.481705</td>\n",
       "      <td>38</td>\n",
       "      <td>среднее</td>\n",
       "      <td>1</td>\n",
       "      <td>женат / замужем</td>\n",
       "      <td>0</td>\n",
       "      <td>M</td>\n",
       "      <td>сотрудник</td>\n",
       "      <td>1</td>\n",
       "      <td>244093.050500</td>\n",
       "      <td>на покупку своего автомобиля</td>\n",
       "    </tr>\n",
       "    <tr>\n",
       "      <td>21524</td>\n",
       "      <td>2</td>\n",
       "      <td>-1984.507589</td>\n",
       "      <td>40</td>\n",
       "      <td>среднее</td>\n",
       "      <td>1</td>\n",
       "      <td>женат / замужем</td>\n",
       "      <td>0</td>\n",
       "      <td>F</td>\n",
       "      <td>сотрудник</td>\n",
       "      <td>0</td>\n",
       "      <td>82047.418899</td>\n",
       "      <td>на покупку автомобиля</td>\n",
       "    </tr>\n",
       "  </tbody>\n",
       "</table>\n",
       "</div>"
      ],
      "text/plain": [
       "       children  days_employed  dob_years education  education_id  \\\n",
       "21520         1   -4529.316663         43   среднее             1   \n",
       "21521         0  343937.404131         67   среднее             1   \n",
       "21522         1   -2113.346888         38   среднее             1   \n",
       "21523         3   -3112.481705         38   среднее             1   \n",
       "21524         2   -1984.507589         40   среднее             1   \n",
       "\n",
       "          family_status  family_status_id gender income_type  debt  \\\n",
       "21520  гражданский брак                 1      F   компаньон     0   \n",
       "21521   женат / замужем                 0      F   пенсионер     0   \n",
       "21522  гражданский брак                 1      M   сотрудник     1   \n",
       "21523   женат / замужем                 0      M   сотрудник     1   \n",
       "21524   женат / замужем                 0      F   сотрудник     0   \n",
       "\n",
       "        total_income                       purpose  \n",
       "21520  224791.862382             операции с жильем  \n",
       "21521  155999.806512          сделка с автомобилем  \n",
       "21522   89672.561153                  недвижимость  \n",
       "21523  244093.050500  на покупку своего автомобиля  \n",
       "21524   82047.418899         на покупку автомобиля  "
      ]
     },
     "execution_count": 4,
     "metadata": {},
     "output_type": "execute_result"
    }
   ],
   "source": [
    "df.tail(5)"
   ]
  },
  {
   "cell_type": "code",
   "execution_count": 5,
   "metadata": {
    "scrolled": true
   },
   "outputs": [
    {
     "data": {
      "text/html": [
       "<div>\n",
       "<style scoped>\n",
       "    .dataframe tbody tr th:only-of-type {\n",
       "        vertical-align: middle;\n",
       "    }\n",
       "\n",
       "    .dataframe tbody tr th {\n",
       "        vertical-align: top;\n",
       "    }\n",
       "\n",
       "    .dataframe thead th {\n",
       "        text-align: right;\n",
       "    }\n",
       "</style>\n",
       "<table border=\"1\" class=\"dataframe\">\n",
       "  <thead>\n",
       "    <tr style=\"text-align: right;\">\n",
       "      <th></th>\n",
       "      <th>children</th>\n",
       "      <th>days_employed</th>\n",
       "      <th>dob_years</th>\n",
       "      <th>education</th>\n",
       "      <th>education_id</th>\n",
       "      <th>family_status</th>\n",
       "      <th>family_status_id</th>\n",
       "      <th>gender</th>\n",
       "      <th>income_type</th>\n",
       "      <th>debt</th>\n",
       "      <th>total_income</th>\n",
       "      <th>purpose</th>\n",
       "    </tr>\n",
       "  </thead>\n",
       "  <tbody>\n",
       "    <tr>\n",
       "      <td>423</td>\n",
       "      <td>0</td>\n",
       "      <td>-191.167760</td>\n",
       "      <td>56</td>\n",
       "      <td>среднее</td>\n",
       "      <td>1</td>\n",
       "      <td>женат / замужем</td>\n",
       "      <td>0</td>\n",
       "      <td>M</td>\n",
       "      <td>сотрудник</td>\n",
       "      <td>0</td>\n",
       "      <td>138653.748793</td>\n",
       "      <td>автомобили</td>\n",
       "    </tr>\n",
       "    <tr>\n",
       "      <td>3522</td>\n",
       "      <td>0</td>\n",
       "      <td>-2319.817259</td>\n",
       "      <td>58</td>\n",
       "      <td>среднее</td>\n",
       "      <td>1</td>\n",
       "      <td>Не женат / не замужем</td>\n",
       "      <td>4</td>\n",
       "      <td>F</td>\n",
       "      <td>сотрудник</td>\n",
       "      <td>0</td>\n",
       "      <td>123152.627177</td>\n",
       "      <td>покупка жилья</td>\n",
       "    </tr>\n",
       "    <tr>\n",
       "      <td>8760</td>\n",
       "      <td>1</td>\n",
       "      <td>-2990.578297</td>\n",
       "      <td>34</td>\n",
       "      <td>высшее</td>\n",
       "      <td>0</td>\n",
       "      <td>гражданский брак</td>\n",
       "      <td>1</td>\n",
       "      <td>M</td>\n",
       "      <td>компаньон</td>\n",
       "      <td>0</td>\n",
       "      <td>232380.737167</td>\n",
       "      <td>свадьба</td>\n",
       "    </tr>\n",
       "    <tr>\n",
       "      <td>20695</td>\n",
       "      <td>0</td>\n",
       "      <td>-926.209452</td>\n",
       "      <td>28</td>\n",
       "      <td>среднее</td>\n",
       "      <td>1</td>\n",
       "      <td>Не женат / не замужем</td>\n",
       "      <td>4</td>\n",
       "      <td>F</td>\n",
       "      <td>сотрудник</td>\n",
       "      <td>0</td>\n",
       "      <td>210617.086601</td>\n",
       "      <td>получение высшего образования</td>\n",
       "    </tr>\n",
       "    <tr>\n",
       "      <td>4351</td>\n",
       "      <td>0</td>\n",
       "      <td>-2524.302106</td>\n",
       "      <td>42</td>\n",
       "      <td>СРЕДНЕЕ</td>\n",
       "      <td>1</td>\n",
       "      <td>женат / замужем</td>\n",
       "      <td>0</td>\n",
       "      <td>F</td>\n",
       "      <td>сотрудник</td>\n",
       "      <td>0</td>\n",
       "      <td>78487.540219</td>\n",
       "      <td>сделка с автомобилем</td>\n",
       "    </tr>\n",
       "    <tr>\n",
       "      <td>3002</td>\n",
       "      <td>0</td>\n",
       "      <td>NaN</td>\n",
       "      <td>28</td>\n",
       "      <td>высшее</td>\n",
       "      <td>0</td>\n",
       "      <td>женат / замужем</td>\n",
       "      <td>0</td>\n",
       "      <td>M</td>\n",
       "      <td>компаньон</td>\n",
       "      <td>0</td>\n",
       "      <td>NaN</td>\n",
       "      <td>покупка жилой недвижимости</td>\n",
       "    </tr>\n",
       "    <tr>\n",
       "      <td>17306</td>\n",
       "      <td>0</td>\n",
       "      <td>-5000.830630</td>\n",
       "      <td>0</td>\n",
       "      <td>среднее</td>\n",
       "      <td>1</td>\n",
       "      <td>гражданский брак</td>\n",
       "      <td>1</td>\n",
       "      <td>F</td>\n",
       "      <td>компаньон</td>\n",
       "      <td>0</td>\n",
       "      <td>83019.106740</td>\n",
       "      <td>свадьба</td>\n",
       "    </tr>\n",
       "    <tr>\n",
       "      <td>2830</td>\n",
       "      <td>0</td>\n",
       "      <td>-574.995923</td>\n",
       "      <td>40</td>\n",
       "      <td>среднее</td>\n",
       "      <td>1</td>\n",
       "      <td>женат / замужем</td>\n",
       "      <td>0</td>\n",
       "      <td>F</td>\n",
       "      <td>сотрудник</td>\n",
       "      <td>0</td>\n",
       "      <td>161158.806308</td>\n",
       "      <td>автомобили</td>\n",
       "    </tr>\n",
       "    <tr>\n",
       "      <td>14822</td>\n",
       "      <td>2</td>\n",
       "      <td>NaN</td>\n",
       "      <td>33</td>\n",
       "      <td>среднее</td>\n",
       "      <td>1</td>\n",
       "      <td>женат / замужем</td>\n",
       "      <td>0</td>\n",
       "      <td>F</td>\n",
       "      <td>сотрудник</td>\n",
       "      <td>0</td>\n",
       "      <td>NaN</td>\n",
       "      <td>заняться образованием</td>\n",
       "    </tr>\n",
       "    <tr>\n",
       "      <td>10347</td>\n",
       "      <td>1</td>\n",
       "      <td>-713.140231</td>\n",
       "      <td>48</td>\n",
       "      <td>среднее</td>\n",
       "      <td>1</td>\n",
       "      <td>женат / замужем</td>\n",
       "      <td>0</td>\n",
       "      <td>M</td>\n",
       "      <td>компаньон</td>\n",
       "      <td>0</td>\n",
       "      <td>177474.885995</td>\n",
       "      <td>ремонт жилью</td>\n",
       "    </tr>\n",
       "  </tbody>\n",
       "</table>\n",
       "</div>"
      ],
      "text/plain": [
       "       children  days_employed  dob_years education  education_id  \\\n",
       "423           0    -191.167760         56   среднее             1   \n",
       "3522          0   -2319.817259         58   среднее             1   \n",
       "8760          1   -2990.578297         34    высшее             0   \n",
       "20695         0    -926.209452         28   среднее             1   \n",
       "4351          0   -2524.302106         42   СРЕДНЕЕ             1   \n",
       "3002          0            NaN         28    высшее             0   \n",
       "17306         0   -5000.830630          0   среднее             1   \n",
       "2830          0    -574.995923         40   среднее             1   \n",
       "14822         2            NaN         33   среднее             1   \n",
       "10347         1    -713.140231         48   среднее             1   \n",
       "\n",
       "               family_status  family_status_id gender income_type  debt  \\\n",
       "423          женат / замужем                 0      M   сотрудник     0   \n",
       "3522   Не женат / не замужем                 4      F   сотрудник     0   \n",
       "8760        гражданский брак                 1      M   компаньон     0   \n",
       "20695  Не женат / не замужем                 4      F   сотрудник     0   \n",
       "4351         женат / замужем                 0      F   сотрудник     0   \n",
       "3002         женат / замужем                 0      M   компаньон     0   \n",
       "17306       гражданский брак                 1      F   компаньон     0   \n",
       "2830         женат / замужем                 0      F   сотрудник     0   \n",
       "14822        женат / замужем                 0      F   сотрудник     0   \n",
       "10347        женат / замужем                 0      M   компаньон     0   \n",
       "\n",
       "        total_income                        purpose  \n",
       "423    138653.748793                     автомобили  \n",
       "3522   123152.627177                  покупка жилья  \n",
       "8760   232380.737167                        свадьба  \n",
       "20695  210617.086601  получение высшего образования  \n",
       "4351    78487.540219           сделка с автомобилем  \n",
       "3002             NaN     покупка жилой недвижимости  \n",
       "17306   83019.106740                        свадьба  \n",
       "2830   161158.806308                     автомобили  \n",
       "14822            NaN          заняться образованием  \n",
       "10347  177474.885995                   ремонт жилью  "
      ]
     },
     "execution_count": 5,
     "metadata": {},
     "output_type": "execute_result"
    }
   ],
   "source": [
    "df.sample(n = 10, random_state = 42)"
   ]
  },
  {
   "cell_type": "code",
   "execution_count": 6,
   "metadata": {},
   "outputs": [
    {
     "data": {
      "text/html": [
       "<div>\n",
       "<style scoped>\n",
       "    .dataframe tbody tr th:only-of-type {\n",
       "        vertical-align: middle;\n",
       "    }\n",
       "\n",
       "    .dataframe tbody tr th {\n",
       "        vertical-align: top;\n",
       "    }\n",
       "\n",
       "    .dataframe thead th {\n",
       "        text-align: right;\n",
       "    }\n",
       "</style>\n",
       "<table border=\"1\" class=\"dataframe\">\n",
       "  <thead>\n",
       "    <tr style=\"text-align: right;\">\n",
       "      <th></th>\n",
       "      <th>count</th>\n",
       "      <th>mean</th>\n",
       "      <th>std</th>\n",
       "      <th>min</th>\n",
       "      <th>25%</th>\n",
       "      <th>50%</th>\n",
       "      <th>75%</th>\n",
       "      <th>max</th>\n",
       "    </tr>\n",
       "  </thead>\n",
       "  <tbody>\n",
       "    <tr>\n",
       "      <td>children</td>\n",
       "      <td>21525.0</td>\n",
       "      <td>0.538908</td>\n",
       "      <td>1.381587</td>\n",
       "      <td>-1.000000</td>\n",
       "      <td>0.000000</td>\n",
       "      <td>0.000000</td>\n",
       "      <td>1.000000</td>\n",
       "      <td>2.000000e+01</td>\n",
       "    </tr>\n",
       "    <tr>\n",
       "      <td>days_employed</td>\n",
       "      <td>19351.0</td>\n",
       "      <td>63046.497661</td>\n",
       "      <td>140827.311974</td>\n",
       "      <td>-18388.949901</td>\n",
       "      <td>-2747.423625</td>\n",
       "      <td>-1203.369529</td>\n",
       "      <td>-291.095954</td>\n",
       "      <td>4.017554e+05</td>\n",
       "    </tr>\n",
       "    <tr>\n",
       "      <td>dob_years</td>\n",
       "      <td>21525.0</td>\n",
       "      <td>43.293380</td>\n",
       "      <td>12.574584</td>\n",
       "      <td>0.000000</td>\n",
       "      <td>33.000000</td>\n",
       "      <td>42.000000</td>\n",
       "      <td>53.000000</td>\n",
       "      <td>7.500000e+01</td>\n",
       "    </tr>\n",
       "    <tr>\n",
       "      <td>education_id</td>\n",
       "      <td>21525.0</td>\n",
       "      <td>0.817236</td>\n",
       "      <td>0.548138</td>\n",
       "      <td>0.000000</td>\n",
       "      <td>1.000000</td>\n",
       "      <td>1.000000</td>\n",
       "      <td>1.000000</td>\n",
       "      <td>4.000000e+00</td>\n",
       "    </tr>\n",
       "    <tr>\n",
       "      <td>family_status_id</td>\n",
       "      <td>21525.0</td>\n",
       "      <td>0.972544</td>\n",
       "      <td>1.420324</td>\n",
       "      <td>0.000000</td>\n",
       "      <td>0.000000</td>\n",
       "      <td>0.000000</td>\n",
       "      <td>1.000000</td>\n",
       "      <td>4.000000e+00</td>\n",
       "    </tr>\n",
       "    <tr>\n",
       "      <td>debt</td>\n",
       "      <td>21525.0</td>\n",
       "      <td>0.080883</td>\n",
       "      <td>0.272661</td>\n",
       "      <td>0.000000</td>\n",
       "      <td>0.000000</td>\n",
       "      <td>0.000000</td>\n",
       "      <td>0.000000</td>\n",
       "      <td>1.000000e+00</td>\n",
       "    </tr>\n",
       "    <tr>\n",
       "      <td>total_income</td>\n",
       "      <td>19351.0</td>\n",
       "      <td>167422.302208</td>\n",
       "      <td>102971.566448</td>\n",
       "      <td>20667.263793</td>\n",
       "      <td>103053.152913</td>\n",
       "      <td>145017.937533</td>\n",
       "      <td>203435.067663</td>\n",
       "      <td>2.265604e+06</td>\n",
       "    </tr>\n",
       "  </tbody>\n",
       "</table>\n",
       "</div>"
      ],
      "text/plain": [
       "                    count           mean            std           min  \\\n",
       "children          21525.0       0.538908       1.381587     -1.000000   \n",
       "days_employed     19351.0   63046.497661  140827.311974 -18388.949901   \n",
       "dob_years         21525.0      43.293380      12.574584      0.000000   \n",
       "education_id      21525.0       0.817236       0.548138      0.000000   \n",
       "family_status_id  21525.0       0.972544       1.420324      0.000000   \n",
       "debt              21525.0       0.080883       0.272661      0.000000   \n",
       "total_income      19351.0  167422.302208  102971.566448  20667.263793   \n",
       "\n",
       "                            25%            50%            75%           max  \n",
       "children               0.000000       0.000000       1.000000  2.000000e+01  \n",
       "days_employed      -2747.423625   -1203.369529    -291.095954  4.017554e+05  \n",
       "dob_years             33.000000      42.000000      53.000000  7.500000e+01  \n",
       "education_id           1.000000       1.000000       1.000000  4.000000e+00  \n",
       "family_status_id       0.000000       0.000000       1.000000  4.000000e+00  \n",
       "debt                   0.000000       0.000000       0.000000  1.000000e+00  \n",
       "total_income      103053.152913  145017.937533  203435.067663  2.265604e+06  "
      ]
     },
     "execution_count": 6,
     "metadata": {},
     "output_type": "execute_result"
    }
   ],
   "source": [
    "df.describe().T"
   ]
  },
  {
   "cell_type": "markdown",
   "metadata": {},
   "source": [
    "\n",
    "<h3> Вывод по изначальным данным</h3>\n",
    "\n",
    "В каждой строке таблицы — данные о клиенте банка. Часть колонок описывает самого клиента: пол, возраст, кол-во детей, образование.  Остальные данные расскрывают финансовую характеристику клиента: имел ли задолженность по возврату кредитов, ежемесячный доход,\n",
    "цель получения кредита\n",
    "\n",
    "Предварительно можно утверждать, что, данных достаточно для проверки гипотез. Но встречаются пропуски в данных, странные значения в колонке общего трудового стажа (отрицательные значения, огромные значения), написанные капсом значения в колонке education.\n",
    "\n",
    "Чтобы двигаться дальше, нужно устранить проблемы в данных.\n"
   ]
  },
  {
   "cell_type": "markdown",
   "metadata": {},
   "source": [
    "<a id=\"preprocessing\"></a>\n",
    "## Шаг 2. Предобработка данных "
   ]
  },
  {
   "cell_type": "markdown",
   "metadata": {},
   "source": [
    "### Обработка пропусков"
   ]
  },
  {
   "cell_type": "markdown",
   "metadata": {},
   "source": [
    "Пропуска в столбцах 'days_employed' , и 'total_income'"
   ]
  },
  {
   "cell_type": "code",
   "execution_count": 7,
   "metadata": {},
   "outputs": [
    {
     "data": {
      "text/plain": [
       "2174"
      ]
     },
     "execution_count": 7,
     "metadata": {},
     "output_type": "execute_result"
    }
   ],
   "source": [
    "df['days_employed'].isna().sum()"
   ]
  },
  {
   "cell_type": "code",
   "execution_count": 8,
   "metadata": {},
   "outputs": [
    {
     "data": {
      "text/plain": [
       "2174"
      ]
     },
     "execution_count": 8,
     "metadata": {},
     "output_type": "execute_result"
    }
   ],
   "source": [
    "df['total_income'].isna().sum()"
   ]
  },
  {
   "cell_type": "code",
   "execution_count": 9,
   "metadata": {},
   "outputs": [
    {
     "data": {
      "text/html": [
       "<div>\n",
       "<style scoped>\n",
       "    .dataframe tbody tr th:only-of-type {\n",
       "        vertical-align: middle;\n",
       "    }\n",
       "\n",
       "    .dataframe tbody tr th {\n",
       "        vertical-align: top;\n",
       "    }\n",
       "\n",
       "    .dataframe thead th {\n",
       "        text-align: right;\n",
       "    }\n",
       "</style>\n",
       "<table border=\"1\" class=\"dataframe\">\n",
       "  <thead>\n",
       "    <tr style=\"text-align: right;\">\n",
       "      <th></th>\n",
       "      <th>children</th>\n",
       "      <th>days_employed</th>\n",
       "      <th>dob_years</th>\n",
       "      <th>education</th>\n",
       "      <th>education_id</th>\n",
       "      <th>family_status</th>\n",
       "      <th>family_status_id</th>\n",
       "      <th>gender</th>\n",
       "      <th>income_type</th>\n",
       "      <th>debt</th>\n",
       "      <th>total_income</th>\n",
       "      <th>purpose</th>\n",
       "    </tr>\n",
       "  </thead>\n",
       "  <tbody>\n",
       "    <tr>\n",
       "      <td>12</td>\n",
       "      <td>0</td>\n",
       "      <td>NaN</td>\n",
       "      <td>65</td>\n",
       "      <td>среднее</td>\n",
       "      <td>1</td>\n",
       "      <td>гражданский брак</td>\n",
       "      <td>1</td>\n",
       "      <td>M</td>\n",
       "      <td>пенсионер</td>\n",
       "      <td>0</td>\n",
       "      <td>NaN</td>\n",
       "      <td>сыграть свадьбу</td>\n",
       "    </tr>\n",
       "    <tr>\n",
       "      <td>26</td>\n",
       "      <td>0</td>\n",
       "      <td>NaN</td>\n",
       "      <td>41</td>\n",
       "      <td>среднее</td>\n",
       "      <td>1</td>\n",
       "      <td>женат / замужем</td>\n",
       "      <td>0</td>\n",
       "      <td>M</td>\n",
       "      <td>госслужащий</td>\n",
       "      <td>0</td>\n",
       "      <td>NaN</td>\n",
       "      <td>образование</td>\n",
       "    </tr>\n",
       "    <tr>\n",
       "      <td>29</td>\n",
       "      <td>0</td>\n",
       "      <td>NaN</td>\n",
       "      <td>63</td>\n",
       "      <td>среднее</td>\n",
       "      <td>1</td>\n",
       "      <td>Не женат / не замужем</td>\n",
       "      <td>4</td>\n",
       "      <td>F</td>\n",
       "      <td>пенсионер</td>\n",
       "      <td>0</td>\n",
       "      <td>NaN</td>\n",
       "      <td>строительство жилой недвижимости</td>\n",
       "    </tr>\n",
       "    <tr>\n",
       "      <td>41</td>\n",
       "      <td>0</td>\n",
       "      <td>NaN</td>\n",
       "      <td>50</td>\n",
       "      <td>среднее</td>\n",
       "      <td>1</td>\n",
       "      <td>женат / замужем</td>\n",
       "      <td>0</td>\n",
       "      <td>F</td>\n",
       "      <td>госслужащий</td>\n",
       "      <td>0</td>\n",
       "      <td>NaN</td>\n",
       "      <td>сделка с подержанным автомобилем</td>\n",
       "    </tr>\n",
       "    <tr>\n",
       "      <td>55</td>\n",
       "      <td>0</td>\n",
       "      <td>NaN</td>\n",
       "      <td>54</td>\n",
       "      <td>среднее</td>\n",
       "      <td>1</td>\n",
       "      <td>гражданский брак</td>\n",
       "      <td>1</td>\n",
       "      <td>F</td>\n",
       "      <td>пенсионер</td>\n",
       "      <td>1</td>\n",
       "      <td>NaN</td>\n",
       "      <td>сыграть свадьбу</td>\n",
       "    </tr>\n",
       "    <tr>\n",
       "      <td>65</td>\n",
       "      <td>0</td>\n",
       "      <td>NaN</td>\n",
       "      <td>21</td>\n",
       "      <td>среднее</td>\n",
       "      <td>1</td>\n",
       "      <td>Не женат / не замужем</td>\n",
       "      <td>4</td>\n",
       "      <td>M</td>\n",
       "      <td>компаньон</td>\n",
       "      <td>0</td>\n",
       "      <td>NaN</td>\n",
       "      <td>операции с коммерческой недвижимостью</td>\n",
       "    </tr>\n",
       "    <tr>\n",
       "      <td>67</td>\n",
       "      <td>0</td>\n",
       "      <td>NaN</td>\n",
       "      <td>52</td>\n",
       "      <td>высшее</td>\n",
       "      <td>0</td>\n",
       "      <td>женат / замужем</td>\n",
       "      <td>0</td>\n",
       "      <td>F</td>\n",
       "      <td>пенсионер</td>\n",
       "      <td>0</td>\n",
       "      <td>NaN</td>\n",
       "      <td>покупка жилья для семьи</td>\n",
       "    </tr>\n",
       "    <tr>\n",
       "      <td>72</td>\n",
       "      <td>1</td>\n",
       "      <td>NaN</td>\n",
       "      <td>32</td>\n",
       "      <td>высшее</td>\n",
       "      <td>0</td>\n",
       "      <td>женат / замужем</td>\n",
       "      <td>0</td>\n",
       "      <td>M</td>\n",
       "      <td>госслужащий</td>\n",
       "      <td>0</td>\n",
       "      <td>NaN</td>\n",
       "      <td>операции с коммерческой недвижимостью</td>\n",
       "    </tr>\n",
       "    <tr>\n",
       "      <td>82</td>\n",
       "      <td>2</td>\n",
       "      <td>NaN</td>\n",
       "      <td>50</td>\n",
       "      <td>высшее</td>\n",
       "      <td>0</td>\n",
       "      <td>женат / замужем</td>\n",
       "      <td>0</td>\n",
       "      <td>F</td>\n",
       "      <td>сотрудник</td>\n",
       "      <td>0</td>\n",
       "      <td>NaN</td>\n",
       "      <td>жилье</td>\n",
       "    </tr>\n",
       "    <tr>\n",
       "      <td>83</td>\n",
       "      <td>0</td>\n",
       "      <td>NaN</td>\n",
       "      <td>52</td>\n",
       "      <td>среднее</td>\n",
       "      <td>1</td>\n",
       "      <td>женат / замужем</td>\n",
       "      <td>0</td>\n",
       "      <td>M</td>\n",
       "      <td>сотрудник</td>\n",
       "      <td>0</td>\n",
       "      <td>NaN</td>\n",
       "      <td>жилье</td>\n",
       "    </tr>\n",
       "    <tr>\n",
       "      <td>90</td>\n",
       "      <td>2</td>\n",
       "      <td>NaN</td>\n",
       "      <td>35</td>\n",
       "      <td>высшее</td>\n",
       "      <td>0</td>\n",
       "      <td>женат / замужем</td>\n",
       "      <td>0</td>\n",
       "      <td>F</td>\n",
       "      <td>сотрудник</td>\n",
       "      <td>0</td>\n",
       "      <td>NaN</td>\n",
       "      <td>операции с жильем</td>\n",
       "    </tr>\n",
       "    <tr>\n",
       "      <td>94</td>\n",
       "      <td>1</td>\n",
       "      <td>NaN</td>\n",
       "      <td>34</td>\n",
       "      <td>высшее</td>\n",
       "      <td>0</td>\n",
       "      <td>гражданский брак</td>\n",
       "      <td>1</td>\n",
       "      <td>F</td>\n",
       "      <td>компаньон</td>\n",
       "      <td>0</td>\n",
       "      <td>NaN</td>\n",
       "      <td>на проведение свадьбы</td>\n",
       "    </tr>\n",
       "    <tr>\n",
       "      <td>96</td>\n",
       "      <td>0</td>\n",
       "      <td>NaN</td>\n",
       "      <td>44</td>\n",
       "      <td>СРЕДНЕЕ</td>\n",
       "      <td>1</td>\n",
       "      <td>женат / замужем</td>\n",
       "      <td>0</td>\n",
       "      <td>F</td>\n",
       "      <td>сотрудник</td>\n",
       "      <td>0</td>\n",
       "      <td>NaN</td>\n",
       "      <td>покупка жилой недвижимости</td>\n",
       "    </tr>\n",
       "    <tr>\n",
       "      <td>97</td>\n",
       "      <td>0</td>\n",
       "      <td>NaN</td>\n",
       "      <td>47</td>\n",
       "      <td>высшее</td>\n",
       "      <td>0</td>\n",
       "      <td>женат / замужем</td>\n",
       "      <td>0</td>\n",
       "      <td>F</td>\n",
       "      <td>сотрудник</td>\n",
       "      <td>0</td>\n",
       "      <td>NaN</td>\n",
       "      <td>профильное образование</td>\n",
       "    </tr>\n",
       "    <tr>\n",
       "      <td>120</td>\n",
       "      <td>0</td>\n",
       "      <td>NaN</td>\n",
       "      <td>46</td>\n",
       "      <td>среднее</td>\n",
       "      <td>1</td>\n",
       "      <td>женат / замужем</td>\n",
       "      <td>0</td>\n",
       "      <td>F</td>\n",
       "      <td>сотрудник</td>\n",
       "      <td>0</td>\n",
       "      <td>NaN</td>\n",
       "      <td>высшее образование</td>\n",
       "    </tr>\n",
       "  </tbody>\n",
       "</table>\n",
       "</div>"
      ],
      "text/plain": [
       "     children  days_employed  dob_years education  education_id  \\\n",
       "12          0            NaN         65   среднее             1   \n",
       "26          0            NaN         41   среднее             1   \n",
       "29          0            NaN         63   среднее             1   \n",
       "41          0            NaN         50   среднее             1   \n",
       "55          0            NaN         54   среднее             1   \n",
       "65          0            NaN         21   среднее             1   \n",
       "67          0            NaN         52    высшее             0   \n",
       "72          1            NaN         32    высшее             0   \n",
       "82          2            NaN         50    высшее             0   \n",
       "83          0            NaN         52   среднее             1   \n",
       "90          2            NaN         35    высшее             0   \n",
       "94          1            NaN         34    высшее             0   \n",
       "96          0            NaN         44   СРЕДНЕЕ             1   \n",
       "97          0            NaN         47    высшее             0   \n",
       "120         0            NaN         46   среднее             1   \n",
       "\n",
       "             family_status  family_status_id gender  income_type  debt  \\\n",
       "12        гражданский брак                 1      M    пенсионер     0   \n",
       "26         женат / замужем                 0      M  госслужащий     0   \n",
       "29   Не женат / не замужем                 4      F    пенсионер     0   \n",
       "41         женат / замужем                 0      F  госслужащий     0   \n",
       "55        гражданский брак                 1      F    пенсионер     1   \n",
       "65   Не женат / не замужем                 4      M    компаньон     0   \n",
       "67         женат / замужем                 0      F    пенсионер     0   \n",
       "72         женат / замужем                 0      M  госслужащий     0   \n",
       "82         женат / замужем                 0      F    сотрудник     0   \n",
       "83         женат / замужем                 0      M    сотрудник     0   \n",
       "90         женат / замужем                 0      F    сотрудник     0   \n",
       "94        гражданский брак                 1      F    компаньон     0   \n",
       "96         женат / замужем                 0      F    сотрудник     0   \n",
       "97         женат / замужем                 0      F    сотрудник     0   \n",
       "120        женат / замужем                 0      F    сотрудник     0   \n",
       "\n",
       "     total_income                                purpose  \n",
       "12            NaN                        сыграть свадьбу  \n",
       "26            NaN                            образование  \n",
       "29            NaN       строительство жилой недвижимости  \n",
       "41            NaN       сделка с подержанным автомобилем  \n",
       "55            NaN                        сыграть свадьбу  \n",
       "65            NaN  операции с коммерческой недвижимостью  \n",
       "67            NaN                покупка жилья для семьи  \n",
       "72            NaN  операции с коммерческой недвижимостью  \n",
       "82            NaN                                  жилье  \n",
       "83            NaN                                  жилье  \n",
       "90            NaN                      операции с жильем  \n",
       "94            NaN                  на проведение свадьбы  \n",
       "96            NaN             покупка жилой недвижимости  \n",
       "97            NaN                 профильное образование  \n",
       "120           NaN                     высшее образование  "
      ]
     },
     "execution_count": 9,
     "metadata": {},
     "output_type": "execute_result"
    }
   ],
   "source": [
    "df[df['total_income'].isna()].head(15)"
   ]
  },
  {
   "cell_type": "markdown",
   "metadata": {},
   "source": [
    "Кол-во пропусков одинаковое. Удалять строки с пустыми значениями нельзя так 2174 от 21525 это примерно 10%. Удалив строки, мы потеряем важную часть данных. В столбце days_employed пропущенные значения заменим на кол-во дней, если бы  клиент начал работать с 18 лет и до сегоднешнего дня. В столбце total_income\tзаменим пропуски на медианный доход. Приступим+)"
   ]
  },
  {
   "cell_type": "code",
   "execution_count": 10,
   "metadata": {},
   "outputs": [],
   "source": [
    "# Функция для заполнения пустых значений в доходе \n",
    "# исходя от возраста\n",
    "def vos_doxod(row):\n",
    "    doxod = row['total_income']\n",
    "    years = row['dob_years']\n",
    "    if pd.isna(doxod) == True:\n",
    "        if 18<years<25:\n",
    "            doxod = 80000\n",
    "        elif 25<=years<40:\n",
    "            doxod = 150000\n",
    "        elif 40<=years<100:\n",
    "            doxod = 90000\n",
    "    return doxod\n",
    "\n"
   ]
  },
  {
   "cell_type": "code",
   "execution_count": 11,
   "metadata": {
    "scrolled": true
   },
   "outputs": [],
   "source": [
    "df['total_income'] = df.apply(vos_doxod, axis = 1) # применяем функцию"
   ]
  },
  {
   "cell_type": "code",
   "execution_count": 12,
   "metadata": {
    "scrolled": true
   },
   "outputs": [
    {
     "data": {
      "text/html": [
       "<div>\n",
       "<style scoped>\n",
       "    .dataframe tbody tr th:only-of-type {\n",
       "        vertical-align: middle;\n",
       "    }\n",
       "\n",
       "    .dataframe tbody tr th {\n",
       "        vertical-align: top;\n",
       "    }\n",
       "\n",
       "    .dataframe thead th {\n",
       "        text-align: right;\n",
       "    }\n",
       "</style>\n",
       "<table border=\"1\" class=\"dataframe\">\n",
       "  <thead>\n",
       "    <tr style=\"text-align: right;\">\n",
       "      <th></th>\n",
       "      <th>children</th>\n",
       "      <th>days_employed</th>\n",
       "      <th>dob_years</th>\n",
       "      <th>education</th>\n",
       "      <th>education_id</th>\n",
       "      <th>family_status</th>\n",
       "      <th>family_status_id</th>\n",
       "      <th>gender</th>\n",
       "      <th>income_type</th>\n",
       "      <th>debt</th>\n",
       "      <th>total_income</th>\n",
       "      <th>purpose</th>\n",
       "    </tr>\n",
       "  </thead>\n",
       "  <tbody>\n",
       "    <tr>\n",
       "      <td>423</td>\n",
       "      <td>0</td>\n",
       "      <td>-191.167760</td>\n",
       "      <td>56</td>\n",
       "      <td>среднее</td>\n",
       "      <td>1</td>\n",
       "      <td>женат / замужем</td>\n",
       "      <td>0</td>\n",
       "      <td>M</td>\n",
       "      <td>сотрудник</td>\n",
       "      <td>0</td>\n",
       "      <td>138653.748793</td>\n",
       "      <td>автомобили</td>\n",
       "    </tr>\n",
       "    <tr>\n",
       "      <td>3522</td>\n",
       "      <td>0</td>\n",
       "      <td>-2319.817259</td>\n",
       "      <td>58</td>\n",
       "      <td>среднее</td>\n",
       "      <td>1</td>\n",
       "      <td>Не женат / не замужем</td>\n",
       "      <td>4</td>\n",
       "      <td>F</td>\n",
       "      <td>сотрудник</td>\n",
       "      <td>0</td>\n",
       "      <td>123152.627177</td>\n",
       "      <td>покупка жилья</td>\n",
       "    </tr>\n",
       "    <tr>\n",
       "      <td>8760</td>\n",
       "      <td>1</td>\n",
       "      <td>-2990.578297</td>\n",
       "      <td>34</td>\n",
       "      <td>высшее</td>\n",
       "      <td>0</td>\n",
       "      <td>гражданский брак</td>\n",
       "      <td>1</td>\n",
       "      <td>M</td>\n",
       "      <td>компаньон</td>\n",
       "      <td>0</td>\n",
       "      <td>232380.737167</td>\n",
       "      <td>свадьба</td>\n",
       "    </tr>\n",
       "    <tr>\n",
       "      <td>20695</td>\n",
       "      <td>0</td>\n",
       "      <td>-926.209452</td>\n",
       "      <td>28</td>\n",
       "      <td>среднее</td>\n",
       "      <td>1</td>\n",
       "      <td>Не женат / не замужем</td>\n",
       "      <td>4</td>\n",
       "      <td>F</td>\n",
       "      <td>сотрудник</td>\n",
       "      <td>0</td>\n",
       "      <td>210617.086601</td>\n",
       "      <td>получение высшего образования</td>\n",
       "    </tr>\n",
       "    <tr>\n",
       "      <td>4351</td>\n",
       "      <td>0</td>\n",
       "      <td>-2524.302106</td>\n",
       "      <td>42</td>\n",
       "      <td>СРЕДНЕЕ</td>\n",
       "      <td>1</td>\n",
       "      <td>женат / замужем</td>\n",
       "      <td>0</td>\n",
       "      <td>F</td>\n",
       "      <td>сотрудник</td>\n",
       "      <td>0</td>\n",
       "      <td>78487.540219</td>\n",
       "      <td>сделка с автомобилем</td>\n",
       "    </tr>\n",
       "    <tr>\n",
       "      <td>3002</td>\n",
       "      <td>0</td>\n",
       "      <td>NaN</td>\n",
       "      <td>28</td>\n",
       "      <td>высшее</td>\n",
       "      <td>0</td>\n",
       "      <td>женат / замужем</td>\n",
       "      <td>0</td>\n",
       "      <td>M</td>\n",
       "      <td>компаньон</td>\n",
       "      <td>0</td>\n",
       "      <td>150000.000000</td>\n",
       "      <td>покупка жилой недвижимости</td>\n",
       "    </tr>\n",
       "    <tr>\n",
       "      <td>17306</td>\n",
       "      <td>0</td>\n",
       "      <td>-5000.830630</td>\n",
       "      <td>0</td>\n",
       "      <td>среднее</td>\n",
       "      <td>1</td>\n",
       "      <td>гражданский брак</td>\n",
       "      <td>1</td>\n",
       "      <td>F</td>\n",
       "      <td>компаньон</td>\n",
       "      <td>0</td>\n",
       "      <td>83019.106740</td>\n",
       "      <td>свадьба</td>\n",
       "    </tr>\n",
       "    <tr>\n",
       "      <td>2830</td>\n",
       "      <td>0</td>\n",
       "      <td>-574.995923</td>\n",
       "      <td>40</td>\n",
       "      <td>среднее</td>\n",
       "      <td>1</td>\n",
       "      <td>женат / замужем</td>\n",
       "      <td>0</td>\n",
       "      <td>F</td>\n",
       "      <td>сотрудник</td>\n",
       "      <td>0</td>\n",
       "      <td>161158.806308</td>\n",
       "      <td>автомобили</td>\n",
       "    </tr>\n",
       "    <tr>\n",
       "      <td>14822</td>\n",
       "      <td>2</td>\n",
       "      <td>NaN</td>\n",
       "      <td>33</td>\n",
       "      <td>среднее</td>\n",
       "      <td>1</td>\n",
       "      <td>женат / замужем</td>\n",
       "      <td>0</td>\n",
       "      <td>F</td>\n",
       "      <td>сотрудник</td>\n",
       "      <td>0</td>\n",
       "      <td>150000.000000</td>\n",
       "      <td>заняться образованием</td>\n",
       "    </tr>\n",
       "    <tr>\n",
       "      <td>10347</td>\n",
       "      <td>1</td>\n",
       "      <td>-713.140231</td>\n",
       "      <td>48</td>\n",
       "      <td>среднее</td>\n",
       "      <td>1</td>\n",
       "      <td>женат / замужем</td>\n",
       "      <td>0</td>\n",
       "      <td>M</td>\n",
       "      <td>компаньон</td>\n",
       "      <td>0</td>\n",
       "      <td>177474.885995</td>\n",
       "      <td>ремонт жилью</td>\n",
       "    </tr>\n",
       "  </tbody>\n",
       "</table>\n",
       "</div>"
      ],
      "text/plain": [
       "       children  days_employed  dob_years education  education_id  \\\n",
       "423           0    -191.167760         56   среднее             1   \n",
       "3522          0   -2319.817259         58   среднее             1   \n",
       "8760          1   -2990.578297         34    высшее             0   \n",
       "20695         0    -926.209452         28   среднее             1   \n",
       "4351          0   -2524.302106         42   СРЕДНЕЕ             1   \n",
       "3002          0            NaN         28    высшее             0   \n",
       "17306         0   -5000.830630          0   среднее             1   \n",
       "2830          0    -574.995923         40   среднее             1   \n",
       "14822         2            NaN         33   среднее             1   \n",
       "10347         1    -713.140231         48   среднее             1   \n",
       "\n",
       "               family_status  family_status_id gender income_type  debt  \\\n",
       "423          женат / замужем                 0      M   сотрудник     0   \n",
       "3522   Не женат / не замужем                 4      F   сотрудник     0   \n",
       "8760        гражданский брак                 1      M   компаньон     0   \n",
       "20695  Не женат / не замужем                 4      F   сотрудник     0   \n",
       "4351         женат / замужем                 0      F   сотрудник     0   \n",
       "3002         женат / замужем                 0      M   компаньон     0   \n",
       "17306       гражданский брак                 1      F   компаньон     0   \n",
       "2830         женат / замужем                 0      F   сотрудник     0   \n",
       "14822        женат / замужем                 0      F   сотрудник     0   \n",
       "10347        женат / замужем                 0      M   компаньон     0   \n",
       "\n",
       "        total_income                        purpose  \n",
       "423    138653.748793                     автомобили  \n",
       "3522   123152.627177                  покупка жилья  \n",
       "8760   232380.737167                        свадьба  \n",
       "20695  210617.086601  получение высшего образования  \n",
       "4351    78487.540219           сделка с автомобилем  \n",
       "3002   150000.000000     покупка жилой недвижимости  \n",
       "17306   83019.106740                        свадьба  \n",
       "2830   161158.806308                     автомобили  \n",
       "14822  150000.000000          заняться образованием  \n",
       "10347  177474.885995                   ремонт жилью  "
      ]
     },
     "execution_count": 12,
     "metadata": {},
     "output_type": "execute_result"
    }
   ],
   "source": [
    "df.sample(n = 10, random_state = 42) # проверяем"
   ]
  },
  {
   "cell_type": "code",
   "execution_count": 13,
   "metadata": {},
   "outputs": [],
   "source": [
    "df['days_employed'] = df['days_employed'].fillna((df['dob_years'] - 18) * 365)\n"
   ]
  },
  {
   "cell_type": "code",
   "execution_count": 14,
   "metadata": {
    "scrolled": false
   },
   "outputs": [
    {
     "data": {
      "text/html": [
       "<div>\n",
       "<style scoped>\n",
       "    .dataframe tbody tr th:only-of-type {\n",
       "        vertical-align: middle;\n",
       "    }\n",
       "\n",
       "    .dataframe tbody tr th {\n",
       "        vertical-align: top;\n",
       "    }\n",
       "\n",
       "    .dataframe thead th {\n",
       "        text-align: right;\n",
       "    }\n",
       "</style>\n",
       "<table border=\"1\" class=\"dataframe\">\n",
       "  <thead>\n",
       "    <tr style=\"text-align: right;\">\n",
       "      <th></th>\n",
       "      <th>children</th>\n",
       "      <th>days_employed</th>\n",
       "      <th>dob_years</th>\n",
       "      <th>education</th>\n",
       "      <th>education_id</th>\n",
       "      <th>family_status</th>\n",
       "      <th>family_status_id</th>\n",
       "      <th>gender</th>\n",
       "      <th>income_type</th>\n",
       "      <th>debt</th>\n",
       "      <th>total_income</th>\n",
       "      <th>purpose</th>\n",
       "    </tr>\n",
       "  </thead>\n",
       "  <tbody>\n",
       "    <tr>\n",
       "      <td>0</td>\n",
       "      <td>1</td>\n",
       "      <td>-8437.673028</td>\n",
       "      <td>42</td>\n",
       "      <td>высшее</td>\n",
       "      <td>0</td>\n",
       "      <td>женат / замужем</td>\n",
       "      <td>0</td>\n",
       "      <td>F</td>\n",
       "      <td>сотрудник</td>\n",
       "      <td>0</td>\n",
       "      <td>253875.639453</td>\n",
       "      <td>покупка жилья</td>\n",
       "    </tr>\n",
       "    <tr>\n",
       "      <td>1</td>\n",
       "      <td>1</td>\n",
       "      <td>-4024.803754</td>\n",
       "      <td>36</td>\n",
       "      <td>среднее</td>\n",
       "      <td>1</td>\n",
       "      <td>женат / замужем</td>\n",
       "      <td>0</td>\n",
       "      <td>F</td>\n",
       "      <td>сотрудник</td>\n",
       "      <td>0</td>\n",
       "      <td>112080.014102</td>\n",
       "      <td>приобретение автомобиля</td>\n",
       "    </tr>\n",
       "    <tr>\n",
       "      <td>2</td>\n",
       "      <td>0</td>\n",
       "      <td>-5623.422610</td>\n",
       "      <td>33</td>\n",
       "      <td>Среднее</td>\n",
       "      <td>1</td>\n",
       "      <td>женат / замужем</td>\n",
       "      <td>0</td>\n",
       "      <td>M</td>\n",
       "      <td>сотрудник</td>\n",
       "      <td>0</td>\n",
       "      <td>145885.952297</td>\n",
       "      <td>покупка жилья</td>\n",
       "    </tr>\n",
       "    <tr>\n",
       "      <td>3</td>\n",
       "      <td>3</td>\n",
       "      <td>-4124.747207</td>\n",
       "      <td>32</td>\n",
       "      <td>среднее</td>\n",
       "      <td>1</td>\n",
       "      <td>женат / замужем</td>\n",
       "      <td>0</td>\n",
       "      <td>M</td>\n",
       "      <td>сотрудник</td>\n",
       "      <td>0</td>\n",
       "      <td>267628.550329</td>\n",
       "      <td>дополнительное образование</td>\n",
       "    </tr>\n",
       "    <tr>\n",
       "      <td>4</td>\n",
       "      <td>0</td>\n",
       "      <td>340266.072047</td>\n",
       "      <td>53</td>\n",
       "      <td>среднее</td>\n",
       "      <td>1</td>\n",
       "      <td>гражданский брак</td>\n",
       "      <td>1</td>\n",
       "      <td>F</td>\n",
       "      <td>пенсионер</td>\n",
       "      <td>0</td>\n",
       "      <td>158616.077870</td>\n",
       "      <td>сыграть свадьбу</td>\n",
       "    </tr>\n",
       "    <tr>\n",
       "      <td>5</td>\n",
       "      <td>0</td>\n",
       "      <td>-926.185831</td>\n",
       "      <td>27</td>\n",
       "      <td>высшее</td>\n",
       "      <td>0</td>\n",
       "      <td>гражданский брак</td>\n",
       "      <td>1</td>\n",
       "      <td>M</td>\n",
       "      <td>компаньон</td>\n",
       "      <td>0</td>\n",
       "      <td>255763.565419</td>\n",
       "      <td>покупка жилья</td>\n",
       "    </tr>\n",
       "    <tr>\n",
       "      <td>6</td>\n",
       "      <td>0</td>\n",
       "      <td>-2879.202052</td>\n",
       "      <td>43</td>\n",
       "      <td>высшее</td>\n",
       "      <td>0</td>\n",
       "      <td>женат / замужем</td>\n",
       "      <td>0</td>\n",
       "      <td>F</td>\n",
       "      <td>компаньон</td>\n",
       "      <td>0</td>\n",
       "      <td>240525.971920</td>\n",
       "      <td>операции с жильем</td>\n",
       "    </tr>\n",
       "    <tr>\n",
       "      <td>7</td>\n",
       "      <td>0</td>\n",
       "      <td>-152.779569</td>\n",
       "      <td>50</td>\n",
       "      <td>СРЕДНЕЕ</td>\n",
       "      <td>1</td>\n",
       "      <td>женат / замужем</td>\n",
       "      <td>0</td>\n",
       "      <td>M</td>\n",
       "      <td>сотрудник</td>\n",
       "      <td>0</td>\n",
       "      <td>135823.934197</td>\n",
       "      <td>образование</td>\n",
       "    </tr>\n",
       "    <tr>\n",
       "      <td>8</td>\n",
       "      <td>2</td>\n",
       "      <td>-6929.865299</td>\n",
       "      <td>35</td>\n",
       "      <td>ВЫСШЕЕ</td>\n",
       "      <td>0</td>\n",
       "      <td>гражданский брак</td>\n",
       "      <td>1</td>\n",
       "      <td>F</td>\n",
       "      <td>сотрудник</td>\n",
       "      <td>0</td>\n",
       "      <td>95856.832424</td>\n",
       "      <td>на проведение свадьбы</td>\n",
       "    </tr>\n",
       "    <tr>\n",
       "      <td>9</td>\n",
       "      <td>0</td>\n",
       "      <td>-2188.756445</td>\n",
       "      <td>41</td>\n",
       "      <td>среднее</td>\n",
       "      <td>1</td>\n",
       "      <td>женат / замужем</td>\n",
       "      <td>0</td>\n",
       "      <td>M</td>\n",
       "      <td>сотрудник</td>\n",
       "      <td>0</td>\n",
       "      <td>144425.938277</td>\n",
       "      <td>покупка жилья для семьи</td>\n",
       "    </tr>\n",
       "    <tr>\n",
       "      <td>10</td>\n",
       "      <td>2</td>\n",
       "      <td>-4171.483647</td>\n",
       "      <td>36</td>\n",
       "      <td>высшее</td>\n",
       "      <td>0</td>\n",
       "      <td>женат / замужем</td>\n",
       "      <td>0</td>\n",
       "      <td>M</td>\n",
       "      <td>компаньон</td>\n",
       "      <td>0</td>\n",
       "      <td>113943.491460</td>\n",
       "      <td>покупка недвижимости</td>\n",
       "    </tr>\n",
       "    <tr>\n",
       "      <td>11</td>\n",
       "      <td>0</td>\n",
       "      <td>-792.701887</td>\n",
       "      <td>40</td>\n",
       "      <td>среднее</td>\n",
       "      <td>1</td>\n",
       "      <td>женат / замужем</td>\n",
       "      <td>0</td>\n",
       "      <td>F</td>\n",
       "      <td>сотрудник</td>\n",
       "      <td>0</td>\n",
       "      <td>77069.234271</td>\n",
       "      <td>покупка коммерческой недвижимости</td>\n",
       "    </tr>\n",
       "    <tr>\n",
       "      <td>12</td>\n",
       "      <td>0</td>\n",
       "      <td>17155.000000</td>\n",
       "      <td>65</td>\n",
       "      <td>среднее</td>\n",
       "      <td>1</td>\n",
       "      <td>гражданский брак</td>\n",
       "      <td>1</td>\n",
       "      <td>M</td>\n",
       "      <td>пенсионер</td>\n",
       "      <td>0</td>\n",
       "      <td>90000.000000</td>\n",
       "      <td>сыграть свадьбу</td>\n",
       "    </tr>\n",
       "    <tr>\n",
       "      <td>13</td>\n",
       "      <td>0</td>\n",
       "      <td>-1846.641941</td>\n",
       "      <td>54</td>\n",
       "      <td>неоконченное высшее</td>\n",
       "      <td>2</td>\n",
       "      <td>женат / замужем</td>\n",
       "      <td>0</td>\n",
       "      <td>F</td>\n",
       "      <td>сотрудник</td>\n",
       "      <td>0</td>\n",
       "      <td>130458.228857</td>\n",
       "      <td>приобретение автомобиля</td>\n",
       "    </tr>\n",
       "  </tbody>\n",
       "</table>\n",
       "</div>"
      ],
      "text/plain": [
       "    children  days_employed  dob_years            education  education_id  \\\n",
       "0          1   -8437.673028         42               высшее             0   \n",
       "1          1   -4024.803754         36              среднее             1   \n",
       "2          0   -5623.422610         33              Среднее             1   \n",
       "3          3   -4124.747207         32              среднее             1   \n",
       "4          0  340266.072047         53              среднее             1   \n",
       "5          0    -926.185831         27               высшее             0   \n",
       "6          0   -2879.202052         43               высшее             0   \n",
       "7          0    -152.779569         50              СРЕДНЕЕ             1   \n",
       "8          2   -6929.865299         35               ВЫСШЕЕ             0   \n",
       "9          0   -2188.756445         41              среднее             1   \n",
       "10         2   -4171.483647         36               высшее             0   \n",
       "11         0    -792.701887         40              среднее             1   \n",
       "12         0   17155.000000         65              среднее             1   \n",
       "13         0   -1846.641941         54  неоконченное высшее             2   \n",
       "\n",
       "       family_status  family_status_id gender income_type  debt  \\\n",
       "0    женат / замужем                 0      F   сотрудник     0   \n",
       "1    женат / замужем                 0      F   сотрудник     0   \n",
       "2    женат / замужем                 0      M   сотрудник     0   \n",
       "3    женат / замужем                 0      M   сотрудник     0   \n",
       "4   гражданский брак                 1      F   пенсионер     0   \n",
       "5   гражданский брак                 1      M   компаньон     0   \n",
       "6    женат / замужем                 0      F   компаньон     0   \n",
       "7    женат / замужем                 0      M   сотрудник     0   \n",
       "8   гражданский брак                 1      F   сотрудник     0   \n",
       "9    женат / замужем                 0      M   сотрудник     0   \n",
       "10   женат / замужем                 0      M   компаньон     0   \n",
       "11   женат / замужем                 0      F   сотрудник     0   \n",
       "12  гражданский брак                 1      M   пенсионер     0   \n",
       "13   женат / замужем                 0      F   сотрудник     0   \n",
       "\n",
       "     total_income                            purpose  \n",
       "0   253875.639453                      покупка жилья  \n",
       "1   112080.014102            приобретение автомобиля  \n",
       "2   145885.952297                      покупка жилья  \n",
       "3   267628.550329         дополнительное образование  \n",
       "4   158616.077870                    сыграть свадьбу  \n",
       "5   255763.565419                      покупка жилья  \n",
       "6   240525.971920                  операции с жильем  \n",
       "7   135823.934197                        образование  \n",
       "8    95856.832424              на проведение свадьбы  \n",
       "9   144425.938277            покупка жилья для семьи  \n",
       "10  113943.491460               покупка недвижимости  \n",
       "11   77069.234271  покупка коммерческой недвижимости  \n",
       "12   90000.000000                    сыграть свадьбу  \n",
       "13  130458.228857            приобретение автомобиля  "
      ]
     },
     "execution_count": 14,
     "metadata": {},
     "output_type": "execute_result"
    }
   ],
   "source": [
    "med_income =  df['total_income'].median() # находим медианный доход\n",
    "df['total_income'] = df['total_income'].fillna(med_income) # Заменяем пропущенные значения на медианный доход\n",
    "df.head(14) # Проверяем"
   ]
  },
  {
   "cell_type": "markdown",
   "metadata": {},
   "source": [
    "В столбце days_employed\t - странные значения. Причем одна часть вроде бы подходит (просто отрицательаня)(, в другой чатсь непомерно большие значения. Отрицательные значения заменим на положительные (abs). С большими значениями применем метод, как делали и с пропусками. В идеале подойти к сотруднику отвечающий за изначальные данные и спросить по какой формуле считался трудовой стаж, но такой возможности нет=( Так что работаеи с тем, что есть =)"
   ]
  },
  {
   "cell_type": "markdown",
   "metadata": {},
   "source": [
    "Проверка подходят ли нам отрицательные значения (50 лет стажа = 18250 дней)."
   ]
  },
  {
   "cell_type": "code",
   "execution_count": 15,
   "metadata": {
    "scrolled": true
   },
   "outputs": [
    {
     "data": {
      "text/html": [
       "<div>\n",
       "<style scoped>\n",
       "    .dataframe tbody tr th:only-of-type {\n",
       "        vertical-align: middle;\n",
       "    }\n",
       "\n",
       "    .dataframe tbody tr th {\n",
       "        vertical-align: top;\n",
       "    }\n",
       "\n",
       "    .dataframe thead th {\n",
       "        text-align: right;\n",
       "    }\n",
       "</style>\n",
       "<table border=\"1\" class=\"dataframe\">\n",
       "  <thead>\n",
       "    <tr style=\"text-align: right;\">\n",
       "      <th></th>\n",
       "      <th>children</th>\n",
       "      <th>days_employed</th>\n",
       "      <th>dob_years</th>\n",
       "      <th>education</th>\n",
       "      <th>education_id</th>\n",
       "      <th>family_status</th>\n",
       "      <th>family_status_id</th>\n",
       "      <th>gender</th>\n",
       "      <th>income_type</th>\n",
       "      <th>debt</th>\n",
       "      <th>total_income</th>\n",
       "      <th>purpose</th>\n",
       "    </tr>\n",
       "  </thead>\n",
       "  <tbody>\n",
       "    <tr>\n",
       "      <td>16335</td>\n",
       "      <td>1</td>\n",
       "      <td>-18388.949901</td>\n",
       "      <td>61</td>\n",
       "      <td>среднее</td>\n",
       "      <td>1</td>\n",
       "      <td>женат / замужем</td>\n",
       "      <td>0</td>\n",
       "      <td>F</td>\n",
       "      <td>сотрудник</td>\n",
       "      <td>0</td>\n",
       "      <td>186178.934089</td>\n",
       "      <td>операции с недвижимостью</td>\n",
       "    </tr>\n",
       "  </tbody>\n",
       "</table>\n",
       "</div>"
      ],
      "text/plain": [
       "       children  days_employed  dob_years education  education_id  \\\n",
       "16335         1  -18388.949901         61   среднее             1   \n",
       "\n",
       "         family_status  family_status_id gender income_type  debt  \\\n",
       "16335  женат / замужем                 0      F   сотрудник     0   \n",
       "\n",
       "        total_income                   purpose  \n",
       "16335  186178.934089  операции с недвижимостью  "
      ]
     },
     "execution_count": 15,
     "metadata": {},
     "output_type": "execute_result"
    }
   ],
   "source": [
    "df[df['days_employed'] < -18250] #  Подходят"
   ]
  },
  {
   "cell_type": "code",
   "execution_count": 16,
   "metadata": {
    "scrolled": true
   },
   "outputs": [
    {
     "data": {
      "text/html": [
       "<div>\n",
       "<style scoped>\n",
       "    .dataframe tbody tr th:only-of-type {\n",
       "        vertical-align: middle;\n",
       "    }\n",
       "\n",
       "    .dataframe tbody tr th {\n",
       "        vertical-align: top;\n",
       "    }\n",
       "\n",
       "    .dataframe thead th {\n",
       "        text-align: right;\n",
       "    }\n",
       "</style>\n",
       "<table border=\"1\" class=\"dataframe\">\n",
       "  <thead>\n",
       "    <tr style=\"text-align: right;\">\n",
       "      <th></th>\n",
       "      <th>children</th>\n",
       "      <th>days_employed</th>\n",
       "      <th>dob_years</th>\n",
       "      <th>education</th>\n",
       "      <th>education_id</th>\n",
       "      <th>family_status</th>\n",
       "      <th>family_status_id</th>\n",
       "      <th>gender</th>\n",
       "      <th>income_type</th>\n",
       "      <th>debt</th>\n",
       "      <th>total_income</th>\n",
       "      <th>purpose</th>\n",
       "    </tr>\n",
       "  </thead>\n",
       "  <tbody>\n",
       "    <tr>\n",
       "      <td>0</td>\n",
       "      <td>1</td>\n",
       "      <td>8437.673028</td>\n",
       "      <td>42</td>\n",
       "      <td>высшее</td>\n",
       "      <td>0</td>\n",
       "      <td>женат / замужем</td>\n",
       "      <td>0</td>\n",
       "      <td>F</td>\n",
       "      <td>сотрудник</td>\n",
       "      <td>0</td>\n",
       "      <td>253875.639453</td>\n",
       "      <td>покупка жилья</td>\n",
       "    </tr>\n",
       "    <tr>\n",
       "      <td>1</td>\n",
       "      <td>1</td>\n",
       "      <td>4024.803754</td>\n",
       "      <td>36</td>\n",
       "      <td>среднее</td>\n",
       "      <td>1</td>\n",
       "      <td>женат / замужем</td>\n",
       "      <td>0</td>\n",
       "      <td>F</td>\n",
       "      <td>сотрудник</td>\n",
       "      <td>0</td>\n",
       "      <td>112080.014102</td>\n",
       "      <td>приобретение автомобиля</td>\n",
       "    </tr>\n",
       "    <tr>\n",
       "      <td>2</td>\n",
       "      <td>0</td>\n",
       "      <td>5623.422610</td>\n",
       "      <td>33</td>\n",
       "      <td>Среднее</td>\n",
       "      <td>1</td>\n",
       "      <td>женат / замужем</td>\n",
       "      <td>0</td>\n",
       "      <td>M</td>\n",
       "      <td>сотрудник</td>\n",
       "      <td>0</td>\n",
       "      <td>145885.952297</td>\n",
       "      <td>покупка жилья</td>\n",
       "    </tr>\n",
       "    <tr>\n",
       "      <td>3</td>\n",
       "      <td>3</td>\n",
       "      <td>4124.747207</td>\n",
       "      <td>32</td>\n",
       "      <td>среднее</td>\n",
       "      <td>1</td>\n",
       "      <td>женат / замужем</td>\n",
       "      <td>0</td>\n",
       "      <td>M</td>\n",
       "      <td>сотрудник</td>\n",
       "      <td>0</td>\n",
       "      <td>267628.550329</td>\n",
       "      <td>дополнительное образование</td>\n",
       "    </tr>\n",
       "    <tr>\n",
       "      <td>4</td>\n",
       "      <td>0</td>\n",
       "      <td>340266.072047</td>\n",
       "      <td>53</td>\n",
       "      <td>среднее</td>\n",
       "      <td>1</td>\n",
       "      <td>гражданский брак</td>\n",
       "      <td>1</td>\n",
       "      <td>F</td>\n",
       "      <td>пенсионер</td>\n",
       "      <td>0</td>\n",
       "      <td>158616.077870</td>\n",
       "      <td>сыграть свадьбу</td>\n",
       "    </tr>\n",
       "    <tr>\n",
       "      <td>5</td>\n",
       "      <td>0</td>\n",
       "      <td>926.185831</td>\n",
       "      <td>27</td>\n",
       "      <td>высшее</td>\n",
       "      <td>0</td>\n",
       "      <td>гражданский брак</td>\n",
       "      <td>1</td>\n",
       "      <td>M</td>\n",
       "      <td>компаньон</td>\n",
       "      <td>0</td>\n",
       "      <td>255763.565419</td>\n",
       "      <td>покупка жилья</td>\n",
       "    </tr>\n",
       "    <tr>\n",
       "      <td>6</td>\n",
       "      <td>0</td>\n",
       "      <td>2879.202052</td>\n",
       "      <td>43</td>\n",
       "      <td>высшее</td>\n",
       "      <td>0</td>\n",
       "      <td>женат / замужем</td>\n",
       "      <td>0</td>\n",
       "      <td>F</td>\n",
       "      <td>компаньон</td>\n",
       "      <td>0</td>\n",
       "      <td>240525.971920</td>\n",
       "      <td>операции с жильем</td>\n",
       "    </tr>\n",
       "    <tr>\n",
       "      <td>7</td>\n",
       "      <td>0</td>\n",
       "      <td>152.779569</td>\n",
       "      <td>50</td>\n",
       "      <td>СРЕДНЕЕ</td>\n",
       "      <td>1</td>\n",
       "      <td>женат / замужем</td>\n",
       "      <td>0</td>\n",
       "      <td>M</td>\n",
       "      <td>сотрудник</td>\n",
       "      <td>0</td>\n",
       "      <td>135823.934197</td>\n",
       "      <td>образование</td>\n",
       "    </tr>\n",
       "    <tr>\n",
       "      <td>8</td>\n",
       "      <td>2</td>\n",
       "      <td>6929.865299</td>\n",
       "      <td>35</td>\n",
       "      <td>ВЫСШЕЕ</td>\n",
       "      <td>0</td>\n",
       "      <td>гражданский брак</td>\n",
       "      <td>1</td>\n",
       "      <td>F</td>\n",
       "      <td>сотрудник</td>\n",
       "      <td>0</td>\n",
       "      <td>95856.832424</td>\n",
       "      <td>на проведение свадьбы</td>\n",
       "    </tr>\n",
       "    <tr>\n",
       "      <td>9</td>\n",
       "      <td>0</td>\n",
       "      <td>2188.756445</td>\n",
       "      <td>41</td>\n",
       "      <td>среднее</td>\n",
       "      <td>1</td>\n",
       "      <td>женат / замужем</td>\n",
       "      <td>0</td>\n",
       "      <td>M</td>\n",
       "      <td>сотрудник</td>\n",
       "      <td>0</td>\n",
       "      <td>144425.938277</td>\n",
       "      <td>покупка жилья для семьи</td>\n",
       "    </tr>\n",
       "    <tr>\n",
       "      <td>10</td>\n",
       "      <td>2</td>\n",
       "      <td>4171.483647</td>\n",
       "      <td>36</td>\n",
       "      <td>высшее</td>\n",
       "      <td>0</td>\n",
       "      <td>женат / замужем</td>\n",
       "      <td>0</td>\n",
       "      <td>M</td>\n",
       "      <td>компаньон</td>\n",
       "      <td>0</td>\n",
       "      <td>113943.491460</td>\n",
       "      <td>покупка недвижимости</td>\n",
       "    </tr>\n",
       "    <tr>\n",
       "      <td>11</td>\n",
       "      <td>0</td>\n",
       "      <td>792.701887</td>\n",
       "      <td>40</td>\n",
       "      <td>среднее</td>\n",
       "      <td>1</td>\n",
       "      <td>женат / замужем</td>\n",
       "      <td>0</td>\n",
       "      <td>F</td>\n",
       "      <td>сотрудник</td>\n",
       "      <td>0</td>\n",
       "      <td>77069.234271</td>\n",
       "      <td>покупка коммерческой недвижимости</td>\n",
       "    </tr>\n",
       "    <tr>\n",
       "      <td>12</td>\n",
       "      <td>0</td>\n",
       "      <td>17155.000000</td>\n",
       "      <td>65</td>\n",
       "      <td>среднее</td>\n",
       "      <td>1</td>\n",
       "      <td>гражданский брак</td>\n",
       "      <td>1</td>\n",
       "      <td>M</td>\n",
       "      <td>пенсионер</td>\n",
       "      <td>0</td>\n",
       "      <td>90000.000000</td>\n",
       "      <td>сыграть свадьбу</td>\n",
       "    </tr>\n",
       "    <tr>\n",
       "      <td>13</td>\n",
       "      <td>0</td>\n",
       "      <td>1846.641941</td>\n",
       "      <td>54</td>\n",
       "      <td>неоконченное высшее</td>\n",
       "      <td>2</td>\n",
       "      <td>женат / замужем</td>\n",
       "      <td>0</td>\n",
       "      <td>F</td>\n",
       "      <td>сотрудник</td>\n",
       "      <td>0</td>\n",
       "      <td>130458.228857</td>\n",
       "      <td>приобретение автомобиля</td>\n",
       "    </tr>\n",
       "  </tbody>\n",
       "</table>\n",
       "</div>"
      ],
      "text/plain": [
       "    children  days_employed  dob_years            education  education_id  \\\n",
       "0          1    8437.673028         42               высшее             0   \n",
       "1          1    4024.803754         36              среднее             1   \n",
       "2          0    5623.422610         33              Среднее             1   \n",
       "3          3    4124.747207         32              среднее             1   \n",
       "4          0  340266.072047         53              среднее             1   \n",
       "5          0     926.185831         27               высшее             0   \n",
       "6          0    2879.202052         43               высшее             0   \n",
       "7          0     152.779569         50              СРЕДНЕЕ             1   \n",
       "8          2    6929.865299         35               ВЫСШЕЕ             0   \n",
       "9          0    2188.756445         41              среднее             1   \n",
       "10         2    4171.483647         36               высшее             0   \n",
       "11         0     792.701887         40              среднее             1   \n",
       "12         0   17155.000000         65              среднее             1   \n",
       "13         0    1846.641941         54  неоконченное высшее             2   \n",
       "\n",
       "       family_status  family_status_id gender income_type  debt  \\\n",
       "0    женат / замужем                 0      F   сотрудник     0   \n",
       "1    женат / замужем                 0      F   сотрудник     0   \n",
       "2    женат / замужем                 0      M   сотрудник     0   \n",
       "3    женат / замужем                 0      M   сотрудник     0   \n",
       "4   гражданский брак                 1      F   пенсионер     0   \n",
       "5   гражданский брак                 1      M   компаньон     0   \n",
       "6    женат / замужем                 0      F   компаньон     0   \n",
       "7    женат / замужем                 0      M   сотрудник     0   \n",
       "8   гражданский брак                 1      F   сотрудник     0   \n",
       "9    женат / замужем                 0      M   сотрудник     0   \n",
       "10   женат / замужем                 0      M   компаньон     0   \n",
       "11   женат / замужем                 0      F   сотрудник     0   \n",
       "12  гражданский брак                 1      M   пенсионер     0   \n",
       "13   женат / замужем                 0      F   сотрудник     0   \n",
       "\n",
       "     total_income                            purpose  \n",
       "0   253875.639453                      покупка жилья  \n",
       "1   112080.014102            приобретение автомобиля  \n",
       "2   145885.952297                      покупка жилья  \n",
       "3   267628.550329         дополнительное образование  \n",
       "4   158616.077870                    сыграть свадьбу  \n",
       "5   255763.565419                      покупка жилья  \n",
       "6   240525.971920                  операции с жильем  \n",
       "7   135823.934197                        образование  \n",
       "8    95856.832424              на проведение свадьбы  \n",
       "9   144425.938277            покупка жилья для семьи  \n",
       "10  113943.491460               покупка недвижимости  \n",
       "11   77069.234271  покупка коммерческой недвижимости  \n",
       "12   90000.000000                    сыграть свадьбу  \n",
       "13  130458.228857            приобретение автомобиля  "
      ]
     },
     "execution_count": 16,
     "metadata": {},
     "output_type": "execute_result"
    }
   ],
   "source": [
    "df['days_employed'] = df['days_employed'].abs() # Делаем все положительным\n",
    "df.head(14) #Проверяем"
   ]
  },
  {
   "cell_type": "markdown",
   "metadata": {},
   "source": [
    "Проверяем не попадаются ли промежуточные большие значения."
   ]
  },
  {
   "cell_type": "code",
   "execution_count": 17,
   "metadata": {
    "scrolled": true
   },
   "outputs": [
    {
     "data": {
      "text/html": [
       "<div>\n",
       "<style scoped>\n",
       "    .dataframe tbody tr th:only-of-type {\n",
       "        vertical-align: middle;\n",
       "    }\n",
       "\n",
       "    .dataframe tbody tr th {\n",
       "        vertical-align: top;\n",
       "    }\n",
       "\n",
       "    .dataframe thead th {\n",
       "        text-align: right;\n",
       "    }\n",
       "</style>\n",
       "<table border=\"1\" class=\"dataframe\">\n",
       "  <thead>\n",
       "    <tr style=\"text-align: right;\">\n",
       "      <th></th>\n",
       "      <th>children</th>\n",
       "      <th>days_employed</th>\n",
       "      <th>dob_years</th>\n",
       "      <th>education</th>\n",
       "      <th>education_id</th>\n",
       "      <th>family_status</th>\n",
       "      <th>family_status_id</th>\n",
       "      <th>gender</th>\n",
       "      <th>income_type</th>\n",
       "      <th>debt</th>\n",
       "      <th>total_income</th>\n",
       "      <th>purpose</th>\n",
       "    </tr>\n",
       "  </thead>\n",
       "  <tbody>\n",
       "    <tr>\n",
       "      <td>18664</td>\n",
       "      <td>1</td>\n",
       "      <td>20075.0</td>\n",
       "      <td>73</td>\n",
       "      <td>среднее</td>\n",
       "      <td>1</td>\n",
       "      <td>женат / замужем</td>\n",
       "      <td>0</td>\n",
       "      <td>F</td>\n",
       "      <td>пенсионер</td>\n",
       "      <td>0</td>\n",
       "      <td>90000.0</td>\n",
       "      <td>дополнительное образование</td>\n",
       "    </tr>\n",
       "  </tbody>\n",
       "</table>\n",
       "</div>"
      ],
      "text/plain": [
       "       children  days_employed  dob_years education  education_id  \\\n",
       "18664         1        20075.0         73   среднее             1   \n",
       "\n",
       "         family_status  family_status_id gender income_type  debt  \\\n",
       "18664  женат / замужем                 0      F   пенсионер     0   \n",
       "\n",
       "       total_income                     purpose  \n",
       "18664       90000.0  дополнительное образование  "
      ]
     },
     "execution_count": 17,
     "metadata": {},
     "output_type": "execute_result"
    }
   ],
   "source": [
    "df[(df['days_employed'] < 300000) & (df['days_employed'] > 20000)]"
   ]
  },
  {
   "cell_type": "markdown",
   "metadata": {},
   "source": [
    "Все хорошо. Значит работаем со значениями, которые только больше 300000. Напишем функцию, которая будет проверять: если значение  в days_employed больше 300000, то перводим в максимальный возможный трудовой стаж, если бы человек продолжает работать и начал с 18 лет."
   ]
  },
  {
   "cell_type": "code",
   "execution_count": 18,
   "metadata": {},
   "outputs": [],
   "source": [
    "def right_days(row):\n",
    "    days = row['days_employed']\n",
    "    years = row['dob_years']\n",
    "    if days > 300000:\n",
    "        days = (years - 18) * 365\n",
    "    elif days == 0: # В ходе проверок было обнаружен нулевое значение\n",
    "        days = 18250\n",
    "    return days"
   ]
  },
  {
   "cell_type": "code",
   "execution_count": 19,
   "metadata": {
    "scrolled": true
   },
   "outputs": [
    {
     "data": {
      "text/html": [
       "<div>\n",
       "<style scoped>\n",
       "    .dataframe tbody tr th:only-of-type {\n",
       "        vertical-align: middle;\n",
       "    }\n",
       "\n",
       "    .dataframe tbody tr th {\n",
       "        vertical-align: top;\n",
       "    }\n",
       "\n",
       "    .dataframe thead th {\n",
       "        text-align: right;\n",
       "    }\n",
       "</style>\n",
       "<table border=\"1\" class=\"dataframe\">\n",
       "  <thead>\n",
       "    <tr style=\"text-align: right;\">\n",
       "      <th></th>\n",
       "      <th>children</th>\n",
       "      <th>days_employed</th>\n",
       "      <th>dob_years</th>\n",
       "      <th>education</th>\n",
       "      <th>education_id</th>\n",
       "      <th>family_status</th>\n",
       "      <th>family_status_id</th>\n",
       "      <th>gender</th>\n",
       "      <th>income_type</th>\n",
       "      <th>debt</th>\n",
       "      <th>total_income</th>\n",
       "      <th>purpose</th>\n",
       "    </tr>\n",
       "  </thead>\n",
       "  <tbody>\n",
       "  </tbody>\n",
       "</table>\n",
       "</div>"
      ],
      "text/plain": [
       "Empty DataFrame\n",
       "Columns: [children, days_employed, dob_years, education, education_id, family_status, family_status_id, gender, income_type, debt, total_income, purpose]\n",
       "Index: []"
      ]
     },
     "execution_count": 19,
     "metadata": {},
     "output_type": "execute_result"
    }
   ],
   "source": [
    "df['days_employed'] = df.apply(right_days, axis = 1)\n",
    "df[(df['days_employed'] < 300000) & (df['days_employed'] > 21000)]# Проверяем"
   ]
  },
  {
   "cell_type": "markdown",
   "metadata": {},
   "source": [
    "\n",
    "**Вывод по обработке пропусков**\n",
    "    \n",
    "В данном блоке я разобрал не только пропуска ну и некоректные значения в трудовом стаже. Пропусков больше нет. Получен приближенный к жизни трудовой стаж. Важно узнать как и кто рассчитывал эти значения, чтоб в будущем получать корректныне данные.\n"
   ]
  },
  {
   "cell_type": "markdown",
   "metadata": {},
   "source": [
    "### Замена типа данных"
   ]
  },
  {
   "cell_type": "markdown",
   "metadata": {},
   "source": [
    "Заменим в столбцах 'days_employed' и total_income тип данных с float64 на int. Так как нам в принципе не нужны дробные числв в этих столбцах. Используем метод astype('int')"
   ]
  },
  {
   "cell_type": "code",
   "execution_count": 22,
   "metadata": {},
   "outputs": [
    {
     "data": {
      "text/plain": [
       "среднее                13750\n",
       "высшее                  4718\n",
       "СРЕДНЕЕ                  772\n",
       "Среднее                  711\n",
       "неоконченное высшее      668\n",
       "ВЫСШЕЕ                   274\n",
       "Высшее                   268\n",
       "начальное                250\n",
       "Неоконченное высшее       47\n",
       "НЕОКОНЧЕННОЕ ВЫСШЕЕ       29\n",
       "НАЧАЛЬНОЕ                 17\n",
       "Начальное                 15\n",
       "ученая степень             4\n",
       "УЧЕНАЯ СТЕПЕНЬ             1\n",
       "Ученая степень             1\n",
       "Name: education, dtype: int64"
      ]
     },
     "execution_count": 22,
     "metadata": {},
     "output_type": "execute_result"
    }
   ],
   "source": [
    "df['education'].value_counts()"
   ]
  },
  {
   "cell_type": "code",
   "execution_count": 23,
   "metadata": {},
   "outputs": [],
   "source": [
    "df['education'] = df['education'].str.lower()\n",
    "df['family_status'] = df['family_status'].str.lower()\n",
    "df['income_type'] = df['income_type'].str.lower()\n",
    "df['purpose'] = df['purpose'].str.lower()"
   ]
  },
  {
   "cell_type": "code",
   "execution_count": 24,
   "metadata": {},
   "outputs": [],
   "source": [
    "df['dob_years'] = df['dob_years'].astype('uint8') # нам хватит и  uint8\n",
    "df['days_employed'] = df['days_employed'].astype('uint') # Здесь невозможны отрицательные числа\n",
    "df['total_income'] = df['total_income'].astype('uint' )# Здесь невозможны отрицательные числа\n",
    "df['family_status'] = df['family_status'].astype('category') # Превращаем в категорию\n",
    "df['education'] = df['education'].astype('category')  # Превращаем в категорию\n",
    "df['income_type'] = df['income_type'].astype('category')"
   ]
  },
  {
   "cell_type": "code",
   "execution_count": 25,
   "metadata": {
    "scrolled": true
   },
   "outputs": [
    {
     "data": {
      "text/plain": [
       " 0     14149\n",
       " 1      4818\n",
       " 2      2055\n",
       " 3       330\n",
       " 20       76\n",
       "-1        47\n",
       " 4        41\n",
       " 5         9\n",
       "Name: children, dtype: int64"
      ]
     },
     "execution_count": 25,
     "metadata": {},
     "output_type": "execute_result"
    }
   ],
   "source": [
    "df['children'].value_counts()"
   ]
  },
  {
   "cell_type": "code",
   "execution_count": 26,
   "metadata": {},
   "outputs": [],
   "source": [
    "df['children'] = df['children'].replace(20, 2)\n",
    "df['children'] = df['children'].replace(-1, 1)"
   ]
  },
  {
   "cell_type": "code",
   "execution_count": 27,
   "metadata": {
    "scrolled": true
   },
   "outputs": [
    {
     "data": {
      "text/plain": [
       "0    14149\n",
       "1     4865\n",
       "2     2131\n",
       "3      330\n",
       "4       41\n",
       "5        9\n",
       "Name: children, dtype: int64"
      ]
     },
     "execution_count": 27,
     "metadata": {},
     "output_type": "execute_result"
    }
   ],
   "source": [
    "df['children'].value_counts()"
   ]
  },
  {
   "cell_type": "code",
   "execution_count": 28,
   "metadata": {},
   "outputs": [],
   "source": [
    "df['children'] = df['children'].astype('uint8') # нам хватит и uint8"
   ]
  },
  {
   "cell_type": "markdown",
   "metadata": {},
   "source": [
    "**Вывод**\n",
    "\n",
    "В столбцах были заменены типы данных, а именно были использованы типы данных category, uint . Это позволило сэконмить 41 процент памяти, что и  уменьшит время обработки данных компьютером."
   ]
  },
  {
   "cell_type": "markdown",
   "metadata": {},
   "source": [
    "### Обработка дубликатов"
   ]
  },
  {
   "cell_type": "markdown",
   "metadata": {},
   "source": [
    "**Старый Вывод**\n",
    "\n",
    "В столбцах 'days_employed' и total_income тип данных заменен с float64 на int. Это уменьшит время обработки данных компьютером."
   ]
  },
  {
   "cell_type": "markdown",
   "metadata": {},
   "source": [
    "Приведем все к нижнему регистру методом str.lower(). и пройдемся по всем нужнам нам столбцам."
   ]
  },
  {
   "cell_type": "code",
   "execution_count": 31,
   "metadata": {
    "scrolled": false
   },
   "outputs": [
    {
     "data": {
      "text/plain": [
       "среднее                15233\n",
       "высшее                  5260\n",
       "неоконченное высшее      744\n",
       "начальное                282\n",
       "ученая степень             6\n",
       "Name: education, dtype: int64"
      ]
     },
     "execution_count": 31,
     "metadata": {},
     "output_type": "execute_result"
    }
   ],
   "source": [
    "df['education'].value_counts()"
   ]
  },
  {
   "cell_type": "markdown",
   "metadata": {},
   "source": [
    "В столбце обнаружены неправильные значения, а именно -1 и 20. Устраним их:\n",
    "- Отрицательное превартим в положительное\n",
    "- 20 превратим в 20"
   ]
  },
  {
   "cell_type": "code",
   "execution_count": 32,
   "metadata": {},
   "outputs": [],
   "source": [
    "def deti(kol_vo):\n",
    "    if kol_vo == 20:\n",
    "        kol_vo = 2\n",
    "    return kol_vo"
   ]
  },
  {
   "cell_type": "code",
   "execution_count": 33,
   "metadata": {},
   "outputs": [
    {
     "data": {
      "text/plain": [
       "0    14149\n",
       "1     4865\n",
       "2     2131\n",
       "3      330\n",
       "4       41\n",
       "5        9\n",
       "Name: children, dtype: int64"
      ]
     },
     "execution_count": 33,
     "metadata": {},
     "output_type": "execute_result"
    }
   ],
   "source": [
    "df['children'].value_counts()"
   ]
  },
  {
   "cell_type": "code",
   "execution_count": 34,
   "metadata": {
    "scrolled": true
   },
   "outputs": [
    {
     "data": {
      "text/plain": [
       "женат / замужем          12380\n",
       "гражданский брак          4177\n",
       "не женат / не замужем     2813\n",
       "в разводе                 1195\n",
       "вдовец / вдова             960\n",
       "Name: family_status, dtype: int64"
      ]
     },
     "execution_count": 34,
     "metadata": {},
     "output_type": "execute_result"
    }
   ],
   "source": [
    "df['family_status'].value_counts()"
   ]
  },
  {
   "cell_type": "code",
   "execution_count": 35,
   "metadata": {
    "scrolled": true
   },
   "outputs": [
    {
     "data": {
      "text/plain": [
       "сотрудник          11119\n",
       "компаньон           5085\n",
       "пенсионер           3856\n",
       "госслужащий         1459\n",
       "предприниматель        2\n",
       "безработный            2\n",
       "студент                1\n",
       "в декрете              1\n",
       "Name: income_type, dtype: int64"
      ]
     },
     "execution_count": 35,
     "metadata": {},
     "output_type": "execute_result"
    }
   ],
   "source": [
    "df['income_type'].value_counts()"
   ]
  },
  {
   "cell_type": "code",
   "execution_count": 36,
   "metadata": {
    "scrolled": true
   },
   "outputs": [
    {
     "data": {
      "text/plain": [
       "свадьба                                   797\n",
       "на проведение свадьбы                     777\n",
       "сыграть свадьбу                           774\n",
       "операции с недвижимостью                  676\n",
       "покупка коммерческой недвижимости         664\n",
       "операции с жильем                         653\n",
       "покупка жилья для сдачи                   653\n",
       "операции с коммерческой недвижимостью     651\n",
       "жилье                                     647\n",
       "покупка жилья                             647\n",
       "покупка жилья для семьи                   641\n",
       "строительство собственной недвижимости    635\n",
       "недвижимость                              634\n",
       "операции со своей недвижимостью           630\n",
       "строительство жилой недвижимости          626\n",
       "покупка недвижимости                      624\n",
       "строительство недвижимости                620\n",
       "покупка своего жилья                      620\n",
       "ремонт жилью                              612\n",
       "покупка жилой недвижимости                607\n",
       "на покупку своего автомобиля              505\n",
       "заняться высшим образованием              496\n",
       "автомобиль                                495\n",
       "сделка с подержанным автомобилем          489\n",
       "свой автомобиль                           480\n",
       "на покупку подержанного автомобиля        479\n",
       "автомобили                                478\n",
       "на покупку автомобиля                     472\n",
       "приобретение автомобиля                   462\n",
       "дополнительное образование                462\n",
       "сделка с автомобилем                      455\n",
       "высшее образование                        453\n",
       "получение дополнительного образования     447\n",
       "образование                               447\n",
       "получение образования                     443\n",
       "профильное образование                    436\n",
       "получение высшего образования             426\n",
       "заняться образованием                     412\n",
       "Name: purpose, dtype: int64"
      ]
     },
     "execution_count": 36,
     "metadata": {},
     "output_type": "execute_result"
    }
   ],
   "source": [
    "df['purpose'].value_counts()"
   ]
  },
  {
   "cell_type": "code",
   "execution_count": 37,
   "metadata": {},
   "outputs": [
    {
     "data": {
      "text/plain": [
       "71"
      ]
     },
     "execution_count": 37,
     "metadata": {},
     "output_type": "execute_result"
    }
   ],
   "source": [
    "df.duplicated().sum()"
   ]
  },
  {
   "cell_type": "code",
   "execution_count": 38,
   "metadata": {},
   "outputs": [
    {
     "data": {
      "text/plain": [
       "0"
      ]
     },
     "execution_count": 38,
     "metadata": {},
     "output_type": "execute_result"
    }
   ],
   "source": [
    "df = df.drop_duplicates().reset_index(drop = True)\n",
    "df.duplicated().sum()"
   ]
  },
  {
   "cell_type": "code",
   "execution_count": 39,
   "metadata": {
    "scrolled": true
   },
   "outputs": [
    {
     "name": "stdout",
     "output_type": "stream",
     "text": [
      "<class 'pandas.core.frame.DataFrame'>\n",
      "RangeIndex: 21454 entries, 0 to 21453\n",
      "Data columns (total 12 columns):\n",
      "children            21454 non-null uint8\n",
      "days_employed       21454 non-null uint64\n",
      "dob_years           21454 non-null uint8\n",
      "education           21454 non-null category\n",
      "education_id        21454 non-null int64\n",
      "family_status       21454 non-null category\n",
      "family_status_id    21454 non-null int64\n",
      "gender              21454 non-null object\n",
      "income_type         21454 non-null category\n",
      "debt                21454 non-null int64\n",
      "total_income        21454 non-null uint64\n",
      "purpose             21454 non-null object\n",
      "dtypes: category(3), int64(3), object(2), uint64(2), uint8(2)\n",
      "memory usage: 1.2+ MB\n"
     ]
    }
   ],
   "source": [
    "df.info()"
   ]
  },
  {
   "cell_type": "markdown",
   "metadata": {},
   "source": [
    "**Вывод**\n",
    "\n",
    "Мы привели все к нижнему регистру, поправили столбец с детьми, избавились от дубликатов. Дубликаты могли появится из-за неправильной выгрузки данных или при объединении таблиц с данными. Кол-во строк в новой таблице 21454."
   ]
  },
  {
   "cell_type": "markdown",
   "metadata": {},
   "source": [
    "### Лемматизация"
   ]
  },
  {
   "cell_type": "markdown",
   "metadata": {},
   "source": [
    "Для групировки целей для кредита нам необходимо провести Лемматизацию"
   ]
  },
  {
   "cell_type": "code",
   "execution_count": 40,
   "metadata": {},
   "outputs": [],
   "source": [
    "def lema(text):\n",
    "    l_text = m.lemmatize(text)\n",
    "    return l_text"
   ]
  },
  {
   "cell_type": "code",
   "execution_count": 41,
   "metadata": {
    "scrolled": true
   },
   "outputs": [
    {
     "data": {
      "text/html": [
       "<div>\n",
       "<style scoped>\n",
       "    .dataframe tbody tr th:only-of-type {\n",
       "        vertical-align: middle;\n",
       "    }\n",
       "\n",
       "    .dataframe tbody tr th {\n",
       "        vertical-align: top;\n",
       "    }\n",
       "\n",
       "    .dataframe thead th {\n",
       "        text-align: right;\n",
       "    }\n",
       "</style>\n",
       "<table border=\"1\" class=\"dataframe\">\n",
       "  <thead>\n",
       "    <tr style=\"text-align: right;\">\n",
       "      <th></th>\n",
       "      <th>children</th>\n",
       "      <th>days_employed</th>\n",
       "      <th>dob_years</th>\n",
       "      <th>education</th>\n",
       "      <th>education_id</th>\n",
       "      <th>family_status</th>\n",
       "      <th>family_status_id</th>\n",
       "      <th>gender</th>\n",
       "      <th>income_type</th>\n",
       "      <th>debt</th>\n",
       "      <th>total_income</th>\n",
       "      <th>purpose</th>\n",
       "      <th>l_purpose</th>\n",
       "    </tr>\n",
       "  </thead>\n",
       "  <tbody>\n",
       "    <tr>\n",
       "      <td>0</td>\n",
       "      <td>1</td>\n",
       "      <td>8437</td>\n",
       "      <td>42</td>\n",
       "      <td>высшее</td>\n",
       "      <td>0</td>\n",
       "      <td>женат / замужем</td>\n",
       "      <td>0</td>\n",
       "      <td>F</td>\n",
       "      <td>сотрудник</td>\n",
       "      <td>0</td>\n",
       "      <td>253875</td>\n",
       "      <td>покупка жилья</td>\n",
       "      <td>[покупка,  , жилье, \\n]</td>\n",
       "    </tr>\n",
       "    <tr>\n",
       "      <td>1</td>\n",
       "      <td>1</td>\n",
       "      <td>4024</td>\n",
       "      <td>36</td>\n",
       "      <td>среднее</td>\n",
       "      <td>1</td>\n",
       "      <td>женат / замужем</td>\n",
       "      <td>0</td>\n",
       "      <td>F</td>\n",
       "      <td>сотрудник</td>\n",
       "      <td>0</td>\n",
       "      <td>112080</td>\n",
       "      <td>приобретение автомобиля</td>\n",
       "      <td>[приобретение,  , автомобиль, \\n]</td>\n",
       "    </tr>\n",
       "    <tr>\n",
       "      <td>2</td>\n",
       "      <td>0</td>\n",
       "      <td>5623</td>\n",
       "      <td>33</td>\n",
       "      <td>среднее</td>\n",
       "      <td>1</td>\n",
       "      <td>женат / замужем</td>\n",
       "      <td>0</td>\n",
       "      <td>M</td>\n",
       "      <td>сотрудник</td>\n",
       "      <td>0</td>\n",
       "      <td>145885</td>\n",
       "      <td>покупка жилья</td>\n",
       "      <td>[покупка,  , жилье, \\n]</td>\n",
       "    </tr>\n",
       "    <tr>\n",
       "      <td>3</td>\n",
       "      <td>3</td>\n",
       "      <td>4124</td>\n",
       "      <td>32</td>\n",
       "      <td>среднее</td>\n",
       "      <td>1</td>\n",
       "      <td>женат / замужем</td>\n",
       "      <td>0</td>\n",
       "      <td>M</td>\n",
       "      <td>сотрудник</td>\n",
       "      <td>0</td>\n",
       "      <td>267628</td>\n",
       "      <td>дополнительное образование</td>\n",
       "      <td>[дополнительный,  , образование, \\n]</td>\n",
       "    </tr>\n",
       "    <tr>\n",
       "      <td>4</td>\n",
       "      <td>0</td>\n",
       "      <td>12775</td>\n",
       "      <td>53</td>\n",
       "      <td>среднее</td>\n",
       "      <td>1</td>\n",
       "      <td>гражданский брак</td>\n",
       "      <td>1</td>\n",
       "      <td>F</td>\n",
       "      <td>пенсионер</td>\n",
       "      <td>0</td>\n",
       "      <td>158616</td>\n",
       "      <td>сыграть свадьбу</td>\n",
       "      <td>[сыграть,  , свадьба, \\n]</td>\n",
       "    </tr>\n",
       "    <tr>\n",
       "      <td>5</td>\n",
       "      <td>0</td>\n",
       "      <td>926</td>\n",
       "      <td>27</td>\n",
       "      <td>высшее</td>\n",
       "      <td>0</td>\n",
       "      <td>гражданский брак</td>\n",
       "      <td>1</td>\n",
       "      <td>M</td>\n",
       "      <td>компаньон</td>\n",
       "      <td>0</td>\n",
       "      <td>255763</td>\n",
       "      <td>покупка жилья</td>\n",
       "      <td>[покупка,  , жилье, \\n]</td>\n",
       "    </tr>\n",
       "    <tr>\n",
       "      <td>6</td>\n",
       "      <td>0</td>\n",
       "      <td>2879</td>\n",
       "      <td>43</td>\n",
       "      <td>высшее</td>\n",
       "      <td>0</td>\n",
       "      <td>женат / замужем</td>\n",
       "      <td>0</td>\n",
       "      <td>F</td>\n",
       "      <td>компаньон</td>\n",
       "      <td>0</td>\n",
       "      <td>240525</td>\n",
       "      <td>операции с жильем</td>\n",
       "      <td>[операция,  , с,  , жилье, \\n]</td>\n",
       "    </tr>\n",
       "    <tr>\n",
       "      <td>7</td>\n",
       "      <td>0</td>\n",
       "      <td>152</td>\n",
       "      <td>50</td>\n",
       "      <td>среднее</td>\n",
       "      <td>1</td>\n",
       "      <td>женат / замужем</td>\n",
       "      <td>0</td>\n",
       "      <td>M</td>\n",
       "      <td>сотрудник</td>\n",
       "      <td>0</td>\n",
       "      <td>135823</td>\n",
       "      <td>образование</td>\n",
       "      <td>[образование, \\n]</td>\n",
       "    </tr>\n",
       "    <tr>\n",
       "      <td>8</td>\n",
       "      <td>2</td>\n",
       "      <td>6929</td>\n",
       "      <td>35</td>\n",
       "      <td>высшее</td>\n",
       "      <td>0</td>\n",
       "      <td>гражданский брак</td>\n",
       "      <td>1</td>\n",
       "      <td>F</td>\n",
       "      <td>сотрудник</td>\n",
       "      <td>0</td>\n",
       "      <td>95856</td>\n",
       "      <td>на проведение свадьбы</td>\n",
       "      <td>[на,  , проведение,  , свадьба, \\n]</td>\n",
       "    </tr>\n",
       "    <tr>\n",
       "      <td>9</td>\n",
       "      <td>0</td>\n",
       "      <td>2188</td>\n",
       "      <td>41</td>\n",
       "      <td>среднее</td>\n",
       "      <td>1</td>\n",
       "      <td>женат / замужем</td>\n",
       "      <td>0</td>\n",
       "      <td>M</td>\n",
       "      <td>сотрудник</td>\n",
       "      <td>0</td>\n",
       "      <td>144425</td>\n",
       "      <td>покупка жилья для семьи</td>\n",
       "      <td>[покупка,  , жилье,  , для,  , семья, \\n]</td>\n",
       "    </tr>\n",
       "    <tr>\n",
       "      <td>10</td>\n",
       "      <td>2</td>\n",
       "      <td>4171</td>\n",
       "      <td>36</td>\n",
       "      <td>высшее</td>\n",
       "      <td>0</td>\n",
       "      <td>женат / замужем</td>\n",
       "      <td>0</td>\n",
       "      <td>M</td>\n",
       "      <td>компаньон</td>\n",
       "      <td>0</td>\n",
       "      <td>113943</td>\n",
       "      <td>покупка недвижимости</td>\n",
       "      <td>[покупка,  , недвижимость, \\n]</td>\n",
       "    </tr>\n",
       "    <tr>\n",
       "      <td>11</td>\n",
       "      <td>0</td>\n",
       "      <td>792</td>\n",
       "      <td>40</td>\n",
       "      <td>среднее</td>\n",
       "      <td>1</td>\n",
       "      <td>женат / замужем</td>\n",
       "      <td>0</td>\n",
       "      <td>F</td>\n",
       "      <td>сотрудник</td>\n",
       "      <td>0</td>\n",
       "      <td>77069</td>\n",
       "      <td>покупка коммерческой недвижимости</td>\n",
       "      <td>[покупка,  , коммерческий,  , недвижимость, \\n]</td>\n",
       "    </tr>\n",
       "    <tr>\n",
       "      <td>12</td>\n",
       "      <td>0</td>\n",
       "      <td>17155</td>\n",
       "      <td>65</td>\n",
       "      <td>среднее</td>\n",
       "      <td>1</td>\n",
       "      <td>гражданский брак</td>\n",
       "      <td>1</td>\n",
       "      <td>M</td>\n",
       "      <td>пенсионер</td>\n",
       "      <td>0</td>\n",
       "      <td>90000</td>\n",
       "      <td>сыграть свадьбу</td>\n",
       "      <td>[сыграть,  , свадьба, \\n]</td>\n",
       "    </tr>\n",
       "    <tr>\n",
       "      <td>13</td>\n",
       "      <td>0</td>\n",
       "      <td>1846</td>\n",
       "      <td>54</td>\n",
       "      <td>неоконченное высшее</td>\n",
       "      <td>2</td>\n",
       "      <td>женат / замужем</td>\n",
       "      <td>0</td>\n",
       "      <td>F</td>\n",
       "      <td>сотрудник</td>\n",
       "      <td>0</td>\n",
       "      <td>130458</td>\n",
       "      <td>приобретение автомобиля</td>\n",
       "      <td>[приобретение,  , автомобиль, \\n]</td>\n",
       "    </tr>\n",
       "    <tr>\n",
       "      <td>14</td>\n",
       "      <td>0</td>\n",
       "      <td>1844</td>\n",
       "      <td>56</td>\n",
       "      <td>высшее</td>\n",
       "      <td>0</td>\n",
       "      <td>гражданский брак</td>\n",
       "      <td>1</td>\n",
       "      <td>F</td>\n",
       "      <td>компаньон</td>\n",
       "      <td>1</td>\n",
       "      <td>165127</td>\n",
       "      <td>покупка жилой недвижимости</td>\n",
       "      <td>[покупка,  , жилой,  , недвижимость, \\n]</td>\n",
       "    </tr>\n",
       "  </tbody>\n",
       "</table>\n",
       "</div>"
      ],
      "text/plain": [
       "    children  days_employed  dob_years            education  education_id  \\\n",
       "0          1           8437         42               высшее             0   \n",
       "1          1           4024         36              среднее             1   \n",
       "2          0           5623         33              среднее             1   \n",
       "3          3           4124         32              среднее             1   \n",
       "4          0          12775         53              среднее             1   \n",
       "5          0            926         27               высшее             0   \n",
       "6          0           2879         43               высшее             0   \n",
       "7          0            152         50              среднее             1   \n",
       "8          2           6929         35               высшее             0   \n",
       "9          0           2188         41              среднее             1   \n",
       "10         2           4171         36               высшее             0   \n",
       "11         0            792         40              среднее             1   \n",
       "12         0          17155         65              среднее             1   \n",
       "13         0           1846         54  неоконченное высшее             2   \n",
       "14         0           1844         56               высшее             0   \n",
       "\n",
       "       family_status  family_status_id gender income_type  debt  total_income  \\\n",
       "0    женат / замужем                 0      F   сотрудник     0        253875   \n",
       "1    женат / замужем                 0      F   сотрудник     0        112080   \n",
       "2    женат / замужем                 0      M   сотрудник     0        145885   \n",
       "3    женат / замужем                 0      M   сотрудник     0        267628   \n",
       "4   гражданский брак                 1      F   пенсионер     0        158616   \n",
       "5   гражданский брак                 1      M   компаньон     0        255763   \n",
       "6    женат / замужем                 0      F   компаньон     0        240525   \n",
       "7    женат / замужем                 0      M   сотрудник     0        135823   \n",
       "8   гражданский брак                 1      F   сотрудник     0         95856   \n",
       "9    женат / замужем                 0      M   сотрудник     0        144425   \n",
       "10   женат / замужем                 0      M   компаньон     0        113943   \n",
       "11   женат / замужем                 0      F   сотрудник     0         77069   \n",
       "12  гражданский брак                 1      M   пенсионер     0         90000   \n",
       "13   женат / замужем                 0      F   сотрудник     0        130458   \n",
       "14  гражданский брак                 1      F   компаньон     1        165127   \n",
       "\n",
       "                              purpose  \\\n",
       "0                       покупка жилья   \n",
       "1             приобретение автомобиля   \n",
       "2                       покупка жилья   \n",
       "3          дополнительное образование   \n",
       "4                     сыграть свадьбу   \n",
       "5                       покупка жилья   \n",
       "6                   операции с жильем   \n",
       "7                         образование   \n",
       "8               на проведение свадьбы   \n",
       "9             покупка жилья для семьи   \n",
       "10               покупка недвижимости   \n",
       "11  покупка коммерческой недвижимости   \n",
       "12                    сыграть свадьбу   \n",
       "13            приобретение автомобиля   \n",
       "14         покупка жилой недвижимости   \n",
       "\n",
       "                                          l_purpose  \n",
       "0                           [покупка,  , жилье, \\n]  \n",
       "1                 [приобретение,  , автомобиль, \\n]  \n",
       "2                           [покупка,  , жилье, \\n]  \n",
       "3              [дополнительный,  , образование, \\n]  \n",
       "4                         [сыграть,  , свадьба, \\n]  \n",
       "5                           [покупка,  , жилье, \\n]  \n",
       "6                    [операция,  , с,  , жилье, \\n]  \n",
       "7                                 [образование, \\n]  \n",
       "8               [на,  , проведение,  , свадьба, \\n]  \n",
       "9         [покупка,  , жилье,  , для,  , семья, \\n]  \n",
       "10                   [покупка,  , недвижимость, \\n]  \n",
       "11  [покупка,  , коммерческий,  , недвижимость, \\n]  \n",
       "12                        [сыграть,  , свадьба, \\n]  \n",
       "13                [приобретение,  , автомобиль, \\n]  \n",
       "14         [покупка,  , жилой,  , недвижимость, \\n]  "
      ]
     },
     "execution_count": 41,
     "metadata": {},
     "output_type": "execute_result"
    }
   ],
   "source": [
    "df['l_purpose'] = df['purpose'].apply(lema)\n",
    "df.head(15)"
   ]
  },
  {
   "cell_type": "code",
   "execution_count": 42,
   "metadata": {
    "scrolled": true
   },
   "outputs": [],
   "source": [
    "## Другой способ лемматизации через уникальные значения и merge\n",
    "unique_purpose =proba ['purpose'].unique()\n",
    "lemass = []\n",
    "for kek in unique_purpose:\n",
    "    lemass.append(m.lemmatize(kek))"
   ]
  },
  {
   "cell_type": "code",
   "execution_count": 43,
   "metadata": {
    "scrolled": true
   },
   "outputs": [
    {
     "data": {
      "text/html": [
       "<div>\n",
       "<style scoped>\n",
       "    .dataframe tbody tr th:only-of-type {\n",
       "        vertical-align: middle;\n",
       "    }\n",
       "\n",
       "    .dataframe tbody tr th {\n",
       "        vertical-align: top;\n",
       "    }\n",
       "\n",
       "    .dataframe thead th {\n",
       "        text-align: right;\n",
       "    }\n",
       "</style>\n",
       "<table border=\"1\" class=\"dataframe\">\n",
       "  <thead>\n",
       "    <tr style=\"text-align: right;\">\n",
       "      <th></th>\n",
       "      <th>purpose</th>\n",
       "      <th>l_purpose</th>\n",
       "    </tr>\n",
       "  </thead>\n",
       "  <tbody>\n",
       "    <tr>\n",
       "      <td>0</td>\n",
       "      <td>покупка жилья</td>\n",
       "      <td>[покупка,  , жилье, \\n]</td>\n",
       "    </tr>\n",
       "    <tr>\n",
       "      <td>1</td>\n",
       "      <td>приобретение автомобиля</td>\n",
       "      <td>[приобретение,  , автомобиль, \\n]</td>\n",
       "    </tr>\n",
       "    <tr>\n",
       "      <td>2</td>\n",
       "      <td>дополнительное образование</td>\n",
       "      <td>[дополнительный,  , образование, \\n]</td>\n",
       "    </tr>\n",
       "    <tr>\n",
       "      <td>3</td>\n",
       "      <td>сыграть свадьбу</td>\n",
       "      <td>[сыграть,  , свадьба, \\n]</td>\n",
       "    </tr>\n",
       "    <tr>\n",
       "      <td>4</td>\n",
       "      <td>операции с жильем</td>\n",
       "      <td>[операция,  , с,  , жилье, \\n]</td>\n",
       "    </tr>\n",
       "    <tr>\n",
       "      <td>5</td>\n",
       "      <td>образование</td>\n",
       "      <td>[образование, \\n]</td>\n",
       "    </tr>\n",
       "    <tr>\n",
       "      <td>6</td>\n",
       "      <td>на проведение свадьбы</td>\n",
       "      <td>[на,  , проведение,  , свадьба, \\n]</td>\n",
       "    </tr>\n",
       "    <tr>\n",
       "      <td>7</td>\n",
       "      <td>покупка жилья для семьи</td>\n",
       "      <td>[покупка,  , жилье,  , для,  , семья, \\n]</td>\n",
       "    </tr>\n",
       "    <tr>\n",
       "      <td>8</td>\n",
       "      <td>покупка недвижимости</td>\n",
       "      <td>[покупка,  , недвижимость, \\n]</td>\n",
       "    </tr>\n",
       "    <tr>\n",
       "      <td>9</td>\n",
       "      <td>покупка коммерческой недвижимости</td>\n",
       "      <td>[покупка,  , коммерческий,  , недвижимость, \\n]</td>\n",
       "    </tr>\n",
       "    <tr>\n",
       "      <td>10</td>\n",
       "      <td>покупка жилой недвижимости</td>\n",
       "      <td>[покупка,  , жилой,  , недвижимость, \\n]</td>\n",
       "    </tr>\n",
       "    <tr>\n",
       "      <td>11</td>\n",
       "      <td>строительство собственной недвижимости</td>\n",
       "      <td>[строительство,  , собственный,  , недвижимост...</td>\n",
       "    </tr>\n",
       "    <tr>\n",
       "      <td>12</td>\n",
       "      <td>недвижимость</td>\n",
       "      <td>[недвижимость, \\n]</td>\n",
       "    </tr>\n",
       "    <tr>\n",
       "      <td>13</td>\n",
       "      <td>строительство недвижимости</td>\n",
       "      <td>[строительство,  , недвижимость, \\n]</td>\n",
       "    </tr>\n",
       "    <tr>\n",
       "      <td>14</td>\n",
       "      <td>на покупку подержанного автомобиля</td>\n",
       "      <td>[на,  , покупка,  , подержать,  , автомобиль, \\n]</td>\n",
       "    </tr>\n",
       "    <tr>\n",
       "      <td>15</td>\n",
       "      <td>на покупку своего автомобиля</td>\n",
       "      <td>[на,  , покупка,  , свой,  , автомобиль, \\n]</td>\n",
       "    </tr>\n",
       "    <tr>\n",
       "      <td>16</td>\n",
       "      <td>операции с коммерческой недвижимостью</td>\n",
       "      <td>[операция,  , с,  , коммерческий,  , недвижимо...</td>\n",
       "    </tr>\n",
       "    <tr>\n",
       "      <td>17</td>\n",
       "      <td>строительство жилой недвижимости</td>\n",
       "      <td>[строительство,  , жилой,  , недвижимость, \\n]</td>\n",
       "    </tr>\n",
       "    <tr>\n",
       "      <td>18</td>\n",
       "      <td>жилье</td>\n",
       "      <td>[жилье, \\n]</td>\n",
       "    </tr>\n",
       "    <tr>\n",
       "      <td>19</td>\n",
       "      <td>операции со своей недвижимостью</td>\n",
       "      <td>[операция,  , со,  , свой,  , недвижимость, \\n]</td>\n",
       "    </tr>\n",
       "    <tr>\n",
       "      <td>20</td>\n",
       "      <td>автомобили</td>\n",
       "      <td>[автомобиль, \\n]</td>\n",
       "    </tr>\n",
       "    <tr>\n",
       "      <td>21</td>\n",
       "      <td>заняться образованием</td>\n",
       "      <td>[заниматься,  , образование, \\n]</td>\n",
       "    </tr>\n",
       "    <tr>\n",
       "      <td>22</td>\n",
       "      <td>сделка с подержанным автомобилем</td>\n",
       "      <td>[сделка,  , с,  , подержанный,  , автомобиль, \\n]</td>\n",
       "    </tr>\n",
       "    <tr>\n",
       "      <td>23</td>\n",
       "      <td>получение образования</td>\n",
       "      <td>[получение,  , образование, \\n]</td>\n",
       "    </tr>\n",
       "    <tr>\n",
       "      <td>24</td>\n",
       "      <td>автомобиль</td>\n",
       "      <td>[автомобиль, \\n]</td>\n",
       "    </tr>\n",
       "    <tr>\n",
       "      <td>25</td>\n",
       "      <td>свадьба</td>\n",
       "      <td>[свадьба, \\n]</td>\n",
       "    </tr>\n",
       "    <tr>\n",
       "      <td>26</td>\n",
       "      <td>получение дополнительного образования</td>\n",
       "      <td>[получение,  , дополнительный,  , образование,...</td>\n",
       "    </tr>\n",
       "    <tr>\n",
       "      <td>27</td>\n",
       "      <td>покупка своего жилья</td>\n",
       "      <td>[покупка,  , свой,  , жилье, \\n]</td>\n",
       "    </tr>\n",
       "    <tr>\n",
       "      <td>28</td>\n",
       "      <td>операции с недвижимостью</td>\n",
       "      <td>[операция,  , с,  , недвижимость, \\n]</td>\n",
       "    </tr>\n",
       "    <tr>\n",
       "      <td>29</td>\n",
       "      <td>получение высшего образования</td>\n",
       "      <td>[получение,  , высокий,  , образование, \\n]</td>\n",
       "    </tr>\n",
       "    <tr>\n",
       "      <td>30</td>\n",
       "      <td>свой автомобиль</td>\n",
       "      <td>[свой,  , автомобиль, \\n]</td>\n",
       "    </tr>\n",
       "    <tr>\n",
       "      <td>31</td>\n",
       "      <td>сделка с автомобилем</td>\n",
       "      <td>[сделка,  , с,  , автомобиль, \\n]</td>\n",
       "    </tr>\n",
       "    <tr>\n",
       "      <td>32</td>\n",
       "      <td>профильное образование</td>\n",
       "      <td>[профильный,  , образование, \\n]</td>\n",
       "    </tr>\n",
       "    <tr>\n",
       "      <td>33</td>\n",
       "      <td>высшее образование</td>\n",
       "      <td>[высокий,  , образование, \\n]</td>\n",
       "    </tr>\n",
       "    <tr>\n",
       "      <td>34</td>\n",
       "      <td>покупка жилья для сдачи</td>\n",
       "      <td>[покупка,  , жилье,  , для,  , сдача, \\n]</td>\n",
       "    </tr>\n",
       "    <tr>\n",
       "      <td>35</td>\n",
       "      <td>на покупку автомобиля</td>\n",
       "      <td>[на,  , покупка,  , автомобиль, \\n]</td>\n",
       "    </tr>\n",
       "    <tr>\n",
       "      <td>36</td>\n",
       "      <td>ремонт жилью</td>\n",
       "      <td>[ремонт,  , жилье, \\n]</td>\n",
       "    </tr>\n",
       "    <tr>\n",
       "      <td>37</td>\n",
       "      <td>заняться высшим образованием</td>\n",
       "      <td>[заниматься,  , высокий,  , образование, \\n]</td>\n",
       "    </tr>\n",
       "  </tbody>\n",
       "</table>\n",
       "</div>"
      ],
      "text/plain": [
       "                                   purpose  \\\n",
       "0                            покупка жилья   \n",
       "1                  приобретение автомобиля   \n",
       "2               дополнительное образование   \n",
       "3                          сыграть свадьбу   \n",
       "4                        операции с жильем   \n",
       "5                              образование   \n",
       "6                    на проведение свадьбы   \n",
       "7                  покупка жилья для семьи   \n",
       "8                     покупка недвижимости   \n",
       "9        покупка коммерческой недвижимости   \n",
       "10              покупка жилой недвижимости   \n",
       "11  строительство собственной недвижимости   \n",
       "12                            недвижимость   \n",
       "13              строительство недвижимости   \n",
       "14      на покупку подержанного автомобиля   \n",
       "15            на покупку своего автомобиля   \n",
       "16   операции с коммерческой недвижимостью   \n",
       "17        строительство жилой недвижимости   \n",
       "18                                   жилье   \n",
       "19         операции со своей недвижимостью   \n",
       "20                              автомобили   \n",
       "21                   заняться образованием   \n",
       "22        сделка с подержанным автомобилем   \n",
       "23                   получение образования   \n",
       "24                              автомобиль   \n",
       "25                                 свадьба   \n",
       "26   получение дополнительного образования   \n",
       "27                    покупка своего жилья   \n",
       "28                операции с недвижимостью   \n",
       "29           получение высшего образования   \n",
       "30                         свой автомобиль   \n",
       "31                    сделка с автомобилем   \n",
       "32                  профильное образование   \n",
       "33                      высшее образование   \n",
       "34                 покупка жилья для сдачи   \n",
       "35                   на покупку автомобиля   \n",
       "36                            ремонт жилью   \n",
       "37            заняться высшим образованием   \n",
       "\n",
       "                                            l_purpose  \n",
       "0                             [покупка,  , жилье, \\n]  \n",
       "1                   [приобретение,  , автомобиль, \\n]  \n",
       "2                [дополнительный,  , образование, \\n]  \n",
       "3                           [сыграть,  , свадьба, \\n]  \n",
       "4                      [операция,  , с,  , жилье, \\n]  \n",
       "5                                   [образование, \\n]  \n",
       "6                 [на,  , проведение,  , свадьба, \\n]  \n",
       "7           [покупка,  , жилье,  , для,  , семья, \\n]  \n",
       "8                      [покупка,  , недвижимость, \\n]  \n",
       "9     [покупка,  , коммерческий,  , недвижимость, \\n]  \n",
       "10           [покупка,  , жилой,  , недвижимость, \\n]  \n",
       "11  [строительство,  , собственный,  , недвижимост...  \n",
       "12                                 [недвижимость, \\n]  \n",
       "13               [строительство,  , недвижимость, \\n]  \n",
       "14  [на,  , покупка,  , подержать,  , автомобиль, \\n]  \n",
       "15       [на,  , покупка,  , свой,  , автомобиль, \\n]  \n",
       "16  [операция,  , с,  , коммерческий,  , недвижимо...  \n",
       "17     [строительство,  , жилой,  , недвижимость, \\n]  \n",
       "18                                        [жилье, \\n]  \n",
       "19    [операция,  , со,  , свой,  , недвижимость, \\n]  \n",
       "20                                   [автомобиль, \\n]  \n",
       "21                   [заниматься,  , образование, \\n]  \n",
       "22  [сделка,  , с,  , подержанный,  , автомобиль, \\n]  \n",
       "23                    [получение,  , образование, \\n]  \n",
       "24                                   [автомобиль, \\n]  \n",
       "25                                      [свадьба, \\n]  \n",
       "26  [получение,  , дополнительный,  , образование,...  \n",
       "27                   [покупка,  , свой,  , жилье, \\n]  \n",
       "28              [операция,  , с,  , недвижимость, \\n]  \n",
       "29        [получение,  , высокий,  , образование, \\n]  \n",
       "30                          [свой,  , автомобиль, \\n]  \n",
       "31                  [сделка,  , с,  , автомобиль, \\n]  \n",
       "32                   [профильный,  , образование, \\n]  \n",
       "33                      [высокий,  , образование, \\n]  \n",
       "34          [покупка,  , жилье,  , для,  , сдача, \\n]  \n",
       "35                [на,  , покупка,  , автомобиль, \\n]  \n",
       "36                             [ремонт,  , жилье, \\n]  \n",
       "37       [заниматься,  , высокий,  , образование, \\n]  "
      ]
     },
     "execution_count": 43,
     "metadata": {},
     "output_type": "execute_result"
    }
   ],
   "source": [
    "#new = pd.concat([lemass, unique_purpose], axis=1)\n",
    "unique_purpose1 = pd.Series(unique_purpose)\n",
    "lemass1 = pd.Series(lemass)\n",
    "new = pd.concat([unique_purpose1,lemass1], axis=1)\n",
    "new.columns = ['purpose', 'l_purpose']\n",
    "new\n"
   ]
  },
  {
   "cell_type": "code",
   "execution_count": 44,
   "metadata": {
    "scrolled": true
   },
   "outputs": [
    {
     "data": {
      "text/html": [
       "<div>\n",
       "<style scoped>\n",
       "    .dataframe tbody tr th:only-of-type {\n",
       "        vertical-align: middle;\n",
       "    }\n",
       "\n",
       "    .dataframe tbody tr th {\n",
       "        vertical-align: top;\n",
       "    }\n",
       "\n",
       "    .dataframe thead th {\n",
       "        text-align: right;\n",
       "    }\n",
       "</style>\n",
       "<table border=\"1\" class=\"dataframe\">\n",
       "  <thead>\n",
       "    <tr style=\"text-align: right;\">\n",
       "      <th></th>\n",
       "      <th>children</th>\n",
       "      <th>days_employed</th>\n",
       "      <th>dob_years</th>\n",
       "      <th>education</th>\n",
       "      <th>education_id</th>\n",
       "      <th>family_status</th>\n",
       "      <th>family_status_id</th>\n",
       "      <th>gender</th>\n",
       "      <th>income_type</th>\n",
       "      <th>debt</th>\n",
       "      <th>total_income</th>\n",
       "      <th>purpose</th>\n",
       "      <th>l_purpose</th>\n",
       "    </tr>\n",
       "  </thead>\n",
       "  <tbody>\n",
       "    <tr>\n",
       "      <td>0</td>\n",
       "      <td>1</td>\n",
       "      <td>8437</td>\n",
       "      <td>42</td>\n",
       "      <td>высшее</td>\n",
       "      <td>0</td>\n",
       "      <td>женат / замужем</td>\n",
       "      <td>0</td>\n",
       "      <td>F</td>\n",
       "      <td>сотрудник</td>\n",
       "      <td>0</td>\n",
       "      <td>253875</td>\n",
       "      <td>покупка жилья</td>\n",
       "      <td>[покупка,  , жилье, \\n]</td>\n",
       "    </tr>\n",
       "    <tr>\n",
       "      <td>1</td>\n",
       "      <td>1</td>\n",
       "      <td>4024</td>\n",
       "      <td>36</td>\n",
       "      <td>среднее</td>\n",
       "      <td>1</td>\n",
       "      <td>женат / замужем</td>\n",
       "      <td>0</td>\n",
       "      <td>F</td>\n",
       "      <td>сотрудник</td>\n",
       "      <td>0</td>\n",
       "      <td>112080</td>\n",
       "      <td>приобретение автомобиля</td>\n",
       "      <td>[приобретение,  , автомобиль, \\n]</td>\n",
       "    </tr>\n",
       "    <tr>\n",
       "      <td>2</td>\n",
       "      <td>0</td>\n",
       "      <td>5623</td>\n",
       "      <td>33</td>\n",
       "      <td>среднее</td>\n",
       "      <td>1</td>\n",
       "      <td>женат / замужем</td>\n",
       "      <td>0</td>\n",
       "      <td>M</td>\n",
       "      <td>сотрудник</td>\n",
       "      <td>0</td>\n",
       "      <td>145885</td>\n",
       "      <td>покупка жилья</td>\n",
       "      <td>[покупка,  , жилье, \\n]</td>\n",
       "    </tr>\n",
       "    <tr>\n",
       "      <td>3</td>\n",
       "      <td>3</td>\n",
       "      <td>4124</td>\n",
       "      <td>32</td>\n",
       "      <td>среднее</td>\n",
       "      <td>1</td>\n",
       "      <td>женат / замужем</td>\n",
       "      <td>0</td>\n",
       "      <td>M</td>\n",
       "      <td>сотрудник</td>\n",
       "      <td>0</td>\n",
       "      <td>267628</td>\n",
       "      <td>дополнительное образование</td>\n",
       "      <td>[дополнительный,  , образование, \\n]</td>\n",
       "    </tr>\n",
       "    <tr>\n",
       "      <td>4</td>\n",
       "      <td>0</td>\n",
       "      <td>12775</td>\n",
       "      <td>53</td>\n",
       "      <td>среднее</td>\n",
       "      <td>1</td>\n",
       "      <td>гражданский брак</td>\n",
       "      <td>1</td>\n",
       "      <td>F</td>\n",
       "      <td>пенсионер</td>\n",
       "      <td>0</td>\n",
       "      <td>158616</td>\n",
       "      <td>сыграть свадьбу</td>\n",
       "      <td>[сыграть,  , свадьба, \\n]</td>\n",
       "    </tr>\n",
       "    <tr>\n",
       "      <td>...</td>\n",
       "      <td>...</td>\n",
       "      <td>...</td>\n",
       "      <td>...</td>\n",
       "      <td>...</td>\n",
       "      <td>...</td>\n",
       "      <td>...</td>\n",
       "      <td>...</td>\n",
       "      <td>...</td>\n",
       "      <td>...</td>\n",
       "      <td>...</td>\n",
       "      <td>...</td>\n",
       "      <td>...</td>\n",
       "      <td>...</td>\n",
       "    </tr>\n",
       "    <tr>\n",
       "      <td>21520</td>\n",
       "      <td>1</td>\n",
       "      <td>4529</td>\n",
       "      <td>43</td>\n",
       "      <td>среднее</td>\n",
       "      <td>1</td>\n",
       "      <td>гражданский брак</td>\n",
       "      <td>1</td>\n",
       "      <td>F</td>\n",
       "      <td>компаньон</td>\n",
       "      <td>0</td>\n",
       "      <td>224791</td>\n",
       "      <td>операции с жильем</td>\n",
       "      <td>[операция,  , с,  , жилье, \\n]</td>\n",
       "    </tr>\n",
       "    <tr>\n",
       "      <td>21521</td>\n",
       "      <td>0</td>\n",
       "      <td>17885</td>\n",
       "      <td>67</td>\n",
       "      <td>среднее</td>\n",
       "      <td>1</td>\n",
       "      <td>женат / замужем</td>\n",
       "      <td>0</td>\n",
       "      <td>F</td>\n",
       "      <td>пенсионер</td>\n",
       "      <td>0</td>\n",
       "      <td>155999</td>\n",
       "      <td>сделка с автомобилем</td>\n",
       "      <td>[сделка,  , с,  , автомобиль, \\n]</td>\n",
       "    </tr>\n",
       "    <tr>\n",
       "      <td>21522</td>\n",
       "      <td>1</td>\n",
       "      <td>2113</td>\n",
       "      <td>38</td>\n",
       "      <td>среднее</td>\n",
       "      <td>1</td>\n",
       "      <td>гражданский брак</td>\n",
       "      <td>1</td>\n",
       "      <td>M</td>\n",
       "      <td>сотрудник</td>\n",
       "      <td>1</td>\n",
       "      <td>89672</td>\n",
       "      <td>недвижимость</td>\n",
       "      <td>[недвижимость, \\n]</td>\n",
       "    </tr>\n",
       "    <tr>\n",
       "      <td>21523</td>\n",
       "      <td>3</td>\n",
       "      <td>3112</td>\n",
       "      <td>38</td>\n",
       "      <td>среднее</td>\n",
       "      <td>1</td>\n",
       "      <td>женат / замужем</td>\n",
       "      <td>0</td>\n",
       "      <td>M</td>\n",
       "      <td>сотрудник</td>\n",
       "      <td>1</td>\n",
       "      <td>244093</td>\n",
       "      <td>на покупку своего автомобиля</td>\n",
       "      <td>[на,  , покупка,  , свой,  , автомобиль, \\n]</td>\n",
       "    </tr>\n",
       "    <tr>\n",
       "      <td>21524</td>\n",
       "      <td>2</td>\n",
       "      <td>1984</td>\n",
       "      <td>40</td>\n",
       "      <td>среднее</td>\n",
       "      <td>1</td>\n",
       "      <td>женат / замужем</td>\n",
       "      <td>0</td>\n",
       "      <td>F</td>\n",
       "      <td>сотрудник</td>\n",
       "      <td>0</td>\n",
       "      <td>82047</td>\n",
       "      <td>на покупку автомобиля</td>\n",
       "      <td>[на,  , покупка,  , автомобиль, \\n]</td>\n",
       "    </tr>\n",
       "  </tbody>\n",
       "</table>\n",
       "<p>21525 rows × 13 columns</p>\n",
       "</div>"
      ],
      "text/plain": [
       "       children  days_employed  dob_years education  education_id  \\\n",
       "0             1           8437         42    высшее             0   \n",
       "1             1           4024         36   среднее             1   \n",
       "2             0           5623         33   среднее             1   \n",
       "3             3           4124         32   среднее             1   \n",
       "4             0          12775         53   среднее             1   \n",
       "...         ...            ...        ...       ...           ...   \n",
       "21520         1           4529         43   среднее             1   \n",
       "21521         0          17885         67   среднее             1   \n",
       "21522         1           2113         38   среднее             1   \n",
       "21523         3           3112         38   среднее             1   \n",
       "21524         2           1984         40   среднее             1   \n",
       "\n",
       "          family_status  family_status_id gender income_type  debt  \\\n",
       "0       женат / замужем                 0      F   сотрудник     0   \n",
       "1       женат / замужем                 0      F   сотрудник     0   \n",
       "2       женат / замужем                 0      M   сотрудник     0   \n",
       "3       женат / замужем                 0      M   сотрудник     0   \n",
       "4      гражданский брак                 1      F   пенсионер     0   \n",
       "...                 ...               ...    ...         ...   ...   \n",
       "21520  гражданский брак                 1      F   компаньон     0   \n",
       "21521   женат / замужем                 0      F   пенсионер     0   \n",
       "21522  гражданский брак                 1      M   сотрудник     1   \n",
       "21523   женат / замужем                 0      M   сотрудник     1   \n",
       "21524   женат / замужем                 0      F   сотрудник     0   \n",
       "\n",
       "       total_income                       purpose  \\\n",
       "0            253875                 покупка жилья   \n",
       "1            112080       приобретение автомобиля   \n",
       "2            145885                 покупка жилья   \n",
       "3            267628    дополнительное образование   \n",
       "4            158616               сыграть свадьбу   \n",
       "...             ...                           ...   \n",
       "21520        224791             операции с жильем   \n",
       "21521        155999          сделка с автомобилем   \n",
       "21522         89672                  недвижимость   \n",
       "21523        244093  на покупку своего автомобиля   \n",
       "21524         82047         на покупку автомобиля   \n",
       "\n",
       "                                          l_purpose  \n",
       "0                           [покупка,  , жилье, \\n]  \n",
       "1                 [приобретение,  , автомобиль, \\n]  \n",
       "2                           [покупка,  , жилье, \\n]  \n",
       "3              [дополнительный,  , образование, \\n]  \n",
       "4                         [сыграть,  , свадьба, \\n]  \n",
       "...                                             ...  \n",
       "21520                [операция,  , с,  , жилье, \\n]  \n",
       "21521             [сделка,  , с,  , автомобиль, \\n]  \n",
       "21522                            [недвижимость, \\n]  \n",
       "21523  [на,  , покупка,  , свой,  , автомобиль, \\n]  \n",
       "21524           [на,  , покупка,  , автомобиль, \\n]  \n",
       "\n",
       "[21525 rows x 13 columns]"
      ]
     },
     "execution_count": 44,
     "metadata": {},
     "output_type": "execute_result"
    }
   ],
   "source": [
    "proba.merge(new, how = 'left')"
   ]
  },
  {
   "cell_type": "markdown",
   "metadata": {},
   "source": [
    "**Вывод**\n",
    "\n",
    "Мы создали новый столбец, где у нас хранятся лематизированные слова из столбца с целью, и теперь нам будет удобно разбить цели на разные категории"
   ]
  },
  {
   "cell_type": "markdown",
   "metadata": {},
   "source": [
    "### Категоризация данных"
   ]
  },
  {
   "cell_type": "markdown",
   "metadata": {},
   "source": [
    "Сделаем категории и добавим столбцы для облегчения категоризации данных. Итак нам пондобиться категории:\n",
    "- наличие детей\n",
    "- уровень дохода\n",
    "- цели кредита\n",
    "Для этого мы создадим три функции"
   ]
  },
  {
   "cell_type": "code",
   "execution_count": 45,
   "metadata": {},
   "outputs": [],
   "source": [
    "# Функция для наличия детей\n",
    "def nalich_deti(kol_vo):\n",
    "    if kol_vo != 0:\n",
    "        return \"есть ребенок/дети\"\n",
    "    elif kol_vo == 0: \n",
    "        return \"нет детей\""
   ]
  },
  {
   "cell_type": "code",
   "execution_count": 46,
   "metadata": {
    "scrolled": true
   },
   "outputs": [
    {
     "data": {
      "text/plain": [
       "нет детей            14091\n",
       "есть ребенок/дети     7363\n",
       "Name: deti, dtype: int64"
      ]
     },
     "execution_count": 46,
     "metadata": {},
     "output_type": "execute_result"
    }
   ],
   "source": [
    "df['deti'] = df['children'].apply(nalich_deti)\n",
    "df['deti'].value_counts()"
   ]
  },
  {
   "cell_type": "code",
   "execution_count": 47,
   "metadata": {},
   "outputs": [
    {
     "data": {
      "text/plain": [
       "2265604"
      ]
     },
     "execution_count": 47,
     "metadata": {},
     "output_type": "execute_result"
    }
   ],
   "source": [
    "df['total_income'].max()"
   ]
  },
  {
   "cell_type": "code",
   "execution_count": 48,
   "metadata": {
    "scrolled": true
   },
   "outputs": [
    {
     "data": {
      "text/plain": [
       "20667"
      ]
     },
     "execution_count": 48,
     "metadata": {},
     "output_type": "execute_result"
    }
   ],
   "source": [
    "df['total_income'].min()"
   ]
  },
  {
   "cell_type": "code",
   "execution_count": 49,
   "metadata": {},
   "outputs": [
    {
     "data": {
      "text/plain": [
       "142530.0"
      ]
     },
     "execution_count": 49,
     "metadata": {},
     "output_type": "execute_result"
    }
   ],
   "source": [
    "df['total_income'].median()"
   ]
  },
  {
   "cell_type": "markdown",
   "metadata": {},
   "source": [
    " Разобьем на три группы уровня дохода: низкий, средний, вывсокий\n",
    "За средний уровень возьмем от 100000 до 200000. Средний доход по официальным данным за 2021 =  58782 рубля, что немного грустно, и нам не подойдет."
   ]
  },
  {
   "cell_type": "code",
   "execution_count": 50,
   "metadata": {},
   "outputs": [],
   "source": [
    "# Функция для уровня дохода\n",
    "def doxod(dengi):\n",
    "    if  0 <= dengi <= 100000:\n",
    "        return \"низкий доход\"\n",
    "    elif 100000 <= dengi <= 200000:\n",
    "        return \"средний доход\"\n",
    "    else:\n",
    "        return \"высокий доход\""
   ]
  },
  {
   "cell_type": "code",
   "execution_count": 51,
   "metadata": {},
   "outputs": [
    {
     "data": {
      "text/plain": [
       "средний доход    10585\n",
       "низкий доход      5803\n",
       "высокий доход     5066\n",
       "Name: level_doxod, dtype: int64"
      ]
     },
     "execution_count": 51,
     "metadata": {},
     "output_type": "execute_result"
    }
   ],
   "source": [
    "df['level_doxod'] = df['total_income'].apply(doxod)\n",
    "df['level_doxod'].value_counts()"
   ]
  },
  {
   "cell_type": "markdown",
   "metadata": {},
   "source": [
    "Согласно результатам выше, мы можем выделить следующие цели для кредита:\n",
    "- Для недвижимости\n",
    "- Для автомобиля\n",
    "- Для образования\n",
    "- Для свадьбы"
   ]
  },
  {
   "cell_type": "code",
   "execution_count": 52,
   "metadata": {},
   "outputs": [],
   "source": [
    "# Функция на цель\n",
    "def goal(spisok):\n",
    "    for text in spisok:\n",
    "        if text == 'жилье' or text == 'недвижимость':\n",
    "            return \"на недвижимость\"\n",
    "        elif text == 'автомобиль' or text == 'машина':\n",
    "            return \"на автомобиль\"\n",
    "        elif text == 'образование':\n",
    "            return \"на образование\"\n",
    "        elif text == 'свадьба':\n",
    "            return \"на свадьбу\""
   ]
  },
  {
   "cell_type": "code",
   "execution_count": 53,
   "metadata": {},
   "outputs": [
    {
     "data": {
      "text/plain": [
       "на недвижимость    10811\n",
       "на автомобиль       4306\n",
       "на образование      4013\n",
       "на свадьбу          2324\n",
       "Name: goal, dtype: int64"
      ]
     },
     "execution_count": 53,
     "metadata": {},
     "output_type": "execute_result"
    }
   ],
   "source": [
    "df['goal'] = df['l_purpose'].apply(goal)\n",
    "df['goal'].value_counts()"
   ]
  },
  {
   "cell_type": "markdown",
   "metadata": {},
   "source": [
    "**Вывод**\n",
    "\n",
    "Категории сделаны можно приступать к анализу зависимости."
   ]
  },
  {
   "cell_type": "markdown",
   "metadata": {},
   "source": [
    "<a id=\"question\"></a>\n",
    "## Шаг 3. Ответьте на вопросы"
   ]
  },
  {
   "cell_type": "markdown",
   "metadata": {},
   "source": [
    "- Есть ли зависимость между наличием детей и возвратом кредита в срок?"
   ]
  },
  {
   "cell_type": "code",
   "execution_count": 54,
   "metadata": {},
   "outputs": [
    {
     "data": {
      "text/plain": [
       "21454"
      ]
     },
     "execution_count": 54,
     "metadata": {},
     "output_type": "execute_result"
    }
   ],
   "source": [
    "vse_dolgniki = len(df) # общее кол-во людей в базе\n",
    "vse_dolgniki"
   ]
  },
  {
   "cell_type": "code",
   "execution_count": 55,
   "metadata": {},
   "outputs": [],
   "source": [
    "pd.options.display.float_format = '{:.2f}%'.format # Это чтобы знаков после запятой немного было в таблицах"
   ]
  },
  {
   "cell_type": "code",
   "execution_count": 56,
   "metadata": {},
   "outputs": [],
   "source": [
    "df['debt'] = df['debt'].replace(0, 'нет задолжностей') # Для красоты таблиц следующих\n",
    "df['debt'] = df['debt'].replace(1, 'была задолжность')"
   ]
  },
  {
   "cell_type": "code",
   "execution_count": 63,
   "metadata": {
    "scrolled": true
   },
   "outputs": [
    {
     "data": {
      "text/plain": [
       "deti               debt            \n",
       "есть ребенок/дети  была задолжность      678\n",
       "                   нет задолжностей     6685\n",
       "нет детей          была задолжность     1063\n",
       "                   нет задолжностей    13028\n",
       "Name: debt, dtype: int64"
      ]
     },
     "execution_count": 63,
     "metadata": {},
     "output_type": "execute_result"
    }
   ],
   "source": [
    "df_deti = df.groupby(['deti','debt'])['debt'].count()\n",
    "df_deti1 = df_deti / vse_dolgniki * 100\n",
    "df_deti3 = df[['deti','debt']].agg(['count'])\n",
    "df_deti"
   ]
  },
  {
   "cell_type": "code",
   "execution_count": 59,
   "metadata": {
    "scrolled": true
   },
   "outputs": [
    {
     "data": {
      "text/html": [
       "<div>\n",
       "<style scoped>\n",
       "    .dataframe tbody tr th:only-of-type {\n",
       "        vertical-align: middle;\n",
       "    }\n",
       "\n",
       "    .dataframe tbody tr th {\n",
       "        vertical-align: top;\n",
       "    }\n",
       "\n",
       "    .dataframe thead th {\n",
       "        text-align: right;\n",
       "    }\n",
       "</style>\n",
       "<table border=\"1\" class=\"dataframe\">\n",
       "  <thead>\n",
       "    <tr style=\"text-align: right;\">\n",
       "      <th></th>\n",
       "      <th></th>\n",
       "      <th>кол-во клиентов</th>\n",
       "      <th>% от общего кол-ва клиентов</th>\n",
       "    </tr>\n",
       "    <tr>\n",
       "      <th>deti</th>\n",
       "      <th>debt</th>\n",
       "      <th></th>\n",
       "      <th></th>\n",
       "    </tr>\n",
       "  </thead>\n",
       "  <tbody>\n",
       "    <tr>\n",
       "      <td rowspan=\"2\" valign=\"top\">есть ребенок/дети</td>\n",
       "      <td>была задолжность</td>\n",
       "      <td>678</td>\n",
       "      <td>3.16%</td>\n",
       "    </tr>\n",
       "    <tr>\n",
       "      <td>нет задолжностей</td>\n",
       "      <td>6685</td>\n",
       "      <td>31.16%</td>\n",
       "    </tr>\n",
       "    <tr>\n",
       "      <td rowspan=\"2\" valign=\"top\">нет детей</td>\n",
       "      <td>была задолжность</td>\n",
       "      <td>1063</td>\n",
       "      <td>4.95%</td>\n",
       "    </tr>\n",
       "    <tr>\n",
       "      <td>нет задолжностей</td>\n",
       "      <td>13028</td>\n",
       "      <td>60.73%</td>\n",
       "    </tr>\n",
       "  </tbody>\n",
       "</table>\n",
       "</div>"
      ],
      "text/plain": [
       "                                    кол-во клиентов  \\\n",
       "deti              debt                                \n",
       "есть ребенок/дети была задолжность              678   \n",
       "                  нет задолжностей             6685   \n",
       "нет детей         была задолжность             1063   \n",
       "                  нет задолжностей            13028   \n",
       "\n",
       "                                    % от общего кол-ва клиентов  \n",
       "deti              debt                                           \n",
       "есть ребенок/дети была задолжность                        3.16%  \n",
       "                  нет задолжностей                       31.16%  \n",
       "нет детей         была задолжность                        4.95%  \n",
       "                  нет задолжностей                       60.73%  "
      ]
     },
     "execution_count": 59,
     "metadata": {},
     "output_type": "execute_result"
    }
   ],
   "source": [
    "df_deti2 = pd.concat([df_deti,df_deti1], axis =1)\n",
    "#df_deti2.append(df_deti32)\n",
    "#df_deti4 = pd.concat([df_deti,  df_deti32], axis =1)\n",
    "df_deti2.columns= ['кол-во клиентов',  '% от общего кол-ва клиентов']\n",
    "df_deti2"
   ]
  },
  {
   "cell_type": "markdown",
   "metadata": {},
   "source": [
    "**Вывод**\n",
    "\n",
    "Наличие детей сказывается на выплату кредита. Есть задлжности больше у кого есть ребенок"
   ]
  },
  {
   "cell_type": "markdown",
   "metadata": {},
   "source": [
    "- Есть ли зависимость между семейным положением и возвратом кредита в срок?"
   ]
  },
  {
   "cell_type": "code",
   "execution_count": 60,
   "metadata": {
    "scrolled": true
   },
   "outputs": [
    {
     "data": {
      "text/plain": [
       "family_status          debt            \n",
       "в разводе              была задолжность       85\n",
       "                       нет задолжностей     1110\n",
       "вдовец / вдова         была задолжность       63\n",
       "                       нет задолжностей      896\n",
       "гражданский брак       была задолжность      388\n",
       "                       нет задолжностей     3763\n",
       "женат / замужем        была задолжность      931\n",
       "                       нет задолжностей    11408\n",
       "не женат / не замужем  была задолжность      274\n",
       "                       нет задолжностей     2536\n",
       "Name: debt, dtype: int64"
      ]
     },
     "execution_count": 60,
     "metadata": {},
     "output_type": "execute_result"
    }
   ],
   "source": [
    "df_family = df.groupby(['family_status','debt'])['debt'].count()\n",
    "df_family1 = df_family / vse_dolgniki * 100\n",
    "df_family2 = pd.concat([df_family, df_family1], axis =1)\n",
    "df_family2.columns= ['кол-во клиентов',  '% от общего кол-ва клиентов']\n",
    "df_family"
   ]
  },
  {
   "cell_type": "markdown",
   "metadata": {},
   "source": [
    "**Вывод**\n",
    "\n",
    "Неженатые и незамужние люди чаще других задерживают платежку"
   ]
  },
  {
   "cell_type": "markdown",
   "metadata": {},
   "source": [
    "- Есть ли зависимость между уровнем дохода и возвратом кредита в срок?"
   ]
  },
  {
   "cell_type": "code",
   "execution_count": 61,
   "metadata": {},
   "outputs": [
    {
     "data": {
      "text/html": [
       "<div>\n",
       "<style scoped>\n",
       "    .dataframe tbody tr th:only-of-type {\n",
       "        vertical-align: middle;\n",
       "    }\n",
       "\n",
       "    .dataframe tbody tr th {\n",
       "        vertical-align: top;\n",
       "    }\n",
       "\n",
       "    .dataframe thead th {\n",
       "        text-align: right;\n",
       "    }\n",
       "</style>\n",
       "<table border=\"1\" class=\"dataframe\">\n",
       "  <thead>\n",
       "    <tr style=\"text-align: right;\">\n",
       "      <th></th>\n",
       "      <th></th>\n",
       "      <th>кол-во клиентов</th>\n",
       "      <th>% от общего кол-ва клиентов</th>\n",
       "    </tr>\n",
       "    <tr>\n",
       "      <th>level_doxod</th>\n",
       "      <th>debt</th>\n",
       "      <th></th>\n",
       "      <th></th>\n",
       "    </tr>\n",
       "  </thead>\n",
       "  <tbody>\n",
       "    <tr>\n",
       "      <td rowspan=\"2\" valign=\"top\">высокий доход</td>\n",
       "      <td>была задолжность</td>\n",
       "      <td>358</td>\n",
       "      <td>1.67%</td>\n",
       "    </tr>\n",
       "    <tr>\n",
       "      <td>нет задолжностей</td>\n",
       "      <td>4708</td>\n",
       "      <td>21.94%</td>\n",
       "    </tr>\n",
       "    <tr>\n",
       "      <td rowspan=\"2\" valign=\"top\">низкий доход</td>\n",
       "      <td>была задолжность</td>\n",
       "      <td>446</td>\n",
       "      <td>2.08%</td>\n",
       "    </tr>\n",
       "    <tr>\n",
       "      <td>нет задолжностей</td>\n",
       "      <td>5357</td>\n",
       "      <td>24.97%</td>\n",
       "    </tr>\n",
       "    <tr>\n",
       "      <td rowspan=\"2\" valign=\"top\">средний доход</td>\n",
       "      <td>была задолжность</td>\n",
       "      <td>937</td>\n",
       "      <td>4.37%</td>\n",
       "    </tr>\n",
       "    <tr>\n",
       "      <td>нет задолжностей</td>\n",
       "      <td>9648</td>\n",
       "      <td>44.97%</td>\n",
       "    </tr>\n",
       "  </tbody>\n",
       "</table>\n",
       "</div>"
      ],
      "text/plain": [
       "                                кол-во клиентов  % от общего кол-ва клиентов\n",
       "level_doxod   debt                                                          \n",
       "высокий доход была задолжность              358                        1.67%\n",
       "              нет задолжностей             4708                       21.94%\n",
       "низкий доход  была задолжность              446                        2.08%\n",
       "              нет задолжностей             5357                       24.97%\n",
       "средний доход была задолжность              937                        4.37%\n",
       "              нет задолжностей             9648                       44.97%"
      ]
     },
     "execution_count": 61,
     "metadata": {},
     "output_type": "execute_result"
    }
   ],
   "source": [
    "df_dengi = df.groupby(['level_doxod','debt'])['debt'].count()\n",
    "df_dengi1 = df_dengi / vse_dolgniki * 100\n",
    "df_dengi2 = pd.concat([df_dengi, df_dengi1], axis =1)\n",
    "df_dengi2.columns= ['кол-во клиентов',  '% от общего кол-ва клиентов']\n",
    "df_dengi2"
   ]
  },
  {
   "cell_type": "markdown",
   "metadata": {},
   "source": [
    "**Вывод**\n",
    "\n",
    "Клиенты со высоким и низким доходом реже имеют задолжности."
   ]
  },
  {
   "cell_type": "markdown",
   "metadata": {},
   "source": [
    "- Как разные цели кредита влияют на его возврат в срок?"
   ]
  },
  {
   "cell_type": "code",
   "execution_count": 62,
   "metadata": {},
   "outputs": [
    {
     "data": {
      "text/html": [
       "<div>\n",
       "<style scoped>\n",
       "    .dataframe tbody tr th:only-of-type {\n",
       "        vertical-align: middle;\n",
       "    }\n",
       "\n",
       "    .dataframe tbody tr th {\n",
       "        vertical-align: top;\n",
       "    }\n",
       "\n",
       "    .dataframe thead th {\n",
       "        text-align: right;\n",
       "    }\n",
       "</style>\n",
       "<table border=\"1\" class=\"dataframe\">\n",
       "  <thead>\n",
       "    <tr style=\"text-align: right;\">\n",
       "      <th></th>\n",
       "      <th></th>\n",
       "      <th>кол-во клиентов</th>\n",
       "      <th>% от общего кол-ва клиентов</th>\n",
       "    </tr>\n",
       "    <tr>\n",
       "      <th>goal</th>\n",
       "      <th>debt</th>\n",
       "      <th></th>\n",
       "      <th></th>\n",
       "    </tr>\n",
       "  </thead>\n",
       "  <tbody>\n",
       "    <tr>\n",
       "      <td rowspan=\"2\" valign=\"top\">на автомобиль</td>\n",
       "      <td>была задолжность</td>\n",
       "      <td>403</td>\n",
       "      <td>1.88%</td>\n",
       "    </tr>\n",
       "    <tr>\n",
       "      <td>нет задолжностей</td>\n",
       "      <td>3903</td>\n",
       "      <td>18.19%</td>\n",
       "    </tr>\n",
       "    <tr>\n",
       "      <td rowspan=\"2\" valign=\"top\">на недвижимость</td>\n",
       "      <td>была задолжность</td>\n",
       "      <td>782</td>\n",
       "      <td>3.65%</td>\n",
       "    </tr>\n",
       "    <tr>\n",
       "      <td>нет задолжностей</td>\n",
       "      <td>10029</td>\n",
       "      <td>46.75%</td>\n",
       "    </tr>\n",
       "    <tr>\n",
       "      <td rowspan=\"2\" valign=\"top\">на образование</td>\n",
       "      <td>была задолжность</td>\n",
       "      <td>370</td>\n",
       "      <td>1.72%</td>\n",
       "    </tr>\n",
       "    <tr>\n",
       "      <td>нет задолжностей</td>\n",
       "      <td>3643</td>\n",
       "      <td>16.98%</td>\n",
       "    </tr>\n",
       "    <tr>\n",
       "      <td rowspan=\"2\" valign=\"top\">на свадьбу</td>\n",
       "      <td>была задолжность</td>\n",
       "      <td>186</td>\n",
       "      <td>0.87%</td>\n",
       "    </tr>\n",
       "    <tr>\n",
       "      <td>нет задолжностей</td>\n",
       "      <td>2138</td>\n",
       "      <td>9.97%</td>\n",
       "    </tr>\n",
       "  </tbody>\n",
       "</table>\n",
       "</div>"
      ],
      "text/plain": [
       "                                  кол-во клиентов  % от общего кол-ва клиентов\n",
       "goal            debt                                                          \n",
       "на автомобиль   была задолжность              403                        1.88%\n",
       "                нет задолжностей             3903                       18.19%\n",
       "на недвижимость была задолжность              782                        3.65%\n",
       "                нет задолжностей            10029                       46.75%\n",
       "на образование  была задолжность              370                        1.72%\n",
       "                нет задолжностей             3643                       16.98%\n",
       "на свадьбу      была задолжность              186                        0.87%\n",
       "                нет задолжностей             2138                        9.97%"
      ]
     },
     "execution_count": 62,
     "metadata": {},
     "output_type": "execute_result"
    }
   ],
   "source": [
    "df_goal = df.groupby(['goal','debt'])['debt'].count()\n",
    "df_goal1 = df_goal / vse_dolgniki * 100\n",
    "df_goal2 = pd.concat([df_goal, df_goal1], axis =1)\n",
    "df_goal2.columns= ['кол-во клиентов',  '% от общего кол-ва клиентов']\n",
    "df_goal2"
   ]
  },
  {
   "cell_type": "markdown",
   "metadata": {},
   "source": [
    "**Вывод**\n",
    "Клинты, взявшие кредит на недвижимость, реже имеют задолжности чем все остальные."
   ]
  },
  {
   "cell_type": "markdown",
   "metadata": {},
   "source": [
    "<a id=\"conclusion\"></a>\n",
    "##  Общий вывод"
   ]
  },
  {
   "cell_type": "markdown",
   "metadata": {},
   "source": [
    "Полученные от заказчика данные были обработаны, а именно: обработаны пустые ячейки, удалены дубликаты, категоризированы. Самыми порядочными плательщакми оказываюся свободные люди без детей, имеющие низкий или высокий доход, взявшие кредит на недвижимость."
   ]
  }
 ],
 "metadata": {
  "ExecuteTimeLog": [
   {
    "duration": 656,
    "start_time": "2021-10-21T11:09:09.712Z"
   },
   {
    "duration": 63,
    "start_time": "2021-10-21T11:10:30.450Z"
   },
   {
    "duration": 76,
    "start_time": "2021-10-21T11:10:40.245Z"
   },
   {
    "duration": 14,
    "start_time": "2021-10-21T11:26:40.361Z"
   },
   {
    "duration": 18,
    "start_time": "2021-10-21T11:42:58.206Z"
   },
   {
    "duration": 16,
    "start_time": "2021-10-21T11:46:10.437Z"
   },
   {
    "duration": 62,
    "start_time": "2021-10-21T12:11:07.878Z"
   },
   {
    "duration": 15,
    "start_time": "2021-10-21T12:11:07.942Z"
   },
   {
    "duration": 19,
    "start_time": "2021-10-21T12:15:16.694Z"
   },
   {
    "duration": 465,
    "start_time": "2021-10-21T12:16:41.556Z"
   },
   {
    "duration": 8,
    "start_time": "2021-10-21T12:17:09.780Z"
   },
   {
    "duration": 7,
    "start_time": "2021-10-21T12:18:01.915Z"
   },
   {
    "duration": 23,
    "start_time": "2021-10-21T12:18:25.971Z"
   },
   {
    "duration": 23,
    "start_time": "2021-10-21T12:19:15.388Z"
   },
   {
    "duration": 22,
    "start_time": "2021-10-21T12:19:38.933Z"
   },
   {
    "duration": 5,
    "start_time": "2021-10-21T12:22:01.537Z"
   },
   {
    "duration": 6,
    "start_time": "2021-10-21T12:22:55.727Z"
   },
   {
    "duration": 24,
    "start_time": "2021-10-21T13:03:25.156Z"
   },
   {
    "duration": 22,
    "start_time": "2021-10-21T13:03:37.021Z"
   },
   {
    "duration": -37,
    "start_time": "2021-10-21T13:03:53.206Z"
   },
   {
    "duration": 22,
    "start_time": "2021-10-21T13:03:56.625Z"
   },
   {
    "duration": 6,
    "start_time": "2021-10-21T13:04:07.673Z"
   },
   {
    "duration": 24,
    "start_time": "2021-10-21T13:04:12.472Z"
   },
   {
    "duration": 5954,
    "start_time": "2021-10-21T13:06:44.944Z"
   },
   {
    "duration": 5,
    "start_time": "2021-10-21T13:06:52.247Z"
   },
   {
    "duration": 5,
    "start_time": "2021-10-21T13:07:13.742Z"
   },
   {
    "duration": 5,
    "start_time": "2021-10-21T13:07:34.718Z"
   },
   {
    "duration": 5,
    "start_time": "2021-10-21T13:07:59.630Z"
   },
   {
    "duration": 5,
    "start_time": "2021-10-21T13:08:24.478Z"
   },
   {
    "duration": 6,
    "start_time": "2021-10-21T13:10:04.508Z"
   },
   {
    "duration": 6,
    "start_time": "2021-10-21T13:10:59.204Z"
   },
   {
    "duration": 5,
    "start_time": "2021-10-21T13:11:08.204Z"
   },
   {
    "duration": 4,
    "start_time": "2021-10-21T13:12:30.012Z"
   },
   {
    "duration": 5,
    "start_time": "2021-10-21T13:12:37.243Z"
   },
   {
    "duration": 4,
    "start_time": "2021-10-21T13:12:51.195Z"
   },
   {
    "duration": 4,
    "start_time": "2021-10-21T13:12:56.955Z"
   },
   {
    "duration": 298,
    "start_time": "2021-10-21T13:13:40.619Z"
   },
   {
    "duration": 6,
    "start_time": "2021-10-21T13:14:24.730Z"
   },
   {
    "duration": 5,
    "start_time": "2021-10-21T13:18:54.791Z"
   },
   {
    "duration": 6,
    "start_time": "2021-10-21T13:18:59.207Z"
   },
   {
    "duration": 5,
    "start_time": "2021-10-21T13:19:08.214Z"
   },
   {
    "duration": 9,
    "start_time": "2021-10-21T13:25:06.633Z"
   },
   {
    "duration": 8,
    "start_time": "2021-10-21T13:25:17.185Z"
   },
   {
    "duration": 9,
    "start_time": "2021-10-21T13:25:21.416Z"
   },
   {
    "duration": 9,
    "start_time": "2021-10-21T13:25:36.136Z"
   },
   {
    "duration": 14,
    "start_time": "2021-10-21T13:25:56.897Z"
   },
   {
    "duration": 10,
    "start_time": "2021-10-21T13:26:13.024Z"
   },
   {
    "duration": 37,
    "start_time": "2021-10-21T13:27:25.583Z"
   },
   {
    "duration": 11,
    "start_time": "2021-10-21T13:27:34.159Z"
   },
   {
    "duration": 8,
    "start_time": "2021-10-21T13:27:41.824Z"
   },
   {
    "duration": 13,
    "start_time": "2021-10-21T13:27:45.742Z"
   },
   {
    "duration": 10,
    "start_time": "2021-10-21T13:28:41.847Z"
   },
   {
    "duration": 95,
    "start_time": "2021-10-21T13:28:51.702Z"
   },
   {
    "duration": 8,
    "start_time": "2021-10-21T13:28:56.046Z"
   },
   {
    "duration": 8,
    "start_time": "2021-10-21T13:29:07.238Z"
   },
   {
    "duration": 277,
    "start_time": "2021-10-21T13:30:51.197Z"
   },
   {
    "duration": 10,
    "start_time": "2021-10-21T13:30:56.677Z"
   },
   {
    "duration": 7,
    "start_time": "2021-10-21T13:31:10.472Z"
   },
   {
    "duration": 8,
    "start_time": "2021-10-21T13:31:14.428Z"
   },
   {
    "duration": 7,
    "start_time": "2021-10-21T13:31:16.700Z"
   },
   {
    "duration": 11,
    "start_time": "2021-10-21T13:31:19.828Z"
   },
   {
    "duration": 9,
    "start_time": "2021-10-21T13:31:37.516Z"
   },
   {
    "duration": 10,
    "start_time": "2021-10-21T13:31:51.964Z"
   },
   {
    "duration": 11,
    "start_time": "2021-10-21T13:32:07.331Z"
   },
   {
    "duration": 6,
    "start_time": "2021-10-21T13:32:14.652Z"
   },
   {
    "duration": 9,
    "start_time": "2021-10-21T13:32:18.579Z"
   },
   {
    "duration": 9,
    "start_time": "2021-10-21T13:32:34.187Z"
   },
   {
    "duration": 9,
    "start_time": "2021-10-21T13:33:25.739Z"
   },
   {
    "duration": 7,
    "start_time": "2021-10-21T13:34:11.042Z"
   },
   {
    "duration": 7,
    "start_time": "2021-10-21T13:34:22.898Z"
   },
   {
    "duration": 10,
    "start_time": "2021-10-21T13:34:27.482Z"
   },
   {
    "duration": 11,
    "start_time": "2021-10-21T13:35:15.889Z"
   },
   {
    "duration": 8,
    "start_time": "2021-10-21T13:35:29.785Z"
   },
   {
    "duration": 8,
    "start_time": "2021-10-21T13:35:41.601Z"
   },
   {
    "duration": 10,
    "start_time": "2021-10-21T13:37:36.570Z"
   },
   {
    "duration": 10,
    "start_time": "2021-10-21T13:38:15.207Z"
   },
   {
    "duration": 7,
    "start_time": "2021-10-21T13:38:22.494Z"
   },
   {
    "duration": 8,
    "start_time": "2021-10-21T13:40:22.373Z"
   },
   {
    "duration": 7,
    "start_time": "2021-10-21T13:40:29.725Z"
   },
   {
    "duration": 6,
    "start_time": "2021-10-21T13:40:43.222Z"
   },
   {
    "duration": 78,
    "start_time": "2021-10-21T13:40:47.909Z"
   },
   {
    "duration": 7,
    "start_time": "2021-10-21T13:41:00.013Z"
   },
   {
    "duration": 6,
    "start_time": "2021-10-21T13:41:07.701Z"
   },
   {
    "duration": 7,
    "start_time": "2021-10-21T13:41:10.460Z"
   },
   {
    "duration": 7,
    "start_time": "2021-10-21T13:41:13.037Z"
   },
   {
    "duration": 7,
    "start_time": "2021-10-21T13:41:15.668Z"
   },
   {
    "duration": 7,
    "start_time": "2021-10-21T13:41:18.572Z"
   },
   {
    "duration": 24,
    "start_time": "2021-10-21T13:46:55.248Z"
   },
   {
    "duration": 23,
    "start_time": "2021-10-21T13:47:47.476Z"
   },
   {
    "duration": 23,
    "start_time": "2021-10-21T13:48:23.008Z"
   },
   {
    "duration": 24,
    "start_time": "2021-10-21T13:48:30.215Z"
   },
   {
    "duration": 9,
    "start_time": "2021-10-21T13:48:38.113Z"
   },
   {
    "duration": 10,
    "start_time": "2021-10-21T13:48:41.743Z"
   },
   {
    "duration": 12,
    "start_time": "2021-10-21T13:49:00.896Z"
   },
   {
    "duration": 16,
    "start_time": "2021-10-21T13:49:57.031Z"
   },
   {
    "duration": 24,
    "start_time": "2021-10-21T13:50:37.951Z"
   },
   {
    "duration": -44,
    "start_time": "2021-10-21T13:53:41.789Z"
   },
   {
    "duration": -44,
    "start_time": "2021-10-21T13:53:51.462Z"
   },
   {
    "duration": 234,
    "start_time": "2021-10-21T13:53:55.676Z"
   },
   {
    "duration": 239,
    "start_time": "2021-10-21T13:54:20.756Z"
   },
   {
    "duration": 26,
    "start_time": "2021-10-21T13:56:35.162Z"
   },
   {
    "duration": 28,
    "start_time": "2021-10-21T13:56:58.185Z"
   },
   {
    "duration": 15,
    "start_time": "2021-10-21T13:57:03.922Z"
   },
   {
    "duration": 10,
    "start_time": "2021-10-21T13:58:18.641Z"
   },
   {
    "duration": 16,
    "start_time": "2021-10-21T13:58:22.401Z"
   },
   {
    "duration": 816,
    "start_time": "2021-10-22T05:33:41.472Z"
   },
   {
    "duration": 31,
    "start_time": "2021-10-22T05:33:42.290Z"
   },
   {
    "duration": 20,
    "start_time": "2021-10-22T05:33:42.324Z"
   },
   {
    "duration": 7,
    "start_time": "2021-10-22T05:33:42.368Z"
   },
   {
    "duration": 36,
    "start_time": "2021-10-22T05:33:55.536Z"
   },
   {
    "duration": 11,
    "start_time": "2021-10-22T05:38:24.081Z"
   },
   {
    "duration": 11,
    "start_time": "2021-10-22T05:38:41.335Z"
   },
   {
    "duration": 11,
    "start_time": "2021-10-22T05:39:17.527Z"
   },
   {
    "duration": 36,
    "start_time": "2021-10-22T05:39:31.110Z"
   },
   {
    "duration": 18,
    "start_time": "2021-10-22T05:39:48.535Z"
   },
   {
    "duration": 8,
    "start_time": "2021-10-22T05:41:51.164Z"
   },
   {
    "duration": 7,
    "start_time": "2021-10-22T05:42:22.715Z"
   },
   {
    "duration": 6,
    "start_time": "2021-10-22T05:47:12.406Z"
   },
   {
    "duration": 7,
    "start_time": "2021-10-22T05:47:20.088Z"
   },
   {
    "duration": 21,
    "start_time": "2021-10-22T05:47:57.168Z"
   },
   {
    "duration": 36,
    "start_time": "2021-10-22T05:48:13.111Z"
   },
   {
    "duration": 20,
    "start_time": "2021-10-22T05:48:23.319Z"
   },
   {
    "duration": 8,
    "start_time": "2021-10-22T05:48:35.855Z"
   },
   {
    "duration": 6,
    "start_time": "2021-10-22T05:48:43.463Z"
   },
   {
    "duration": 25,
    "start_time": "2021-10-22T05:52:10.764Z"
   },
   {
    "duration": 85,
    "start_time": "2021-10-22T05:52:39.995Z"
   },
   {
    "duration": 19,
    "start_time": "2021-10-22T05:52:47.220Z"
   },
   {
    "duration": 22,
    "start_time": "2021-10-22T05:53:20.532Z"
   },
   {
    "duration": 24,
    "start_time": "2021-10-22T05:54:12.764Z"
   },
   {
    "duration": 5,
    "start_time": "2021-10-22T05:59:19.430Z"
   },
   {
    "duration": 6,
    "start_time": "2021-10-22T05:59:27.255Z"
   },
   {
    "duration": 5,
    "start_time": "2021-10-22T05:59:44.335Z"
   },
   {
    "duration": 7,
    "start_time": "2021-10-22T06:05:57.561Z"
   },
   {
    "duration": 7,
    "start_time": "2021-10-22T06:06:02.554Z"
   },
   {
    "duration": 7,
    "start_time": "2021-10-22T06:06:32.346Z"
   },
   {
    "duration": 9,
    "start_time": "2021-10-22T06:06:51.242Z"
   },
   {
    "duration": 16,
    "start_time": "2021-10-22T06:07:04.714Z"
   },
   {
    "duration": 28,
    "start_time": "2021-10-22T06:07:18.616Z"
   },
   {
    "duration": 7,
    "start_time": "2021-10-22T06:08:23.529Z"
   },
   {
    "duration": 6,
    "start_time": "2021-10-22T06:08:29.920Z"
   },
   {
    "duration": 8,
    "start_time": "2021-10-22T06:08:34.856Z"
   },
   {
    "duration": 27,
    "start_time": "2021-10-22T06:09:17.528Z"
   },
   {
    "duration": 21,
    "start_time": "2021-10-22T06:13:30.612Z"
   },
   {
    "duration": 4,
    "start_time": "2021-10-22T06:15:57.019Z"
   },
   {
    "duration": 58,
    "start_time": "2021-10-22T06:26:09.258Z"
   },
   {
    "duration": 9,
    "start_time": "2021-10-22T06:26:25.115Z"
   },
   {
    "duration": 9,
    "start_time": "2021-10-22T06:27:52.307Z"
   },
   {
    "duration": 76,
    "start_time": "2021-10-22T06:27:59.779Z"
   },
   {
    "duration": 23,
    "start_time": "2021-10-22T06:27:59.858Z"
   },
   {
    "duration": 8,
    "start_time": "2021-10-22T06:27:59.884Z"
   },
   {
    "duration": 18,
    "start_time": "2021-10-22T06:27:59.895Z"
   },
   {
    "duration": 28,
    "start_time": "2021-10-22T06:27:59.916Z"
   },
   {
    "duration": 25,
    "start_time": "2021-10-22T06:27:59.946Z"
   },
   {
    "duration": 827,
    "start_time": "2021-10-22T06:28:06.864Z"
   },
   {
    "duration": 33,
    "start_time": "2021-10-22T06:28:07.694Z"
   },
   {
    "duration": 7,
    "start_time": "2021-10-22T06:28:07.730Z"
   },
   {
    "duration": 7,
    "start_time": "2021-10-22T06:28:07.768Z"
   },
   {
    "duration": 29,
    "start_time": "2021-10-22T06:28:07.778Z"
   },
   {
    "duration": 13,
    "start_time": "2021-10-22T06:28:07.809Z"
   },
   {
    "duration": 49,
    "start_time": "2021-10-22T06:28:07.825Z"
   },
   {
    "duration": 20,
    "start_time": "2021-10-22T06:28:54.962Z"
   },
   {
    "duration": 24,
    "start_time": "2021-10-22T06:29:04.281Z"
   },
   {
    "duration": 14,
    "start_time": "2021-10-22T06:29:33.281Z"
   },
   {
    "duration": 24,
    "start_time": "2021-10-22T06:29:53.522Z"
   },
   {
    "duration": 811,
    "start_time": "2021-10-22T06:30:57.514Z"
   },
   {
    "duration": 42,
    "start_time": "2021-10-22T06:30:58.328Z"
   },
   {
    "duration": 6,
    "start_time": "2021-10-22T06:30:58.373Z"
   },
   {
    "duration": 8,
    "start_time": "2021-10-22T06:30:58.382Z"
   },
   {
    "duration": 26,
    "start_time": "2021-10-22T06:30:58.393Z"
   },
   {
    "duration": 45,
    "start_time": "2021-10-22T06:30:58.422Z"
   },
   {
    "duration": 23,
    "start_time": "2021-10-22T06:30:58.470Z"
   },
   {
    "duration": 15,
    "start_time": "2021-10-22T06:31:42.007Z"
   },
   {
    "duration": 758,
    "start_time": "2021-10-23T08:07:07.413Z"
   },
   {
    "duration": 33,
    "start_time": "2021-10-23T08:07:08.174Z"
   },
   {
    "duration": 10,
    "start_time": "2021-10-23T08:07:08.210Z"
   },
   {
    "duration": 10,
    "start_time": "2021-10-23T08:07:08.224Z"
   },
   {
    "duration": 47,
    "start_time": "2021-10-23T08:07:08.237Z"
   },
   {
    "duration": 6,
    "start_time": "2021-10-23T08:07:08.287Z"
   },
   {
    "duration": 28,
    "start_time": "2021-10-23T08:07:08.296Z"
   },
   {
    "duration": 47,
    "start_time": "2021-10-23T08:07:08.327Z"
   },
   {
    "duration": 7,
    "start_time": "2021-10-23T08:07:08.377Z"
   },
   {
    "duration": 10,
    "start_time": "2021-10-23T08:09:25.585Z"
   },
   {
    "duration": 11,
    "start_time": "2021-10-23T08:09:55.928Z"
   },
   {
    "duration": 10,
    "start_time": "2021-10-23T08:10:42.165Z"
   },
   {
    "duration": 10,
    "start_time": "2021-10-23T08:11:05.793Z"
   },
   {
    "duration": 5,
    "start_time": "2021-10-23T08:16:36.125Z"
   },
   {
    "duration": 22,
    "start_time": "2021-10-23T08:16:54.974Z"
   },
   {
    "duration": 797,
    "start_time": "2021-10-23T08:19:21.016Z"
   },
   {
    "duration": 33,
    "start_time": "2021-10-23T08:19:21.815Z"
   },
   {
    "duration": 8,
    "start_time": "2021-10-23T08:19:21.868Z"
   },
   {
    "duration": 8,
    "start_time": "2021-10-23T08:19:21.879Z"
   },
   {
    "duration": 36,
    "start_time": "2021-10-23T08:19:21.891Z"
   },
   {
    "duration": 44,
    "start_time": "2021-10-23T08:19:21.931Z"
   },
   {
    "duration": 36,
    "start_time": "2021-10-23T08:19:21.979Z"
   },
   {
    "duration": 13,
    "start_time": "2021-10-23T08:19:25.043Z"
   },
   {
    "duration": 11,
    "start_time": "2021-10-23T08:19:31.672Z"
   },
   {
    "duration": 18,
    "start_time": "2021-10-23T08:19:57.023Z"
   },
   {
    "duration": 22,
    "start_time": "2021-10-23T08:21:14.417Z"
   },
   {
    "duration": 36,
    "start_time": "2021-10-23T08:22:41.000Z"
   },
   {
    "duration": 109,
    "start_time": "2021-10-23T08:23:11.815Z"
   },
   {
    "duration": 518,
    "start_time": "2021-10-23T08:23:18.545Z"
   },
   {
    "duration": 320,
    "start_time": "2021-10-23T08:23:27.312Z"
   },
   {
    "duration": 36,
    "start_time": "2021-10-23T08:23:51.382Z"
   },
   {
    "duration": 19,
    "start_time": "2021-10-23T08:24:00.886Z"
   },
   {
    "duration": 15,
    "start_time": "2021-10-23T08:24:13.750Z"
   },
   {
    "duration": 40,
    "start_time": "2021-10-23T08:24:21.310Z"
   },
   {
    "duration": 29,
    "start_time": "2021-10-23T08:24:32.028Z"
   },
   {
    "duration": 88,
    "start_time": "2021-10-23T08:37:43.729Z"
   },
   {
    "duration": 5,
    "start_time": "2021-10-23T08:37:49.189Z"
   },
   {
    "duration": 471,
    "start_time": "2021-10-23T08:38:41.391Z"
   },
   {
    "duration": 527,
    "start_time": "2021-10-23T08:39:53.259Z"
   },
   {
    "duration": 506,
    "start_time": "2021-10-23T08:40:04.851Z"
   },
   {
    "duration": 9,
    "start_time": "2021-10-23T08:41:14.525Z"
   },
   {
    "duration": 597,
    "start_time": "2021-10-23T08:41:19.398Z"
   },
   {
    "duration": 5,
    "start_time": "2021-10-23T08:41:47.267Z"
   },
   {
    "duration": 71,
    "start_time": "2021-10-23T08:43:40.378Z"
   },
   {
    "duration": 8506,
    "start_time": "2021-10-23T08:43:51.522Z"
   },
   {
    "duration": 5,
    "start_time": "2021-10-23T08:44:16.728Z"
   },
   {
    "duration": 560,
    "start_time": "2021-10-23T08:44:18.530Z"
   },
   {
    "duration": 5,
    "start_time": "2021-10-23T08:45:32.721Z"
   },
   {
    "duration": 618,
    "start_time": "2021-10-23T08:45:35.711Z"
   },
   {
    "duration": 634,
    "start_time": "2021-10-23T08:46:06.008Z"
   },
   {
    "duration": 4,
    "start_time": "2021-10-23T08:46:44.713Z"
   },
   {
    "duration": 459,
    "start_time": "2021-10-23T08:46:48.576Z"
   },
   {
    "duration": 902,
    "start_time": "2021-10-23T08:47:12.093Z"
   },
   {
    "duration": 33,
    "start_time": "2021-10-23T08:47:12.998Z"
   },
   {
    "duration": 31,
    "start_time": "2021-10-23T08:47:13.036Z"
   },
   {
    "duration": 7,
    "start_time": "2021-10-23T08:47:13.070Z"
   },
   {
    "duration": 23,
    "start_time": "2021-10-23T08:47:13.080Z"
   },
   {
    "duration": 10,
    "start_time": "2021-10-23T08:47:13.106Z"
   },
   {
    "duration": 61,
    "start_time": "2021-10-23T08:47:13.119Z"
   },
   {
    "duration": 16,
    "start_time": "2021-10-23T08:47:13.183Z"
   },
   {
    "duration": 21,
    "start_time": "2021-10-23T08:47:13.203Z"
   },
   {
    "duration": 56,
    "start_time": "2021-10-23T08:47:13.227Z"
   },
   {
    "duration": 5,
    "start_time": "2021-10-23T08:47:13.286Z"
   },
   {
    "duration": 661,
    "start_time": "2021-10-23T08:47:13.294Z"
   },
   {
    "duration": 610,
    "start_time": "2021-10-23T08:51:31.057Z"
   },
   {
    "duration": 645,
    "start_time": "2021-10-23T08:51:58.168Z"
   },
   {
    "duration": 612,
    "start_time": "2021-10-23T08:52:09.949Z"
   },
   {
    "duration": 6,
    "start_time": "2021-10-23T09:12:41.152Z"
   },
   {
    "duration": 19,
    "start_time": "2021-10-23T09:12:52.310Z"
   },
   {
    "duration": 31,
    "start_time": "2021-10-23T09:13:27.005Z"
   },
   {
    "duration": 22,
    "start_time": "2021-10-23T09:13:39.296Z"
   },
   {
    "duration": 18,
    "start_time": "2021-10-23T09:19:32.844Z"
   },
   {
    "duration": 23,
    "start_time": "2021-10-23T09:21:47.756Z"
   },
   {
    "duration": 87,
    "start_time": "2021-10-23T09:22:58.053Z"
   },
   {
    "duration": 24,
    "start_time": "2021-10-23T09:23:00.958Z"
   },
   {
    "duration": 23,
    "start_time": "2021-10-23T09:23:47.260Z"
   },
   {
    "duration": 22,
    "start_time": "2021-10-23T09:24:16.407Z"
   },
   {
    "duration": 22,
    "start_time": "2021-10-23T09:25:46.552Z"
   },
   {
    "duration": 22,
    "start_time": "2021-10-23T09:25:59.383Z"
   },
   {
    "duration": 356,
    "start_time": "2021-10-23T09:29:51.871Z"
   },
   {
    "duration": 42,
    "start_time": "2021-10-23T09:30:16.452Z"
   },
   {
    "duration": 283,
    "start_time": "2021-10-23T09:30:25.897Z"
   },
   {
    "duration": 83,
    "start_time": "2021-10-23T09:31:49.151Z"
   },
   {
    "duration": 60,
    "start_time": "2021-10-23T09:31:58.483Z"
   },
   {
    "duration": 33,
    "start_time": "2021-10-23T09:32:16.396Z"
   },
   {
    "duration": 48,
    "start_time": "2021-10-23T09:33:51.205Z"
   },
   {
    "duration": 795,
    "start_time": "2021-10-23T09:34:04.597Z"
   },
   {
    "duration": 33,
    "start_time": "2021-10-23T09:34:05.395Z"
   },
   {
    "duration": 6,
    "start_time": "2021-10-23T09:34:05.434Z"
   },
   {
    "duration": 29,
    "start_time": "2021-10-23T09:34:05.442Z"
   },
   {
    "duration": 26,
    "start_time": "2021-10-23T09:34:05.473Z"
   },
   {
    "duration": 7,
    "start_time": "2021-10-23T09:34:05.501Z"
   },
   {
    "duration": 62,
    "start_time": "2021-10-23T09:34:05.512Z"
   },
   {
    "duration": 18,
    "start_time": "2021-10-23T09:34:05.576Z"
   },
   {
    "duration": 24,
    "start_time": "2021-10-23T09:34:05.596Z"
   },
   {
    "duration": 46,
    "start_time": "2021-10-23T09:34:05.622Z"
   },
   {
    "duration": 4,
    "start_time": "2021-10-23T09:34:05.671Z"
   },
   {
    "duration": 624,
    "start_time": "2021-10-23T09:34:05.677Z"
   },
   {
    "duration": 18,
    "start_time": "2021-10-23T09:34:06.303Z"
   },
   {
    "duration": 77,
    "start_time": "2021-10-23T09:34:06.324Z"
   },
   {
    "duration": 33,
    "start_time": "2021-10-23T09:34:06.404Z"
   },
   {
    "duration": 66,
    "start_time": "2021-10-23T09:34:06.439Z"
   },
   {
    "duration": 98,
    "start_time": "2021-10-23T09:34:57.865Z"
   },
   {
    "duration": 47,
    "start_time": "2021-10-23T09:35:02.913Z"
   },
   {
    "duration": 47,
    "start_time": "2021-10-23T09:35:16.945Z"
   },
   {
    "duration": 48,
    "start_time": "2021-10-23T09:35:27.619Z"
   },
   {
    "duration": 43,
    "start_time": "2021-10-23T09:36:34.268Z"
   },
   {
    "duration": 11,
    "start_time": "2021-10-23T09:38:05.204Z"
   },
   {
    "duration": 12,
    "start_time": "2021-10-23T09:38:21.128Z"
   },
   {
    "duration": 12,
    "start_time": "2021-10-23T09:38:58.268Z"
   },
   {
    "duration": 13,
    "start_time": "2021-10-23T09:39:29.653Z"
   },
   {
    "duration": 12,
    "start_time": "2021-10-23T11:27:08.817Z"
   },
   {
    "duration": 23,
    "start_time": "2021-10-23T11:27:58.773Z"
   },
   {
    "duration": 48,
    "start_time": "2021-10-23T11:28:12.548Z"
   },
   {
    "duration": 817,
    "start_time": "2021-10-23T11:28:25.942Z"
   },
   {
    "duration": 38,
    "start_time": "2021-10-23T11:28:26.763Z"
   },
   {
    "duration": 6,
    "start_time": "2021-10-23T11:28:26.804Z"
   },
   {
    "duration": 7,
    "start_time": "2021-10-23T11:28:26.812Z"
   },
   {
    "duration": 53,
    "start_time": "2021-10-23T11:28:26.821Z"
   },
   {
    "duration": 8,
    "start_time": "2021-10-23T11:28:26.878Z"
   },
   {
    "duration": 26,
    "start_time": "2021-10-23T11:28:26.889Z"
   },
   {
    "duration": 52,
    "start_time": "2021-10-23T11:28:26.918Z"
   },
   {
    "duration": 22,
    "start_time": "2021-10-23T11:28:26.972Z"
   },
   {
    "duration": 17,
    "start_time": "2021-10-23T11:28:26.997Z"
   },
   {
    "duration": 4,
    "start_time": "2021-10-23T11:28:27.017Z"
   },
   {
    "duration": 678,
    "start_time": "2021-10-23T11:28:27.023Z"
   },
   {
    "duration": 18,
    "start_time": "2021-10-23T11:28:27.703Z"
   },
   {
    "duration": 81,
    "start_time": "2021-10-23T11:28:27.724Z"
   },
   {
    "duration": 14,
    "start_time": "2021-10-23T11:28:27.807Z"
   },
   {
    "duration": 47,
    "start_time": "2021-10-23T11:28:27.823Z"
   },
   {
    "duration": 13,
    "start_time": "2021-10-23T11:28:27.873Z"
   },
   {
    "duration": 13,
    "start_time": "2021-10-23T11:28:27.890Z"
   },
   {
    "duration": 91,
    "start_time": "2021-10-23T11:28:27.906Z"
   },
   {
    "duration": 337,
    "start_time": "2021-10-23T11:29:38.644Z"
   },
   {
    "duration": 236,
    "start_time": "2021-10-23T11:29:45.708Z"
   },
   {
    "duration": 44,
    "start_time": "2021-10-23T11:30:21.936Z"
   },
   {
    "duration": 831,
    "start_time": "2021-10-23T11:34:55.862Z"
   },
   {
    "duration": 34,
    "start_time": "2021-10-23T11:34:56.696Z"
   },
   {
    "duration": 15,
    "start_time": "2021-10-23T11:34:56.734Z"
   },
   {
    "duration": 23,
    "start_time": "2021-10-23T11:34:56.751Z"
   },
   {
    "duration": 26,
    "start_time": "2021-10-23T11:34:56.777Z"
   },
   {
    "duration": 7,
    "start_time": "2021-10-23T11:34:56.805Z"
   },
   {
    "duration": 59,
    "start_time": "2021-10-23T11:34:56.816Z"
   },
   {
    "duration": 18,
    "start_time": "2021-10-23T11:34:56.878Z"
   },
   {
    "duration": 25,
    "start_time": "2021-10-23T11:34:56.899Z"
   },
   {
    "duration": 48,
    "start_time": "2021-10-23T11:34:56.926Z"
   },
   {
    "duration": 5,
    "start_time": "2021-10-23T11:34:56.977Z"
   },
   {
    "duration": 651,
    "start_time": "2021-10-23T11:34:56.984Z"
   },
   {
    "duration": 14,
    "start_time": "2021-10-23T11:34:57.638Z"
   },
   {
    "duration": 60,
    "start_time": "2021-10-23T11:34:57.667Z"
   },
   {
    "duration": 12,
    "start_time": "2021-10-23T11:34:57.730Z"
   },
   {
    "duration": 31,
    "start_time": "2021-10-23T11:34:57.744Z"
   },
   {
    "duration": 19,
    "start_time": "2021-10-23T11:34:57.778Z"
   },
   {
    "duration": 16,
    "start_time": "2021-10-23T11:34:57.800Z"
   },
   {
    "duration": 89,
    "start_time": "2021-10-23T11:34:57.819Z"
   },
   {
    "duration": 801,
    "start_time": "2021-10-23T11:35:29.287Z"
   },
   {
    "duration": 37,
    "start_time": "2021-10-23T11:35:30.091Z"
   },
   {
    "duration": 36,
    "start_time": "2021-10-23T11:35:30.132Z"
   },
   {
    "duration": 26,
    "start_time": "2021-10-23T11:35:30.172Z"
   },
   {
    "duration": 55,
    "start_time": "2021-10-23T11:35:30.200Z"
   },
   {
    "duration": 12,
    "start_time": "2021-10-23T11:35:30.258Z"
   },
   {
    "duration": 57,
    "start_time": "2021-10-23T11:35:30.272Z"
   },
   {
    "duration": 41,
    "start_time": "2021-10-23T11:35:30.333Z"
   },
   {
    "duration": 46,
    "start_time": "2021-10-23T11:35:30.377Z"
   },
   {
    "duration": 43,
    "start_time": "2021-10-23T11:35:30.425Z"
   },
   {
    "duration": 16,
    "start_time": "2021-10-23T11:35:30.470Z"
   },
   {
    "duration": 647,
    "start_time": "2021-10-23T11:35:30.488Z"
   },
   {
    "duration": 36,
    "start_time": "2021-10-23T11:35:31.137Z"
   },
   {
    "duration": 57,
    "start_time": "2021-10-23T11:35:31.176Z"
   },
   {
    "duration": 11,
    "start_time": "2021-10-23T11:35:31.236Z"
   },
   {
    "duration": 14,
    "start_time": "2021-10-23T11:35:31.268Z"
   },
   {
    "duration": 15,
    "start_time": "2021-10-23T11:35:31.284Z"
   },
   {
    "duration": 16,
    "start_time": "2021-10-23T11:35:31.302Z"
   },
   {
    "duration": 92,
    "start_time": "2021-10-23T11:35:31.320Z"
   },
   {
    "duration": 57,
    "start_time": "2021-10-23T11:36:56.703Z"
   },
   {
    "duration": 789,
    "start_time": "2021-10-23T11:37:24.370Z"
   },
   {
    "duration": 33,
    "start_time": "2021-10-23T11:37:25.161Z"
   },
   {
    "duration": 6,
    "start_time": "2021-10-23T11:37:25.197Z"
   },
   {
    "duration": 10,
    "start_time": "2021-10-23T11:37:25.205Z"
   },
   {
    "duration": 48,
    "start_time": "2021-10-23T11:37:25.218Z"
   },
   {
    "duration": 6,
    "start_time": "2021-10-23T11:37:25.269Z"
   },
   {
    "duration": 23,
    "start_time": "2021-10-23T11:37:25.278Z"
   },
   {
    "duration": 16,
    "start_time": "2021-10-23T11:37:25.304Z"
   },
   {
    "duration": 55,
    "start_time": "2021-10-23T11:37:25.324Z"
   },
   {
    "duration": 18,
    "start_time": "2021-10-23T11:37:25.382Z"
   },
   {
    "duration": 6,
    "start_time": "2021-10-23T11:37:25.402Z"
   },
   {
    "duration": 650,
    "start_time": "2021-10-23T11:37:25.411Z"
   },
   {
    "duration": 19,
    "start_time": "2021-10-23T11:37:26.067Z"
   },
   {
    "duration": 79,
    "start_time": "2021-10-23T11:37:26.089Z"
   },
   {
    "duration": 19,
    "start_time": "2021-10-23T11:37:26.170Z"
   },
   {
    "duration": 13,
    "start_time": "2021-10-23T11:37:26.191Z"
   },
   {
    "duration": 17,
    "start_time": "2021-10-23T11:37:26.207Z"
   },
   {
    "duration": 14,
    "start_time": "2021-10-23T11:37:26.226Z"
   },
   {
    "duration": 71,
    "start_time": "2021-10-23T11:37:26.242Z"
   },
   {
    "duration": 46,
    "start_time": "2021-10-23T11:37:47.763Z"
   },
   {
    "duration": 54,
    "start_time": "2021-10-23T11:38:50.052Z"
   },
   {
    "duration": 23,
    "start_time": "2021-10-23T11:39:27.699Z"
   },
   {
    "duration": 803,
    "start_time": "2021-10-23T11:39:39.903Z"
   },
   {
    "duration": 33,
    "start_time": "2021-10-23T11:39:40.709Z"
   },
   {
    "duration": 23,
    "start_time": "2021-10-23T11:39:40.745Z"
   },
   {
    "duration": 8,
    "start_time": "2021-10-23T11:39:40.771Z"
   },
   {
    "duration": 23,
    "start_time": "2021-10-23T11:39:40.781Z"
   },
   {
    "duration": 12,
    "start_time": "2021-10-23T11:39:40.807Z"
   },
   {
    "duration": 56,
    "start_time": "2021-10-23T11:39:40.821Z"
   },
   {
    "duration": 17,
    "start_time": "2021-10-23T11:39:40.879Z"
   },
   {
    "duration": 22,
    "start_time": "2021-10-23T11:39:40.900Z"
   },
   {
    "duration": 51,
    "start_time": "2021-10-23T11:39:40.925Z"
   },
   {
    "duration": 5,
    "start_time": "2021-10-23T11:39:40.978Z"
   },
   {
    "duration": 624,
    "start_time": "2021-10-23T11:39:40.986Z"
   },
   {
    "duration": 19,
    "start_time": "2021-10-23T11:39:41.612Z"
   },
   {
    "duration": 81,
    "start_time": "2021-10-23T11:39:41.634Z"
   },
   {
    "duration": 12,
    "start_time": "2021-10-23T11:39:41.717Z"
   },
   {
    "duration": 21,
    "start_time": "2021-10-23T11:39:41.731Z"
   },
   {
    "duration": 12,
    "start_time": "2021-10-23T11:39:41.768Z"
   },
   {
    "duration": 13,
    "start_time": "2021-10-23T11:39:41.782Z"
   },
   {
    "duration": 43,
    "start_time": "2021-10-23T11:39:41.797Z"
   },
   {
    "duration": 49,
    "start_time": "2021-10-23T11:39:41.867Z"
   },
   {
    "duration": 10,
    "start_time": "2021-10-23T11:40:32.957Z"
   },
   {
    "duration": 9,
    "start_time": "2021-10-23T11:41:55.237Z"
   },
   {
    "duration": 8,
    "start_time": "2021-10-23T11:42:17.880Z"
   },
   {
    "duration": 8,
    "start_time": "2021-10-23T11:42:29.668Z"
   },
   {
    "duration": 8,
    "start_time": "2021-10-23T11:42:44.932Z"
   },
   {
    "duration": 8,
    "start_time": "2021-10-23T11:43:01.207Z"
   },
   {
    "duration": 353,
    "start_time": "2021-10-23T11:50:34.091Z"
   },
   {
    "duration": 5,
    "start_time": "2021-10-23T11:50:53.382Z"
   },
   {
    "duration": 241,
    "start_time": "2021-10-23T11:51:02.932Z"
   },
   {
    "duration": 216,
    "start_time": "2021-10-23T11:51:43.216Z"
   },
   {
    "duration": 3,
    "start_time": "2021-10-23T11:54:43.190Z"
   },
   {
    "duration": 11,
    "start_time": "2021-10-23T11:55:03.962Z"
   },
   {
    "duration": 9,
    "start_time": "2021-10-23T11:55:15.474Z"
   },
   {
    "duration": 30,
    "start_time": "2021-10-23T11:55:30.787Z"
   },
   {
    "duration": 64,
    "start_time": "2021-10-23T11:56:24.689Z"
   },
   {
    "duration": 3,
    "start_time": "2021-10-23T11:56:45.084Z"
   },
   {
    "duration": 12,
    "start_time": "2021-10-23T11:56:46.826Z"
   },
   {
    "duration": 11,
    "start_time": "2021-10-23T11:56:50.024Z"
   },
   {
    "duration": 30,
    "start_time": "2021-10-23T11:56:51.426Z"
   },
   {
    "duration": 839,
    "start_time": "2021-10-23T11:57:03.931Z"
   },
   {
    "duration": 32,
    "start_time": "2021-10-23T11:57:04.773Z"
   },
   {
    "duration": 6,
    "start_time": "2021-10-23T11:57:04.808Z"
   },
   {
    "duration": 7,
    "start_time": "2021-10-23T11:57:04.816Z"
   },
   {
    "duration": 56,
    "start_time": "2021-10-23T11:57:04.825Z"
   },
   {
    "duration": 11,
    "start_time": "2021-10-23T11:57:04.883Z"
   },
   {
    "duration": 25,
    "start_time": "2021-10-23T11:57:04.896Z"
   },
   {
    "duration": 44,
    "start_time": "2021-10-23T11:57:04.925Z"
   },
   {
    "duration": 22,
    "start_time": "2021-10-23T11:57:04.973Z"
   },
   {
    "duration": 19,
    "start_time": "2021-10-23T11:57:04.998Z"
   },
   {
    "duration": 7,
    "start_time": "2021-10-23T11:57:05.020Z"
   },
   {
    "duration": 718,
    "start_time": "2021-10-23T11:57:05.067Z"
   },
   {
    "duration": 19,
    "start_time": "2021-10-23T11:57:05.787Z"
   },
   {
    "duration": 84,
    "start_time": "2021-10-23T11:57:05.809Z"
   },
   {
    "duration": 14,
    "start_time": "2021-10-23T11:57:05.896Z"
   },
   {
    "duration": 10,
    "start_time": "2021-10-23T11:57:05.913Z"
   },
   {
    "duration": 41,
    "start_time": "2021-10-23T11:57:05.926Z"
   },
   {
    "duration": 5,
    "start_time": "2021-10-23T11:57:05.971Z"
   },
   {
    "duration": 12,
    "start_time": "2021-10-23T11:57:05.979Z"
   },
   {
    "duration": 33,
    "start_time": "2021-10-23T11:57:05.994Z"
   },
   {
    "duration": 14,
    "start_time": "2021-10-23T11:57:06.067Z"
   },
   {
    "duration": 19,
    "start_time": "2021-10-23T11:57:06.084Z"
   },
   {
    "duration": 16,
    "start_time": "2021-10-23T11:57:06.106Z"
   },
   {
    "duration": 77,
    "start_time": "2021-10-23T11:57:06.124Z"
   },
   {
    "duration": 66,
    "start_time": "2021-10-23T11:57:06.203Z"
   },
   {
    "duration": 827,
    "start_time": "2021-10-23T11:58:27.559Z"
   },
   {
    "duration": 33,
    "start_time": "2021-10-23T11:58:28.389Z"
   },
   {
    "duration": 10,
    "start_time": "2021-10-23T11:58:28.425Z"
   },
   {
    "duration": 31,
    "start_time": "2021-10-23T11:58:28.438Z"
   },
   {
    "duration": 38,
    "start_time": "2021-10-23T11:58:28.472Z"
   },
   {
    "duration": 8,
    "start_time": "2021-10-23T11:58:28.513Z"
   },
   {
    "duration": 51,
    "start_time": "2021-10-23T11:58:28.524Z"
   },
   {
    "duration": 19,
    "start_time": "2021-10-23T11:58:28.577Z"
   },
   {
    "duration": 31,
    "start_time": "2021-10-23T11:58:28.600Z"
   },
   {
    "duration": 41,
    "start_time": "2021-10-23T11:58:28.634Z"
   },
   {
    "duration": 9,
    "start_time": "2021-10-23T11:58:28.677Z"
   },
   {
    "duration": 643,
    "start_time": "2021-10-23T11:58:28.688Z"
   },
   {
    "duration": 19,
    "start_time": "2021-10-23T11:58:29.333Z"
   },
   {
    "duration": 59,
    "start_time": "2021-10-23T11:58:29.366Z"
   },
   {
    "duration": 11,
    "start_time": "2021-10-23T11:58:29.428Z"
   },
   {
    "duration": 32,
    "start_time": "2021-10-23T11:58:29.441Z"
   },
   {
    "duration": 11,
    "start_time": "2021-10-23T11:58:29.475Z"
   },
   {
    "duration": 14,
    "start_time": "2021-10-23T11:58:29.488Z"
   },
   {
    "duration": 18,
    "start_time": "2021-10-23T11:58:29.504Z"
   },
   {
    "duration": 46,
    "start_time": "2021-10-23T11:58:29.524Z"
   },
   {
    "duration": 11,
    "start_time": "2021-10-23T11:58:29.572Z"
   },
   {
    "duration": 15,
    "start_time": "2021-10-23T11:58:29.585Z"
   },
   {
    "duration": 21,
    "start_time": "2021-10-23T11:58:29.602Z"
   },
   {
    "duration": 58,
    "start_time": "2021-10-23T11:58:29.625Z"
   },
   {
    "duration": 44,
    "start_time": "2021-10-23T11:58:29.685Z"
   },
   {
    "duration": 9,
    "start_time": "2021-10-23T11:59:01.978Z"
   },
   {
    "duration": 4,
    "start_time": "2021-10-23T12:01:18.443Z"
   },
   {
    "duration": 12,
    "start_time": "2021-10-23T12:01:20.641Z"
   },
   {
    "duration": 9,
    "start_time": "2021-10-23T12:01:22.383Z"
   },
   {
    "duration": 831,
    "start_time": "2021-10-23T12:02:01.175Z"
   },
   {
    "duration": 34,
    "start_time": "2021-10-23T12:02:02.009Z"
   },
   {
    "duration": 25,
    "start_time": "2021-10-23T12:02:02.047Z"
   },
   {
    "duration": 24,
    "start_time": "2021-10-23T12:02:02.075Z"
   },
   {
    "duration": 39,
    "start_time": "2021-10-23T12:02:02.102Z"
   },
   {
    "duration": 11,
    "start_time": "2021-10-23T12:02:02.143Z"
   },
   {
    "duration": 34,
    "start_time": "2021-10-23T12:02:02.157Z"
   },
   {
    "duration": 18,
    "start_time": "2021-10-23T12:02:02.195Z"
   },
   {
    "duration": 52,
    "start_time": "2021-10-23T12:02:02.217Z"
   },
   {
    "duration": 20,
    "start_time": "2021-10-23T12:02:02.271Z"
   },
   {
    "duration": 15,
    "start_time": "2021-10-23T12:02:02.293Z"
   },
   {
    "duration": 639,
    "start_time": "2021-10-23T12:02:02.311Z"
   },
   {
    "duration": 30,
    "start_time": "2021-10-23T12:02:02.953Z"
   },
   {
    "duration": 58,
    "start_time": "2021-10-23T12:02:02.985Z"
   },
   {
    "duration": 28,
    "start_time": "2021-10-23T12:02:03.046Z"
   },
   {
    "duration": 33,
    "start_time": "2021-10-23T12:02:03.076Z"
   },
   {
    "duration": 27,
    "start_time": "2021-10-23T12:02:03.111Z"
   },
   {
    "duration": 35,
    "start_time": "2021-10-23T12:02:03.140Z"
   },
   {
    "duration": 31,
    "start_time": "2021-10-23T12:02:03.177Z"
   },
   {
    "duration": 31,
    "start_time": "2021-10-23T12:02:03.210Z"
   },
   {
    "duration": 38,
    "start_time": "2021-10-23T12:02:03.243Z"
   },
   {
    "duration": 47,
    "start_time": "2021-10-23T12:02:03.283Z"
   },
   {
    "duration": 31,
    "start_time": "2021-10-23T12:02:03.335Z"
   },
   {
    "duration": 55,
    "start_time": "2021-10-23T12:02:03.368Z"
   },
   {
    "duration": 61,
    "start_time": "2021-10-23T12:02:03.426Z"
   },
   {
    "duration": 81,
    "start_time": "2021-10-23T12:12:20.497Z"
   },
   {
    "duration": 363,
    "start_time": "2021-10-23T12:13:26.632Z"
   },
   {
    "duration": 269,
    "start_time": "2021-10-23T12:13:54.283Z"
   },
   {
    "duration": 1234,
    "start_time": "2021-10-23T12:14:18.428Z"
   },
   {
    "duration": 272,
    "start_time": "2021-10-23T12:14:36.915Z"
   },
   {
    "duration": 1045,
    "start_time": "2021-10-23T12:16:22.864Z"
   },
   {
    "duration": 755,
    "start_time": "2021-10-23T12:19:50.201Z"
   },
   {
    "duration": 35,
    "start_time": "2021-10-23T12:19:50.960Z"
   },
   {
    "duration": 12,
    "start_time": "2021-10-23T12:19:50.999Z"
   },
   {
    "duration": 11,
    "start_time": "2021-10-23T12:19:51.014Z"
   },
   {
    "duration": 53,
    "start_time": "2021-10-23T12:19:51.027Z"
   },
   {
    "duration": 10,
    "start_time": "2021-10-23T12:19:51.082Z"
   },
   {
    "duration": 23,
    "start_time": "2021-10-23T12:19:51.095Z"
   },
   {
    "duration": 46,
    "start_time": "2021-10-23T12:19:51.123Z"
   },
   {
    "duration": 30,
    "start_time": "2021-10-23T12:19:51.172Z"
   },
   {
    "duration": 27,
    "start_time": "2021-10-23T12:19:51.204Z"
   },
   {
    "duration": 5,
    "start_time": "2021-10-23T12:19:51.234Z"
   },
   {
    "duration": 650,
    "start_time": "2021-10-23T12:19:51.241Z"
   },
   {
    "duration": 18,
    "start_time": "2021-10-23T12:19:51.893Z"
   },
   {
    "duration": 75,
    "start_time": "2021-10-23T12:19:51.914Z"
   },
   {
    "duration": 14,
    "start_time": "2021-10-23T12:19:51.992Z"
   },
   {
    "duration": 10,
    "start_time": "2021-10-23T12:19:52.008Z"
   },
   {
    "duration": 4,
    "start_time": "2021-10-23T12:19:52.021Z"
   },
   {
    "duration": 39,
    "start_time": "2021-10-23T12:19:52.028Z"
   },
   {
    "duration": 1304,
    "start_time": "2021-10-23T12:19:52.070Z"
   },
   {
    "duration": 137,
    "start_time": "2021-10-23T12:19:53.240Z"
   },
   {
    "duration": 137,
    "start_time": "2021-10-23T12:19:53.242Z"
   },
   {
    "duration": 135,
    "start_time": "2021-10-23T12:19:53.245Z"
   },
   {
    "duration": 134,
    "start_time": "2021-10-23T12:19:53.248Z"
   },
   {
    "duration": 128,
    "start_time": "2021-10-23T12:19:53.256Z"
   },
   {
    "duration": 125,
    "start_time": "2021-10-23T12:19:53.260Z"
   },
   {
    "duration": 123,
    "start_time": "2021-10-23T12:19:53.264Z"
   },
   {
    "duration": 121,
    "start_time": "2021-10-23T12:19:53.267Z"
   },
   {
    "duration": 8,
    "start_time": "2021-10-23T12:20:00.405Z"
   },
   {
    "duration": 15,
    "start_time": "2021-10-23T12:20:02.025Z"
   },
   {
    "duration": 15,
    "start_time": "2021-10-23T12:20:03.065Z"
   },
   {
    "duration": 16,
    "start_time": "2021-10-23T12:20:03.584Z"
   },
   {
    "duration": 34,
    "start_time": "2021-10-23T12:20:06.053Z"
   },
   {
    "duration": 47,
    "start_time": "2021-10-23T12:20:06.755Z"
   },
   {
    "duration": 3,
    "start_time": "2021-10-23T12:20:09.953Z"
   },
   {
    "duration": 4547,
    "start_time": "2021-10-23T12:20:11.401Z"
   },
   {
    "duration": 3582,
    "start_time": "2021-10-23T12:20:25.816Z"
   },
   {
    "duration": 3793,
    "start_time": "2021-10-23T12:21:06.076Z"
   },
   {
    "duration": 3659,
    "start_time": "2021-10-23T12:24:48.486Z"
   },
   {
    "duration": 5,
    "start_time": "2021-10-23T13:33:35.975Z"
   },
   {
    "duration": 15,
    "start_time": "2021-10-23T13:33:37.219Z"
   },
   {
    "duration": 8,
    "start_time": "2021-10-23T13:33:41.227Z"
   },
   {
    "duration": 5,
    "start_time": "2021-10-23T13:37:46.172Z"
   },
   {
    "duration": 11,
    "start_time": "2021-10-23T13:39:32.480Z"
   },
   {
    "duration": 6,
    "start_time": "2021-10-23T13:39:44.600Z"
   },
   {
    "duration": 6,
    "start_time": "2021-10-23T13:40:00.789Z"
   },
   {
    "duration": 8,
    "start_time": "2021-10-23T13:42:27.945Z"
   },
   {
    "duration": 4,
    "start_time": "2021-10-23T13:47:23.377Z"
   },
   {
    "duration": 5,
    "start_time": "2021-10-23T13:55:28.106Z"
   },
   {
    "duration": 5,
    "start_time": "2021-10-23T13:56:37.555Z"
   },
   {
    "duration": 61,
    "start_time": "2021-10-23T13:56:38.665Z"
   },
   {
    "duration": 5,
    "start_time": "2021-10-23T13:57:38.245Z"
   },
   {
    "duration": 817,
    "start_time": "2021-10-23T13:57:44.306Z"
   },
   {
    "duration": 43,
    "start_time": "2021-10-23T13:57:45.126Z"
   },
   {
    "duration": 9,
    "start_time": "2021-10-23T13:57:45.173Z"
   },
   {
    "duration": 8,
    "start_time": "2021-10-23T13:57:45.185Z"
   },
   {
    "duration": 25,
    "start_time": "2021-10-23T13:57:45.195Z"
   },
   {
    "duration": 45,
    "start_time": "2021-10-23T13:57:45.222Z"
   },
   {
    "duration": 25,
    "start_time": "2021-10-23T13:57:45.270Z"
   },
   {
    "duration": 17,
    "start_time": "2021-10-23T13:57:45.299Z"
   },
   {
    "duration": 63,
    "start_time": "2021-10-23T13:57:45.319Z"
   },
   {
    "duration": 21,
    "start_time": "2021-10-23T13:57:45.385Z"
   },
   {
    "duration": 8,
    "start_time": "2021-10-23T13:57:45.408Z"
   },
   {
    "duration": 718,
    "start_time": "2021-10-23T13:57:45.419Z"
   },
   {
    "duration": 31,
    "start_time": "2021-10-23T13:57:46.140Z"
   },
   {
    "duration": 62,
    "start_time": "2021-10-23T13:57:46.174Z"
   },
   {
    "duration": 31,
    "start_time": "2021-10-23T13:57:46.238Z"
   },
   {
    "duration": 8,
    "start_time": "2021-10-23T13:57:46.272Z"
   },
   {
    "duration": 6,
    "start_time": "2021-10-23T13:57:46.283Z"
   },
   {
    "duration": 6,
    "start_time": "2021-10-23T13:57:46.292Z"
   },
   {
    "duration": 21,
    "start_time": "2021-10-23T13:57:46.300Z"
   },
   {
    "duration": 9,
    "start_time": "2021-10-23T13:57:46.367Z"
   },
   {
    "duration": 12,
    "start_time": "2021-10-23T13:57:46.379Z"
   },
   {
    "duration": 19,
    "start_time": "2021-10-23T13:57:46.394Z"
   },
   {
    "duration": 13,
    "start_time": "2021-10-23T13:57:46.417Z"
   },
   {
    "duration": 83,
    "start_time": "2021-10-23T13:57:46.432Z"
   },
   {
    "duration": 81,
    "start_time": "2021-10-23T13:57:46.518Z"
   },
   {
    "duration": 3,
    "start_time": "2021-10-23T13:57:46.601Z"
   },
   {
    "duration": 4963,
    "start_time": "2021-10-23T13:57:46.607Z"
   },
   {
    "duration": 5,
    "start_time": "2021-10-23T13:57:51.573Z"
   },
   {
    "duration": 9,
    "start_time": "2021-10-23T13:57:51.580Z"
   },
   {
    "duration": 14,
    "start_time": "2021-10-23T13:57:51.592Z"
   },
   {
    "duration": 13,
    "start_time": "2021-10-23T13:57:51.608Z"
   },
   {
    "duration": 5,
    "start_time": "2021-10-23T13:57:51.624Z"
   },
   {
    "duration": 38,
    "start_time": "2021-10-23T13:57:51.631Z"
   },
   {
    "duration": 60,
    "start_time": "2021-10-23T13:57:51.673Z"
   },
   {
    "duration": 4,
    "start_time": "2021-10-23T14:01:29.661Z"
   },
   {
    "duration": 54,
    "start_time": "2021-10-23T14:01:33.145Z"
   },
   {
    "duration": 4,
    "start_time": "2021-10-23T14:02:34.394Z"
   },
   {
    "duration": 56,
    "start_time": "2021-10-23T14:02:37.288Z"
   },
   {
    "duration": 41,
    "start_time": "2021-10-23T14:03:11.981Z"
   },
   {
    "duration": 4,
    "start_time": "2021-10-23T14:05:36.440Z"
   },
   {
    "duration": 26,
    "start_time": "2021-10-23T14:05:37.745Z"
   },
   {
    "duration": 5,
    "start_time": "2021-10-23T14:05:56.384Z"
   },
   {
    "duration": 38,
    "start_time": "2021-10-23T14:05:57.270Z"
   },
   {
    "duration": 4,
    "start_time": "2021-10-23T14:08:18.869Z"
   },
   {
    "duration": 42,
    "start_time": "2021-10-23T14:08:27.039Z"
   },
   {
    "duration": 5,
    "start_time": "2021-10-23T14:09:28.619Z"
   },
   {
    "duration": 25,
    "start_time": "2021-10-23T14:09:29.498Z"
   },
   {
    "duration": 5,
    "start_time": "2021-10-23T14:10:40.413Z"
   },
   {
    "duration": 41,
    "start_time": "2021-10-23T14:10:41.203Z"
   },
   {
    "duration": 19,
    "start_time": "2021-10-23T14:12:09.296Z"
   },
   {
    "duration": 4,
    "start_time": "2021-10-23T14:12:42.765Z"
   },
   {
    "duration": 25,
    "start_time": "2021-10-23T14:12:43.499Z"
   },
   {
    "duration": 48,
    "start_time": "2021-10-23T14:12:49.070Z"
   },
   {
    "duration": 20,
    "start_time": "2021-10-23T14:13:01.537Z"
   },
   {
    "duration": 16,
    "start_time": "2021-10-23T14:13:12.708Z"
   },
   {
    "duration": 793,
    "start_time": "2021-10-23T14:13:38.989Z"
   },
   {
    "duration": 34,
    "start_time": "2021-10-23T14:13:39.785Z"
   },
   {
    "duration": 6,
    "start_time": "2021-10-23T14:13:39.822Z"
   },
   {
    "duration": 9,
    "start_time": "2021-10-23T14:13:39.831Z"
   },
   {
    "duration": 23,
    "start_time": "2021-10-23T14:13:39.868Z"
   },
   {
    "duration": 14,
    "start_time": "2021-10-23T14:13:39.893Z"
   },
   {
    "duration": 31,
    "start_time": "2021-10-23T14:13:39.909Z"
   },
   {
    "duration": 37,
    "start_time": "2021-10-23T14:13:39.944Z"
   },
   {
    "duration": 22,
    "start_time": "2021-10-23T14:13:39.985Z"
   },
   {
    "duration": 18,
    "start_time": "2021-10-23T14:13:40.010Z"
   },
   {
    "duration": 37,
    "start_time": "2021-10-23T14:13:40.030Z"
   },
   {
    "duration": 623,
    "start_time": "2021-10-23T14:13:40.070Z"
   },
   {
    "duration": 19,
    "start_time": "2021-10-23T14:13:40.695Z"
   },
   {
    "duration": 79,
    "start_time": "2021-10-23T14:13:40.716Z"
   },
   {
    "duration": 11,
    "start_time": "2021-10-23T14:13:40.797Z"
   },
   {
    "duration": 9,
    "start_time": "2021-10-23T14:13:40.811Z"
   },
   {
    "duration": 4,
    "start_time": "2021-10-23T14:13:40.823Z"
   },
   {
    "duration": 6,
    "start_time": "2021-10-23T14:13:40.830Z"
   },
   {
    "duration": 18,
    "start_time": "2021-10-23T14:13:40.868Z"
   },
   {
    "duration": 10,
    "start_time": "2021-10-23T14:13:40.889Z"
   },
   {
    "duration": 11,
    "start_time": "2021-10-23T14:13:40.901Z"
   },
   {
    "duration": 11,
    "start_time": "2021-10-23T14:13:40.914Z"
   },
   {
    "duration": 13,
    "start_time": "2021-10-23T14:13:40.967Z"
   },
   {
    "duration": 42,
    "start_time": "2021-10-23T14:13:40.982Z"
   },
   {
    "duration": 74,
    "start_time": "2021-10-23T14:13:41.026Z"
   },
   {
    "duration": 3,
    "start_time": "2021-10-23T14:13:41.102Z"
   },
   {
    "duration": 4572,
    "start_time": "2021-10-23T14:13:41.108Z"
   },
   {
    "duration": 4,
    "start_time": "2021-10-23T14:13:45.682Z"
   },
   {
    "duration": 9,
    "start_time": "2021-10-23T14:13:45.690Z"
   },
   {
    "duration": 7,
    "start_time": "2021-10-23T14:13:45.701Z"
   },
   {
    "duration": 7,
    "start_time": "2021-10-23T14:13:45.711Z"
   },
   {
    "duration": 45,
    "start_time": "2021-10-23T14:13:45.721Z"
   },
   {
    "duration": 21,
    "start_time": "2021-10-23T14:13:45.769Z"
   },
   {
    "duration": 6,
    "start_time": "2021-10-23T14:13:45.792Z"
   },
   {
    "duration": 69,
    "start_time": "2021-10-23T14:13:45.801Z"
   },
   {
    "duration": 4,
    "start_time": "2021-10-23T14:14:55.561Z"
   },
   {
    "duration": 26,
    "start_time": "2021-10-23T14:14:56.549Z"
   },
   {
    "duration": 4,
    "start_time": "2021-10-23T14:16:50.673Z"
   },
   {
    "duration": 5,
    "start_time": "2021-10-23T14:18:14.797Z"
   },
   {
    "duration": 21,
    "start_time": "2021-10-23T14:18:15.692Z"
   },
   {
    "duration": 4,
    "start_time": "2021-10-23T14:18:56.534Z"
   },
   {
    "duration": 19,
    "start_time": "2021-10-23T14:18:57.092Z"
   },
   {
    "duration": 5,
    "start_time": "2021-10-23T14:19:16.248Z"
   },
   {
    "duration": 20,
    "start_time": "2021-10-23T14:19:17.321Z"
   },
   {
    "duration": 30,
    "start_time": "2021-10-23T14:19:56.535Z"
   },
   {
    "duration": 5,
    "start_time": "2021-10-23T14:20:20.992Z"
   },
   {
    "duration": 24,
    "start_time": "2021-10-23T14:20:21.657Z"
   },
   {
    "duration": 4,
    "start_time": "2021-10-23T14:21:28.519Z"
   },
   {
    "duration": 39,
    "start_time": "2021-10-23T14:21:29.094Z"
   },
   {
    "duration": 4,
    "start_time": "2021-10-23T14:23:06.963Z"
   },
   {
    "duration": 6471,
    "start_time": "2021-10-23T14:23:07.424Z"
   },
   {
    "duration": 1833,
    "start_time": "2021-10-23T14:23:18.156Z"
   },
   {
    "duration": 372,
    "start_time": "2021-10-23T14:27:18.506Z"
   },
   {
    "duration": 20,
    "start_time": "2021-10-23T14:42:58.496Z"
   },
   {
    "duration": 368,
    "start_time": "2021-10-23T14:45:09.699Z"
   },
   {
    "duration": 7,
    "start_time": "2021-10-23T14:45:36.023Z"
   },
   {
    "duration": 10,
    "start_time": "2021-10-23T14:45:55.518Z"
   },
   {
    "duration": 11,
    "start_time": "2021-10-23T14:46:04.010Z"
   },
   {
    "duration": 10,
    "start_time": "2021-10-23T14:54:57.198Z"
   },
   {
    "duration": 274,
    "start_time": "2021-10-23T14:57:34.568Z"
   },
   {
    "duration": 266,
    "start_time": "2021-10-23T14:57:42.263Z"
   },
   {
    "duration": 251,
    "start_time": "2021-10-23T14:58:05.762Z"
   },
   {
    "duration": 236,
    "start_time": "2021-10-23T14:59:04.923Z"
   },
   {
    "duration": 324,
    "start_time": "2021-10-23T14:59:09.583Z"
   },
   {
    "duration": 25,
    "start_time": "2021-10-23T14:59:15.121Z"
   },
   {
    "duration": 11,
    "start_time": "2021-10-23T15:00:04.116Z"
   },
   {
    "duration": 10,
    "start_time": "2021-10-23T15:00:26.564Z"
   },
   {
    "duration": 13,
    "start_time": "2021-10-23T15:00:31.838Z"
   },
   {
    "duration": 30,
    "start_time": "2021-10-23T15:08:39.917Z"
   },
   {
    "duration": 25,
    "start_time": "2021-10-23T15:09:07.094Z"
   },
   {
    "duration": 16,
    "start_time": "2021-10-23T15:09:30.578Z"
   },
   {
    "duration": 10,
    "start_time": "2021-10-23T15:10:24.697Z"
   },
   {
    "duration": 12,
    "start_time": "2021-10-23T15:13:11.214Z"
   },
   {
    "duration": 296,
    "start_time": "2021-10-23T15:15:36.611Z"
   },
   {
    "duration": 330,
    "start_time": "2021-10-23T15:16:28.962Z"
   },
   {
    "duration": 294,
    "start_time": "2021-10-23T15:17:42.075Z"
   },
   {
    "duration": 263,
    "start_time": "2021-10-23T15:17:47.869Z"
   },
   {
    "duration": 13,
    "start_time": "2021-10-23T15:19:16.863Z"
   },
   {
    "duration": 13,
    "start_time": "2021-10-23T15:27:23.541Z"
   },
   {
    "duration": 12,
    "start_time": "2021-10-23T15:29:36.767Z"
   },
   {
    "duration": 13,
    "start_time": "2021-10-23T15:30:05.135Z"
   },
   {
    "duration": 13,
    "start_time": "2021-10-23T15:34:30.581Z"
   },
   {
    "duration": 13,
    "start_time": "2021-10-23T15:34:40.488Z"
   },
   {
    "duration": 11,
    "start_time": "2021-10-23T15:35:39.416Z"
   },
   {
    "duration": 13,
    "start_time": "2021-10-23T15:35:46.256Z"
   },
   {
    "duration": 18,
    "start_time": "2021-10-23T15:37:59.362Z"
   },
   {
    "duration": 16,
    "start_time": "2021-10-23T15:40:02.508Z"
   },
   {
    "duration": 831,
    "start_time": "2021-10-23T15:50:17.467Z"
   },
   {
    "duration": 33,
    "start_time": "2021-10-23T15:50:18.301Z"
   },
   {
    "duration": 31,
    "start_time": "2021-10-23T15:50:18.338Z"
   },
   {
    "duration": 6,
    "start_time": "2021-10-23T15:50:18.372Z"
   },
   {
    "duration": 25,
    "start_time": "2021-10-23T15:50:18.380Z"
   },
   {
    "duration": 12,
    "start_time": "2021-10-23T15:50:18.408Z"
   },
   {
    "duration": 66,
    "start_time": "2021-10-23T15:50:18.422Z"
   },
   {
    "duration": 17,
    "start_time": "2021-10-23T15:50:18.492Z"
   },
   {
    "duration": 23,
    "start_time": "2021-10-23T15:50:18.512Z"
   },
   {
    "duration": 19,
    "start_time": "2021-10-23T15:50:18.567Z"
   },
   {
    "duration": 6,
    "start_time": "2021-10-23T15:50:18.588Z"
   },
   {
    "duration": 693,
    "start_time": "2021-10-23T15:50:18.596Z"
   },
   {
    "duration": 19,
    "start_time": "2021-10-23T15:50:19.291Z"
   },
   {
    "duration": 89,
    "start_time": "2021-10-23T15:50:19.312Z"
   },
   {
    "duration": 12,
    "start_time": "2021-10-23T15:50:19.404Z"
   },
   {
    "duration": 9,
    "start_time": "2021-10-23T15:50:19.418Z"
   },
   {
    "duration": 4,
    "start_time": "2021-10-23T15:50:19.429Z"
   },
   {
    "duration": 4,
    "start_time": "2021-10-23T15:50:19.467Z"
   },
   {
    "duration": 20,
    "start_time": "2021-10-23T15:50:19.473Z"
   },
   {
    "duration": 9,
    "start_time": "2021-10-23T15:50:19.495Z"
   },
   {
    "duration": 13,
    "start_time": "2021-10-23T15:50:19.507Z"
   },
   {
    "duration": 55,
    "start_time": "2021-10-23T15:50:19.523Z"
   },
   {
    "duration": 12,
    "start_time": "2021-10-23T15:50:19.583Z"
   },
   {
    "duration": 37,
    "start_time": "2021-10-23T15:50:19.598Z"
   },
   {
    "duration": 74,
    "start_time": "2021-10-23T15:50:19.637Z"
   },
   {
    "duration": 15,
    "start_time": "2021-10-23T15:50:19.713Z"
   },
   {
    "duration": 4,
    "start_time": "2021-10-23T15:50:19.730Z"
   },
   {
    "duration": 4762,
    "start_time": "2021-10-23T15:50:19.738Z"
   },
   {
    "duration": 5,
    "start_time": "2021-10-23T15:50:24.502Z"
   },
   {
    "duration": 68,
    "start_time": "2021-10-23T15:50:24.509Z"
   },
   {
    "duration": 27,
    "start_time": "2021-10-23T15:50:24.579Z"
   },
   {
    "duration": 12,
    "start_time": "2021-10-23T15:50:24.608Z"
   },
   {
    "duration": 10,
    "start_time": "2021-10-23T15:50:24.623Z"
   },
   {
    "duration": 7,
    "start_time": "2021-10-23T15:50:24.635Z"
   },
   {
    "duration": 32,
    "start_time": "2021-10-23T15:50:24.644Z"
   },
   {
    "duration": 14,
    "start_time": "2021-10-23T15:50:24.679Z"
   },
   {
    "duration": 41,
    "start_time": "2021-10-23T15:50:24.696Z"
   },
   {
    "duration": 48,
    "start_time": "2021-10-23T15:50:24.739Z"
   },
   {
    "duration": 16,
    "start_time": "2021-10-23T15:50:24.790Z"
   },
   {
    "duration": 61,
    "start_time": "2021-10-23T15:50:24.808Z"
   },
   {
    "duration": 16,
    "start_time": "2021-10-23T15:50:24.871Z"
   },
   {
    "duration": 695,
    "start_time": "2021-10-24T05:07:02.982Z"
   },
   {
    "duration": 21,
    "start_time": "2021-10-24T05:07:04.758Z"
   },
   {
    "duration": 750,
    "start_time": "2021-10-24T08:51:18.876Z"
   },
   {
    "duration": 75,
    "start_time": "2021-10-24T08:51:20.952Z"
   },
   {
    "duration": 33,
    "start_time": "2021-10-24T08:54:47.348Z"
   },
   {
    "duration": 445,
    "start_time": "2021-10-24T08:55:12.701Z"
   },
   {
    "duration": 48,
    "start_time": "2021-10-24T08:55:16.984Z"
   },
   {
    "duration": 47,
    "start_time": "2021-10-24T08:55:29.037Z"
   },
   {
    "duration": 351,
    "start_time": "2021-10-24T09:06:07.521Z"
   },
   {
    "duration": 29,
    "start_time": "2021-10-24T09:16:58.254Z"
   },
   {
    "duration": 17,
    "start_time": "2021-10-24T09:17:11.703Z"
   },
   {
    "duration": 18,
    "start_time": "2021-10-24T09:17:17.787Z"
   },
   {
    "duration": 16,
    "start_time": "2021-10-24T09:17:20.891Z"
   },
   {
    "duration": 25,
    "start_time": "2021-10-24T09:17:28.455Z"
   },
   {
    "duration": 17,
    "start_time": "2021-10-24T09:17:51.479Z"
   },
   {
    "duration": 26,
    "start_time": "2021-10-24T09:18:11.840Z"
   },
   {
    "duration": 787,
    "start_time": "2021-10-24T09:18:17.760Z"
   },
   {
    "duration": 80,
    "start_time": "2021-10-24T09:18:18.550Z"
   },
   {
    "duration": 38,
    "start_time": "2021-10-24T09:18:18.634Z"
   },
   {
    "duration": 6,
    "start_time": "2021-10-24T09:18:18.676Z"
   },
   {
    "duration": 6,
    "start_time": "2021-10-24T09:18:18.685Z"
   },
   {
    "duration": 23,
    "start_time": "2021-10-24T09:18:18.694Z"
   },
   {
    "duration": 44,
    "start_time": "2021-10-24T09:18:18.720Z"
   },
   {
    "duration": 29,
    "start_time": "2021-10-24T09:18:18.768Z"
   },
   {
    "duration": 18,
    "start_time": "2021-10-24T09:18:18.800Z"
   },
   {
    "duration": 53,
    "start_time": "2021-10-24T09:18:18.820Z"
   },
   {
    "duration": 18,
    "start_time": "2021-10-24T09:18:18.875Z"
   },
   {
    "duration": 8,
    "start_time": "2021-10-24T09:18:18.895Z"
   },
   {
    "duration": 653,
    "start_time": "2021-10-24T09:18:18.905Z"
   },
   {
    "duration": 26,
    "start_time": "2021-10-24T09:18:19.561Z"
   },
   {
    "duration": 85,
    "start_time": "2021-10-24T09:18:19.589Z"
   },
   {
    "duration": 11,
    "start_time": "2021-10-24T09:18:19.676Z"
   },
   {
    "duration": 13,
    "start_time": "2021-10-24T09:18:19.689Z"
   },
   {
    "duration": 4,
    "start_time": "2021-10-24T09:18:19.704Z"
   },
   {
    "duration": 5,
    "start_time": "2021-10-24T09:18:19.710Z"
   },
   {
    "duration": 44,
    "start_time": "2021-10-24T09:18:19.718Z"
   },
   {
    "duration": 30,
    "start_time": "2021-10-24T09:18:19.765Z"
   },
   {
    "duration": 14,
    "start_time": "2021-10-24T09:18:19.798Z"
   },
   {
    "duration": 13,
    "start_time": "2021-10-24T09:18:19.817Z"
   },
   {
    "duration": 31,
    "start_time": "2021-10-24T09:18:19.832Z"
   },
   {
    "duration": 47,
    "start_time": "2021-10-24T09:18:19.866Z"
   },
   {
    "duration": 52,
    "start_time": "2021-10-24T09:18:19.915Z"
   },
   {
    "duration": 16,
    "start_time": "2021-10-24T09:18:19.971Z"
   },
   {
    "duration": 3,
    "start_time": "2021-10-24T09:18:19.990Z"
   },
   {
    "duration": 4981,
    "start_time": "2021-10-24T09:18:19.995Z"
   },
   {
    "duration": 4,
    "start_time": "2021-10-24T09:18:24.980Z"
   },
   {
    "duration": 21,
    "start_time": "2021-10-24T09:18:24.987Z"
   },
   {
    "duration": 7,
    "start_time": "2021-10-24T09:18:25.010Z"
   },
   {
    "duration": 46,
    "start_time": "2021-10-24T09:18:25.019Z"
   },
   {
    "duration": 9,
    "start_time": "2021-10-24T09:18:25.071Z"
   },
   {
    "duration": 5,
    "start_time": "2021-10-24T09:18:25.082Z"
   },
   {
    "duration": 24,
    "start_time": "2021-10-24T09:18:25.089Z"
   },
   {
    "duration": 5,
    "start_time": "2021-10-24T09:18:25.115Z"
   },
   {
    "duration": 74,
    "start_time": "2021-10-24T09:18:25.122Z"
   },
   {
    "duration": 26,
    "start_time": "2021-10-24T09:18:25.199Z"
   },
   {
    "duration": 49,
    "start_time": "2021-10-24T09:18:25.227Z"
   },
   {
    "duration": 21,
    "start_time": "2021-10-24T09:18:25.279Z"
   },
   {
    "duration": 54,
    "start_time": "2021-10-24T09:18:25.303Z"
   },
   {
    "duration": 20,
    "start_time": "2021-10-24T09:18:34.996Z"
   },
   {
    "duration": 30,
    "start_time": "2021-10-24T09:41:08.717Z"
   },
   {
    "duration": 23,
    "start_time": "2021-10-24T09:42:10.606Z"
   },
   {
    "duration": 32,
    "start_time": "2021-10-24T09:42:11.551Z"
   },
   {
    "duration": 42,
    "start_time": "2021-10-24T09:42:13.287Z"
   },
   {
    "duration": 82,
    "start_time": "2021-10-24T09:42:15.049Z"
   },
   {
    "duration": 1412,
    "start_time": "2021-10-24T09:44:19.854Z"
   },
   {
    "duration": 78,
    "start_time": "2021-10-24T09:44:21.270Z"
   },
   {
    "duration": 43,
    "start_time": "2021-10-24T09:44:21.351Z"
   },
   {
    "duration": 15,
    "start_time": "2021-10-24T09:44:21.397Z"
   },
   {
    "duration": 25,
    "start_time": "2021-10-24T09:44:21.415Z"
   },
   {
    "duration": 73,
    "start_time": "2021-10-24T09:44:21.442Z"
   },
   {
    "duration": 5,
    "start_time": "2021-10-24T09:44:21.518Z"
   },
   {
    "duration": 38,
    "start_time": "2021-10-24T09:44:21.525Z"
   },
   {
    "duration": 29,
    "start_time": "2021-10-24T09:44:21.568Z"
   },
   {
    "duration": 7,
    "start_time": "2021-10-24T09:44:21.600Z"
   },
   {
    "duration": 60,
    "start_time": "2021-10-24T09:44:21.609Z"
   },
   {
    "duration": 19,
    "start_time": "2021-10-24T09:44:21.672Z"
   },
   {
    "duration": 27,
    "start_time": "2021-10-24T09:44:21.693Z"
   },
   {
    "duration": 48,
    "start_time": "2021-10-24T09:44:21.722Z"
   },
   {
    "duration": 7,
    "start_time": "2021-10-24T09:44:21.774Z"
   },
   {
    "duration": 729,
    "start_time": "2021-10-24T09:44:21.784Z"
   },
   {
    "duration": 18,
    "start_time": "2021-10-24T09:44:22.515Z"
   },
   {
    "duration": 92,
    "start_time": "2021-10-24T09:44:22.536Z"
   },
   {
    "duration": 11,
    "start_time": "2021-10-24T09:44:22.631Z"
   },
   {
    "duration": 31,
    "start_time": "2021-10-24T09:44:22.644Z"
   },
   {
    "duration": 9,
    "start_time": "2021-10-24T09:44:22.678Z"
   },
   {
    "duration": 5,
    "start_time": "2021-10-24T09:44:22.690Z"
   },
   {
    "duration": 16,
    "start_time": "2021-10-24T09:44:22.697Z"
   },
   {
    "duration": 8,
    "start_time": "2021-10-24T09:44:22.715Z"
   },
   {
    "duration": 22,
    "start_time": "2021-10-24T09:44:22.764Z"
   },
   {
    "duration": 12,
    "start_time": "2021-10-24T09:44:22.788Z"
   },
   {
    "duration": 12,
    "start_time": "2021-10-24T09:44:22.808Z"
   },
   {
    "duration": 77,
    "start_time": "2021-10-24T09:44:22.822Z"
   },
   {
    "duration": 64,
    "start_time": "2021-10-24T09:44:22.902Z"
   },
   {
    "duration": 24,
    "start_time": "2021-10-24T09:44:22.969Z"
   },
   {
    "duration": 5,
    "start_time": "2021-10-24T09:44:22.995Z"
   },
   {
    "duration": 5190,
    "start_time": "2021-10-24T09:44:23.002Z"
   },
   {
    "duration": 4,
    "start_time": "2021-10-24T09:44:28.194Z"
   },
   {
    "duration": 23,
    "start_time": "2021-10-24T09:44:28.200Z"
   },
   {
    "duration": 6,
    "start_time": "2021-10-24T09:44:28.225Z"
   },
   {
    "duration": 28,
    "start_time": "2021-10-24T09:44:28.233Z"
   },
   {
    "duration": 27,
    "start_time": "2021-10-24T09:44:28.263Z"
   },
   {
    "duration": 4,
    "start_time": "2021-10-24T09:44:28.292Z"
   },
   {
    "duration": 42,
    "start_time": "2021-10-24T09:44:28.298Z"
   },
   {
    "duration": 13,
    "start_time": "2021-10-24T09:44:28.342Z"
   },
   {
    "duration": 71,
    "start_time": "2021-10-24T09:44:28.358Z"
   },
   {
    "duration": 35,
    "start_time": "2021-10-24T09:44:28.432Z"
   },
   {
    "duration": 24,
    "start_time": "2021-10-24T09:44:28.471Z"
   },
   {
    "duration": 16,
    "start_time": "2021-10-24T09:44:28.498Z"
   },
   {
    "duration": 51,
    "start_time": "2021-10-24T09:44:28.516Z"
   },
   {
    "duration": 817,
    "start_time": "2021-10-24T10:01:19.286Z"
   },
   {
    "duration": 90,
    "start_time": "2021-10-24T10:01:20.106Z"
   },
   {
    "duration": 27,
    "start_time": "2021-10-24T10:01:20.199Z"
   },
   {
    "duration": 40,
    "start_time": "2021-10-24T10:01:20.229Z"
   },
   {
    "duration": 29,
    "start_time": "2021-10-24T10:01:20.272Z"
   },
   {
    "duration": 71,
    "start_time": "2021-10-24T10:01:20.304Z"
   },
   {
    "duration": 7,
    "start_time": "2021-10-24T10:01:20.378Z"
   },
   {
    "duration": 13,
    "start_time": "2021-10-24T10:01:20.388Z"
   },
   {
    "duration": 70,
    "start_time": "2021-10-24T10:01:20.406Z"
   },
   {
    "duration": 16,
    "start_time": "2021-10-24T10:01:20.487Z"
   },
   {
    "duration": 26,
    "start_time": "2021-10-24T10:01:20.506Z"
   },
   {
    "duration": 43,
    "start_time": "2021-10-24T10:01:20.534Z"
   },
   {
    "duration": 36,
    "start_time": "2021-10-24T10:01:20.580Z"
   },
   {
    "duration": 59,
    "start_time": "2021-10-24T10:01:20.619Z"
   },
   {
    "duration": 7,
    "start_time": "2021-10-24T10:01:20.682Z"
   },
   {
    "duration": 693,
    "start_time": "2021-10-24T10:01:20.692Z"
   },
   {
    "duration": 19,
    "start_time": "2021-10-24T10:01:21.388Z"
   },
   {
    "duration": 85,
    "start_time": "2021-10-24T10:01:21.409Z"
   },
   {
    "duration": 11,
    "start_time": "2021-10-24T10:01:21.497Z"
   },
   {
    "duration": 12,
    "start_time": "2021-10-24T10:01:21.510Z"
   },
   {
    "duration": 12,
    "start_time": "2021-10-24T10:01:21.524Z"
   },
   {
    "duration": 23,
    "start_time": "2021-10-24T10:01:21.538Z"
   },
   {
    "duration": 28,
    "start_time": "2021-10-24T10:01:21.564Z"
   },
   {
    "duration": 8,
    "start_time": "2021-10-24T10:01:21.595Z"
   },
   {
    "duration": 14,
    "start_time": "2021-10-24T10:01:21.605Z"
   },
   {
    "duration": 59,
    "start_time": "2021-10-24T10:01:21.622Z"
   },
   {
    "duration": 14,
    "start_time": "2021-10-24T10:01:21.687Z"
   },
   {
    "duration": 63,
    "start_time": "2021-10-24T10:01:21.704Z"
   },
   {
    "duration": 52,
    "start_time": "2021-10-24T10:01:21.770Z"
   },
   {
    "duration": 38,
    "start_time": "2021-10-24T10:01:21.825Z"
   },
   {
    "duration": 4,
    "start_time": "2021-10-24T10:01:21.871Z"
   },
   {
    "duration": 5850,
    "start_time": "2021-10-24T10:01:21.878Z"
   },
   {
    "duration": 4,
    "start_time": "2021-10-24T10:01:27.730Z"
   },
   {
    "duration": 26,
    "start_time": "2021-10-24T10:01:27.736Z"
   },
   {
    "duration": 10,
    "start_time": "2021-10-24T10:01:27.766Z"
   },
   {
    "duration": 10,
    "start_time": "2021-10-24T10:01:27.779Z"
   },
   {
    "duration": 6,
    "start_time": "2021-10-24T10:01:27.791Z"
   },
   {
    "duration": 6,
    "start_time": "2021-10-24T10:01:27.799Z"
   },
   {
    "duration": 68,
    "start_time": "2021-10-24T10:01:27.807Z"
   },
   {
    "duration": 10,
    "start_time": "2021-10-24T10:01:27.878Z"
   },
   {
    "duration": 37,
    "start_time": "2021-10-24T10:01:27.891Z"
   },
   {
    "duration": 61,
    "start_time": "2021-10-24T10:01:27.931Z"
   },
   {
    "duration": 17,
    "start_time": "2021-10-24T10:01:27.994Z"
   },
   {
    "duration": 15,
    "start_time": "2021-10-24T10:01:28.013Z"
   },
   {
    "duration": 58,
    "start_time": "2021-10-24T10:01:28.031Z"
   },
   {
    "duration": 875,
    "start_time": "2021-10-24T10:05:59.935Z"
   },
   {
    "duration": 87,
    "start_time": "2021-10-24T10:06:00.814Z"
   },
   {
    "duration": 27,
    "start_time": "2021-10-24T10:06:00.904Z"
   },
   {
    "duration": 43,
    "start_time": "2021-10-24T10:06:00.934Z"
   },
   {
    "duration": 37,
    "start_time": "2021-10-24T10:06:00.980Z"
   },
   {
    "duration": 71,
    "start_time": "2021-10-24T10:06:01.019Z"
   },
   {
    "duration": 6,
    "start_time": "2021-10-24T10:06:01.092Z"
   },
   {
    "duration": 24,
    "start_time": "2021-10-24T10:06:01.100Z"
   },
   {
    "duration": 42,
    "start_time": "2021-10-24T10:06:01.127Z"
   },
   {
    "duration": 10,
    "start_time": "2021-10-24T10:06:01.176Z"
   },
   {
    "duration": 26,
    "start_time": "2021-10-24T10:06:01.188Z"
   },
   {
    "duration": 16,
    "start_time": "2021-10-24T10:06:01.217Z"
   },
   {
    "duration": 49,
    "start_time": "2021-10-24T10:06:01.235Z"
   },
   {
    "duration": 31,
    "start_time": "2021-10-24T10:06:01.287Z"
   },
   {
    "duration": 4,
    "start_time": "2021-10-24T10:06:01.320Z"
   },
   {
    "duration": 715,
    "start_time": "2021-10-24T10:06:01.326Z"
   },
   {
    "duration": 31,
    "start_time": "2021-10-24T10:06:02.043Z"
   },
   {
    "duration": 89,
    "start_time": "2021-10-24T10:06:02.080Z"
   },
   {
    "duration": 15,
    "start_time": "2021-10-24T10:06:02.172Z"
   },
   {
    "duration": 25,
    "start_time": "2021-10-24T10:06:02.190Z"
   },
   {
    "duration": 15,
    "start_time": "2021-10-24T10:06:02.218Z"
   },
   {
    "duration": 9,
    "start_time": "2021-10-24T10:06:02.236Z"
   },
   {
    "duration": 44,
    "start_time": "2021-10-24T10:06:02.247Z"
   },
   {
    "duration": 8,
    "start_time": "2021-10-24T10:06:02.294Z"
   },
   {
    "duration": 15,
    "start_time": "2021-10-24T10:06:02.304Z"
   },
   {
    "duration": 16,
    "start_time": "2021-10-24T10:06:02.322Z"
   },
   {
    "duration": 21,
    "start_time": "2021-10-24T10:06:02.343Z"
   },
   {
    "duration": 45,
    "start_time": "2021-10-24T10:06:02.368Z"
   },
   {
    "duration": 59,
    "start_time": "2021-10-24T10:06:02.416Z"
   },
   {
    "duration": 16,
    "start_time": "2021-10-24T10:06:02.477Z"
   },
   {
    "duration": 7,
    "start_time": "2021-10-24T10:06:02.495Z"
   },
   {
    "duration": 5838,
    "start_time": "2021-10-24T10:06:02.505Z"
   },
   {
    "duration": 19,
    "start_time": "2021-10-24T10:06:08.346Z"
   },
   {
    "duration": 26,
    "start_time": "2021-10-24T10:06:08.371Z"
   },
   {
    "duration": 6,
    "start_time": "2021-10-24T10:06:08.399Z"
   },
   {
    "duration": 8,
    "start_time": "2021-10-24T10:06:08.408Z"
   },
   {
    "duration": 48,
    "start_time": "2021-10-24T10:06:08.419Z"
   },
   {
    "duration": 6,
    "start_time": "2021-10-24T10:06:08.481Z"
   },
   {
    "duration": 21,
    "start_time": "2021-10-24T10:06:08.494Z"
   },
   {
    "duration": 6,
    "start_time": "2021-10-24T10:06:08.517Z"
   },
   {
    "duration": 80,
    "start_time": "2021-10-24T10:06:08.526Z"
   },
   {
    "duration": 29,
    "start_time": "2021-10-24T10:06:08.609Z"
   },
   {
    "duration": 38,
    "start_time": "2021-10-24T10:06:08.641Z"
   },
   {
    "duration": 18,
    "start_time": "2021-10-24T10:06:08.683Z"
   },
   {
    "duration": 65,
    "start_time": "2021-10-24T10:06:08.704Z"
   },
   {
    "duration": 648,
    "start_time": "2021-10-24T10:31:19.105Z"
   },
   {
    "duration": 271,
    "start_time": "2021-10-24T10:31:19.487Z"
   },
   {
    "duration": 269,
    "start_time": "2021-10-24T10:31:19.491Z"
   },
   {
    "duration": 268,
    "start_time": "2021-10-24T10:31:19.495Z"
   },
   {
    "duration": 259,
    "start_time": "2021-10-24T10:31:19.506Z"
   },
   {
    "duration": 262,
    "start_time": "2021-10-24T10:31:19.512Z"
   },
   {
    "duration": 262,
    "start_time": "2021-10-24T10:31:19.514Z"
   },
   {
    "duration": 260,
    "start_time": "2021-10-24T10:31:19.518Z"
   },
   {
    "duration": 259,
    "start_time": "2021-10-24T10:31:19.521Z"
   },
   {
    "duration": 257,
    "start_time": "2021-10-24T10:31:19.524Z"
   },
   {
    "duration": 257,
    "start_time": "2021-10-24T10:31:19.527Z"
   },
   {
    "duration": 257,
    "start_time": "2021-10-24T10:31:19.529Z"
   },
   {
    "duration": 254,
    "start_time": "2021-10-24T10:31:19.533Z"
   },
   {
    "duration": 251,
    "start_time": "2021-10-24T10:31:19.537Z"
   },
   {
    "duration": 250,
    "start_time": "2021-10-24T10:31:19.540Z"
   },
   {
    "duration": 248,
    "start_time": "2021-10-24T10:31:19.543Z"
   },
   {
    "duration": 247,
    "start_time": "2021-10-24T10:31:19.546Z"
   },
   {
    "duration": 222,
    "start_time": "2021-10-24T10:31:19.572Z"
   },
   {
    "duration": 220,
    "start_time": "2021-10-24T10:31:19.575Z"
   },
   {
    "duration": 219,
    "start_time": "2021-10-24T10:31:19.578Z"
   },
   {
    "duration": 208,
    "start_time": "2021-10-24T10:31:19.590Z"
   },
   {
    "duration": 193,
    "start_time": "2021-10-24T10:31:19.606Z"
   },
   {
    "duration": 191,
    "start_time": "2021-10-24T10:31:19.610Z"
   },
   {
    "duration": 190,
    "start_time": "2021-10-24T10:31:19.613Z"
   },
   {
    "duration": 166,
    "start_time": "2021-10-24T10:31:19.638Z"
   },
   {
    "duration": 217,
    "start_time": "2021-10-24T10:31:19.641Z"
   },
   {
    "duration": 217,
    "start_time": "2021-10-24T10:31:19.644Z"
   },
   {
    "duration": 216,
    "start_time": "2021-10-24T10:31:19.648Z"
   },
   {
    "duration": 214,
    "start_time": "2021-10-24T10:31:19.652Z"
   },
   {
    "duration": 214,
    "start_time": "2021-10-24T10:31:19.655Z"
   },
   {
    "duration": 213,
    "start_time": "2021-10-24T10:31:19.658Z"
   },
   {
    "duration": 212,
    "start_time": "2021-10-24T10:31:19.661Z"
   },
   {
    "duration": 211,
    "start_time": "2021-10-24T10:31:19.664Z"
   },
   {
    "duration": 210,
    "start_time": "2021-10-24T10:31:19.667Z"
   },
   {
    "duration": 209,
    "start_time": "2021-10-24T10:31:19.670Z"
   },
   {
    "duration": 206,
    "start_time": "2021-10-24T10:31:19.674Z"
   },
   {
    "duration": 885,
    "start_time": "2021-10-24T10:31:39.069Z"
   },
   {
    "duration": 81,
    "start_time": "2021-10-24T10:31:39.956Z"
   },
   {
    "duration": 34,
    "start_time": "2021-10-24T10:31:40.041Z"
   },
   {
    "duration": 43,
    "start_time": "2021-10-24T10:31:40.079Z"
   },
   {
    "duration": 34,
    "start_time": "2021-10-24T10:31:40.125Z"
   },
   {
    "duration": 53,
    "start_time": "2021-10-24T10:31:40.162Z"
   },
   {
    "duration": 6,
    "start_time": "2021-10-24T10:31:40.218Z"
   },
   {
    "duration": 35,
    "start_time": "2021-10-24T10:31:40.226Z"
   },
   {
    "duration": 38,
    "start_time": "2021-10-24T10:31:40.265Z"
   },
   {
    "duration": 460,
    "start_time": "2021-10-24T11:55:37.583Z"
   },
   {
    "duration": 822,
    "start_time": "2021-10-24T11:55:44.549Z"
   },
   {
    "duration": 78,
    "start_time": "2021-10-24T11:55:45.374Z"
   },
   {
    "duration": 29,
    "start_time": "2021-10-24T11:55:45.458Z"
   },
   {
    "duration": 28,
    "start_time": "2021-10-24T11:55:45.491Z"
   },
   {
    "duration": 59,
    "start_time": "2021-10-24T11:55:45.523Z"
   },
   {
    "duration": 98,
    "start_time": "2021-10-24T11:55:45.586Z"
   },
   {
    "duration": 9,
    "start_time": "2021-10-24T11:55:45.688Z"
   },
   {
    "duration": 8,
    "start_time": "2021-10-24T11:55:45.703Z"
   },
   {
    "duration": 58,
    "start_time": "2021-10-24T11:55:45.716Z"
   },
   {
    "duration": 11,
    "start_time": "2021-10-24T11:55:45.776Z"
   },
   {
    "duration": 24,
    "start_time": "2021-10-24T11:55:45.789Z"
   },
   {
    "duration": 53,
    "start_time": "2021-10-24T11:55:45.815Z"
   },
   {
    "duration": 24,
    "start_time": "2021-10-24T11:55:45.871Z"
   },
   {
    "duration": 18,
    "start_time": "2021-10-24T11:55:45.897Z"
   },
   {
    "duration": 42,
    "start_time": "2021-10-24T11:55:45.917Z"
   },
   {
    "duration": 597,
    "start_time": "2021-10-24T11:55:45.962Z"
   },
   {
    "duration": 21,
    "start_time": "2021-10-24T11:55:46.562Z"
   },
   {
    "duration": 72,
    "start_time": "2021-10-24T11:55:46.586Z"
   },
   {
    "duration": 15,
    "start_time": "2021-10-24T11:55:46.660Z"
   },
   {
    "duration": 8,
    "start_time": "2021-10-24T11:55:46.678Z"
   },
   {
    "duration": 4,
    "start_time": "2021-10-24T11:55:46.688Z"
   },
   {
    "duration": 7,
    "start_time": "2021-10-24T11:55:46.694Z"
   },
   {
    "duration": 52,
    "start_time": "2021-10-24T11:55:46.706Z"
   },
   {
    "duration": 8,
    "start_time": "2021-10-24T11:55:46.761Z"
   },
   {
    "duration": 11,
    "start_time": "2021-10-24T11:55:46.771Z"
   },
   {
    "duration": 13,
    "start_time": "2021-10-24T11:55:46.785Z"
   },
   {
    "duration": 17,
    "start_time": "2021-10-24T11:55:46.800Z"
   },
   {
    "duration": 62,
    "start_time": "2021-10-24T11:55:46.820Z"
   },
   {
    "duration": 49,
    "start_time": "2021-10-24T11:55:46.884Z"
   },
   {
    "duration": 36,
    "start_time": "2021-10-24T11:55:46.935Z"
   },
   {
    "duration": 3,
    "start_time": "2021-10-24T11:55:46.973Z"
   },
   {
    "duration": 5290,
    "start_time": "2021-10-24T11:55:46.979Z"
   },
   {
    "duration": 4,
    "start_time": "2021-10-24T11:55:52.272Z"
   },
   {
    "duration": 19,
    "start_time": "2021-10-24T11:55:52.279Z"
   },
   {
    "duration": 6,
    "start_time": "2021-10-24T11:55:52.300Z"
   },
   {
    "duration": 6,
    "start_time": "2021-10-24T11:55:52.309Z"
   },
   {
    "duration": 45,
    "start_time": "2021-10-24T11:55:52.317Z"
   },
   {
    "duration": 5,
    "start_time": "2021-10-24T11:55:52.364Z"
   },
   {
    "duration": 24,
    "start_time": "2021-10-24T11:55:52.371Z"
   },
   {
    "duration": 6,
    "start_time": "2021-10-24T11:55:52.398Z"
   },
   {
    "duration": 73,
    "start_time": "2021-10-24T11:55:52.407Z"
   },
   {
    "duration": 25,
    "start_time": "2021-10-24T11:55:52.486Z"
   },
   {
    "duration": 18,
    "start_time": "2021-10-24T11:55:52.515Z"
   },
   {
    "duration": 16,
    "start_time": "2021-10-24T11:55:52.559Z"
   },
   {
    "duration": 16,
    "start_time": "2021-10-24T11:55:52.577Z"
   },
   {
    "duration": 482,
    "start_time": "2021-10-24T17:38:32.427Z"
   },
   {
    "duration": 5,
    "start_time": "2021-10-24T17:38:39.803Z"
   },
   {
    "duration": 790,
    "start_time": "2021-10-24T17:38:58.357Z"
   },
   {
    "duration": 84,
    "start_time": "2021-10-24T17:38:59.150Z"
   },
   {
    "duration": 33,
    "start_time": "2021-10-24T17:38:59.236Z"
   },
   {
    "duration": 18,
    "start_time": "2021-10-24T17:38:59.272Z"
   },
   {
    "duration": 23,
    "start_time": "2021-10-24T17:38:59.292Z"
   },
   {
    "duration": 79,
    "start_time": "2021-10-24T17:38:59.317Z"
   },
   {
    "duration": 8,
    "start_time": "2021-10-24T17:38:59.398Z"
   },
   {
    "duration": 13,
    "start_time": "2021-10-24T17:38:59.409Z"
   },
   {
    "duration": 49,
    "start_time": "2021-10-24T17:38:59.425Z"
   },
   {
    "duration": 12,
    "start_time": "2021-10-24T17:38:59.477Z"
   },
   {
    "duration": 32,
    "start_time": "2021-10-24T17:38:59.492Z"
   },
   {
    "duration": 47,
    "start_time": "2021-10-24T17:38:59.526Z"
   },
   {
    "duration": 27,
    "start_time": "2021-10-24T17:38:59.576Z"
   },
   {
    "duration": 56,
    "start_time": "2021-10-24T17:38:59.605Z"
   },
   {
    "duration": 9,
    "start_time": "2021-10-24T17:38:59.663Z"
   },
   {
    "duration": 617,
    "start_time": "2021-10-24T17:38:59.675Z"
   },
   {
    "duration": 6,
    "start_time": "2021-10-24T17:39:00.296Z"
   },
   {
    "duration": 85,
    "start_time": "2021-10-24T17:39:05.653Z"
   },
   {
    "duration": 120,
    "start_time": "2021-10-24T17:39:20.448Z"
   },
   {
    "duration": 14,
    "start_time": "2021-10-24T17:42:46.628Z"
   },
   {
    "duration": 9,
    "start_time": "2021-10-24T17:57:47.918Z"
   },
   {
    "duration": 8,
    "start_time": "2021-10-24T17:57:53.603Z"
   },
   {
    "duration": 8,
    "start_time": "2021-10-24T17:58:11.967Z"
   },
   {
    "duration": 206,
    "start_time": "2021-10-24T18:00:47.923Z"
   },
   {
    "duration": 213,
    "start_time": "2021-10-24T18:00:56.177Z"
   },
   {
    "duration": 8,
    "start_time": "2021-10-24T18:01:16.995Z"
   },
   {
    "duration": 469,
    "start_time": "2021-10-24T18:02:57.028Z"
   },
   {
    "duration": 5,
    "start_time": "2021-10-24T18:03:19.551Z"
   },
   {
    "duration": 4,
    "start_time": "2021-10-24T18:05:22.584Z"
   },
   {
    "duration": 15,
    "start_time": "2021-10-24T18:06:03.420Z"
   },
   {
    "duration": 5,
    "start_time": "2021-10-24T18:06:12.172Z"
   },
   {
    "duration": 40,
    "start_time": "2021-10-24T18:06:37.219Z"
   },
   {
    "duration": 362,
    "start_time": "2021-10-24T18:07:13.910Z"
   },
   {
    "duration": 4,
    "start_time": "2021-10-24T18:07:43.130Z"
   },
   {
    "duration": 73,
    "start_time": "2021-10-24T18:07:45.614Z"
   },
   {
    "duration": 5,
    "start_time": "2021-10-24T18:08:00.847Z"
   },
   {
    "duration": 70,
    "start_time": "2021-10-24T18:08:03.370Z"
   },
   {
    "duration": 5,
    "start_time": "2021-10-24T18:08:20.237Z"
   },
   {
    "duration": 70,
    "start_time": "2021-10-24T18:08:45.140Z"
   },
   {
    "duration": 398,
    "start_time": "2021-10-24T18:10:54.120Z"
   },
   {
    "duration": 460,
    "start_time": "2021-10-24T18:11:01.782Z"
   },
   {
    "duration": 484,
    "start_time": "2021-10-24T18:11:26.739Z"
   },
   {
    "duration": 359,
    "start_time": "2021-10-24T18:11:39.971Z"
   },
   {
    "duration": 5,
    "start_time": "2021-10-24T18:12:26.249Z"
   },
   {
    "duration": 891,
    "start_time": "2021-10-24T18:12:28.710Z"
   },
   {
    "duration": 5,
    "start_time": "2021-10-24T18:12:34.864Z"
   },
   {
    "duration": 71,
    "start_time": "2021-10-24T18:12:36.458Z"
   },
   {
    "duration": 41,
    "start_time": "2021-10-24T18:12:42.128Z"
   },
   {
    "duration": 5,
    "start_time": "2021-10-24T18:12:44.554Z"
   },
   {
    "duration": 768,
    "start_time": "2021-10-24T18:24:26.189Z"
   },
   {
    "duration": 79,
    "start_time": "2021-10-24T18:24:26.960Z"
   },
   {
    "duration": 45,
    "start_time": "2021-10-24T18:24:27.043Z"
   },
   {
    "duration": 18,
    "start_time": "2021-10-24T18:24:27.090Z"
   },
   {
    "duration": 63,
    "start_time": "2021-10-24T18:24:27.111Z"
   },
   {
    "duration": 91,
    "start_time": "2021-10-24T18:24:27.177Z"
   },
   {
    "duration": 9,
    "start_time": "2021-10-24T18:24:27.271Z"
   },
   {
    "duration": 13,
    "start_time": "2021-10-24T18:24:27.283Z"
   },
   {
    "duration": 68,
    "start_time": "2021-10-24T18:24:27.303Z"
   },
   {
    "duration": 14,
    "start_time": "2021-10-24T18:24:27.376Z"
   },
   {
    "duration": 38,
    "start_time": "2021-10-24T18:24:27.393Z"
   },
   {
    "duration": 18,
    "start_time": "2021-10-24T18:24:27.457Z"
   },
   {
    "duration": 35,
    "start_time": "2021-10-24T18:24:27.477Z"
   },
   {
    "duration": 53,
    "start_time": "2021-10-24T18:24:27.516Z"
   },
   {
    "duration": 7,
    "start_time": "2021-10-24T18:24:27.573Z"
   },
   {
    "duration": 877,
    "start_time": "2021-10-24T18:24:27.583Z"
   },
   {
    "duration": 5,
    "start_time": "2021-10-24T18:24:28.463Z"
   },
   {
    "duration": 191,
    "start_time": "2021-10-24T18:24:28.470Z"
   },
   {
    "duration": 16,
    "start_time": "2021-10-24T18:24:28.664Z"
   },
   {
    "duration": 78,
    "start_time": "2021-10-24T18:24:28.683Z"
   },
   {
    "duration": 30,
    "start_time": "2021-10-24T18:24:28.764Z"
   },
   {
    "duration": 9,
    "start_time": "2021-10-24T18:24:28.797Z"
   },
   {
    "duration": 8,
    "start_time": "2021-10-24T18:24:28.809Z"
   },
   {
    "duration": 47,
    "start_time": "2021-10-24T18:24:28.820Z"
   },
   {
    "duration": 9,
    "start_time": "2021-10-24T18:24:28.871Z"
   },
   {
    "duration": 97,
    "start_time": "2021-10-24T18:24:28.883Z"
   },
   {
    "duration": 595,
    "start_time": "2021-10-24T18:24:49.488Z"
   },
   {
    "duration": 39,
    "start_time": "2021-10-24T18:24:55.427Z"
   },
   {
    "duration": 5,
    "start_time": "2021-10-24T18:30:57.688Z"
   },
   {
    "duration": 6,
    "start_time": "2021-10-24T18:31:10.624Z"
   },
   {
    "duration": 6,
    "start_time": "2021-10-24T18:31:26.334Z"
   },
   {
    "duration": 6,
    "start_time": "2021-10-24T18:31:41.350Z"
   },
   {
    "duration": 6,
    "start_time": "2021-10-24T18:31:46.382Z"
   },
   {
    "duration": 361,
    "start_time": "2021-10-24T18:35:14.989Z"
   },
   {
    "duration": 14,
    "start_time": "2021-10-24T18:37:17.067Z"
   },
   {
    "duration": 790,
    "start_time": "2021-10-24T18:39:03.291Z"
   },
   {
    "duration": 90,
    "start_time": "2021-10-24T18:39:04.084Z"
   },
   {
    "duration": 30,
    "start_time": "2021-10-24T18:39:04.178Z"
   },
   {
    "duration": 51,
    "start_time": "2021-10-24T18:39:04.212Z"
   },
   {
    "duration": 25,
    "start_time": "2021-10-24T18:39:04.266Z"
   },
   {
    "duration": 76,
    "start_time": "2021-10-24T18:39:04.294Z"
   },
   {
    "duration": 8,
    "start_time": "2021-10-24T18:39:04.373Z"
   },
   {
    "duration": 8,
    "start_time": "2021-10-24T18:39:04.387Z"
   },
   {
    "duration": 66,
    "start_time": "2021-10-24T18:39:04.399Z"
   },
   {
    "duration": 13,
    "start_time": "2021-10-24T18:39:04.468Z"
   },
   {
    "duration": 26,
    "start_time": "2021-10-24T18:39:04.484Z"
   },
   {
    "duration": 45,
    "start_time": "2021-10-24T18:39:04.514Z"
   },
   {
    "duration": 22,
    "start_time": "2021-10-24T18:39:04.562Z"
   },
   {
    "duration": 20,
    "start_time": "2021-10-24T18:39:04.586Z"
   },
   {
    "duration": 4,
    "start_time": "2021-10-24T18:39:04.609Z"
   },
   {
    "duration": 1320,
    "start_time": "2021-10-24T18:39:04.616Z"
   },
   {
    "duration": 5,
    "start_time": "2021-10-24T18:39:05.938Z"
   },
   {
    "duration": 172,
    "start_time": "2021-10-24T18:39:05.957Z"
   },
   {
    "duration": 11,
    "start_time": "2021-10-24T18:39:06.131Z"
   },
   {
    "duration": 70,
    "start_time": "2021-10-24T18:39:06.144Z"
   },
   {
    "duration": 57,
    "start_time": "2021-10-24T18:39:06.216Z"
   },
   {
    "duration": 11,
    "start_time": "2021-10-24T18:39:06.275Z"
   },
   {
    "duration": 5,
    "start_time": "2021-10-24T18:39:06.292Z"
   },
   {
    "duration": 8,
    "start_time": "2021-10-24T18:39:06.300Z"
   },
   {
    "duration": 6,
    "start_time": "2021-10-24T18:39:06.310Z"
   },
   {
    "duration": 77,
    "start_time": "2021-10-24T18:39:06.318Z"
   },
   {
    "duration": 24,
    "start_time": "2021-10-24T18:39:06.397Z"
   },
   {
    "duration": 36,
    "start_time": "2021-10-24T18:39:06.424Z"
   },
   {
    "duration": 23,
    "start_time": "2021-10-24T18:39:06.462Z"
   },
   {
    "duration": 22,
    "start_time": "2021-10-24T18:39:06.488Z"
   },
   {
    "duration": 38,
    "start_time": "2021-10-24T18:39:06.512Z"
   },
   {
    "duration": 19,
    "start_time": "2021-10-24T18:39:06.552Z"
   },
   {
    "duration": 34,
    "start_time": "2021-10-24T18:39:06.574Z"
   },
   {
    "duration": 25,
    "start_time": "2021-10-24T18:39:06.611Z"
   },
   {
    "duration": 52,
    "start_time": "2021-10-24T18:39:06.639Z"
   },
   {
    "duration": 13,
    "start_time": "2021-10-24T18:39:06.693Z"
   },
   {
    "duration": 4,
    "start_time": "2021-10-24T18:39:06.708Z"
   },
   {
    "duration": 5272,
    "start_time": "2021-10-24T18:39:06.715Z"
   },
   {
    "duration": 5,
    "start_time": "2021-10-24T18:39:11.990Z"
   },
   {
    "duration": 29,
    "start_time": "2021-10-24T18:39:11.998Z"
   },
   {
    "duration": 31,
    "start_time": "2021-10-24T18:39:12.029Z"
   },
   {
    "duration": 13,
    "start_time": "2021-10-24T18:39:12.063Z"
   },
   {
    "duration": 8,
    "start_time": "2021-10-24T18:39:12.079Z"
   },
   {
    "duration": 5,
    "start_time": "2021-10-24T18:39:12.090Z"
   },
   {
    "duration": 61,
    "start_time": "2021-10-24T18:39:12.098Z"
   },
   {
    "duration": 9,
    "start_time": "2021-10-24T18:39:12.162Z"
   },
   {
    "duration": 42,
    "start_time": "2021-10-24T18:39:12.174Z"
   },
   {
    "duration": 60,
    "start_time": "2021-10-24T18:39:12.219Z"
   },
   {
    "duration": 18,
    "start_time": "2021-10-24T18:39:12.282Z"
   },
   {
    "duration": 17,
    "start_time": "2021-10-24T18:39:12.303Z"
   },
   {
    "duration": 41,
    "start_time": "2021-10-24T18:39:12.322Z"
   },
   {
    "duration": 20,
    "start_time": "2021-10-24T18:39:41.464Z"
   },
   {
    "duration": 21,
    "start_time": "2021-10-24T18:40:17.188Z"
   },
   {
    "duration": 609,
    "start_time": "2021-10-24T18:45:02.268Z"
   },
   {
    "duration": 20,
    "start_time": "2021-10-24T18:45:32.358Z"
   },
   {
    "duration": 381,
    "start_time": "2021-10-24T18:45:56.844Z"
   },
   {
    "duration": 18,
    "start_time": "2021-10-24T18:46:00.999Z"
   },
   {
    "duration": 25,
    "start_time": "2021-10-24T18:47:41.347Z"
   },
   {
    "duration": 24,
    "start_time": "2021-10-24T18:47:51.435Z"
   },
   {
    "duration": 23,
    "start_time": "2021-10-24T18:47:55.123Z"
   },
   {
    "duration": -281,
    "start_time": "2021-10-24T18:56:35.805Z"
   },
   {
    "duration": -263,
    "start_time": "2021-10-24T18:57:00.547Z"
   },
   {
    "duration": 10715,
    "start_time": "2021-10-24T18:57:05.657Z"
   },
   {
    "duration": 26,
    "start_time": "2021-10-24T19:00:03.623Z"
   },
   {
    "duration": 25,
    "start_time": "2021-10-24T19:02:22.537Z"
   },
   {
    "duration": 45,
    "start_time": "2021-10-24T19:03:11.362Z"
   },
   {
    "duration": 6,
    "start_time": "2021-10-24T19:08:34.398Z"
   },
   {
    "duration": 10515,
    "start_time": "2021-10-24T19:10:00.614Z"
   },
   {
    "duration": 15,
    "start_time": "2021-10-24T19:10:24.464Z"
   },
   {
    "duration": 467,
    "start_time": "2021-10-24T19:10:37.748Z"
   },
   {
    "duration": 10123,
    "start_time": "2021-10-24T19:11:21.860Z"
   },
   {
    "duration": 25,
    "start_time": "2021-10-24T19:11:39.315Z"
   },
   {
    "duration": 24,
    "start_time": "2021-10-24T19:11:58.543Z"
   },
   {
    "duration": 181,
    "start_time": "2021-10-24T19:15:01.664Z"
   },
   {
    "duration": 26,
    "start_time": "2021-10-24T19:15:07.241Z"
   },
   {
    "duration": 26,
    "start_time": "2021-10-24T19:15:20.728Z"
   },
   {
    "duration": 448,
    "start_time": "2021-10-24T19:17:09.580Z"
   },
   {
    "duration": 11,
    "start_time": "2021-10-24T19:18:23.511Z"
   },
   {
    "duration": 13,
    "start_time": "2021-10-24T19:18:37.387Z"
   },
   {
    "duration": 12,
    "start_time": "2021-10-24T19:19:09.123Z"
   },
   {
    "duration": 16,
    "start_time": "2021-10-24T19:19:56.164Z"
   },
   {
    "duration": 27,
    "start_time": "2021-10-24T19:21:49.832Z"
   },
   {
    "duration": 33,
    "start_time": "2021-10-24T19:22:15.330Z"
   },
   {
    "duration": 121,
    "start_time": "2021-10-24T19:22:54.100Z"
   },
   {
    "duration": 468,
    "start_time": "2021-10-24T19:23:00.328Z"
   },
   {
    "duration": 487,
    "start_time": "2021-10-24T19:23:22.150Z"
   },
   {
    "duration": 376,
    "start_time": "2021-10-24T19:24:33.663Z"
   },
   {
    "duration": 377,
    "start_time": "2021-10-24T19:24:41.590Z"
   },
   {
    "duration": 473,
    "start_time": "2021-10-24T19:25:12.424Z"
   },
   {
    "duration": 26,
    "start_time": "2021-10-24T19:25:43.481Z"
   },
   {
    "duration": 432,
    "start_time": "2021-10-24T19:25:54.369Z"
   },
   {
    "duration": 30,
    "start_time": "2021-10-24T19:26:05.561Z"
   },
   {
    "duration": 18,
    "start_time": "2021-10-24T19:27:14.275Z"
   },
   {
    "duration": 19,
    "start_time": "2021-10-24T19:29:01.601Z"
   },
   {
    "duration": 20,
    "start_time": "2021-10-24T19:29:07.461Z"
   },
   {
    "duration": 18,
    "start_time": "2021-10-24T19:29:17.691Z"
   },
   {
    "duration": 18,
    "start_time": "2021-10-24T19:29:33.752Z"
   },
   {
    "duration": 20,
    "start_time": "2021-10-24T19:29:38.727Z"
   },
   {
    "duration": 18,
    "start_time": "2021-10-24T19:31:39.422Z"
   },
   {
    "duration": 4,
    "start_time": "2021-10-24T20:10:03.858Z"
   },
   {
    "duration": 22,
    "start_time": "2021-10-24T20:10:07.454Z"
   },
   {
    "duration": 22,
    "start_time": "2021-10-24T20:10:45.922Z"
   },
   {
    "duration": 15,
    "start_time": "2021-10-24T20:10:49.854Z"
   },
   {
    "duration": 18,
    "start_time": "2021-10-24T20:11:47.250Z"
   },
   {
    "duration": 17,
    "start_time": "2021-10-24T20:13:31.854Z"
   },
   {
    "duration": 25,
    "start_time": "2021-10-24T20:13:33.337Z"
   },
   {
    "duration": 9,
    "start_time": "2021-10-24T20:14:26.693Z"
   },
   {
    "duration": 24,
    "start_time": "2021-10-24T20:14:28.029Z"
   },
   {
    "duration": 23,
    "start_time": "2021-10-24T20:14:59.947Z"
   },
   {
    "duration": 2077,
    "start_time": "2021-10-24T20:20:25.478Z"
   },
   {
    "duration": 403,
    "start_time": "2021-10-24T20:20:35.894Z"
   },
   {
    "duration": 1835,
    "start_time": "2021-10-24T20:20:59.227Z"
   },
   {
    "duration": 383,
    "start_time": "2021-10-24T20:24:41.805Z"
   },
   {
    "duration": 385,
    "start_time": "2021-10-24T20:24:52.825Z"
   },
   {
    "duration": 22,
    "start_time": "2021-10-24T20:25:07.727Z"
   },
   {
    "duration": 30,
    "start_time": "2021-10-24T20:26:09.863Z"
   },
   {
    "duration": 23,
    "start_time": "2021-10-24T20:27:03.463Z"
   },
   {
    "duration": 23,
    "start_time": "2021-10-24T20:27:16.264Z"
   },
   {
    "duration": 22,
    "start_time": "2021-10-24T20:27:55.491Z"
   },
   {
    "duration": 380,
    "start_time": "2021-10-24T20:35:15.866Z"
   },
   {
    "duration": 36,
    "start_time": "2021-10-24T20:35:32.359Z"
   },
   {
    "duration": 578,
    "start_time": "2021-10-24T20:35:39.758Z"
   },
   {
    "duration": 375,
    "start_time": "2021-10-24T20:36:00.885Z"
   },
   {
    "duration": 15,
    "start_time": "2021-10-24T20:36:05.469Z"
   },
   {
    "duration": 18,
    "start_time": "2021-10-24T20:36:27.799Z"
   },
   {
    "duration": 24,
    "start_time": "2021-10-24T20:36:33.748Z"
   },
   {
    "duration": 125,
    "start_time": "2021-10-24T20:37:27.012Z"
   },
   {
    "duration": 17,
    "start_time": "2021-10-24T20:37:37.960Z"
   },
   {
    "duration": 19,
    "start_time": "2021-10-24T20:37:59.129Z"
   },
   {
    "duration": 17,
    "start_time": "2021-10-24T20:38:41.674Z"
   },
   {
    "duration": 24,
    "start_time": "2021-10-24T20:54:57.582Z"
   },
   {
    "duration": 23,
    "start_time": "2021-10-24T20:55:03.365Z"
   },
   {
    "duration": 19,
    "start_time": "2021-10-24T20:55:41.441Z"
   },
   {
    "duration": 175,
    "start_time": "2021-10-24T21:01:10.951Z"
   },
   {
    "duration": 19,
    "start_time": "2021-10-24T21:01:17.347Z"
   },
   {
    "duration": 17,
    "start_time": "2021-10-24T21:01:29.805Z"
   },
   {
    "duration": 19,
    "start_time": "2021-10-24T21:01:32.579Z"
   },
   {
    "duration": 125,
    "start_time": "2021-10-24T21:04:49.429Z"
   },
   {
    "duration": 165,
    "start_time": "2021-10-24T21:05:12.456Z"
   },
   {
    "duration": 129,
    "start_time": "2021-10-24T21:05:16.436Z"
   },
   {
    "duration": 1094,
    "start_time": "2021-10-24T21:05:30.411Z"
   },
   {
    "duration": 142,
    "start_time": "2021-10-24T21:06:03.446Z"
   },
   {
    "duration": 134,
    "start_time": "2021-10-24T21:06:21.593Z"
   },
   {
    "duration": 128,
    "start_time": "2021-10-24T21:09:31.048Z"
   },
   {
    "duration": 208,
    "start_time": "2021-10-24T21:10:48.676Z"
   },
   {
    "duration": 122,
    "start_time": "2021-10-24T21:12:08.103Z"
   },
   {
    "duration": 121,
    "start_time": "2021-10-24T21:13:39.053Z"
   },
   {
    "duration": 151,
    "start_time": "2021-10-24T21:13:43.775Z"
   },
   {
    "duration": -231,
    "start_time": "2021-10-24T21:14:42.394Z"
   },
   {
    "duration": 6,
    "start_time": "2021-10-24T21:16:42.166Z"
   },
   {
    "duration": 121,
    "start_time": "2021-10-24T21:17:04.799Z"
   },
   {
    "duration": 9316,
    "start_time": "2021-10-24T21:17:10.515Z"
   },
   {
    "duration": 11732,
    "start_time": "2021-10-24T21:17:30.515Z"
   },
   {
    "duration": 9541,
    "start_time": "2021-10-24T21:18:12.308Z"
   },
   {
    "duration": 10152,
    "start_time": "2021-10-24T21:18:43.933Z"
   },
   {
    "duration": 377,
    "start_time": "2021-10-24T21:19:14.163Z"
   },
   {
    "duration": 9098,
    "start_time": "2021-10-24T21:19:25.185Z"
   },
   {
    "duration": 142,
    "start_time": "2021-10-24T21:25:09.594Z"
   },
   {
    "duration": 27,
    "start_time": "2021-10-24T21:25:22.633Z"
   },
   {
    "duration": 26,
    "start_time": "2021-10-24T21:25:30.809Z"
   },
   {
    "duration": 28,
    "start_time": "2021-10-24T21:25:56.607Z"
   },
   {
    "duration": 27,
    "start_time": "2021-10-24T21:26:02.367Z"
   },
   {
    "duration": 26,
    "start_time": "2021-10-24T21:26:08.706Z"
   },
   {
    "duration": 7,
    "start_time": "2021-10-24T21:26:24.942Z"
   },
   {
    "duration": 421,
    "start_time": "2021-10-24T21:26:38.608Z"
   },
   {
    "duration": 9497,
    "start_time": "2021-10-24T21:28:38.434Z"
   },
   {
    "duration": 9447,
    "start_time": "2021-10-24T21:29:00.618Z"
   },
   {
    "duration": 11416,
    "start_time": "2021-10-24T21:29:17.719Z"
   },
   {
    "duration": 10361,
    "start_time": "2021-10-24T21:29:30.817Z"
   },
   {
    "duration": 393,
    "start_time": "2021-10-24T21:34:25.381Z"
   },
   {
    "duration": 29,
    "start_time": "2021-10-24T21:34:41.743Z"
   },
   {
    "duration": 391,
    "start_time": "2021-10-24T21:34:49.826Z"
   },
   {
    "duration": 28,
    "start_time": "2021-10-24T21:35:11.415Z"
   },
   {
    "duration": 27,
    "start_time": "2021-10-24T21:36:08.195Z"
   },
   {
    "duration": 10187,
    "start_time": "2021-10-24T21:36:34.596Z"
   },
   {
    "duration": 18,
    "start_time": "2021-10-24T21:37:11.157Z"
   },
   {
    "duration": 18,
    "start_time": "2021-10-24T21:37:29.016Z"
   },
   {
    "duration": 20,
    "start_time": "2021-10-24T21:37:35.264Z"
   },
   {
    "duration": 20,
    "start_time": "2021-10-24T21:37:41.500Z"
   },
   {
    "duration": 13,
    "start_time": "2021-10-24T21:38:08.746Z"
   },
   {
    "duration": 21,
    "start_time": "2021-10-24T21:38:12.957Z"
   },
   {
    "duration": 14,
    "start_time": "2021-10-25T05:30:17.026Z"
   },
   {
    "duration": 6,
    "start_time": "2021-10-25T05:30:56.786Z"
   },
   {
    "duration": 6,
    "start_time": "2021-10-25T05:31:06.046Z"
   },
   {
    "duration": 4,
    "start_time": "2021-10-25T05:31:18.038Z"
   },
   {
    "duration": 7,
    "start_time": "2021-10-25T05:31:23.790Z"
   },
   {
    "duration": 306,
    "start_time": "2021-10-25T05:32:05.838Z"
   },
   {
    "duration": 228,
    "start_time": "2021-10-25T05:32:16.594Z"
   },
   {
    "duration": 6,
    "start_time": "2021-10-25T05:32:34.660Z"
   },
   {
    "duration": 7,
    "start_time": "2021-10-25T05:32:53.173Z"
   },
   {
    "duration": 7,
    "start_time": "2021-10-25T05:33:49.732Z"
   },
   {
    "duration": 5,
    "start_time": "2021-10-25T05:33:57.228Z"
   },
   {
    "duration": 4,
    "start_time": "2021-10-25T05:34:03.747Z"
   },
   {
    "duration": 6,
    "start_time": "2021-10-25T05:34:14.099Z"
   },
   {
    "duration": 7,
    "start_time": "2021-10-25T05:34:27.906Z"
   },
   {
    "duration": 7,
    "start_time": "2021-10-25T05:34:50.203Z"
   },
   {
    "duration": 323,
    "start_time": "2021-10-25T05:35:06.578Z"
   },
   {
    "duration": 235,
    "start_time": "2021-10-25T05:35:43.850Z"
   },
   {
    "duration": 7,
    "start_time": "2021-10-25T05:35:47.826Z"
   },
   {
    "duration": 7,
    "start_time": "2021-10-25T05:36:11.634Z"
   },
   {
    "duration": 8,
    "start_time": "2021-10-25T05:36:43.609Z"
   },
   {
    "duration": 7,
    "start_time": "2021-10-25T05:37:00.961Z"
   },
   {
    "duration": 7,
    "start_time": "2021-10-25T05:37:12.569Z"
   },
   {
    "duration": 7,
    "start_time": "2021-10-25T05:37:46.208Z"
   },
   {
    "duration": 7,
    "start_time": "2021-10-25T05:38:00.015Z"
   },
   {
    "duration": 7,
    "start_time": "2021-10-25T05:38:42.743Z"
   },
   {
    "duration": 7,
    "start_time": "2021-10-25T05:39:18.759Z"
   },
   {
    "duration": 84,
    "start_time": "2021-10-25T05:39:42.623Z"
   },
   {
    "duration": 7,
    "start_time": "2021-10-25T05:39:57.919Z"
   },
   {
    "duration": 92,
    "start_time": "2021-10-25T05:40:00.295Z"
   },
   {
    "duration": 5,
    "start_time": "2021-10-25T05:40:07.646Z"
   },
   {
    "duration": 5,
    "start_time": "2021-10-25T05:54:02.131Z"
   },
   {
    "duration": 5,
    "start_time": "2021-10-25T05:54:22.803Z"
   },
   {
    "duration": 5,
    "start_time": "2021-10-25T05:54:30.650Z"
   },
   {
    "duration": 772,
    "start_time": "2021-10-25T05:54:44.954Z"
   },
   {
    "duration": 78,
    "start_time": "2021-10-25T05:54:47.161Z"
   },
   {
    "duration": 22,
    "start_time": "2021-10-25T05:54:52.946Z"
   },
   {
    "duration": 4,
    "start_time": "2021-10-25T05:55:10.883Z"
   },
   {
    "duration": 6,
    "start_time": "2021-10-25T05:55:18.012Z"
   },
   {
    "duration": 8,
    "start_time": "2021-10-25T05:55:49.498Z"
   },
   {
    "duration": 8,
    "start_time": "2021-10-25T05:56:02.457Z"
   },
   {
    "duration": 8,
    "start_time": "2021-10-25T05:56:32.441Z"
   },
   {
    "duration": 8,
    "start_time": "2021-10-25T05:57:13.713Z"
   },
   {
    "duration": 9,
    "start_time": "2021-10-25T05:57:28.273Z"
   },
   {
    "duration": 762,
    "start_time": "2021-10-25T05:58:00.270Z"
   },
   {
    "duration": 75,
    "start_time": "2021-10-25T05:58:01.035Z"
   },
   {
    "duration": 29,
    "start_time": "2021-10-25T05:58:01.113Z"
   },
   {
    "duration": 52,
    "start_time": "2021-10-25T05:58:01.145Z"
   },
   {
    "duration": 30,
    "start_time": "2021-10-25T05:58:01.199Z"
   },
   {
    "duration": 60,
    "start_time": "2021-10-25T05:58:01.232Z"
   },
   {
    "duration": 8,
    "start_time": "2021-10-25T05:58:01.295Z"
   },
   {
    "duration": 9,
    "start_time": "2021-10-25T05:58:01.308Z"
   },
   {
    "duration": 53,
    "start_time": "2021-10-25T05:58:01.320Z"
   },
   {
    "duration": 23,
    "start_time": "2021-10-25T05:58:01.375Z"
   },
   {
    "duration": 24,
    "start_time": "2021-10-25T05:58:01.401Z"
   },
   {
    "duration": 17,
    "start_time": "2021-10-25T05:58:01.427Z"
   },
   {
    "duration": 44,
    "start_time": "2021-10-25T05:58:01.446Z"
   },
   {
    "duration": 28,
    "start_time": "2021-10-25T05:58:01.493Z"
   },
   {
    "duration": 4,
    "start_time": "2021-10-25T05:58:01.523Z"
   },
   {
    "duration": 647,
    "start_time": "2021-10-25T05:58:01.530Z"
   },
   {
    "duration": 4,
    "start_time": "2021-10-25T05:58:02.180Z"
   },
   {
    "duration": 191,
    "start_time": "2021-10-25T05:58:02.187Z"
   },
   {
    "duration": 10,
    "start_time": "2021-10-25T05:58:02.380Z"
   },
   {
    "duration": 81,
    "start_time": "2021-10-25T05:58:02.392Z"
   },
   {
    "duration": 28,
    "start_time": "2021-10-25T05:58:02.475Z"
   },
   {
    "duration": 9,
    "start_time": "2021-10-25T05:58:02.505Z"
   },
   {
    "duration": 10,
    "start_time": "2021-10-25T05:58:02.520Z"
   },
   {
    "duration": 34,
    "start_time": "2021-10-25T05:58:02.534Z"
   },
   {
    "duration": 4,
    "start_time": "2021-10-25T05:58:02.571Z"
   },
   {
    "duration": 44,
    "start_time": "2021-10-25T05:58:02.577Z"
   },
   {
    "duration": 5,
    "start_time": "2021-10-25T05:58:02.623Z"
   },
   {
    "duration": 38,
    "start_time": "2021-10-25T05:58:02.630Z"
   },
   {
    "duration": 3,
    "start_time": "2021-10-25T05:58:02.671Z"
   },
   {
    "duration": 13,
    "start_time": "2021-10-25T05:58:02.676Z"
   },
   {
    "duration": 9,
    "start_time": "2021-10-25T05:58:02.691Z"
   },
   {
    "duration": 11,
    "start_time": "2021-10-25T05:58:02.702Z"
   },
   {
    "duration": 59,
    "start_time": "2021-10-25T05:58:02.715Z"
   },
   {
    "duration": 30,
    "start_time": "2021-10-25T05:58:02.776Z"
   },
   {
    "duration": 39,
    "start_time": "2021-10-25T05:58:02.808Z"
   },
   {
    "duration": 12,
    "start_time": "2021-10-25T05:58:02.868Z"
   },
   {
    "duration": 3,
    "start_time": "2021-10-25T05:58:02.885Z"
   },
   {
    "duration": 4759,
    "start_time": "2021-10-25T05:58:02.891Z"
   },
   {
    "duration": 14,
    "start_time": "2021-10-25T05:58:07.653Z"
   },
   {
    "duration": 22,
    "start_time": "2021-10-25T05:58:07.670Z"
   },
   {
    "duration": 6,
    "start_time": "2021-10-25T05:58:07.694Z"
   },
   {
    "duration": 6,
    "start_time": "2021-10-25T05:58:07.702Z"
   },
   {
    "duration": 8,
    "start_time": "2021-10-25T05:58:07.710Z"
   },
   {
    "duration": 4,
    "start_time": "2021-10-25T05:58:07.721Z"
   },
   {
    "duration": 20,
    "start_time": "2021-10-25T05:58:07.768Z"
   },
   {
    "duration": 7,
    "start_time": "2021-10-25T05:58:07.790Z"
   },
   {
    "duration": 69,
    "start_time": "2021-10-25T05:58:07.799Z"
   },
   {
    "duration": 5,
    "start_time": "2021-10-25T05:58:07.871Z"
   },
   {
    "duration": 5,
    "start_time": "2021-10-25T05:58:07.878Z"
   },
   {
    "duration": 17,
    "start_time": "2021-10-25T05:58:07.886Z"
   },
   {
    "duration": 21,
    "start_time": "2021-10-25T05:58:07.905Z"
   },
   {
    "duration": 55,
    "start_time": "2021-10-25T05:58:07.928Z"
   },
   {
    "duration": 23,
    "start_time": "2021-10-25T05:58:07.986Z"
   },
   {
    "duration": 21,
    "start_time": "2021-10-25T05:58:08.012Z"
   },
   {
    "duration": 22,
    "start_time": "2021-10-25T05:58:08.068Z"
   },
   {
    "duration": 20,
    "start_time": "2021-10-25T05:59:13.111Z"
   },
   {
    "duration": 695,
    "start_time": "2021-10-25T06:14:38.019Z"
   },
   {
    "duration": 73,
    "start_time": "2021-10-25T06:14:38.716Z"
   },
   {
    "duration": 32,
    "start_time": "2021-10-25T06:14:38.792Z"
   },
   {
    "duration": 17,
    "start_time": "2021-10-25T06:14:38.827Z"
   },
   {
    "duration": 21,
    "start_time": "2021-10-25T06:14:38.867Z"
   },
   {
    "duration": 51,
    "start_time": "2021-10-25T06:14:38.891Z"
   },
   {
    "duration": 27,
    "start_time": "2021-10-25T06:14:38.944Z"
   },
   {
    "duration": 7,
    "start_time": "2021-10-25T06:14:38.974Z"
   },
   {
    "duration": 23,
    "start_time": "2021-10-25T06:14:38.984Z"
   },
   {
    "duration": 6,
    "start_time": "2021-10-25T06:14:43.775Z"
   },
   {
    "duration": 538,
    "start_time": "2021-10-25T06:14:45.631Z"
   },
   {
    "duration": 5,
    "start_time": "2021-10-25T06:15:04.527Z"
   },
   {
    "duration": 511,
    "start_time": "2021-10-25T06:15:08.240Z"
   },
   {
    "duration": 5,
    "start_time": "2021-10-25T06:16:53.230Z"
   },
   {
    "duration": 513,
    "start_time": "2021-10-25T06:16:55.974Z"
   },
   {
    "duration": 950,
    "start_time": "2021-10-25T06:17:38.829Z"
   },
   {
    "duration": -26,
    "start_time": "2021-10-25T06:17:39.808Z"
   },
   {
    "duration": 4,
    "start_time": "2021-10-25T06:17:45.398Z"
   },
   {
    "duration": 606,
    "start_time": "2021-10-25T06:17:49.269Z"
   },
   {
    "duration": 23,
    "start_time": "2021-10-25T06:18:03.549Z"
   },
   {
    "duration": 6,
    "start_time": "2021-10-25T06:18:55.140Z"
   },
   {
    "duration": 611,
    "start_time": "2021-10-25T06:18:56.268Z"
   },
   {
    "duration": 23,
    "start_time": "2021-10-25T06:19:02.021Z"
   },
   {
    "duration": 5,
    "start_time": "2021-10-25T06:19:27.108Z"
   },
   {
    "duration": 601,
    "start_time": "2021-10-25T06:19:27.884Z"
   },
   {
    "duration": 26,
    "start_time": "2021-10-25T06:19:29.460Z"
   },
   {
    "duration": 5,
    "start_time": "2021-10-25T06:19:38.715Z"
   },
   {
    "duration": 555,
    "start_time": "2021-10-25T06:19:39.891Z"
   },
   {
    "duration": 5,
    "start_time": "2021-10-25T06:21:16.466Z"
   },
   {
    "duration": 495,
    "start_time": "2021-10-25T06:21:17.026Z"
   },
   {
    "duration": 6,
    "start_time": "2021-10-25T06:21:35.201Z"
   },
   {
    "duration": 609,
    "start_time": "2021-10-25T06:21:35.938Z"
   },
   {
    "duration": 23,
    "start_time": "2021-10-25T06:21:39.034Z"
   },
   {
    "duration": 6,
    "start_time": "2021-10-25T06:25:25.992Z"
   },
   {
    "duration": 627,
    "start_time": "2021-10-25T06:25:26.767Z"
   },
   {
    "duration": 7,
    "start_time": "2021-10-25T06:27:41.518Z"
   },
   {
    "duration": 666,
    "start_time": "2021-10-25T06:27:43.038Z"
   },
   {
    "duration": 23,
    "start_time": "2021-10-25T06:27:45.677Z"
   },
   {
    "duration": 5,
    "start_time": "2021-10-25T06:28:00.661Z"
   },
   {
    "duration": 701,
    "start_time": "2021-10-25T06:28:01.253Z"
   },
   {
    "duration": 35,
    "start_time": "2021-10-25T06:28:01.957Z"
   },
   {
    "duration": 37,
    "start_time": "2021-10-25T06:28:25.252Z"
   },
   {
    "duration": 752,
    "start_time": "2021-10-25T06:29:14.067Z"
   },
   {
    "duration": 79,
    "start_time": "2021-10-25T06:29:14.821Z"
   },
   {
    "duration": 28,
    "start_time": "2021-10-25T06:29:14.903Z"
   },
   {
    "duration": 39,
    "start_time": "2021-10-25T06:29:14.934Z"
   },
   {
    "duration": 22,
    "start_time": "2021-10-25T06:29:14.976Z"
   },
   {
    "duration": 79,
    "start_time": "2021-10-25T06:29:15.002Z"
   },
   {
    "duration": 6,
    "start_time": "2021-10-25T06:29:15.084Z"
   },
   {
    "duration": 18,
    "start_time": "2021-10-25T06:29:15.092Z"
   },
   {
    "duration": 23,
    "start_time": "2021-10-25T06:29:15.113Z"
   },
   {
    "duration": 32,
    "start_time": "2021-10-25T06:29:15.138Z"
   },
   {
    "duration": 609,
    "start_time": "2021-10-25T06:29:15.172Z"
   },
   {
    "duration": 21,
    "start_time": "2021-10-25T06:29:24.032Z"
   },
   {
    "duration": 31,
    "start_time": "2021-10-25T06:37:45.915Z"
   },
   {
    "duration": 22,
    "start_time": "2021-10-25T06:39:39.987Z"
   },
   {
    "duration": 24,
    "start_time": "2021-10-25T06:40:04.609Z"
   },
   {
    "duration": 22,
    "start_time": "2021-10-25T06:40:13.360Z"
   },
   {
    "duration": 780,
    "start_time": "2021-10-25T06:51:04.985Z"
   },
   {
    "duration": 80,
    "start_time": "2021-10-25T06:51:05.768Z"
   },
   {
    "duration": 28,
    "start_time": "2021-10-25T06:51:05.867Z"
   },
   {
    "duration": 20,
    "start_time": "2021-10-25T06:51:05.898Z"
   },
   {
    "duration": 51,
    "start_time": "2021-10-25T06:51:05.920Z"
   },
   {
    "duration": 54,
    "start_time": "2021-10-25T06:51:05.974Z"
   },
   {
    "duration": 8,
    "start_time": "2021-10-25T06:51:06.033Z"
   },
   {
    "duration": 8,
    "start_time": "2021-10-25T06:51:06.067Z"
   },
   {
    "duration": 27,
    "start_time": "2021-10-25T06:51:06.077Z"
   },
   {
    "duration": 5,
    "start_time": "2021-10-25T06:51:06.107Z"
   },
   {
    "duration": 671,
    "start_time": "2021-10-25T06:51:06.114Z"
   },
   {
    "duration": 22,
    "start_time": "2021-10-25T06:51:06.787Z"
   },
   {
    "duration": 13,
    "start_time": "2021-10-25T06:51:06.812Z"
   },
   {
    "duration": 56,
    "start_time": "2021-10-25T06:51:06.828Z"
   },
   {
    "duration": 19,
    "start_time": "2021-10-25T06:51:06.887Z"
   },
   {
    "duration": 24,
    "start_time": "2021-10-25T06:51:06.910Z"
   },
   {
    "duration": 53,
    "start_time": "2021-10-25T06:51:06.937Z"
   },
   {
    "duration": 6,
    "start_time": "2021-10-25T06:51:06.993Z"
   },
   {
    "duration": 710,
    "start_time": "2021-10-25T06:51:07.002Z"
   },
   {
    "duration": 6,
    "start_time": "2021-10-25T06:51:07.715Z"
   },
   {
    "duration": 208,
    "start_time": "2021-10-25T06:51:07.724Z"
   },
   {
    "duration": 10,
    "start_time": "2021-10-25T06:51:07.940Z"
   },
   {
    "duration": 65,
    "start_time": "2021-10-25T06:51:07.970Z"
   },
   {
    "duration": 50,
    "start_time": "2021-10-25T06:51:08.037Z"
   },
   {
    "duration": 9,
    "start_time": "2021-10-25T06:51:08.089Z"
   },
   {
    "duration": 17,
    "start_time": "2021-10-25T06:51:08.100Z"
   },
   {
    "duration": 8,
    "start_time": "2021-10-25T06:51:08.120Z"
   },
   {
    "duration": 6,
    "start_time": "2021-10-25T06:51:08.130Z"
   },
   {
    "duration": 78,
    "start_time": "2021-10-25T06:51:08.138Z"
   },
   {
    "duration": 6,
    "start_time": "2021-10-25T06:51:08.218Z"
   },
   {
    "duration": 41,
    "start_time": "2021-10-25T06:51:08.226Z"
   },
   {
    "duration": 5,
    "start_time": "2021-10-25T06:51:08.270Z"
   },
   {
    "duration": 26,
    "start_time": "2021-10-25T06:51:08.278Z"
   },
   {
    "duration": 15,
    "start_time": "2021-10-25T06:51:08.306Z"
   },
   {
    "duration": 13,
    "start_time": "2021-10-25T06:51:08.323Z"
   },
   {
    "duration": 36,
    "start_time": "2021-10-25T06:51:08.339Z"
   },
   {
    "duration": 32,
    "start_time": "2021-10-25T06:51:08.378Z"
   },
   {
    "duration": 60,
    "start_time": "2021-10-25T06:51:08.413Z"
   },
   {
    "duration": 18,
    "start_time": "2021-10-25T06:51:08.476Z"
   },
   {
    "duration": 4,
    "start_time": "2021-10-25T06:51:08.498Z"
   },
   {
    "duration": 4968,
    "start_time": "2021-10-25T06:51:08.505Z"
   },
   {
    "duration": 5,
    "start_time": "2021-10-25T06:51:13.477Z"
   },
   {
    "duration": 26,
    "start_time": "2021-10-25T06:51:13.484Z"
   },
   {
    "duration": 5,
    "start_time": "2021-10-25T06:51:13.512Z"
   },
   {
    "duration": 9,
    "start_time": "2021-10-25T06:51:13.520Z"
   },
   {
    "duration": 39,
    "start_time": "2021-10-25T06:51:13.531Z"
   },
   {
    "duration": 16,
    "start_time": "2021-10-25T06:51:13.573Z"
   },
   {
    "duration": 21,
    "start_time": "2021-10-25T06:51:13.591Z"
   },
   {
    "duration": 7,
    "start_time": "2021-10-25T06:51:13.615Z"
   },
   {
    "duration": 70,
    "start_time": "2021-10-25T06:51:13.624Z"
   },
   {
    "duration": 7,
    "start_time": "2021-10-25T06:51:13.697Z"
   },
   {
    "duration": 8,
    "start_time": "2021-10-25T06:51:13.706Z"
   },
   {
    "duration": 24,
    "start_time": "2021-10-25T06:51:13.716Z"
   },
   {
    "duration": 45,
    "start_time": "2021-10-25T06:51:13.742Z"
   },
   {
    "duration": 21,
    "start_time": "2021-10-25T06:51:13.790Z"
   },
   {
    "duration": 21,
    "start_time": "2021-10-25T06:51:13.814Z"
   },
   {
    "duration": 22,
    "start_time": "2021-10-25T06:51:13.868Z"
   },
   {
    "duration": 21,
    "start_time": "2021-10-25T06:51:13.892Z"
   },
   {
    "duration": 834,
    "start_time": "2021-10-25T09:45:23.392Z"
   },
   {
    "duration": 1558,
    "start_time": "2021-10-25T09:45:24.229Z"
   },
   {
    "duration": 29,
    "start_time": "2021-10-25T09:45:25.790Z"
   },
   {
    "duration": 38,
    "start_time": "2021-10-25T09:45:25.822Z"
   },
   {
    "duration": 22,
    "start_time": "2021-10-25T09:45:25.862Z"
   },
   {
    "duration": 74,
    "start_time": "2021-10-25T09:45:25.887Z"
   },
   {
    "duration": 6,
    "start_time": "2021-10-25T09:45:25.963Z"
   },
   {
    "duration": 6,
    "start_time": "2021-10-25T09:45:25.973Z"
   },
   {
    "duration": 24,
    "start_time": "2021-10-25T09:45:25.982Z"
   },
   {
    "duration": 5,
    "start_time": "2021-10-25T09:45:26.008Z"
   },
   {
    "duration": 655,
    "start_time": "2021-10-25T09:45:26.015Z"
   },
   {
    "duration": 21,
    "start_time": "2021-10-25T09:45:26.672Z"
   },
   {
    "duration": 14,
    "start_time": "2021-10-25T09:45:26.696Z"
   },
   {
    "duration": 58,
    "start_time": "2021-10-25T09:45:26.713Z"
   },
   {
    "duration": 17,
    "start_time": "2021-10-25T09:45:26.773Z"
   },
   {
    "duration": 26,
    "start_time": "2021-10-25T09:45:26.792Z"
   },
   {
    "duration": 59,
    "start_time": "2021-10-25T09:45:26.821Z"
   },
   {
    "duration": 6,
    "start_time": "2021-10-25T09:45:26.882Z"
   },
   {
    "duration": 642,
    "start_time": "2021-10-25T09:45:26.890Z"
   },
   {
    "duration": 4,
    "start_time": "2021-10-25T09:45:27.535Z"
   },
   {
    "duration": 201,
    "start_time": "2021-10-25T09:45:27.542Z"
   },
   {
    "duration": 16,
    "start_time": "2021-10-25T09:45:27.746Z"
   },
   {
    "duration": 59,
    "start_time": "2021-10-25T09:45:27.768Z"
   },
   {
    "duration": 50,
    "start_time": "2021-10-25T09:45:27.830Z"
   },
   {
    "duration": 8,
    "start_time": "2021-10-25T09:45:27.882Z"
   },
   {
    "duration": 8,
    "start_time": "2021-10-25T09:45:27.892Z"
   },
   {
    "duration": 13,
    "start_time": "2021-10-25T09:45:27.902Z"
   },
   {
    "duration": 9,
    "start_time": "2021-10-25T09:45:27.917Z"
   },
   {
    "duration": 42,
    "start_time": "2021-10-25T09:45:27.957Z"
   },
   {
    "duration": 6,
    "start_time": "2021-10-25T09:45:28.002Z"
   },
   {
    "duration": 10,
    "start_time": "2021-10-25T09:45:28.010Z"
   },
   {
    "duration": 35,
    "start_time": "2021-10-25T09:45:28.023Z"
   },
   {
    "duration": 9,
    "start_time": "2021-10-25T09:45:28.061Z"
   },
   {
    "duration": 9,
    "start_time": "2021-10-25T09:45:28.073Z"
   },
   {
    "duration": 9,
    "start_time": "2021-10-25T09:45:28.085Z"
   },
   {
    "duration": 13,
    "start_time": "2021-10-25T09:45:28.097Z"
   },
   {
    "duration": 24,
    "start_time": "2021-10-25T09:45:28.157Z"
   },
   {
    "duration": 41,
    "start_time": "2021-10-25T09:45:28.183Z"
   },
   {
    "duration": 37,
    "start_time": "2021-10-25T09:45:28.227Z"
   },
   {
    "duration": 4,
    "start_time": "2021-10-25T09:45:28.267Z"
   },
   {
    "duration": 5430,
    "start_time": "2021-10-25T09:45:28.274Z"
   },
   {
    "duration": 4,
    "start_time": "2021-10-25T09:45:33.707Z"
   },
   {
    "duration": 45,
    "start_time": "2021-10-25T09:45:33.713Z"
   },
   {
    "duration": 19,
    "start_time": "2021-10-25T09:45:33.761Z"
   },
   {
    "duration": 22,
    "start_time": "2021-10-25T09:45:33.783Z"
   },
   {
    "duration": 31,
    "start_time": "2021-10-25T09:45:33.807Z"
   },
   {
    "duration": 25,
    "start_time": "2021-10-25T09:45:33.841Z"
   },
   {
    "duration": 39,
    "start_time": "2021-10-25T09:45:33.869Z"
   },
   {
    "duration": 12,
    "start_time": "2021-10-25T09:45:33.911Z"
   },
   {
    "duration": 59,
    "start_time": "2021-10-25T09:45:33.925Z"
   },
   {
    "duration": 19,
    "start_time": "2021-10-25T09:45:33.987Z"
   },
   {
    "duration": 40,
    "start_time": "2021-10-25T09:45:34.009Z"
   },
   {
    "duration": 44,
    "start_time": "2021-10-25T09:45:34.052Z"
   },
   {
    "duration": 34,
    "start_time": "2021-10-25T09:45:34.098Z"
   },
   {
    "duration": 580,
    "start_time": "2021-10-25T09:45:34.136Z"
   },
   {
    "duration": 1341,
    "start_time": "2021-10-25T09:45:33.378Z"
   },
   {
    "duration": 1339,
    "start_time": "2021-10-25T09:45:33.383Z"
   },
   {
    "duration": 1312,
    "start_time": "2021-10-25T09:45:33.412Z"
   },
   {
    "duration": 807,
    "start_time": "2021-10-25T11:53:58.791Z"
   },
   {
    "duration": 357,
    "start_time": "2021-10-25T11:54:35.526Z"
   },
   {
    "duration": 18,
    "start_time": "2021-10-25T11:54:48.087Z"
   },
   {
    "duration": 22,
    "start_time": "2021-10-25T12:11:42.997Z"
   },
   {
    "duration": 8,
    "start_time": "2021-10-25T12:12:03.447Z"
   },
   {
    "duration": 22,
    "start_time": "2021-10-25T12:12:05.498Z"
   },
   {
    "duration": 566,
    "start_time": "2021-10-25T12:12:21.818Z"
   },
   {
    "duration": 704,
    "start_time": "2021-10-25T12:12:30.586Z"
   },
   {
    "duration": 594,
    "start_time": "2021-10-25T12:44:38.344Z"
   },
   {
    "duration": 853,
    "start_time": "2021-10-25T12:45:03.604Z"
   },
   {
    "duration": 15,
    "start_time": "2021-10-25T12:54:17.040Z"
   },
   {
    "duration": 796,
    "start_time": "2021-10-25T12:54:17.600Z"
   },
   {
    "duration": 19,
    "start_time": "2021-10-25T12:54:30.844Z"
   },
   {
    "duration": 24,
    "start_time": "2021-10-25T12:55:14.952Z"
   },
   {
    "duration": 25,
    "start_time": "2021-10-25T12:55:40.782Z"
   },
   {
    "duration": 24,
    "start_time": "2021-10-25T12:55:48.441Z"
   },
   {
    "duration": 352,
    "start_time": "2021-10-25T12:57:09.585Z"
   },
   {
    "duration": 26,
    "start_time": "2021-10-25T12:57:29.545Z"
   },
   {
    "duration": 9,
    "start_time": "2021-10-26T18:48:14.207Z"
   },
   {
    "duration": 546,
    "start_time": "2021-10-26T18:49:50.903Z"
   },
   {
    "duration": 296,
    "start_time": "2021-10-26T18:50:13.635Z"
   },
   {
    "duration": 4,
    "start_time": "2021-10-26T18:50:33.166Z"
   },
   {
    "duration": 279,
    "start_time": "2021-10-26T18:50:55.998Z"
   },
   {
    "duration": 2,
    "start_time": "2021-10-26T18:51:02.679Z"
   },
   {
    "duration": 4,
    "start_time": "2021-10-26T18:51:08.958Z"
   },
   {
    "duration": 4,
    "start_time": "2021-10-26T18:51:26.109Z"
   },
   {
    "duration": 262,
    "start_time": "2021-10-26T18:51:50.316Z"
   },
   {
    "duration": 273,
    "start_time": "2021-10-26T18:52:05.982Z"
   },
   {
    "duration": 5,
    "start_time": "2021-10-26T18:52:19.286Z"
   },
   {
    "duration": 328,
    "start_time": "2021-10-26T19:10:37.749Z"
   },
   {
    "duration": 283,
    "start_time": "2021-10-26T19:10:54.279Z"
   },
   {
    "duration": 258,
    "start_time": "2021-10-26T19:11:09.054Z"
   },
   {
    "duration": 99,
    "start_time": "2021-10-26T19:11:29.278Z"
   },
   {
    "duration": 5,
    "start_time": "2021-10-26T19:11:41.096Z"
   },
   {
    "duration": 258,
    "start_time": "2021-10-26T19:13:09.272Z"
   },
   {
    "duration": 265,
    "start_time": "2021-10-26T19:13:32.619Z"
   },
   {
    "duration": 263,
    "start_time": "2021-10-26T19:13:39.644Z"
   },
   {
    "duration": 284,
    "start_time": "2021-10-26T19:14:24.476Z"
   },
   {
    "duration": 143,
    "start_time": "2021-10-26T19:15:43.993Z"
   },
   {
    "duration": 379,
    "start_time": "2021-10-26T19:15:49.705Z"
   },
   {
    "duration": 4,
    "start_time": "2021-10-26T19:16:13.548Z"
   },
   {
    "duration": 267,
    "start_time": "2021-10-26T19:16:31.740Z"
   },
   {
    "duration": 101,
    "start_time": "2021-10-26T19:17:23.003Z"
   },
   {
    "duration": 92,
    "start_time": "2021-10-26T19:17:33.585Z"
   },
   {
    "duration": 162,
    "start_time": "2021-10-26T19:17:40.982Z"
   },
   {
    "duration": 90,
    "start_time": "2021-10-26T19:18:41.441Z"
   },
   {
    "duration": 93,
    "start_time": "2021-10-26T19:18:57.929Z"
   },
   {
    "duration": 5,
    "start_time": "2021-10-26T19:19:14.651Z"
   },
   {
    "duration": 4,
    "start_time": "2021-10-26T19:19:31.786Z"
   },
   {
    "duration": 283,
    "start_time": "2021-10-26T19:20:28.483Z"
   },
   {
    "duration": 5,
    "start_time": "2021-10-26T19:20:41.045Z"
   },
   {
    "duration": 5,
    "start_time": "2021-10-26T19:21:07.832Z"
   },
   {
    "duration": 10,
    "start_time": "2021-10-26T19:21:16.770Z"
   },
   {
    "duration": 5,
    "start_time": "2021-10-26T19:21:34.028Z"
   },
   {
    "duration": 5,
    "start_time": "2021-10-26T19:21:41.956Z"
   },
   {
    "duration": 5,
    "start_time": "2021-10-26T19:22:22.957Z"
   },
   {
    "duration": 6,
    "start_time": "2021-10-26T19:22:53.456Z"
   },
   {
    "duration": 5,
    "start_time": "2021-10-26T19:23:17.725Z"
   },
   {
    "duration": 323,
    "start_time": "2021-10-26T19:23:29.319Z"
   },
   {
    "duration": 6,
    "start_time": "2021-10-26T19:23:41.635Z"
   },
   {
    "duration": 4,
    "start_time": "2021-10-26T19:23:49.427Z"
   },
   {
    "duration": 211,
    "start_time": "2021-10-27T06:56:45.076Z"
   },
   {
    "duration": 182,
    "start_time": "2021-10-27T06:56:54.883Z"
   },
   {
    "duration": 173,
    "start_time": "2021-10-27T06:57:10.064Z"
   },
   {
    "duration": 179,
    "start_time": "2021-10-27T06:57:24.176Z"
   },
   {
    "duration": 171,
    "start_time": "2021-10-27T06:57:39.935Z"
   },
   {
    "duration": 176,
    "start_time": "2021-10-27T06:58:40.118Z"
   },
   {
    "duration": 171,
    "start_time": "2021-10-27T06:58:56.382Z"
   },
   {
    "duration": 4,
    "start_time": "2021-10-27T06:59:06.294Z"
   },
   {
    "duration": 4,
    "start_time": "2021-10-27T06:59:27.295Z"
   },
   {
    "duration": 3,
    "start_time": "2021-10-27T06:59:47.542Z"
   },
   {
    "duration": 8,
    "start_time": "2021-10-27T07:01:39.300Z"
   },
   {
    "duration": 4,
    "start_time": "2021-10-27T07:02:14.094Z"
   },
   {
    "duration": 181,
    "start_time": "2021-10-27T07:02:27.347Z"
   },
   {
    "duration": 5,
    "start_time": "2021-10-27T07:02:37.316Z"
   },
   {
    "duration": 5,
    "start_time": "2021-10-27T07:03:38.432Z"
   },
   {
    "duration": 532,
    "start_time": "2021-10-27T07:03:38.438Z"
   },
   {
    "duration": 57,
    "start_time": "2021-10-27T07:03:38.972Z"
   },
   {
    "duration": 12,
    "start_time": "2021-10-27T07:03:39.031Z"
   },
   {
    "duration": 10,
    "start_time": "2021-10-27T07:03:39.045Z"
   },
   {
    "duration": 15,
    "start_time": "2021-10-27T07:03:39.056Z"
   },
   {
    "duration": 48,
    "start_time": "2021-10-27T07:03:39.073Z"
   },
   {
    "duration": 4,
    "start_time": "2021-10-27T07:03:39.123Z"
   },
   {
    "duration": 20,
    "start_time": "2021-10-27T07:03:39.128Z"
   },
   {
    "duration": 21,
    "start_time": "2021-10-27T07:03:39.149Z"
   },
   {
    "duration": 3,
    "start_time": "2021-10-27T07:03:39.171Z"
   },
   {
    "duration": 339,
    "start_time": "2021-10-27T07:03:39.175Z"
   },
   {
    "duration": 13,
    "start_time": "2021-10-27T07:03:39.516Z"
   },
   {
    "duration": 9,
    "start_time": "2021-10-27T07:03:39.530Z"
   },
   {
    "duration": 14,
    "start_time": "2021-10-27T07:03:39.540Z"
   },
   {
    "duration": 10,
    "start_time": "2021-10-27T07:03:39.556Z"
   },
   {
    "duration": 36,
    "start_time": "2021-10-27T07:03:39.567Z"
   },
   {
    "duration": 15,
    "start_time": "2021-10-27T07:03:39.605Z"
   },
   {
    "duration": 4,
    "start_time": "2021-10-27T07:03:39.623Z"
   },
   {
    "duration": 337,
    "start_time": "2021-10-27T07:03:39.629Z"
   },
   {
    "duration": 3,
    "start_time": "2021-10-27T07:03:39.967Z"
   },
   {
    "duration": 104,
    "start_time": "2021-10-27T07:03:39.971Z"
   },
   {
    "duration": 6,
    "start_time": "2021-10-27T07:03:40.076Z"
   },
   {
    "duration": 48,
    "start_time": "2021-10-27T07:03:40.091Z"
   },
   {
    "duration": 20,
    "start_time": "2021-10-27T07:03:40.140Z"
   },
   {
    "duration": 5,
    "start_time": "2021-10-27T07:03:40.161Z"
   },
   {
    "duration": 9,
    "start_time": "2021-10-27T07:03:40.167Z"
   },
   {
    "duration": 21,
    "start_time": "2021-10-27T07:03:40.177Z"
   },
   {
    "duration": 21,
    "start_time": "2021-10-27T07:03:40.199Z"
   },
   {
    "duration": 28,
    "start_time": "2021-10-27T07:03:40.222Z"
   },
   {
    "duration": 27,
    "start_time": "2021-10-27T07:03:40.251Z"
   },
   {
    "duration": 16,
    "start_time": "2021-10-27T07:03:40.279Z"
   },
   {
    "duration": 32,
    "start_time": "2021-10-27T07:03:40.296Z"
   },
   {
    "duration": 24,
    "start_time": "2021-10-27T07:03:40.329Z"
   },
   {
    "duration": 31,
    "start_time": "2021-10-27T07:03:40.355Z"
   },
   {
    "duration": 14,
    "start_time": "2021-10-27T07:03:40.388Z"
   },
   {
    "duration": 36,
    "start_time": "2021-10-27T07:03:40.403Z"
   },
   {
    "duration": 34,
    "start_time": "2021-10-27T07:03:40.440Z"
   },
   {
    "duration": 34,
    "start_time": "2021-10-27T07:03:40.475Z"
   },
   {
    "duration": 16,
    "start_time": "2021-10-27T07:03:40.510Z"
   },
   {
    "duration": 19,
    "start_time": "2021-10-27T07:03:40.527Z"
   },
   {
    "duration": 3225,
    "start_time": "2021-10-27T07:03:40.548Z"
   },
   {
    "duration": 3,
    "start_time": "2021-10-27T07:03:43.774Z"
   },
   {
    "duration": 23,
    "start_time": "2021-10-27T07:03:43.778Z"
   },
   {
    "duration": 6,
    "start_time": "2021-10-27T07:03:43.803Z"
   },
   {
    "duration": 6,
    "start_time": "2021-10-27T07:03:43.810Z"
   },
   {
    "duration": 8,
    "start_time": "2021-10-27T07:03:43.817Z"
   },
   {
    "duration": 3,
    "start_time": "2021-10-27T07:03:43.827Z"
   },
   {
    "duration": 13,
    "start_time": "2021-10-27T07:03:43.831Z"
   },
   {
    "duration": 2,
    "start_time": "2021-10-27T07:03:43.846Z"
   },
   {
    "duration": 54,
    "start_time": "2021-10-27T07:03:43.850Z"
   },
   {
    "duration": 4,
    "start_time": "2021-10-27T07:03:43.905Z"
   },
   {
    "duration": 5,
    "start_time": "2021-10-27T07:03:43.910Z"
   },
   {
    "duration": 15,
    "start_time": "2021-10-27T07:03:43.916Z"
   },
   {
    "duration": 18,
    "start_time": "2021-10-27T07:03:43.935Z"
   },
   {
    "duration": 36,
    "start_time": "2021-10-27T07:03:43.955Z"
   },
   {
    "duration": 15,
    "start_time": "2021-10-27T07:03:43.993Z"
   },
   {
    "duration": 14,
    "start_time": "2021-10-27T07:03:44.010Z"
   },
   {
    "duration": 13,
    "start_time": "2021-10-27T07:08:51.064Z"
   },
   {
    "duration": 211,
    "start_time": "2021-10-27T07:09:01.343Z"
   },
   {
    "duration": 11,
    "start_time": "2021-10-27T07:09:08.863Z"
   },
   {
    "duration": 6,
    "start_time": "2021-10-27T07:11:01.102Z"
   },
   {
    "duration": 5,
    "start_time": "2021-10-27T07:11:12.157Z"
   },
   {
    "duration": 5,
    "start_time": "2021-10-27T07:13:12.124Z"
   },
   {
    "duration": 168,
    "start_time": "2021-10-27T07:22:42.309Z"
   },
   {
    "duration": 6,
    "start_time": "2021-10-27T07:24:17.188Z"
   },
   {
    "duration": 177,
    "start_time": "2021-10-27T07:24:28.379Z"
   },
   {
    "duration": 9,
    "start_time": "2021-10-27T07:24:55.323Z"
   },
   {
    "duration": 66,
    "start_time": "2021-10-27T07:25:39.378Z"
   },
   {
    "duration": 690,
    "start_time": "2021-10-27T07:25:46.946Z"
   },
   {
    "duration": 2833,
    "start_time": "2021-10-27T07:26:13.314Z"
   },
   {
    "duration": 671,
    "start_time": "2021-10-27T07:26:21.266Z"
   },
   {
    "duration": 705,
    "start_time": "2021-10-27T07:26:32.826Z"
   },
   {
    "duration": 175,
    "start_time": "2021-10-27T07:26:42.490Z"
   },
   {
    "duration": 9,
    "start_time": "2021-10-27T07:26:52.249Z"
   },
   {
    "duration": 707,
    "start_time": "2021-10-27T07:27:06.290Z"
   },
   {
    "duration": 690,
    "start_time": "2021-10-27T07:27:24.714Z"
   },
   {
    "duration": 2801,
    "start_time": "2021-10-27T07:27:59.249Z"
   },
   {
    "duration": 698,
    "start_time": "2021-10-27T07:29:44.048Z"
   },
   {
    "duration": 11,
    "start_time": "2021-10-27T07:30:05.359Z"
   },
   {
    "duration": 708,
    "start_time": "2021-10-27T07:31:15.128Z"
   },
   {
    "duration": 6,
    "start_time": "2021-10-27T07:31:22.142Z"
   },
   {
    "duration": 168,
    "start_time": "2021-10-27T07:32:07.886Z"
   },
   {
    "duration": 185,
    "start_time": "2021-10-27T07:32:26.741Z"
   },
   {
    "duration": 176,
    "start_time": "2021-10-27T07:32:47.133Z"
   },
   {
    "duration": 175,
    "start_time": "2021-10-27T07:33:06.606Z"
   },
   {
    "duration": 190,
    "start_time": "2021-10-27T07:33:16.132Z"
   },
   {
    "duration": 8,
    "start_time": "2021-10-27T07:33:27.365Z"
   },
   {
    "duration": 8,
    "start_time": "2021-10-27T07:34:02.261Z"
   },
   {
    "duration": 182,
    "start_time": "2021-10-27T07:34:43.364Z"
   },
   {
    "duration": 188,
    "start_time": "2021-10-27T07:36:56.467Z"
   },
   {
    "duration": 6,
    "start_time": "2021-10-27T07:37:09.842Z"
   },
   {
    "duration": 736,
    "start_time": "2021-10-27T07:37:52.089Z"
   },
   {
    "duration": 8,
    "start_time": "2021-10-27T07:38:08.370Z"
   },
   {
    "duration": 9,
    "start_time": "2021-10-27T07:39:20.640Z"
   },
   {
    "duration": 9,
    "start_time": "2021-10-27T07:39:29.128Z"
   },
   {
    "duration": 138,
    "start_time": "2021-10-27T07:40:15.111Z"
   },
   {
    "duration": 15,
    "start_time": "2021-10-27T07:40:27.631Z"
   },
   {
    "duration": 4940,
    "start_time": "2021-10-27T07:40:38.519Z"
   },
   {
    "duration": 3252,
    "start_time": "2021-10-27T07:42:07.311Z"
   },
   {
    "duration": 326,
    "start_time": "2021-10-27T07:42:37.455Z"
   },
   {
    "duration": 332,
    "start_time": "2021-10-27T07:42:45.310Z"
   },
   {
    "duration": 612,
    "start_time": "2021-10-27T07:43:47.125Z"
   },
   {
    "duration": 1440,
    "start_time": "2021-10-27T07:44:00.733Z"
   },
   {
    "duration": 895,
    "start_time": "2021-10-27T07:44:12.836Z"
   },
   {
    "duration": 601,
    "start_time": "2021-10-27T07:44:23.357Z"
   },
   {
    "duration": 16,
    "start_time": "2021-10-27T07:44:40.996Z"
   },
   {
    "duration": 583,
    "start_time": "2021-10-29T06:27:25.827Z"
   },
   {
    "duration": 56,
    "start_time": "2021-10-29T06:27:26.412Z"
   },
   {
    "duration": 20,
    "start_time": "2021-10-29T06:27:26.472Z"
   },
   {
    "duration": 10,
    "start_time": "2021-10-29T06:27:26.493Z"
   },
   {
    "duration": 14,
    "start_time": "2021-10-29T06:27:26.505Z"
   },
   {
    "duration": 30,
    "start_time": "2021-10-29T06:27:26.521Z"
   },
   {
    "duration": 3,
    "start_time": "2021-10-29T06:27:26.554Z"
   },
   {
    "duration": 33,
    "start_time": "2021-10-29T06:27:26.559Z"
   },
   {
    "duration": 16,
    "start_time": "2021-10-29T06:27:26.594Z"
   },
   {
    "duration": 3,
    "start_time": "2021-10-29T06:27:26.612Z"
   },
   {
    "duration": 347,
    "start_time": "2021-10-29T06:27:26.616Z"
   },
   {
    "duration": 13,
    "start_time": "2021-10-29T06:27:26.965Z"
   },
   {
    "duration": 15,
    "start_time": "2021-10-29T06:27:26.979Z"
   },
   {
    "duration": 15,
    "start_time": "2021-10-29T06:27:26.995Z"
   },
   {
    "duration": 10,
    "start_time": "2021-10-29T06:27:27.011Z"
   },
   {
    "duration": 15,
    "start_time": "2021-10-29T06:27:27.022Z"
   },
   {
    "duration": 10,
    "start_time": "2021-10-29T06:27:27.039Z"
   },
   {
    "duration": 4,
    "start_time": "2021-10-29T06:27:27.051Z"
   },
   {
    "duration": 362,
    "start_time": "2021-10-29T06:27:27.057Z"
   },
   {
    "duration": 3,
    "start_time": "2021-10-29T06:27:27.421Z"
   },
   {
    "duration": 106,
    "start_time": "2021-10-29T06:27:27.425Z"
   },
   {
    "duration": 7,
    "start_time": "2021-10-29T06:27:27.534Z"
   },
   {
    "duration": 50,
    "start_time": "2021-10-29T06:27:27.543Z"
   },
   {
    "duration": 20,
    "start_time": "2021-10-29T06:27:27.594Z"
   },
   {
    "duration": 5,
    "start_time": "2021-10-29T06:27:27.615Z"
   },
   {
    "duration": 4,
    "start_time": "2021-10-29T06:27:27.622Z"
   },
   {
    "duration": 6,
    "start_time": "2021-10-29T06:27:27.627Z"
   },
   {
    "duration": 5,
    "start_time": "2021-10-29T06:27:27.634Z"
   },
   {
    "duration": 54,
    "start_time": "2021-10-29T06:27:27.640Z"
   },
   {
    "duration": 4,
    "start_time": "2021-10-29T06:27:27.695Z"
   },
   {
    "duration": 9,
    "start_time": "2021-10-29T06:27:27.700Z"
   },
   {
    "duration": 4,
    "start_time": "2021-10-29T06:27:27.710Z"
   },
   {
    "duration": 8,
    "start_time": "2021-10-29T06:27:27.715Z"
   },
   {
    "duration": 6,
    "start_time": "2021-10-29T06:27:27.724Z"
   },
   {
    "duration": 6,
    "start_time": "2021-10-29T06:27:27.731Z"
   },
   {
    "duration": 12,
    "start_time": "2021-10-29T06:27:27.738Z"
   },
   {
    "duration": 52,
    "start_time": "2021-10-29T06:27:27.752Z"
   },
   {
    "duration": 24,
    "start_time": "2021-10-29T06:27:27.806Z"
   },
   {
    "duration": 8,
    "start_time": "2021-10-29T06:27:27.831Z"
   },
   {
    "duration": 2,
    "start_time": "2021-10-29T06:27:27.841Z"
   },
   {
    "duration": 3315,
    "start_time": "2021-10-29T06:27:27.845Z"
   },
   {
    "duration": 2,
    "start_time": "2021-10-29T06:27:31.162Z"
   },
   {
    "duration": 26,
    "start_time": "2021-10-29T06:27:31.166Z"
   },
   {
    "duration": 3,
    "start_time": "2021-10-29T06:27:31.194Z"
   },
   {
    "duration": 6,
    "start_time": "2021-10-29T06:27:31.199Z"
   },
   {
    "duration": 6,
    "start_time": "2021-10-29T06:27:31.207Z"
   },
   {
    "duration": 5,
    "start_time": "2021-10-29T06:27:31.215Z"
   },
   {
    "duration": 15,
    "start_time": "2021-10-29T06:27:31.221Z"
   },
   {
    "duration": 4,
    "start_time": "2021-10-29T06:27:31.237Z"
   },
   {
    "duration": 24,
    "start_time": "2021-10-29T06:27:31.242Z"
   },
   {
    "duration": 4,
    "start_time": "2021-10-29T06:27:31.291Z"
   },
   {
    "duration": 7,
    "start_time": "2021-10-29T06:27:31.296Z"
   },
   {
    "duration": 17,
    "start_time": "2021-10-29T06:27:31.305Z"
   },
   {
    "duration": 21,
    "start_time": "2021-10-29T06:27:31.323Z"
   },
   {
    "duration": 7,
    "start_time": "2021-10-29T06:27:31.346Z"
   },
   {
    "duration": 15,
    "start_time": "2021-10-29T06:27:31.354Z"
   },
   {
    "duration": 28,
    "start_time": "2021-10-29T06:27:31.371Z"
   },
   {
    "duration": 13,
    "start_time": "2021-10-29T06:27:31.401Z"
   },
   {
    "duration": 22,
    "start_time": "2021-10-29T06:28:40.388Z"
   },
   {
    "duration": 235,
    "start_time": "2021-10-29T06:31:51.465Z"
   },
   {
    "duration": 15,
    "start_time": "2021-10-29T06:32:02.685Z"
   },
   {
    "duration": 556,
    "start_time": "2021-10-29T06:44:15.842Z"
   },
   {
    "duration": 4,
    "start_time": "2021-10-29T06:44:30.747Z"
   },
   {
    "duration": 3,
    "start_time": "2021-10-29T06:45:29.546Z"
   },
   {
    "duration": 5,
    "start_time": "2021-10-29T06:45:34.977Z"
   },
   {
    "duration": 11,
    "start_time": "2021-10-29T06:46:14.457Z"
   },
   {
    "duration": 5,
    "start_time": "2021-10-29T06:46:22.656Z"
   },
   {
    "duration": 4,
    "start_time": "2021-10-29T06:46:33.713Z"
   },
   {
    "duration": 17,
    "start_time": "2021-10-29T06:46:37.673Z"
   },
   {
    "duration": 18,
    "start_time": "2021-10-29T06:46:49.848Z"
   },
   {
    "duration": 194,
    "start_time": "2021-10-29T06:54:09.523Z"
   },
   {
    "duration": 17,
    "start_time": "2021-10-29T06:57:09.313Z"
   },
   {
    "duration": 38,
    "start_time": "2021-10-29T06:57:18.080Z"
   },
   {
    "duration": 10,
    "start_time": "2021-10-29T06:58:17.680Z"
   },
   {
    "duration": 330,
    "start_time": "2022-02-09T20:45:49.446Z"
   },
   {
    "duration": 746,
    "start_time": "2022-02-09T20:45:55.599Z"
   },
   {
    "duration": 75,
    "start_time": "2022-02-09T20:45:56.348Z"
   },
   {
    "duration": 29,
    "start_time": "2022-02-09T20:45:56.430Z"
   },
   {
    "duration": 19,
    "start_time": "2022-02-09T20:45:56.462Z"
   },
   {
    "duration": 59,
    "start_time": "2022-02-09T20:45:56.484Z"
   },
   {
    "duration": 49,
    "start_time": "2022-02-09T20:45:56.546Z"
   },
   {
    "duration": 8,
    "start_time": "2022-02-09T20:45:56.625Z"
   },
   {
    "duration": 5,
    "start_time": "2022-02-09T20:45:56.637Z"
   },
   {
    "duration": 22,
    "start_time": "2022-02-09T20:45:56.645Z"
   },
   {
    "duration": 5,
    "start_time": "2022-02-09T20:45:56.669Z"
   },
   {
    "duration": 651,
    "start_time": "2022-02-09T20:45:56.676Z"
   },
   {
    "duration": 21,
    "start_time": "2022-02-09T20:45:57.330Z"
   },
   {
    "duration": 12,
    "start_time": "2022-02-09T20:45:57.354Z"
   },
   {
    "duration": 58,
    "start_time": "2022-02-09T20:45:57.369Z"
   },
   {
    "duration": 16,
    "start_time": "2022-02-09T20:45:57.430Z"
   },
   {
    "duration": 21,
    "start_time": "2022-02-09T20:45:57.449Z"
   },
   {
    "duration": 51,
    "start_time": "2022-02-09T20:45:57.473Z"
   },
   {
    "duration": 4,
    "start_time": "2022-02-09T20:45:57.526Z"
   },
   {
    "duration": 612,
    "start_time": "2022-02-09T20:45:57.532Z"
   },
   {
    "duration": 5,
    "start_time": "2022-02-09T20:45:58.146Z"
   },
   {
    "duration": 181,
    "start_time": "2022-02-09T20:45:58.154Z"
   },
   {
    "duration": 9,
    "start_time": "2022-02-09T20:45:58.337Z"
   },
   {
    "duration": 81,
    "start_time": "2022-02-09T20:45:58.349Z"
   },
   {
    "duration": 26,
    "start_time": "2022-02-09T20:45:58.432Z"
   },
   {
    "duration": 7,
    "start_time": "2022-02-09T20:45:58.460Z"
   },
   {
    "duration": 6,
    "start_time": "2022-02-09T20:45:58.474Z"
   },
   {
    "duration": 41,
    "start_time": "2022-02-09T20:45:58.483Z"
   },
   {
    "duration": 5,
    "start_time": "2022-02-09T20:45:58.526Z"
   },
   {
    "duration": 42,
    "start_time": "2022-02-09T20:45:58.533Z"
   },
   {
    "duration": 6,
    "start_time": "2022-02-09T20:45:58.577Z"
   },
   {
    "duration": 42,
    "start_time": "2022-02-09T20:45:58.586Z"
   },
   {
    "duration": 4,
    "start_time": "2022-02-09T20:45:58.630Z"
   },
   {
    "duration": 10,
    "start_time": "2022-02-09T20:45:58.637Z"
   },
   {
    "duration": 14,
    "start_time": "2022-02-09T20:45:58.649Z"
   },
   {
    "duration": 11,
    "start_time": "2022-02-09T20:45:58.666Z"
   },
   {
    "duration": 50,
    "start_time": "2022-02-09T20:45:58.680Z"
   },
   {
    "duration": 25,
    "start_time": "2022-02-09T20:45:58.733Z"
   },
   {
    "duration": 68,
    "start_time": "2022-02-09T20:45:58.760Z"
   },
   {
    "duration": 10,
    "start_time": "2022-02-09T20:45:58.831Z"
   },
   {
    "duration": 4,
    "start_time": "2022-02-09T20:45:58.844Z"
   },
   {
    "duration": 4683,
    "start_time": "2022-02-09T20:45:58.850Z"
   },
   {
    "duration": 14,
    "start_time": "2022-02-09T20:46:03.536Z"
   },
   {
    "duration": 28,
    "start_time": "2022-02-09T20:46:03.553Z"
   },
   {
    "duration": 88,
    "start_time": "2022-02-09T20:46:03.584Z"
   },
   {
    "duration": 4,
    "start_time": "2022-02-09T20:46:03.675Z"
   },
   {
    "duration": 19,
    "start_time": "2022-02-09T20:46:03.681Z"
   },
   {
    "duration": 24,
    "start_time": "2022-02-09T20:46:03.702Z"
   },
   {
    "duration": 6,
    "start_time": "2022-02-09T20:46:03.728Z"
   },
   {
    "duration": 8,
    "start_time": "2022-02-09T20:46:03.736Z"
   },
   {
    "duration": 5,
    "start_time": "2022-02-09T20:46:03.746Z"
   },
   {
    "duration": 23,
    "start_time": "2022-02-09T20:46:03.753Z"
   },
   {
    "duration": 46,
    "start_time": "2022-02-09T20:46:03.779Z"
   },
   {
    "duration": 38,
    "start_time": "2022-02-09T20:46:03.827Z"
   },
   {
    "duration": 5,
    "start_time": "2022-02-09T20:46:03.867Z"
   },
   {
    "duration": 4,
    "start_time": "2022-02-09T20:46:03.874Z"
   },
   {
    "duration": 46,
    "start_time": "2022-02-09T20:46:03.880Z"
   },
   {
    "duration": 30,
    "start_time": "2022-02-09T20:46:03.928Z"
   },
   {
    "duration": 3,
    "start_time": "2022-02-09T20:46:03.960Z"
   },
   {
    "duration": 13,
    "start_time": "2022-02-09T20:46:03.965Z"
   },
   {
    "duration": 52,
    "start_time": "2022-02-09T20:46:03.981Z"
   },
   {
    "duration": 20,
    "start_time": "2022-02-09T20:46:04.035Z"
   },
   {
    "duration": 20,
    "start_time": "2022-02-09T20:46:04.057Z"
   },
   {
    "duration": 23,
    "start_time": "2022-02-09T20:46:30.769Z"
   }
  ],
  "kernelspec": {
   "display_name": "Python 3 (ipykernel)",
   "language": "python",
   "name": "python3"
  },
  "language_info": {
   "codemirror_mode": {
    "name": "ipython",
    "version": 3
   },
   "file_extension": ".py",
   "mimetype": "text/x-python",
   "name": "python",
   "nbconvert_exporter": "python",
   "pygments_lexer": "ipython3",
   "version": "3.9.5"
  },
  "toc": {
   "base_numbering": 1,
   "nav_menu": {},
   "number_sections": true,
   "sideBar": true,
   "skip_h1_title": true,
   "title_cell": "Table of Contents",
   "title_sidebar": "Contents",
   "toc_cell": false,
   "toc_position": {
    "height": "calc(100% - 180px)",
    "left": "10px",
    "top": "150px",
    "width": "228.6px"
   },
   "toc_section_display": true,
   "toc_window_display": true
  }
 },
 "nbformat": 4,
 "nbformat_minor": 2
}
